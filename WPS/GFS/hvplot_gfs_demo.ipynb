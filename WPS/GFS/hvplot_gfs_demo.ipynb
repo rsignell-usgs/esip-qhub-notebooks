{
 "cells": [
  {
   "cell_type": "markdown",
   "metadata": {},
   "source": [
    "# Explore the Global Forecast System (GFS) with hvplot \n",
    "[Hvplot](https://hvplot.holoviz.org) is part of the [HoloViz tool suite](holoviz.org) and has awesome capabilities for visualizing Xarray and Pandas data. Here we access the GFS weather forecast data from the Unidata THREDDS Server and visualize it in just a few lines.  We also deal with a couple of problems that people commonly encounter! "
   ]
  },
  {
   "cell_type": "code",
   "execution_count": null,
   "metadata": {},
   "outputs": [],
   "source": [
    "import xarray as xr\n",
    "import hvplot.xarray"
   ]
  },
  {
   "cell_type": "code",
   "execution_count": null,
   "metadata": {},
   "outputs": [],
   "source": [
    "url = 'https://thredds-jumbo.unidata.ucar.edu/thredds/dodsC/grib/NCEP/GFS/Global_0p25deg/Best'"
   ]
  },
  {
   "cell_type": "code",
   "execution_count": null,
   "metadata": {},
   "outputs": [],
   "source": [
    "ds = xr.open_dataset(url)"
   ]
  },
  {
   "cell_type": "markdown",
   "metadata": {},
   "source": [
    "hvplot likes longitudes in the range [-180,180], not [0, 360]"
   ]
  },
  {
   "cell_type": "code",
   "execution_count": null,
   "metadata": {},
   "outputs": [],
   "source": [
    "ds = ds.assign_coords(lon=(((ds.lon + 180) % 360) - 180)).sortby('lon')"
   ]
  },
  {
   "cell_type": "code",
   "execution_count": null,
   "metadata": {},
   "outputs": [],
   "source": [
    "ds['u-component_of_wind_height_above_ground']"
   ]
  },
  {
   "cell_type": "markdown",
   "metadata": {},
   "source": [
    "#### Visualize the GFS in the CONUS region in geographic coordinates"
   ]
  },
  {
   "cell_type": "markdown",
   "metadata": {},
   "source": [
    "We want to select the CONUS, but we see from the previous cell that latitude values are decreasing, so we slice 50 to 20 instead of 20 to 50. "
   ]
  },
  {
   "cell_type": "code",
   "execution_count": null,
   "metadata": {},
   "outputs": [],
   "source": [
    "ds_conus = ds.sel(lon=slice(-130,-60), lat=slice(50,20))"
   ]
  },
  {
   "cell_type": "markdown",
   "metadata": {},
   "source": [
    "We need to tell hvplot which coordinates to use as axes, and `geo=True` says that these are geographic (lon,lat) coordinates"
   ]
  },
  {
   "cell_type": "code",
   "execution_count": null,
   "metadata": {},
   "outputs": [],
   "source": [
    "var = 'u-component_of_wind_height_above_ground'"
   ]
  },
  {
   "cell_type": "code",
   "execution_count": null,
   "metadata": {},
   "outputs": [],
   "source": [
    "forecast = ds_conus[var].hvplot(x='lon', y='lat', geo=True, coastline=True, rasterize=True)"
   ]
  },
  {
   "cell_type": "code",
   "execution_count": null,
   "metadata": {},
   "outputs": [],
   "source": [
    "forecast"
   ]
  },
  {
   "cell_type": "markdown",
   "metadata": {},
   "source": [
    "Add State outlines"
   ]
  },
  {
   "cell_type": "code",
   "execution_count": null,
   "metadata": {},
   "outputs": [],
   "source": [
    "import geoviews.feature as gvf\n",
    "from geoviews import opts"
   ]
  },
  {
   "cell_type": "code",
   "execution_count": null,
   "metadata": {},
   "outputs": [],
   "source": [
    "forecast * gvf.states(fill_alpha=0)"
   ]
  },
  {
   "cell_type": "markdown",
   "metadata": {},
   "source": [
    "#### Visualize the GFS globally using an Orthographic projection and a Panel layout"
   ]
  },
  {
   "cell_type": "code",
   "execution_count": null,
   "metadata": {},
   "outputs": [],
   "source": [
    "import panel as pn\n",
    "import cartopy.crs as ccrs"
   ]
  },
  {
   "cell_type": "code",
   "execution_count": null,
   "metadata": {},
   "outputs": [],
   "source": [
    "crs = ccrs.Orthographic(central_longitude=-70, central_latitude=30)"
   ]
  },
  {
   "cell_type": "code",
   "execution_count": null,
   "metadata": {},
   "outputs": [],
   "source": [
    "import datetime"
   ]
  },
  {
   "cell_type": "code",
   "execution_count": null,
   "metadata": {},
   "outputs": [],
   "source": [
    "now = datetime.datetime.utcnow()"
   ]
  },
  {
   "cell_type": "markdown",
   "metadata": {},
   "source": [
    "Select from now to furthest forecast, and specify a selection widget for time values"
   ]
  },
  {
   "cell_type": "code",
   "execution_count": null,
   "metadata": {},
   "outputs": [],
   "source": [
    "viz = ds[var].sel(time=slice(now,None))[:,:].hvplot(x='lon', y='lat', \n",
    "                    cmap='rainbow', rasterize=True, projection=crs, coastline=True,\n",
    "                    title='GFS Explorer', hover=False)\n",
    "viz = pn.panel(viz, widgets={'time': pn.widgets.Select} )\n",
    "pn.Column(viz).servable('GFS Explorer')"
   ]
  },
  {
   "cell_type": "markdown",
   "metadata": {},
   "source": [
    "Specify an animation widget (\"scrubber\") for time values"
   ]
  },
  {
   "cell_type": "code",
   "execution_count": null,
   "metadata": {},
   "outputs": [],
   "source": [
    "viz = ds[var].sel(time=slice(now,None))[:,:].hvplot(x='lon', y='lat', \n",
    "                    cmap='rainbow', rasterize=True, projection=crs, coastline=True, hover=False,\n",
    "                    widget_type='scrubber', title='GFS Explorer', widget_location='bottom')\n",
    "pn.Column(viz).servable('GFS Explorer')"
   ]
  },
  {
   "cell_type": "markdown",
   "metadata": {},
   "source": [
    "Display the time value closest to current time (time=now)"
   ]
  },
  {
   "cell_type": "code",
   "execution_count": null,
   "metadata": {},
   "outputs": [],
   "source": [
    "viz = ds[var].sel(time=now, method='nearest')[:,:].hvplot(x='lon', y='lat',                             \n",
    "                    cmap='rainbow', rasterize=True, projection=crs, coastline=True,\n",
    "                    title='GFS Explorer', hover=False)\n",
    "viz = pn.panel(viz, widgets={'time': pn.widgets.Select} )\n",
    "pn.Column(viz).servable('GFS Explorer')"
   ]
  }
 ],
 "metadata": {
  "kernelspec": {
   "display_name": "Python [conda env:pangeo]",
   "language": "python",
   "name": "conda-env-pangeo-py"
  },
  "language_info": {
   "codemirror_mode": {
    "name": "ipython",
    "version": 3
   },
   "file_extension": ".py",
   "mimetype": "text/x-python",
   "name": "python",
   "nbconvert_exporter": "python",
   "pygments_lexer": "ipython3",
   "version": "3.8.6"
  }
 },
 "nbformat": 4,
 "nbformat_minor": 4
}
