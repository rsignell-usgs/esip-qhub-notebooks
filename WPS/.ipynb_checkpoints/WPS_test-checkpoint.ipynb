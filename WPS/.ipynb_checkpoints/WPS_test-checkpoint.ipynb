{
 "cells": [
  {
   "cell_type": "code",
   "execution_count": null,
   "metadata": {},
   "outputs": [],
   "source": [
    "# import owslib wps part dealing with WebProcessingServices\n",
    "from owslib.wps import WebProcessingService"
   ]
  },
  {
   "cell_type": "code",
   "execution_count": null,
   "metadata": {},
   "outputs": [],
   "source": [
    "# define the URL of the WPS\n",
    "#url = 'http://wps.openearth.nl/wps'\n",
    "url = 'http://wps.openearth.nl/wps'\n",
    "url = 'http://oa-gis.csiro.au/wps'\n",
    "# define the WPS\n",
    "wps = WebProcessingService(url, verbose=False, skip_caps=True)\n",
    "wps.getcapabilities()\n",
    "wps.identification.title"
   ]
  },
  {
   "cell_type": "code",
   "execution_count": null,
   "metadata": {},
   "outputs": [],
   "source": [
    "for process in wps.processes:\n",
    "    print(process.identifier, process.title)"
   ]
  },
  {
   "cell_type": "markdown",
   "metadata": {},
   "source": [
    "#### Describe process"
   ]
  },
  {
   "cell_type": "code",
   "execution_count": null,
   "metadata": {},
   "outputs": [],
   "source": [
    "process = wps.describeprocess('extract_data_atPoint')\n",
    "process.abstract\n",
    "for input in process.dataInputs:\n",
    "    print(input.title, input.identifier, input.dataType, input.defaultValue)"
   ]
  },
  {
   "cell_type": "code",
   "execution_count": null,
   "metadata": {},
   "outputs": [],
   "source": [
    "process.dataInputs[0].defaultValue.schema"
   ]
  },
  {
   "cell_type": "code",
   "execution_count": null,
   "metadata": {},
   "outputs": [],
   "source": [
    "for input in process.dataInputs:\n",
    "    print(input.defaultValue.schema.format())"
   ]
  },
  {
   "cell_type": "code",
   "execution_count": null,
   "metadata": {},
   "outputs": [],
   "source": [
    "from owslib.wps import ComplexDataInput"
   ]
  },
  {
   "cell_type": "code",
   "execution_count": null,
   "metadata": {},
   "outputs": [],
   "source": [
    "# define inputs, which is an array with several objects of several dataTypes (as listed below)\n",
    "inputs = [('LonLatPosition', ComplexDataInput('131.03000, -25.30000')),\n",
    "          ('starttime',ComplexDataInput('2020-10-10T12:00:00-00:00')),\n",
    "          ('stoptime',ComplexDataInput('2020-10-17T12:00:00-00:00'))\n",
    "         ]"
   ]
  },
  {
   "cell_type": "code",
   "execution_count": null,
   "metadata": {},
   "outputs": [],
   "source": [
    "execution = wps.execute(process.identifier,inputs)   "
   ]
  },
  {
   "cell_type": "code",
   "execution_count": null,
   "metadata": {},
   "outputs": [],
   "source": [
    "for output in process.processOutputs:\n",
    "    print(output.title, output.identifier, output.dataType, output.defaultValue)   "
   ]
  },
  {
   "cell_type": "code",
   "execution_count": null,
   "metadata": {},
   "outputs": [],
   "source": [
    "for output in execution.processOutputs:\n",
    "    print(output.identifier)\n",
    "    print(output.data)\n",
    " \n",
    "# this will yield data for tide for 1 location for the given datetime range"
   ]
  },
  {
   "cell_type": "raw",
   "metadata": {},
   "source": [
    "Request URL: https://nationalmap.gov.au/proxy/_0s/http://oa-gis.csiro.au/wps?service=WPS&request=Execute\n",
    "Request Method: POST\n",
    "Status Code: 200 \n",
    "Remote Address: 13.32.168.94:443\n",
    "Referrer Policy: no-referrer-when-downgrade\n",
    "accept-ranges: bytes\n",
    "access-control-allow-headers: Origin, X-Requested-With, Content-Type, Accept\n",
    "access-control-allow-origin: *\n",
    "age: 0\n",
    "cache-control: public,max-age=0\n",
    "content-encoding: gzip\n",
    "content-length: 642\n",
    "content-type: text/xml; charset=utf-8\n",
    "date: Mon, 15 Mar 2021 19:18:43 GMT\n",
    "server: Apache/2.4.29 (Ubuntu)\n",
    "vary: Accept-Encoding\n",
    "via: 1.1 varnish (Varnish/5.2), 1.1 f870647c4e40dd9930d50e07df150c42.cloudfront.net (CloudFront)\n",
    "x-amz-cf-id: h06ioidMqH5Pjimedkt5VoML23oOu2zIP7X6IJP0HSji2fyk5XEvyg==\n",
    "x-amz-cf-pop: LHR62-C5\n",
    "x-cache: Miss from cloudfront\n",
    "x-powered-by: Express\n",
    "x-varnish: 212895058\n",
    ":authority: nationalmap.gov.au\n",
    ":method: POST\n",
    ":path: /proxy/_0s/http://oa-gis.csiro.au/wps?service=WPS&request=Execute\n",
    ":scheme: https\n",
    "accept: */*\n",
    "accept-encoding: gzip, deflate, br\n",
    "accept-language: en-US,en;q=0.9\n",
    "content-length: 1630\n",
    "content-type: text/plain;charset=UTF-8\n",
    "cookie: _ga=GA1.3.1622477404.1615813708; _gid=GA1.3.1348149984.1615813708\n",
    "origin: https://nationalmap.gov.au\n",
    "referer: https://nationalmap.gov.au/\n",
    "sec-fetch-dest: empty\n",
    "sec-fetch-mode: cors\n",
    "sec-fetch-site: same-origin\n",
    "user-agent: Mozilla/5.0 (Windows NT 10.0; Win64; x64) AppleWebKit/537.36 (KHTML, like Gecko) Chrome/88.0.4324.192 Safari/537.36 OPR/74.0.3911.218\n",
    "service: WPS\n",
    "request: Execute\n",
    "<?xml version=\"1.0\" encoding=\"UTF-8\"?>\n",
    "<wps:Execute version=\"1.0.0\" service=\"WPS\" xmlns:xsi=\"http://www.w3.org/2001/XMLSchema-instance\" xmlns=\"http://www.opengis.net/wps/1.0.0\" xmlns:wfs=\"http://www.opengis.net/wfs\" xmlns:wps=\"http://www.opengis.net/wps/1.0.0\" xmlns:ows=\"http://www.opengis.net/ows/1.1\" xmlns:gml=\"http://www.opengis.net/gml\" xmlns:ogc=\"http://www.opengis.net/ogc\" xmlns:wcs=\"http://www.opengis.net/wcs/1.1.1\" xmlns:xlink=\"http://www.w3.org/1999/xlink\" xsi:schemaLocation=\"http://www.opengis.net/wps/1.0.0 http://schemas.opengis.net/wps/1.0.0/wpsAll.xsd\">\n",
    "  <ows:Identifier>extract_data_atPoint</ows:Identifier>\n",
    "  <wps:DataInputs>\n",
    "    <wps:Input>\n",
    "      <ows:Identifier>LonLatPosition</ows:Identifier>\n",
    "      <wps:Data>\n",
    "        <wps:ComplexData>{\"type\":\"FeatureCollection\",\"features\":[{\"type\":\"Feature\",\"geometry\":{\"type\":\"Point\",\"coordinates\":[131.03,-25.3,0]}}]}</wps:ComplexData>\n",
    "      </wps:Data>\n",
    "    </wps:Input>\n",
    "    <wps:Input>\n",
    "      <ows:Identifier>starttime</ows:Identifier>\n",
    "      <wps:Data>\n",
    "        <wps:ComplexData>{\"type\":\"object\",\"properties\":{\"timestamp\":{\"type\":\"string\",\"format\":\"date-time\",\"date-time\":\"2020-12-15T00:00\"}}}</wps:ComplexData>\n",
    "      </wps:Data>\n",
    "    </wps:Input>\n",
    "    <wps:Input>\n",
    "      <ows:Identifier>stoptime</ows:Identifier>\n",
    "      <wps:Data>\n",
    "        <wps:ComplexData>{\"type\":\"object\",\"properties\":{\"timestamp\":{\"type\":\"string\",\"format\":\"date-time\",\"date-time\":\"2020-12-20T00:00\"}}}</wps:ComplexData>\n",
    "      </wps:Data>\n",
    "    </wps:Input>\n",
    "  </wps:DataInputs>\n",
    "  <wps:ResponseForm>\n",
    "    <wps:ResponseDocument storeExecuteResponse=\"true\" status=\"true\"/>\n",
    "  </wps:ResponseForm>\n",
    "</wps:Execute>"
   ]
  }
 ],
 "metadata": {
  "kernelspec": {
   "display_name": "Python [conda env:pangeo]",
   "language": "python",
   "name": "conda-env-pangeo-py"
  },
  "language_info": {
   "codemirror_mode": {
    "name": "ipython",
    "version": 3
   },
   "file_extension": ".py",
   "mimetype": "text/x-python",
   "name": "python",
   "nbconvert_exporter": "python",
   "pygments_lexer": "ipython3",
   "version": "3.8.8"
  }
 },
 "nbformat": 4,
 "nbformat_minor": 4
}
