{
 "cells": [
  {
   "cell_type": "markdown",
   "id": "bc18544f-6eed-4f38-86d8-2fc40cf66493",
   "metadata": {},
   "source": [
    "# Convert NWB Zarr to NetCDF\n",
    "Convert the National Water Balance Zarr file to NetCDF, specifying the encoding and adding some metadata"
   ]
  },
  {
   "cell_type": "code",
   "execution_count": null,
   "id": "5fe9195e-3585-4b95-9a7c-b571f8c6d940",
   "metadata": {},
   "outputs": [],
   "source": [
    "import xarray as xr\n",
    "import numpy as np\n",
    "import hvplot.xarray\n",
    "import fsspec"
   ]
  },
  {
   "cell_type": "code",
   "execution_count": null,
   "id": "7613055a-5279-4ea8-add2-9cf6888c17b5",
   "metadata": {},
   "outputs": [],
   "source": [
    "#skip to netcdf creation\n",
    "cluster.scale(1)"
   ]
  },
  {
   "cell_type": "code",
   "execution_count": null,
   "id": "9cf6bfdc-65e3-4d48-bc94-dc8f32355ecb",
   "metadata": {},
   "outputs": [],
   "source": [
    "# for computing scale_factor and add_offset\n",
    "cluster.scale(30)"
   ]
  },
  {
   "cell_type": "code",
   "execution_count": null,
   "id": "a8d30ee5-d22a-4725-83cb-0dd253bb1cac",
   "metadata": {},
   "outputs": [],
   "source": [
    "from dask.distributed import Client\n",
    "client = Client(n_workers=1)"
   ]
  },
  {
   "cell_type": "code",
   "execution_count": null,
   "id": "412e73bc-ec1a-4405-bda2-cf794ae57617",
   "metadata": {},
   "outputs": [],
   "source": [
    "cluster"
   ]
  },
  {
   "cell_type": "code",
   "execution_count": null,
   "id": "207ce88d-51f3-4a2f-8b4d-65b1300e3bb4",
   "metadata": {},
   "outputs": [],
   "source": [
    "client"
   ]
  },
  {
   "cell_type": "code",
   "execution_count": null,
   "id": "d75251ee-b122-4383-bf85-cea1ee1cf711",
   "metadata": {},
   "outputs": [],
   "source": [
    "fs = fsspec.filesystem('s3', profile='esip-qhub')"
   ]
  },
  {
   "cell_type": "code",
   "execution_count": null,
   "id": "8fdaf9e7-bf1d-4ed6-b473-ed175e0a6a57",
   "metadata": {},
   "outputs": [],
   "source": [
    "#nc_out = fs.open('s3://esip-qhub/usgs/nbm.nc',mode='w')\n",
    "nc_out = 'nbm.nc'"
   ]
  },
  {
   "cell_type": "code",
   "execution_count": null,
   "id": "390b6aa3-1d98-4c9a-b763-dbed978b3d48",
   "metadata": {},
   "outputs": [],
   "source": [
    "mapper = fs.get_mapper('s3:///esip-qhub/usgs/nbm.zarr')"
   ]
  },
  {
   "cell_type": "code",
   "execution_count": null,
   "id": "7c027d52-a3cc-4c69-a496-25f6fbceff38",
   "metadata": {},
   "outputs": [],
   "source": [
    "ds = xr.open_dataset(mapper, engine='zarr', chunks={})"
   ]
  },
  {
   "cell_type": "markdown",
   "id": "e8643274-4900-4969-b5cd-ca341a890ac8",
   "metadata": {},
   "source": [
    "#### Specify input Zarr dataset and NetCDF to be created:"
   ]
  },
  {
   "cell_type": "code",
   "execution_count": null,
   "id": "5d9e7582-9612-45d5-8144-114ea6cdb8d6",
   "metadata": {},
   "outputs": [],
   "source": [
    "#nc_out = '/home/jovyan/WBM/Climgrid_wbm.nc'"
   ]
  },
  {
   "cell_type": "code",
   "execution_count": null,
   "id": "cb2ffc02-2a1a-403e-b3d0-ce0507a84aa6",
   "metadata": {},
   "outputs": [],
   "source": [
    "cluster.scale(30)"
   ]
  },
  {
   "cell_type": "code",
   "execution_count": null,
   "id": "11f605ed-5477-44d8-979c-c4c4c8515da9",
   "metadata": {},
   "outputs": [],
   "source": [
    "def compute_scale_and_offset(da, n=16):\n",
    "    \"\"\"Calculate offset and scale factor for int conversion\n",
    "\n",
    "    Based on Krios101's code above.r\n",
    "    \"\"\"\n",
    "\n",
    "    vmin = float(da.min().values)\n",
    "    vmax = float(da.max().values)\n",
    "\n",
    "    # stretch/compress data to the available packed range\n",
    "    scale_factor = (vmax - vmin) / (2 ** n - 1)\n",
    "\n",
    "    # translate the range to be symmetric about zero\n",
    "    add_offset = vmin + 2 ** (n - 1) * scale_factor\n",
    "\n",
    "    return scale_factor, add_offset"
   ]
  },
  {
   "cell_type": "code",
   "execution_count": null,
   "id": "9dc2218e-3cc2-4d5a-a79b-bbf08e66cdd4",
   "metadata": {},
   "outputs": [],
   "source": [
    "client"
   ]
  },
  {
   "cell_type": "code",
   "execution_count": null,
   "id": "f69025fd-1079-493f-8e62-3b0a5840cc6f",
   "metadata": {},
   "outputs": [],
   "source": [
    "%%time\n",
    "scale_factor = {}\n",
    "add_offset = {}\n",
    "for var in ds.data_vars:    \n",
    "    scale_factor[var], add_offset[var] = compute_scale_and_offset(ds[var])"
   ]
  },
  {
   "cell_type": "markdown",
   "id": "ebacf2bf-96a2-4bbc-93f8-5be8cc65fb22",
   "metadata": {},
   "source": [
    "#### Specify variable encoding\n",
    "Here we specify compression and other encoding to match the zarr file"
   ]
  },
  {
   "cell_type": "markdown",
   "id": "4f4790a8-8882-4bff-859f-04066aed7fd0",
   "metadata": {},
   "source": [
    "Take a look at a zarr variable encoding:"
   ]
  },
  {
   "cell_type": "code",
   "execution_count": null,
   "id": "07394073-32ce-4dcf-a663-2ad577563a97",
   "metadata": {},
   "outputs": [],
   "source": [
    "ds.tmean.encoding"
   ]
  },
  {
   "cell_type": "markdown",
   "id": "4be37ac9-b702-4d8e-9b4d-f69f58351696",
   "metadata": {},
   "source": [
    "Specify the encoding for all NetCDF variables, using zlib compression and same chunk sizes as the Zarr dataset:"
   ]
  },
  {
   "cell_type": "code",
   "execution_count": null,
   "id": "d7536279-2b80-44a4-a3f5-ceee42bda43f",
   "metadata": {},
   "outputs": [],
   "source": [
    "encoding={}\n",
    "for var in ds.variables:\n",
    "    encoding[var] = dict(zlib=True, complevel=5, \n",
    "                         fletcher32=False, shuffle=False,\n",
    "                         chunksizes=ds[var].encoding['chunks'],\n",
    "                        )"
   ]
  },
  {
   "cell_type": "code",
   "execution_count": null,
   "id": "9a1baf78-6dd3-4faa-bbcb-7ad543c2adca",
   "metadata": {},
   "outputs": [],
   "source": [
    "for var in ds.data_vars:\n",
    "    encoding[var]['scale_factor']=scale_factor[var]\n",
    "    encoding[var]['add_offset']=add_offset[var]\n",
    "    encoding[var]['dtype']='int16'\n",
    "    encoding[var]['_FillValue']=-32767"
   ]
  },
  {
   "cell_type": "code",
   "execution_count": null,
   "id": "0a74c6db-72b8-4852-a1ae-4ac115c5484d",
   "metadata": {},
   "outputs": [],
   "source": [
    "encoding"
   ]
  },
  {
   "cell_type": "code",
   "execution_count": null,
   "id": "ea32359a-af78-41e3-b89c-756c47d8e4b5",
   "metadata": {},
   "outputs": [],
   "source": [
    "encoding = {'aet': {'zlib': True,\n",
    "  'complevel': 5,\n",
    "  'fletcher32': False,\n",
    "  'shuffle': False,\n",
    "  'chunksizes': (120, 300, 700),\n",
    "  'scale_factor': 0.0031155336600760804,\n",
    "  'add_offset': 102.089806973373,\n",
    "  'dtype': 'int16',\n",
    "  '_FillValue': -32767},\n",
    " 'lat': {'zlib': True,\n",
    "  'complevel': 5,\n",
    "  'fletcher32': False,\n",
    "  'shuffle': False,\n",
    "  'chunksizes': (596,)},\n",
    " 'lon': {'zlib': True,\n",
    "  'complevel': 5,\n",
    "  'fletcher32': False,\n",
    "  'shuffle': False,\n",
    "  'chunksizes': (1385,)},\n",
    " 'pet': {'zlib': True,\n",
    "  'complevel': 5,\n",
    "  'fletcher32': False,\n",
    "  'shuffle': False,\n",
    "  'chunksizes': (120, 300, 700),\n",
    "  'scale_factor': 0.005908711038247357,\n",
    "  'add_offset': 195.65293728474887,\n",
    "  'dtype': 'int16',\n",
    "  '_FillValue': -32767},\n",
    " 'prcp': {'zlib': True,\n",
    "  'complevel': 5,\n",
    "  'fletcher32': False,\n",
    "  'shuffle': False,\n",
    "  'chunksizes': (120, 300, 700),\n",
    "  'scale_factor': 0.03998992889653429,\n",
    "  'add_offset': 1310.3899900816357,\n",
    "  'dtype': 'int16',\n",
    "  '_FillValue': -32767},\n",
    " 'rain': {'zlib': True,\n",
    "  'complevel': 5,\n",
    "  'fletcher32': False,\n",
    "  'shuffle': False,\n",
    "  'chunksizes': (120, 300, 700),\n",
    "  'scale_factor': 0.021082069174033914,\n",
    "  'add_offset': 690.8172426947433,\n",
    "  'dtype': 'int16',\n",
    "  '_FillValue': -32767},\n",
    " 'runoff': {'zlib': True,\n",
    "  'complevel': 5,\n",
    "  'fletcher32': False,\n",
    "  'shuffle': False,\n",
    "  'chunksizes': (120, 300, 700),\n",
    "  'scale_factor': 0.012947468209377623,\n",
    "  'add_offset': 424.26263828488595,\n",
    "  'dtype': 'int16',\n",
    "  '_FillValue': -32767},\n",
    " 'snow': {'zlib': True,\n",
    "  'complevel': 5,\n",
    "  'fletcher32': False,\n",
    "  'shuffle': False,\n",
    "  'chunksizes': (120, 300, 700),\n",
    "  'scale_factor': 0.03998992889653429,\n",
    "  'add_offset': 1310.3899900816357,\n",
    "  'dtype': 'int16',\n",
    "  '_FillValue': -32767},\n",
    " 'soilstorage': {'zlib': True,\n",
    "  'complevel': 5,\n",
    "  'fletcher32': False,\n",
    "  'shuffle': False,\n",
    "  'chunksizes': (120, 300, 700),\n",
    "  'scale_factor': 0.008209353780422675,\n",
    "  'add_offset': 269.0041046768902,\n",
    "  'dtype': 'int16',\n",
    "  '_FillValue': -32767},\n",
    " 'swe': {'zlib': True,\n",
    "  'complevel': 5,\n",
    "  'fletcher32': False,\n",
    "  'shuffle': False,\n",
    "  'chunksizes': (120, 300, 700),\n",
    "  'scale_factor': 9.748828870069428,\n",
    "  'add_offset': 319449.624414435,\n",
    "  'dtype': 'int16',\n",
    "  '_FillValue': -32767},\n",
    " 'time': {'zlib': True,\n",
    "  'complevel': 5,\n",
    "  'fletcher32': False,\n",
    "  'shuffle': False,\n",
    "  'chunksizes': (1512,)},\n",
    " 'tmean': {'zlib': True,\n",
    "  'complevel': 5,\n",
    "  'fletcher32': False,\n",
    "  'shuffle': False,\n",
    "  'chunksizes': (120, 300, 700),\n",
    "  'scale_factor': 0.0010586709554911914,\n",
    "  'add_offset': 5.85052971694747,\n",
    "  'dtype': 'int16',\n",
    "  '_FillValue': -32767}}"
   ]
  },
  {
   "cell_type": "markdown",
   "id": "fe49deac-b557-41b8-960d-5c9c188e2a09",
   "metadata": {},
   "source": [
    "#### Specify metadata\n",
    "Ideally we would specify at least the Highly Recommended attributes from the [ACDD Conventions](https://wiki.esipfed.org/Attribute_Convention_for_Data_Discovery_1-3).  \n",
    "\n",
    "Standard_names are from the [CF standard_name list](https://cfconventions.org/Data/cf-standard-names/77/build/cf-standard-name-table.html)"
   ]
  },
  {
   "cell_type": "code",
   "execution_count": null,
   "id": "0786af17-6fcf-4635-beb0-bfbd9e385f04",
   "metadata": {},
   "outputs": [],
   "source": [
    "ds.attrs['title'] = 'USGS Water Balance Model for CONUS (1895-2020)'\n",
    "ds.attrs['Conventions'] = \"CF-1.7\"\n",
    "ds.attrs['summary'] = 'These data represent the monthly inputs and outputs from a United States Geological Survey water-balance for the conterminous United States for the period 01-01-1895 to 12-31-2020'\n",
    "ds.attrs['keywords'] = ('water balance model, conterminous United States, temperature, precipitation,'\n",
    "' snow fall, actual evapotranspiration, potential evapotranspiration, snow water equivalent, soil moisture storage,'\n",
    "' surface water runoff')\n",
    "ds.attrs['source'] = 'Climgrid outputs from McCabe and Wolock water balance model,  DOI: https://doi.org/10.1029/2011WR010630'\n",
    "ds.attrs['comment'] = ('Although the monthly water balance model output starts in 1895,'\n",
    "'the output for 1895 through 1899 should be discarded. During this period the model is spinning up and working through'\n",
    "'initial model conditions.')\n",
    "\n",
    "ds.time.attrs['standard_name'] = 'time'\n",
    "encoding['time']['units']=  \"days since 1858-11-17 00:00:00\"\n",
    "\n",
    "ds.lon.attrs['units'] = 'degrees_east'\n",
    "ds.lon.attrs['standard_name'] = 'longitude'\n",
    "\n",
    "ds.lat.attrs['units'] = 'degrees_north'\n",
    "ds.lat.attrs['standard_name'] = 'latitude'\n",
    "\n",
    "ds.tmean.attrs['units'] = 'degC'\n",
    "ds.tmean.attrs['standard_name'] = 'temperature'\n",
    "\n",
    "ds.prcp.attrs['units'] = 'mm'\n",
    "ds.prcp.attrs['standard_name'] = 'precipitation_amount'\n",
    "ds.prcp.attrs['long_name'] = 'total precipitation amount including snow and rain'\n",
    "\n",
    "ds.rain.attrs['units'] = 'mm'\n",
    "ds.rain.attrs['standard_name'] = 'precipitation_amount'\n",
    "ds.rain.attrs['long_name'] = 'total precipitation amount for rain'\n",
    "\n",
    "ds.runoff.attrs['units'] = 'mm'\n",
    "ds.runoff.attrs['standard_name'] = 'runoff_amount'\n",
    "ds.runoff.attrs['long_name'] = 'streamflow per unit area'\n",
    "\n",
    "ds.snow.attrs['units'] = 'mm'\n",
    "ds.snow.attrs['standard_name'] = 'snowfall_amount'\n",
    "\n",
    "ds.swe.attrs['units'] = 'mm'\n",
    "ds.swe.attrs['standard_name'] = 'liquid_water_content_of_surface_snow'\n",
    "ds.swe.attrs['long_name'] = 'liquid water equivalent in the snow pack'\n",
    "\n",
    "ds.soilstorage.attrs['units'] = 'mm'\n",
    "ds.soilstorage.attrs['standard_name'] = 'liquid_water_content_of_soil_layer'\n",
    "\n",
    "ds.aet.attrs['units'] = 'mm'\n",
    "ds.aet.attrs['standard_name'] = 'water_actual_evaporation_amount'\n",
    "ds.aet.attrs['long_name'] = 'actual evapotranspiration'\n",
    "\n",
    "ds.pet.attrs['units'] = 'mm'\n",
    "ds.pet.attrs['standard_name'] = 'water_potential_evaporation_amount'\n",
    "ds.pet.attrs['long_name'] = 'potential evapotranspiration'"
   ]
  },
  {
   "cell_type": "code",
   "execution_count": null,
   "id": "5fe009a7-989d-4f63-a518-e68a0cd10188",
   "metadata": {},
   "outputs": [],
   "source": [
    "cluster.scale(1)"
   ]
  },
  {
   "cell_type": "markdown",
   "id": "2cb304ef-ff96-4c8a-9ee8-8b94604759c4",
   "metadata": {},
   "source": [
    "#### Write the NetCDF file"
   ]
  },
  {
   "cell_type": "code",
   "execution_count": null,
   "id": "3afa5aea-8a22-4ea2-a3ba-a310200598b1",
   "metadata": {},
   "outputs": [],
   "source": [
    "%%time\n",
    "ds.to_netcdf(nc_out, mode='w', encoding=encoding, engine='netcdf4')"
   ]
  },
  {
   "cell_type": "code",
   "execution_count": null,
   "id": "cea59bf0-6fee-4a67-884d-7a4e6b66179b",
   "metadata": {},
   "outputs": [],
   "source": [
    "import dask"
   ]
  },
  {
   "cell_type": "code",
   "execution_count": null,
   "id": "dc6398fd-30dc-4b1a-8b51-be4482d83235",
   "metadata": {},
   "outputs": [],
   "source": [
    "dask.__version__"
   ]
  },
  {
   "cell_type": "code",
   "execution_count": null,
   "id": "131bc1ee-90de-44b6-94f1-5bebf84af508",
   "metadata": {},
   "outputs": [],
   "source": []
  }
 ],
 "metadata": {
  "kernelspec": {
   "display_name": "Python [conda env:pangeo]",
   "language": "python",
   "name": "conda-env-pangeo-py"
  },
  "language_info": {
   "codemirror_mode": {
    "name": "ipython",
    "version": 3
   },
   "file_extension": ".py",
   "mimetype": "text/x-python",
   "name": "python",
   "nbconvert_exporter": "python",
   "pygments_lexer": "ipython3",
   "version": "3.8.10"
  }
 },
 "nbformat": 4,
 "nbformat_minor": 5
}
