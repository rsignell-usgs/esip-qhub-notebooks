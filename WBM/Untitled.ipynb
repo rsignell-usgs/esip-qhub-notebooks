{
 "cells": [
  {
   "cell_type": "code",
   "execution_count": null,
   "id": "1dcbc684-3a80-4a65-a657-deaa5375c81f",
   "metadata": {},
   "outputs": [],
   "source": [
    "import dask.dataframe as dd\n",
    "import fsspec"
   ]
  },
  {
   "cell_type": "code",
   "execution_count": null,
   "id": "543fcbb0-03c5-47c6-aa64-414530b3a838",
   "metadata": {},
   "outputs": [],
   "source": [
    "fs = fsspec.filesystem('s3', profile='esip-qhub')"
   ]
  },
  {
   "cell_type": "code",
   "execution_count": null,
   "id": "eaddca33-c04c-4e44-936f-b3509d330aab",
   "metadata": {},
   "outputs": [],
   "source": [
    "flist = fs.ls('s3://esip-qhub/usgs/mwieczorek/wbm/testing/')\n",
    "flist"
   ]
  },
  {
   "cell_type": "code",
   "execution_count": null,
   "id": "df0b4c9f-61c3-41cd-87f2-e567ef4aad5a",
   "metadata": {},
   "outputs": [],
   "source": [
    "df = dd.read_fwf(fs.open(flist[-1]), compression='gzip')"
   ]
  },
  {
   "cell_type": "code",
   "execution_count": null,
   "id": "b1588ef1-9633-4509-bf05-0c35fd6fa574",
   "metadata": {},
   "outputs": [],
   "source": []
  }
 ],
 "metadata": {
  "kernelspec": {
   "display_name": "Python [conda env:pangeo]",
   "language": "python",
   "name": "conda-env-pangeo-py"
  },
  "language_info": {
   "codemirror_mode": {
    "name": "ipython",
    "version": 3
   },
   "file_extension": ".py",
   "mimetype": "text/x-python",
   "name": "python",
   "nbconvert_exporter": "python",
   "pygments_lexer": "ipython3",
   "version": "3.8.10"
  }
 },
 "nbformat": 4,
 "nbformat_minor": 5
}
