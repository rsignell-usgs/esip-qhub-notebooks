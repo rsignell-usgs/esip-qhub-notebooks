{
 "cells": [
  {
   "cell_type": "markdown",
   "id": "7d243cd6-221e-4cc6-99eb-1c210504beb8",
   "metadata": {},
   "source": [
    "# National Water Balance Model"
   ]
  },
  {
   "cell_type": "code",
   "execution_count": null,
   "id": "dbd24eed-09cd-43be-9b10-57d036a0143f",
   "metadata": {},
   "outputs": [],
   "source": [
    "import xarray as xr\n",
    "import hvplot.xarray\n",
    "import fsspec"
   ]
  },
  {
   "cell_type": "code",
   "execution_count": null,
   "id": "d6f55dc2-6cba-4f87-aba1-0de4452b91fc",
   "metadata": {},
   "outputs": [],
   "source": [
    "fs = fsspec.filesystem('s3', requester_pays=True)"
   ]
  },
  {
   "cell_type": "code",
   "execution_count": null,
   "id": "9b3ffa69-2db7-4360-b406-7a4160545d1d",
   "metadata": {},
   "outputs": [],
   "source": [
    "fs.ls('/esip-qhub/usgs/')"
   ]
  },
  {
   "cell_type": "code",
   "execution_count": null,
   "id": "2dcbca33-9555-4427-b9d0-49c7a8fd6fa9",
   "metadata": {},
   "outputs": [],
   "source": [
    "mapper = fs.get_mapper('s3:///esip-qhub/usgs/nbm.zarr')"
   ]
  },
  {
   "cell_type": "code",
   "execution_count": null,
   "id": "bd5d10c6-b408-4d5e-86e2-3d418c1268b9",
   "metadata": {},
   "outputs": [],
   "source": [
    "ds = xr.open_dataset(mapper, engine='zarr')"
   ]
  },
  {
   "cell_type": "code",
   "execution_count": null,
   "id": "8fcfd7e8-d882-4a21-874e-6d32cbd17d32",
   "metadata": {},
   "outputs": [],
   "source": [
    "ds"
   ]
  },
  {
   "cell_type": "code",
   "execution_count": null,
   "id": "ff7dfeda-07b5-4fbd-84d0-7de3c0d64d90",
   "metadata": {},
   "outputs": [],
   "source": [
    "ds['tmean'].sel(time='2019-07-01').hvplot.quadmesh(x='lon',y='lat', geo=True, tiles='OSM', \n",
    "                                                   cmap='turbo', rasterize=True, alpha=0.7)"
   ]
  },
  {
   "cell_type": "code",
   "execution_count": null,
   "id": "bf262b4c-cd65-47c2-94c7-a9ae265f1afd",
   "metadata": {},
   "outputs": [],
   "source": [
    "ds['tmean'].sel(time='1925-01-01').hvplot.quadmesh(x='lon',y='lat', geo=True, tiles='OSM', \n",
    "                                                   cmap='turbo', rasterize=True, alpha=0.7)"
   ]
  },
  {
   "cell_type": "code",
   "execution_count": null,
   "id": "88a6c811-24a3-491a-b815-5a097bd73490",
   "metadata": {},
   "outputs": [],
   "source": [
    "ds['prcp'].sel(time='1952-10-01').hvplot.quadmesh(x='lon',y='lat', geo=True, tiles='OSM', \n",
    "                                                   cmap='turbo', rasterize=True, alpha=0.7)"
   ]
  },
  {
   "cell_type": "code",
   "execution_count": null,
   "id": "adc8b9da-9f26-419c-b3da-bc932af1a4ed",
   "metadata": {},
   "outputs": [],
   "source": [
    "ds['prcp'].sel(lon=-101.0, lat=33.0, method='nearest').hvplot(x='time', grid=True)"
   ]
  },
  {
   "cell_type": "code",
   "execution_count": null,
   "id": "3e20bfde-0f19-4716-9ee3-34dd3c75457a",
   "metadata": {},
   "outputs": [],
   "source": []
  }
 ],
 "metadata": {
  "kernelspec": {
   "display_name": "Python [conda env:pangeo]",
   "language": "python",
   "name": "conda-env-pangeo-py"
  },
  "language_info": {
   "codemirror_mode": {
    "name": "ipython",
    "version": 3
   },
   "file_extension": ".py",
   "mimetype": "text/x-python",
   "name": "python",
   "nbconvert_exporter": "python",
   "pygments_lexer": "ipython3",
   "version": "3.8.10"
  }
 },
 "nbformat": 4,
 "nbformat_minor": 5
}
