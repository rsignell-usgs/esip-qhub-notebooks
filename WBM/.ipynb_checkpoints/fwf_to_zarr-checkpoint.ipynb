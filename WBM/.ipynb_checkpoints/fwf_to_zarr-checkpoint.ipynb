{
 "cells": [
  {
   "cell_type": "markdown",
   "id": "a3f1d034-9209-46a8-97cf-7ff00e7dbe47",
   "metadata": {},
   "source": [
    "# USGS Water Balance Model: Create cloud-optimized output\n",
    "Data from a 2.5 arc minute CONUS model from 1895 to 2020\n",
    "The provided files were fixed-width ASCII, with year and date in the first two columns, and the data in the rest of the columns. The raster data from each time step is written to a single row, with only the non-missing values written.  There is one file for each variable. There is also a separate CSV file that contains the lon,lat locations for each column of data.\n",
    "\n",
    "To parallelize the workflow, we split the original files (`tmean.monthly.all.gz`, `prcp.monthly.all.gz`) into many smaller text files using `split`, choosing the number of lines to match the desired number of time steps in the chunked output.  \n",
    "```\n",
    "#!/bin/bash\n",
    "for var in prcp tmean\n",
    "do\n",
    "  mkdir $var\n",
    "  zcat $var.monthly.all.gz | split -l 120 --numeric-suffixes - $var/$var\n",
    "done\n",
    "\n",
    "```"
   ]
  },
  {
   "cell_type": "code",
   "execution_count": null,
   "id": "b8674678-b5b4-47b6-a9f1-141809a985a4",
   "metadata": {},
   "outputs": [],
   "source": [
    "import fsspec \n",
    "import xarray as xr\n",
    "import pandas as pd\n",
    "import numpy as np\n",
    "import datetime as dt\n",
    "import hvplot.xarray\n",
    "from dask.distributed import Client\n",
    "import dask"
   ]
  },
  {
   "cell_type": "code",
   "execution_count": null,
   "id": "e225bd1d-a83f-463a-ab29-2fe2f11c7384",
   "metadata": {},
   "outputs": [],
   "source": [
    "fs = fsspec.filesystem('')"
   ]
  },
  {
   "cell_type": "code",
   "execution_count": null,
   "id": "c0f4a577-c91e-474f-8e58-300502977f85",
   "metadata": {},
   "outputs": [],
   "source": [
    "inpath = '/scratch/mike/'\n",
    "outpath = '/scratch/mike/wbm.zarr'"
   ]
  },
  {
   "cell_type": "code",
   "execution_count": null,
   "id": "4e84d628-22c9-42ff-8086-6de0fd307789",
   "metadata": {},
   "outputs": [],
   "source": [
    "fs.ls(inpath)"
   ]
  },
  {
   "cell_type": "markdown",
   "id": "f077ba0d-976e-4344-8228-9094affc2267",
   "metadata": {},
   "source": [
    "#### Read the station locations"
   ]
  },
  {
   "cell_type": "code",
   "execution_count": null,
   "id": "c733c56e-af59-4a8f-8630-956cf96935ee",
   "metadata": {},
   "outputs": [],
   "source": [
    "df = pd.read_csv(f'{inpath}/LatLongs.csv')"
   ]
  },
  {
   "cell_type": "markdown",
   "id": "6dd40e02-4119-444a-9555-0e05a550ecab",
   "metadata": {},
   "source": [
    "Determine the i,j locations on the grid corresponding to the given lon,lat point:"
   ]
  },
  {
   "cell_type": "code",
   "execution_count": null,
   "id": "10af8cd5-5460-4db5-a2b6-b50a0fc3f84c",
   "metadata": {},
   "outputs": [],
   "source": [
    "ii = np.round((df['X']-df['X'].min())/(2.5/60)).astype('int')\n",
    "jj = np.round((df['Y']-df['Y'].min())/(2.5/60)).astype('int')"
   ]
  },
  {
   "cell_type": "code",
   "execution_count": null,
   "id": "8bff8a10-dc2d-41d9-b446-2692247ff344",
   "metadata": {},
   "outputs": [],
   "source": [
    "nx = max(ii)+1\n",
    "ny = max(jj)+1\n",
    "print(nx,ny)"
   ]
  },
  {
   "cell_type": "code",
   "execution_count": null,
   "id": "5dac503c-b185-4721-93eb-0e84ee52cb21",
   "metadata": {},
   "outputs": [],
   "source": [
    "lon = np.linspace(df['X'].min(), df['X'].max(),nx) \n",
    "lat = np.linspace(df['Y'].min(), df['Y'].max(),ny) "
   ]
  },
  {
   "cell_type": "markdown",
   "id": "2678913f-8400-4d95-a3e7-4d89f085bf60",
   "metadata": {},
   "source": [
    "#### Create the empty Zarr dataset to fill with chunks"
   ]
  },
  {
   "cell_type": "code",
   "execution_count": null,
   "id": "f773a81a-9173-471c-a3dc-1233fed36a45",
   "metadata": {},
   "outputs": [],
   "source": [
    "dates = pd.date_range(start='1895-01-01 00:00',end='2021-01-01 00:00', freq='M')"
   ]
  },
  {
   "cell_type": "code",
   "execution_count": null,
   "id": "6cc5c24e-3a27-4fcd-9f85-153ff02ff6c4",
   "metadata": {},
   "outputs": [],
   "source": [
    "nt = len(dates)\n",
    "print(nt)"
   ]
  },
  {
   "cell_type": "code",
   "execution_count": null,
   "id": "cde40261-aeeb-45fe-90f8-f88802bcdde1",
   "metadata": {},
   "outputs": [],
   "source": [
    "chunk_lon = 700\n",
    "chunk_lat = 300\n",
    "chunk_time = 120"
   ]
  },
  {
   "cell_type": "code",
   "execution_count": null,
   "id": "7d7de8bd-e21d-41fd-98d4-911e9426cf57",
   "metadata": {},
   "outputs": [],
   "source": [
    "fs.ls(f'{inpath}/gzfiles/')"
   ]
  },
  {
   "cell_type": "code",
   "execution_count": null,
   "id": "b1c07496-b51f-418c-a7b7-06ce8e3bc966",
   "metadata": {
    "tags": []
   },
   "outputs": [],
   "source": [
    "d = dask.array.zeros((nt,ny,nx), chunks=(chunk_time, chunk_lat, chunk_lon), dtype='float32')"
   ]
  },
  {
   "cell_type": "code",
   "execution_count": null,
   "id": "41de6091-e11d-4304-abbd-f2595b7a15b5",
   "metadata": {},
   "outputs": [],
   "source": [
    "ds0 = xr.Dataset(\n",
    "        {\n",
    "            \"prcp\": (['time', 'lat', 'lon'], d),\n",
    "            \"tmean\": (['time', 'lat', 'lon'], d),\n",
    "            \"aet\": (['time', 'lat', 'lon'], d),\n",
    "            \"pet\": (['time', 'lat', 'lon'], d),\n",
    "            \"rain\": (['time', 'lat', 'lon'], d),\n",
    "            \"runoff\": (['time', 'lat', 'lon'], d),\n",
    "            \"snow\": (['time', 'lat', 'lon'], d),\n",
    "            \"soilstorage\": (['time', 'lat', 'lon'], d),\n",
    "            \"swe\": (['time', 'lat', 'lon'], d)\n",
    "        },\n",
    "        coords={\n",
    "            \"lon\": ([\"lon\"], lon),\n",
    "            \"lat\": ([\"lat\"], lat),\n",
    "            \"time\": dates\n",
    "        },\n",
    "    )"
   ]
  },
  {
   "cell_type": "code",
   "execution_count": null,
   "id": "69569b0f-48d8-4d2b-ba15-fa30240abe97",
   "metadata": {},
   "outputs": [],
   "source": [
    "ds0.to_zarr(outpath, mode='w', compute=False, consolidated=True)"
   ]
  },
  {
   "cell_type": "code",
   "execution_count": null,
   "id": "2d200232-593a-49e5-bc45-65e6f5864dbd",
   "metadata": {},
   "outputs": [],
   "source": [
    "def write_chunk(var, f, istart):\n",
    "    a = np.loadtxt(f, dtype='float32')\n",
    "    year = a[:,0].astype('int')\n",
    "    mon = a[:,1].astype('int')\n",
    "    t = [np.datetime64(dt.datetime(year[k],mon[k],1)) for k in range(len(mon))]\n",
    "    data = a[:,2:]\n",
    "    [nt, nr] = data.shape\n",
    "    b = np.nan * np.zeros((nt,ny,nx), dtype='float32')\n",
    "    for k in range(nr):\n",
    "        b[:, jj[k], ii[k]] = data[:,k]\n",
    "    da = xr.DataArray(data=b, dims=['time','lat','lon'], \n",
    "                  coords=dict(\n",
    "                      lon=('lon',lon),\n",
    "                      lat=('lat',lat),\n",
    "                      time=('time',t)\n",
    "                    ))\n",
    "    ds = da.to_dataset(name=var)\n",
    "    ds = ds.chunk(chunks={'time':chunk_time, 'lat':chunk_lat, 'lon':chunk_lon})\n",
    "    ds.drop(['lon','lat']).to_zarr(outpath, region={'time':slice(istart,istart+nt)})"
   ]
  },
  {
   "cell_type": "code",
   "execution_count": null,
   "id": "da155c82-2c7c-48c4-a250-4284701481e5",
   "metadata": {},
   "outputs": [],
   "source": [
    "client = Client()"
   ]
  },
  {
   "cell_type": "code",
   "execution_count": null,
   "id": "05294627-6bff-4d13-b2fb-7e826b8b2976",
   "metadata": {},
   "outputs": [],
   "source": [
    "%%time\n",
    "tasks=[]\n",
    "for var in ['tmean','prcp','aet','pet','rain','runoff','snow','soilstorage','swe']:\n",
    "    flist = fs.glob(f'/scratch/mike/gzfiles/{var}/{var}??')\n",
    "    i = 0\n",
    "    for f in flist:\n",
    "        print(f)\n",
    "        istart=i*chunk_time\n",
    "        tasks.append(dask.delayed(write_chunk)(var, f, istart))\n",
    "        i = i + 1"
   ]
  },
  {
   "cell_type": "code",
   "execution_count": null,
   "id": "be448a70-21b3-4c2a-88c6-cfb357065cb3",
   "metadata": {},
   "outputs": [],
   "source": [
    "%%time\n",
    "dask.compute(tasks, scheduler='processes', num_workers=4)"
   ]
  },
  {
   "cell_type": "markdown",
   "id": "07ca913f-f3fa-47b8-bbe7-fbabe12a2a05",
   "metadata": {},
   "source": [
    "#### Let's see what we produced!"
   ]
  },
  {
   "cell_type": "code",
   "execution_count": null,
   "id": "76e9a590-04f3-4cab-9e7f-f2be4e05d82a",
   "metadata": {},
   "outputs": [],
   "source": [
    "ds2 = xr.open_dataset(outpath, engine='zarr', chunks={})"
   ]
  },
  {
   "cell_type": "code",
   "execution_count": null,
   "id": "14cdbeb0-bdd4-479f-a598-7343868d0719",
   "metadata": {},
   "outputs": [],
   "source": [
    "ds2"
   ]
  },
  {
   "cell_type": "code",
   "execution_count": null,
   "id": "f2b55d11-ee34-4409-9c23-48d39b3488ff",
   "metadata": {},
   "outputs": [],
   "source": [
    "ds2.tmean.sel(time='1925-01-01').hvplot.quadmesh(x='lon',y='lat', geo=True, tiles='OSM', cmap='turbo', rasterize=True, alpha=0.7)"
   ]
  },
  {
   "cell_type": "code",
   "execution_count": null,
   "id": "1039b4a5-e535-4ac5-93a5-e9ea718fab63",
   "metadata": {},
   "outputs": [],
   "source": [
    "ds2.prcp.hvplot.quadmesh(x='lon',y='lat', geo=True, tiles='OSM', cmap='turbo', rasterize=True, alpha=0.7)"
   ]
  },
  {
   "cell_type": "code",
   "execution_count": null,
   "id": "3676eeca-d12c-4f2d-b0ed-dd35b2801c64",
   "metadata": {},
   "outputs": [],
   "source": [
    "ds2.tmean"
   ]
  },
  {
   "cell_type": "code",
   "execution_count": null,
   "id": "702a733c-e964-4368-80bc-1e1675807592",
   "metadata": {},
   "outputs": [],
   "source": [
    "ds2.tmean.sel(lon=-90.,lat=35.,method='nearest').plot()"
   ]
  }
 ],
 "metadata": {
  "kernelspec": {
   "display_name": "Python [conda env:pangeo]",
   "language": "python",
   "name": "conda-env-pangeo-py"
  },
  "language_info": {
   "codemirror_mode": {
    "name": "ipython",
    "version": 3
   },
   "file_extension": ".py",
   "mimetype": "text/x-python",
   "name": "python",
   "nbconvert_exporter": "python",
   "pygments_lexer": "ipython3",
   "version": "3.9.6"
  }
 },
 "nbformat": 4,
 "nbformat_minor": 5
}
