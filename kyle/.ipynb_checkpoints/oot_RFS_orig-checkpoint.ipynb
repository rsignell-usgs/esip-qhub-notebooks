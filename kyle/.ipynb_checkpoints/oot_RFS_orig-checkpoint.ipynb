{
 "cells": [
  {
   "cell_type": "markdown",
   "id": "d741d57e-03a1-4c35-b6af-6273992cdb03",
   "metadata": {},
   "source": [
    "# Read NCOM OoT Gulf of Mexico data\n",
    "using Zarr/ReferenceFileSystem"
   ]
  },
  {
   "cell_type": "code",
   "execution_count": null,
   "id": "4ce86ca9-07e5-4924-9ee6-b7ad0e476fca",
   "metadata": {},
   "outputs": [],
   "source": [
    "import fsspec\n",
    "import xarray as xr\n",
    "import json\n",
    "import intake\n",
    "import numpy as np\n",
    "import hvplot.xarray"
   ]
  },
  {
   "cell_type": "markdown",
   "id": "21728e03-d28a-48b6-81ca-e618d6ce4014",
   "metadata": {},
   "source": [
    "#### Load from jsons in zip into a single dataset"
   ]
  },
  {
   "cell_type": "code",
   "execution_count": null,
   "id": "9038ce82-3000-4b10-b9b3-dac5c60f0d40",
   "metadata": {},
   "outputs": [],
   "source": [
    "jsons = fsspec.open_files(\"zip://*::s3://coawst-public/rsignell/testing/gom1km.zip\",\n",
    "                          s3={\"requester_pays\": True})\n",
    "with jsons[0] as afile:\n",
    "    m = fsspec.get_mapper(\"reference://\", fo=json.load(afile), \n",
    "                          remote_protocol=\"s3\", \n",
    "                          remote_options={'anon':False, 'profile':'julia'})\n",
    "    ds = xr.open_dataset(m, engine=\"zarr\", drop_variables='reference_time' )"
   ]
  },
  {
   "cell_type": "code",
   "execution_count": null,
   "id": "311c4cc5-e1b0-49fa-8e51-391a010af594",
   "metadata": {},
   "outputs": [],
   "source": [
    "ds.water_u[-1,:,:].mean().values"
   ]
  },
  {
   "cell_type": "code",
   "execution_count": null,
   "id": "f2575a6e-c777-4da2-b4aa-94a613e083ba",
   "metadata": {},
   "outputs": [],
   "source": [
    "ds_list=[]\n",
    "for j in jsons:\n",
    "    with j as afile:\n",
    "        m = fsspec.get_mapper(\"reference://\", fo=json.load(afile), remote_protocol=\"s3\", \n",
    "                              remote_options={\"requester_pays\": 'true'})\n",
    "        ds_list.append(xr.open_dataset(m, engine=\"zarr\", drop_variables='reference_time'))\n",
    "\n",
    "ds = xr.concat(ds_list, dim='time', \n",
    "               coords='minimal', data_vars='minimal', compat='override')"
   ]
  },
  {
   "cell_type": "code",
   "execution_count": null,
   "id": "bc20f65d-dd94-4f27-aec7-ab1eddeeafc9",
   "metadata": {},
   "outputs": [],
   "source": [
    "ds.water_u[0,:,:].mean().values"
   ]
  },
  {
   "cell_type": "markdown",
   "id": "0f63b3e3-ab5f-404b-b632-d9a30d604a67",
   "metadata": {},
   "source": [
    "Drop the singleton depth dimension"
   ]
  },
  {
   "cell_type": "code",
   "execution_count": null,
   "id": "01d4718a-0bac-415c-b147-1730c3248823",
   "metadata": {},
   "outputs": [],
   "source": [
    "ds = ds.squeeze('depth', drop=True)"
   ]
  },
  {
   "cell_type": "markdown",
   "id": "544a1ae9-5418-485c-9d5c-ab543de6bc3e",
   "metadata": {},
   "source": [
    "Use numpy expression for sqrt -- don't need xarray ufuncs"
   ]
  },
  {
   "cell_type": "code",
   "execution_count": null,
   "id": "05975d0d-2c32-43f6-b1ca-7ea39fbece63",
   "metadata": {},
   "outputs": [],
   "source": [
    "ds['speed'] = np.sqrt(ds.water_u**2 + ds.water_v**2)"
   ]
  },
  {
   "cell_type": "markdown",
   "id": "4c6fb9a0-82f3-49c1-93db-b50ab8cca45c",
   "metadata": {},
   "source": [
    "holoviz like lon to be [-180, 180]"
   ]
  },
  {
   "cell_type": "code",
   "execution_count": null,
   "id": "5cd3add3-8e23-4293-bf38-baad95474a6c",
   "metadata": {
    "tags": []
   },
   "outputs": [],
   "source": [
    "ds = ds.assign_coords(lon=(((ds.lon + 180) % 360) - 180))"
   ]
  },
  {
   "cell_type": "code",
   "execution_count": null,
   "id": "33dd035c-67c0-4c2f-895c-f4914f6ee8fa",
   "metadata": {},
   "outputs": [],
   "source": [
    "ds.speed[-1,:,:].hvplot.quadmesh(x='lon', y='lat', \n",
    "                                 rasterize=True, cmap='turbo', \n",
    "                                 geo=True, tiles='OSM')"
   ]
  },
  {
   "cell_type": "code",
   "execution_count": null,
   "id": "8da44904-f5b1-45bc-a2d3-31b99ffa636d",
   "metadata": {},
   "outputs": [],
   "source": [
    "cat = intake.open_catalog('s3://zarrcollab/intake_catalog.yml', \n",
    "                          storage_options={\"requester_pays\": True})"
   ]
  },
  {
   "cell_type": "code",
   "execution_count": null,
   "id": "f959cbf7-4f37-4967-975e-9c30c7b844a8",
   "metadata": {
    "tags": []
   },
   "outputs": [],
   "source": [
    "list(cat)"
   ]
  },
  {
   "cell_type": "code",
   "execution_count": null,
   "id": "26683ea4-3f99-481e-89ad-e5c76ae943fc",
   "metadata": {},
   "outputs": [],
   "source": [
    "ds = cat['oot-nrl-socal1km3dvar'].to_dask()"
   ]
  },
  {
   "cell_type": "code",
   "execution_count": null,
   "id": "ddbdd272-c71a-4156-bf5d-afa6db2482cf",
   "metadata": {
    "tags": []
   },
   "outputs": [],
   "source": [
    "ds.water_u[-1,:,:].mean().values"
   ]
  },
  {
   "cell_type": "code",
   "execution_count": null,
   "id": "c8dd1b73-2684-4ecd-bde4-1dbe25f60f72",
   "metadata": {},
   "outputs": [],
   "source": [
    "ds"
   ]
  },
  {
   "cell_type": "markdown",
   "id": "ed31b7e2-2a0f-41b8-8f63-1dc2c33d9e33",
   "metadata": {},
   "source": [
    "#### Load multiple NetCDF files from a single json"
   ]
  },
  {
   "cell_type": "code",
   "execution_count": null,
   "id": "e8a0a2f8-d05b-4e75-9bf5-27908180b22d",
   "metadata": {},
   "outputs": [],
   "source": [
    "r_opts = {'profile':'zarr-collab'} # NetCDF files on AWS Open Data public bucket\n",
    "\n",
    "#t_opts = {'profile':'zarr-collab'}  # JSON or zip file on requester pays bucket\n",
    "#fo = \"s3://zarrcollab/oot/nrl/gom1km/gom1km.json\"\n",
    "#fo = 's3://zarrcollab/oot/nrl/socal1km3dvar/socal1km3dvar.json'\n",
    "\n",
    "fo = 's3://esip-qhub/usgs/rsignell/testing/oot.json'\n",
    "t_opts = {'profile':'esip-qhub'}\n",
    "\n",
    "fs = fsspec.filesystem(\"reference\", fo=fo, \n",
    "                       remote_protocol='s3', remote_options=r_opts,\n",
    "                       target_protocol='s3', target_options=t_opts)\n",
    "\n",
    "m = fs.get_mapper(\"\")\n",
    "ds = xr.open_dataset(m, engine=\"zarr\")"
   ]
  }
 ],
 "metadata": {
  "kernelspec": {
   "display_name": "Python [conda env:pangeo]",
   "language": "python",
   "name": "conda-env-pangeo-py"
  },
  "language_info": {
   "codemirror_mode": {
    "name": "ipython",
    "version": 3
   },
   "file_extension": ".py",
   "mimetype": "text/x-python",
   "name": "python",
   "nbconvert_exporter": "python",
   "pygments_lexer": "ipython3",
   "version": "3.8.10"
  }
 },
 "nbformat": 4,
 "nbformat_minor": 5
}
