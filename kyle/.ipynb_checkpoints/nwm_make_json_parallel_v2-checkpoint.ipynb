{
 "cells": [
  {
   "cell_type": "markdown",
   "id": "5b86af71-052b-4081-844b-779db459068d",
   "metadata": {},
   "source": [
    "# NWM ReferenceFileSystem JSON \n",
    "Create ReferenceFileSystem JSON file for a collection of NWM NetCDF files on S3 "
   ]
  },
  {
   "cell_type": "code",
   "execution_count": null,
   "id": "3b6ba617-9772-4ecf-aa7a-2be2a4bcfa1d",
   "metadata": {},
   "outputs": [],
   "source": [
    "import os\n",
    "import fsspec\n",
    "import ujson   # fast json\n",
    "from fsspec_reference_maker.hdf import SingleHdf5ToZarr \n",
    "from fsspec_reference_maker.combine import MultiZarrToZarr\n",
    "import xarray as xr\n",
    "import dask"
   ]
  },
  {
   "cell_type": "code",
   "execution_count": null,
   "id": "1bd61788-a744-4197-ae71-03347ce1f4c3",
   "metadata": {},
   "outputs": [],
   "source": [
    "fs = fsspec.filesystem('s3', profile='julia')"
   ]
  },
  {
   "cell_type": "code",
   "execution_count": null,
   "id": "42c6d8ea-b8aa-4821-be50-ffac391b33e2",
   "metadata": {},
   "outputs": [],
   "source": [
    "flist = fs.glob('coawst-public/rsignell/testing/gom1km/ncom_1_*.nc')\n",
    "flist"
   ]
  },
  {
   "cell_type": "code",
   "execution_count": null,
   "id": "ba1f2d87-b3d0-42d2-8755-4da2fbe881f4",
   "metadata": {},
   "outputs": [],
   "source": [
    "urls = [\"s3://\" + f for f in flist]"
   ]
  },
  {
   "cell_type": "code",
   "execution_count": null,
   "id": "2cbc73cb-828c-490f-8925-630167ec3591",
   "metadata": {},
   "outputs": [],
   "source": [
    "ds = xr.open_dataset(fs.open(flist[0]))"
   ]
  },
  {
   "cell_type": "code",
   "execution_count": null,
   "id": "a5433bae-4401-416e-9d19-a5cad9b4c0bf",
   "metadata": {},
   "outputs": [],
   "source": [
    "ds.water_u.plot()"
   ]
  },
  {
   "cell_type": "markdown",
   "id": "75bdd9d4-4897-42ad-aa75-4f88a5d0a8d1",
   "metadata": {},
   "source": [
    "We need to include the \"s3://\" prefix to the list of files so that fsspec will recognize that these JSON files are on S3.   There is no \"storage_"
   ]
  },
  {
   "cell_type": "code",
   "execution_count": null,
   "id": "2f9e323a-146b-4190-a487-8fae2758d1ff",
   "metadata": {},
   "outputs": [],
   "source": [
    "urls = [\"s3://\" + f for f in flist]\n",
    "\n",
    "so = dict(mode='rb', profile='julia', default_fill_cache=False, default_cache_type='first')"
   ]
  },
  {
   "cell_type": "markdown",
   "id": "6594cb06-41ee-411e-9240-e627abfc3d99",
   "metadata": {},
   "source": [
    "If the directory exists, remove it (and all the files), then create it:"
   ]
  },
  {
   "cell_type": "code",
   "execution_count": null,
   "id": "7c69bd02-0fcc-4302-b5c6-1b52278768ca",
   "metadata": {},
   "outputs": [],
   "source": [
    "from dask_gateway import Gateway\n",
    "from dask.distributed import Client\n",
    "\n",
    "gateway = Gateway()\n",
    "gateway.list_clusters()\n",
    "if gateway.list_clusters():\n",
    "    print('Existing Dask clusters:')\n",
    "    for c in gateway.list_clusters():\n",
    "        print('Cluster Name:',c.name,c.status)\n",
    "else:\n",
    "    print('No Cluster running.')"
   ]
  },
  {
   "cell_type": "code",
   "execution_count": null,
   "id": "3dd2c8d9-d301-414f-80b4-bd5895a3ba56",
   "metadata": {},
   "outputs": [],
   "source": [
    "# New or connect:\n",
    "# If no cluster is running, create a new one, else connect to the first one found (idx=0, change if other cluster should be running)\n",
    "idx=0\n",
    "if not gateway.list_clusters():\n",
    "    cluster = gateway.new_cluster(environment='pangeo', profile='Small Worker')\n",
    "else:\n",
    "    cluster=gateway.connect(gateway.list_clusters()[idx].name)  "
   ]
  },
  {
   "cell_type": "code",
   "execution_count": null,
   "id": "e876a7fa-fd0e-4bdf-8f9b-7f77f1b4f6e4",
   "metadata": {},
   "outputs": [],
   "source": [
    "client = Client(cluster)"
   ]
  },
  {
   "cell_type": "code",
   "execution_count": null,
   "id": "0e25b3ee-a5cb-4636-951d-29f8d987d8a4",
   "metadata": {},
   "outputs": [],
   "source": [
    "cluster.scale(5)"
   ]
  },
  {
   "cell_type": "code",
   "execution_count": null,
   "id": "55dcb2ed-7635-437b-bfab-c42d106a85dc",
   "metadata": {},
   "outputs": [],
   "source": [
    "import os\n",
    "from dask.distributed import WorkerPlugin\n",
    "\n",
    "class UploadFile(WorkerPlugin):\n",
    "    \"\"\"A WorkerPlugin to upload a local file to workers.\n",
    "    Parameters\n",
    "    ----------\n",
    "    filepath: str\n",
    "        A path to the file to upload\n",
    "    Examples\n",
    "    --------\n",
    "    >>> client.register_worker_plugin(UploadFile(\".env\"))\n",
    "    \"\"\"\n",
    "    def __init__(self, filepath):\n",
    "        \"\"\"\n",
    "        Initialize the plugin by reading in the data from the given file.\n",
    "        \"\"\"\n",
    "\n",
    "        self.filename = os.path.basename(filepath)\n",
    "        self.dirname = os.path.dirname(filepath)\n",
    "        with open(filepath, \"rb\") as f:\n",
    "            self.data = f.read()\n",
    "\n",
    "    async def setup(self, worker):\n",
    "        if not os.path.exists(self.dirname):\n",
    "            os.mkdir(self.dirname)\n",
    "        os.chdir(self.dirname)\n",
    "        with open(self.filename, \"wb+\") as f:\n",
    "            f.write(self.data)\n",
    "        return os.listdir()"
   ]
  },
  {
   "cell_type": "code",
   "execution_count": null,
   "id": "1bd16fda-f987-472f-b844-9c990054b4d2",
   "metadata": {},
   "outputs": [],
   "source": [
    "client.register_worker_plugin(UploadFile('/home/jovyan/.aws/credentials'))\n",
    "client.register_worker_plugin(UploadFile('/home/jovyan/.aws/config'))"
   ]
  },
  {
   "cell_type": "code",
   "execution_count": null,
   "id": "ae693d1d-7238-44b0-8802-925cb1014ffe",
   "metadata": {},
   "outputs": [],
   "source": [
    "#client.close; cluster.shutdown()"
   ]
  },
  {
   "cell_type": "code",
   "execution_count": null,
   "id": "be1ebe40-6931-4921-9a2a-5589b3974716",
   "metadata": {},
   "outputs": [],
   "source": [
    "cluster"
   ]
  },
  {
   "cell_type": "markdown",
   "id": "c31b04da-7f25-4630-b89d-7074aaa5f7bd",
   "metadata": {},
   "source": [
    "We passed AWS credentials to the Dask workers via environment variables above, and the dask workers don't have the AWS credentials file with profiles defined, so we can't define a profile here. "
   ]
  },
  {
   "cell_type": "code",
   "execution_count": null,
   "id": "a2aea4a0-c3f2-4811-bc9d-1f9c31177fce",
   "metadata": {},
   "outputs": [],
   "source": [
    "def gen_json(u):\n",
    "    with fs.open(u, **so) as infile:\n",
    "        h5chunks = SingleHdf5ToZarr(infile, u, inline_threshold=300)\n",
    "        fname = u.split('/')[-1]\n",
    "        outf = f'coawst-public/rsignell/testing/gom1km/jsons/{fname}.json'\n",
    "        print(outf)\n",
    "        with fs.open(outf, 'wb') as f:\n",
    "            f.write(ujson.dumps(h5chunks.translate()).encode())"
   ]
  },
  {
   "cell_type": "code",
   "execution_count": null,
   "id": "6963f4d6-af10-4a2b-8e26-e9bbd903b33e",
   "metadata": {},
   "outputs": [],
   "source": [
    "%%time\n",
    "dask.compute(*[dask.delayed(gen_json)(u) for u in urls], retries=10);"
   ]
  },
  {
   "cell_type": "markdown",
   "id": "7c61c32d-f953-43d7-88e6-85b4719349c7",
   "metadata": {},
   "source": [
    "#### Try accessing the individual JSON files directly from S3 as file-like objects"
   ]
  },
  {
   "cell_type": "code",
   "execution_count": null,
   "id": "b0af93cd-1f82-4d8b-9202-01d802a1e31f",
   "metadata": {},
   "outputs": [],
   "source": [
    "flist = fs2.ls('coawst-public/rsignell/testing/gom1km/jsons/')\n",
    "fobjs = [fs2.open(f) for f in flist]"
   ]
  },
  {
   "cell_type": "code",
   "execution_count": null,
   "id": "8cf1da80-1e9c-42b8-a46c-d563f49bf7b1",
   "metadata": {},
   "outputs": [],
   "source": [
    "furls = sorted(['s3://'+f for f in flist])"
   ]
  },
  {
   "cell_type": "code",
   "execution_count": null,
   "id": "ba4d2716-fd47-452c-bc6e-be405da84edd",
   "metadata": {},
   "outputs": [],
   "source": [
    "furls"
   ]
  },
  {
   "cell_type": "code",
   "execution_count": null,
   "id": "52c9ddc4-1433-4613-b450-0fbd2fcc9d34",
   "metadata": {},
   "outputs": [],
   "source": [
    "mzz = MultiZarrToZarr(furls, \n",
    "    storage_options={'anon':False},\n",
    "    remote_protocol='s3',                  \n",
    "    remote_options={'anon' : False},   #JSON files  \n",
    "    xarray_open_kwargs={\n",
    "        'decode_cf' : False,\n",
    "        'mask_and_scale' : False,\n",
    "        'decode_times' : False,\n",
    "        'use_cftime' : False,\n",
    "#        'drop_variables': ['reference_time', 'crs'],\n",
    "        'decode_coords' : False\n",
    "    },\n",
    "    xarray_concat_args={\n",
    "#          \"data_vars\": \"minimal\",\n",
    "#          \"coords\": \"minimal\",\n",
    "#          \"compat\": \"override\",\n",
    "        \"join\": \"override\",\n",
    "        \"combine_attrs\": \"override\",\n",
    "        \"dim\": \"time\"\n",
    "    }\n",
    ")"
   ]
  },
  {
   "cell_type": "markdown",
   "id": "83ab27e3-9daf-4cb2-a649-d44479048e65",
   "metadata": {},
   "source": [
    "Download the individual JSON files from S3:"
   ]
  },
  {
   "cell_type": "code",
   "execution_count": null,
   "id": "527bf3d1-83dd-47a2-a012-30d3f02adc30",
   "metadata": {},
   "outputs": [],
   "source": [
    "#fs2.download('s3://esip-qhub/usgs/testing/jsons/', './jsons', recursive=True)"
   ]
  },
  {
   "cell_type": "code",
   "execution_count": null,
   "id": "3738a47b-5239-4d1f-943d-367ceb688a1e",
   "metadata": {},
   "outputs": [],
   "source": [
    "##from glob import glob\n",
    "#json_list = sorted(glob(\"jsons/*.json\"))"
   ]
  },
  {
   "cell_type": "code",
   "execution_count": null,
   "id": "df0eeaf7-5b94-40c2-b8f8-ee09fdb79bf4",
   "metadata": {},
   "outputs": [],
   "source": [
    "# mzz = MultiZarrToZarr(json_list, \n",
    "#     remote_protocol='s3',    #\n",
    "#     remote_options={'anon' : 'True'},    \n",
    "#     xarray_open_kwargs={\n",
    "#         'decode_cf' : False,\n",
    "#         'mask_and_scale' : False,\n",
    "#         'decode_times' : False,\n",
    "#         'use_cftime' : False,\n",
    "#         'drop_variables': ['reference_time', 'crs'],\n",
    "#         'decode_coords' : False\n",
    "#     },\n",
    "#     xarray_concat_args={\n",
    "# #          \"data_vars\": \"minimal\",\n",
    "# #          \"coords\": \"minimal\",\n",
    "# #          \"compat\": \"override\",\n",
    "#         \"join\": \"override\",\n",
    "#         \"combine_attrs\": \"override\",\n",
    "#         \"dim\": \"time\"\n",
    "#     }\n",
    "# )"
   ]
  },
  {
   "cell_type": "code",
   "execution_count": null,
   "id": "38993dc4-9923-4d2e-a011-185ad56cc3f4",
   "metadata": {},
   "outputs": [],
   "source": [
    "%%time\n",
    "#%%prun -D multizarr_profile \n",
    "mzz.translate('gom1km.json')"
   ]
  },
  {
   "cell_type": "markdown",
   "id": "503a75b0-4577-47d3-9f97-825e83a18776",
   "metadata": {},
   "source": [
    "#### Try opening the consolidated JSON file"
   ]
  },
  {
   "cell_type": "code",
   "execution_count": null,
   "id": "0c4b2af4-a510-4c07-9f2b-8577a0b959c1",
   "metadata": {},
   "outputs": [],
   "source": [
    "import xarray as xr\n",
    "\n",
    "r_opts = {'anon': False} # NetCDF files on AWS Open Data public bucket\n",
    "#r_opts = {'profile':'julia'}\n",
    "fo = 'gom1km.json'\n",
    "fs = fsspec.filesystem(\"reference\", fo=fo, \n",
    "                       remote_protocol='s3', remote_options=r_opts)\n",
    "\n",
    "m = fs.get_mapper(\"\")\n",
    "ds = xr.open_dataset(m, engine=\"zarr\")"
   ]
  },
  {
   "cell_type": "code",
   "execution_count": null,
   "id": "794e2248-5d6a-404f-a8b7-9dd35e33e9a7",
   "metadata": {},
   "outputs": [],
   "source": [
    "ds.water_u.plot()"
   ]
  },
  {
   "cell_type": "code",
   "execution_count": null,
   "id": "f96f60d6-350c-478b-8c2c-4887e2d9a753",
   "metadata": {},
   "outputs": [],
   "source": [
    "import xarray as xr\n",
    "\n",
    "r_opts = {'anon': False} # NetCDF files on AWS Open Data public bucket\n",
    "\n",
    "fo = 's3://coawst-public/rsignell/testing/gom1km/jsons/ncom_1_2021032200_00780000.nc.json'\n",
    "fs = fsspec.filesystem(\"reference\", fo=fo, \n",
    "                       remote_protocol='s3', remote_options=r_opts)\n",
    "\n",
    "m = fs.get_mapper(\"\")\n",
    "ds = xr.open_dataset(m, engine=\"zarr\")"
   ]
  },
  {
   "cell_type": "code",
   "execution_count": null,
   "id": "03c9ba4c-b16e-4913-80cf-b77f760cddca",
   "metadata": {},
   "outputs": [],
   "source": [
    "ds.water_u.plot()"
   ]
  },
  {
   "cell_type": "code",
   "execution_count": null,
   "id": "61144d0a-61da-4adc-a07f-e5525cc72812",
   "metadata": {},
   "outputs": [],
   "source": [
    "import hvplot.xarray\n",
    "import numpy as np"
   ]
  },
  {
   "cell_type": "code",
   "execution_count": null,
   "id": "4559cb13-c4d5-4888-85dd-3f27c29780b6",
   "metadata": {},
   "outputs": [],
   "source": [
    "ds['speed'] = np.sqrt(ds.water_u**2 + ds.water_v**2)"
   ]
  },
  {
   "cell_type": "code",
   "execution_count": null,
   "id": "53e680a4-b598-4ea0-a6a4-d3cc6ae0a5ee",
   "metadata": {},
   "outputs": [],
   "source": [
    "ds = ds.assign_coords(lon=(((ds.lon + 180) % 360) - 180))"
   ]
  },
  {
   "cell_type": "code",
   "execution_count": null,
   "id": "81239cfd-ba06-4c34-8065-d9446ac1b283",
   "metadata": {},
   "outputs": [],
   "source": [
    "ds.water_u[-1,-1,:,:].plot()"
   ]
  },
  {
   "cell_type": "code",
   "execution_count": null,
   "id": "388a388a-8dc7-4314-bc6a-90237bc3d493",
   "metadata": {},
   "outputs": [],
   "source": [
    "ds.speed[-1,:,:].hvplot.quadmesh(x='lon', y='lat', \n",
    "                                 rasterize=True, cmap='turbo', \n",
    "                                 geo=True, tiles='OSM')"
   ]
  },
  {
   "cell_type": "code",
   "execution_count": null,
   "id": "8d9859e4-ed68-4155-981d-0528abe95204",
   "metadata": {},
   "outputs": [],
   "source": [
    "ds.surf_wnd_stress_e.hvplot.image(x='lon', y='lat', rasterize=True)"
   ]
  },
  {
   "cell_type": "code",
   "execution_count": null,
   "id": "561f6861-57e0-4926-9078-1fb13d93a6cd",
   "metadata": {},
   "outputs": [],
   "source": [
    "cluster.shutdown(); client.close()"
   ]
  },
  {
   "cell_type": "code",
   "execution_count": null,
   "id": "e2a050f3-8ec4-4ed1-8295-771fe55f543e",
   "metadata": {},
   "outputs": [],
   "source": []
  }
 ],
 "metadata": {
  "kernelspec": {
   "display_name": "Python [conda env:pangeo]",
   "language": "python",
   "name": "conda-env-pangeo-py"
  },
  "language_info": {
   "codemirror_mode": {
    "name": "ipython",
    "version": 3
   },
   "file_extension": ".py",
   "mimetype": "text/x-python",
   "name": "python",
   "nbconvert_exporter": "python",
   "pygments_lexer": "ipython3",
   "version": "3.8.10"
  }
 },
 "nbformat": 4,
 "nbformat_minor": 5
}
