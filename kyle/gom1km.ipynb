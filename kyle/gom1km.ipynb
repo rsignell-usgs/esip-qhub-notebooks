{
 "cells": [
  {
   "cell_type": "code",
   "execution_count": null,
   "id": "8f754f9e-f820-4454-95ce-e7b9cf1b1758",
   "metadata": {},
   "outputs": [],
   "source": [
    "import fsspec\n",
    "import xarray as xr"
   ]
  },
  {
   "cell_type": "code",
   "execution_count": null,
   "id": "3f1f603c-9c32-49f0-a6af-1b812f1eb551",
   "metadata": {},
   "outputs": [],
   "source": [
    "fs = fsspec.filesystem('s3', requester_pays=True)"
   ]
  },
  {
   "cell_type": "code",
   "execution_count": null,
   "id": "6a1e2be9-6cb7-4d81-8a92-d593a65abcc4",
   "metadata": {},
   "outputs": [],
   "source": [
    "rfiles = fs.ls('s3://coawst-public/rsignell/testing/gom1km/')"
   ]
  },
  {
   "cell_type": "code",
   "execution_count": null,
   "id": "8c613dda-c9c4-4185-8fd2-a5b6dad9c2c2",
   "metadata": {},
   "outputs": [],
   "source": [
    "rflist = [fs.open(file) for file in rfiles]"
   ]
  },
  {
   "cell_type": "code",
   "execution_count": null,
   "id": "7a7af196-da13-4044-8ebb-1401e39f937d",
   "metadata": {},
   "outputs": [],
   "source": [
    "%%time\n",
    "#ds = xr.open_mfdataset(rflist, combine='by_coords')"
   ]
  },
  {
   "cell_type": "code",
   "execution_count": null,
   "id": "5d8082e2-06ef-4bee-a915-bf3b824227f7",
   "metadata": {},
   "outputs": [],
   "source": [
    "%%time\n",
    "ds = xr.open_mfdataset(rflist, combine='by_coords',\n",
    "                       coords=\"minimal\", data_vars=\"minimal\", compat='override')"
   ]
  },
  {
   "cell_type": "code",
   "execution_count": null,
   "id": "5ef6052c-2310-45c9-9ec6-943106c5c120",
   "metadata": {},
   "outputs": [],
   "source": [
    "ds.water_u.encoding"
   ]
  }
 ],
 "metadata": {
  "kernelspec": {
   "display_name": "Python [conda env:pangeo]",
   "language": "python",
   "name": "conda-env-pangeo-py"
  },
  "language_info": {
   "codemirror_mode": {
    "name": "ipython",
    "version": 3
   },
   "file_extension": ".py",
   "mimetype": "text/x-python",
   "name": "python",
   "nbconvert_exporter": "python",
   "pygments_lexer": "ipython3",
   "version": "3.8.10"
  }
 },
 "nbformat": 4,
 "nbformat_minor": 5
}
