{
 "cells": [
  {
   "cell_type": "markdown",
   "id": "5b86af71-052b-4081-844b-779db459068d",
   "metadata": {},
   "source": [
    "# GOM1KM ReferenceFileSystem JSON \n",
    "Create ReferenceFileSystem JSON file for a collection of GOM1KM NetCDF files on S3 "
   ]
  },
  {
   "cell_type": "code",
   "execution_count": null,
   "id": "3b6ba617-9772-4ecf-aa7a-2be2a4bcfa1d",
   "metadata": {},
   "outputs": [],
   "source": [
    "import os\n",
    "import fsspec\n",
    "import ujson   # fast json\n",
    "from fsspec_reference_maker.hdf import SingleHdf5ToZarr \n",
    "from fsspec_reference_maker.combine import MultiZarrToZarr\n",
    "import xarray as xr\n",
    "import dask"
   ]
  },
  {
   "cell_type": "code",
   "execution_count": null,
   "id": "f06fb054-f5d7-41e8-bd11-9c679de6ac0f",
   "metadata": {},
   "outputs": [],
   "source": [
    "fs = fsspec.filesystem('s3', anon=True)\n",
    "flist = fs.glob('s3://coastalcoupling/usgs/gom1km/*.nc')\n",
    "flist"
   ]
  },
  {
   "cell_type": "markdown",
   "id": "a11d6052-55a0-4dfc-9fd7-fd90a9a2fc3b",
   "metadata": {},
   "source": [
    "#### `xr.concat` works on the remote NetCDF files:"
   ]
  },
  {
   "cell_type": "code",
   "execution_count": null,
   "id": "700d41c5-7895-4f0f-9392-d2b744628d30",
   "metadata": {},
   "outputs": [],
   "source": [
    "%%time\n",
    "fobjs = [xr.open_dataset(fs.open(f)) for f in flist]\n",
    "ds = xr.concat(fobjs,  join='override', combine_attrs='override', dim='time')"
   ]
  },
  {
   "cell_type": "code",
   "execution_count": null,
   "id": "f8a6b289-f4aa-4837-a2da-9c2e881f6941",
   "metadata": {},
   "outputs": [],
   "source": [
    "ds.water_u.shape"
   ]
  },
  {
   "cell_type": "code",
   "execution_count": null,
   "id": "a332d84f-0d99-43a2-b37e-4fff2d8e75ed",
   "metadata": {},
   "outputs": [],
   "source": [
    "ds.water_u[0,0,:,:].plot()"
   ]
  },
  {
   "cell_type": "markdown",
   "id": "7c61c32d-f953-43d7-88e6-85b4719349c7",
   "metadata": {},
   "source": [
    "#### The individual JSON files also work fine"
   ]
  },
  {
   "cell_type": "code",
   "execution_count": null,
   "id": "386bf413-1ccc-4ba1-80de-0174686eee59",
   "metadata": {},
   "outputs": [],
   "source": [
    "fs2 = fsspec.filesystem('s3', requester_pays=True)  "
   ]
  },
  {
   "cell_type": "code",
   "execution_count": null,
   "id": "b0af93cd-1f82-4d8b-9202-01d802a1e31f",
   "metadata": {},
   "outputs": [],
   "source": [
    "flist = fs2.ls('s3://esip-qhub/usgs/gom1km/testing/jsons/')\n",
    "fobjs = [fs2.open(f) for f in flist]"
   ]
  },
  {
   "cell_type": "code",
   "execution_count": null,
   "id": "8cf1da80-1e9c-42b8-a46c-d563f49bf7b1",
   "metadata": {},
   "outputs": [],
   "source": [
    "furls = ['s3://'+f for f in flist]"
   ]
  },
  {
   "cell_type": "code",
   "execution_count": null,
   "id": "ba4d2716-fd47-452c-bc6e-be405da84edd",
   "metadata": {},
   "outputs": [],
   "source": [
    "fo = furls[0]"
   ]
  },
  {
   "cell_type": "code",
   "execution_count": null,
   "id": "b3fbd723-7811-4362-a76e-ae3c46eb82c0",
   "metadata": {},
   "outputs": [],
   "source": [
    "#fsspec.utils.setup_logging(logger_name='s3fs')\n",
    "#fsspec.utils.setup_logging(logger_name='fsspec.reference')"
   ]
  },
  {
   "cell_type": "code",
   "execution_count": null,
   "id": "304b784c-e491-4cfd-a310-1c73616adc8b",
   "metadata": {},
   "outputs": [],
   "source": [
    "#r_opts = {'anon': False} # NetCDF files on AWS Open Data public bucket\n",
    "r_opts = {'requester_pays': True} \n",
    "\n",
    "fs = fsspec.filesystem(\"reference\", fo=fo, \n",
    "                       remote_protocol='s3', remote_options=r_opts)\n",
    "\n",
    "m = fs.get_mapper(\"\")\n",
    "ds = xr.open_dataset(m, engine=\"zarr\")"
   ]
  },
  {
   "cell_type": "code",
   "execution_count": null,
   "id": "8fc17fcf-a21d-4988-962b-3cf6c0508e69",
   "metadata": {},
   "outputs": [],
   "source": [
    "ds.water_u.shape"
   ]
  },
  {
   "cell_type": "code",
   "execution_count": null,
   "id": "201ce83d-1229-4c69-9481-117d3aa567b3",
   "metadata": {},
   "outputs": [],
   "source": [
    "ds.water_u.plot()"
   ]
  },
  {
   "cell_type": "code",
   "execution_count": null,
   "id": "12684ac1-db06-4ecd-ae03-10ec0e72497e",
   "metadata": {},
   "outputs": [],
   "source": [
    "ds.data_vars"
   ]
  },
  {
   "cell_type": "code",
   "execution_count": null,
   "id": "b24e93fb-e61d-455b-8b4f-e389656167c3",
   "metadata": {},
   "outputs": [],
   "source": [
    "fs.ls('water_u')"
   ]
  },
  {
   "cell_type": "code",
   "execution_count": null,
   "id": "316259be-0aed-46ad-85c3-9fc454bb1c29",
   "metadata": {},
   "outputs": [],
   "source": [
    "fs.ls('surf_wnd_stress_e')"
   ]
  },
  {
   "cell_type": "markdown",
   "id": "95278fea-0032-4bd1-82ff-bfab805b0be1",
   "metadata": {},
   "source": [
    "#### Create consolidated JSON"
   ]
  },
  {
   "cell_type": "code",
   "execution_count": null,
   "id": "52c9ddc4-1433-4613-b450-0fbd2fcc9d34",
   "metadata": {},
   "outputs": [],
   "source": [
    "mzz = MultiZarrToZarr(furls, \n",
    "    storage_options={'requester_pays': True},   #json files \n",
    "    remote_protocol='s3',\n",
    "    remote_options={'anon' : 'True'},    #netcdf files\n",
    "    xarray_open_kwargs={\n",
    "        'decode_cf' : False,\n",
    "        'mask_and_scale' : False,\n",
    "        'decode_times' : False,\n",
    "        'use_cftime' : False,\n",
    "#        'drop_variables': ['reference_time', 'crs'],\n",
    "        'decode_coords' : False\n",
    "    },\n",
    "    xarray_concat_args={\n",
    "#          \"data_vars\": \"minimal\",\n",
    "#          \"coords\": \"minimal\",\n",
    "#          \"compat\": \"override\",\n",
    "        \"join\": \"override\",\n",
    "        \"combine_attrs\": \"override\",\n",
    "        \"dim\": \"time\"\n",
    "    }\n",
    ")"
   ]
  },
  {
   "cell_type": "code",
   "execution_count": null,
   "id": "38993dc4-9923-4d2e-a011-185ad56cc3f4",
   "metadata": {},
   "outputs": [],
   "source": [
    "%%time\n",
    "#%%prun -D multizarr_profile \n",
    "mzz.translate('gom1km.json')"
   ]
  },
  {
   "cell_type": "markdown",
   "id": "503a75b0-4577-47d3-9f97-825e83a18776",
   "metadata": {},
   "source": [
    "#### Try opening the consolidated JSON"
   ]
  },
  {
   "cell_type": "code",
   "execution_count": null,
   "id": "0c4b2af4-a510-4c07-9f2b-8577a0b959c1",
   "metadata": {},
   "outputs": [],
   "source": [
    "import xarray as xr\n",
    "\n",
    "r_opts = {'anon': True} # NetCDF files on AWS Open Data public bucket\n",
    "\n",
    "fo = 'gom1km.json'\n",
    "fs = fsspec.filesystem(\"reference\", fo=fo, \n",
    "                       remote_protocol='s3', remote_options=r_opts)\n",
    "\n",
    "m = fs.get_mapper(\"\")\n",
    "ds = xr.open_dataset(m, engine=\"zarr\")"
   ]
  },
  {
   "cell_type": "code",
   "execution_count": null,
   "id": "03c9ba4c-b16e-4913-80cf-b77f760cddca",
   "metadata": {},
   "outputs": [],
   "source": [
    "ds.water_u"
   ]
  },
  {
   "cell_type": "code",
   "execution_count": null,
   "id": "35ad5c39-b466-461d-947a-51ba6c82d36b",
   "metadata": {},
   "outputs": [],
   "source": [
    "ds.water_u[0,0,:,:].plot()"
   ]
  },
  {
   "cell_type": "code",
   "execution_count": null,
   "id": "89b56331-c72d-493e-a035-3398560799ac",
   "metadata": {},
   "outputs": [],
   "source": [
    "m['water_u/.zarray']"
   ]
  },
  {
   "cell_type": "code",
   "execution_count": null,
   "id": "67843ad5-58ce-478d-aec6-5b13c5a37bc1",
   "metadata": {},
   "outputs": [],
   "source": [
    "fs.ls('surf_wnd_stress_e')"
   ]
  },
  {
   "cell_type": "markdown",
   "id": "7e47220a-2c6b-479d-88ec-25b4115fc994",
   "metadata": {},
   "source": [
    "So the shape of water_u is 4D.  But Multi is creating 5D references instead of 4D references:"
   ]
  },
  {
   "cell_type": "code",
   "execution_count": null,
   "id": "b4e73193-01d5-41fd-af86-45ba10e69365",
   "metadata": {},
   "outputs": [],
   "source": [
    "fs.ls('water_u')"
   ]
  },
  {
   "cell_type": "markdown",
   "id": "a24bc01c-7043-40ce-886a-0db313d06997",
   "metadata": {},
   "source": [
    "So this 4D reference attempt fails:"
   ]
  },
  {
   "cell_type": "code",
   "execution_count": null,
   "id": "dc049177-7ebe-483f-b136-a89d0c38bae4",
   "metadata": {},
   "outputs": [],
   "source": [
    "m['water_u/0.0.0.0']"
   ]
  },
  {
   "cell_type": "code",
   "execution_count": null,
   "id": "9392a0d2-1962-4846-a975-029fdc28f779",
   "metadata": {},
   "outputs": [],
   "source": []
  }
 ],
 "metadata": {
  "kernelspec": {
   "display_name": "Python [conda env:pangeo]",
   "language": "python",
   "name": "conda-env-pangeo-py"
  },
  "language_info": {
   "codemirror_mode": {
    "name": "ipython",
    "version": 3
   },
   "file_extension": ".py",
   "mimetype": "text/x-python",
   "name": "python",
   "nbconvert_exporter": "python",
   "pygments_lexer": "ipython3",
   "version": "3.8.10"
  }
 },
 "nbformat": 4,
 "nbformat_minor": 5
}
