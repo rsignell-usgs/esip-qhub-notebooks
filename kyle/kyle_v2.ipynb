{
 "cells": [
  {
   "cell_type": "markdown",
   "id": "5b86af71-052b-4081-844b-779db459068d",
   "metadata": {},
   "source": [
    "# NWM ReferenceFileSystem JSON \n",
    "Create ReferenceFileSystem JSON file for a collection of NWM NetCDF files on S3 "
   ]
  },
  {
   "cell_type": "code",
   "execution_count": null,
   "id": "3b6ba617-9772-4ecf-aa7a-2be2a4bcfa1d",
   "metadata": {},
   "outputs": [],
   "source": [
    "import os\n",
    "import fsspec\n",
    "import ujson   # fast json\n",
    "from fsspec_reference_maker.hdf import SingleHdf5ToZarr \n",
    "from fsspec_reference_maker.combine import MultiZarrToZarr\n",
    "import xarray as xr\n",
    "import dask"
   ]
  },
  {
   "cell_type": "code",
   "execution_count": null,
   "id": "f06fb054-f5d7-41e8-bd11-9c679de6ac0f",
   "metadata": {},
   "outputs": [],
   "source": [
    "fs = fsspec.filesystem('s3', anon=True)\n",
    "flist = fs.glob('s3://coastalcoupling/usgs/gom1km/*.nc')\n",
    "flist"
   ]
  },
  {
   "cell_type": "markdown",
   "id": "3f4f6cae-5097-4494-957f-d7af9e779f36",
   "metadata": {},
   "source": [
    "Try xr_concat on ncfiles"
   ]
  },
  {
   "cell_type": "code",
   "execution_count": null,
   "id": "92dd1d58-8f82-4c70-ba58-e8c35a68027e",
   "metadata": {},
   "outputs": [],
   "source": [
    "fobjs = [xr.open_dataset(fs.open(f)) for f in flist]\n",
    "ds = xr.concat(fobjs,  join='override', combine_attrs='override', dim='time')\n",
    "ds.water_u\n",
    "ds.water_u[0,0,:,:].plot()"
   ]
  },
  {
   "cell_type": "markdown",
   "id": "75bdd9d4-4897-42ad-aa75-4f88a5d0a8d1",
   "metadata": {},
   "source": [
    "We need to include the \"s3://\" prefix to the list of files so that fsspec will recognize that these JSON files are on S3.   There is no \"storage_options\""
   ]
  },
  {
   "cell_type": "code",
   "execution_count": null,
   "id": "2f9e323a-146b-4190-a487-8fae2758d1ff",
   "metadata": {},
   "outputs": [],
   "source": [
    "urls = [\"s3://\" + f for f in flist]\n",
    "\n",
    "so = dict(mode='rb', anon=True, default_fill_cache=False, default_cache_type='first')"
   ]
  },
  {
   "cell_type": "markdown",
   "id": "5f629ad6-b01b-44a2-b3ea-5c646b39bb32",
   "metadata": {},
   "source": [
    "Create a filesystem to write the json files"
   ]
  },
  {
   "cell_type": "code",
   "execution_count": null,
   "id": "386bf413-1ccc-4ba1-80de-0174686eee59",
   "metadata": {},
   "outputs": [],
   "source": [
    "fs2 = fsspec.filesystem('s3', anon=False)  "
   ]
  },
  {
   "cell_type": "code",
   "execution_count": null,
   "id": "a2aea4a0-c3f2-4811-bc9d-1f9c31177fce",
   "metadata": {},
   "outputs": [],
   "source": [
    "def gen_json(u):\n",
    "    with fs.open(u, **so) as inf:\n",
    "        h5chunks = SingleHdf5ToZarr(inf, u, inline_threshold=300)\n",
    "        fname = u.split('/')[-1]\n",
    "        outf = f's3://esip-qhub/usgs/gom1km/testing/jsons/{fname}.json'\n",
    "        print(outf)\n",
    "        with fs2.open(outf, 'wb') as f:\n",
    "            f.write(ujson.dumps(h5chunks.translate()).encode())"
   ]
  },
  {
   "cell_type": "code",
   "execution_count": null,
   "id": "6963f4d6-af10-4a2b-8e26-e9bbd903b33e",
   "metadata": {},
   "outputs": [],
   "source": [
    "%%time\n",
    "dask.compute(*[dask.delayed(gen_json)(u) for u in urls], retries=10);"
   ]
  },
  {
   "cell_type": "markdown",
   "id": "7c61c32d-f953-43d7-88e6-85b4719349c7",
   "metadata": {},
   "source": [
    "#### Try accessing the individual JSON files directly from S3 as file-like objects"
   ]
  },
  {
   "cell_type": "code",
   "execution_count": null,
   "id": "b0af93cd-1f82-4d8b-9202-01d802a1e31f",
   "metadata": {},
   "outputs": [],
   "source": [
    "flist = fs2.ls('s3://esip-qhub/usgs/gom1km/testing/jsons/')\n",
    "fobjs = [fs2.open(f) for f in flist]"
   ]
  },
  {
   "cell_type": "code",
   "execution_count": null,
   "id": "8cf1da80-1e9c-42b8-a46c-d563f49bf7b1",
   "metadata": {},
   "outputs": [],
   "source": [
    "furls = ['s3://'+f for f in flist]"
   ]
  },
  {
   "cell_type": "code",
   "execution_count": null,
   "id": "ba4d2716-fd47-452c-bc6e-be405da84edd",
   "metadata": {},
   "outputs": [],
   "source": [
    "furls[0]"
   ]
  },
  {
   "cell_type": "code",
   "execution_count": null,
   "id": "b3fbd723-7811-4362-a76e-ae3c46eb82c0",
   "metadata": {},
   "outputs": [],
   "source": [
    "#fsspec.utils.setup_logging(logger_name='s3fs')\n",
    "#fsspec.utils.setup_logging(logger_name='fsspec.reference')"
   ]
  },
  {
   "cell_type": "code",
   "execution_count": null,
   "id": "304b784c-e491-4cfd-a310-1c73616adc8b",
   "metadata": {},
   "outputs": [],
   "source": [
    "import xarray as xr\n",
    "\n",
    "#r_opts = {'anon': False} # NetCDF files on AWS Open Data public bucket\n",
    "r_opts = {'profile': 'julia'}\n",
    "fo = furls[0]\n",
    "\n",
    "fs = fsspec.filesystem(\"reference\", fo=fo, \n",
    "                       remote_protocol='s3', remote_options=r_opts)\n",
    "\n",
    "m = fs.get_mapper(\"\")\n",
    "ds = xr.open_dataset(m, engine=\"zarr\")"
   ]
  },
  {
   "cell_type": "code",
   "execution_count": null,
   "id": "316259be-0aed-46ad-85c3-9fc454bb1c29",
   "metadata": {},
   "outputs": [],
   "source": [
    "fs.ls('water_u')"
   ]
  },
  {
   "cell_type": "code",
   "execution_count": null,
   "id": "8fc17fcf-a21d-4988-962b-3cf6c0508e69",
   "metadata": {},
   "outputs": [],
   "source": [
    "ds"
   ]
  },
  {
   "cell_type": "code",
   "execution_count": null,
   "id": "201ce83d-1229-4c69-9481-117d3aa567b3",
   "metadata": {},
   "outputs": [],
   "source": [
    "ds.water_u.plot()"
   ]
  },
  {
   "cell_type": "code",
   "execution_count": null,
   "id": "52c9ddc4-1433-4613-b450-0fbd2fcc9d34",
   "metadata": {},
   "outputs": [],
   "source": [
    "mzz = MultiZarrToZarr(furls, \n",
    "    storage_options={'anon':False}, \n",
    "    remote_protocol='s3',\n",
    "    remote_options={'anon' : 'True'},   #JSON files  \n",
    "    xarray_open_kwargs={\n",
    "        'decode_cf' : False,\n",
    "        'mask_and_scale' : False,\n",
    "        'decode_times' : False,\n",
    "        'use_cftime' : False,\n",
    "#        'drop_variables': ['reference_time', 'crs'],\n",
    "        'decode_coords' : False\n",
    "    },\n",
    "    xarray_concat_args={\n",
    "#          \"data_vars\": \"minimal\",\n",
    "#          \"coords\": \"minimal\",\n",
    "#          \"compat\": \"override\",\n",
    "        \"join\": \"override\",\n",
    "        \"combine_attrs\": \"override\",\n",
    "        \"dim\": \"time\"\n",
    "    }\n",
    ")"
   ]
  },
  {
   "cell_type": "code",
   "execution_count": null,
   "id": "38993dc4-9923-4d2e-a011-185ad56cc3f4",
   "metadata": {},
   "outputs": [],
   "source": [
    "%%time\n",
    "#%%prun -D multizarr_profile \n",
    "mzz.translate('gom1km.json')"
   ]
  },
  {
   "cell_type": "markdown",
   "id": "503a75b0-4577-47d3-9f97-825e83a18776",
   "metadata": {},
   "source": [
    "#### Try opening the consolidated JSON file"
   ]
  },
  {
   "cell_type": "code",
   "execution_count": null,
   "id": "03c9ba4c-b16e-4913-80cf-b77f760cddca",
   "metadata": {},
   "outputs": [],
   "source": [
    "ds.water_u"
   ]
  },
  {
   "cell_type": "code",
   "execution_count": null,
   "id": "3e09185f-46fa-4f9f-b399-55f473f66235",
   "metadata": {},
   "outputs": [],
   "source": [
    "import hvplot.xarray\n",
    "import numpy as np"
   ]
  },
  {
   "cell_type": "code",
   "execution_count": null,
   "id": "6de90b97-4284-4159-9cab-68b4225dc563",
   "metadata": {},
   "outputs": [],
   "source": [
    "ds"
   ]
  },
  {
   "cell_type": "code",
   "execution_count": null,
   "id": "0c4b2af4-a510-4c07-9f2b-8577a0b959c1",
   "metadata": {},
   "outputs": [],
   "source": [
    "import xarray as xr\n",
    "\n",
    "r_opts = {'anon': True} # NetCDF files on AWS Open Data public bucket\n",
    "\n",
    "fo = 'gom1km_v3.json'\n",
    "fs = fsspec.filesystem(\"reference\", fo=fo, \n",
    "                       remote_protocol='s3', remote_options=r_opts)\n",
    "\n",
    "m = fs.get_mapper(\"\")\n",
    "ds = xr.open_dataset(m, engine=\"zarr\")"
   ]
  },
  {
   "cell_type": "code",
   "execution_count": null,
   "id": "f46c091c-302f-4502-9bc6-39accebf3bcf",
   "metadata": {},
   "outputs": [],
   "source": [
    "ds['speed'] = np.sqrt(ds['surf_wnd_stress_e']**2 + ds['surf_wnd_stress_n']**2)"
   ]
  },
  {
   "cell_type": "code",
   "execution_count": null,
   "id": "8d6e1404-297c-4233-8f02-9bfaf94e0218",
   "metadata": {},
   "outputs": [],
   "source": [
    "ds = ds.assign_coords(lon=(((ds.lon + 180) % 360) - 180))"
   ]
  },
  {
   "cell_type": "code",
   "execution_count": null,
   "id": "35ad5c39-b466-461d-947a-51ba6c82d36b",
   "metadata": {},
   "outputs": [],
   "source": [
    "ds['speed'].hvplot.quadmesh(x='lon', y='lat', rasterize=True, geo=True, cmap='turbo', tiles='OSM')"
   ]
  },
  {
   "cell_type": "code",
   "execution_count": null,
   "id": "89b56331-c72d-493e-a035-3398560799ac",
   "metadata": {},
   "outputs": [],
   "source": [
    "m['water_u/.zarray']"
   ]
  },
  {
   "cell_type": "code",
   "execution_count": null,
   "id": "dc049177-7ebe-483f-b136-a89d0c38bae4",
   "metadata": {},
   "outputs": [],
   "source": [
    "m['water_u/0.0.0.0']"
   ]
  },
  {
   "cell_type": "code",
   "execution_count": null,
   "id": "b4e73193-01d5-41fd-af86-45ba10e69365",
   "metadata": {},
   "outputs": [],
   "source": [
    "fs.ls('water_u')"
   ]
  },
  {
   "cell_type": "code",
   "execution_count": null,
   "id": "e2a050f3-8ec4-4ed1-8295-771fe55f543e",
   "metadata": {},
   "outputs": [],
   "source": [
    "len(m['water_u/0.0.0.0.0'])"
   ]
  },
  {
   "cell_type": "code",
   "execution_count": null,
   "id": "a6bf51da-969d-49d7-bdcd-f0ebaba5c503",
   "metadata": {},
   "outputs": [],
   "source": [
    "with open('gom1km.json') as json_data:\n",
    "    data = ujson.load(json_data)"
   ]
  },
  {
   "cell_type": "code",
   "execution_count": null,
   "id": "9c4c8f79-1138-41a6-8e12-65a434faf68f",
   "metadata": {},
   "outputs": [],
   "source": [
    "var = 'water_u'\n",
    "foo = re.sub(f'{var}/[?].0.0.0.0', f'{var}/[?].0.0.0', data)"
   ]
  },
  {
   "cell_type": "code",
   "execution_count": null,
   "id": "e9216203-505f-48c6-9aa1-4c4cfa409d44",
   "metadata": {},
   "outputs": [],
   "source": [
    "f'{var}/'"
   ]
  },
  {
   "cell_type": "code",
   "execution_count": null,
   "id": "ceb0ae32-19d9-4003-a3ff-626de055e504",
   "metadata": {},
   "outputs": [],
   "source": [
    "ds = ds.drop('tau')"
   ]
  },
  {
   "cell_type": "code",
   "execution_count": null,
   "id": "584673e0-a63a-47d2-bc4f-ddb3754b4aa9",
   "metadata": {},
   "outputs": [],
   "source": [
    "import re"
   ]
  },
  {
   "cell_type": "code",
   "execution_count": null,
   "id": "0c89ab49-55f0-43b9-ad03-81c039de3857",
   "metadata": {},
   "outputs": [],
   "source": [
    "ds.data_vars"
   ]
  },
  {
   "cell_type": "code",
   "execution_count": null,
   "id": "61fe9050-77b0-4a57-926e-962841808d61",
   "metadata": {},
   "outputs": [],
   "source": [
    "re.sub(r'a', 'b', 'banana')"
   ]
  },
  {
   "cell_type": "code",
   "execution_count": null,
   "id": "689c6d68-013b-41cc-98df-144d9fa3c73c",
   "metadata": {},
   "outputs": [],
   "source": [
    "\n",
    "for var in ds.data_vars:\n",
    "    data = data.replace(f'var/?.)\n"
   ]
  },
  {
   "cell_type": "code",
   "execution_count": null,
   "id": "2083d88a-bdc9-4e18-8983-8a78ed8d19a2",
   "metadata": {},
   "outputs": [],
   "source": [
    "for var in data = data.replace{}"
   ]
  },
  {
   "cell_type": "code",
   "execution_count": null,
   "id": "e0922064-c113-4303-945f-6cf105d01a28",
   "metadata": {},
   "outputs": [],
   "source": []
  }
 ],
 "metadata": {
  "kernelspec": {
   "display_name": "Python [conda env:pangeo]",
   "language": "python",
   "name": "conda-env-pangeo-py"
  },
  "language_info": {
   "codemirror_mode": {
    "name": "ipython",
    "version": 3
   },
   "file_extension": ".py",
   "mimetype": "text/x-python",
   "name": "python",
   "nbconvert_exporter": "python",
   "pygments_lexer": "ipython3",
   "version": "3.8.10"
  }
 },
 "nbformat": 4,
 "nbformat_minor": 5
}
