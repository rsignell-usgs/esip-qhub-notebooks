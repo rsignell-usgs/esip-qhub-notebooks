{
 "cells": [
  {
   "cell_type": "markdown",
   "id": "d741d57e-03a1-4c35-b6af-6273992cdb03",
   "metadata": {},
   "source": [
    "# Read NCOM OoT Gulf of Mexico data\n",
    "using Zarr/ReferenceFileSystem"
   ]
  },
  {
   "cell_type": "code",
   "execution_count": null,
   "id": "4ce86ca9-07e5-4924-9ee6-b7ad0e476fca",
   "metadata": {},
   "outputs": [],
   "source": [
    "import fsspec\n",
    "import xarray as xr\n",
    "import json\n",
    "import intake\n",
    "import numpy as np\n",
    "import hvplot.xarray"
   ]
  },
  {
   "cell_type": "code",
   "execution_count": null,
   "id": "ef62e012-972c-4e7f-b8d3-dedcca9cd05d",
   "metadata": {},
   "outputs": [],
   "source": [
    "%%time\n",
    "so = {'anon':False, 'profile':'zarr-collab'}\n",
    "fo = 'kyle.json'\n",
    "#fo = 's3://coawst-public/rsignell/testing/ncom.total.json'\n",
    "fs = fsspec.filesystem(\"reference\", fo=fo, \n",
    "                       remote_protocol=\"s3\", \n",
    "                       remote_options=so, skip_instance_cache=True)\n",
    "m = fs.get_mapper(\"\")\n",
    "ds = xr.open_dataset(m, engine=\"zarr\")"
   ]
  },
  {
   "cell_type": "code",
   "execution_count": null,
   "id": "37c6f424-2cb2-4fa2-9587-ffefab2ff943",
   "metadata": {},
   "outputs": [],
   "source": [
    "ds"
   ]
  },
  {
   "cell_type": "code",
   "execution_count": null,
   "id": "3f41c7ef-6fe8-4311-8098-2e776728e35c",
   "metadata": {},
   "outputs": [],
   "source": [
    "ds.time"
   ]
  },
  {
   "cell_type": "code",
   "execution_count": null,
   "id": "ca14a49e-f9ab-400e-bbca-74c4c786270a",
   "metadata": {},
   "outputs": [],
   "source": [
    "ds.water_u[0,:,:].mean().values"
   ]
  },
  {
   "cell_type": "code",
   "execution_count": null,
   "id": "1211ee36-b09c-46d0-b83c-8ce35ddbaf67",
   "metadata": {},
   "outputs": [],
   "source": [
    "%%time\n",
    "so = {'requester_pays':True}\n",
    "fo = 's3://coawst-public/rsignell/testing/gom1km/gom1km.json'\n",
    "#fo = 's3://coawst-public/rsignell/testing/ncom.total.json'\n",
    "fs = fsspec.filesystem(\"reference\", fo=fo, target_options=so,\n",
    "                       remote_protocol=\"s3\", target_protocol='s3',\n",
    "                       remote_options=so, skip_instance_cache=True)\n",
    "m = fs.get_mapper(\"\")\n",
    "ds = xr.open_dataset(m, engine=\"zarr\", decode_times=False)"
   ]
  },
  {
   "cell_type": "code",
   "execution_count": null,
   "id": "b7b0432c-f034-4ce3-8e51-292274563a09",
   "metadata": {},
   "outputs": [],
   "source": [
    "fs = fsspec.filesystem('s3', profile='zarr-collab')"
   ]
  },
  {
   "cell_type": "code",
   "execution_count": null,
   "id": "e3a97bf1-9e8b-4056-bd52-d50924968d8f",
   "metadata": {},
   "outputs": [],
   "source": [
    "fs.ls('zarrcollab/oot/nrl/gom1km/')[:5]"
   ]
  },
  {
   "cell_type": "code",
   "execution_count": null,
   "id": "5bcccd1e-5e0c-4312-9343-f8171373736d",
   "metadata": {},
   "outputs": [],
   "source": [
    "fs1 = fsspec.filesystem('s3', requester_pays=True)\n",
    "j = fs1.open(\"s3://coawst-public/rsignell/testing/gom1km/gom1km.json\")"
   ]
  },
  {
   "cell_type": "code",
   "execution_count": null,
   "id": "bae4a2e3-b100-4076-823c-7c93164eed34",
   "metadata": {},
   "outputs": [],
   "source": [
    "f = fs1.ls('s3://coawst-public/rsignell/testing/gom1km')"
   ]
  },
  {
   "cell_type": "code",
   "execution_count": null,
   "id": "776fca01-64ab-46e4-84c0-038b1a1fa686",
   "metadata": {},
   "outputs": [],
   "source": [
    "f[1]"
   ]
  },
  {
   "cell_type": "code",
   "execution_count": null,
   "id": "b148dd1f-7131-4c44-9797-185426c5adb6",
   "metadata": {},
   "outputs": [],
   "source": [
    "ds = xr.open_dataset(fs1.open(f[1]))"
   ]
  },
  {
   "cell_type": "code",
   "execution_count": null,
   "id": "9e661736-5551-449d-b82b-19f667ff7901",
   "metadata": {},
   "outputs": [],
   "source": [
    "ds"
   ]
  },
  {
   "cell_type": "code",
   "execution_count": null,
   "id": "dbc93da4-918b-4329-9ea0-343107ae0253",
   "metadata": {},
   "outputs": [],
   "source": [
    "import json"
   ]
  },
  {
   "cell_type": "code",
   "execution_count": null,
   "id": "ed467895-83c8-485b-9a46-413f78bec44a",
   "metadata": {},
   "outputs": [],
   "source": [
    "m = fsspec.get_mapper(\"reference://\", fo=json.load(j), remote_protocol=\"s3\", \n",
    "                              remote_options={\"requester_pays\": 'true'})"
   ]
  },
  {
   "cell_type": "code",
   "execution_count": null,
   "id": "4ef297d1-443e-48f6-b613-3aac972c2a1d",
   "metadata": {},
   "outputs": [],
   "source": [
    "ds = xr.open_dataset(m, engine=\"zarr\", drop_variables='reference_time' )"
   ]
  },
  {
   "cell_type": "code",
   "execution_count": null,
   "id": "e4ba8b33-3260-42f4-98bc-256ba8459804",
   "metadata": {},
   "outputs": [],
   "source": [
    "    m = fsspec.get_mapper(\"reference://\", fo=json.load(afile), \n",
    "                          remote_protocol=\"s3\", \n",
    "                          remote_options={'anon':False, 'profile':'julia'})\n",
    "    ds = xr.open_dataset(m, engine=\"zarr\", drop_variables='reference_time' )"
   ]
  },
  {
   "cell_type": "code",
   "execution_count": null,
   "id": "1badcd80-7bfb-434f-99ec-8b92eaacd878",
   "metadata": {},
   "outputs": [],
   "source": [
    "ds"
   ]
  },
  {
   "cell_type": "code",
   "execution_count": null,
   "id": "a5b27f7f-3431-422b-898c-7b4abb52a6f4",
   "metadata": {},
   "outputs": [],
   "source": [
    "ds.water_u[0,:,:].mean().values"
   ]
  },
  {
   "cell_type": "markdown",
   "id": "21728e03-d28a-48b6-81ca-e618d6ce4014",
   "metadata": {},
   "source": [
    "#### Load from jsons in zip into a single dataset"
   ]
  },
  {
   "cell_type": "code",
   "execution_count": null,
   "id": "9038ce82-3000-4b10-b9b3-dac5c60f0d40",
   "metadata": {},
   "outputs": [],
   "source": [
    "jsons = fsspec.open_files(\"zip://*::s3://coawst-public/rsignell/testing/gom1km.zip\",\n",
    "                          s3={\"requester_pays\": True})\n",
    "with jsons[0] as afile:\n",
    "    m = fsspec.get_mapper(\"reference://\", fo=json.load(afile), \n",
    "                          remote_protocol=\"s3\", \n",
    "                          remote_options={'anon':False, 'profile':'julia'})\n",
    "    ds = xr.open_dataset(m, engine=\"zarr\", drop_variables='reference_time' )"
   ]
  },
  {
   "cell_type": "code",
   "execution_count": null,
   "id": "311c4cc5-e1b0-49fa-8e51-391a010af594",
   "metadata": {},
   "outputs": [],
   "source": [
    "ds.water_u[-1,:,:].mean().values"
   ]
  },
  {
   "cell_type": "code",
   "execution_count": null,
   "id": "f2575a6e-c777-4da2-b4aa-94a613e083ba",
   "metadata": {},
   "outputs": [],
   "source": [
    "ds_list=[]\n",
    "for j in jsons:\n",
    "    with j as afile:\n",
    "        m = fsspec.get_mapper(\"reference://\", fo=json.load(afile), remote_protocol=\"s3\", \n",
    "                              remote_options={\"requester_pays\": 'true'})\n",
    "        ds_list.append(xr.open_dataset(m, engine=\"zarr\", drop_variables='reference_time'))\n",
    "\n",
    "ds = xr.concat(ds_list, dim='time', \n",
    "               coords='minimal', data_vars='minimal', compat='override')"
   ]
  },
  {
   "cell_type": "code",
   "execution_count": null,
   "id": "bc20f65d-dd94-4f27-aec7-ab1eddeeafc9",
   "metadata": {},
   "outputs": [],
   "source": [
    "ds.water_u[0,:,:].mean().values"
   ]
  },
  {
   "cell_type": "markdown",
   "id": "0f63b3e3-ab5f-404b-b632-d9a30d604a67",
   "metadata": {},
   "source": [
    "Drop the singleton depth dimension"
   ]
  },
  {
   "cell_type": "code",
   "execution_count": null,
   "id": "01d4718a-0bac-415c-b147-1730c3248823",
   "metadata": {},
   "outputs": [],
   "source": [
    "ds = ds.squeeze('depth', drop=True)"
   ]
  },
  {
   "cell_type": "markdown",
   "id": "544a1ae9-5418-485c-9d5c-ab543de6bc3e",
   "metadata": {},
   "source": [
    "Use numpy expression for sqrt -- don't need xarray ufuncs"
   ]
  },
  {
   "cell_type": "code",
   "execution_count": null,
   "id": "05975d0d-2c32-43f6-b1ca-7ea39fbece63",
   "metadata": {},
   "outputs": [],
   "source": [
    "ds['speed'] = np.sqrt(ds.water_u**2 + ds.water_v**2)"
   ]
  },
  {
   "cell_type": "markdown",
   "id": "4c6fb9a0-82f3-49c1-93db-b50ab8cca45c",
   "metadata": {},
   "source": [
    "holoviz like lon to be [-180, 180]"
   ]
  },
  {
   "cell_type": "code",
   "execution_count": null,
   "id": "5cd3add3-8e23-4293-bf38-baad95474a6c",
   "metadata": {
    "tags": []
   },
   "outputs": [],
   "source": [
    "ds = ds.assign_coords(lon=(((ds.lon + 180) % 360) - 180))"
   ]
  },
  {
   "cell_type": "code",
   "execution_count": null,
   "id": "33dd035c-67c0-4c2f-895c-f4914f6ee8fa",
   "metadata": {},
   "outputs": [],
   "source": [
    "ds.speed[-1,:,:].hvplot.quadmesh(x='lon', y='lat', \n",
    "                                 rasterize=True, cmap='turbo', \n",
    "                                 geo=True, tiles='OSM')"
   ]
  },
  {
   "cell_type": "code",
   "execution_count": null,
   "id": "8da44904-f5b1-45bc-a2d3-31b99ffa636d",
   "metadata": {},
   "outputs": [],
   "source": [
    "cat = intake.open_catalog('s3://zarrcollab/intake_catalog.yml', \n",
    "                          storage_options={\"requester_pays\": True})"
   ]
  },
  {
   "cell_type": "code",
   "execution_count": null,
   "id": "f959cbf7-4f37-4967-975e-9c30c7b844a8",
   "metadata": {
    "tags": []
   },
   "outputs": [],
   "source": [
    "list(cat)"
   ]
  },
  {
   "cell_type": "code",
   "execution_count": null,
   "id": "26683ea4-3f99-481e-89ad-e5c76ae943fc",
   "metadata": {},
   "outputs": [],
   "source": [
    "ds = cat['oot-nrl-socal1km3dvar'].to_dask()"
   ]
  },
  {
   "cell_type": "code",
   "execution_count": null,
   "id": "ddbdd272-c71a-4156-bf5d-afa6db2482cf",
   "metadata": {
    "tags": []
   },
   "outputs": [],
   "source": [
    "ds.water_u[-1,:,:].mean().values"
   ]
  },
  {
   "cell_type": "code",
   "execution_count": null,
   "id": "c8dd1b73-2684-4ecd-bde4-1dbe25f60f72",
   "metadata": {},
   "outputs": [],
   "source": [
    "ds"
   ]
  },
  {
   "cell_type": "markdown",
   "id": "ed31b7e2-2a0f-41b8-8f63-1dc2c33d9e33",
   "metadata": {},
   "source": [
    "#### Load multiple NetCDF files from a single json"
   ]
  },
  {
   "cell_type": "code",
   "execution_count": null,
   "id": "e8a0a2f8-d05b-4e75-9bf5-27908180b22d",
   "metadata": {},
   "outputs": [],
   "source": [
    "r_opts = {'anon':False, 'profile':'zarr-collab'} # NetCDF files on AWS Open Data public bucket\n",
    "\n",
    "#t_opts = {'profile':'zarr-collab'}  # JSON or zip file on requester pays bucket\n",
    "#fo = \"s3://zarrcollab/oot/nrl/gom1km/gom1km.json\"\n",
    "#fo = 's3://zarrcollab/oot/nrl/socal1km3dvar/socal1km3dvar.json'\n",
    "\n",
    "fo = 's3://zarrcollab/oot/nrl/gom1km/gom1km.json'\n",
    "t_opts = {'anon':False, 'profile':'zarr-collab'}\n",
    "\n",
    "fs = fsspec.filesystem(\"reference\", fo=fo, \n",
    "                       remote_protocol='s3', remote_options=r_opts,\n",
    "                       target_protocol='s3', target_options=t_opts)\n",
    "\n",
    "m = fs.get_mapper(\"\")\n",
    "ds = xr.open_dataset(m, engine=\"zarr\")"
   ]
  },
  {
   "cell_type": "code",
   "execution_count": null,
   "id": "136e03c7-7024-4fde-9371-2954b311cb2b",
   "metadata": {},
   "outputs": [],
   "source": [
    "ds.water_u[-1,:,:].mean().values"
   ]
  },
  {
   "cell_type": "code",
   "execution_count": null,
   "id": "306bebf8-9c1f-464c-b555-89807b7b66f8",
   "metadata": {},
   "outputs": [],
   "source": [
    "fs.download(fo,'gom1km.json')"
   ]
  },
  {
   "cell_type": "code",
   "execution_count": null,
   "id": "4ef458d7-6620-44dc-bf3f-0ce12bc513a6",
   "metadata": {},
   "outputs": [],
   "source": []
  }
 ],
 "metadata": {
  "kernelspec": {
   "display_name": "Python [conda env:pangeo]",
   "language": "python",
   "name": "conda-env-pangeo-py"
  },
  "language_info": {
   "codemirror_mode": {
    "name": "ipython",
    "version": 3
   },
   "file_extension": ".py",
   "mimetype": "text/x-python",
   "name": "python",
   "nbconvert_exporter": "python",
   "pygments_lexer": "ipython3",
   "version": "3.8.10"
  }
 },
 "nbformat": 4,
 "nbformat_minor": 5
}
