{
 "cells": [
  {
   "cell_type": "code",
   "execution_count": null,
   "id": "9f8dbf58-aaf8-40fc-b46d-11bd45c786ac",
   "metadata": {},
   "outputs": [],
   "source": [
    "import fsspec\n",
    "import xarray as xr"
   ]
  },
  {
   "cell_type": "code",
   "execution_count": null,
   "id": "fced9761-a7dc-4837-bc59-25de207f0426",
   "metadata": {},
   "outputs": [],
   "source": [
    "fs = fsspec.filesystem('s3', requester_pays=True)"
   ]
  },
  {
   "cell_type": "code",
   "execution_count": null,
   "id": "a2f9d835-6524-4aa0-8550-c44ed7c8d0b1",
   "metadata": {},
   "outputs": [],
   "source": [
    "urls = [\"s3://\" + p for p in ['coawst-public/rsignell/testing/gom1km/ncom_1_2021032200_00780000.nc',\n",
    "             'coawst-public/rsignell/testing/gom1km/ncom_1_2021032200_00810000.nc',\n",
    "             'coawst-public/rsignell/testing/gom1km/ncom_1_2021032200_00840000.nc',\n",
    "             'coawst-public/rsignell/testing/gom1km/ncom_1_2021032200_00870000.nc',\n",
    "             'coawst-public/rsignell/testing/gom1km/ncom_1_2021032200_00900000.nc',\n",
    "             'coawst-public/rsignell/testing/gom1km/ncom_1_2021032200_00930000.nc',\n",
    "             'coawst-public/rsignell/testing/gom1km/ncom_1_2021032200_00960000.nc',\n",
    "             'coawst-public/rsignell/testing/gom1km/ncom_1_2021032200_00990000.nc']]"
   ]
  },
  {
   "cell_type": "code",
   "execution_count": null,
   "id": "f6508b4d-3b0c-4b95-beaa-018fdbfe4565",
   "metadata": {},
   "outputs": [],
   "source": [
    "f = fs.open(urls[0])"
   ]
  },
  {
   "cell_type": "code",
   "execution_count": null,
   "id": "0d273ed9-d0ce-4d7d-bda7-11713e884448",
   "metadata": {},
   "outputs": [],
   "source": [
    "ds = xr.open_dataset(f)"
   ]
  },
  {
   "cell_type": "code",
   "execution_count": null,
   "id": "1764bd93-f5e6-4d2b-8f98-8e6f8cee3a4f",
   "metadata": {},
   "outputs": [],
   "source": [
    "ds"
   ]
  },
  {
   "cell_type": "code",
   "execution_count": null,
   "id": "f5b6490d-f588-41b8-b4e2-066bbf8ce568",
   "metadata": {},
   "outputs": [],
   "source": []
  }
 ],
 "metadata": {
  "kernelspec": {
   "display_name": "Python [conda env:pangeo]",
   "language": "python",
   "name": "conda-env-pangeo-py"
  },
  "language_info": {
   "codemirror_mode": {
    "name": "ipython",
    "version": 3
   },
   "file_extension": ".py",
   "mimetype": "text/x-python",
   "name": "python",
   "nbconvert_exporter": "python",
   "pygments_lexer": "ipython3",
   "version": "3.8.10"
  }
 },
 "nbformat": 4,
 "nbformat_minor": 5
}
