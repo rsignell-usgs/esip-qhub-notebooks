{
 "cells": [
  {
   "cell_type": "code",
   "execution_count": null,
   "id": "ecfc9393-126a-4527-b73a-32d2a51378f1",
   "metadata": {},
   "outputs": [],
   "source": [
    "%%time\n",
    "\n",
    "r_opts = {'anon': True} # NetCDF files\n",
    "t_opts = {'profile':'zarr-collab'}  # JSON or zip file\n",
    "\n",
    "fo = \"s3://coawst-public/testing/nwm.json\"\n",
    "fs = fsspec.filesystem(\"reference\", fo=fo, \n",
    "                       remote_protocol='s3', remote_options=r_opts,\n",
    "                       target_protocol='s3', target_options=t_opts)\n",
    "\n",
    "m = fs.get_mapper(\"\")\n",
    "ds = xr.open_dataset(m, engine=\"zarr\")"
   ]
  }
 ],
 "metadata": {
  "kernelspec": {
   "display_name": "Python [conda env:pangeo]",
   "language": "python",
   "name": "conda-env-pangeo-py"
  },
  "language_info": {
   "codemirror_mode": {
    "name": "ipython",
    "version": 3
   },
   "file_extension": ".py",
   "mimetype": "text/x-python",
   "name": "python",
   "nbconvert_exporter": "python",
   "pygments_lexer": "ipython3",
   "version": "3.8.10"
  }
 },
 "nbformat": 4,
 "nbformat_minor": 5
}
