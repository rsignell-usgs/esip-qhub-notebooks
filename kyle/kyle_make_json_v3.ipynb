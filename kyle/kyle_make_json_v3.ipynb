{
 "cells": [
  {
   "cell_type": "markdown",
   "id": "5b86af71-052b-4081-844b-779db459068d",
   "metadata": {},
   "source": [
    "# GOM1KM ReferenceFileSystem JSON \n",
    "Create ReferenceFileSystem JSON file for a collection of GOM1km NetCDF files on S3 "
   ]
  },
  {
   "cell_type": "code",
   "execution_count": null,
   "id": "3b6ba617-9772-4ecf-aa7a-2be2a4bcfa1d",
   "metadata": {},
   "outputs": [],
   "source": [
    "import os\n",
    "import fsspec\n",
    "import ujson   # fast json\n",
    "from fsspec_reference_maker.hdf import SingleHdf5ToZarr \n",
    "from fsspec_reference_maker.combine import MultiZarrToZarr\n",
    "import xarray as xr\n",
    "import dask\n",
    "import numpy as np\n",
    "import hvplot.xarray"
   ]
  },
  {
   "cell_type": "code",
   "execution_count": null,
   "id": "f06fb054-f5d7-41e8-bd11-9c679de6ac0f",
   "metadata": {},
   "outputs": [],
   "source": [
    "fs = fsspec.filesystem('s3', profile='zarr-collab')\n",
    "flist = fs.glob('s3://zarrcollab/oot/nrl/gom1km/*.nc')\n",
    "flist"
   ]
  },
  {
   "cell_type": "markdown",
   "id": "75bdd9d4-4897-42ad-aa75-4f88a5d0a8d1",
   "metadata": {},
   "source": [
    "We need to include the \"s3://\" prefix to the list of files so that fsspec will recognize that these JSON files are on S3.   There is no \"storage_options\""
   ]
  },
  {
   "cell_type": "code",
   "execution_count": null,
   "id": "2f9e323a-146b-4190-a487-8fae2758d1ff",
   "metadata": {},
   "outputs": [],
   "source": [
    "urls = [\"s3://\" + f for f in flist]\n",
    "\n",
    "so = dict(mode='rb', profile='zarr-collab', default_fill_cache=False, default_cache_type='first')"
   ]
  },
  {
   "cell_type": "markdown",
   "id": "5f629ad6-b01b-44a2-b3ea-5c646b39bb32",
   "metadata": {},
   "source": [
    "Create a filesystem to write the json files"
   ]
  },
  {
   "cell_type": "code",
   "execution_count": null,
   "id": "a2aea4a0-c3f2-4811-bc9d-1f9c31177fce",
   "metadata": {},
   "outputs": [],
   "source": [
    "def gen_json(u):\n",
    "    with fs.open(u, **so) as inf:\n",
    "        h5chunks = SingleHdf5ToZarr(inf, u, inline_threshold=300)\n",
    "        fname = u.split('/')[-1]\n",
    "        outf = f's3://zarrcollab/oot/nrl/gom1km/jsons/{fname}.json'\n",
    "        print(outf)\n",
    "        with fs.open(outf, 'wb') as f:\n",
    "            f.write(ujson.dumps(h5chunks.translate()).encode())"
   ]
  },
  {
   "cell_type": "code",
   "execution_count": null,
   "id": "ef33998b-65e3-4dda-b7bb-c44cea12b945",
   "metadata": {},
   "outputs": [],
   "source": [
    "from dask.distributed import Client"
   ]
  },
  {
   "cell_type": "code",
   "execution_count": null,
   "id": "4858ae26-0d38-44fe-9537-e05e22896bec",
   "metadata": {},
   "outputs": [],
   "source": [
    "client = Client()"
   ]
  },
  {
   "cell_type": "code",
   "execution_count": null,
   "id": "6963f4d6-af10-4a2b-8e26-e9bbd903b33e",
   "metadata": {},
   "outputs": [],
   "source": [
    "%%time\n",
    "dask.compute(*[dask.delayed(gen_json)(u) for u in urls], retries=10);"
   ]
  },
  {
   "cell_type": "code",
   "execution_count": null,
   "id": "b209dd7d-eba0-45ca-a4f8-24e47a2ba974",
   "metadata": {},
   "outputs": [],
   "source": [
    "client"
   ]
  },
  {
   "cell_type": "markdown",
   "id": "7c61c32d-f953-43d7-88e6-85b4719349c7",
   "metadata": {},
   "source": [
    "#### Try accessing an individual JSON file"
   ]
  },
  {
   "cell_type": "code",
   "execution_count": null,
   "id": "b0af93cd-1f82-4d8b-9202-01d802a1e31f",
   "metadata": {},
   "outputs": [],
   "source": [
    "flist = fs.ls('s3://zarrcollab/oot/nrl/gom1km/jsons/')\n",
    "fobjs = [fs.open(f) for f in flist]"
   ]
  },
  {
   "cell_type": "code",
   "execution_count": null,
   "id": "8cf1da80-1e9c-42b8-a46c-d563f49bf7b1",
   "metadata": {},
   "outputs": [],
   "source": [
    "furls = sorted(['s3://'+f for f in flist])"
   ]
  },
  {
   "cell_type": "code",
   "execution_count": null,
   "id": "ba4d2716-fd47-452c-bc6e-be405da84edd",
   "metadata": {},
   "outputs": [],
   "source": [
    "furls[0]"
   ]
  },
  {
   "cell_type": "code",
   "execution_count": null,
   "id": "4106f9d9-977c-4443-9931-518d26588bcb",
   "metadata": {},
   "outputs": [],
   "source": [
    "#r_opts = {'anon': False} # NetCDF files on AWS Open Data public bucket\n",
    "r_opts = {'profile': 'zarr-collab'}\n",
    "fo = 's3://zarrcollab/oot/nrl/gom1km/jsons/gom1km_2021_03_01_00.nc.json'\n",
    "fs = fsspec.filesystem(\"reference\", fo=fo, ref_storage_args=r_opts,\n",
    "                       remote_protocol='s3', remote_options=r_opts)\n",
    "m = fs.get_mapper(\"\")\n",
    "ds = xr.open_dataset(m, engine=\"zarr\")"
   ]
  },
  {
   "cell_type": "code",
   "execution_count": null,
   "id": "b3fbd723-7811-4362-a76e-ae3c46eb82c0",
   "metadata": {},
   "outputs": [],
   "source": [
    "#fsspec.utils.setup_logging(logger_name='s3fs')\n",
    "#fsspec.utils.setup_logging(logger_name='fsspec.reference')"
   ]
  },
  {
   "cell_type": "code",
   "execution_count": null,
   "id": "316259be-0aed-46ad-85c3-9fc454bb1c29",
   "metadata": {},
   "outputs": [],
   "source": [
    "fs.ls('water_u')"
   ]
  },
  {
   "cell_type": "code",
   "execution_count": null,
   "id": "8fc17fcf-a21d-4988-962b-3cf6c0508e69",
   "metadata": {},
   "outputs": [],
   "source": [
    "ds"
   ]
  },
  {
   "cell_type": "code",
   "execution_count": null,
   "id": "201ce83d-1229-4c69-9481-117d3aa567b3",
   "metadata": {},
   "outputs": [],
   "source": [
    "ds.water_u.plot()"
   ]
  },
  {
   "cell_type": "code",
   "execution_count": null,
   "id": "52c9ddc4-1433-4613-b450-0fbd2fcc9d34",
   "metadata": {},
   "outputs": [],
   "source": [
    "mzz = MultiZarrToZarr(furls, \n",
    "    storage_options=r_opts,\n",
    "    remote_protocol='s3',\n",
    "    remote_options=r_opts,  \n",
    "    xarray_open_kwargs={\n",
    "        'decode_cf' : False,\n",
    "        'mask_and_scale' : False,\n",
    "        'decode_times' : False,\n",
    "        'use_cftime' : False,\n",
    "#        'drop_variables': ['reference_time', 'crs'],\n",
    "        'decode_coords' : False\n",
    "    },\n",
    "    xarray_concat_args={\n",
    "#          \"data_vars\": \"minimal\",\n",
    "#          \"coords\": \"minimal\",\n",
    "#          \"compat\": \"override\",\n",
    "        \"join\": \"override\",\n",
    "        \"combine_attrs\": \"override\",\n",
    "        \"dim\": \"time\"\n",
    "    }\n",
    ")"
   ]
  },
  {
   "cell_type": "code",
   "execution_count": null,
   "id": "38993dc4-9923-4d2e-a011-185ad56cc3f4",
   "metadata": {},
   "outputs": [],
   "source": [
    "%%time\n",
    "#%%prun -D multizarr_profile \n",
    "mzz.translate('gom1km.json')"
   ]
  },
  {
   "cell_type": "markdown",
   "id": "503a75b0-4577-47d3-9f97-825e83a18776",
   "metadata": {},
   "source": [
    "#### Try opening the consolidated JSON file"
   ]
  },
  {
   "cell_type": "code",
   "execution_count": null,
   "id": "0c4b2af4-a510-4c07-9f2b-8577a0b959c1",
   "metadata": {},
   "outputs": [],
   "source": [
    "fo = 'gom1km.json'\n",
    "fs = fsspec.filesystem(\"reference\", fo=fo, \n",
    "                       remote_protocol='s3', remote_options=r_opts)\n",
    "\n",
    "m = fs.get_mapper(\"\")\n",
    "ds = xr.open_dataset(m, engine=\"zarr\")"
   ]
  },
  {
   "cell_type": "code",
   "execution_count": null,
   "id": "03c9ba4c-b16e-4913-80cf-b77f760cddca",
   "metadata": {},
   "outputs": [],
   "source": [
    "ds.water_u"
   ]
  },
  {
   "cell_type": "code",
   "execution_count": null,
   "id": "35ad5c39-b466-461d-947a-51ba6c82d36b",
   "metadata": {},
   "outputs": [],
   "source": [
    "ds.water_u[0,0,:,:].plot()"
   ]
  },
  {
   "cell_type": "code",
   "execution_count": null,
   "id": "b4e73193-01d5-41fd-af86-45ba10e69365",
   "metadata": {},
   "outputs": [],
   "source": [
    "# fs.ls('water_u')"
   ]
  },
  {
   "cell_type": "markdown",
   "id": "4f7af613-417f-4822-bd3e-1f6b36d4dfe6",
   "metadata": {},
   "source": [
    "#### Let's make a fancy plot of surface speed using hvplot\n",
    "hvplot likes lon=[-180,180]"
   ]
  },
  {
   "cell_type": "code",
   "execution_count": null,
   "id": "f547d906-f623-49df-b3ce-a6025de597d4",
   "metadata": {},
   "outputs": [],
   "source": [
    "ds = ds.assign_coords(lon=(((ds.lon + 180) % 360) - 180))"
   ]
  },
  {
   "cell_type": "code",
   "execution_count": null,
   "id": "3c3088db-d6b4-41f3-a27d-cac801edd860",
   "metadata": {},
   "outputs": [],
   "source": [
    "ds['speed'] = np.sqrt(ds['water_u']**2 + ds['water_v']**2)"
   ]
  },
  {
   "cell_type": "code",
   "execution_count": null,
   "id": "f7cab4a4-77fa-4419-91c6-369146e84e1d",
   "metadata": {},
   "outputs": [],
   "source": [
    "ds['speed'].hvplot.quadmesh(x='lon', y='lat', rasterize=True, geo=True, cmap='turbo', tiles='OSM')"
   ]
  },
  {
   "cell_type": "code",
   "execution_count": null,
   "id": "5bb37cfe-554b-451f-b69b-931028fd6577",
   "metadata": {},
   "outputs": [],
   "source": [
    "fs2 = fsspec.filesystem('s3', profile='zarr-collab', skip_instance_cache=True )"
   ]
  },
  {
   "cell_type": "code",
   "execution_count": null,
   "id": "01dc403f-b377-4c1a-b2fa-ce8eec6c48d3",
   "metadata": {},
   "outputs": [],
   "source": [
    "fs2.info(fo)"
   ]
  },
  {
   "cell_type": "code",
   "execution_count": null,
   "id": "38036b45-cef1-49f2-a895-d87a130e0ac5",
   "metadata": {},
   "outputs": [],
   "source": [
    "r_opts = {'profile': 'zarr-collab', 'skip_instance_cache':True}\n",
    "fo = 's3://zarrcollab/oot/nrl/gom1km/gom1km.json'\n",
    "fs = fsspec.filesystem(\"reference\", fo=fo, ref_storage_args=r_opts,\n",
    "                       remote_protocol='s3', remote_options=r_opts)\n",
    "m = fs.get_mapper(\"\")\n",
    "ds = xr.open_dataset(m, engine=\"zarr\")"
   ]
  },
  {
   "cell_type": "code",
   "execution_count": null,
   "id": "e04eda7e-6753-4685-a42c-59ec548f2183",
   "metadata": {},
   "outputs": [],
   "source": [
    "fs.clear_instance_cache()"
   ]
  },
  {
   "cell_type": "code",
   "execution_count": null,
   "id": "4a3050e1-f8e6-4cf2-a1cd-8ce1e7f0a9f2",
   "metadata": {},
   "outputs": [],
   "source": [
    "fs2 = fsspec.filesystem('s3', anon=False, profile='zarr-collab', skip_instance_cache=True)"
   ]
  },
  {
   "cell_type": "code",
   "execution_count": null,
   "id": "85ca763d-8c9f-4a2c-9f1a-e180cb0d2c62",
   "metadata": {},
   "outputs": [],
   "source": [
    "fs2.ls('zarrcollab/oot/nrl/gom1km/')"
   ]
  },
  {
   "cell_type": "code",
   "execution_count": null,
   "id": "0d71a219-9a66-4c98-a1e5-5b73e14b152b",
   "metadata": {},
   "outputs": [],
   "source": [
    "fs2.ls(\"\")"
   ]
  },
  {
   "cell_type": "code",
   "execution_count": null,
   "id": "616d1fcd-5d3a-4951-a2c5-74863e2dabd4",
   "metadata": {},
   "outputs": [],
   "source": []
  }
 ],
 "metadata": {
  "kernelspec": {
   "display_name": "Python [conda env:pangeo]",
   "language": "python",
   "name": "conda-env-pangeo-py"
  },
  "language_info": {
   "codemirror_mode": {
    "name": "ipython",
    "version": 3
   },
   "file_extension": ".py",
   "mimetype": "text/x-python",
   "name": "python",
   "nbconvert_exporter": "python",
   "pygments_lexer": "ipython3",
   "version": "3.8.10"
  }
 },
 "nbformat": 4,
 "nbformat_minor": 5
}
