{
 "cells": [
  {
   "cell_type": "markdown",
   "id": "d741d57e-03a1-4c35-b6af-6273992cdb03",
   "metadata": {},
   "source": [
    "# Read NCOM OoT Gulf of Mexico data\n",
    "using Zarr/ReferenceFileSystem"
   ]
  },
  {
   "cell_type": "code",
   "execution_count": null,
   "id": "4ce86ca9-07e5-4924-9ee6-b7ad0e476fca",
   "metadata": {},
   "outputs": [],
   "source": [
    "import fsspec\n",
    "import xarray as xr\n",
    "import json\n",
    "import intake\n",
    "import numpy as np\n",
    "import hvplot.xarray"
   ]
  },
  {
   "cell_type": "markdown",
   "id": "21728e03-d28a-48b6-81ca-e618d6ce4014",
   "metadata": {},
   "source": [
    "#### Load from jsons in zip into a single dataset"
   ]
  },
  {
   "cell_type": "code",
   "execution_count": null,
   "id": "ac71b7a3-3d52-4c10-be70-061ec197ac3d",
   "metadata": {},
   "outputs": [],
   "source": [
    "%%time\n",
    "jsons = fsspec.open_files(\"zip://*::s3://coawst-public/rsignell/testing/gom1km.zip\",\n",
    "                          s3={\"requester_pays\": True})\n",
    "\n",
    "ds_list=[]\n",
    "for j in jsons:\n",
    "    with j as afile:\n",
    "        m = fsspec.get_mapper(\"reference://\", fo=json.load(afile), remote_protocol=\"s3\", \n",
    "                              remote_options={\"requester_pays\": 'true'})\n",
    "        ds_list.append(xr.open_dataset(m, engine=\"zarr\", drop_variables='reference_time'))\n",
    "\n",
    "ds = xr.concat(ds_list, dim='time', \n",
    "               coords='minimal', data_vars='minimal', compat='override')"
   ]
  },
  {
   "cell_type": "code",
   "execution_count": null,
   "id": "4460b52e-4f4e-4251-a01c-9179d9557a85",
   "metadata": {},
   "outputs": [],
   "source": [
    "ds.water_u[0,:,:].mean().values"
   ]
  },
  {
   "cell_type": "code",
   "execution_count": null,
   "id": "e793cf8d-db63-4a66-bc7d-0b31ccafe594",
   "metadata": {},
   "outputs": [],
   "source": [
    "ds"
   ]
  },
  {
   "cell_type": "markdown",
   "id": "0f63b3e3-ab5f-404b-b632-d9a30d604a67",
   "metadata": {},
   "source": [
    "Drop the singleton depth dimension"
   ]
  },
  {
   "cell_type": "code",
   "execution_count": null,
   "id": "01d4718a-0bac-415c-b147-1730c3248823",
   "metadata": {},
   "outputs": [],
   "source": [
    "ds = ds.squeeze('depth', drop=True)"
   ]
  },
  {
   "cell_type": "markdown",
   "id": "544a1ae9-5418-485c-9d5c-ab543de6bc3e",
   "metadata": {},
   "source": [
    "Use numpy expression for sqrt -- don't need xarray ufuncs"
   ]
  },
  {
   "cell_type": "code",
   "execution_count": null,
   "id": "d4d80087-8522-4d58-bda4-a98ab61b950c",
   "metadata": {},
   "outputs": [],
   "source": [
    "ds.water_u"
   ]
  },
  {
   "cell_type": "code",
   "execution_count": null,
   "id": "05975d0d-2c32-43f6-b1ca-7ea39fbece63",
   "metadata": {},
   "outputs": [],
   "source": [
    "ds['speed'] = np.sqrt(ds.water_u**2 + ds.water_v**2)"
   ]
  },
  {
   "cell_type": "markdown",
   "id": "4c6fb9a0-82f3-49c1-93db-b50ab8cca45c",
   "metadata": {},
   "source": [
    "holoviz like lon to be [-180, 180]"
   ]
  },
  {
   "cell_type": "code",
   "execution_count": null,
   "id": "5cd3add3-8e23-4293-bf38-baad95474a6c",
   "metadata": {
    "tags": []
   },
   "outputs": [],
   "source": [
    "ds = ds.assign_coords(lon=(((ds.lon + 180) % 360) - 180))"
   ]
  },
  {
   "cell_type": "markdown",
   "id": "ae880387-c33e-47fe-9304-fea6833a7785",
   "metadata": {},
   "source": [
    "Visualize with holoviz, zoom/pan with tools on right:"
   ]
  },
  {
   "cell_type": "code",
   "execution_count": null,
   "id": "33dd035c-67c0-4c2f-895c-f4914f6ee8fa",
   "metadata": {},
   "outputs": [],
   "source": [
    "ds.speed.hvplot.quadmesh(x='lon', y='lat', rasterize=True, cmap='turbo', geo=True, tiles='OSM')"
   ]
  },
  {
   "cell_type": "code",
   "execution_count": null,
   "id": "a21e813b-9849-4db2-b185-ce40b0ecc264",
   "metadata": {},
   "outputs": [],
   "source": [
    "ds"
   ]
  },
  {
   "cell_type": "code",
   "execution_count": null,
   "id": "ac78cb45-a081-41f8-ae95-eb198178c102",
   "metadata": {},
   "outputs": [],
   "source": [
    "ds.speed[:,700,800].hvplot(grid=True)"
   ]
  },
  {
   "cell_type": "code",
   "execution_count": null,
   "id": "acc3b747-aba7-40b9-bc8e-7615d2e3c6b9",
   "metadata": {},
   "outputs": [],
   "source": []
  }
 ],
 "metadata": {
  "kernelspec": {
   "display_name": "Python [conda env:pangeo]",
   "language": "python",
   "name": "conda-env-pangeo-py"
  },
  "language_info": {
   "codemirror_mode": {
    "name": "ipython",
    "version": 3
   },
   "file_extension": ".py",
   "mimetype": "text/x-python",
   "name": "python",
   "nbconvert_exporter": "python",
   "pygments_lexer": "ipython3",
   "version": "3.8.10"
  }
 },
 "nbformat": 4,
 "nbformat_minor": 5
}
