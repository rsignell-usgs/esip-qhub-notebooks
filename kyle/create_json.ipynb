{
 "cells": [
  {
   "cell_type": "markdown",
   "id": "d19e46a4-41b4-4081-8332-e8ae375f57a5",
   "metadata": {},
   "source": [
    "# Create JSON for HRRR Grib files"
   ]
  },
  {
   "cell_type": "code",
   "execution_count": null,
   "id": "c812f92c-9ce1-463b-88c3-8a42c9e13177",
   "metadata": {},
   "outputs": [],
   "source": [
    "so = dict(\n",
    "    anon=False, requester_pays=True, default_fill_cache=False, default_cache_type='first'\n",
    ")\n",
    "\n",
    "urls = [\"s3://\" + p for p in ['coawst-public/rsignell/testing/gom1km/ncom_1_2021032200_00780000.nc',\n",
    "             'coawst-public/rsignell/testing/gom1km/ncom_1_2021032200_00810000.nc',\n",
    "             'coawst-public/rsignell/testing/gom1km/ncom_1_2021032200_00840000.nc',\n",
    "             'coawst-public/rsignell/testing/gom1km/ncom_1_2021032200_00870000.nc',\n",
    "             'coawst-public/rsignell/testing/gom1km/ncom_1_2021032200_00900000.nc',\n",
    "             'coawst-public/rsignell/testing/gom1km/ncom_1_2021032200_00930000.nc',\n",
    "             'coawst-public/rsignell/testing/gom1km/ncom_1_2021032200_00960000.nc',\n",
    "             'coawst-public/rsignell/testing/gom1km/ncom_1_2021032200_00990000.nc']]\n"
   ]
  },
  {
   "cell_type": "code",
   "execution_count": null,
   "id": "d08ef39e-4b25-41cf-86b6-0c04c07b33f2",
   "metadata": {},
   "outputs": [],
   "source": [
    "%run hdf.py"
   ]
  },
  {
   "cell_type": "code",
   "execution_count": null,
   "id": "8aef992e-3fd4-4a10-b6c3-78c36df127c4",
   "metadata": {},
   "outputs": [],
   "source": [
    "mzz = MultiZarrToZarr(sorted(glob.glob(\"*.json\")),         remote_protocol=\"s3\",\n",
    "        remote_options={'requester_pays': True}, with_mf=\"time\"\n",
    ")"
   ]
  },
  {
   "cell_type": "code",
   "execution_count": null,
   "id": "a853fbdc-9b73-4059-bffe-e7cddcb0e15a",
   "metadata": {},
   "outputs": [],
   "source": [
    "mzz = MultiZarrToZarr(\"zip://*.json::gom1km.zip\",         remote_protocol=\"s3\",\n",
    "        remote_options={'requester_pays': True}, with_mf=\"time\"\n",
    ")\n",
    "mzz.translate(\"gom1km.json\")"
   ]
  },
  {
   "cell_type": "code",
   "execution_count": null,
   "id": "db5d76d1-f3c2-453e-96f9-450ea3d0bbad",
   "metadata": {},
   "outputs": [],
   "source": []
  },
  {
   "cell_type": "code",
   "execution_count": null,
   "id": "6306cee9-8888-4631-bb02-f0a5ed43358a",
   "metadata": {},
   "outputs": [],
   "source": [
    "mzz = MultiZarrToZarr(\n",
    "    \"zip://*.json::gom1km.zip\",\n",
    "    remote_protocol=\"s3\",\n",
    "    remote_options={'requester_pays': True},\n",
    "    xarray_kwargs={\n",
    "#            \"preprocess\": drop_coords,\n",
    "        \"decode_cf\": False,\n",
    "        \"mask_and_scale\": False,\n",
    "        \"decode_times\": False,\n",
    "        \"decode_timedelta\": False,\n",
    "        \"use_cftime\": False,\n",
    "        \"decode_coords\": False\n",
    "    },\n",
    "    with_mf='time'\n",
    ")\n",
    "mzz.translate(\"gom1km.json\")"
   ]
  },
  {
   "cell_type": "code",
   "execution_count": null,
   "id": "ddfbcdcb-2cd5-453d-8875-0ebf1cb1dcc2",
   "metadata": {},
   "outputs": [],
   "source": [
    "%run hdf.py.orig\n",
    "hdf5_multiple(urls, so)\n",
    "example_ensemble('gom1km.json')"
   ]
  },
  {
   "cell_type": "code",
   "execution_count": null,
   "id": "1b6bccf0-b496-4e97-bcb7-f7ac2332e18d",
   "metadata": {},
   "outputs": [],
   "source": [
    "%run hdf.py\n",
    "example_ensemble()"
   ]
  },
  {
   "cell_type": "code",
   "execution_count": null,
   "id": "0fe290e0-604b-4e48-ab80-c24f23a1c38b",
   "metadata": {},
   "outputs": [],
   "source": [
    "os.path.dirname(files[0]).split('/')[-2]"
   ]
  },
  {
   "cell_type": "code",
   "execution_count": null,
   "id": "5088405d-08ff-45a9-93a5-4c503a0ee69d",
   "metadata": {},
   "outputs": [],
   "source": [
    "os.path.dirname(files[0]).split('/')[-2]+os.path.basename(files[0])[-21:]"
   ]
  },
  {
   "cell_type": "code",
   "execution_count": null,
   "id": "54ca2e25-b469-4e26-b543-48b5a8a9d245",
   "metadata": {},
   "outputs": [],
   "source": [
    "%time example_multi(files)"
   ]
  },
  {
   "cell_type": "code",
   "execution_count": null,
   "id": "0b9b9699-31df-411d-b30f-81db1027a3f7",
   "metadata": {},
   "outputs": [],
   "source": [
    "%%time\n",
    "fslocal = fsspec.filesystem('')\n",
    "json_files = fslocal.glob('hrrr.*.t*.json')"
   ]
  },
  {
   "cell_type": "code",
   "execution_count": null,
   "id": "9307d4a4-5c2b-492d-a254-02cc7d5d73f8",
   "metadata": {},
   "outputs": [],
   "source": [
    "json_files"
   ]
  },
  {
   "cell_type": "code",
   "execution_count": null,
   "id": "e5c8065f-d9c9-4790-aacd-90896b13696e",
   "metadata": {},
   "outputs": [],
   "source": [
    "mzz = MultiZarrToZarr(json_files, remote_protocol=\"s3\",\n",
    "                      remote_options={\"anon\": True}, with_mf='time')\n",
    "mzz.translate(\"hrrr.total.json\")"
   ]
  },
  {
   "cell_type": "markdown",
   "id": "b4abd2cd-e455-4bbc-b630-e71870bd0f24",
   "metadata": {},
   "source": [
    "Try out the resulting JSON:"
   ]
  },
  {
   "cell_type": "code",
   "execution_count": null,
   "id": "8e845344-9491-42b3-81c7-d44461053fd6",
   "metadata": {},
   "outputs": [],
   "source": [
    "import xarray as xr\n",
    "import hvplot.xarray"
   ]
  },
  {
   "cell_type": "code",
   "execution_count": null,
   "id": "4d9c95be-0b37-4b0d-82a4-6eebabcd8782",
   "metadata": {},
   "outputs": [],
   "source": [
    "%%time\n",
    "so = {\"anon\": True}\n",
    "fo = \"hrrr_total.json\"\n",
    "fs = fsspec.filesystem(\"reference\", fo=fo, target_options=so,\n",
    "                       remote_protocol=\"s3\", remote_options=so)\n",
    "m = fs.get_mapper(\"\")\n",
    "ds = xr.open_dataset(m, engine=\"zarr\")"
   ]
  },
  {
   "cell_type": "code",
   "execution_count": null,
   "id": "bbf78792-42f6-4723-90f2-5055cea228b2",
   "metadata": {},
   "outputs": [],
   "source": [
    "ds = ds.assign_coords(longitude=(((ds.longitude + 180) % 360) - 180))"
   ]
  },
  {
   "cell_type": "code",
   "execution_count": null,
   "id": "9803b57b-2f0c-44da-8338-d011555e5d54",
   "metadata": {},
   "outputs": [],
   "source": [
    "ds.t2m.hvplot.quadmesh(x='longitude', y='latitude', \n",
    "                       rasterize=True, geo=True, cmap='turbo', tiles='OSM')"
   ]
  },
  {
   "cell_type": "code",
   "execution_count": null,
   "id": "4a79ce78-49f8-4593-833d-53c44089ab1d",
   "metadata": {},
   "outputs": [],
   "source": []
  }
 ],
 "metadata": {
  "kernelspec": {
   "display_name": "Python [conda env:pangeo]",
   "language": "python",
   "name": "conda-env-pangeo-py"
  },
  "language_info": {
   "codemirror_mode": {
    "name": "ipython",
    "version": 3
   },
   "file_extension": ".py",
   "mimetype": "text/x-python",
   "name": "python",
   "nbconvert_exporter": "python",
   "pygments_lexer": "ipython3",
   "version": "3.8.10"
  }
 },
 "nbformat": 4,
 "nbformat_minor": 5
}
