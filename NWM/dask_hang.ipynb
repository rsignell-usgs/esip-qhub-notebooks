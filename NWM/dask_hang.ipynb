{
 "cells": [
  {
   "cell_type": "code",
   "execution_count": null,
   "metadata": {},
   "outputs": [],
   "source": [
    "import fsspec\n",
    "import xarray as xr"
   ]
  },
  {
   "cell_type": "code",
   "execution_count": null,
   "metadata": {},
   "outputs": [],
   "source": [
    "from dask_gateway import Gateway\n",
    "from dask.distributed import Client\n",
    "gateway = Gateway()\n",
    "# see Gateway options to use in new_cluster by doing: gateway.cluster_options()"
   ]
  },
  {
   "cell_type": "code",
   "execution_count": null,
   "metadata": {},
   "outputs": [],
   "source": [
    "gateway.list_clusters()"
   ]
  },
  {
   "cell_type": "code",
   "execution_count": null,
   "metadata": {},
   "outputs": [],
   "source": [
    "gateway.stop_cluster('83cf47c242e6446b95562bcfff2b8fa9')"
   ]
  },
  {
   "cell_type": "code",
   "execution_count": null,
   "metadata": {},
   "outputs": [],
   "source": [
    "idx=0\n",
    "if not gateway.list_clusters():\n",
    "    cluster = gateway.new_cluster(environment='default', profile='Small Worker')\n",
    "else:\n",
    "    cluster=gateway.connect(gateway.list_clusters()[idx].name)  "
   ]
  },
  {
   "cell_type": "code",
   "execution_count": null,
   "metadata": {},
   "outputs": [],
   "source": [
    "import s3fs; s3fs.__version__"
   ]
  },
  {
   "cell_type": "code",
   "execution_count": null,
   "metadata": {},
   "outputs": [],
   "source": [
    "client = Client(cluster)"
   ]
  },
  {
   "cell_type": "code",
   "execution_count": null,
   "metadata": {},
   "outputs": [],
   "source": [
    "# try a local cluster\n",
    "# client = Client()"
   ]
  },
  {
   "cell_type": "code",
   "execution_count": null,
   "metadata": {},
   "outputs": [],
   "source": [
    "import configparser\n",
    "import os\n",
    "def set_aws_credentials(cfile=os.path.join(os.environ['HOME'],'.aws','credentials'),profile_name='default',region_name='us-east-1',endpoint='s3.amazonaws.com',verbose=False):\n",
    "    '''Sets the aws credentials if not set already and profilename is default'''\n",
    "    cp = configparser.ConfigParser()\n",
    "    cp.read(cfile)\n",
    "    os.environ['aws_access_key_id'.upper()]=cp[profile_name]['aws_access_key_id']\t\n",
    "    os.environ['aws_secret_access_key'.upper()]=cp[profile_name]['aws_secret_access_key']\t\n",
    "    os.environ['aws_profile'.upper()]=profile_name\n",
    "    os.environ['aws_default_profile'.upper()]=profile_name\n",
    "    os.environ['aws_s3_region'.upper()]=region_name\n",
    "    os.environ['aws_s3_endpoint'.upper()]=endpoint\n",
    "    os.environ['aws_default_region'.upper()]=region_name\n",
    "    if verbose:\n",
    "        print('export {}={}'.format('aws_access_key_id'.upper(),cp[profile_name]['aws_access_key_id']\t))\n",
    "        print('export {}={}'.format('aws_secret_access_key'.upper(),cp[profile_name]['aws_secret_access_key']\t))"
   ]
  },
  {
   "cell_type": "code",
   "execution_count": null,
   "metadata": {},
   "outputs": [],
   "source": [
    "set_aws_credentials(profile_name='esip-qhub')"
   ]
  },
  {
   "cell_type": "code",
   "execution_count": null,
   "metadata": {},
   "outputs": [],
   "source": [
    "from dask.distributed import WorkerPlugin\n",
    "import os\n",
    "import uuid\n",
    "import asyncio"
   ]
  },
  {
   "cell_type": "code",
   "execution_count": null,
   "metadata": {},
   "outputs": [],
   "source": [
    "class InitWorker(WorkerPlugin):\n",
    "    name = \"init_worker\"\n",
    "\n",
    "    def __init__(self, filepath=None, script=None):\n",
    "        self.data = {}\n",
    "        if filepath:\n",
    "            if isinstance(filepath, str):\n",
    "                filepath = [filepath]\n",
    "            for file_ in filepath:\n",
    "                with open(file_, \"rb\") as f:\n",
    "                    filename = os.path.basename(file_)\n",
    "                    self.data[filename] = f.read()\n",
    "        if script:\n",
    "            filename = f\"{uuid.uuid1()}.py\"\n",
    "            self.data[filename] = script\n",
    "\n",
    "    async def setup(self, worker):\n",
    "        responses = await asyncio.gather(\n",
    "            *[\n",
    "                worker.upload_file(\n",
    "                    comm=None, filename=filename, data=data, load=True\n",
    "                )\n",
    "                for filename, data in self.data.items()\n",
    "            ]\n",
    "        )\n",
    "        assert all(\n",
    "            len(data) == r[\"nbytes\"]\n",
    "            for r, data in zip(responses, self.data.values())\n",
    "        )"
   ]
  },
  {
   "cell_type": "code",
   "execution_count": null,
   "metadata": {},
   "outputs": [],
   "source": [
    "script = f\"\"\"\n",
    "import os\n",
    "os.environ[\"AWS_ACCESS_KEY_ID\"] = \"{os.getenv(\"AWS_ACCESS_KEY_ID\")}\"\n",
    "os.environ[\"AWS_SECRET_ACCESS_KEY\"] = \"{os.getenv(\"AWS_SECRET_ACCESS_KEY\")}\"\n",
    "os.environ[\"AWS_DEFAULT_REGION\"] = \"{os.getenv(\"AWS_DEFAULT_REGION\")}\"\n",
    "import s3fs\n",
    "s3fs.core.setup_logging('DEBUG')\n",
    "\"\"\""
   ]
  },
  {
   "cell_type": "code",
   "execution_count": null,
   "metadata": {},
   "outputs": [],
   "source": [
    "plugin = InitWorker(script=script)\n",
    "client.register_worker_plugin(plugin)"
   ]
  },
  {
   "cell_type": "code",
   "execution_count": null,
   "metadata": {},
   "outputs": [],
   "source": [
    "client"
   ]
  },
  {
   "cell_type": "code",
   "execution_count": null,
   "metadata": {},
   "outputs": [],
   "source": [
    "cluster.scale(10)"
   ]
  },
  {
   "cell_type": "code",
   "execution_count": null,
   "metadata": {},
   "outputs": [],
   "source": [
    "url = 's3://noaa-nwm-retro-v2.0-pds/full_physics/2018/201801010000.CHRTOUT_DOMAIN1.comp'\n",
    "ncfile = fsspec.open(url)\n",
    "dset = xr.open_dataset(ncfile.open(), engine='h5netcdf', chunks={'feature_id':600000})"
   ]
  },
  {
   "cell_type": "code",
   "execution_count": null,
   "metadata": {},
   "outputs": [],
   "source": [
    "dset.data_vars"
   ]
  },
  {
   "cell_type": "code",
   "execution_count": null,
   "metadata": {},
   "outputs": [],
   "source": [
    "dset.elevation"
   ]
  },
  {
   "cell_type": "code",
   "execution_count": null,
   "metadata": {},
   "outputs": [],
   "source": [
    "for var in dset.data_vars:\n",
    "    try:\n",
    "        dset[var].mean(dim='feature_id').compute()\n",
    "    except:\n",
    "        pass"
   ]
  },
  {
   "cell_type": "code",
   "execution_count": null,
   "metadata": {},
   "outputs": [],
   "source": [
    "fs = fsspec.filesystem('s3', anon=False)\n",
    "chunked_url = 's3://esip-qhub/usgs/zarr/nwm/chunked.zarr'\n",
    "zarr_chunked = fs.get_mapper(chunked_url)"
   ]
  },
  {
   "cell_type": "code",
   "execution_count": null,
   "metadata": {},
   "outputs": [],
   "source": [
    "for i in range(4):\n",
    "    %time delayed_obj = dset.to_zarr(zarr_chunked, mode='w', compute=False)\n",
    "    %time delayed_obj.compute()"
   ]
  },
  {
   "cell_type": "code",
   "execution_count": null,
   "metadata": {},
   "outputs": [],
   "source": [
    "client"
   ]
  },
  {
   "cell_type": "code",
   "execution_count": null,
   "metadata": {},
   "outputs": [],
   "source": [
    "#cluster.shutdown()"
   ]
  },
  {
   "cell_type": "code",
   "execution_count": null,
   "metadata": {},
   "outputs": [],
   "source": [
    "for i in range(4):\n",
    "    %time delayed_obj = dset.to_zarr(zarr_chunked, mode='w', compute=False)\n",
    "    %time delayed_obj.compute()"
   ]
  }
 ],
 "metadata": {
  "kernelspec": {
   "display_name": "Python [conda env:default]",
   "language": "python",
   "name": "conda-env-default-py"
  },
  "language_info": {
   "codemirror_mode": {
    "name": "ipython",
    "version": 3
   },
   "file_extension": ".py",
   "mimetype": "text/x-python",
   "name": "python",
   "nbconvert_exporter": "python",
   "pygments_lexer": "ipython3",
   "version": "3.7.10"
  }
 },
 "nbformat": 4,
 "nbformat_minor": 4
}
