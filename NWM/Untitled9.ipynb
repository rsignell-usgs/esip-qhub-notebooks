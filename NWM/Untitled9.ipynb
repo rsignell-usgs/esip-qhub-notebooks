{
 "cells": [
  {
   "cell_type": "code",
   "execution_count": null,
   "id": "7ba95a12-292b-4560-820f-86ad78c5ec60",
   "metadata": {},
   "outputs": [],
   "source": [
    "import fsspec"
   ]
  },
  {
   "cell_type": "code",
   "execution_count": null,
   "id": "a7f4e816-043c-4441-b083-c4c98f7e150f",
   "metadata": {},
   "outputs": [],
   "source": [
    "fs = fsspec.filesystem('s3', requester_pays=True)"
   ]
  },
  {
   "cell_type": "code",
   "execution_count": null,
   "id": "2d6b3b3e-31c9-4d43-b911-0a74da7f8f3f",
   "metadata": {},
   "outputs": [],
   "source": [
    "fs.ls('esip-qhub/')"
   ]
  },
  {
   "cell_type": "code",
   "execution_count": null,
   "id": "1e04c858-5775-4495-bef6-84a4b2fdd8fa",
   "metadata": {},
   "outputs": [],
   "source": []
  }
 ],
 "metadata": {
  "kernelspec": {
   "display_name": "Python [conda env:pangeo]",
   "language": "python",
   "name": "conda-env-pangeo-py"
  },
  "language_info": {
   "codemirror_mode": {
    "name": "ipython",
    "version": 3
   },
   "file_extension": ".py",
   "mimetype": "text/x-python",
   "name": "python",
   "nbconvert_exporter": "python",
   "pygments_lexer": "ipython3",
   "version": "3.8.10"
  }
 },
 "nbformat": 4,
 "nbformat_minor": 5
}
