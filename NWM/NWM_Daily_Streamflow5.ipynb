{
 "cells": [
  {
   "cell_type": "markdown",
   "id": "890cb933",
   "metadata": {},
   "source": [
    "# Read hourly data, write daily data"
   ]
  },
  {
   "cell_type": "code",
   "execution_count": null,
   "id": "39c12e3c",
   "metadata": {},
   "outputs": [],
   "source": [
    "import xarray as xr\n",
    "import dask.distributed\n",
    "from dask.distributed import Client\n",
    "import fsspec"
   ]
  },
  {
   "cell_type": "code",
   "execution_count": null,
   "id": "e49feb68",
   "metadata": {},
   "outputs": [],
   "source": [
    "import os\n",
    "import sys\n",
    "sys.path.append(os.path.join(os.environ['HOME'],'shared','users','lib'))\n",
    "import ebdpy as ebd\n",
    "\n",
    "ebd.set_credentials(profile='esip-qhub')\n",
    "\n",
    "profile = 'esip-qhub'\n",
    "region = 'us-west-2'\n",
    "endpoint = f's3.{region}.amazonaws.com'\n",
    "ebd.set_credentials(profile=profile, region=region, endpoint=endpoint)\n",
    "worker_max = 10\n",
    "client,cluster = ebd.start_dask_cluster(profile=profile,worker_max=worker_max, \n",
    "                                      region=region, use_existing_cluster=True,\n",
    "                                      adaptive_scaling=False, wait_for_cluster=False, \n",
    "                                      environment='pangeo', worker_profile='Pangeo Worker', propagate_env=True)"
   ]
  },
  {
   "cell_type": "code",
   "execution_count": null,
   "id": "da09b467",
   "metadata": {},
   "outputs": [],
   "source": [
    "client"
   ]
  },
  {
   "cell_type": "code",
   "execution_count": null,
   "id": "392f736d",
   "metadata": {},
   "outputs": [],
   "source": [
    "fs1 = fsspec.filesystem('s3', anon=True)\n",
    "read_url = 's3://noaa-nwm-retro-v2-zarr-pds'\n",
    "read_mapper = fs1.get_mapper(read_url)"
   ]
  },
  {
   "cell_type": "code",
   "execution_count": null,
   "id": "1d6025d9",
   "metadata": {},
   "outputs": [],
   "source": [
    "fs2 = fsspec.filesystem('s3', anon=False)\n",
    "write_url = 's3://esip-qhub/usgs/rsignell/zarr/zarr_daily'\n",
    "write_mapper = fs2.get_mapper(write_url)"
   ]
  },
  {
   "cell_type": "code",
   "execution_count": null,
   "id": "9241a01b",
   "metadata": {},
   "outputs": [],
   "source": [
    "%%time\n",
    "ds = xr.open_zarr(read_mapper, consolidated=True)"
   ]
  },
  {
   "cell_type": "code",
   "execution_count": null,
   "id": "09b7b4e5",
   "metadata": {},
   "outputs": [],
   "source": [
    "ds.streamflow"
   ]
  },
  {
   "cell_type": "code",
   "execution_count": null,
   "id": "133aff5c",
   "metadata": {},
   "outputs": [],
   "source": [
    "ds2 = ds.sel(time='2017-01')"
   ]
  },
  {
   "cell_type": "code",
   "execution_count": null,
   "id": "af94f46c",
   "metadata": {},
   "outputs": [],
   "source": [
    "#client.scatter(ds2)"
   ]
  },
  {
   "cell_type": "code",
   "execution_count": null,
   "id": "a106b018",
   "metadata": {},
   "outputs": [],
   "source": [
    "daily_mean = ds2.resample(time='D').mean()"
   ]
  },
  {
   "cell_type": "code",
   "execution_count": null,
   "id": "5ab2c1ad",
   "metadata": {},
   "outputs": [],
   "source": [
    "daily_mean.streamflow"
   ]
  },
  {
   "cell_type": "code",
   "execution_count": null,
   "id": "502c5b24",
   "metadata": {},
   "outputs": [],
   "source": [
    "daily_mean.attrs = ds.attrs"
   ]
  },
  {
   "cell_type": "code",
   "execution_count": null,
   "id": "c42e24f5",
   "metadata": {},
   "outputs": [],
   "source": [
    "daily_mean = daily_mean.chunk({'time':672})"
   ]
  },
  {
   "cell_type": "code",
   "execution_count": null,
   "id": "904d2132",
   "metadata": {},
   "outputs": [],
   "source": [
    "daily_mean.streamflow"
   ]
  },
  {
   "cell_type": "code",
   "execution_count": null,
   "id": "abdfb102",
   "metadata": {},
   "outputs": [],
   "source": [
    "def delete_s3(url):\n",
    "    fs1 = fsspec.open(url, anon=False).fs\n",
    "    if fs1.exists(url):\n",
    "        fs1.rm(url, recursive=True)"
   ]
  },
  {
   "cell_type": "code",
   "execution_count": null,
   "id": "cfc5506c",
   "metadata": {},
   "outputs": [],
   "source": [
    "delete_s3(write_url)"
   ]
  },
  {
   "cell_type": "code",
   "execution_count": null,
   "id": "f2e20c3e",
   "metadata": {},
   "outputs": [],
   "source": [
    "write_url"
   ]
  },
  {
   "cell_type": "code",
   "execution_count": null,
   "id": "be57765e",
   "metadata": {},
   "outputs": [],
   "source": [
    "%%time\n",
    "a = daily_mean.to_zarr(write_mapper, compute=False, mode='w', consolidated=True)"
   ]
  },
  {
   "cell_type": "code",
   "execution_count": null,
   "id": "4e132bf4",
   "metadata": {},
   "outputs": [],
   "source": [
    "len(a.dask)"
   ]
  },
  {
   "cell_type": "code",
   "execution_count": null,
   "id": "e32dce40",
   "metadata": {},
   "outputs": [],
   "source": [
    "fs2.ls(write_url)"
   ]
  },
  {
   "cell_type": "code",
   "execution_count": null,
   "id": "680842c8",
   "metadata": {},
   "outputs": [],
   "source": [
    "%%time\n",
    "dask.compute(a, retries=10)"
   ]
  },
  {
   "cell_type": "code",
   "execution_count": null,
   "id": "6fd1ed86",
   "metadata": {},
   "outputs": [],
   "source": [
    "26*12*2.5/60/4"
   ]
  },
  {
   "cell_type": "code",
   "execution_count": null,
   "id": "a58454c5",
   "metadata": {},
   "outputs": [],
   "source": [
    "def _apply_along_axis(arr, func1d, func1d_axis):\n",
    "    \"\"\"Wrap apply_along_axis\"\"\"\n",
    "    return np.apply_along_axis(func1d, func1d_axis, arr)\n",
    "\n",
    "\n",
    "def apply_along_axis(func1d, axis, arr):\n",
    "    \"\"\"Apply the harmonic analysis to 1-D slices along the given axis.\"\"\"\n",
    "    arr = dask.array.core.asarray(arr)\n",
    "\n",
    "    # Validate and normalize axis.\n",
    "    arr.shape[axis]\n",
    "    axis = len(arr.shape[:axis])\n",
    "\n",
    "    # Test out some data with the function.\n",
    "    test_data = np.ones(args[0].shape[1], dtype=arr.dtype)\n",
    "    test_result = np.array(func1d(test_data))\n",
    "\n",
    "    # Map analyze over the data to get the result\n",
    "    # Adds other axes as needed.\n",
    "    result = arr.map_blocks(\n",
    "        _apply_along_axis,\n",
    "        name=dask.utils.funcname(func1d) + '-along-axis',\n",
    "        dtype=test_result.dtype,\n",
    "        chunks=(arr.chunks[:axis] + test_result.shape + arr.chunks[axis + 1:]),\n",
    "        drop_axis=axis,\n",
    "        new_axis=list(range(axis, axis + test_result.ndim, 1)),\n",
    "        func1d=func1d,\n",
    "        func1d_axis=axis\n",
    "    )\n",
    "\n",
    "    return result"
   ]
  },
  {
   "cell_type": "code",
   "execution_count": null,
   "id": "a6fce186",
   "metadata": {},
   "outputs": [],
   "source": [
    "import numpy as np"
   ]
  },
  {
   "cell_type": "code",
   "execution_count": null,
   "id": "dbb7ce4e",
   "metadata": {},
   "outputs": [],
   "source": [
    "future = apply_along_axis(np.mean, 0, da)"
   ]
  }
 ],
 "metadata": {
  "kernelspec": {
   "display_name": "Python [conda env:pangeo]",
   "language": "python",
   "name": "conda-env-pangeo-py"
  },
  "language_info": {
   "codemirror_mode": {
    "name": "ipython",
    "version": 3
   },
   "file_extension": ".py",
   "mimetype": "text/x-python",
   "name": "python",
   "nbconvert_exporter": "python",
   "pygments_lexer": "ipython3",
   "version": "3.8.8"
  }
 },
 "nbformat": 4,
 "nbformat_minor": 5
}
