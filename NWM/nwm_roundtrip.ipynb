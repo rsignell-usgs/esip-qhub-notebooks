{
 "cells": [
  {
   "cell_type": "markdown",
   "id": "63feb1dd-3cce-4d10-baf3-eef39665dfb2",
   "metadata": {},
   "source": [
    "#### Encoding for streamflow from single NetCDF file from S3"
   ]
  },
  {
   "cell_type": "code",
   "execution_count": null,
   "id": "f7e649d6-f4db-452d-a1bc-11ee19cfeaba",
   "metadata": {},
   "outputs": [],
   "source": [
    "import xarray as xr\n",
    "import fsspec"
   ]
  },
  {
   "cell_type": "code",
   "execution_count": null,
   "id": "94dbcce5-1dfe-4ce7-a7bc-2adadde2149a",
   "metadata": {},
   "outputs": [],
   "source": [
    "url = 's3://noaa-nwm-retrospective-2-1-pds/model_output/2020/202001011100.CHRTOUT_DOMAIN1.comp'"
   ]
  },
  {
   "cell_type": "code",
   "execution_count": null,
   "id": "b2e7adcc-f5bd-4472-b768-a34f1e099794",
   "metadata": {},
   "outputs": [],
   "source": [
    "fs = fsspec.filesystem('s3', anon=True)\n",
    "ds = xr.open_dataset(fs.open(url), drop_variables='reference_time', chunks={})"
   ]
  },
  {
   "cell_type": "code",
   "execution_count": null,
   "id": "e8f1a977-b166-4194-a055-e614ee837e62",
   "metadata": {},
   "outputs": [],
   "source": [
    "ds.streamflow.encoding"
   ]
  },
  {
   "cell_type": "code",
   "execution_count": null,
   "id": "87a58f92-796b-404e-958c-4b6015d9421d",
   "metadata": {},
   "outputs": [],
   "source": [
    "ds.to_netcdf('roundtrip.nc', mode='w')"
   ]
  },
  {
   "cell_type": "code",
   "execution_count": null,
   "id": "a2975878-a7d7-4ec5-a68d-09aa8804aaf1",
   "metadata": {},
   "outputs": [],
   "source": [
    "xr.open_dataset('roundtrip.nc').streamflow.encoding"
   ]
  }
 ],
 "metadata": {
  "kernelspec": {
   "display_name": "Python [conda env:pangeo]",
   "language": "python",
   "name": "conda-env-pangeo-py"
  },
  "language_info": {
   "codemirror_mode": {
    "name": "ipython",
    "version": 3
   },
   "file_extension": ".py",
   "mimetype": "text/x-python",
   "name": "python",
   "nbconvert_exporter": "python",
   "pygments_lexer": "ipython3",
   "version": "3.8.10"
  }
 },
 "nbformat": 4,
 "nbformat_minor": 5
}
