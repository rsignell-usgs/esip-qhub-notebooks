{
 "cells": [
  {
   "cell_type": "code",
   "execution_count": null,
   "id": "852c807a-6740-469b-a894-d60830b82eab",
   "metadata": {},
   "outputs": [],
   "source": [
    "import fsspec\n",
    "import hvplot.xarray\n",
    "import xarray as xr"
   ]
  },
  {
   "cell_type": "code",
   "execution_count": null,
   "id": "b623e528-2b15-42c8-a92a-d50519dcbf4f",
   "metadata": {},
   "outputs": [],
   "source": [
    "fs2 = fsspec.filesystem('s3', anon=False)  "
   ]
  },
  {
   "cell_type": "code",
   "execution_count": null,
   "id": "fadab206-31f6-4a9c-9cc6-e2a7775037f8",
   "metadata": {},
   "outputs": [],
   "source": [
    "rpath = 's3://esip-qhub/noaa/goes16.json'\n",
    "\n",
    "fs2.put_file(lpath='goes16.json', rpath=rpath)"
   ]
  },
  {
   "cell_type": "code",
   "execution_count": null,
   "id": "a17030c8-3c3d-4695-b13c-03fb446e7712",
   "metadata": {},
   "outputs": [],
   "source": [
    "s_opts = {'requester_pays':True, 'skip_instance_cache':True}\n",
    "r_opts = {'anon':True}\n",
    "fs = fsspec.filesystem(\"reference\", fo=rpath, ref_storage_args=s_opts,\n",
    "                       remote_protocol='s3', remote_options=r_opts)\n",
    "m = fs.get_mapper(\"\")\n",
    "ds = xr.open_dataset(m, engine=\"zarr\")"
   ]
  },
  {
   "cell_type": "code",
   "execution_count": null,
   "id": "53d759b0-7f89-4c5f-bd5c-4d67850192e2",
   "metadata": {},
   "outputs": [],
   "source": [
    "ds"
   ]
  },
  {
   "cell_type": "code",
   "execution_count": null,
   "id": "3d224561-1fd5-4560-a0b1-07514041d75a",
   "metadata": {},
   "outputs": [],
   "source": [
    "ds.SST.hvplot.image(x='x', y='y', rasterize=True, geo=True, alpha=0.7, \n",
    "                    turtiles='OSM')"
   ]
  },
  {
   "cell_type": "code",
   "execution_count": null,
   "id": "078a28f8-03a7-49a2-99db-04274411a476",
   "metadata": {},
   "outputs": [],
   "source": []
  }
 ],
 "metadata": {
  "kernelspec": {
   "display_name": "Python [conda env:pangeo]",
   "language": "python",
   "name": "conda-env-pangeo-py"
  },
  "language_info": {
   "codemirror_mode": {
    "name": "ipython",
    "version": 3
   },
   "file_extension": ".py",
   "mimetype": "text/x-python",
   "name": "python",
   "nbconvert_exporter": "python",
   "pygments_lexer": "ipython3",
   "version": "3.8.10"
  }
 },
 "nbformat": 4,
 "nbformat_minor": 5
}
