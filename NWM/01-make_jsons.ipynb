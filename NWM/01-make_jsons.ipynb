{
 "cells": [
  {
   "cell_type": "markdown",
   "id": "c7fa57fc-3b15-4ca8-86b2-1b040b449274",
   "metadata": {},
   "source": [
    "# Create JSONS with fsspec ReferenceMaker\n",
    "## 24 hours of GOES data\n",
    "Needed:\n",
    "- fsspec-reference-maker\n",
    "    - `pip install git+https://github.com/intake/fsspec-reference-maker`\n",
    "- adlfs >= 0.7.7\n",
    "    - `pip install --upgrade adlfs>=0.7.7`"
   ]
  },
  {
   "cell_type": "code",
   "execution_count": null,
   "id": "1c3eb616-aabd-46ca-9cb1-5461dcf88368",
   "metadata": {},
   "outputs": [],
   "source": [
    "from fsspec_reference_maker.hdf import SingleHdf5ToZarr \n",
    "from fsspec_reference_maker.combine import MultiZarrToZarr"
   ]
  },
  {
   "cell_type": "code",
   "execution_count": null,
   "id": "e42b812b-c024-4564-aeea-bdfe565cab02",
   "metadata": {},
   "outputs": [],
   "source": [
    "import xarray as xr\n",
    "import numpy as np\n",
    "import matplotlib.pyplot as plt\n",
    "import datetime as dt\n",
    "import zipfile\n",
    "import logging\n",
    "import fsspec\n",
    "import ujson\n",
    "from tqdm import tqdm\n",
    "from glob import glob\n",
    "import os\n",
    "\n",
    "from azure.storage.blob import ContainerClient\n",
    "import tempfile\n",
    "\n",
    "import dask"
   ]
  },
  {
   "cell_type": "code",
   "execution_count": null,
   "id": "38bb07bd-264d-43bd-acc7-e0f48e6faaad",
   "metadata": {},
   "outputs": [],
   "source": [
    "import adlfs\n",
    "fs = adlfs.AzureBlobFileSystem(account_name=\"goeseuwest\")\n",
    "\n",
    "fs.ls(\"noaa-goes16\")\n"
   ]
  },
  {
   "cell_type": "code",
   "execution_count": null,
   "id": "717dd0cc-450a-42cd-ac22-ae0b2277464c",
   "metadata": {},
   "outputs": [],
   "source": [
    "fs = fsspec.filesystem('az', account_name='goeseuwest')\n",
    "fs.glob('az://noaa-goes16/ABI-L2-MCMIPF/2020/002/00/*.nc')"
   ]
  },
  {
   "cell_type": "code",
   "execution_count": null,
   "id": "a3ffbb01-1601-496d-90ad-0d948134e21f",
   "metadata": {},
   "outputs": [],
   "source": [
    "fs.glob "
   ]
  },
  {
   "cell_type": "code",
   "execution_count": null,
   "id": "e090bceb-99ec-451c-a9d0-4b5622cb73d8",
   "metadata": {},
   "outputs": [],
   "source": [
    "import os\n",
    "import sys\n",
    "sys.path.append(os.path.join(os.environ['HOME'],'shared','users','lib'))\n",
    "import ebdpy as ebd\n",
    "\n",
    "ebd.set_credentials(profile='esip-qhub')\n",
    "\n",
    "profile = 'esip-qhub'\n",
    "region = 'us-west-2'\n",
    "endpoint = f's3.{region}.amazonaws.com'\n",
    "ebd.set_credentials(profile=profile, region=region, endpoint=endpoint)\n",
    "worker_max = 10\n",
    "client,cluster = ebd.start_dask_cluster(profile=profile,worker_max=worker_max, \n",
    "                                      region=region, use_existing_cluster=True,\n",
    "                                      adaptive_scaling=False, wait_for_cluster=False, \n",
    "                                      environment='pangeo', worker_profile='Pangeo Worker', \n",
    "                                      propagate_env=True)"
   ]
  },
  {
   "cell_type": "code",
   "execution_count": null,
   "id": "bce531fb-cad4-4255-bebd-6a7652dd5857",
   "metadata": {},
   "outputs": [],
   "source": [
    "from dask.distributed import Client\n",
    "client = Client()\n",
    "client"
   ]
  },
  {
   "cell_type": "code",
   "execution_count": null,
   "id": "3c0e410e-0547-4c84-89da-ddcb29fe3eaa",
   "metadata": {},
   "outputs": [],
   "source": []
  },
  {
   "cell_type": "markdown",
   "id": "32ca9d6b-4f95-45dc-9ae1-9194868c8db4",
   "metadata": {},
   "source": [
    "## Get urls"
   ]
  },
  {
   "cell_type": "code",
   "execution_count": null,
   "id": "fe77cd70-5226-4a4c-94dc-a2f306b4d1fb",
   "metadata": {},
   "outputs": [],
   "source": [
    "tempdir = os.path.join(tempfile.gettempdir(), 'goes')\n",
    "os.makedirs(tempdir, exist_ok=True)\n",
    "\n",
    "product = 'ABI-L2-MCMIPF'\n",
    "syear = '2020'; sday='002'; shour = '14'\n",
    "\n",
    "storage_account_url = 'https://goes.blob.core.windows.net'\n",
    "container_name = 'noaa-goes16'\n",
    "goes_blob_root = storage_account_url + '/' + container_name + '/'\n",
    "\n",
    "goes_container_client = ContainerClient(account_url=storage_account_url, container_name=container_name, credential=None)\n",
    "\n",
    "def download_url(url):\n",
    "    url_as_filename = url.replace('://', '_').replace('/','_')\n",
    "    destination_filename = os.path.join(tempdir, url_as_filename)\n",
    "    urllib.request.urlretrieve(url, destination_filename)\n",
    "    return destination_filename\n",
    "\n",
    "prefix = product + '/' + syear + '/' + sday + '/' \n",
    "print('Finding blobs matching prefex: {}'.format(prefix))\n",
    "generator = goes_container_client.list_blobs(name_starts_with=prefix)\n",
    "blobs = []\n",
    "for blob in generator:\n",
    "    blobs.append(blob.name)"
   ]
  },
  {
   "cell_type": "code",
   "execution_count": null,
   "id": "1c19cfbe-0517-4767-ad6d-550d33e2a777",
   "metadata": {},
   "outputs": [],
   "source": [
    "urllist = ['az://' + container_name + '/' + u  for u in blobs]"
   ]
  },
  {
   "cell_type": "code",
   "execution_count": null,
   "id": "3c85efe7-df3d-4581-8309-53e5ec72a689",
   "metadata": {},
   "outputs": [],
   "source": [
    "urllist[0]"
   ]
  },
  {
   "cell_type": "code",
   "execution_count": null,
   "id": "280821e0-45f3-4378-be3d-5acd667280a2",
   "metadata": {},
   "outputs": [],
   "source": [
    "#storage_options = {'account_name': 'azureopendatastorage'}\n",
    "#ddf = dd.read_parquet('az://nyctlc/green/puYear=2019/puMonth=*/*.parquet', storage_options=storage_options)"
   ]
  },
  {
   "cell_type": "code",
   "execution_count": null,
   "id": "c265371e-bdad-4842-8bf7-1d43feaff402",
   "metadata": {},
   "outputs": [],
   "source": [
    "#storage_options = {'account_name': ''https://goes.blob.core.windows.net''}\n",
    "#fs.ls('az://noaa-goes16/ABI-L2-MCMIPF/'')"
   ]
  },
  {
   "cell_type": "code",
   "execution_count": null,
   "id": "54061a11-67e6-48b4-bf6c-3974bc48d078",
   "metadata": {},
   "outputs": [],
   "source": [
    "client.close()"
   ]
  },
  {
   "cell_type": "code",
   "execution_count": null,
   "id": "b4841980-b1ae-4c62-be9c-f80dcf000ae8",
   "metadata": {},
   "outputs": [],
   "source": [
    "fs = fsspec.filesystem(\"az\", account_name=\"noaa-goes16\")"
   ]
  },
  {
   "cell_type": "code",
   "execution_count": null,
   "id": "837948da-299c-4a8e-aef1-3f791851f377",
   "metadata": {},
   "outputs": [],
   "source": [
    "fs.ls('az://noaa-goes16/ABI-L2-MCMIPF/')"
   ]
  },
  {
   "cell_type": "markdown",
   "id": "04306750-5da3-4895-93bd-42a71be1bbcd",
   "metadata": {},
   "source": [
    "### Generate json function"
   ]
  },
  {
   "cell_type": "code",
   "execution_count": null,
   "id": "0553f9b3-2d1c-48ed-9a7a-f57219ed7915",
   "metadata": {},
   "outputs": [],
   "source": [
    "def gen_json(u):\n",
    "    so = dict(\n",
    "        mode=\"rb\", anon=True, default_fill_cache=False, default_cache_type=\"none\"\n",
    "    )\n",
    "    with fsspec.open(u, **so, account_name='goeseuwest') as inf:\n",
    "        h5chunks = SingleHdf5ToZarr(inf, u, inline_threshold=300)\n",
    "        with open(f\"jsons/{u.split('/')[-1]}.json\", 'wb') as outf:\n",
    "            outf.write(ujson.dumps(h5chunks.translate()).encode())\n"
   ]
  },
  {
   "cell_type": "markdown",
   "id": "86b82d6e-bd49-47de-a41a-a0f93758a2dc",
   "metadata": {},
   "source": [
    "### Use dask to make jsons"
   ]
  },
  {
   "cell_type": "code",
   "execution_count": null,
   "id": "bf024fb6-0dfb-49e2-a5db-b599be984d39",
   "metadata": {},
   "outputs": [],
   "source": [
    "%%time\n",
    "dask.compute(*[dask.delayed(gen_json)(u) for u in urllist]);"
   ]
  },
  {
   "cell_type": "code",
   "execution_count": null,
   "id": "b794c158-28e7-40e0-873f-54aad5f359db",
   "metadata": {},
   "outputs": [],
   "source": [
    "`fs = fsspec.filesystem(\"az\", account_name=\"noass-goes16\")\n",
    "` should work.\n"
   ]
  },
  {
   "cell_type": "markdown",
   "id": "50fba0ae-ff4e-4acc-afc7-64db0402463b",
   "metadata": {},
   "source": [
    "## MultiZarr"
   ]
  },
  {
   "cell_type": "code",
   "execution_count": null,
   "id": "bd344555-4086-4f71-b95c-af4ef4e39923",
   "metadata": {},
   "outputs": [],
   "source": [
    "json_list = sorted(glob(\"jsons/*.json\"))"
   ]
  },
  {
   "cell_type": "code",
   "execution_count": null,
   "id": "516155b7-7102-44c3-af38-a7dc7f658549",
   "metadata": {},
   "outputs": [],
   "source": [
    "mzz = MultiZarrToZarr(\n",
    "    json_list,\n",
    "    remote_protocol='az',\n",
    "    remote_options={\n",
    "       'account_name' : 'goeseuwest'\n",
    "    },    \n",
    "    xarray_open_kwargs={\n",
    "        'decode_cf' : False,\n",
    "        'mask_and_scale' : False,\n",
    "        'decode_times' : False,\n",
    "        'use_cftime' : False,\n",
    "        'decode_coords' : False,\n",
    "    },\n",
    "    xarray_concat_args={\n",
    "        \"data_vars\": \"minimal\",\n",
    "        \"coords\": \"minimal\",\n",
    "        \"compat\": \"override\",\n",
    "        \"join\": \"override\",\n",
    "        \"combine_attrs\": \"override\",\n",
    "        \"dim\": \"t\"\n",
    "\n",
    "    }\n",
    ")"
   ]
  },
  {
   "cell_type": "code",
   "execution_count": null,
   "id": "796555e9-304b-4871-bdde-8d8bf98744b6",
   "metadata": {},
   "outputs": [],
   "source": [
    "%%time\n",
    "%%prun -D multizarr_profile \n",
    "mzz.translate('combined.json')"
   ]
  },
  {
   "cell_type": "code",
   "execution_count": null,
   "id": "3d18a5d0-c41e-4ec0-b590-447c1e76c289",
   "metadata": {},
   "outputs": [],
   "source": [
    "client.shutdown()"
   ]
  },
  {
   "cell_type": "markdown",
   "id": "82b11a47-46fd-436e-bf06-46e9a64c3bfc",
   "metadata": {},
   "source": [
    "***\n",
    "## Processing times:\n",
    "|Action | Time | Note |\n",
    "|-------:|:------| :---|\n",
    "|Make individual jsons | 26min 39s | 4 workers, faster times can be achieved with more dask workers |\n",
    "|Make combined json | 55min 6s | don't think this can be sped up w/ dask |\n",
    "|Make combined v2 | 45min 52s | Actual CPU time is 25min, might try `az://` instead of `abfs`|\n",
    "| __Total__ | __1h 21min__ | "
   ]
  },
  {
   "cell_type": "code",
   "execution_count": null,
   "id": "d58716fc-4ce9-4a55-ae7f-5e31593f362a",
   "metadata": {},
   "outputs": [],
   "source": []
  }
 ],
 "metadata": {
  "kernelspec": {
   "display_name": "Python [conda env:pangeo]",
   "language": "python",
   "name": "conda-env-pangeo-py"
  },
  "language_info": {
   "codemirror_mode": {
    "name": "ipython",
    "version": 3
   },
   "file_extension": ".py",
   "mimetype": "text/x-python",
   "name": "python",
   "nbconvert_exporter": "python",
   "pygments_lexer": "ipython3",
   "version": "3.8.10"
  }
 },
 "nbformat": 4,
 "nbformat_minor": 5
}
