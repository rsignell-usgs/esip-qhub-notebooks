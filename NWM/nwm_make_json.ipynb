{
 "cells": [
  {
   "cell_type": "markdown",
   "id": "5b86af71-052b-4081-844b-779db459068d",
   "metadata": {},
   "source": [
    "# NWM ReferenceFileSystem JSON \n",
    "Create ReferenceFileSystem JSON file for a collection of NWM NetCDF files on S3 "
   ]
  },
  {
   "cell_type": "code",
   "execution_count": null,
   "id": "3b6ba617-9772-4ecf-aa7a-2be2a4bcfa1d",
   "metadata": {},
   "outputs": [],
   "source": [
    "import os\n",
    "import shutil\n",
    "import zipfile\n",
    "import fsspec\n",
    "import ujson\n",
    "import json\n",
    "from fsspec_reference_maker.hdf import SingleHdf5ToZarr \n",
    "from fsspec_reference_maker.combine import MultiZarrToZarr\n",
    "import xarray as xr"
   ]
  },
  {
   "cell_type": "code",
   "execution_count": null,
   "id": "1bd61788-a744-4197-ae71-03347ce1f4c3",
   "metadata": {},
   "outputs": [],
   "source": [
    "fs = fsspec.filesystem('s3', anon=True)"
   ]
  },
  {
   "cell_type": "code",
   "execution_count": null,
   "id": "42c6d8ea-b8aa-4821-be50-ffac391b33e2",
   "metadata": {},
   "outputs": [],
   "source": [
    "flist = fs.glob('s3://noaa-nwm-retro-v2.0-pds/full_physics/2017/20170401*.CHRTOUT*.comp')"
   ]
  },
  {
   "cell_type": "code",
   "execution_count": null,
   "id": "2c93ccfc-1e0b-494c-a4f2-fbab6a7e5e49",
   "metadata": {},
   "outputs": [],
   "source": [
    "flist"
   ]
  },
  {
   "cell_type": "code",
   "execution_count": null,
   "id": "2f9e323a-146b-4190-a487-8fae2758d1ff",
   "metadata": {},
   "outputs": [],
   "source": [
    "urls = [\"s3://\" + f for f in flist]\n",
    "\n",
    "so = dict(mode='rb', anon=True, default_fill_cache=False, default_cache_type='first')"
   ]
  },
  {
   "cell_type": "markdown",
   "id": "6594cb06-41ee-411e-9240-e627abfc3d99",
   "metadata": {},
   "source": [
    "If the directory exists, remove it (and all the files), then create it:"
   ]
  },
  {
   "cell_type": "code",
   "execution_count": null,
   "id": "1c31b0e6-9174-4651-b45d-0e6e8903f628",
   "metadata": {},
   "outputs": [],
   "source": [
    "tdir = './jsons'\n",
    "try:\n",
    "    shutil.rmtree(tdir)\n",
    "except OSError as e:\n",
    "    print (\"Error: %s - %s.\" % (e.filename, e.strerror))\n",
    "os.makedirs(tdir)"
   ]
  },
  {
   "cell_type": "code",
   "execution_count": null,
   "id": "a2aea4a0-c3f2-4811-bc9d-1f9c31177fce",
   "metadata": {},
   "outputs": [],
   "source": [
    "def gen_json(u):\n",
    "    with fs.open(u, **so) as inf:\n",
    "        h5chunks = SingleHdf5ToZarr(inf, u, inline_threshold=300)\n",
    "        with open(f\"jsons/{u.split('/')[-1]}.json\", 'wb') as outf:\n",
    "            outf.write(ujson.dumps(h5chunks.translate()).encode())"
   ]
  },
  {
   "cell_type": "code",
   "execution_count": null,
   "id": "7c69bd02-0fcc-4302-b5c6-1b52278768ca",
   "metadata": {},
   "outputs": [],
   "source": [
    "import os\n",
    "import sys\n",
    "sys.path.append(os.path.join(os.environ['HOME'],'shared','users','lib'))\n",
    "import ebdpy as ebd\n",
    "\n",
    "ebd.set_credentials(profile='esip-qhub')\n",
    "\n",
    "profile = 'esip-qhub'\n",
    "region = 'us-west-2'\n",
    "endpoint = f's3.{region}.amazonaws.com'\n",
    "ebd.set_credentials(profile=profile, region=region, endpoint=endpoint)\n",
    "worker_max = 10\n",
    "client,cluster = ebd.start_dask_cluster(profile=profile,worker_max=worker_max, \n",
    "                                      region=region, use_existing_cluster=True,\n",
    "                                      adaptive_scaling=False, wait_for_cluster=False, \n",
    "                                      environment='pangeo', worker_profile='Pangeo Worker', \n",
    "                                      propagate_env=True)"
   ]
  },
  {
   "cell_type": "code",
   "execution_count": null,
   "id": "e717d8e5-138a-4b1e-8692-22eae47d5a52",
   "metadata": {},
   "outputs": [],
   "source": [
    "cluster"
   ]
  },
  {
   "cell_type": "code",
   "execution_count": null,
   "id": "530f5d66-1537-4917-a221-83f4258cbd28",
   "metadata": {},
   "outputs": [],
   "source": [
    "%%time\n",
    "for u in urls:\n",
    "    gen_json(u)"
   ]
  },
  {
   "cell_type": "code",
   "execution_count": null,
   "id": "6963f4d6-af10-4a2b-8e26-e9bbd903b33e",
   "metadata": {},
   "outputs": [],
   "source": [
    "%%time\n",
    "dask.compute(*[dask.delayed(gen_json)(u) for u in urls]);"
   ]
  },
  {
   "cell_type": "code",
   "execution_count": null,
   "id": "3738a47b-5239-4d1f-943d-367ceb688a1e",
   "metadata": {},
   "outputs": [],
   "source": [
    "from glob import glob\n",
    "json_list = sorted(glob(\"jsons/*.json\"))"
   ]
  },
  {
   "cell_type": "code",
   "execution_count": null,
   "id": "df0eeaf7-5b94-40c2-b8f8-ee09fdb79bf4",
   "metadata": {},
   "outputs": [],
   "source": [
    "mzz = MultiZarrToZarr(\n",
    "    json_list,\n",
    "    remote_protocol='s3',\n",
    "    remote_options={\n",
    "       'anon' : 'True'\n",
    "    },    \n",
    "    xarray_open_kwargs={\n",
    "        'decode_cf' : False,\n",
    "        'mask_and_scale' : False,\n",
    "        'decode_times' : False,\n",
    "        'use_cftime' : False,\n",
    "        'drop_variables': ['reference_time', 'crs'],\n",
    "        'decode_coords' : False\n",
    "    },\n",
    "    xarray_concat_args={\n",
    "        \"data_vars\": \"minimal\",\n",
    "        \"coords\": \"minimal\",\n",
    "        \"compat\": \"override\",\n",
    "        \"join\": \"override\",\n",
    "        \"combine_attrs\": \"override\",\n",
    "        \"dim\": \"t\"\n",
    "\n",
    "    }\n",
    ")"
   ]
  },
  {
   "cell_type": "code",
   "execution_count": null,
   "id": "38993dc4-9923-4d2e-a011-185ad56cc3f4",
   "metadata": {},
   "outputs": [],
   "source": [
    "%%time\n",
    "%%prun -D multizarr_profile \n",
    "mzz.translate('nwm.json')"
   ]
  },
  {
   "cell_type": "code",
   "execution_count": null,
   "id": "b59d5cf5-2fbe-40b7-adc7-c11eba636926",
   "metadata": {},
   "outputs": [],
   "source": []
  }
 ],
 "metadata": {
  "kernelspec": {
   "display_name": "Python [conda env:pangeo]",
   "language": "python",
   "name": "conda-env-pangeo-py"
  },
  "language_info": {
   "codemirror_mode": {
    "name": "ipython",
    "version": 3
   },
   "file_extension": ".py",
   "mimetype": "text/x-python",
   "name": "python",
   "nbconvert_exporter": "python",
   "pygments_lexer": "ipython3",
   "version": "3.8.10"
  }
 },
 "nbformat": 4,
 "nbformat_minor": 5
}
