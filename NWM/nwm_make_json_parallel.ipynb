{
 "cells": [
  {
   "cell_type": "markdown",
   "id": "5b86af71-052b-4081-844b-779db459068d",
   "metadata": {},
   "source": [
    "# NWM ReferenceFileSystem JSON \n",
    "Create ReferenceFileSystem JSON file for a collection of NWM NetCDF files on S3 "
   ]
  },
  {
   "cell_type": "code",
   "execution_count": null,
   "id": "3b6ba617-9772-4ecf-aa7a-2be2a4bcfa1d",
   "metadata": {},
   "outputs": [],
   "source": [
    "import os\n",
    "import fsspec\n",
    "import ujson   # fast json\n",
    "from fsspec_reference_maker.hdf import SingleHdf5ToZarr \n",
    "from fsspec_reference_maker.combine import MultiZarrToZarr\n",
    "import xarray as xr\n",
    "import dask\n",
    "import hvplot.xarray"
   ]
  },
  {
   "cell_type": "code",
   "execution_count": null,
   "id": "1bd61788-a744-4197-ae71-03347ce1f4c3",
   "metadata": {},
   "outputs": [],
   "source": [
    "fs = fsspec.filesystem('s3', anon=True)"
   ]
  },
  {
   "cell_type": "code",
   "execution_count": null,
   "id": "42c6d8ea-b8aa-4821-be50-ffac391b33e2",
   "metadata": {},
   "outputs": [],
   "source": [
    "flist = fs.glob('s3://noaa-nwm-retro-v2.0-pds/full_physics/2017/20170401*.CHRTOUT*.comp')"
   ]
  },
  {
   "cell_type": "code",
   "execution_count": null,
   "id": "2c93ccfc-1e0b-494c-a4f2-fbab6a7e5e49",
   "metadata": {},
   "outputs": [],
   "source": [
    "len(flist)"
   ]
  },
  {
   "cell_type": "markdown",
   "id": "75bdd9d4-4897-42ad-aa75-4f88a5d0a8d1",
   "metadata": {},
   "source": [
    "We need to include the \"s3://\" prefix to the list of files so that fsspec will recognize that these JSON files are on S3.   There is no \"storage_"
   ]
  },
  {
   "cell_type": "code",
   "execution_count": null,
   "id": "2f9e323a-146b-4190-a487-8fae2758d1ff",
   "metadata": {},
   "outputs": [],
   "source": [
    "urls = [\"s3://\" + f for f in flist]\n",
    "\n",
    "so = dict(mode='rb', anon=True, default_fill_cache=False, default_cache_type='first')"
   ]
  },
  {
   "cell_type": "markdown",
   "id": "6594cb06-41ee-411e-9240-e627abfc3d99",
   "metadata": {},
   "source": [
    "If the directory exists, remove it (and all the files), then create it:"
   ]
  },
  {
   "cell_type": "code",
   "execution_count": null,
   "id": "7c69bd02-0fcc-4302-b5c6-1b52278768ca",
   "metadata": {},
   "outputs": [],
   "source": [
    "import os\n",
    "import sys\n",
    "sys.path.append(os.path.join(os.environ['HOME'],'shared','users','lib'))\n",
    "import ebdpy as ebd\n",
    "\n",
    "ebd.set_credentials(profile='esip-qhub')\n",
    "\n",
    "profile = 'esip-qhub'\n",
    "region = 'us-west-2'\n",
    "endpoint = f's3.{region}.amazonaws.com'\n",
    "ebd.set_credentials(profile=profile, region=region, endpoint=endpoint)\n",
    "worker_max = 10\n",
    "client,cluster = ebd.start_dask_cluster(profile=profile,worker_max=worker_max, \n",
    "                                      region=region, use_existing_cluster=True,\n",
    "                                      adaptive_scaling=False, wait_for_cluster=True, \n",
    "                                      environment='pangeo', worker_profile='Pangeo Worker', \n",
    "                                      propagate_env=True)"
   ]
  },
  {
   "cell_type": "code",
   "execution_count": null,
   "id": "0b8052df-1546-4c68-bd6b-abf62d301f83",
   "metadata": {},
   "outputs": [],
   "source": [
    "cluster"
   ]
  },
  {
   "cell_type": "markdown",
   "id": "c31b04da-7f25-4630-b89d-7074aaa5f7bd",
   "metadata": {},
   "source": [
    "We passed AWS credentials to the Dask workers via environment variables above, and the dask workers don't have the AWS credentials file with profiles defined, so we can't define a profile here. "
   ]
  },
  {
   "cell_type": "code",
   "execution_count": null,
   "id": "386bf413-1ccc-4ba1-80de-0174686eee59",
   "metadata": {},
   "outputs": [],
   "source": [
    "fs2 = fsspec.filesystem('s3', anon=False)  "
   ]
  },
  {
   "cell_type": "code",
   "execution_count": null,
   "id": "a2aea4a0-c3f2-4811-bc9d-1f9c31177fce",
   "metadata": {},
   "outputs": [],
   "source": [
    "def gen_json(u):\n",
    "    with fs.open(u, **so) as inf:\n",
    "        h5chunks = SingleHdf5ToZarr(inf, u, inline_threshold=300)\n",
    "        fname = u.split('/')[-1]\n",
    "        outf = f's3://esip-qhub/usgs/testing/jsons/{fname}.json'\n",
    "        print(outf)\n",
    "        with fs2.open(outf, 'wb') as f:\n",
    "            f.write(ujson.dumps(h5chunks.translate()).encode())"
   ]
  },
  {
   "cell_type": "code",
   "execution_count": null,
   "id": "6963f4d6-af10-4a2b-8e26-e9bbd903b33e",
   "metadata": {},
   "outputs": [],
   "source": [
    "%%time\n",
    "dask.compute(*[dask.delayed(gen_json)(u) for u in urls], retries=10);"
   ]
  },
  {
   "cell_type": "markdown",
   "id": "7c61c32d-f953-43d7-88e6-85b4719349c7",
   "metadata": {},
   "source": [
    "#### Try accessing the individual JSON files directly from S3 as file-like objects"
   ]
  },
  {
   "cell_type": "code",
   "execution_count": null,
   "id": "b0af93cd-1f82-4d8b-9202-01d802a1e31f",
   "metadata": {},
   "outputs": [],
   "source": [
    "flist = fs2.ls('s3://esip-qhub/usgs/testing/jsons/')\n",
    "fobjs = [fs2.open(f) for f in flist]"
   ]
  },
  {
   "cell_type": "code",
   "execution_count": null,
   "id": "8cf1da80-1e9c-42b8-a46c-d563f49bf7b1",
   "metadata": {},
   "outputs": [],
   "source": [
    "furls = sorted(['s3://'+f for f in flist])"
   ]
  },
  {
   "cell_type": "code",
   "execution_count": null,
   "id": "ba4d2716-fd47-452c-bc6e-be405da84edd",
   "metadata": {},
   "outputs": [],
   "source": [
    "furls[0]"
   ]
  },
  {
   "cell_type": "code",
   "execution_count": null,
   "id": "52c9ddc4-1433-4613-b450-0fbd2fcc9d34",
   "metadata": {},
   "outputs": [],
   "source": [
    "mzz = MultiZarrToZarr(furls, \n",
    "    storage_options={'anon':False}, \n",
    "    remote_protocol='s3',\n",
    "    remote_options={'anon' : 'True'},   #JSON files  \n",
    "    xarray_open_kwargs={\n",
    "        'decode_cf' : False,\n",
    "        'mask_and_scale' : False,\n",
    "        'decode_times' : False,\n",
    "        'use_cftime' : False,\n",
    "        'drop_variables': ['reference_time', 'crs'],\n",
    "        'decode_coords' : False\n",
    "    },\n",
    "    xarray_concat_args={\n",
    "#          \"data_vars\": \"minimal\",\n",
    "#          \"coords\": \"minimal\",\n",
    "#          \"compat\": \"override\",\n",
    "        \"join\": \"override\",\n",
    "        \"combine_attrs\": \"override\",\n",
    "        \"dim\": \"time\"\n",
    "    }\n",
    ")"
   ]
  },
  {
   "cell_type": "code",
   "execution_count": null,
   "id": "a3feea8a-4d63-42f1-a2ff-949a526f8519",
   "metadata": {},
   "outputs": [],
   "source": [
    "%%time\n",
    "#%%prun -D multizarr_profile \n",
    "mzz.translate('nwm.json')"
   ]
  },
  {
   "cell_type": "code",
   "execution_count": null,
   "id": "cd1ea70c-46d9-4feb-af31-47c508ee7e2d",
   "metadata": {},
   "outputs": [],
   "source": [
    "#  "
   ]
  },
  {
   "cell_type": "code",
   "execution_count": null,
   "id": "99632cfb-c4f4-450b-9aa5-3dc4eb6019b6",
   "metadata": {},
   "outputs": [],
   "source": [
    "fs2.put_file(lpath='nwm.json', rpath='esip-qhub/usgs/testing/nwm.json')"
   ]
  },
  {
   "cell_type": "markdown",
   "id": "503a75b0-4577-47d3-9f97-825e83a18776",
   "metadata": {},
   "source": [
    "#### Try opening the consolidated JSON file"
   ]
  },
  {
   "cell_type": "code",
   "execution_count": null,
   "id": "f7f580ce-9168-431b-aa40-733f38ab2f96",
   "metadata": {},
   "outputs": [],
   "source": [
    "fo = 's3://esip-qhub/usgs/testing/nwm.json'\n",
    "\n",
    "s_opts = {'requester_pays':True, 'skip_instance_cache':True}\n",
    "r_opts = {'anon':True}\n",
    "fs = fsspec.filesystem(\"reference\", fo=fo, ref_storage_args=s_opts,\n",
    "                       remote_protocol='s3', remote_options=r_opts)\n",
    "m = fs.get_mapper(\"\")\n",
    "ds = xr.open_dataset(m, engine=\"zarr\")"
   ]
  },
  {
   "cell_type": "code",
   "execution_count": null,
   "id": "03c9ba4c-b16e-4913-80cf-b77f760cddca",
   "metadata": {},
   "outputs": [],
   "source": [
    "ds"
   ]
  },
  {
   "cell_type": "code",
   "execution_count": null,
   "id": "35ad5c39-b466-461d-947a-51ba6c82d36b",
   "metadata": {},
   "outputs": [],
   "source": [
    "ds.streamflow[:,1000].hvplot(x='time', grid=True)"
   ]
  },
  {
   "cell_type": "code",
   "execution_count": null,
   "id": "561f6861-57e0-4926-9078-1fb13d93a6cd",
   "metadata": {},
   "outputs": [],
   "source": [
    "cluster.shutdown(); client.close()"
   ]
  },
  {
   "cell_type": "code",
   "execution_count": null,
   "id": "e2a050f3-8ec4-4ed1-8295-771fe55f543e",
   "metadata": {},
   "outputs": [],
   "source": []
  }
 ],
 "metadata": {
  "kernelspec": {
   "display_name": "Python [conda env:pangeo]",
   "language": "python",
   "name": "conda-env-pangeo-py"
  },
  "language_info": {
   "codemirror_mode": {
    "name": "ipython",
    "version": 3
   },
   "file_extension": ".py",
   "mimetype": "text/x-python",
   "name": "python",
   "nbconvert_exporter": "python",
   "pygments_lexer": "ipython3",
   "version": "3.8.10"
  }
 },
 "nbformat": 4,
 "nbformat_minor": 5
}
