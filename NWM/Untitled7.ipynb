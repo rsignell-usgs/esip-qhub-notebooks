{
 "cells": [
  {
   "cell_type": "code",
   "execution_count": null,
   "id": "eef272f0-0ac8-483d-b7e3-99a923e9489f",
   "metadata": {},
   "outputs": [],
   "source": [
    "import fsspec\n",
    "import pandas as pd\n",
    "import hvplot.pandas"
   ]
  },
  {
   "cell_type": "code",
   "execution_count": null,
   "id": "4d898d43-a59f-4495-83aa-11d2824f6437",
   "metadata": {},
   "outputs": [],
   "source": [
    "fs = fsspec.filesystem('s3', anon=True)"
   ]
  },
  {
   "cell_type": "code",
   "execution_count": null,
   "id": "f83b4197-b520-4e65-a3c9-1c80056ffb56",
   "metadata": {},
   "outputs": [],
   "source": [
    "fs.ls('noaa-nws-owp-fim/hand_fim/fim_3_0_19_1/outputs/fr/12040101')"
   ]
  },
  {
   "cell_type": "code",
   "execution_count": null,
   "id": "a5f4ac47-988d-47ee-a5b6-a521ffc4717f",
   "metadata": {},
   "outputs": [],
   "source": [
    "df = pd.read_csv(fs.open('noaa-nws-owp-fim/hand_fim/fim_3_0_19_1/outputs/fr/12040101/hydroTable.csv'))"
   ]
  },
  {
   "cell_type": "code",
   "execution_count": null,
   "id": "294d2d31-1a10-4b8f-8265-23c430afc5b0",
   "metadata": {},
   "outputs": [],
   "source": [
    "df"
   ]
  },
  {
   "cell_type": "code",
   "execution_count": null,
   "id": "01e7f674-dd14-4942-823a-132a2179e8ac",
   "metadata": {},
   "outputs": [],
   "source": [
    "df['discharge_cms'].hvplot()"
   ]
  },
  {
   "cell_type": "code",
   "execution_count": null,
   "id": "00d2acf5-36b0-4f22-8bed-5956961a05c6",
   "metadata": {},
   "outputs": [],
   "source": []
  }
 ],
 "metadata": {
  "kernelspec": {
   "display_name": "Python [conda env:pangeo]",
   "language": "python",
   "name": "conda-env-pangeo-py"
  },
  "language_info": {
   "codemirror_mode": {
    "name": "ipython",
    "version": 3
   },
   "file_extension": ".py",
   "mimetype": "text/x-python",
   "name": "python",
   "nbconvert_exporter": "python",
   "pygments_lexer": "ipython3",
   "version": "3.8.10"
  }
 },
 "nbformat": 4,
 "nbformat_minor": 5
}
