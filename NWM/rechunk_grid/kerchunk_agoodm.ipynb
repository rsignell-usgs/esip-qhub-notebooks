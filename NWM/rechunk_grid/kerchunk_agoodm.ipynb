{
 "cells": [
  {
   "cell_type": "markdown",
   "id": "51f45f4e-e499-43ce-b921-5172fbd29042",
   "metadata": {},
   "source": [
    "# Try Alex Goodman's approach for efficient access to references\n",
    "* https://discourse.pangeo.io/t/trick-for-improving-kerchunk-performance-for-large-numbers-of-chunks-files/3090\n",
    "* https://github.com/fsspec/kerchunk/issues/293#issuecomment-1416290468"
   ]
  },
  {
   "cell_type": "code",
   "execution_count": 1,
   "id": "bca88844-cb1a-420c-852b-9b54aac85735",
   "metadata": {},
   "outputs": [],
   "source": [
    "import fsspec\n",
    "import xarray as xr"
   ]
  },
  {
   "cell_type": "code",
   "execution_count": 4,
   "id": "920894c5-52eb-4c7d-af66-3ea177bab780",
   "metadata": {},
   "outputs": [],
   "source": [
    "%run parquet_refs.py"
   ]
  },
  {
   "cell_type": "code",
   "execution_count": 2,
   "id": "1953a7b8-b5c7-419d-83f2-d53d7c0adbe3",
   "metadata": {},
   "outputs": [],
   "source": [
    "fs = fsspec.filesystem('s3', anon=True, \n",
    "                        client_kwargs={'endpoint_url':'https://ncsa.osn.xsede.org'})"
   ]
  },
  {
   "cell_type": "code",
   "execution_count": null,
   "id": "fa1dc59a-7518-4857-9cd8-729d1b4704c5",
   "metadata": {},
   "outputs": [],
   "source": [
    "url = 's3://esip/noaa/nwm/grid1km/LDAS_combined.json'"
   ]
  },
  {
   "cell_type": "code",
   "execution_count": null,
   "id": "f32ec6c7-295e-447e-ba3c-e2a4000c0698",
   "metadata": {},
   "outputs": [],
   "source": [
    "fs.size(url)/1e9 # GB"
   ]
  },
  {
   "cell_type": "code",
   "execution_count": null,
   "id": "15b2685e-7181-4719-91aa-3ea33a8587df",
   "metadata": {},
   "outputs": [],
   "source": [
    "%%time\n",
    "refs = ujson.load(fs.open(url))"
   ]
  },
  {
   "cell_type": "code",
   "execution_count": null,
   "id": "5a11b0bf-a24a-4d32-87e6-aba93be2f464",
   "metadata": {},
   "outputs": [],
   "source": [
    "type(refs)"
   ]
  },
  {
   "cell_type": "code",
   "execution_count": null,
   "id": "1a9d758c-f15b-486e-95a3-15e45b654d53",
   "metadata": {},
   "outputs": [],
   "source": [
    "%%time \n",
    "# refs is original references JSON dict\n",
    "make_parquet_store('refs_test', refs, compression='zstd')"
   ]
  },
  {
   "cell_type": "code",
   "execution_count": 12,
   "id": "1969dd75-ec32-4dc9-b0de-40451e368816",
   "metadata": {},
   "outputs": [
    {
     "name": "stdout",
     "output_type": "stream",
     "text": [
      "CPU times: user 28.6 ms, sys: 7 ms, total: 35.6 ms\n",
      "Wall time: 577 ms\n"
     ]
    }
   ],
   "source": [
    "%%time\n",
    "mapper = ParquetReferenceMapper('refs_test')\n",
    "fs = fsspec.filesystem('reference', fo=mapper, remote_protocol='s3', remote_options=dict(anon=True))\n",
    "ds = xr.open_dataset(fs.get_mapper(''), engine='zarr')"
   ]
  },
  {
   "cell_type": "code",
   "execution_count": 13,
   "id": "11b4968b-c0db-4ef6-8fb2-cb864b13349a",
   "metadata": {},
   "outputs": [
    {
     "name": "stdout",
     "output_type": "stream",
     "text": [
      "CPU times: user 487 ms, sys: 104 ms, total: 591 ms\n",
      "Wall time: 1.35 s\n"
     ]
    }
   ],
   "source": [
    "%%time\n",
    "da = ds.TRAD.sel(time='1990-01-01 00:00').load()"
   ]
  },
  {
   "cell_type": "code",
   "execution_count": 14,
   "id": "75df0766-3f1d-47d4-8236-ac86e8c5db20",
   "metadata": {},
   "outputs": [
    {
     "name": "stdout",
     "output_type": "stream",
     "text": [
      "CPU times: user 387 ms, sys: 68 ms, total: 455 ms\n",
      "Wall time: 766 ms\n"
     ]
    }
   ],
   "source": [
    "%%time\n",
    "da = ds.TRAD.sel(time='2015-01-01 00:00').load()"
   ]
  },
  {
   "cell_type": "code",
   "execution_count": 15,
   "id": "dbb14f64-4909-4791-be9a-5a14ebf63506",
   "metadata": {},
   "outputs": [
    {
     "data": {
      "text/plain": [
       "array(266.92635398)"
      ]
     },
     "execution_count": 15,
     "metadata": {},
     "output_type": "execute_result"
    }
   ],
   "source": [
    "da.mean().data"
   ]
  },
  {
   "cell_type": "code",
   "execution_count": null,
   "id": "f17e5c77-824c-49b8-a17c-93e01f833ae2",
   "metadata": {},
   "outputs": [],
   "source": []
  }
 ],
 "metadata": {
  "kernelspec": {
   "display_name": "users-users-pangeo",
   "language": "python",
   "name": "conda-env-users-users-pangeo-py"
  },
  "language_info": {
   "codemirror_mode": {
    "name": "ipython",
    "version": 3
   },
   "file_extension": ".py",
   "mimetype": "text/x-python",
   "name": "python",
   "nbconvert_exporter": "python",
   "pygments_lexer": "ipython3",
   "version": "3.9.16"
  },
  "widgets": {
   "application/vnd.jupyter.widget-state+json": {
    "state": {},
    "version_major": 2,
    "version_minor": 0
   }
  }
 },
 "nbformat": 4,
 "nbformat_minor": 5
}
