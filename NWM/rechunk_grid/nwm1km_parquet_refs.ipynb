{
 "cells": [
  {
   "cell_type": "markdown",
   "id": "6a33aaa2-fb12-4ddc-af13-e944bc618bd8",
   "metadata": {},
   "source": [
    "# Read NWM 1km gridded output using the new parquet references approach\n",
    "\n",
    "You need `fastparquet` and the `fsspec` from master (or a release after 3/30/2023)\n",
    "\n",
    "I have this in my `environment.yml` file:\n",
    "```\n",
    "name: pangeo\n",
    "channels:\n",
    "- conda-forge\n",
    "dependencies:\n",
    "- python=3.10\n",
    "- ...\n",
    "- fastparquet\n",
    "- pip:\n",
    "  - fsspec @ git+https://github.com/fsspec/filesystem_spec@master\n",
    "```"
   ]
  },
  {
   "cell_type": "code",
   "execution_count": 1,
   "id": "8e956b49-6e04-4cc5-bb4e-311fc91e5e48",
   "metadata": {},
   "outputs": [],
   "source": [
    "import fsspec\n",
    "import xarray as xr"
   ]
  },
  {
   "cell_type": "code",
   "execution_count": 2,
   "id": "e09daebd-4433-4314-8533-cb051bfdcdf0",
   "metadata": {},
   "outputs": [
    {
     "name": "stdout",
     "output_type": "stream",
     "text": [
      "CPU times: user 303 ms, sys: 55.7 ms, total: 358 ms\n",
      "Wall time: 1.54 s\n"
     ]
    }
   ],
   "source": [
    "%%time\n",
    "# references are on an OSN pod (no credentials needed)\n",
    "url = 's3://rsignellbucket2/noaa/nwm/grid1km/refs/'\n",
    "\n",
    "target_opts = {'anon':True, 'skip_instance_cache':True,\n",
    "              'client_kwargs': {'endpoint_url': 'https://renc.osn.xsede.org'}}\n",
    "\n",
    "# netcdf files are on the AWS public dataset program (no credentials needed)\n",
    "remote_opts = {'anon':True}\n",
    "\n",
    "fs = fsspec.filesystem(\"reference\", fo=url, \n",
    "                       remote_protocol='s3', remote_options=remote_opts,\n",
    "                      target_options=target_opts)\n",
    "m = fs.get_mapper(\"\")"
   ]
  },
  {
   "cell_type": "code",
   "execution_count": 3,
   "id": "b49b11ab-e73a-4e17-a6f4-6c5100b81ff0",
   "metadata": {},
   "outputs": [
    {
     "name": "stdout",
     "output_type": "stream",
     "text": [
      "CPU times: user 5.21 s, sys: 411 ms, total: 5.62 s\n",
      "Wall time: 8.64 s\n"
     ]
    }
   ],
   "source": [
    "%%time\n",
    "ds = xr.open_dataset(m, engine='zarr', chunks={'time':1, 'y':3840, 'x':4608})"
   ]
  },
  {
   "cell_type": "code",
   "execution_count": null,
   "id": "2c38f35a-32ed-4633-94c6-53b18af79408",
   "metadata": {},
   "outputs": [],
   "source": [
    "ds"
   ]
  },
  {
   "cell_type": "code",
   "execution_count": null,
   "id": "8d0fb76a-33bb-4d75-a564-403110ceff99",
   "metadata": {},
   "outputs": [],
   "source": [
    "ds['ACCET']"
   ]
  },
  {
   "cell_type": "code",
   "execution_count": null,
   "id": "0ea7c8fb-7087-48b0-a73d-eaaed41707a8",
   "metadata": {},
   "outputs": [],
   "source": [
    "import hvplot.xarray"
   ]
  },
  {
   "cell_type": "code",
   "execution_count": null,
   "id": "e29ec543-2a5c-4c0c-b0ba-41db12551dad",
   "metadata": {},
   "outputs": [],
   "source": [
    "da = ds['ACCET'].sel(time='2019-01-01 12:00').load()"
   ]
  },
  {
   "cell_type": "code",
   "execution_count": null,
   "id": "85944ae6-e089-43b9-872e-fc0fe4313c8f",
   "metadata": {},
   "outputs": [],
   "source": [
    "da.hvplot.quadmesh(x='x', y='y', rasterize=True, data_aspect=1)"
   ]
  }
 ],
 "metadata": {
  "kernelspec": {
   "display_name": "users-users-pangeo",
   "language": "python",
   "name": "conda-env-users-users-pangeo-py"
  },
  "language_info": {
   "codemirror_mode": {
    "name": "ipython",
    "version": 3
   },
   "file_extension": ".py",
   "mimetype": "text/x-python",
   "name": "python",
   "nbconvert_exporter": "python",
   "pygments_lexer": "ipython3",
   "version": "3.10.10"
  },
  "widgets": {
   "application/vnd.jupyter.widget-state+json": {
    "state": {},
    "version_major": 2,
    "version_minor": 0
   }
  }
 },
 "nbformat": 4,
 "nbformat_minor": 5
}
