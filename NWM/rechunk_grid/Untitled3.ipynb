{
 "cells": [
  {
   "cell_type": "code",
   "execution_count": null,
   "id": "84d831ec-cbde-47ba-94a2-3d4eff895b37",
   "metadata": {},
   "outputs": [],
   "source": [
    "vars = [      ALBEDO:number_of_significant_digits = 5 ;      CANICE:number_of_significant_digits = 5 ;      EMISS:number_of_significant_digits = 5 ;      GLW:number_of_significant_digits = 5 ;      HFX:number_of_significant_digits = 5 ;      LAI:number_of_significant_digits = 3 ;      LH:number_of_significant_digits = 5 ;      LWDNB:number_of_significant_digits = 5 ;      LWDNBC:number_of_significant_digits = 5 ;      LWDNT:number_of_significant_digits = 5 ;      LWDNTC:number_of_significant_digits = 5 ;      LWUPB:number_of_significant_digits = 5 ;      LWUPBC:number_of_significant_digits = 5 ;      LWUPT:number_of_significant_digits = 5 ;      LWUPTC:number_of_significant_digits = 5 ;      OLR:number_of_significant_digits = 5 ;      QFX:number_of_significant_digits = 5 ;      SEAICE:number_of_significant_digits = 3 ;      SH2O:number_of_significant_digits = 5 ;      SMOIS:number_of_significant_digits = 5 ;      SNOWC:number_of_significant_digits = 5 ;      SNOWH:number_of_significant_digits = 5 ;      SR:number_of_significant_digits = 5 ;      SSTSK:number_of_significant_digits = 5 ;      SWDNB:number_of_significant_digits = 5 ;      SWDNBC:number_of_significant_digits = 5 ;      SWDNT:number_of_significant_digits = 5 ;      SWDNTC:number_of_significant_digits = 5 ;      SWDOWN:number_of_significant_digits = 5 ;      SWNORM:number_of_significant_digits = 5 ;      SWUPB:number_of_significant_digits = 5 ;      SWUPBC:number_of_significant_digits = 5 ;      SWUPT:number_of_significant_digits = 5 ;      SWUPTC:number_of_significant_digits = 5 ;      TG:number_of_significant_digits = 5 ;      TSLB:number_of_significant_digits = 5 ;      TSNO:number_of_significant_digits = 5 ;      TV:number_of_significant_digits = 5 ;      UST:number_of_significant_digits = 5 ;      ZSNSO:number_of_significant_digits = 5 ;      ZWT:number_of_significant_digits = 5 ;"
   ]
  },
  {
   "cell_type": "code",
   "execution_count": 1,
   "id": "9d4c95fe-3cfe-4b84-b401-bdcfe5747ac0",
   "metadata": {},
   "outputs": [
    {
     "name": "stdout",
     "output_type": "stream",
     "text": [
      "# packages in environment at /home/conda/users/envs/users-pangeo:\n",
      "#\n",
      "# Name                    Version                   Build  Channel\n",
      "xbitinfo                  0.0.3              pyhd8ed1ab_1    conda-forge\n"
     ]
    }
   ],
   "source": [
    "!conda list xbitinfo"
   ]
  }
 ],
 "metadata": {
  "kernelspec": {
   "display_name": "users-users-pangeo",
   "language": "python",
   "name": "conda-env-users-users-pangeo-py"
  },
  "language_info": {
   "codemirror_mode": {
    "name": "ipython",
    "version": 3
   },
   "file_extension": ".py",
   "mimetype": "text/x-python",
   "name": "python",
   "nbconvert_exporter": "python",
   "pygments_lexer": "ipython3",
   "version": "3.9.16"
  },
  "widgets": {
   "application/vnd.jupyter.widget-state+json": {
    "state": {},
    "version_major": 2,
    "version_minor": 0
   }
  }
 },
 "nbformat": 4,
 "nbformat_minor": 5
}
