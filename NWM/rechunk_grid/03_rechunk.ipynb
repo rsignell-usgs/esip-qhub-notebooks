{
 "cells": [
  {
   "cell_type": "markdown",
   "id": "a4108776-2095-4696-a4b6-fef7c2496fce",
   "metadata": {},
   "source": [
    "# Rechunk the kerchunked dataset"
   ]
  },
  {
   "cell_type": "code",
   "execution_count": null,
   "id": "720e3f30-0708-48c0-bbbb-696383c2b2f1",
   "metadata": {},
   "outputs": [],
   "source": [
    "import fsspec\n",
    "from rechunker import rechunk\n",
    "import zarr\n",
    "import xarray as xr\n",
    "from pathlib import Path"
   ]
  },
  {
   "cell_type": "markdown",
   "id": "1a0babee-2b88-4713-abf6-32ff6ca7862a",
   "metadata": {},
   "source": [
    "#### Start a Dask Gateway cluster\n",
    "Use a custom helper function `ebd.start_dask_cluster` to set options on this cluster.  We don't have to use this helper, it just cuts down on lines of code in notebooks."
   ]
  },
  {
   "cell_type": "code",
   "execution_count": null,
   "id": "ca9dd82d-0281-498b-8a28-61d8267d6a50",
   "metadata": {},
   "outputs": [],
   "source": [
    "import sys\n",
    "import os\n",
    "sys.path.append('/shared/users/lib')\n",
    "import ebdpy as ebd\n",
    "os.environ['AWS_PROFILE'] = 'esip-qhub'  # use env vars for AWS credentials to write\n",
    "\n",
    "client,cluster = ebd.start_dask_cluster(\n",
    "    profile=os.environ['AWS_PROFILE'],\n",
    "    worker_max=30,\n",
    "    region='us-west-2', \n",
    "    use_existing_cluster=True,\n",
    "    adaptive_scaling=False, \n",
    "    wait_for_cluster=True, \n",
    "    propagate_env=True)"
   ]
  },
  {
   "cell_type": "markdown",
   "id": "d2a80a71-afdd-4a14-96b6-505d8ed41af4",
   "metadata": {},
   "source": [
    "#### Open Kerchunked Dataset"
   ]
  },
  {
   "cell_type": "code",
   "execution_count": null,
   "id": "1681150f-75fa-465d-a4f2-ec449d126a80",
   "metadata": {},
   "outputs": [],
   "source": [
    "#combined_json = f's3://esip-qhub/noaa/nwm/grid1km/combined.json'\n",
    "year = '1980'\n",
    "combined_json = f's3://esip-qhub/noaa/nwm/grid1km/combined_{year}.json'"
   ]
  },
  {
   "cell_type": "code",
   "execution_count": null,
   "id": "422ae5ad-f4a3-4267-9f02-383771275bb4",
   "metadata": {},
   "outputs": [],
   "source": [
    "s_opts = {'requester_pays':True, 'skip_instance_cache':True}\n",
    "r_opts = {'anon':True}\n",
    "fs = fsspec.filesystem(\"reference\", fo=combined_json, ref_storage_args=s_opts,\n",
    "                       remote_protocol='s3', remote_options=r_opts)\n",
    "m = fs.get_mapper(\"\")\n",
    "ds = xr.open_dataset(m, engine=\"zarr\", chunks={'time':1, 'y':3840, 'x':4608}, \n",
    "                     backend_kwargs=dict(consolidated=False))"
   ]
  },
  {
   "cell_type": "code",
   "execution_count": null,
   "id": "cfcdb5cc-417a-41e7-a3d0-1cd9779bf33d",
   "metadata": {},
   "outputs": [],
   "source": []
  },
  {
   "cell_type": "markdown",
   "id": "aaf145c1-e623-4b0e-9a2b-d77e0fcc505b",
   "metadata": {},
   "source": [
    "#### Select high-priority vars only"
   ]
  },
  {
   "cell_type": "code",
   "execution_count": null,
   "id": "3b973279-f918-4f88-b9c5-290a47d5a76f",
   "metadata": {},
   "outputs": [],
   "source": [
    "ds = ds[['ACCET', 'SNEQV', 'FSNO', 'crs']]"
   ]
  },
  {
   "cell_type": "code",
   "execution_count": null,
   "id": "f22e4b63-fb26-4284-8fe2-a1bf36e2e0ac",
   "metadata": {},
   "outputs": [],
   "source": [
    "ds"
   ]
  },
  {
   "cell_type": "code",
   "execution_count": null,
   "id": "d34eca30-bf72-4a8a-8dfd-66f235c191da",
   "metadata": {},
   "outputs": [],
   "source": [
    "ds['ACCET'].isel(time=slice(0,144))"
   ]
  },
  {
   "cell_type": "code",
   "execution_count": null,
   "id": "15d511f0-f82e-4250-930c-145feff08d27",
   "metadata": {},
   "outputs": [],
   "source": [
    "ds.attrs"
   ]
  },
  {
   "cell_type": "markdown",
   "id": "e2c8e98a-1569-46a0-b85c-2e4d20916b4d",
   "metadata": {},
   "source": [
    "#### set up zarr stores for temporary and final zarr stores on S3"
   ]
  },
  {
   "cell_type": "code",
   "execution_count": null,
   "id": "86da688a-14bc-486b-87c0-c1d11a28de3f",
   "metadata": {},
   "outputs": [],
   "source": [
    "fs_write = fsspec.filesystem('s3', anon=False, skip_instance_cache=True)"
   ]
  },
  {
   "cell_type": "code",
   "execution_count": null,
   "id": "a53b62f7-0df4-44b0-a03d-5dee35f2a00e",
   "metadata": {},
   "outputs": [],
   "source": [
    "temp_name = 'esip-qhub/testing/usgs/nwm1km.tmp'\n",
    "target_name = 'esip-qhub/testing/usgs/nwm1km.zarr'"
   ]
  },
  {
   "cell_type": "code",
   "execution_count": null,
   "id": "61d64b30-f089-4200-8e98-56dd5d80bc48",
   "metadata": {},
   "outputs": [],
   "source": [
    "fs_write.rm(temp_name, recursive=True)"
   ]
  },
  {
   "cell_type": "code",
   "execution_count": null,
   "id": "99febcd6-6e57-4997-a296-56e6e047fa0e",
   "metadata": {},
   "outputs": [],
   "source": [
    "fs_write.rm(target_name, recursive=True)"
   ]
  },
  {
   "cell_type": "code",
   "execution_count": null,
   "id": "94ffca87-dbb5-4a35-9dab-89270429cd9c",
   "metadata": {},
   "outputs": [],
   "source": [
    "temp_store = fs_write.get_mapper(temp_name)\n",
    "target_store = fs_write.get_mapper(target_name)"
   ]
  },
  {
   "cell_type": "code",
   "execution_count": null,
   "id": "9be12a7f-5737-4c63-b0e1-f80aaf4504ad",
   "metadata": {},
   "outputs": [],
   "source": [
    "ds = ds.drop('crs')"
   ]
  },
  {
   "cell_type": "markdown",
   "id": "5ee745ca-7648-48b1-abc3-6c10992e1fbc",
   "metadata": {},
   "source": [
    "#### Rechunk!"
   ]
  },
  {
   "cell_type": "code",
   "execution_count": null,
   "id": "36b812ea-01ae-461f-b8b3-1eb7b3ea9711",
   "metadata": {},
   "outputs": [],
   "source": [
    "rechunked = rechunk(ds.isel(time=slice(0,144)), target_chunks={'y':96*2, 'x':132*2, 'time':144/2},\n",
    "                    target_store=target_store, temp_store=temp_store, max_mem='3.5GiB')"
   ]
  },
  {
   "cell_type": "code",
   "execution_count": null,
   "id": "e86843c4-4f9e-4ec3-b1b6-f9969d22b3a4",
   "metadata": {},
   "outputs": [],
   "source": [
    "%%time\n",
    "rechunked.execute(retries=10)"
   ]
  },
  {
   "cell_type": "code",
   "execution_count": null,
   "id": "3a211f08-4c4f-46fa-8a9f-5231ec17d183",
   "metadata": {},
   "outputs": [],
   "source": [
    "zarr.convenience.consolidate_metadata(target_store)"
   ]
  },
  {
   "cell_type": "markdown",
   "id": "8ba15656-c501-4aae-b327-c6cb0d24dce7",
   "metadata": {},
   "source": [
    "#### Explore the rechunked dataset"
   ]
  },
  {
   "cell_type": "code",
   "execution_count": null,
   "id": "15466b5d-13f3-4d45-a09d-136e6ddcb907",
   "metadata": {},
   "outputs": [],
   "source": [
    "ds2 = xr.open_dataset(target_store, engine='zarr', chunks={})"
   ]
  },
  {
   "cell_type": "code",
   "execution_count": null,
   "id": "91c1a356-5ad9-4f72-ae3e-85bb29f0f20b",
   "metadata": {},
   "outputs": [],
   "source": [
    "ds2"
   ]
  },
  {
   "cell_type": "code",
   "execution_count": null,
   "id": "cee33374-49d0-4607-a812-c9ed98eefb48",
   "metadata": {},
   "outputs": [],
   "source": [
    "ds2.ACCET"
   ]
  }
 ],
 "metadata": {
  "kernelspec": {
   "display_name": "users-pangeo",
   "language": "python",
   "name": "conda-env-users-pangeo-py"
  },
  "language_info": {
   "codemirror_mode": {
    "name": "ipython",
    "version": 3
   },
   "file_extension": ".py",
   "mimetype": "text/x-python",
   "name": "python",
   "nbconvert_exporter": "python",
   "pygments_lexer": "ipython3",
   "version": "3.9.13"
  },
  "widgets": {
   "application/vnd.jupyter.widget-state+json": {
    "state": {},
    "version_major": 2,
    "version_minor": 0
   }
  }
 },
 "nbformat": 4,
 "nbformat_minor": 5
}
