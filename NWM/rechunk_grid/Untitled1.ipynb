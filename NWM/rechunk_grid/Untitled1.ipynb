{
 "cells": [
  {
   "cell_type": "code",
   "execution_count": null,
   "id": "75e21d4b-6cea-4ad2-9e7c-1cd8157baaca",
   "metadata": {},
   "outputs": [],
   "source": [
    "15000 = x*(135+98) + 1500"
   ]
  },
  {
   "cell_type": "code",
   "execution_count": 2,
   "id": "16457404-95af-436e-8e52-ac2750899df9",
   "metadata": {},
   "outputs": [
    {
     "data": {
      "text/plain": [
       "46.075085324232084"
      ]
     },
     "execution_count": 2,
     "metadata": {},
     "output_type": "execute_result"
    }
   ],
   "source": [
    "(15000 - 1500)/(135+98+60)"
   ]
  },
  {
   "cell_type": "code",
   "execution_count": null,
   "id": "ccee1796-da1a-4ddf-b59e-d075b10c5900",
   "metadata": {},
   "outputs": [],
   "source": []
  }
 ],
 "metadata": {
  "kernelspec": {
   "display_name": "users-users-pangeo",
   "language": "python",
   "name": "conda-env-users-users-pangeo-py"
  },
  "language_info": {
   "codemirror_mode": {
    "name": "ipython",
    "version": 3
   },
   "file_extension": ".py",
   "mimetype": "text/x-python",
   "name": "python",
   "nbconvert_exporter": "python",
   "pygments_lexer": "ipython3",
   "version": "3.9.15"
  },
  "widgets": {
   "application/vnd.jupyter.widget-state+json": {
    "state": {},
    "version_major": 2,
    "version_minor": 0
   }
  }
 },
 "nbformat": 4,
 "nbformat_minor": 5
}
