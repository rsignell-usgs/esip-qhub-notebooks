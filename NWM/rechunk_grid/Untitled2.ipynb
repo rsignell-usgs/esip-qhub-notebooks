{
 "cells": [
  {
   "cell_type": "code",
   "execution_count": null,
   "id": "2a3ec02e-aa3e-4f06-8dbb-6aa37928fa0a",
   "metadata": {},
   "outputs": [],
   "source": [
    "import fsspec\n",
    "import kerchunk.df"
   ]
  },
  {
   "cell_type": "code",
   "execution_count": null,
   "id": "aed8504e-d172-48f2-babb-605a2be2c944",
   "metadata": {},
   "outputs": [],
   "source": [
    "fs = fsspec.filesystem('s3', requester_pays=True)"
   ]
  },
  {
   "cell_type": "code",
   "execution_count": null,
   "id": "f0320244-5f1a-4505-b262-09c17c14fe3c",
   "metadata": {},
   "outputs": [],
   "source": [
    "url = 's3://esip-qhub/noaa/nwm/grid1km/combined_zz.json'"
   ]
  },
  {
   "cell_type": "code",
   "execution_count": null,
   "id": "7470e308-6d13-4a80-bd3f-1cf110147499",
   "metadata": {},
   "outputs": [],
   "source": [
    "s_opts = {'requester_pays':True}"
   ]
  },
  {
   "cell_type": "code",
   "execution_count": null,
   "id": "52b57f3d-1288-4ec0-b20b-f0d6da3eb81c",
   "metadata": {},
   "outputs": [],
   "source": [
    "kerchunk.df.refs_to_dataframe(refs, url=url, storage_options=s_opts, partition=True, template_length=10, dict_fraction=0.1, min_refs=100)"
   ]
  },
  {
   "cell_type": "code",
   "execution_count": null,
   "id": "40d24f13-52c2-4913-a910-6e9287fe790a",
   "metadata": {},
   "outputs": [],
   "source": [
    "kerchunk.__version__"
   ]
  },
  {
   "cell_type": "code",
   "execution_count": null,
   "id": "518cc45e-e707-48fd-adf3-ccee669aa65f",
   "metadata": {},
   "outputs": [],
   "source": []
  }
 ],
 "metadata": {
  "kernelspec": {
   "display_name": "users-users-pangeo",
   "language": "python",
   "name": "conda-env-users-users-pangeo-py"
  },
  "language_info": {
   "codemirror_mode": {
    "name": "ipython",
    "version": 3
   },
   "file_extension": ".py",
   "mimetype": "text/x-python",
   "name": "python",
   "nbconvert_exporter": "python",
   "pygments_lexer": "ipython3",
   "version": "3.9.16"
  },
  "widgets": {
   "application/vnd.jupyter.widget-state+json": {
    "state": {},
    "version_major": 2,
    "version_minor": 0
   }
  }
 },
 "nbformat": 4,
 "nbformat_minor": 5
}
