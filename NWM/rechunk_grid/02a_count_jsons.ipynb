{
 "cells": [
  {
   "cell_type": "markdown",
   "id": "d5d0a75f-986a-4493-ad9d-98e7d727abd4",
   "metadata": {},
   "source": [
    "#### count Kerchunked JSON files \n",
    "Run this while the kerchunking is taking place to make sure list is growing"
   ]
  },
  {
   "cell_type": "code",
   "execution_count": null,
   "id": "a8222ec4-a363-4c0a-8d3b-fd0b5cea9572",
   "metadata": {},
   "outputs": [],
   "source": [
    "import fsspec"
   ]
  },
  {
   "cell_type": "code",
   "execution_count": null,
   "id": "4a36e7db-5dff-405e-960c-49196817c77b",
   "metadata": {},
   "outputs": [],
   "source": [
    "fs_json = fsspec.filesystem('s3', anon=False, skip_instance_cache=True)  "
   ]
  },
  {
   "cell_type": "code",
   "execution_count": null,
   "id": "3bfb96ad-cb80-4206-bbf6-9e5bd0870999",
   "metadata": {},
   "outputs": [],
   "source": [
    "json_dir = 's3://esip-qhub/noaa/nwm/grid1km/json'"
   ]
  },
  {
   "cell_type": "code",
   "execution_count": null,
   "id": "da147c93-ff78-45c6-8f44-9214512b92b8",
   "metadata": {},
   "outputs": [],
   "source": [
    "jlist = fs_json.ls(f'{json_dir}', refresh=True)\n",
    "print(len(jlist))\n",
    "print(jlist[0])\n",
    "print(jlist[-1])"
   ]
  },
  {
   "cell_type": "code",
   "execution_count": null,
   "id": "712da963-3dc7-48d7-aca7-6692c303e8cd",
   "metadata": {},
   "outputs": [],
   "source": [
    "jlist1 = fs_json.glob(f'{json_dir}/1980*.json')\n",
    "print(len(jlist1))\n",
    "print(jlist1[0])\n",
    "print(jlist1[-1])"
   ]
  },
  {
   "cell_type": "code",
   "execution_count": null,
   "id": "ba8104d6-9b06-4e69-9272-1f3c158c522f",
   "metadata": {},
   "outputs": [],
   "source": [
    "jlist2 = fs_json.glob(f'{json_dir}/2017*.json')\n",
    "print(len(jlist2))\n",
    "print(jlist2[0])\n",
    "print(jlist2[-1])"
   ]
  },
  {
   "cell_type": "code",
   "execution_count": null,
   "id": "e4a29b12-49f9-4ff4-ab8b-74d680f2f2e1",
   "metadata": {},
   "outputs": [],
   "source": [
    "len(jlist1) + len(jlist2)"
   ]
  },
  {
   "cell_type": "code",
   "execution_count": null,
   "id": "59b7dc92-32b3-443c-b6e4-1133e2432872",
   "metadata": {},
   "outputs": [],
   "source": []
  }
 ],
 "metadata": {
  "kernelspec": {
   "display_name": "users-pangeo",
   "language": "python",
   "name": "conda-env-users-pangeo-py"
  },
  "language_info": {
   "codemirror_mode": {
    "name": "ipython",
    "version": 3
   },
   "file_extension": ".py",
   "mimetype": "text/x-python",
   "name": "python",
   "nbconvert_exporter": "python",
   "pygments_lexer": "ipython3",
   "version": "3.9.13"
  },
  "widgets": {
   "application/vnd.jupyter.widget-state+json": {
    "state": {},
    "version_major": 2,
    "version_minor": 0
   }
  }
 },
 "nbformat": 4,
 "nbformat_minor": 5
}
