{
 "cells": [
  {
   "cell_type": "code",
   "execution_count": 2,
   "id": "ceec0b96-1236-44a9-a623-a16d7648c1e0",
   "metadata": {},
   "outputs": [],
   "source": [
    "import fsspec"
   ]
  },
  {
   "cell_type": "code",
   "execution_count": 3,
   "id": "2309500d-f740-483c-8951-b6a6eb0a60f2",
   "metadata": {},
   "outputs": [],
   "source": [
    "fs = fsspec.filesystem('s3', requester_pays=True)"
   ]
  },
  {
   "cell_type": "code",
   "execution_count": 4,
   "id": "fdf95289-8411-472b-8b93-7127bba55190",
   "metadata": {},
   "outputs": [
    {
     "data": {
      "text/plain": [
       "['coawst-public/COAWST_User_Manual_3.7.doc',\n",
       " 'coawst-public/COAWST_v3_5.tar.gz',\n",
       " 'coawst-public/NDBC_41008_202104_D9_v00.nc',\n",
       " 'coawst-public/arm.tgz',\n",
       " 'coawst-public/bbleh_zd_taran_2.tgz',\n",
       " 'coawst-public/de_bay_2.tgz',\n",
       " 'coawst-public/rsignell',\n",
       " 'coawst-public/spack-coawst-env.tar.gz',\n",
       " 'coawst-public/testing']"
      ]
     },
     "execution_count": 4,
     "metadata": {},
     "output_type": "execute_result"
    }
   ],
   "source": [
    "fs.ls('s3://coawst-public')"
   ]
  },
  {
   "cell_type": "code",
   "execution_count": 5,
   "id": "efe5cec9-5a45-4742-9161-357ba67122f1",
   "metadata": {},
   "outputs": [
    {
     "data": {
      "text/plain": [
       "{'Key': 'coawst-public/arm.tgz',\n",
       " 'LastModified': datetime.datetime(2021, 11, 12, 18, 50, 29, tzinfo=tzutc()),\n",
       " 'ETag': '\"768e30bd800bc3678f77a9d9b88d4d0a-123\"',\n",
       " 'Size': 1027217791,\n",
       " 'StorageClass': 'STANDARD',\n",
       " 'type': 'file',\n",
       " 'size': 1027217791,\n",
       " 'name': 'coawst-public/arm.tgz'}"
      ]
     },
     "execution_count": 5,
     "metadata": {},
     "output_type": "execute_result"
    }
   ],
   "source": [
    "fs.info('coawst-public/arm.tgz')"
   ]
  },
  {
   "cell_type": "code",
   "execution_count": null,
   "id": "a1975495-93ac-40c4-8dfe-4d8462def0ad",
   "metadata": {},
   "outputs": [],
   "source": []
  }
 ],
 "metadata": {
  "kernelspec": {
   "display_name": "users-users-pangeo",
   "language": "python",
   "name": "conda-env-users-users-pangeo-py"
  },
  "language_info": {
   "codemirror_mode": {
    "name": "ipython",
    "version": 3
   },
   "file_extension": ".py",
   "mimetype": "text/x-python",
   "name": "python",
   "nbconvert_exporter": "python",
   "pygments_lexer": "ipython3",
   "version": "3.9.15"
  },
  "widgets": {
   "application/vnd.jupyter.widget-state+json": {
    "state": {},
    "version_major": 2,
    "version_minor": 0
   }
  }
 },
 "nbformat": 4,
 "nbformat_minor": 5
}
