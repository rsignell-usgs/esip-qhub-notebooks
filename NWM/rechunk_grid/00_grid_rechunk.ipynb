{
 "cells": [
  {
   "cell_type": "markdown",
   "id": "23c8086d-13e4-47af-811c-482464eed528",
   "metadata": {
    "tags": []
   },
   "source": [
    "# Rechunk NWM 1km gridded output\n",
    "\n",
    "The NWM 1km gridded output is available on AWS S3 as hourly NetCDF files, so we we would like to rechunk them to be read by the Zarr library.\n",
    "\n",
    "One approach would be to download all the files and work on them locally, like Pangeo forge often does. We will try a different approach, of first kerchunking the NetCDF files to make them more performant, then running rechunker on the kerchunked dataset. In both steps, we will use a Dask Gateway cluster, with workers writing directly to S3.\n"
   ]
  },
  {
   "cell_type": "code",
   "execution_count": null,
   "id": "d08c90e4-f68a-4a97-acee-2aa2d62a9500",
   "metadata": {},
   "outputs": [],
   "source": []
  }
 ],
 "metadata": {
  "kernelspec": {
   "display_name": "users-pangeo",
   "language": "python",
   "name": "conda-env-users-pangeo-py"
  },
  "language_info": {
   "codemirror_mode": {
    "name": "ipython",
    "version": 3
   },
   "file_extension": ".py",
   "mimetype": "text/x-python",
   "name": "python",
   "nbconvert_exporter": "python",
   "pygments_lexer": "ipython3",
   "version": "3.9.13"
  },
  "widgets": {
   "application/vnd.jupyter.widget-state+json": {
    "state": {},
    "version_major": 2,
    "version_minor": 0
   }
  }
 },
 "nbformat": 4,
 "nbformat_minor": 5
}
