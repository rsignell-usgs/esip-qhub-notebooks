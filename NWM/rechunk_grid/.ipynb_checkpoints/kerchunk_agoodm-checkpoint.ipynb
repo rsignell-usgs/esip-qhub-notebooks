{
 "cells": [
  {
   "cell_type": "markdown",
   "id": "51f45f4e-e499-43ce-b921-5172fbd29042",
   "metadata": {},
   "source": [
    "# Try Alex Goodman's approach for efficient access to references\n",
    "* https://discourse.pangeo.io/t/trick-for-improving-kerchunk-performance-for-large-numbers-of-chunks-files/3090\n",
    "* https://github.com/fsspec/kerchunk/issues/293#issuecomment-1416290468"
   ]
  },
  {
   "cell_type": "code",
   "execution_count": 1,
   "id": "bca88844-cb1a-420c-852b-9b54aac85735",
   "metadata": {},
   "outputs": [],
   "source": [
    "import fsspec\n",
    "import xarray as xr"
   ]
  },
  {
   "cell_type": "code",
   "execution_count": 2,
   "id": "920894c5-52eb-4c7d-af66-3ea177bab780",
   "metadata": {},
   "outputs": [],
   "source": [
    "%run parquet_refs.py"
   ]
  },
  {
   "cell_type": "code",
   "execution_count": 3,
   "id": "1953a7b8-b5c7-419d-83f2-d53d7c0adbe3",
   "metadata": {},
   "outputs": [],
   "source": [
    "fs = fsspec.filesystem('s3', anon=True, \n",
    "                        client_kwargs={'endpoint_url':'https://ncsa.osn.xsede.org'})"
   ]
  },
  {
   "cell_type": "code",
   "execution_count": 4,
   "id": "fa1dc59a-7518-4857-9cd8-729d1b4704c5",
   "metadata": {},
   "outputs": [],
   "source": [
    "url = 's3://esip/noaa/nwm/grid1km/LDAS_combined.json'"
   ]
  },
  {
   "cell_type": "code",
   "execution_count": 5,
   "id": "f32ec6c7-295e-447e-ba3c-e2a4000c0698",
   "metadata": {},
   "outputs": [
    {
     "data": {
      "text/plain": [
       "9.780943801"
      ]
     },
     "execution_count": 5,
     "metadata": {},
     "output_type": "execute_result"
    }
   ],
   "source": [
    "fs.size(url)/1e9 # GB"
   ]
  },
  {
   "cell_type": "code",
   "execution_count": 6,
   "id": "15b2685e-7181-4719-91aa-3ea33a8587df",
   "metadata": {},
   "outputs": [
    {
     "name": "stdout",
     "output_type": "stream",
     "text": [
      "CPU times: user 2min 28s, sys: 30.2 s, total: 2min 58s\n",
      "Wall time: 5min 24s\n"
     ]
    }
   ],
   "source": [
    "%%time\n",
    "refs = ujson.load(fs.open(url))"
   ]
  },
  {
   "cell_type": "code",
   "execution_count": 7,
   "id": "5a11b0bf-a24a-4d32-87e6-aba93be2f464",
   "metadata": {},
   "outputs": [
    {
     "data": {
      "text/plain": [
       "dict"
      ]
     },
     "execution_count": 7,
     "metadata": {},
     "output_type": "execute_result"
    }
   ],
   "source": [
    "type(refs)"
   ]
  },
  {
   "cell_type": "code",
   "execution_count": 8,
   "id": "1a9d758c-f15b-486e-95a3-15e45b654d53",
   "metadata": {},
   "outputs": [
    {
     "name": "stdout",
     "output_type": "stream",
     "text": [
      "CPU times: user 11min 30s, sys: 6.36 s, total: 11min 37s\n",
      "Wall time: 11min 41s\n"
     ]
    }
   ],
   "source": [
    "%%time \n",
    "# refs is original references JSON dict\n",
    "make_parquet_store('refs_test', refs, compression='zstd')"
   ]
  },
  {
   "cell_type": "code",
   "execution_count": 9,
   "id": "1969dd75-ec32-4dc9-b0de-40451e368816",
   "metadata": {},
   "outputs": [],
   "source": [
    "%%time\n",
    "mapper = ParquetReferenceMapper('refs_test')\n",
    "fs = fsspec.filesystem('reference', fo=mapper, remote_protocol='s3', remote_options=dict(anon=True))\n",
    "ds = xr.open_dataset(fs.get_mapper(''), engine='zarr')"
   ]
  }
 ],
 "metadata": {
  "kernelspec": {
   "display_name": "users-users-pangeolite",
   "language": "python",
   "name": "conda-env-users-users-pangeolite-py"
  },
  "language_info": {
   "codemirror_mode": {
    "name": "ipython",
    "version": 3
   },
   "file_extension": ".py",
   "mimetype": "text/x-python",
   "name": "python",
   "nbconvert_exporter": "python",
   "pygments_lexer": "ipython3",
   "version": "3.9.16"
  },
  "widgets": {
   "application/vnd.jupyter.widget-state+json": {
    "state": {},
    "version_major": 2,
    "version_minor": 0
   }
  }
 },
 "nbformat": 4,
 "nbformat_minor": 5
}
