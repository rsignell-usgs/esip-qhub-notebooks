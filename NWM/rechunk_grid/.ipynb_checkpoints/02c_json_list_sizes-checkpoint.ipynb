{
 "cells": [
  {
   "cell_type": "markdown",
   "id": "d5d0a75f-986a-4493-ad9d-98e7d727abd4",
   "metadata": {},
   "source": [
    "#### count Kerchunked JSON files \n",
    "Run this while the kerchunking is taking place to make sure list is growing"
   ]
  },
  {
   "cell_type": "code",
   "execution_count": 1,
   "id": "a8222ec4-a363-4c0a-8d3b-fd0b5cea9572",
   "metadata": {},
   "outputs": [],
   "source": [
    "import fsspec\n",
    "import pandas as pd\n",
    "import dask\n",
    "import dask.bag as db"
   ]
  },
  {
   "cell_type": "code",
   "execution_count": 2,
   "id": "bbc158d9-5306-4c17-a3c6-483207d0b6df",
   "metadata": {},
   "outputs": [
    {
     "name": "stdout",
     "output_type": "stream",
     "text": [
      "Region: us-west-2\n",
      "Existing Dask clusters:\n",
      "Cluster Index c_idx: 0 / Name: dev.47cb0b34d61243a8a1058cdd72769313 ClusterStatus.RUNNING\n",
      "Using existing cluster [0].\n",
      "Setting Fixed Scaling workers=30\n",
      "Reconnect client to clear cache\n",
      "client.dashboard_link (for new browser tab/window or dashboard searchbar in Jupyterhub):\n",
      "https://jupyter.qhub.esipfed.org/gateway/clusters/dev.47cb0b34d61243a8a1058cdd72769313/status\n",
      "Propagating environment variables to workers\n",
      "Using environment: users/pangeo\n"
     ]
    }
   ],
   "source": [
    "import sys\n",
    "import os\n",
    "libDir = r'/shared/users/lib'\n",
    "if libDir not in sys.path:\n",
    "    sys.path.append(libDir)\n",
    "    \n",
    "import ebdpy as ebd\n",
    "os.environ['AWS_PROFILE'] = 'esip-qhub'\n",
    "client,cluster = ebd.start_dask_cluster(\n",
    "    profile=os.environ['AWS_PROFILE'],\n",
    "    worker_max=30,\n",
    "    region='us-west-2', \n",
    "    use_existing_cluster=True,\n",
    "    adaptive_scaling=False, \n",
    "    wait_for_cluster=False, \n",
    "    propagate_env=True)"
   ]
  },
  {
   "cell_type": "code",
   "execution_count": 3,
   "id": "4a36e7db-5dff-405e-960c-49196817c77b",
   "metadata": {},
   "outputs": [],
   "source": [
    "fs_json = fsspec.filesystem('s3', anon=False, skip_instance_cache=True)  "
   ]
  },
  {
   "cell_type": "code",
   "execution_count": 4,
   "id": "3bfb96ad-cb80-4206-bbf6-9e5bd0870999",
   "metadata": {},
   "outputs": [],
   "source": [
    "json_dir = 's3://esip-qhub/noaa/nwm/grid1km/json/'"
   ]
  },
  {
   "cell_type": "code",
   "execution_count": 5,
   "id": "86799c28-4072-412a-8f16-533d9c9b0d32",
   "metadata": {},
   "outputs": [
    {
     "name": "stdout",
     "output_type": "stream",
     "text": [
      "122479\n",
      "esip-qhub/noaa/nwm/grid1km/json/197902010300.LDASOUT_DOMAIN1.json\n",
      "esip-qhub/noaa/nwm/grid1km/json/202012312100.LDASOUT_DOMAIN1.json\n",
      "CPU times: user 12.4 s, sys: 130 ms, total: 12.5 s\n",
      "Wall time: 21 s\n"
     ]
    }
   ],
   "source": [
    "%%time\n",
    "jlist = fs_json.ls(json_dir, refresh=True)\n",
    "print(len(jlist))\n",
    "print(jlist[0])\n",
    "print(jlist[-1])"
   ]
  },
  {
   "cell_type": "code",
   "execution_count": 6,
   "id": "d2820b90-79a7-491a-9d91-3674d9b23eb3",
   "metadata": {},
   "outputs": [],
   "source": [
    "def get_size(json):\n",
    "    return fs_json.size(json)"
   ]
  },
  {
   "cell_type": "code",
   "execution_count": 7,
   "id": "63676c21-0d8e-462f-9488-c90f2963674f",
   "metadata": {},
   "outputs": [],
   "source": [
    "b = db.from_sequence(jlist, npartitions=30)"
   ]
  },
  {
   "cell_type": "code",
   "execution_count": 8,
   "id": "c925502d-c893-4b4f-b795-be1559b67a97",
   "metadata": {},
   "outputs": [
    {
     "data": {
      "text/plain": [
       "107776"
      ]
     },
     "execution_count": 8,
     "metadata": {},
     "output_type": "execute_result"
    }
   ],
   "source": [
    "get_size(jlist[0])"
   ]
  },
  {
   "cell_type": "code",
   "execution_count": 9,
   "id": "2a775c43-3cb6-4bf7-a4de-851ff594bb2d",
   "metadata": {},
   "outputs": [],
   "source": [
    "b1 = b.map(get_size)"
   ]
  },
  {
   "cell_type": "code",
   "execution_count": 10,
   "id": "8a96e8f0-9a4e-418a-a3e3-6e9cacb11881",
   "metadata": {},
   "outputs": [
    {
     "name": "stdout",
     "output_type": "stream",
     "text": [
      "CPU times: user 2.98 s, sys: 234 ms, total: 3.22 s\n",
      "Wall time: 57.6 s\n"
     ]
    }
   ],
   "source": [
    "%%time\n",
    "jsize = b1.compute(retries=10)"
   ]
  },
  {
   "cell_type": "code",
   "execution_count": 11,
   "id": "68d6a3e9-7191-474d-9a35-d3a52ff50eef",
   "metadata": {},
   "outputs": [],
   "source": [
    "df = pd.DataFrame({'file': jlist, 'size': jsize }).sort_values('size')"
   ]
  },
  {
   "cell_type": "code",
   "execution_count": 20,
   "id": "6fde4179-a8f7-4d15-9da3-263d85ec972d",
   "metadata": {},
   "outputs": [
    {
     "data": {
      "text/plain": [
       "['esip-qhub/noaa/nwm/grid1km/json/200505272100.LDASOUT_DOMAIN1.json',\n",
       " 'esip-qhub/noaa/nwm/grid1km/json/202007060300.LDASOUT_DOMAIN1.json',\n",
       " 'esip-qhub/noaa/nwm/grid1km/json/199507070300.LDASOUT_DOMAIN1.json']"
      ]
     },
     "execution_count": 20,
     "metadata": {},
     "output_type": "execute_result"
    },
    {
     "name": "stderr",
     "output_type": "stream",
     "text": [
      "/home/conda/users/7d479acd42e90471353def6ca5a8af746b5fc7262141e86e2738676e7087dbc8-20221121-135211-565707-232-pangeo/lib/python3.9/site-packages/dask_gateway/client.py:1014: RuntimeWarning: coroutine 'rpc.close_rpc' was never awaited\n",
      "  self.scheduler_comm.close_rpc()\n"
     ]
    }
   ],
   "source": [
    "list(df.iloc[:3]['file'].values)"
   ]
  },
  {
   "cell_type": "code",
   "execution_count": 13,
   "id": "b9de83cc-f2e5-40bc-927d-3fb68377afdb",
   "metadata": {},
   "outputs": [],
   "source": [
    "df.to_csv('json_sizes.csv')"
   ]
  },
  {
   "cell_type": "code",
   "execution_count": null,
   "id": "16b0794a-07f9-4b34-92ff-c2f165c72d5a",
   "metadata": {},
   "outputs": [],
   "source": []
  }
 ],
 "metadata": {
  "kernelspec": {
   "display_name": "users-pangeo",
   "language": "python",
   "name": "conda-env-users-pangeo-py"
  },
  "language_info": {
   "codemirror_mode": {
    "name": "ipython",
    "version": 3
   },
   "file_extension": ".py",
   "mimetype": "text/x-python",
   "name": "python",
   "nbconvert_exporter": "python",
   "pygments_lexer": "ipython3",
   "version": "3.9.13"
  },
  "widgets": {
   "application/vnd.jupyter.widget-state+json": {
    "state": {},
    "version_major": 2,
    "version_minor": 0
   }
  }
 },
 "nbformat": 4,
 "nbformat_minor": 5
}
