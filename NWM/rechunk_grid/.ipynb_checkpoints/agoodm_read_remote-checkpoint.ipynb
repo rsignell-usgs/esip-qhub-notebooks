{
 "cells": [
  {
   "cell_type": "markdown",
   "id": "51f45f4e-e499-43ce-b921-5172fbd29042",
   "metadata": {},
   "source": [
    "# Efficient access to Kerchunk references\n",
    "* https://discourse.pangeo.io/t/trick-for-improving-kerchunk-performance-for-large-numbers-of-chunks-files/3090\n",
    "* https://github.com/fsspec/kerchunk/issues/293#issuecomment-1416290468"
   ]
  },
  {
   "cell_type": "code",
   "execution_count": 1,
   "id": "bca88844-cb1a-420c-852b-9b54aac85735",
   "metadata": {},
   "outputs": [],
   "source": [
    "import fsspec\n",
    "import xarray as xr"
   ]
  },
  {
   "cell_type": "code",
   "execution_count": 2,
   "id": "c6ec7812-98e7-4773-b39d-b119d5ff3dc3",
   "metadata": {},
   "outputs": [
    {
     "data": {
      "text/plain": [
       "[None]"
      ]
     },
     "execution_count": 2,
     "metadata": {},
     "output_type": "execute_result"
    }
   ],
   "source": [
    "fs_http = fsspec.filesystem('https')\n",
    "fs_http.download('https://gist.githubusercontent.com/agoodm/25d41ce0c47cd714271be66d0db0459d/raw/34cd54fd4a884979470e4ccd8df7ee5065c1daf9/parquet_refs.py',\n",
    "                 'parquet_refs.py')"
   ]
  },
  {
   "cell_type": "code",
   "execution_count": 3,
   "id": "920894c5-52eb-4c7d-af66-3ea177bab780",
   "metadata": {},
   "outputs": [],
   "source": [
    "%run parquet_refs.py"
   ]
  },
  {
   "cell_type": "code",
   "execution_count": 4,
   "id": "2effefc4-370e-4bd0-85e9-246c15f99800",
   "metadata": {},
   "outputs": [],
   "source": [
    "fs = fsspec.filesystem('s3', anon=True, \n",
    "                        client_kwargs={'endpoint_url':'https://ncsa.osn.xsede.org'})"
   ]
  },
  {
   "cell_type": "code",
   "execution_count": 5,
   "id": "b9ac49ca-73e7-4dd5-8693-a7a3a7d4ad90",
   "metadata": {},
   "outputs": [],
   "source": [
    "lazy_refs = 's3://esip/noaa/nwm/zarr_lazy_refs'\n",
    "t_opts = {'anon': True, 'client_kwargs':{'endpoint_url':'https://ncsa.osn.xsede.org'}}"
   ]
  },
  {
   "cell_type": "code",
   "execution_count": 6,
   "id": "019b6c04-03cd-4aaf-aefb-14b55a308132",
   "metadata": {},
   "outputs": [
    {
     "name": "stdout",
     "output_type": "stream",
     "text": [
      "Number of reference files: 28\n",
      "Total size of references: 0.756072188 GB\n"
     ]
    }
   ],
   "source": [
    "print(f'Number of reference files: {len(fs.ls(lazy_refs))}')\n",
    "print(f'Total size of references: {fs.du(lazy_refs)/1e9} GB')"
   ]
  },
  {
   "cell_type": "code",
   "execution_count": 7,
   "id": "1969dd75-ec32-4dc9-b0de-40451e368816",
   "metadata": {},
   "outputs": [
    {
     "name": "stdout",
     "output_type": "stream",
     "text": [
      "CPU times: user 1.85 s, sys: 192 ms, total: 2.05 s\n",
      "Wall time: 4.35 s\n"
     ]
    }
   ],
   "source": [
    "%%time\n",
    "\n",
    "mapper = ParquetReferenceMapper(lazy_refs, fs=fs)\n",
    "r_opts = {'anon': True}\n",
    "fs = fsspec.filesystem('reference', fo=mapper, remote_protocol='s3', \n",
    "                       remote_options=r_opts, target_options=t_opts)\n",
    "ds = xr.open_dataset(fs.get_mapper(''), engine='zarr')"
   ]
  },
  {
   "cell_type": "code",
   "execution_count": 8,
   "id": "11b4968b-c0db-4ef6-8fb2-cb864b13349a",
   "metadata": {},
   "outputs": [
    {
     "name": "stdout",
     "output_type": "stream",
     "text": [
      "CPU times: user 393 ms, sys: 130 ms, total: 523 ms\n",
      "Wall time: 1.84 s\n"
     ]
    }
   ],
   "source": [
    "%%time\n",
    "da = ds.TRAD.sel(time='1990-01-01 00:00').load()"
   ]
  },
  {
   "cell_type": "code",
   "execution_count": 9,
   "id": "75df0766-3f1d-47d4-8236-ac86e8c5db20",
   "metadata": {},
   "outputs": [
    {
     "name": "stdout",
     "output_type": "stream",
     "text": [
      "CPU times: user 392 ms, sys: 96.5 ms, total: 489 ms\n",
      "Wall time: 1.13 s\n"
     ]
    }
   ],
   "source": [
    "%%time\n",
    "da = ds.TRAD.sel(time='2015-01-01 00:00').load()"
   ]
  },
  {
   "cell_type": "code",
   "execution_count": 10,
   "id": "dbb14f64-4909-4791-be9a-5a14ebf63506",
   "metadata": {},
   "outputs": [
    {
     "data": {
      "text/plain": [
       "array(266.92635398)"
      ]
     },
     "execution_count": 10,
     "metadata": {},
     "output_type": "execute_result"
    }
   ],
   "source": [
    "da.mean().data"
   ]
  }
 ],
 "metadata": {
  "kernelspec": {
   "display_name": "users-users-pangeo",
   "language": "python",
   "name": "conda-env-users-users-pangeo-py"
  },
  "language_info": {
   "codemirror_mode": {
    "name": "ipython",
    "version": 3
   },
   "file_extension": ".py",
   "mimetype": "text/x-python",
   "name": "python",
   "nbconvert_exporter": "python",
   "pygments_lexer": "ipython3",
   "version": "3.9.16"
  },
  "widgets": {
   "application/vnd.jupyter.widget-state+json": {
    "state": {},
    "version_major": 2,
    "version_minor": 0
   }
  }
 },
 "nbformat": 4,
 "nbformat_minor": 5
}
