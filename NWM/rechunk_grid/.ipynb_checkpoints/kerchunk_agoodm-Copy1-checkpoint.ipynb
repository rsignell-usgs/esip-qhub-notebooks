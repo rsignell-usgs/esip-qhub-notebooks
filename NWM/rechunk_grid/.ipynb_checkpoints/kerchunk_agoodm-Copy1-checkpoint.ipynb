{
 "cells": [
  {
   "cell_type": "markdown",
   "id": "51f45f4e-e499-43ce-b921-5172fbd29042",
   "metadata": {},
   "source": [
    "# Try Alex Goodman's approach for efficient access to references\n",
    "* https://discourse.pangeo.io/t/trick-for-improving-kerchunk-performance-for-large-numbers-of-chunks-files/3090\n",
    "* https://github.com/fsspec/kerchunk/issues/293#issuecomment-1416290468"
   ]
  },
  {
   "cell_type": "code",
   "execution_count": 1,
   "id": "bca88844-cb1a-420c-852b-9b54aac85735",
   "metadata": {},
   "outputs": [],
   "source": [
    "import fsspec\n",
    "import xarray as xr"
   ]
  },
  {
   "cell_type": "code",
   "execution_count": 2,
   "id": "920894c5-52eb-4c7d-af66-3ea177bab780",
   "metadata": {},
   "outputs": [],
   "source": [
    "%run parquet_refs.py"
   ]
  },
  {
   "cell_type": "code",
   "execution_count": 3,
   "id": "2effefc4-370e-4bd0-85e9-246c15f99800",
   "metadata": {},
   "outputs": [],
   "source": [
    "fs = fsspec.filesystem('s3', anon=True, \n",
    "                        client_kwargs={'endpoint_url':'https://ncsa.osn.xsede.org'})"
   ]
  },
  {
   "cell_type": "code",
   "execution_count": 4,
   "id": "b9ac49ca-73e7-4dd5-8693-a7a3a7d4ad90",
   "metadata": {},
   "outputs": [],
   "source": [
    "lazy_refs = 's3://esip/noaa/nwm/zarr_lazy_refs'"
   ]
  },
  {
   "cell_type": "code",
   "execution_count": 5,
   "id": "019b6c04-03cd-4aaf-aefb-14b55a308132",
   "metadata": {},
   "outputs": [
    {
     "name": "stdout",
     "output_type": "stream",
     "text": [
      "Number of reference files: 28\n",
      "Total size of references: 0.756072188 GB\n"
     ]
    }
   ],
   "source": [
    "print(f'Number of reference files: {len(fs.ls(lazy_refs))}')\n",
    "print(f'Total size of references: {fs.du(lazy_refs)/1e9} GB')"
   ]
  },
  {
   "cell_type": "code",
   "execution_count": 6,
   "id": "1969dd75-ec32-4dc9-b0de-40451e368816",
   "metadata": {},
   "outputs": [
    {
     "ename": "TypeError",
     "evalue": "listdir: path should be string, bytes, os.PathLike, integer or None, not S3File",
     "output_type": "error",
     "traceback": [
      "\u001b[0;31m---------------------------------------------------------------------------\u001b[0m",
      "\u001b[0;31mTypeError\u001b[0m                                 Traceback (most recent call last)",
      "File \u001b[0;32m<timed exec>:4\u001b[0m\n",
      "File \u001b[0;32m/home/conda/users/3debf173afdb5a5c08d41e394fa4edfee761025786b4b070db4dd53b6f30a9d3-20230210-204451-482332-73-pangeo/lib/python3.9/site-packages/fsspec/registry.py:252\u001b[0m, in \u001b[0;36mfilesystem\u001b[0;34m(protocol, **storage_options)\u001b[0m\n\u001b[1;32m    245\u001b[0m     warnings\u001b[38;5;241m.\u001b[39mwarn(\n\u001b[1;32m    246\u001b[0m         \u001b[38;5;124m\"\u001b[39m\u001b[38;5;124mThe \u001b[39m\u001b[38;5;124m'\u001b[39m\u001b[38;5;124marrow_hdfs\u001b[39m\u001b[38;5;124m'\u001b[39m\u001b[38;5;124m protocol has been deprecated and will be \u001b[39m\u001b[38;5;124m\"\u001b[39m\n\u001b[1;32m    247\u001b[0m         \u001b[38;5;124m\"\u001b[39m\u001b[38;5;124mremoved in the future. Specify it as \u001b[39m\u001b[38;5;124m'\u001b[39m\u001b[38;5;124mhdfs\u001b[39m\u001b[38;5;124m'\u001b[39m\u001b[38;5;124m.\u001b[39m\u001b[38;5;124m\"\u001b[39m,\n\u001b[1;32m    248\u001b[0m         \u001b[38;5;167;01mDeprecationWarning\u001b[39;00m,\n\u001b[1;32m    249\u001b[0m     )\n\u001b[1;32m    251\u001b[0m \u001b[38;5;28mcls\u001b[39m \u001b[38;5;241m=\u001b[39m get_filesystem_class(protocol)\n\u001b[0;32m--> 252\u001b[0m \u001b[38;5;28;01mreturn\u001b[39;00m \u001b[38;5;28;43mcls\u001b[39;49m\u001b[43m(\u001b[49m\u001b[38;5;241;43m*\u001b[39;49m\u001b[38;5;241;43m*\u001b[39;49m\u001b[43mstorage_options\u001b[49m\u001b[43m)\u001b[49m\n",
      "File \u001b[0;32m/home/conda/users/3debf173afdb5a5c08d41e394fa4edfee761025786b4b070db4dd53b6f30a9d3-20230210-204451-482332-73-pangeo/lib/python3.9/site-packages/fsspec/spec.py:76\u001b[0m, in \u001b[0;36m_Cached.__call__\u001b[0;34m(cls, *args, **kwargs)\u001b[0m\n\u001b[1;32m     74\u001b[0m     \u001b[38;5;28;01mreturn\u001b[39;00m \u001b[38;5;28mcls\u001b[39m\u001b[38;5;241m.\u001b[39m_cache[token]\n\u001b[1;32m     75\u001b[0m \u001b[38;5;28;01melse\u001b[39;00m:\n\u001b[0;32m---> 76\u001b[0m     obj \u001b[38;5;241m=\u001b[39m \u001b[38;5;28;43msuper\u001b[39;49m\u001b[43m(\u001b[49m\u001b[43m)\u001b[49m\u001b[38;5;241;43m.\u001b[39;49m\u001b[38;5;21;43m__call__\u001b[39;49m\u001b[43m(\u001b[49m\u001b[38;5;241;43m*\u001b[39;49m\u001b[43margs\u001b[49m\u001b[43m,\u001b[49m\u001b[43m \u001b[49m\u001b[38;5;241;43m*\u001b[39;49m\u001b[38;5;241;43m*\u001b[39;49m\u001b[43mkwargs\u001b[49m\u001b[43m)\u001b[49m\n\u001b[1;32m     77\u001b[0m     \u001b[38;5;66;03m# Setting _fs_token here causes some static linters to complain.\u001b[39;00m\n\u001b[1;32m     78\u001b[0m     obj\u001b[38;5;241m.\u001b[39m_fs_token_ \u001b[38;5;241m=\u001b[39m token\n",
      "File \u001b[0;32m/home/conda/users/3debf173afdb5a5c08d41e394fa4edfee761025786b4b070db4dd53b6f30a9d3-20230210-204451-482332-73-pangeo/lib/python3.9/site-packages/fsspec/implementations/reference.py:170\u001b[0m, in \u001b[0;36mReferenceFileSystem.__init__\u001b[0;34m(self, fo, target, ref_storage_args, target_protocol, target_options, remote_protocol, remote_options, fs, template_overrides, simple_templates, max_gap, max_block, **kwargs)\u001b[0m\n\u001b[1;32m    167\u001b[0m \u001b[38;5;28;01melse\u001b[39;00m:\n\u001b[1;32m    168\u001b[0m     \u001b[38;5;66;03m# dictionaries\u001b[39;00m\n\u001b[1;32m    169\u001b[0m     text \u001b[38;5;241m=\u001b[39m fo\n\u001b[0;32m--> 170\u001b[0m \u001b[38;5;28;43mself\u001b[39;49m\u001b[38;5;241;43m.\u001b[39;49m\u001b[43m_process_references\u001b[49m\u001b[43m(\u001b[49m\u001b[43mtext\u001b[49m\u001b[43m,\u001b[49m\u001b[43m \u001b[49m\u001b[43mtemplate_overrides\u001b[49m\u001b[43m)\u001b[49m\n\u001b[1;32m    171\u001b[0m \u001b[38;5;28;01mif\u001b[39;00m \u001b[38;5;28misinstance\u001b[39m(fs, \u001b[38;5;28mdict\u001b[39m):\n\u001b[1;32m    172\u001b[0m     \u001b[38;5;28mself\u001b[39m\u001b[38;5;241m.\u001b[39mfss \u001b[38;5;241m=\u001b[39m {\n\u001b[1;32m    173\u001b[0m         k: (\n\u001b[1;32m    174\u001b[0m             fsspec\u001b[38;5;241m.\u001b[39mfilesystem(k\u001b[38;5;241m.\u001b[39msplit(\u001b[38;5;124m\"\u001b[39m\u001b[38;5;124m:\u001b[39m\u001b[38;5;124m\"\u001b[39m, \u001b[38;5;241m1\u001b[39m)[\u001b[38;5;241m0\u001b[39m], \u001b[38;5;241m*\u001b[39m\u001b[38;5;241m*\u001b[39mopts)\n\u001b[0;32m   (...)\u001b[0m\n\u001b[1;32m    178\u001b[0m         \u001b[38;5;28;01mfor\u001b[39;00m k, opts \u001b[38;5;129;01min\u001b[39;00m fs\u001b[38;5;241m.\u001b[39mitems()\n\u001b[1;32m    179\u001b[0m     }\n",
      "File \u001b[0;32m/home/conda/users/3debf173afdb5a5c08d41e394fa4edfee761025786b4b070db4dd53b6f30a9d3-20230210-204451-482332-73-pangeo/lib/python3.9/site-packages/fsspec/implementations/reference.py:409\u001b[0m, in \u001b[0;36mReferenceFileSystem._process_references\u001b[0;34m(self, references, template_overrides)\u001b[0m\n\u001b[1;32m    408\u001b[0m \u001b[38;5;28;01mdef\u001b[39;00m \u001b[38;5;21m_process_references\u001b[39m(\u001b[38;5;28mself\u001b[39m, references, template_overrides\u001b[38;5;241m=\u001b[39m\u001b[38;5;28;01mNone\u001b[39;00m):\n\u001b[0;32m--> 409\u001b[0m     vers \u001b[38;5;241m=\u001b[39m \u001b[43mreferences\u001b[49m\u001b[38;5;241;43m.\u001b[39;49m\u001b[43mget\u001b[49m\u001b[43m(\u001b[49m\u001b[38;5;124;43m\"\u001b[39;49m\u001b[38;5;124;43mversion\u001b[39;49m\u001b[38;5;124;43m\"\u001b[39;49m\u001b[43m,\u001b[49m\u001b[43m \u001b[49m\u001b[38;5;28;43;01mNone\u001b[39;49;00m\u001b[43m)\u001b[49m\n\u001b[1;32m    410\u001b[0m     \u001b[38;5;28;01mif\u001b[39;00m vers \u001b[38;5;129;01mis\u001b[39;00m \u001b[38;5;28;01mNone\u001b[39;00m:\n\u001b[1;32m    411\u001b[0m         \u001b[38;5;28mself\u001b[39m\u001b[38;5;241m.\u001b[39m_process_references0(references)\n",
      "File \u001b[0;32m/home/conda/users/3debf173afdb5a5c08d41e394fa4edfee761025786b4b070db4dd53b6f30a9d3-20230210-204451-482332-73-pangeo/lib/python3.9/_collections_abc.py:763\u001b[0m, in \u001b[0;36mMapping.get\u001b[0;34m(self, key, default)\u001b[0m\n\u001b[1;32m    761\u001b[0m \u001b[38;5;124m'\u001b[39m\u001b[38;5;124mD.get(k[,d]) -> D[k] if k in D, else d.  d defaults to None.\u001b[39m\u001b[38;5;124m'\u001b[39m\n\u001b[1;32m    762\u001b[0m \u001b[38;5;28;01mtry\u001b[39;00m:\n\u001b[0;32m--> 763\u001b[0m     \u001b[38;5;28;01mreturn\u001b[39;00m \u001b[38;5;28;43mself\u001b[39;49m\u001b[43m[\u001b[49m\u001b[43mkey\u001b[49m\u001b[43m]\u001b[49m\n\u001b[1;32m    764\u001b[0m \u001b[38;5;28;01mexcept\u001b[39;00m \u001b[38;5;167;01mKeyError\u001b[39;00m:\n\u001b[1;32m    765\u001b[0m     \u001b[38;5;28;01mreturn\u001b[39;00m default\n",
      "File \u001b[0;32m/shared/users/rsignell/notebooks/NWM/rechunk_grid/parquet_refs.py:240\u001b[0m, in \u001b[0;36mParquetReferenceMapper.__getitem__\u001b[0;34m(self, key)\u001b[0m\n\u001b[1;32m    238\u001b[0m \u001b[38;5;28;01mif\u001b[39;00m key \u001b[38;5;129;01min\u001b[39;00m \u001b[38;5;28mself\u001b[39m\u001b[38;5;241m.\u001b[39m_items:\n\u001b[1;32m    239\u001b[0m     \u001b[38;5;28;01mreturn\u001b[39;00m \u001b[38;5;28mself\u001b[39m\u001b[38;5;241m.\u001b[39m_items[key]\n\u001b[0;32m--> 240\u001b[0m \u001b[38;5;28;01mreturn\u001b[39;00m \u001b[38;5;28;43mself\u001b[39;49m\u001b[38;5;241;43m.\u001b[39;49m\u001b[43m_load_one_key\u001b[49m\u001b[43m(\u001b[49m\u001b[43mkey\u001b[49m\u001b[43m)\u001b[49m\n",
      "File \u001b[0;32m/shared/users/rsignell/notebooks/NWM/rechunk_grid/parquet_refs.py:189\u001b[0m, in \u001b[0;36mParquetReferenceMapper._load_one_key\u001b[0;34m(self, key)\u001b[0m\n\u001b[1;32m    187\u001b[0m \u001b[38;5;28;01mdef\u001b[39;00m \u001b[38;5;21m_load_one_key\u001b[39m(\u001b[38;5;28mself\u001b[39m, key):\n\u001b[1;32m    188\u001b[0m     \u001b[38;5;28;01mif\u001b[39;00m \u001b[38;5;124m'\u001b[39m\u001b[38;5;124m/\u001b[39m\u001b[38;5;124m'\u001b[39m \u001b[38;5;129;01mnot\u001b[39;00m \u001b[38;5;129;01min\u001b[39;00m key:\n\u001b[0;32m--> 189\u001b[0m         \u001b[38;5;28;01mif\u001b[39;00m key \u001b[38;5;129;01mnot\u001b[39;00m \u001b[38;5;129;01min\u001b[39;00m \u001b[43mos\u001b[49m\u001b[38;5;241;43m.\u001b[39;49m\u001b[43mlistdir\u001b[49m\u001b[43m(\u001b[49m\u001b[38;5;28;43mself\u001b[39;49m\u001b[38;5;241;43m.\u001b[39;49m\u001b[43mroot\u001b[49m\u001b[43m)\u001b[49m:\n\u001b[1;32m    190\u001b[0m             \u001b[38;5;28;01mraise\u001b[39;00m \u001b[38;5;167;01mKeyError\u001b[39;00m\n\u001b[1;32m    191\u001b[0m         \u001b[38;5;28;01mreturn\u001b[39;00m \u001b[38;5;28mself\u001b[39m\u001b[38;5;241m.\u001b[39m_get_and_cache_metadata(key)\n",
      "\u001b[0;31mTypeError\u001b[0m: listdir: path should be string, bytes, os.PathLike, integer or None, not S3File"
     ]
    }
   ],
   "source": [
    "%%time\n",
    "mapper = ParquetReferenceMapper(fs.open(lazy_refs))\n",
    "t_opts = {'anon': True, 'client_kwargs':{'endpoint_url':'https://ncsa.osn.xsede.org'}}\n",
    "r_opts = {'anon': True}\n",
    "fs = fsspec.filesystem('reference', fo=mapper, remote_protocol='s3', \n",
    "                       remote_options=r_opts, target_options=t_opts)\n",
    "ds = xr.open_dataset(fs.get_mapper(''), engine='zarr')"
   ]
  },
  {
   "cell_type": "code",
   "execution_count": 7,
   "id": "11b4968b-c0db-4ef6-8fb2-cb864b13349a",
   "metadata": {},
   "outputs": [
    {
     "ename": "NameError",
     "evalue": "name 'ds' is not defined",
     "output_type": "error",
     "traceback": [
      "\u001b[0;31m---------------------------------------------------------------------------\u001b[0m",
      "\u001b[0;31mNameError\u001b[0m                                 Traceback (most recent call last)",
      "File \u001b[0;32m<timed exec>:1\u001b[0m\n",
      "\u001b[0;31mNameError\u001b[0m: name 'ds' is not defined"
     ]
    }
   ],
   "source": [
    "%%time\n",
    "da = ds.TRAD.sel(time='1990-01-01 00:00').load()"
   ]
  },
  {
   "cell_type": "code",
   "execution_count": 8,
   "id": "75df0766-3f1d-47d4-8236-ac86e8c5db20",
   "metadata": {},
   "outputs": [
    {
     "ename": "NameError",
     "evalue": "name 'ds' is not defined",
     "output_type": "error",
     "traceback": [
      "\u001b[0;31m---------------------------------------------------------------------------\u001b[0m",
      "\u001b[0;31mNameError\u001b[0m                                 Traceback (most recent call last)",
      "File \u001b[0;32m<timed exec>:1\u001b[0m\n",
      "\u001b[0;31mNameError\u001b[0m: name 'ds' is not defined"
     ]
    }
   ],
   "source": [
    "%%time\n",
    "da = ds.TRAD.sel(time='2015-01-01 00:00').load()"
   ]
  },
  {
   "cell_type": "code",
   "execution_count": 9,
   "id": "dbb14f64-4909-4791-be9a-5a14ebf63506",
   "metadata": {},
   "outputs": [
    {
     "ename": "NameError",
     "evalue": "name 'da' is not defined",
     "output_type": "error",
     "traceback": [
      "\u001b[0;31m---------------------------------------------------------------------------\u001b[0m",
      "\u001b[0;31mNameError\u001b[0m                                 Traceback (most recent call last)",
      "Cell \u001b[0;32mIn[9], line 1\u001b[0m\n\u001b[0;32m----> 1\u001b[0m \u001b[43mda\u001b[49m\u001b[38;5;241m.\u001b[39mmean()\u001b[38;5;241m.\u001b[39mdata\n",
      "\u001b[0;31mNameError\u001b[0m: name 'da' is not defined"
     ]
    }
   ],
   "source": [
    "da.mean().data"
   ]
  },
  {
   "cell_type": "code",
   "execution_count": null,
   "id": "f17e5c77-824c-49b8-a17c-93e01f833ae2",
   "metadata": {},
   "outputs": [],
   "source": []
  }
 ],
 "metadata": {
  "kernelspec": {
   "display_name": "users-users-pangeo",
   "language": "python",
   "name": "conda-env-users-users-pangeo-py"
  },
  "language_info": {
   "codemirror_mode": {
    "name": "ipython",
    "version": 3
   },
   "file_extension": ".py",
   "mimetype": "text/x-python",
   "name": "python",
   "nbconvert_exporter": "python",
   "pygments_lexer": "ipython3",
   "version": "3.9.16"
  },
  "widgets": {
   "application/vnd.jupyter.widget-state+json": {
    "state": {},
    "version_major": 2,
    "version_minor": 0
   }
  }
 },
 "nbformat": 4,
 "nbformat_minor": 5
}
