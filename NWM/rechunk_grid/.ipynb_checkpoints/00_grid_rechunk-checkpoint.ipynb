{
 "cells": [
  {
   "cell_type": "markdown",
   "id": "23c8086d-13e4-47af-811c-482464eed528",
   "metadata": {
    "tags": []
   },
   "source": [
    "# Rechunk NWM 1km gridded output\n",
    "\n",
    "The NWM 1km gridded output is available on AWS S3 as hourly NetCDF files, so we we would like to rechunk them to be read by the Zarr library.\n",
    "\n",
    "One approach would be to download all the files and work on them locally, like Pangeo forge often does. We will try a different approach, of first kerchunking the NetCDF files to make them more performant, then running rechunker on the kerchunked dataset. In both steps, we will use a Dask Gateway cluster, with workers writing directly to S3.\n"
   ]
  },
  {
   "cell_type": "markdown",
   "id": "885c6a17-a487-4ddd-8596-ac2006b14068",
   "metadata": {},
   "source": [
    "### Chunking and rechunking resources\n",
    "*  [\"Making Earth Science data more accessible\"](https://www.slideserve.com/kiaria/making-earth-science-data-more-accessible-experience-with-chunking-and-compression), AMS presentation slides by Russ Rew, Unidata (2003)\n",
    "*  [\"Rechunker: The missing link for chunked array analytics\"](https://medium.com/pangeo/rechunker-the-missing-link-for-chunked-array-analytics-5b2359e9dc11), Medium blog post by Ryan Abernathy, Columbia University (2020)"
   ]
  },
  {
   "cell_type": "code",
   "execution_count": null,
   "id": "90a81208-88ea-4921-9e21-aade42fc3952",
   "metadata": {},
   "outputs": [],
   "source": []
  }
 ],
 "metadata": {
  "kernelspec": {
   "display_name": "users-pangeo",
   "language": "python",
   "name": "conda-env-users-pangeo-py"
  },
  "language_info": {
   "codemirror_mode": {
    "name": "ipython",
    "version": 3
   },
   "file_extension": ".py",
   "mimetype": "text/x-python",
   "name": "python",
   "nbconvert_exporter": "python",
   "pygments_lexer": "ipython3",
   "version": "3.9.13"
  },
  "widgets": {
   "application/vnd.jupyter.widget-state+json": {
    "state": {},
    "version_major": 2,
    "version_minor": 0
   }
  }
 },
 "nbformat": 4,
 "nbformat_minor": 5
}
