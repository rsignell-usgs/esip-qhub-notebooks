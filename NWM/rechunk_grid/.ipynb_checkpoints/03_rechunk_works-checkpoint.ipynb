{
 "cells": [
  {
   "cell_type": "markdown",
   "id": "a4108776-2095-4696-a4b6-fef7c2496fce",
   "metadata": {},
   "source": [
    "# Rechunk the kerchunked dataset"
   ]
  },
  {
   "cell_type": "code",
   "execution_count": 1,
   "id": "720e3f30-0708-48c0-bbbb-696383c2b2f1",
   "metadata": {},
   "outputs": [],
   "source": [
    "import fsspec\n",
    "import fsspec.implementations.reference\n",
    "import zarr\n",
    "import xarray as xr\n",
    "from pathlib import Path\n",
    "\n",
    "from rechunker import rechunk"
   ]
  },
  {
   "cell_type": "code",
   "execution_count": 2,
   "id": "093ada9c-66dc-4d63-aa05-a528da477000",
   "metadata": {},
   "outputs": [
    {
     "data": {
      "text/plain": [
       "'2023.3.0+13.g95eb5f9'"
      ]
     },
     "execution_count": 2,
     "metadata": {},
     "output_type": "execute_result"
    }
   ],
   "source": [
    "fsspec.__version__"
   ]
  },
  {
   "cell_type": "code",
   "execution_count": 3,
   "id": "4c5f1ee6-fc59-4b3f-8d9e-0d618bd8dd75",
   "metadata": {},
   "outputs": [
    {
     "data": {
      "text/plain": [
       "'0.5.1'"
      ]
     },
     "execution_count": 3,
     "metadata": {},
     "output_type": "execute_result"
    }
   ],
   "source": [
    "import rechunker\n",
    "rechunker.__version__"
   ]
  },
  {
   "cell_type": "code",
   "execution_count": 4,
   "id": "ecf60b93-c561-4e2e-ad79-c409c919cdaf",
   "metadata": {},
   "outputs": [
    {
     "data": {
      "text/plain": [
       "'2.13.3'"
      ]
     },
     "execution_count": 4,
     "metadata": {},
     "output_type": "execute_result"
    }
   ],
   "source": [
    "import zarr\n",
    "zarr.__version__"
   ]
  },
  {
   "cell_type": "markdown",
   "id": "1a0babee-2b88-4713-abf6-32ff6ca7862a",
   "metadata": {},
   "source": [
    "#### Start a Dask Gateway cluster\n",
    "Use a custom helper function `ebd.start_dask_cluster` to set options on this cluster.  We don't have to use this helper, it just cuts down on lines of code in notebooks."
   ]
  },
  {
   "cell_type": "code",
   "execution_count": 5,
   "id": "ca9dd82d-0281-498b-8a28-61d8267d6a50",
   "metadata": {},
   "outputs": [
    {
     "name": "stdout",
     "output_type": "stream",
     "text": [
      "Region: us-west-2\n",
      "No Cluster running.\n",
      "Starting new cluster.\n",
      "Setting Cluster Environment Variable AWS_DEFAULT_REGION us-west-2\n",
      "Setting Fixed Scaling workers=30\n",
      "Reconnect client to clear cache\n",
      "client.dashboard_link (for new browser tab/window or dashboard searchbar in Jupyterhub):\n",
      "https://nebari.esipfed.org/gateway/clusters/dev.62dbc6b34d734c7990efe16cb454e36e/status\n",
      "Propagating environment variables to workers\n",
      "Using environment: users/users-pangeo\n"
     ]
    }
   ],
   "source": [
    "import sys\n",
    "import os\n",
    "sys.path.append('/shared/users/rsignell/lib')\n",
    "import ebdpy as ebd\n",
    "os.environ['AWS_PROFILE'] = 'esip-qhub'  # use env vars for AWS credentials to write\n",
    "\n",
    "client, cluster, gateway = ebd.start_dask_cluster(\n",
    "    profile=os.environ['AWS_PROFILE'],\n",
    "    worker_max=30,\n",
    "    region='us-west-2', \n",
    "    worker_profile='Medium Worker',\n",
    "    use_existing_cluster=False,\n",
    "    adaptive_scaling=False, \n",
    "    wait_for_cluster=False, \n",
    "    propagate_env=True)"
   ]
  },
  {
   "cell_type": "markdown",
   "id": "de1aafae-7b66-4895-8d36-9beddbbb9aec",
   "metadata": {
    "tags": []
   },
   "source": [
    "#### Open Entire Kerchunked Dataset, lazy loaded from parquet"
   ]
  },
  {
   "cell_type": "code",
   "execution_count": null,
   "id": "5e38bff6-2793-430c-bc02-817d7ed9d9e7",
   "metadata": {},
   "outputs": [],
   "source": [
    "#client.close()"
   ]
  },
  {
   "cell_type": "code",
   "execution_count": 7,
   "id": "c6fa2d05-dda5-426d-b0cd-249e182fa485",
   "metadata": {},
   "outputs": [
    {
     "name": "stdout",
     "output_type": "stream",
     "text": [
      "CPU times: user 73 µs, sys: 5 µs, total: 78 µs\n",
      "Wall time: 80.8 µs\n"
     ]
    }
   ],
   "source": [
    "%%time\n",
    "# references are on an OSN pod (no credentials needed)\n",
    "url = 's3://rsignellbucket2/noaa/nwm/grid1km/refs/'\n",
    "\n",
    "target_opts = {'anon':True, 'skip_instance_cache':True,\n",
    "              'client_kwargs': {'endpoint_url': 'https://renc.osn.xsede.org'}}\n",
    "\n",
    "# netcdf files are on the AWS public dataset program (no credentials needed)\n",
    "remote_opts = {'anon':True}\n",
    "\n",
    "fs = fsspec.filesystem(\"reference\", fo=url, \n",
    "                       remote_protocol='s3', remote_options=remote_opts,\n",
    "                      target_options=target_opts)\n",
    "m = fs.get_mapper(\"\")"
   ]
  },
  {
   "cell_type": "code",
   "execution_count": null,
   "id": "0b112174-6ceb-4d74-a40d-36a4499a379a",
   "metadata": {},
   "outputs": [],
   "source": [
    "ds = xr.open_dataset(m, engine='zarr', backend_kwargs=dict(consolidated=False))"
   ]
  },
  {
   "cell_type": "code",
   "execution_count": 6,
   "id": "770bfb8a-a6ee-4b22-99fc-273185f98344",
   "metadata": {},
   "outputs": [
    {
     "ename": "KeyboardInterrupt",
     "evalue": "",
     "output_type": "error",
     "traceback": [
      "\u001b[0;31m---------------------------------------------------------------------------\u001b[0m",
      "\u001b[0;31mKeyboardInterrupt\u001b[0m                         Traceback (most recent call last)",
      "File \u001b[0;32m<timed exec>:15\u001b[0m\n",
      "File \u001b[0;32m/home/conda/users/7ddf35e337ddfed956a0ec903c3015c06254b535442f4718696ce64c95dc0fd1-20230330-211442-876935-168-pangeo/lib/python3.10/site-packages/xarray/backends/api.py:526\u001b[0m, in \u001b[0;36mopen_dataset\u001b[0;34m(filename_or_obj, engine, chunks, cache, decode_cf, mask_and_scale, decode_times, decode_timedelta, use_cftime, concat_characters, decode_coords, drop_variables, inline_array, backend_kwargs, **kwargs)\u001b[0m\n\u001b[1;32m    514\u001b[0m decoders \u001b[38;5;241m=\u001b[39m _resolve_decoders_kwargs(\n\u001b[1;32m    515\u001b[0m     decode_cf,\n\u001b[1;32m    516\u001b[0m     open_backend_dataset_parameters\u001b[38;5;241m=\u001b[39mbackend\u001b[38;5;241m.\u001b[39mopen_dataset_parameters,\n\u001b[0;32m   (...)\u001b[0m\n\u001b[1;32m    522\u001b[0m     decode_coords\u001b[38;5;241m=\u001b[39mdecode_coords,\n\u001b[1;32m    523\u001b[0m )\n\u001b[1;32m    525\u001b[0m overwrite_encoded_chunks \u001b[38;5;241m=\u001b[39m kwargs\u001b[38;5;241m.\u001b[39mpop(\u001b[38;5;124m\"\u001b[39m\u001b[38;5;124moverwrite_encoded_chunks\u001b[39m\u001b[38;5;124m\"\u001b[39m, \u001b[38;5;28;01mNone\u001b[39;00m)\n\u001b[0;32m--> 526\u001b[0m backend_ds \u001b[38;5;241m=\u001b[39m \u001b[43mbackend\u001b[49m\u001b[38;5;241;43m.\u001b[39;49m\u001b[43mopen_dataset\u001b[49m\u001b[43m(\u001b[49m\n\u001b[1;32m    527\u001b[0m \u001b[43m    \u001b[49m\u001b[43mfilename_or_obj\u001b[49m\u001b[43m,\u001b[49m\n\u001b[1;32m    528\u001b[0m \u001b[43m    \u001b[49m\u001b[43mdrop_variables\u001b[49m\u001b[38;5;241;43m=\u001b[39;49m\u001b[43mdrop_variables\u001b[49m\u001b[43m,\u001b[49m\n\u001b[1;32m    529\u001b[0m \u001b[43m    \u001b[49m\u001b[38;5;241;43m*\u001b[39;49m\u001b[38;5;241;43m*\u001b[39;49m\u001b[43mdecoders\u001b[49m\u001b[43m,\u001b[49m\n\u001b[1;32m    530\u001b[0m \u001b[43m    \u001b[49m\u001b[38;5;241;43m*\u001b[39;49m\u001b[38;5;241;43m*\u001b[39;49m\u001b[43mkwargs\u001b[49m\u001b[43m,\u001b[49m\n\u001b[1;32m    531\u001b[0m \u001b[43m\u001b[49m\u001b[43m)\u001b[49m\n\u001b[1;32m    532\u001b[0m ds \u001b[38;5;241m=\u001b[39m _dataset_from_backend_dataset(\n\u001b[1;32m    533\u001b[0m     backend_ds,\n\u001b[1;32m    534\u001b[0m     filename_or_obj,\n\u001b[0;32m   (...)\u001b[0m\n\u001b[1;32m    542\u001b[0m     \u001b[38;5;241m*\u001b[39m\u001b[38;5;241m*\u001b[39mkwargs,\n\u001b[1;32m    543\u001b[0m )\n\u001b[1;32m    544\u001b[0m \u001b[38;5;28;01mreturn\u001b[39;00m ds\n",
      "File \u001b[0;32m/home/conda/users/7ddf35e337ddfed956a0ec903c3015c06254b535442f4718696ce64c95dc0fd1-20230330-211442-876935-168-pangeo/lib/python3.10/site-packages/xarray/backends/zarr.py:906\u001b[0m, in \u001b[0;36mZarrBackendEntrypoint.open_dataset\u001b[0;34m(self, filename_or_obj, mask_and_scale, decode_times, concat_characters, decode_coords, drop_variables, use_cftime, decode_timedelta, group, mode, synchronizer, consolidated, chunk_store, storage_options, stacklevel, zarr_version)\u001b[0m\n\u001b[1;32m    904\u001b[0m store_entrypoint \u001b[38;5;241m=\u001b[39m StoreBackendEntrypoint()\n\u001b[1;32m    905\u001b[0m \u001b[38;5;28;01mwith\u001b[39;00m close_on_error(store):\n\u001b[0;32m--> 906\u001b[0m     ds \u001b[38;5;241m=\u001b[39m \u001b[43mstore_entrypoint\u001b[49m\u001b[38;5;241;43m.\u001b[39;49m\u001b[43mopen_dataset\u001b[49m\u001b[43m(\u001b[49m\n\u001b[1;32m    907\u001b[0m \u001b[43m        \u001b[49m\u001b[43mstore\u001b[49m\u001b[43m,\u001b[49m\n\u001b[1;32m    908\u001b[0m \u001b[43m        \u001b[49m\u001b[43mmask_and_scale\u001b[49m\u001b[38;5;241;43m=\u001b[39;49m\u001b[43mmask_and_scale\u001b[49m\u001b[43m,\u001b[49m\n\u001b[1;32m    909\u001b[0m \u001b[43m        \u001b[49m\u001b[43mdecode_times\u001b[49m\u001b[38;5;241;43m=\u001b[39;49m\u001b[43mdecode_times\u001b[49m\u001b[43m,\u001b[49m\n\u001b[1;32m    910\u001b[0m \u001b[43m        \u001b[49m\u001b[43mconcat_characters\u001b[49m\u001b[38;5;241;43m=\u001b[39;49m\u001b[43mconcat_characters\u001b[49m\u001b[43m,\u001b[49m\n\u001b[1;32m    911\u001b[0m \u001b[43m        \u001b[49m\u001b[43mdecode_coords\u001b[49m\u001b[38;5;241;43m=\u001b[39;49m\u001b[43mdecode_coords\u001b[49m\u001b[43m,\u001b[49m\n\u001b[1;32m    912\u001b[0m \u001b[43m        \u001b[49m\u001b[43mdrop_variables\u001b[49m\u001b[38;5;241;43m=\u001b[39;49m\u001b[43mdrop_variables\u001b[49m\u001b[43m,\u001b[49m\n\u001b[1;32m    913\u001b[0m \u001b[43m        \u001b[49m\u001b[43muse_cftime\u001b[49m\u001b[38;5;241;43m=\u001b[39;49m\u001b[43muse_cftime\u001b[49m\u001b[43m,\u001b[49m\n\u001b[1;32m    914\u001b[0m \u001b[43m        \u001b[49m\u001b[43mdecode_timedelta\u001b[49m\u001b[38;5;241;43m=\u001b[39;49m\u001b[43mdecode_timedelta\u001b[49m\u001b[43m,\u001b[49m\n\u001b[1;32m    915\u001b[0m \u001b[43m    \u001b[49m\u001b[43m)\u001b[49m\n\u001b[1;32m    916\u001b[0m \u001b[38;5;28;01mreturn\u001b[39;00m ds\n",
      "File \u001b[0;32m/home/conda/users/7ddf35e337ddfed956a0ec903c3015c06254b535442f4718696ce64c95dc0fd1-20230330-211442-876935-168-pangeo/lib/python3.10/site-packages/xarray/backends/store.py:32\u001b[0m, in \u001b[0;36mStoreBackendEntrypoint.open_dataset\u001b[0;34m(self, store, mask_and_scale, decode_times, concat_characters, decode_coords, drop_variables, use_cftime, decode_timedelta)\u001b[0m\n\u001b[1;32m     20\u001b[0m \u001b[38;5;28;01mdef\u001b[39;00m \u001b[38;5;21mopen_dataset\u001b[39m(\n\u001b[1;32m     21\u001b[0m     \u001b[38;5;28mself\u001b[39m,\n\u001b[1;32m     22\u001b[0m     store,\n\u001b[0;32m   (...)\u001b[0m\n\u001b[1;32m     30\u001b[0m     decode_timedelta\u001b[38;5;241m=\u001b[39m\u001b[38;5;28;01mNone\u001b[39;00m,\n\u001b[1;32m     31\u001b[0m ):\n\u001b[0;32m---> 32\u001b[0m     \u001b[38;5;28mvars\u001b[39m, attrs \u001b[38;5;241m=\u001b[39m \u001b[43mstore\u001b[49m\u001b[38;5;241;43m.\u001b[39;49m\u001b[43mload\u001b[49m\u001b[43m(\u001b[49m\u001b[43m)\u001b[49m\n\u001b[1;32m     33\u001b[0m     encoding \u001b[38;5;241m=\u001b[39m store\u001b[38;5;241m.\u001b[39mget_encoding()\n\u001b[1;32m     35\u001b[0m     \u001b[38;5;28mvars\u001b[39m, attrs, coord_names \u001b[38;5;241m=\u001b[39m conventions\u001b[38;5;241m.\u001b[39mdecode_cf_variables(\n\u001b[1;32m     36\u001b[0m         \u001b[38;5;28mvars\u001b[39m,\n\u001b[1;32m     37\u001b[0m         attrs,\n\u001b[0;32m   (...)\u001b[0m\n\u001b[1;32m     44\u001b[0m         decode_timedelta\u001b[38;5;241m=\u001b[39mdecode_timedelta,\n\u001b[1;32m     45\u001b[0m     )\n",
      "File \u001b[0;32m/home/conda/users/7ddf35e337ddfed956a0ec903c3015c06254b535442f4718696ce64c95dc0fd1-20230330-211442-876935-168-pangeo/lib/python3.10/site-packages/xarray/backends/common.py:129\u001b[0m, in \u001b[0;36mAbstractDataStore.load\u001b[0;34m(self)\u001b[0m\n\u001b[1;32m    107\u001b[0m \u001b[38;5;28;01mdef\u001b[39;00m \u001b[38;5;21mload\u001b[39m(\u001b[38;5;28mself\u001b[39m):\n\u001b[1;32m    108\u001b[0m \u001b[38;5;250m    \u001b[39m\u001b[38;5;124;03m\"\"\"\u001b[39;00m\n\u001b[1;32m    109\u001b[0m \u001b[38;5;124;03m    This loads the variables and attributes simultaneously.\u001b[39;00m\n\u001b[1;32m    110\u001b[0m \u001b[38;5;124;03m    A centralized loading function makes it easier to create\u001b[39;00m\n\u001b[0;32m   (...)\u001b[0m\n\u001b[1;32m    126\u001b[0m \u001b[38;5;124;03m    are requested, so care should be taken to make sure its fast.\u001b[39;00m\n\u001b[1;32m    127\u001b[0m \u001b[38;5;124;03m    \"\"\"\u001b[39;00m\n\u001b[1;32m    128\u001b[0m     variables \u001b[38;5;241m=\u001b[39m FrozenDict(\n\u001b[0;32m--> 129\u001b[0m         (_decode_variable_name(k), v) \u001b[38;5;28;01mfor\u001b[39;00m k, v \u001b[38;5;129;01min\u001b[39;00m \u001b[38;5;28;43mself\u001b[39;49m\u001b[38;5;241;43m.\u001b[39;49m\u001b[43mget_variables\u001b[49m\u001b[43m(\u001b[49m\u001b[43m)\u001b[49m\u001b[38;5;241m.\u001b[39mitems()\n\u001b[1;32m    130\u001b[0m     )\n\u001b[1;32m    131\u001b[0m     attributes \u001b[38;5;241m=\u001b[39m FrozenDict(\u001b[38;5;28mself\u001b[39m\u001b[38;5;241m.\u001b[39mget_attrs())\n\u001b[1;32m    132\u001b[0m     \u001b[38;5;28;01mreturn\u001b[39;00m variables, attributes\n",
      "File \u001b[0;32m/home/conda/users/7ddf35e337ddfed956a0ec903c3015c06254b535442f4718696ce64c95dc0fd1-20230330-211442-876935-168-pangeo/lib/python3.10/site-packages/xarray/backends/zarr.py:490\u001b[0m, in \u001b[0;36mZarrStore.get_variables\u001b[0;34m(self)\u001b[0m\n\u001b[1;32m    489\u001b[0m \u001b[38;5;28;01mdef\u001b[39;00m \u001b[38;5;21mget_variables\u001b[39m(\u001b[38;5;28mself\u001b[39m):\n\u001b[0;32m--> 490\u001b[0m     \u001b[38;5;28;01mreturn\u001b[39;00m \u001b[43mFrozenDict\u001b[49m\u001b[43m(\u001b[49m\n\u001b[1;32m    491\u001b[0m \u001b[43m        \u001b[49m\u001b[43m(\u001b[49m\u001b[43mk\u001b[49m\u001b[43m,\u001b[49m\u001b[43m \u001b[49m\u001b[38;5;28;43mself\u001b[39;49m\u001b[38;5;241;43m.\u001b[39;49m\u001b[43mopen_store_variable\u001b[49m\u001b[43m(\u001b[49m\u001b[43mk\u001b[49m\u001b[43m,\u001b[49m\u001b[43m \u001b[49m\u001b[43mv\u001b[49m\u001b[43m)\u001b[49m\u001b[43m)\u001b[49m\u001b[43m \u001b[49m\u001b[38;5;28;43;01mfor\u001b[39;49;00m\u001b[43m \u001b[49m\u001b[43mk\u001b[49m\u001b[43m,\u001b[49m\u001b[43m \u001b[49m\u001b[43mv\u001b[49m\u001b[43m \u001b[49m\u001b[38;5;129;43;01min\u001b[39;49;00m\u001b[43m \u001b[49m\u001b[38;5;28;43mself\u001b[39;49m\u001b[38;5;241;43m.\u001b[39;49m\u001b[43mzarr_group\u001b[49m\u001b[38;5;241;43m.\u001b[39;49m\u001b[43marrays\u001b[49m\u001b[43m(\u001b[49m\u001b[43m)\u001b[49m\n\u001b[1;32m    492\u001b[0m \u001b[43m    \u001b[49m\u001b[43m)\u001b[49m\n",
      "File \u001b[0;32m/home/conda/users/7ddf35e337ddfed956a0ec903c3015c06254b535442f4718696ce64c95dc0fd1-20230330-211442-876935-168-pangeo/lib/python3.10/site-packages/xarray/core/utils.py:471\u001b[0m, in \u001b[0;36mFrozenDict\u001b[0;34m(*args, **kwargs)\u001b[0m\n\u001b[1;32m    470\u001b[0m \u001b[38;5;28;01mdef\u001b[39;00m \u001b[38;5;21mFrozenDict\u001b[39m(\u001b[38;5;241m*\u001b[39margs, \u001b[38;5;241m*\u001b[39m\u001b[38;5;241m*\u001b[39mkwargs) \u001b[38;5;241m-\u001b[39m\u001b[38;5;241m>\u001b[39m Frozen:\n\u001b[0;32m--> 471\u001b[0m     \u001b[38;5;28;01mreturn\u001b[39;00m Frozen(\u001b[38;5;28;43mdict\u001b[39;49m\u001b[43m(\u001b[49m\u001b[38;5;241;43m*\u001b[39;49m\u001b[43margs\u001b[49m\u001b[43m,\u001b[49m\u001b[43m \u001b[49m\u001b[38;5;241;43m*\u001b[39;49m\u001b[38;5;241;43m*\u001b[39;49m\u001b[43mkwargs\u001b[49m\u001b[43m)\u001b[49m)\n",
      "File \u001b[0;32m/home/conda/users/7ddf35e337ddfed956a0ec903c3015c06254b535442f4718696ce64c95dc0fd1-20230330-211442-876935-168-pangeo/lib/python3.10/site-packages/xarray/backends/zarr.py:490\u001b[0m, in \u001b[0;36m<genexpr>\u001b[0;34m(.0)\u001b[0m\n\u001b[1;32m    489\u001b[0m \u001b[38;5;28;01mdef\u001b[39;00m \u001b[38;5;21mget_variables\u001b[39m(\u001b[38;5;28mself\u001b[39m):\n\u001b[0;32m--> 490\u001b[0m     \u001b[38;5;28;01mreturn\u001b[39;00m FrozenDict(\n\u001b[1;32m    491\u001b[0m         (k, \u001b[38;5;28mself\u001b[39m\u001b[38;5;241m.\u001b[39mopen_store_variable(k, v)) \u001b[38;5;28;01mfor\u001b[39;00m k, v \u001b[38;5;129;01min\u001b[39;00m \u001b[38;5;28mself\u001b[39m\u001b[38;5;241m.\u001b[39mzarr_group\u001b[38;5;241m.\u001b[39marrays()\n\u001b[1;32m    492\u001b[0m     )\n",
      "File \u001b[0;32m/home/conda/users/7ddf35e337ddfed956a0ec903c3015c06254b535442f4718696ce64c95dc0fd1-20230330-211442-876935-168-pangeo/lib/python3.10/site-packages/zarr/hierarchy.py:629\u001b[0m, in \u001b[0;36mGroup._array_iter\u001b[0;34m(self, keys_only, method, recurse)\u001b[0m\n\u001b[1;32m    627\u001b[0m \u001b[38;5;28;01mdef\u001b[39;00m \u001b[38;5;21m_array_iter\u001b[39m(\u001b[38;5;28mself\u001b[39m, keys_only, method, recurse):\n\u001b[1;32m    628\u001b[0m     \u001b[38;5;28;01mif\u001b[39;00m \u001b[38;5;28mself\u001b[39m\u001b[38;5;241m.\u001b[39m_version \u001b[38;5;241m==\u001b[39m \u001b[38;5;241m2\u001b[39m:\n\u001b[0;32m--> 629\u001b[0m         \u001b[38;5;28;01mfor\u001b[39;00m key \u001b[38;5;129;01min\u001b[39;00m \u001b[38;5;28msorted\u001b[39m(\u001b[43mlistdir\u001b[49m\u001b[43m(\u001b[49m\u001b[38;5;28;43mself\u001b[39;49m\u001b[38;5;241;43m.\u001b[39;49m\u001b[43m_store\u001b[49m\u001b[43m,\u001b[49m\u001b[43m \u001b[49m\u001b[38;5;28;43mself\u001b[39;49m\u001b[38;5;241;43m.\u001b[39;49m\u001b[43m_path\u001b[49m\u001b[43m)\u001b[49m):\n\u001b[1;32m    630\u001b[0m             path \u001b[38;5;241m=\u001b[39m \u001b[38;5;28mself\u001b[39m\u001b[38;5;241m.\u001b[39m_key_prefix \u001b[38;5;241m+\u001b[39m key\n\u001b[1;32m    631\u001b[0m             \u001b[38;5;28;01mif\u001b[39;00m contains_array(\u001b[38;5;28mself\u001b[39m\u001b[38;5;241m.\u001b[39m_store, path):\n",
      "File \u001b[0;32m/home/conda/users/7ddf35e337ddfed956a0ec903c3015c06254b535442f4718696ce64c95dc0fd1-20230330-211442-876935-168-pangeo/lib/python3.10/site-packages/zarr/storage.py:212\u001b[0m, in \u001b[0;36mlistdir\u001b[0;34m(store, path)\u001b[0m\n\u001b[1;32m    209\u001b[0m path \u001b[38;5;241m=\u001b[39m normalize_storage_path(path)\n\u001b[1;32m    210\u001b[0m \u001b[38;5;28;01mif\u001b[39;00m \u001b[38;5;28mhasattr\u001b[39m(store, \u001b[38;5;124m'\u001b[39m\u001b[38;5;124mlistdir\u001b[39m\u001b[38;5;124m'\u001b[39m):\n\u001b[1;32m    211\u001b[0m     \u001b[38;5;66;03m# pass through\u001b[39;00m\n\u001b[0;32m--> 212\u001b[0m     \u001b[38;5;28;01mreturn\u001b[39;00m \u001b[43mstore\u001b[49m\u001b[38;5;241;43m.\u001b[39;49m\u001b[43mlistdir\u001b[49m\u001b[43m(\u001b[49m\u001b[43mpath\u001b[49m\u001b[43m)\u001b[49m  \u001b[38;5;66;03m# type: ignore\u001b[39;00m\n\u001b[1;32m    213\u001b[0m \u001b[38;5;28;01melse\u001b[39;00m:\n\u001b[1;32m    214\u001b[0m     \u001b[38;5;66;03m# slow version, iterate through all keys\u001b[39;00m\n\u001b[1;32m    215\u001b[0m     warnings\u001b[38;5;241m.\u001b[39mwarn(\n\u001b[1;32m    216\u001b[0m         \u001b[38;5;124mf\u001b[39m\u001b[38;5;124m\"\u001b[39m\u001b[38;5;124mStore \u001b[39m\u001b[38;5;132;01m{\u001b[39;00mstore\u001b[38;5;132;01m}\u001b[39;00m\u001b[38;5;124m has no `listdir` method. From zarr 2.9 onwards \u001b[39m\u001b[38;5;124m\"\u001b[39m\n\u001b[1;32m    217\u001b[0m         \u001b[38;5;124m\"\u001b[39m\u001b[38;5;124mmay want to inherit from `Store`.\u001b[39m\u001b[38;5;124m\"\u001b[39m,\n\u001b[1;32m    218\u001b[0m         stacklevel\u001b[38;5;241m=\u001b[39m\u001b[38;5;241m2\u001b[39m,\n\u001b[1;32m    219\u001b[0m     )\n",
      "File \u001b[0;32m/home/conda/users/7ddf35e337ddfed956a0ec903c3015c06254b535442f4718696ce64c95dc0fd1-20230330-211442-876935-168-pangeo/lib/python3.10/site-packages/zarr/_storage/store.py:144\u001b[0m, in \u001b[0;36mStore.listdir\u001b[0;34m(self, path)\u001b[0m\n\u001b[1;32m    142\u001b[0m \u001b[38;5;28;01mdef\u001b[39;00m \u001b[38;5;21mlistdir\u001b[39m(\u001b[38;5;28mself\u001b[39m, path: \u001b[38;5;28mstr\u001b[39m \u001b[38;5;241m=\u001b[39m \u001b[38;5;124m\"\u001b[39m\u001b[38;5;124m\"\u001b[39m) \u001b[38;5;241m-\u001b[39m\u001b[38;5;241m>\u001b[39m List[\u001b[38;5;28mstr\u001b[39m]:\n\u001b[1;32m    143\u001b[0m     path \u001b[38;5;241m=\u001b[39m normalize_storage_path(path)\n\u001b[0;32m--> 144\u001b[0m     \u001b[38;5;28;01mreturn\u001b[39;00m \u001b[43m_listdir_from_keys\u001b[49m\u001b[43m(\u001b[49m\u001b[38;5;28;43mself\u001b[39;49m\u001b[43m,\u001b[49m\u001b[43m \u001b[49m\u001b[43mpath\u001b[49m\u001b[43m)\u001b[49m\n",
      "File \u001b[0;32m/home/conda/users/7ddf35e337ddfed956a0ec903c3015c06254b535442f4718696ce64c95dc0fd1-20230330-211442-876935-168-pangeo/lib/python3.10/site-packages/zarr/_storage/store.py:413\u001b[0m, in \u001b[0;36m_listdir_from_keys\u001b[0;34m(store, path)\u001b[0m\n\u001b[1;32m    411\u001b[0m prefix \u001b[38;5;241m=\u001b[39m _path_to_prefix(path)\n\u001b[1;32m    412\u001b[0m children \u001b[38;5;241m=\u001b[39m \u001b[38;5;28mset\u001b[39m()\n\u001b[0;32m--> 413\u001b[0m \u001b[38;5;28;01mfor\u001b[39;00m key \u001b[38;5;129;01min\u001b[39;00m \u001b[38;5;28;43mlist\u001b[39;49m\u001b[43m(\u001b[49m\u001b[43mstore\u001b[49m\u001b[38;5;241;43m.\u001b[39;49m\u001b[43mkeys\u001b[49m\u001b[43m(\u001b[49m\u001b[43m)\u001b[49m\u001b[43m)\u001b[49m:\n\u001b[1;32m    414\u001b[0m     \u001b[38;5;28;01mif\u001b[39;00m key\u001b[38;5;241m.\u001b[39mstartswith(prefix) \u001b[38;5;129;01mand\u001b[39;00m \u001b[38;5;28mlen\u001b[39m(key) \u001b[38;5;241m>\u001b[39m \u001b[38;5;28mlen\u001b[39m(prefix):\n\u001b[1;32m    415\u001b[0m         suffix \u001b[38;5;241m=\u001b[39m key[\u001b[38;5;28mlen\u001b[39m(prefix):]\n",
      "File \u001b[0;32m/home/conda/users/7ddf35e337ddfed956a0ec903c3015c06254b535442f4718696ce64c95dc0fd1-20230330-211442-876935-168-pangeo/lib/python3.10/_collections_abc.py:866\u001b[0m, in \u001b[0;36mMappingView.__len__\u001b[0;34m(self)\u001b[0m\n\u001b[1;32m    865\u001b[0m \u001b[38;5;28;01mdef\u001b[39;00m \u001b[38;5;21m__len__\u001b[39m(\u001b[38;5;28mself\u001b[39m):\n\u001b[0;32m--> 866\u001b[0m     \u001b[38;5;28;01mreturn\u001b[39;00m \u001b[38;5;28;43mlen\u001b[39;49m\u001b[43m(\u001b[49m\u001b[38;5;28;43mself\u001b[39;49m\u001b[38;5;241;43m.\u001b[39;49m\u001b[43m_mapping\u001b[49m\u001b[43m)\u001b[49m\n",
      "File \u001b[0;32m/home/conda/users/7ddf35e337ddfed956a0ec903c3015c06254b535442f4718696ce64c95dc0fd1-20230330-211442-876935-168-pangeo/lib/python3.10/site-packages/zarr/storage.py:742\u001b[0m, in \u001b[0;36mKVStore.__len__\u001b[0;34m(self)\u001b[0m\n\u001b[1;32m    741\u001b[0m \u001b[38;5;28;01mdef\u001b[39;00m \u001b[38;5;21m__len__\u001b[39m(\u001b[38;5;28mself\u001b[39m):\n\u001b[0;32m--> 742\u001b[0m     \u001b[38;5;28;01mreturn\u001b[39;00m \u001b[38;5;28;43mlen\u001b[39;49m\u001b[43m(\u001b[49m\u001b[38;5;28;43mself\u001b[39;49m\u001b[38;5;241;43m.\u001b[39;49m\u001b[43m_mutable_mapping\u001b[49m\u001b[43m)\u001b[49m\n",
      "File \u001b[0;32m/home/conda/users/7ddf35e337ddfed956a0ec903c3015c06254b535442f4718696ce64c95dc0fd1-20230330-211442-876935-168-pangeo/lib/python3.10/site-packages/fsspec/mapping.py:169\u001b[0m, in \u001b[0;36mFSMap.__len__\u001b[0;34m(self)\u001b[0m\n\u001b[1;32m    168\u001b[0m \u001b[38;5;28;01mdef\u001b[39;00m \u001b[38;5;21m__len__\u001b[39m(\u001b[38;5;28mself\u001b[39m):\n\u001b[0;32m--> 169\u001b[0m     \u001b[38;5;28;01mreturn\u001b[39;00m \u001b[38;5;28mlen\u001b[39m(\u001b[38;5;28;43mself\u001b[39;49m\u001b[38;5;241;43m.\u001b[39;49m\u001b[43mfs\u001b[49m\u001b[38;5;241;43m.\u001b[39;49m\u001b[43mfind\u001b[49m\u001b[43m(\u001b[49m\u001b[38;5;28;43mself\u001b[39;49m\u001b[38;5;241;43m.\u001b[39;49m\u001b[43mroot\u001b[49m\u001b[43m)\u001b[49m)\n",
      "File \u001b[0;32m/home/conda/users/7ddf35e337ddfed956a0ec903c3015c06254b535442f4718696ce64c95dc0fd1-20230330-211442-876935-168-pangeo/lib/python3.10/site-packages/fsspec/implementations/reference.py:786\u001b[0m, in \u001b[0;36mReferenceFileSystem.find\u001b[0;34m(self, path, maxdepth, withdirs, detail, **kwargs)\u001b[0m\n\u001b[1;32m    784\u001b[0m     r \u001b[38;5;241m=\u001b[39m \u001b[38;5;28msorted\u001b[39m(k \u001b[38;5;28;01mfor\u001b[39;00m k \u001b[38;5;129;01min\u001b[39;00m \u001b[38;5;28mself\u001b[39m\u001b[38;5;241m.\u001b[39mreferences \u001b[38;5;28;01mif\u001b[39;00m k\u001b[38;5;241m.\u001b[39mstartswith(path))\n\u001b[1;32m    785\u001b[0m \u001b[38;5;28;01melse\u001b[39;00m:\n\u001b[0;32m--> 786\u001b[0m     r \u001b[38;5;241m=\u001b[39m \u001b[38;5;28;43msorted\u001b[39;49m\u001b[43m(\u001b[49m\u001b[38;5;28;43mself\u001b[39;49m\u001b[38;5;241;43m.\u001b[39;49m\u001b[43mreferences\u001b[49m\u001b[43m)\u001b[49m\n\u001b[1;32m    787\u001b[0m \u001b[38;5;28;01mif\u001b[39;00m detail:\n\u001b[1;32m    788\u001b[0m     \u001b[38;5;28;01mif\u001b[39;00m \u001b[38;5;129;01mnot\u001b[39;00m \u001b[38;5;28mself\u001b[39m\u001b[38;5;241m.\u001b[39mdircache:\n",
      "File \u001b[0;32m/home/conda/users/7ddf35e337ddfed956a0ec903c3015c06254b535442f4718696ce64c95dc0fd1-20230330-211442-876935-168-pangeo/lib/python3.10/site-packages/fsspec/implementations/reference.py:264\u001b[0m, in \u001b[0;36mLazyReferenceMapper.__iter__\u001b[0;34m(self)\u001b[0m\n\u001b[1;32m    262\u001b[0m inds \u001b[38;5;241m=\u001b[39m \u001b[38;5;28mself\u001b[39m\u001b[38;5;241m.\u001b[39mnp\u001b[38;5;241m.\u001b[39mndindex(\u001b[38;5;241m*\u001b[39mchunk_sizes)\n\u001b[1;32m    263\u001b[0m \u001b[38;5;28;01mfor\u001b[39;00m ind \u001b[38;5;129;01min\u001b[39;00m inds:\n\u001b[0;32m--> 264\u001b[0m     \u001b[38;5;28;01myield\u001b[39;00m field \u001b[38;5;241m+\u001b[39m \u001b[38;5;124m\"\u001b[39m\u001b[38;5;124m/\u001b[39m\u001b[38;5;124m\"\u001b[39m \u001b[38;5;241m+\u001b[39m \u001b[38;5;124m\"\u001b[39m\u001b[38;5;124m.\u001b[39m\u001b[38;5;124m\"\u001b[39m\u001b[38;5;241m.\u001b[39mjoin([\u001b[38;5;28mstr\u001b[39m(c) \u001b[38;5;28;01mfor\u001b[39;00m c \u001b[38;5;129;01min\u001b[39;00m ind])\n",
      "\u001b[0;31mKeyboardInterrupt\u001b[0m: "
     ]
    }
   ],
   "source": [
    "ds = xr.open_dataset(m, engine='zarr', chunks={}, \n",
    "                     backend_kwargs=dict(consolidated=False))"
   ]
  },
  {
   "cell_type": "code",
   "execution_count": null,
   "id": "44f9fa14-658e-479f-a485-ac87d775f8a8",
   "metadata": {},
   "outputs": [],
   "source": [
    "s3_lazy_refs = 's3://esip-qhub-public/nwm/LDAS-1k/lazyrefs'"
   ]
  },
  {
   "cell_type": "code",
   "execution_count": null,
   "id": "391492ac-706e-471f-8b94-8b9f7c35b65b",
   "metadata": {},
   "outputs": [],
   "source": [
    "%%time\n",
    "fs = fsspec.implementations.reference.DFReferenceFileSystem(s3_lazy_refs, lazy=True, target_options={\"anon\": True},\n",
    "                                                            remote_protocol=\"s3\", remote_options={\"anon\": True})\n",
    "m = fs.get_mapper(\"\")\n",
    "\n",
    "ds = xr.open_dataset(m, engine=\"zarr\", chunks={'time':1, 'y':3840, 'x':4608}, \n",
    "                     backend_kwargs=dict(consolidated=False))"
   ]
  },
  {
   "cell_type": "code",
   "execution_count": null,
   "id": "5c1df56b-d237-498b-8f2c-8272471dd24c",
   "metadata": {},
   "outputs": [],
   "source": [
    "ds"
   ]
  },
  {
   "cell_type": "markdown",
   "id": "aaf145c1-e623-4b0e-9a2b-d77e0fcc505b",
   "metadata": {},
   "source": [
    "#### Select high-priority vars only"
   ]
  },
  {
   "cell_type": "code",
   "execution_count": null,
   "id": "3b973279-f918-4f88-b9c5-290a47d5a76f",
   "metadata": {},
   "outputs": [],
   "source": [
    "ds = ds[['ACCET', 'SNEQV', 'FSNO']]"
   ]
  },
  {
   "cell_type": "code",
   "execution_count": null,
   "id": "f22e4b63-fb26-4284-8fe2-a1bf36e2e0ac",
   "metadata": {},
   "outputs": [],
   "source": [
    "ds"
   ]
  },
  {
   "cell_type": "code",
   "execution_count": null,
   "id": "d34eca30-bf72-4a8a-8dfd-66f235c191da",
   "metadata": {},
   "outputs": [],
   "source": [
    "ds['ACCET'].isel(time=slice(0,72))"
   ]
  },
  {
   "cell_type": "code",
   "execution_count": null,
   "id": "15d511f0-f82e-4250-930c-145feff08d27",
   "metadata": {},
   "outputs": [],
   "source": [
    "ds.attrs"
   ]
  },
  {
   "cell_type": "markdown",
   "id": "e2c8e98a-1569-46a0-b85c-2e4d20916b4d",
   "metadata": {},
   "source": [
    "#### set up zarr stores for temporary and final zarr stores on S3"
   ]
  },
  {
   "cell_type": "code",
   "execution_count": null,
   "id": "86da688a-14bc-486b-87c0-c1d11a28de3f",
   "metadata": {},
   "outputs": [],
   "source": [
    "fs_write = fsspec.filesystem('s3', anon=False, skip_instance_cache=True)"
   ]
  },
  {
   "cell_type": "code",
   "execution_count": null,
   "id": "a53b62f7-0df4-44b0-a03d-5dee35f2a00e",
   "metadata": {},
   "outputs": [],
   "source": [
    "temp_name = 'esip-qhub/testing/usgs/nwm1km.tmp'\n",
    "target_name = 'esip-qhub/testing/usgs/nwm1km.zarr'"
   ]
  },
  {
   "cell_type": "code",
   "execution_count": null,
   "id": "7c043b20-3e43-435e-9e45-7023b178698a",
   "metadata": {},
   "outputs": [],
   "source": [
    "try:\n",
    "    fs_write.rm(temp_name, recursive=True)\n",
    "except:\n",
    "    pass\n",
    "try:\n",
    "    fs_write.rm(target_name, recursive=True)\n",
    "except:\n",
    "    pass"
   ]
  },
  {
   "cell_type": "code",
   "execution_count": null,
   "id": "94ffca87-dbb5-4a35-9dab-89270429cd9c",
   "metadata": {},
   "outputs": [],
   "source": [
    "temp_store = fs_write.get_mapper(temp_name)\n",
    "target_store = fs_write.get_mapper(target_name)"
   ]
  },
  {
   "cell_type": "code",
   "execution_count": null,
   "id": "a9989b3c-f8ea-4ec0-8781-1505842e0835",
   "metadata": {},
   "outputs": [],
   "source": [
    "a = int(len(ds.time)/(72))\n",
    "a"
   ]
  },
  {
   "cell_type": "code",
   "execution_count": null,
   "id": "5a945faa-d66c-44d1-a6ae-099e9ed53adf",
   "metadata": {},
   "outputs": [],
   "source": [
    "b = (len(ds.x) * len(ds.y))/((96*2)*(132*2))\n",
    "b"
   ]
  },
  {
   "cell_type": "code",
   "execution_count": null,
   "id": "9cdfac4b-65f3-4f5c-8319-962d527cd32f",
   "metadata": {},
   "outputs": [],
   "source": [
    "a/b"
   ]
  },
  {
   "cell_type": "code",
   "execution_count": null,
   "id": "507f792b-e6b4-46e7-82c0-c2bd55cfde94",
   "metadata": {},
   "outputs": [],
   "source": [
    "#client.close()"
   ]
  },
  {
   "cell_type": "code",
   "execution_count": null,
   "id": "76f39719-735f-4a8a-96ab-f50018a92441",
   "metadata": {},
   "outputs": [],
   "source": [
    "#from dask.distributed import Client"
   ]
  },
  {
   "cell_type": "code",
   "execution_count": null,
   "id": "3dee03ed-3fd8-446c-899f-4ac197ac08f2",
   "metadata": {},
   "outputs": [],
   "source": [
    "#client = Client(threads_per_worker=1)"
   ]
  },
  {
   "cell_type": "code",
   "execution_count": null,
   "id": "ecba9a21-ed99-4b31-97b5-55259c5b3b71",
   "metadata": {},
   "outputs": [],
   "source": [
    "#client.amm.start()"
   ]
  },
  {
   "cell_type": "code",
   "execution_count": null,
   "id": "26f90202-40e2-410c-b05c-f4a312b9364e",
   "metadata": {},
   "outputs": [],
   "source": [
    "import zarr.storage\n",
    "from numcodecs import Zstd\n",
    "zarr.storage.default_compressor = Zstd(level=9)"
   ]
  },
  {
   "cell_type": "code",
   "execution_count": null,
   "id": "152c8ba0-63f9-42bf-81f8-e18969c9ed06",
   "metadata": {},
   "outputs": [],
   "source": [
    "(192 * 264 * 72)*4/1e6"
   ]
  },
  {
   "cell_type": "markdown",
   "id": "5ee745ca-7648-48b1-abc3-6c10992e1fbc",
   "metadata": {},
   "source": [
    "#### Rechunk!"
   ]
  },
  {
   "cell_type": "code",
   "execution_count": null,
   "id": "36b812ea-01ae-461f-b8b3-1eb7b3ea9711",
   "metadata": {},
   "outputs": [],
   "source": [
    "rechunked = rechunk(ds.isel(time=slice(0,72)), target_chunks={'y':96*2, 'x':132*2, 'time':72},\n",
    "                    target_store=target_store, temp_store=temp_store, max_mem='2.8GiB')"
   ]
  },
  {
   "cell_type": "code",
   "execution_count": null,
   "id": "e86843c4-4f9e-4ec3-b1b6-f9969d22b3a4",
   "metadata": {},
   "outputs": [],
   "source": [
    "%%time\n",
    "rechunked.execute(retries=10)"
   ]
  },
  {
   "cell_type": "raw",
   "id": "aecea580-d6b2-46d3-84be-ed24354def9d",
   "metadata": {},
   "source": [
    "def trim_memory() -> int:\n",
    "    libc = ctypes.CDLL('libc.so.6')\n",
    "    return libc.malloc_trim(0)"
   ]
  },
  {
   "cell_type": "raw",
   "id": "9d0e008c-62ed-4e5e-8084-69758ee93f03",
   "metadata": {},
   "source": [
    "client.run(trim_memory)"
   ]
  },
  {
   "cell_type": "code",
   "execution_count": null,
   "id": "3a211f08-4c4f-46fa-8a9f-5231ec17d183",
   "metadata": {},
   "outputs": [],
   "source": [
    "zarr.convenience.consolidate_metadata(target_store)"
   ]
  },
  {
   "cell_type": "markdown",
   "id": "8ba15656-c501-4aae-b327-c6cb0d24dce7",
   "metadata": {},
   "source": [
    "#### Explore the rechunked dataset"
   ]
  },
  {
   "cell_type": "code",
   "execution_count": null,
   "id": "15466b5d-13f3-4d45-a09d-136e6ddcb907",
   "metadata": {},
   "outputs": [],
   "source": [
    "ds2 = xr.open_dataset(target_store, engine='zarr', chunks={})"
   ]
  },
  {
   "cell_type": "code",
   "execution_count": null,
   "id": "91c1a356-5ad9-4f72-ae3e-85bb29f0f20b",
   "metadata": {},
   "outputs": [],
   "source": [
    "ds2"
   ]
  },
  {
   "cell_type": "code",
   "execution_count": null,
   "id": "cee33374-49d0-4607-a812-c9ed98eefb48",
   "metadata": {},
   "outputs": [],
   "source": [
    "ds2.ACCET"
   ]
  },
  {
   "cell_type": "code",
   "execution_count": null,
   "id": "91926a5d-0e86-4b57-b5ef-53b9c3b51c03",
   "metadata": {},
   "outputs": [],
   "source": [
    "import hvplot.xarray\n"
   ]
  },
  {
   "cell_type": "code",
   "execution_count": null,
   "id": "c23b9064-8f13-432d-85b4-cbe8ec5384a3",
   "metadata": {},
   "outputs": [],
   "source": [
    "ds2.ACCET[:,2000,2000].hvplot(x='time')"
   ]
  }
 ],
 "metadata": {
  "kernelspec": {
   "display_name": "users-users-pangeo",
   "language": "python",
   "name": "conda-env-users-users-pangeo-py"
  },
  "language_info": {
   "codemirror_mode": {
    "name": "ipython",
    "version": 3
   },
   "file_extension": ".py",
   "mimetype": "text/x-python",
   "name": "python",
   "nbconvert_exporter": "python",
   "pygments_lexer": "ipython3",
   "version": "3.10.10"
  },
  "widgets": {
   "application/vnd.jupyter.widget-state+json": {
    "state": {},
    "version_major": 2,
    "version_minor": 0
   }
  }
 },
 "nbformat": 4,
 "nbformat_minor": 5
}
