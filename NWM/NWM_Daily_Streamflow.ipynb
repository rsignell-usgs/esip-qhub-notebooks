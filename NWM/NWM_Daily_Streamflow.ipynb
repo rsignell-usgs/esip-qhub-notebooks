{
 "cells": [
  {
   "cell_type": "code",
   "execution_count": null,
   "id": "6fa1b9a0",
   "metadata": {},
   "outputs": [],
   "source": [
    "import fsspec\n",
    "import dask.distributed"
   ]
  },
  {
   "cell_type": "code",
   "execution_count": null,
   "id": "87437614",
   "metadata": {},
   "outputs": [],
   "source": [
    "import xarray as xr\n",
    "import fsspec"
   ]
  },
  {
   "cell_type": "code",
   "execution_count": null,
   "id": "d36dc94a",
   "metadata": {},
   "outputs": [],
   "source": [
    "import os\n",
    "import sys\n",
    "sys.path.append(os.path.join(os.environ['HOME'],'shared','users','lib'))\n",
    "import ebdpy as ebd\n",
    "\n",
    "ebd.set_credentials(profile='esip-qhub')\n",
    "\n",
    "profile = 'esip-qhub'\n",
    "region = 'us-west-2'\n",
    "endpoint = f's3.{region}.amazonaws.com'\n",
    "ebd.set_credentials(profile=profile, region=region, endpoint=endpoint)\n",
    "worker_max = 10\n",
    "client,cluster = ebd.start_dask_cluster(profile=profile,worker_max=worker_max, \n",
    "                                      region=region, use_existing_cluster=True,\n",
    "                                      adaptive_scaling=False, wait_for_cluster=False, \n",
    "                                      environment='pangeo', worker_profile='Pangeo Worker', \n",
    "                                      propagate_env=True)"
   ]
  },
  {
   "cell_type": "code",
   "execution_count": null,
   "id": "38d71243",
   "metadata": {},
   "outputs": [],
   "source": [
    "url = 's3://noaa-nwm-retro-v2-zarr-pds'"
   ]
  },
  {
   "cell_type": "code",
   "execution_count": null,
   "id": "61c8fe68",
   "metadata": {},
   "outputs": [],
   "source": [
    "fs1 = fsspec.filesystem('s3', anon=True)\n",
    "fs2 = fsspec.filesystem('s3', anon=False)"
   ]
  },
  {
   "cell_type": "code",
   "execution_count": null,
   "id": "3fb4f92b",
   "metadata": {},
   "outputs": [],
   "source": [
    "%%time\n",
    "ds = xr.open_zarr(fs1.get_mapper(url), consolidated=True)"
   ]
  },
  {
   "cell_type": "code",
   "execution_count": null,
   "id": "01454a73",
   "metadata": {},
   "outputs": [],
   "source": [
    "cluster"
   ]
  },
  {
   "cell_type": "code",
   "execution_count": null,
   "id": "4e4b8d45",
   "metadata": {},
   "outputs": [],
   "source": [
    "ds2= ds.sel(time=('2017-01'))"
   ]
  },
  {
   "cell_type": "code",
   "execution_count": null,
   "id": "a222a38a",
   "metadata": {},
   "outputs": [],
   "source": [
    "672/24"
   ]
  },
  {
   "cell_type": "code",
   "execution_count": null,
   "id": "8c74dcd0",
   "metadata": {},
   "outputs": [],
   "source": [
    "daily_mean = ds2.resample(time='D').mean()"
   ]
  },
  {
   "cell_type": "code",
   "execution_count": null,
   "id": "d76d2f44",
   "metadata": {},
   "outputs": [],
   "source": [
    "ds2.feature_id"
   ]
  },
  {
   "cell_type": "code",
   "execution_count": null,
   "id": "c33e6632",
   "metadata": {},
   "outputs": [],
   "source": [
    "store_url = f's3://esip-qhub/usgs/rsignell/zarr/zarr_test2'\n",
    "store = fs2.get_mapper(store_url)"
   ]
  },
  {
   "cell_type": "code",
   "execution_count": null,
   "id": "f03b73eb",
   "metadata": {},
   "outputs": [],
   "source": [
    "daily_mean = daily_mean.chunk({'time':31})"
   ]
  },
  {
   "cell_type": "code",
   "execution_count": null,
   "id": "2f5f3373",
   "metadata": {},
   "outputs": [],
   "source": [
    "daily_mean.streamflow"
   ]
  },
  {
   "cell_type": "code",
   "execution_count": null,
   "id": "9b0e3b0c",
   "metadata": {},
   "outputs": [],
   "source": [
    "def delete_s3(url):\n",
    "    fs1 = fsspec.open(url, anon=False).fs\n",
    "    if fs1.exists(url):\n",
    "        fs1.rm(url, recursive=True)"
   ]
  },
  {
   "cell_type": "code",
   "execution_count": null,
   "id": "d5121c24",
   "metadata": {},
   "outputs": [],
   "source": [
    "delete_s3(store_url)"
   ]
  },
  {
   "cell_type": "code",
   "execution_count": null,
   "id": "3540c155",
   "metadata": {},
   "outputs": [],
   "source": [
    "%%time\n",
    "a = daily_mean.to_zarr(store, compute=False, mode='w', consolidated=True)"
   ]
  },
  {
   "cell_type": "code",
   "execution_count": null,
   "id": "7711133c",
   "metadata": {},
   "outputs": [],
   "source": [
    "daily_mean"
   ]
  },
  {
   "cell_type": "code",
   "execution_count": null,
   "id": "87449d29",
   "metadata": {},
   "outputs": [],
   "source": [
    "len(dict(a.dask))"
   ]
  },
  {
   "cell_type": "code",
   "execution_count": null,
   "id": "941cf117",
   "metadata": {},
   "outputs": [],
   "source": [
    "30*12*50000"
   ]
  },
  {
   "cell_type": "code",
   "execution_count": null,
   "id": "ea6521e0",
   "metadata": {},
   "outputs": [],
   "source": [
    "%%time\n",
    "dask.compute(a, retries=10)"
   ]
  },
  {
   "cell_type": "code",
   "execution_count": null,
   "id": "659b134b",
   "metadata": {},
   "outputs": [],
   "source": [
    "fs2.ls(f'{store_url}/streamflow')"
   ]
  },
  {
   "cell_type": "code",
   "execution_count": null,
   "id": "a21751ec",
   "metadata": {},
   "outputs": [],
   "source": [
    "ds3 = xr.open_zarr(store)"
   ]
  },
  {
   "cell_type": "code",
   "execution_count": null,
   "id": "05b2a2e2",
   "metadata": {},
   "outputs": [],
   "source": []
  }
 ],
 "metadata": {
  "kernelspec": {
   "display_name": "Python [conda env:pangeo]",
   "language": "python",
   "name": "conda-env-pangeo-py"
  },
  "language_info": {
   "codemirror_mode": {
    "name": "ipython",
    "version": 3
   },
   "file_extension": ".py",
   "mimetype": "text/x-python",
   "name": "python",
   "nbconvert_exporter": "python",
   "pygments_lexer": "ipython3",
   "version": "3.9.6"
  }
 },
 "nbformat": 4,
 "nbformat_minor": 5
}
