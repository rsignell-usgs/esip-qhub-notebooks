{
 "cells": [
  {
   "cell_type": "code",
   "execution_count": null,
   "id": "a367cbc1-616e-4319-b460-bff0f2d8faa0",
   "metadata": {},
   "outputs": [],
   "source": [
    "import fsspec"
   ]
  },
  {
   "cell_type": "code",
   "execution_count": null,
   "id": "f26e4607-e34a-4d80-b77e-71e66c001d83",
   "metadata": {},
   "outputs": [],
   "source": [
    "fs = fsspec.filesystem('s3', anon=True)"
   ]
  },
  {
   "cell_type": "code",
   "execution_count": null,
   "id": "1e554b9c-8dcf-428c-8224-9bb0b7aba4d3",
   "metadata": {},
   "outputs": [],
   "source": [
    "fs.download('s3://shanemill-test/nwm-zarr/.zmetadata','foo.dat')"
   ]
  },
  {
   "cell_type": "code",
   "execution_count": null,
   "id": "d846d565-6b41-40df-9cf6-751a03e098aa",
   "metadata": {},
   "outputs": [],
   "source": []
  }
 ],
 "metadata": {
  "kernelspec": {
   "display_name": "Python [conda env:pangeo]",
   "language": "python",
   "name": "conda-env-pangeo-py"
  },
  "language_info": {
   "codemirror_mode": {
    "name": "ipython",
    "version": 3
   },
   "file_extension": ".py",
   "mimetype": "text/x-python",
   "name": "python",
   "nbconvert_exporter": "python",
   "pygments_lexer": "ipython3",
   "version": "3.9.7"
  }
 },
 "nbformat": 4,
 "nbformat_minor": 5
}
