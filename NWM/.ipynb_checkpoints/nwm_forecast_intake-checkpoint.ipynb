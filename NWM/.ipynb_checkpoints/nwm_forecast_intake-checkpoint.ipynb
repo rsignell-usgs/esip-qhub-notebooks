{
 "cells": [
  {
   "cell_type": "markdown",
   "id": "d741d57e-03a1-4c35-b6af-6273992cdb03",
   "metadata": {},
   "source": [
    "# Read NWM Forecast \"Best Time Series\" \n",
    "Here we use Fsspec ReferenceFileSystem to read data from 300 NWM Forecast netcdf files on AWS Public Dataset as a single virtual dataset. We used tau=0 for each forecast in the past + the latest forecast to construct the best time series virtual dataset.  The only new file we created was the JSON file that points to the original NetCDF files. We read that JSON with the Zarr library."
   ]
  },
  {
   "cell_type": "code",
   "execution_count": null,
   "id": "4ce86ca9-07e5-4924-9ee6-b7ad0e476fca",
   "metadata": {},
   "outputs": [],
   "source": [
    "import fsspec\n",
    "import xarray as xr\n",
    "import json\n",
    "import intake\n",
    "import hvplot.xarray"
   ]
  },
  {
   "cell_type": "code",
   "execution_count": null,
   "id": "c017d125-3c26-465e-a869-3e79830a782a",
   "metadata": {},
   "outputs": [],
   "source": [
    "from dask.distributed import Client"
   ]
  },
  {
   "cell_type": "code",
   "execution_count": null,
   "id": "a6397ddf-5942-4f6d-ac9d-74a20eec17f4",
   "metadata": {},
   "outputs": [],
   "source": [
    "client = Client()"
   ]
  },
  {
   "cell_type": "code",
   "execution_count": null,
   "id": "50c54daa-b203-44f4-94dc-33ce5afcb914",
   "metadata": {},
   "outputs": [],
   "source": [
    "client"
   ]
  },
  {
   "cell_type": "markdown",
   "id": "b7d4f007-e1ea-41fe-b6a7-83dcb2633bbb",
   "metadata": {},
   "source": [
    "#### Load the consolidated JSON for the last 300 time steps using an Intake Catalog"
   ]
  },
  {
   "cell_type": "code",
   "execution_count": null,
   "id": "c656c93e-9c10-4676-a8c0-3e7f24306f70",
   "metadata": {},
   "outputs": [],
   "source": [
    "%%time\n",
    "cat = intake.open_catalog('s3://esip-qhub/usgs/nwm_intake.yml', \n",
    "                          storage_options={\"requester_pays\": True})"
   ]
  },
  {
   "cell_type": "code",
   "execution_count": null,
   "id": "d0de6dd8-9ec8-476e-bbee-59e433ec0017",
   "metadata": {},
   "outputs": [],
   "source": [
    "list(cat)"
   ]
  },
  {
   "cell_type": "code",
   "execution_count": null,
   "id": "7cfe6ea8-66ef-42fb-bd1b-b51d531fc18d",
   "metadata": {},
   "outputs": [],
   "source": [
    "ds = cat['nwm-forecast'].to_dask()\n",
    "\n",
    "ds.streamflow"
   ]
  },
  {
   "cell_type": "markdown",
   "id": "0070e92e-33dd-4c30-b4ce-38c200b0c900",
   "metadata": {},
   "source": [
    "#### Find the site with the largest streamflow:"
   ]
  },
  {
   "cell_type": "code",
   "execution_count": null,
   "id": "252dcf78-5f20-4017-945c-4926d6daf703",
   "metadata": {},
   "outputs": [],
   "source": [
    "%%time\n",
    "imax = ds['streamflow'].sel(time='2021-07-22 00:00:00', method='nearest').argmax().values"
   ]
  },
  {
   "cell_type": "markdown",
   "id": "aeba4e79-b078-45c5-a606-d9b9d851c60b",
   "metadata": {},
   "source": [
    "#### Plot the \"best time series\" from that location:"
   ]
  },
  {
   "cell_type": "code",
   "execution_count": null,
   "id": "3ff33dd3-92e4-4061-ad0d-fdfc1e3d6a5f",
   "metadata": {},
   "outputs": [],
   "source": [
    "%%time\n",
    "ds.streamflow[:,imax].hvplot(x='time', grid=True)"
   ]
  },
  {
   "cell_type": "markdown",
   "id": "241f37df-c7df-4434-baf9-c7c5c151ba9f",
   "metadata": {},
   "source": [
    "#### What does this magical intake catalog look like?"
   ]
  },
  {
   "cell_type": "code",
   "execution_count": null,
   "id": "ad81be73-97af-4bb5-a7a4-e47ff6513bd3",
   "metadata": {},
   "outputs": [],
   "source": [
    "print(cat.text)"
   ]
  },
  {
   "cell_type": "code",
   "execution_count": null,
   "id": "4a1f432b-99a6-4b0a-aaca-e77991107a1e",
   "metadata": {},
   "outputs": [],
   "source": [
    "cat['nwm-forecast']"
   ]
  },
  {
   "cell_type": "code",
   "execution_count": null,
   "id": "2ff4f769-e030-444e-a489-96075f7d478c",
   "metadata": {},
   "outputs": [],
   "source": []
  }
 ],
 "metadata": {
  "kernelspec": {
   "display_name": "Python [conda env:pangeo]",
   "language": "python",
   "name": "conda-env-pangeo-py"
  },
  "language_info": {
   "codemirror_mode": {
    "name": "ipython",
    "version": 3
   },
   "file_extension": ".py",
   "mimetype": "text/x-python",
   "name": "python",
   "nbconvert_exporter": "python",
   "pygments_lexer": "ipython3",
   "version": "3.8.10"
  }
 },
 "nbformat": 4,
 "nbformat_minor": 5
}
