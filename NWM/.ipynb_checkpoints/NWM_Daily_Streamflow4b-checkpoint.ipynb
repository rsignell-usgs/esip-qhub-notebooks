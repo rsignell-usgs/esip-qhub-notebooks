{
 "cells": [
  {
   "cell_type": "markdown",
   "id": "a0d0869e",
   "metadata": {},
   "source": [
    "# Read hourly data, write daily data"
   ]
  },
  {
   "cell_type": "code",
   "execution_count": null,
   "id": "3b1d9685",
   "metadata": {},
   "outputs": [],
   "source": [
    "import xarray as xr\n",
    "import dask.distributed\n",
    "from dask.distributed import Client\n",
    "import fsspec"
   ]
  },
  {
   "cell_type": "code",
   "execution_count": null,
   "id": "462828b6",
   "metadata": {},
   "outputs": [],
   "source": [
    "client = Client()"
   ]
  },
  {
   "cell_type": "code",
   "execution_count": null,
   "id": "cfdcad73",
   "metadata": {},
   "outputs": [],
   "source": [
    "client"
   ]
  },
  {
   "cell_type": "code",
   "execution_count": null,
   "id": "0396346d",
   "metadata": {},
   "outputs": [],
   "source": [
    "fs1 = fsspec.filesystem('s3', anon=True)\n",
    "read_url = 's3://noaa-nwm-retro-v2-zarr-pds'\n",
    "read_mapper = fs1.get_mapper(read_url)"
   ]
  },
  {
   "cell_type": "code",
   "execution_count": null,
   "id": "6b13e8c7",
   "metadata": {},
   "outputs": [],
   "source": [
    "fs2 = fsspec.filesystem('s3', anon=False, profile='esip-qhub')\n",
    "write_url = 's3://esip-qhub/usgs/rsignell/zarr/zarr_daily'\n",
    "write_mapper = fs2.get_mapper(write_url)"
   ]
  },
  {
   "cell_type": "code",
   "execution_count": null,
   "id": "792d6f61",
   "metadata": {},
   "outputs": [],
   "source": [
    "%%time\n",
    "ds = xr.open_zarr(read_mapper, consolidated=True)"
   ]
  },
  {
   "cell_type": "code",
   "execution_count": null,
   "id": "f0bb020c",
   "metadata": {},
   "outputs": [],
   "source": [
    "ds.streamflow"
   ]
  },
  {
   "cell_type": "code",
   "execution_count": null,
   "id": "141da800",
   "metadata": {},
   "outputs": [],
   "source": [
    "ds2 = ds.sel(time=slice('1993-01-01','1993-01-28'))"
   ]
  },
  {
   "cell_type": "code",
   "execution_count": null,
   "id": "1f48a517",
   "metadata": {},
   "outputs": [],
   "source": [
    "ds2.streamflow"
   ]
  },
  {
   "cell_type": "code",
   "execution_count": null,
   "id": "acfa550a",
   "metadata": {},
   "outputs": [],
   "source": [
    "daily_mean = ds2.resample(time='D').mean()"
   ]
  },
  {
   "cell_type": "code",
   "execution_count": null,
   "id": "b0f0c8f5",
   "metadata": {},
   "outputs": [],
   "source": [
    "daily_mean.streamflow"
   ]
  },
  {
   "cell_type": "code",
   "execution_count": null,
   "id": "7dc6cf1d",
   "metadata": {},
   "outputs": [],
   "source": [
    "daily_mean.attrs = ds.attrs"
   ]
  },
  {
   "cell_type": "code",
   "execution_count": null,
   "id": "ae6af76e",
   "metadata": {},
   "outputs": [],
   "source": [
    "daily_mean = daily_mean.chunk({'time':672})"
   ]
  },
  {
   "cell_type": "code",
   "execution_count": null,
   "id": "3441a29a",
   "metadata": {},
   "outputs": [],
   "source": [
    "daily_mean.streamflow"
   ]
  },
  {
   "cell_type": "code",
   "execution_count": null,
   "id": "e52360b0",
   "metadata": {},
   "outputs": [],
   "source": [
    "def delete_s3(url):\n",
    "    fs1 = fsspec.open(url, anon=False).fs\n",
    "    if fs1.exists(url):\n",
    "        fs1.rm(url, recursive=True)"
   ]
  },
  {
   "cell_type": "code",
   "execution_count": null,
   "id": "0c8dc156",
   "metadata": {},
   "outputs": [],
   "source": [
    "delete_s3(write_url)"
   ]
  },
  {
   "cell_type": "code",
   "execution_count": null,
   "id": "6980b687",
   "metadata": {},
   "outputs": [],
   "source": [
    "%%time\n",
    "a = daily_mean[['streamflow']].to_zarr(write_mapper, compute=False, mode='w', consolidated=True)"
   ]
  },
  {
   "cell_type": "code",
   "execution_count": null,
   "id": "e204ca8d",
   "metadata": {},
   "outputs": [],
   "source": [
    "len(a.dask)"
   ]
  },
  {
   "cell_type": "code",
   "execution_count": null,
   "id": "c3ffb7d7",
   "metadata": {},
   "outputs": [],
   "source": [
    "%%time\n",
    "from dask.distributed import performance_report\n",
    "\n",
    "with performance_report(filename=\"dask-report.html\"):\n",
    "    dask.compute(a, retries=10)"
   ]
  }
 ],
 "metadata": {
  "kernelspec": {
   "display_name": "Python [conda env:pangeo]",
   "language": "python",
   "name": "conda-env-pangeo-py"
  },
  "language_info": {
   "codemirror_mode": {
    "name": "ipython",
    "version": 3
   },
   "file_extension": ".py",
   "mimetype": "text/x-python",
   "name": "python",
   "nbconvert_exporter": "python",
   "pygments_lexer": "ipython3",
   "version": "3.8.8"
  }
 },
 "nbformat": 4,
 "nbformat_minor": 5
}
