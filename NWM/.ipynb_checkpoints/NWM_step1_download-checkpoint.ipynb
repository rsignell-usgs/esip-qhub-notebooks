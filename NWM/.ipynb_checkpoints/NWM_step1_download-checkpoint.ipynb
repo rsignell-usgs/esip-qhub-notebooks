{
 "cells": [
  {
   "cell_type": "code",
   "execution_count": null,
   "metadata": {},
   "outputs": [],
   "source": [
    "import fsspec\n",
    "import pandas as pd\n",
    "import dask"
   ]
  },
  {
   "cell_type": "markdown",
   "metadata": {},
   "source": [
    "Explore NWM files on AWS"
   ]
  },
  {
   "cell_type": "code",
   "execution_count": null,
   "metadata": {},
   "outputs": [],
   "source": [
    "fs = fsspec.filesystem('s3')"
   ]
  },
  {
   "cell_type": "code",
   "execution_count": null,
   "metadata": {},
   "outputs": [],
   "source": [
    "fs.glob('s3://noaa-nwm-retro-v2.0-pds/full_physics/2005/2005010101*')"
   ]
  },
  {
   "cell_type": "code",
   "execution_count": null,
   "metadata": {},
   "outputs": [],
   "source": [
    "flist = fs.ls('s3://noaa-nwm-retro-v2.0-pds/full_physics/')\n",
    "print(flist[0])\n",
    "print(flist[-1])"
   ]
  },
  {
   "cell_type": "code",
   "execution_count": null,
   "metadata": {},
   "outputs": [],
   "source": [
    "dates = pd.date_range(start='2018-04-01 00:00',end='2018-04-02 23:00', freq='1h')"
   ]
  },
  {
   "cell_type": "code",
   "execution_count": null,
   "metadata": {},
   "outputs": [],
   "source": [
    "@dask.delayed\n",
    "def nwm_download(date):\n",
    "    yyyymmddhh = date.strftime('%Y%m%d%H')\n",
    "    yyyy = date.strftime('%Y')\n",
    "    cfile = f's3://noaa-nwm-retro-v2.0-pds/full_physics/{yyyy}/{yyymmddhh}.LAKEOUT_DOMAIN1.comp'\n",
    "    fname = f'{ldir}/{yyyy}/{yyymmddhh}.LAKEOUT_DOMAIN1.comp'\n",
    "    if not os.path.exists(fname):\n",
    "        fs.download(cfile,fname)"
   ]
  },
  {
   "cell_type": "code",
   "execution_count": null,
   "metadata": {},
   "outputs": [],
   "source": [
    "%time\n",
    "tasks = [hrrr_grib2nc(date) for date in dates]"
   ]
  }
 ],
 "metadata": {
  "kernelspec": {
   "display_name": "Python [conda env:pangeo]",
   "language": "python",
   "name": "conda-env-pangeo-py"
  },
  "language_info": {
   "codemirror_mode": {
    "name": "ipython",
    "version": 3
   },
   "file_extension": ".py",
   "mimetype": "text/x-python",
   "name": "python",
   "nbconvert_exporter": "python",
   "pygments_lexer": "ipython3",
   "version": "3.8.6"
  }
 },
 "nbformat": 4,
 "nbformat_minor": 4
}
