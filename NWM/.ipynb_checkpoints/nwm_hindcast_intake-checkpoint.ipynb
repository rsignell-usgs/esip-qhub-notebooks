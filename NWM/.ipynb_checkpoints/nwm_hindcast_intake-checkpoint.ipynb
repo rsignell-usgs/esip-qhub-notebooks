{
 "cells": [
  {
   "cell_type": "markdown",
   "id": "d741d57e-03a1-4c35-b6af-6273992cdb03",
   "metadata": {},
   "source": [
    "# Explore the National Water Model Reanalysis v2.1 \n",
    "Explore the NWM Reanalysis (1979-2020) NetCDF files (all 367,439 of them) on AWS as a single xarray dataset! \n",
    "The only new file we created was a JSON file that points to data chunks in the original NetCDF files that is then read with the [fsspec](https://filesystem-spec.readthedocs.io/en/latest/) and [zarr](https://zarr.readthedocs.io/en/stable/) packages. \n",
    "\n",
    "See this [blog post](https://medium.com/pangeo/cloud-performant-netcdf4-hdf5-with-zarr-fsspec-and-intake-3d3a3e7cb935) for how this works. \n",
    "\n",
    "**Important note on performance**: The data in the original NetCDF files is chunked as the entire spatial domain and a single time step.  Thus reading a time series will be very slow -- to extract a time series at a single location for the entire time period will require reading and uncompressing 8TB of data!   But extraction of a few days or weeks of data will be relatively fast. \n"
   ]
  },
  {
   "cell_type": "code",
   "execution_count": null,
   "id": "4ce86ca9-07e5-4924-9ee6-b7ad0e476fca",
   "metadata": {},
   "outputs": [],
   "source": [
    "import intake"
   ]
  },
  {
   "cell_type": "markdown",
   "id": "b7d4f007-e1ea-41fe-b6a7-83dcb2633bbb",
   "metadata": {},
   "source": [
    "#### Use Intake to load the consolidated NWM dataset\n",
    "The Intake catalog, the consolidated JSON file it accesses, and the NetCDF files the JSON file references are all on public S3 buckets that do not require an AWS account, so no credentials are required!"
   ]
  },
  {
   "cell_type": "code",
   "execution_count": null,
   "id": "93395642-f5dc-4a67-86be-ae6cfa469e5c",
   "metadata": {},
   "outputs": [],
   "source": [
    "%%time\n",
    "cat = intake.open_catalog('s3://esip-qhub-public/noaa/nwm/nwm_catalog.yml')"
   ]
  },
  {
   "cell_type": "code",
   "execution_count": null,
   "id": "eacef894-4311-45cc-8d9c-2f4d5e8d8f86",
   "metadata": {},
   "outputs": [],
   "source": [
    "list(cat)"
   ]
  },
  {
   "cell_type": "code",
   "execution_count": null,
   "id": "f7a38c5e-2a08-420d-aacd-455050968f6f",
   "metadata": {},
   "outputs": [],
   "source": [
    "%%time\n",
    "ds = cat['nwm-reanalysis'].to_dask()"
   ]
  },
  {
   "cell_type": "code",
   "execution_count": null,
   "id": "c656c93e-9c10-4676-a8c0-3e7f24306f70",
   "metadata": {},
   "outputs": [],
   "source": [
    "ds"
   ]
  },
  {
   "cell_type": "code",
   "execution_count": null,
   "id": "e196d737-9c7c-48c3-a5f0-44e390375426",
   "metadata": {},
   "outputs": [],
   "source": [
    "ds.streamflow.nbytes/1e12 # How many terabytes is a single variable"
   ]
  },
  {
   "cell_type": "markdown",
   "id": "fa498305-a6ad-419d-a2dc-a9584eb4510c",
   "metadata": {},
   "source": [
    "#### Read and plot streamflow for a specific time \n",
    "The local National Weather Service office in Houston observed all-time record daily rainfall accumulations on both August 26 and 27, measured at 14.4 in (370 mm) and 16.08 in (408 mm) respectively"
   ]
  },
  {
   "cell_type": "code",
   "execution_count": null,
   "id": "8b4117e1-7b6b-40bd-aa5c-1530828dd257",
   "metadata": {},
   "outputs": [],
   "source": [
    "import hvplot.pandas\n",
    "import geoviews as gv\n",
    "from holoviews.operation.datashader import rasterize\n",
    "import cartopy.crs as ccrs\n",
    "import numpy as np\n",
    "import pandas as pd"
   ]
  },
  {
   "cell_type": "code",
   "execution_count": null,
   "id": "d0de6dd8-9ec8-476e-bbee-59e433ec0017",
   "metadata": {},
   "outputs": [],
   "source": [
    "ds1 = ds.sel(time='2017-08-27 18:00:00', method='nearest')"
   ]
  },
  {
   "cell_type": "code",
   "execution_count": null,
   "id": "d1b32143-bfa5-4803-922a-baf937840904",
   "metadata": {},
   "outputs": [],
   "source": [
    "var = 'streamflow'"
   ]
  },
  {
   "cell_type": "code",
   "execution_count": null,
   "id": "ad8edc51-f843-4c5a-8207-d6d2e24676f0",
   "metadata": {},
   "outputs": [],
   "source": [
    "df = ds1[var].to_pandas().to_frame()"
   ]
  },
  {
   "cell_type": "code",
   "execution_count": null,
   "id": "301888d3-a29d-4cf9-839c-a31ecdd88759",
   "metadata": {},
   "outputs": [],
   "source": [
    "date_title = pd.to_datetime(ds1.time.values).strftime('%Y-%m-%d %H:%M:%S')\n",
    "date_title = f'{var}: {date_title}'\n",
    "date_title"
   ]
  },
  {
   "cell_type": "code",
   "execution_count": null,
   "id": "2ff4f769-e030-444e-a489-96075f7d478c",
   "metadata": {},
   "outputs": [],
   "source": [
    "df = df.assign(latitude=ds.latitude)\n",
    "df = df.assign(longitude=ds.longitude)\n",
    "df.rename(columns={0: var}, inplace=True)"
   ]
  },
  {
   "cell_type": "code",
   "execution_count": null,
   "id": "fe8b09e6-dcab-4063-9778-67f6c1c2e938",
   "metadata": {},
   "outputs": [],
   "source": [
    "p = df.hvplot.points(x='longitude', y='latitude', geo=True,\n",
    "                     c=var, colorbar=True, size=14, label=date_title)\n",
    "g = rasterize(p, aggregator='mean', x_sampling=0.02, \n",
    "                y_sampling=0.02, width=500).opts(tools=['hover'], \n",
    "                aspect='equal', logz=True, cmap='viridis', clim=(1e-2, np.nan))\n",
    "g * gv.tile_sources.OSM"
   ]
  }
 ],
 "metadata": {
  "kernelspec": {
   "display_name": "Python [conda env:pangeo]",
   "language": "python",
   "name": "conda-env-pangeo-py"
  },
  "language_info": {
   "codemirror_mode": {
    "name": "ipython",
    "version": 3
   },
   "file_extension": ".py",
   "mimetype": "text/x-python",
   "name": "python",
   "nbconvert_exporter": "python",
   "pygments_lexer": "ipython3",
   "version": "3.8.10"
  }
 },
 "nbformat": 4,
 "nbformat_minor": 5
}
