{
 "cells": [
  {
   "cell_type": "markdown",
   "id": "d741d57e-03a1-4c35-b6af-6273992cdb03",
   "metadata": {},
   "source": [
    "# Explore the National Water Model Reanalysis v2.1 \n",
    "Explore the NWM Reanalysis (1979-2020) NetCDF files (all 367,439 of them) on AWS as a single xarray dataset! \n",
    "The only new file we created was a JSON file that points to data chunks in the original NetCDF files that is then read with the [fsspec](https://filesystem-spec.readthedocs.io/en/latest/) and [zarr](https://zarr.readthedocs.io/en/stable/) packages. \n",
    "\n",
    "See this [blog post](https://medium.com/pangeo/cloud-performant-netcdf4-hdf5-with-zarr-fsspec-and-intake-3d3a3e7cb935) for how this works. \n",
    "\n",
    "**Important note on performance**: The data in the original NetCDF files is chunked as the entire spatial domain and a single time step.  Thus reading a time series will be very slow -- to extract a time series at a single location for the entire time period will require reading and uncompressing 8TB of data!   But extraction of a few days or weeks of data will be relatively fast. \n"
   ]
  },
  {
   "cell_type": "code",
   "execution_count": null,
   "id": "4ce86ca9-07e5-4924-9ee6-b7ad0e476fca",
   "metadata": {},
   "outputs": [],
   "source": [
    "import intake"
   ]
  },
  {
   "cell_type": "markdown",
   "id": "b7d4f007-e1ea-41fe-b6a7-83dcb2633bbb",
   "metadata": {},
   "source": [
    "#### Use Intake to load the consolidated NWM dataset\n",
    "The Intake catalog, the consolidated JSON file it accesses, and the NetCDF files the JSON file references are all on public S3 buckets that do not require an AWS account, so no credentials are required!"
   ]
  },
  {
   "cell_type": "code",
   "execution_count": null,
   "id": "93395642-f5dc-4a67-86be-ae6cfa469e5c",
   "metadata": {},
   "outputs": [],
   "source": [
    "%%time\n",
    "cat = intake.open_catalog('s3://esip-qhub-public/noaa/nwm/nwm_catalog.yml')"
   ]
  },
  {
   "cell_type": "code",
   "execution_count": null,
   "id": "eacef894-4311-45cc-8d9c-2f4d5e8d8f86",
   "metadata": {},
   "outputs": [],
   "source": [
    "list(cat)"
   ]
  },
  {
   "cell_type": "code",
   "execution_count": null,
   "id": "f7a38c5e-2a08-420d-aacd-455050968f6f",
   "metadata": {},
   "outputs": [],
   "source": [
    "%%time\n",
    "ds = cat['nwm-reanalysis'].to_dask()"
   ]
  },
  {
   "cell_type": "code",
   "execution_count": null,
   "id": "c656c93e-9c10-4676-a8c0-3e7f24306f70",
   "metadata": {},
   "outputs": [],
   "source": [
    "ds"
   ]
  },
  {
   "cell_type": "code",
   "execution_count": null,
   "id": "ee8e110f-e479-4d0b-a1e7-ab26ee43f9a2",
   "metadata": {},
   "outputs": [],
   "source": [
    "ds.streamflow"
   ]
  },
  {
   "cell_type": "markdown",
   "id": "21a87172-06c6-4566-ad6c-dd16d0f892c4",
   "metadata": {},
   "source": [
    "#### Encoding for streamflow from consolidated dataset"
   ]
  },
  {
   "cell_type": "code",
   "execution_count": null,
   "id": "e8b2f2fd-83e6-4003-a177-5d92fa518d4d",
   "metadata": {},
   "outputs": [],
   "source": [
    "ds.streamflow.encoding"
   ]
  },
  {
   "cell_type": "markdown",
   "id": "63feb1dd-3cce-4d10-baf3-eef39665dfb2",
   "metadata": {},
   "source": [
    "#### Encoding for streamflow from single NetCDF file from S3"
   ]
  },
  {
   "cell_type": "code",
   "execution_count": null,
   "id": "94dbcce5-1dfe-4ce7-a7bc-2adadde2149a",
   "metadata": {},
   "outputs": [],
   "source": [
    "url = 's3://noaa-nwm-retrospective-2-1-pds/model_output/2020/202001011100.CHRTOUT_DOMAIN1.comp'"
   ]
  },
  {
   "cell_type": "code",
   "execution_count": null,
   "id": "f7e649d6-f4db-452d-a1bc-11ee19cfeaba",
   "metadata": {},
   "outputs": [],
   "source": [
    "import xarray as xr\n",
    "import fsspec"
   ]
  },
  {
   "cell_type": "code",
   "execution_count": null,
   "id": "462ec6aa-519a-435b-84ba-6d4e2cd4fd18",
   "metadata": {},
   "outputs": [],
   "source": [
    "fs = fsspec.filesystem('s3', anon=True)"
   ]
  },
  {
   "cell_type": "code",
   "execution_count": null,
   "id": "b2e7adcc-f5bd-4472-b768-a34f1e099794",
   "metadata": {},
   "outputs": [],
   "source": [
    "ds2 = xr.open_dataset(fs.open(url), drop_variables='reference_time', chunks={})"
   ]
  },
  {
   "cell_type": "code",
   "execution_count": null,
   "id": "bbe05d47-a01c-4451-9982-5288c4e84d30",
   "metadata": {},
   "outputs": [],
   "source": [
    "ds2.streamflow.encoding"
   ]
  },
  {
   "cell_type": "code",
   "execution_count": null,
   "id": "e8f1a977-b166-4194-a055-e614ee837e62",
   "metadata": {},
   "outputs": [],
   "source": [
    "ds.streamflow.encoding"
   ]
  }
 ],
 "metadata": {
  "kernelspec": {
   "display_name": "Python [conda env:pangeo]",
   "language": "python",
   "name": "conda-env-pangeo-py"
  },
  "language_info": {
   "codemirror_mode": {
    "name": "ipython",
    "version": 3
   },
   "file_extension": ".py",
   "mimetype": "text/x-python",
   "name": "python",
   "nbconvert_exporter": "python",
   "pygments_lexer": "ipython3",
   "version": "3.8.10"
  }
 },
 "nbformat": 4,
 "nbformat_minor": 5
}
