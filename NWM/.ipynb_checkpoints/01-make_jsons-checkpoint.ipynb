{
 "cells": [
  {
   "cell_type": "markdown",
   "id": "c7fa57fc-3b15-4ca8-86b2-1b040b449274",
   "metadata": {},
   "source": [
    "# Create JSONS with fsspec ReferenceMaker\n",
    "## 24 hours of GOES data\n",
    "Needed:\n",
    "- fsspec-reference-maker\n",
    "    - `pip install git+https://github.com/intake/fsspec-reference-maker`\n",
    "- adlfs >= 0.7.7\n",
    "    - `pip install --upgrade adlfs>=0.7.7`"
   ]
  },
  {
   "cell_type": "code",
   "execution_count": null,
   "id": "1c3eb616-aabd-46ca-9cb1-5461dcf88368",
   "metadata": {},
   "outputs": [],
   "source": [
    "from fsspec_reference_maker.hdf import SingleHdf5ToZarr \n",
    "from fsspec_reference_maker.combine import MultiZarrToZarr"
   ]
  },
  {
   "cell_type": "code",
   "execution_count": null,
   "id": "e42b812b-c024-4564-aeea-bdfe565cab02",
   "metadata": {},
   "outputs": [],
   "source": [
    "import xarray as xr\n",
    "import numpy as np\n",
    "import matplotlib.pyplot as plt\n",
    "import datetime as dt\n",
    "import zipfile\n",
    "import logging\n",
    "import fsspec\n",
    "import ujson\n",
    "from tqdm import tqdm\n",
    "from glob import glob\n",
    "import os\n",
    "\n",
    "#from azure.storage.blob import ContainerClient\n",
    "import tempfile\n",
    "\n",
    "import dask"
   ]
  },
  {
   "cell_type": "code",
   "execution_count": null,
   "id": "bce531fb-cad4-4255-bebd-6a7652dd5857",
   "metadata": {},
   "outputs": [],
   "source": [
    "from dask.distributed import Client\n",
    "client = Client()\n",
    "client"
   ]
  },
  {
   "cell_type": "markdown",
   "id": "32ca9d6b-4f95-45dc-9ae1-9194868c8db4",
   "metadata": {},
   "source": [
    "## Get urls"
   ]
  },
  {
   "cell_type": "code",
   "execution_count": null,
   "id": "fe77cd70-5226-4a4c-94dc-a2f306b4d1fb",
   "metadata": {},
   "outputs": [],
   "source": [
    "tempdir = os.path.join(tempfile.gettempdir(), 'goes')\n",
    "os.makedirs(tempdir, exist_ok=True)\n",
    "\n",
    "product = 'ABI-L2-MCMIPF'\n",
    "syear = '2020'; sday='002'; shour = '14'\n",
    "\n",
    "storage_account_url = 'https://goes.blob.core.windows.net'\n",
    "container_name = 'noaa-goes16'\n",
    "goes_blob_root = storage_account_url + '/' + container_name + '/'\n",
    "\n",
    "goes_container_client = ContainerClient(account_url=storage_account_url, container_name=container_name, credential=None)\n",
    "\n",
    "def download_url(url):\n",
    "    url_as_filename = url.replace('://', '_').replace('/','_')\n",
    "    destination_filename = os.path.join(tempdir, url_as_filename)\n",
    "    urllib.request.urlretrieve(url, destination_filename)\n",
    "    return destination_filename\n",
    "\n",
    "prefix = product + '/' + syear + '/' + sday + '/' \n",
    "print('Finding blobs matching prefex: {}'.format(prefix))\n",
    "generator = goes_container_client.list_blobs(name_starts_with=prefix)\n",
    "blobs = []\n",
    "for blob in generator:\n",
    "    blobs.append(blob.name)"
   ]
  },
  {
   "cell_type": "code",
   "execution_count": null,
   "id": "1c19cfbe-0517-4767-ad6d-550d33e2a777",
   "metadata": {},
   "outputs": [],
   "source": [
    "urllist = ['az://' + container_name + '/' + u  for u in blobs]"
   ]
  },
  {
   "cell_type": "code",
   "execution_count": null,
   "id": "3c85efe7-df3d-4581-8309-53e5ec72a689",
   "metadata": {},
   "outputs": [],
   "source": [
    "urllist[0]"
   ]
  },
  {
   "cell_type": "markdown",
   "id": "04306750-5da3-4895-93bd-42a71be1bbcd",
   "metadata": {},
   "source": [
    "### Generate json function"
   ]
  },
  {
   "cell_type": "code",
   "execution_count": null,
   "id": "0553f9b3-2d1c-48ed-9a7a-f57219ed7915",
   "metadata": {},
   "outputs": [],
   "source": [
    "def gen_json(u):\n",
    "    so = dict(\n",
    "        mode=\"rb\", anon=True, default_fill_cache=False, default_cache_type=\"none\"\n",
    "    )\n",
    "    with fsspec.open(u, **so, account_name='goeseuwest') as inf:\n",
    "        h5chunks = SingleHdf5ToZarr(inf, u, inline_threshold=300)\n",
    "        with open(f\"jsons/{u.split('/')[-1]}.json\", 'wb') as outf:\n",
    "            outf.write(ujson.dumps(h5chunks.translate()).encode())\n"
   ]
  },
  {
   "cell_type": "markdown",
   "id": "86b82d6e-bd49-47de-a41a-a0f93758a2dc",
   "metadata": {},
   "source": [
    "### Use dask to make jsons"
   ]
  },
  {
   "cell_type": "code",
   "execution_count": null,
   "id": "bf024fb6-0dfb-49e2-a5db-b599be984d39",
   "metadata": {},
   "outputs": [],
   "source": [
    "%%time\n",
    "dask.compute(*[dask.delayed(gen_json)(u) for u in urllist]);"
   ]
  },
  {
   "cell_type": "markdown",
   "id": "50fba0ae-ff4e-4acc-afc7-64db0402463b",
   "metadata": {},
   "source": [
    "## MultiZarr"
   ]
  },
  {
   "cell_type": "code",
   "execution_count": null,
   "id": "bd344555-4086-4f71-b95c-af4ef4e39923",
   "metadata": {},
   "outputs": [],
   "source": [
    "json_list = sorted(glob(\"jsons/*.json\"))"
   ]
  },
  {
   "cell_type": "code",
   "execution_count": null,
   "id": "516155b7-7102-44c3-af38-a7dc7f658549",
   "metadata": {},
   "outputs": [],
   "source": [
    "mzz = MultiZarrToZarr(\n",
    "    json_list,\n",
    "    remote_protocol='az',\n",
    "    remote_options={\n",
    "       'account_name' : 'goeseuwest'\n",
    "    },    \n",
    "    xarray_open_kwargs={\n",
    "        'decode_cf' : False,\n",
    "        'mask_and_scale' : False,\n",
    "        'decode_times' : False,\n",
    "        'use_cftime' : False,\n",
    "        'decode_coords' : False,\n",
    "    },\n",
    "    xarray_concat_args={\n",
    "        \"data_vars\": \"minimal\",\n",
    "        \"coords\": \"minimal\",\n",
    "        \"compat\": \"override\",\n",
    "        \"join\": \"override\",\n",
    "        \"combine_attrs\": \"override\",\n",
    "        \"dim\": \"t\"\n",
    "\n",
    "    }\n",
    ")"
   ]
  },
  {
   "cell_type": "code",
   "execution_count": null,
   "id": "796555e9-304b-4871-bdde-8d8bf98744b6",
   "metadata": {},
   "outputs": [],
   "source": [
    "%%time\n",
    "%%prun -D multizarr_profile \n",
    "mzz.translate('combined.json')"
   ]
  },
  {
   "cell_type": "code",
   "execution_count": null,
   "id": "3d18a5d0-c41e-4ec0-b590-447c1e76c289",
   "metadata": {},
   "outputs": [],
   "source": [
    "client.shutdown()"
   ]
  },
  {
   "cell_type": "markdown",
   "id": "82b11a47-46fd-436e-bf06-46e9a64c3bfc",
   "metadata": {},
   "source": [
    "***\n",
    "## Processing times:\n",
    "|Action | Time | Note |\n",
    "|-------:|:------| :---|\n",
    "|Make individual jsons | 26min 39s | 4 workers, faster times can be achieved with more dask workers |\n",
    "|Make combined json | 55min 6s | don't think this can be sped up w/ dask |\n",
    "|Make combined v2 | 45min 52s | Actual CPU time is 25min, might try `az://` instead of `abfs`|\n",
    "| __Total__ | __1h 21min__ | "
   ]
  },
  {
   "cell_type": "code",
   "execution_count": null,
   "id": "d58716fc-4ce9-4a55-ae7f-5e31593f362a",
   "metadata": {},
   "outputs": [],
   "source": []
  }
 ],
 "metadata": {
  "kernelspec": {
   "display_name": "Python [conda env:pangeo]",
   "language": "python",
   "name": "conda-env-pangeo-py"
  },
  "language_info": {
   "codemirror_mode": {
    "name": "ipython",
    "version": 3
   },
   "file_extension": ".py",
   "mimetype": "text/x-python",
   "name": "python",
   "nbconvert_exporter": "python",
   "pygments_lexer": "ipython3",
   "version": "3.8.10"
  }
 },
 "nbformat": 4,
 "nbformat_minor": 5
}
