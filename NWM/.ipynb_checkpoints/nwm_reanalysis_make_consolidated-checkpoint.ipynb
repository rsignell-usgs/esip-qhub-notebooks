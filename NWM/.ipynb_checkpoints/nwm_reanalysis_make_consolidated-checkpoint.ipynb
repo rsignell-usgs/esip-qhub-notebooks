{
 "cells": [
  {
   "cell_type": "markdown",
   "id": "5b86af71-052b-4081-844b-779db459068d",
   "metadata": {},
   "source": [
    "# NWM ReferenceFileSystem JSON \n",
    "Create ReferenceFileSystem JSON file for a collection of NWM NetCDF files on S3 "
   ]
  },
  {
   "cell_type": "code",
   "execution_count": null,
   "id": "2e2f07df-6375-4508-995b-3af23fc48d54",
   "metadata": {},
   "outputs": [],
   "source": [
    "# !pip install git+https://github.com/martindurant/fsspec-reference-maker@self_combine"
   ]
  },
  {
   "cell_type": "code",
   "execution_count": null,
   "id": "3b6ba617-9772-4ecf-aa7a-2be2a4bcfa1d",
   "metadata": {},
   "outputs": [],
   "source": [
    "import os\n",
    "import fsspec\n",
    "import ujson   # fast json\n",
    "from fsspec_reference_maker.combine import MultiZarrToZarr\n",
    "import xarray as xr\n",
    "import dask\n",
    "import hvplot.xarray"
   ]
  },
  {
   "cell_type": "code",
   "execution_count": null,
   "id": "e2a050f3-8ec4-4ed1-8295-771fe55f543e",
   "metadata": {},
   "outputs": [],
   "source": [
    "import fsspec_reference_maker"
   ]
  },
  {
   "cell_type": "code",
   "execution_count": null,
   "id": "f1af28be-7fab-4170-907d-47e058799ae3",
   "metadata": {},
   "outputs": [],
   "source": [
    "fsspec_reference_maker.__version__"
   ]
  },
  {
   "cell_type": "code",
   "execution_count": null,
   "id": "386bf413-1ccc-4ba1-80de-0174686eee59",
   "metadata": {},
   "outputs": [],
   "source": [
    "fs2 = fsspec.filesystem('s3', profile='esip-qhub')  "
   ]
  },
  {
   "cell_type": "code",
   "execution_count": null,
   "id": "cebc056b-f2a2-478e-b368-66f015b2d830",
   "metadata": {},
   "outputs": [],
   "source": [
    "json_dir = 's3://esip-qhub/usgs/nwm_reanalysis_v21/jsons/'"
   ]
  },
  {
   "cell_type": "code",
   "execution_count": null,
   "id": "8725254f-eea3-4191-a2d6-8fa495e3ee2e",
   "metadata": {},
   "outputs": [],
   "source": [
    "%%time\n",
    "flist2 = fs2.ls(json_dir)\n",
    "furls = sorted(['s3://'+f for f in flist2])\n",
    "furls[0]"
   ]
  },
  {
   "cell_type": "code",
   "execution_count": null,
   "id": "30a0b621-4cc7-4355-8401-239a819c970e",
   "metadata": {},
   "outputs": [],
   "source": [
    "len(furls)"
   ]
  },
  {
   "cell_type": "code",
   "execution_count": null,
   "id": "997b7190-8429-40da-8be0-8b2fe606e4af",
   "metadata": {},
   "outputs": [],
   "source": [
    "client"
   ]
  },
  {
   "cell_type": "code",
   "execution_count": null,
   "id": "e4002b8d-cf2a-40a9-b6f1-8ca39799e0e6",
   "metadata": {},
   "outputs": [],
   "source": [
    "def preprocess(ds):\n",
    "    return ds.set_coords(['latitude', 'longitude'])"
   ]
  },
  {
   "cell_type": "code",
   "execution_count": null,
   "id": "e75b873d-b95d-4b4f-b021-7225a3cd9358",
   "metadata": {},
   "outputs": [],
   "source": [
    "import tempfile"
   ]
  },
  {
   "cell_type": "code",
   "execution_count": null,
   "id": "a5c91ac5-f166-4079-a4ac-8fbaef2cb050",
   "metadata": {},
   "outputs": [],
   "source": [
    "def tasks(furls):\n",
    "    mzz = MultiZarrToZarr(\n",
    "    furls,\n",
    "    remote_protocol=\"s3\",\n",
    "    remote_options={'anon':True},\n",
    "    xarray_open_kwargs={\n",
    "        \"decode_cf\" : False,\n",
    "        \"mask_and_scale\" : False,\n",
    "        \"drop_variables\": [\"crs\", \"reference_time\"]\n",
    "    },\n",
    "    xarray_concat_args={\n",
    "        'dim' : 'time'\n",
    "    },\n",
    "    preprocess=preprocess\n",
    "    )\n",
    "\n",
    "    wd = tempfile.mkdtemp()\n",
    "    local_name = furls[0].split('/')[-1]\n",
    "    local_json = os.path.join(wd, local_name)\n",
    "    mzz.translate(local_json)\n",
    "    rpath = f's3://esip-qhub-public/noaa/nwm/{local_name}'\n",
    "    fs2.put_file(lpath=local_json, rpath=rpath)"
   ]
  },
  {
   "cell_type": "code",
   "execution_count": null,
   "id": "eb73edd7-fb6f-494e-a78c-aa776f65f04c",
   "metadata": {},
   "outputs": [],
   "source": []
  },
  {
   "cell_type": "code",
   "execution_count": null,
   "id": "a8cd0ef0-44c5-444d-993d-946959f2203f",
   "metadata": {},
   "outputs": [],
   "source": [
    "from dask.distributed import Client"
   ]
  },
  {
   "cell_type": "code",
   "execution_count": null,
   "id": "3222af0d-eee9-4c4e-8439-6d7178730208",
   "metadata": {},
   "outputs": [],
   "source": [
    "#%%time\n",
    "#_ = dask.compute(*[dask.delayed(tasks)(u) for u in [furls[:1000],furls[1000:2000]]], retries=10);"
   ]
  },
  {
   "cell_type": "code",
   "execution_count": null,
   "id": "6940f714-187f-4a0b-b844-0223887b3f3d",
   "metadata": {},
   "outputs": [],
   "source": [
    "%%time\n",
    "tasks(furls[:1000])"
   ]
  },
  {
   "cell_type": "code",
   "execution_count": null,
   "id": "a8807480-186c-484d-8ff8-a13ba6802a23",
   "metadata": {},
   "outputs": [],
   "source": [
    "#shut everything down\n",
    "#client.close();cluster.shutdown()"
   ]
  },
  {
   "cell_type": "markdown",
   "id": "91af2ec2-0073-4dc6-9c26-d60e897407cc",
   "metadata": {},
   "source": [
    "#### Stragegy to parallelize the MultiZarrToZarr is to:\n",
    "* Use Dask Bag with partitionis to create a collection of consolidated files each with 1000 or so JSONS\n",
    "* then consolidate the consolidated files"
   ]
  },
  {
   "cell_type": "code",
   "execution_count": null,
   "id": "7894d4b0-1d73-47cd-8247-d9f450c5dedc",
   "metadata": {},
   "outputs": [],
   "source": [
    "# test first 400 jsons with local client (only 4 workers, each with only 1.75GB)\n",
    "from dask.distributed import Client\n",
    "client = Client()\n",
    "b = db.from_sequence(furls[:400], npartitions=4)\n",
    "b1 = b.map_partitions(tasks)\n",
    "\n",
    "from dask.distributed import performance_report\n",
    "with performance_report(filename=\"dask-report-whole.html\"):\n",
    "    b1.compute(retries=10)"
   ]
  },
  {
   "cell_type": "code",
   "execution_count": null,
   "id": "d69114f7-5ca0-4aef-9c84-6e7237f44847",
   "metadata": {},
   "outputs": [],
   "source": [
    "#### Let's see the collection of consolidated JSONs we made"
   ]
  },
  {
   "cell_type": "code",
   "execution_count": null,
   "id": "4e2a9190-3d2b-4fdb-b8e6-ba10c07480b3",
   "metadata": {},
   "outputs": [],
   "source": [
    "f = fs2.glob('s3://esip-qhub-public/noaa/nwm/*comp.json')\n",
    "f = [f's3://{a}' for a in f]\n",
    "f"
   ]
  },
  {
   "cell_type": "markdown",
   "id": "d61d261f-536c-4ea9-ac18-00ba54e95b46",
   "metadata": {},
   "source": [
    "### We would like to do the whole list of furls with a distributed cluster\n",
    "but I haven't been successful yet"
   ]
  },
  {
   "cell_type": "code",
   "execution_count": null,
   "id": "b0bd25ce-ced0-4b1e-b16c-897d6b953a4f",
   "metadata": {},
   "outputs": [],
   "source": [
    "import os\n",
    "import sys\n",
    "sys.path.append(os.path.join(os.environ['HOME'],'shared','users','lib'))\n",
    "import ebdpy as ebd\n",
    "\n",
    "ebd.set_credentials(profile='esip-qhub')\n",
    "\n",
    "profile = 'esip-qhub'\n",
    "region = 'us-west-2'\n",
    "endpoint = f's3.{region}.amazonaws.com'\n",
    "ebd.set_credentials(profile=profile, region=region, endpoint=endpoint)\n",
    "worker_max = 30\n",
    "client,cluster = ebd.start_dask_cluster(profile=profile,worker_max=worker_max, \n",
    "                                      region=region, use_existing_cluster=True,\n",
    "                                      adaptive_scaling=False, wait_for_cluster=False, \n",
    "                                      environment='pangeo', worker_profile='Pangeo Worker', \n",
    "                                      propagate_env=True)"
   ]
  },
  {
   "cell_type": "code",
   "execution_count": null,
   "id": "5f09cb31-9e46-49d9-8183-c271f1c3b445",
   "metadata": {},
   "outputs": [],
   "source": [
    "import dask.bag as db"
   ]
  },
  {
   "cell_type": "code",
   "execution_count": null,
   "id": "0804d6f1-b793-46fe-9f54-942439562db0",
   "metadata": {},
   "outputs": [],
   "source": [
    "b = db.from_sequence(furls, npartitions=400)"
   ]
  },
  {
   "cell_type": "code",
   "execution_count": null,
   "id": "80e380c4-2614-4a99-bfcc-175a7d003445",
   "metadata": {},
   "outputs": [],
   "source": [
    "b1 = b.map_partitions(tasks)"
   ]
  },
  {
   "cell_type": "code",
   "execution_count": null,
   "id": "9fff1285-4747-4288-a6c9-2683a48b6371",
   "metadata": {},
   "outputs": [],
   "source": [
    "%%time\n",
    "from dask.distributed import performance_report\n",
    "with performance_report(filename=\"dask-report-whole.html\"):\n",
    "    b1.compute(retries=10)"
   ]
  },
  {
   "cell_type": "code",
   "execution_count": null,
   "id": "a3feea8a-4d63-42f1-a2ff-949a526f8519",
   "metadata": {},
   "outputs": [],
   "source": [
    "%%time\n",
    "#%%prun -D multizarr_profile \n",
    "\n",
    "local_json = 'nwm_reanalysis_v21.json'\n",
    "dask.compute(mzz.translate(local_json))"
   ]
  },
  {
   "cell_type": "markdown",
   "id": "503a75b0-4577-47d3-9f97-825e83a18776",
   "metadata": {},
   "source": [
    "#### Try opening one of the consolidated JSONs from S3"
   ]
  },
  {
   "cell_type": "code",
   "execution_count": null,
   "id": "bc0de9a2-1bad-4380-9a53-bd97d9f6e0db",
   "metadata": {},
   "outputs": [],
   "source": [
    "f[-1]"
   ]
  },
  {
   "cell_type": "code",
   "execution_count": null,
   "id": "c090f8f6-3b84-4ecf-b9a0-029ae743285b",
   "metadata": {},
   "outputs": [],
   "source": [
    "s_opts = {'anon':True, 'skip_instance_cache':True}\n",
    "r_opts = {'anon':True}\n",
    "fs = fsspec.filesystem(\"reference\", fo=f[-1], ref_storage_args=s_opts,\n",
    "                       remote_protocol='s3', remote_options=r_opts)\n",
    "m = fs.get_mapper(\"\")\n",
    "ds = xr.open_dataset(m, engine=\"zarr\", mask_and_scale=False, \n",
    "                     backend_kwargs={'consolidated':False})"
   ]
  },
  {
   "cell_type": "code",
   "execution_count": null,
   "id": "a9e34040-ef4e-4c19-acf3-26e6275b993c",
   "metadata": {},
   "outputs": [],
   "source": [
    "ds"
   ]
  },
  {
   "cell_type": "code",
   "execution_count": null,
   "id": "f982d50b-071b-41aa-891b-f9bc11c00bb5",
   "metadata": {},
   "outputs": [],
   "source": [
    "ds.streamflow"
   ]
  },
  {
   "cell_type": "code",
   "execution_count": null,
   "id": "84acd482-3722-4a41-aa6d-026ffb39072c",
   "metadata": {},
   "outputs": [],
   "source": [
    "df = ds.streamflow.isel(time=0).to_pandas().to_frame()"
   ]
  },
  {
   "cell_type": "code",
   "execution_count": null,
   "id": "2c0e5b55-30e3-4e90-8fab-8217e91c2b69",
   "metadata": {},
   "outputs": [],
   "source": [
    "df = df.assign(latitude=ds.latitude)\n",
    "df = df.assign(longitude=ds.longitude)\n",
    "df.rename(columns={0: \"transport\"}, inplace=True)"
   ]
  },
  {
   "cell_type": "code",
   "execution_count": null,
   "id": "49afe906-7400-4ac8-abfb-df4309645a47",
   "metadata": {},
   "outputs": [],
   "source": [
    "import hvplot.pandas\n",
    "import geoviews as gv\n",
    "from holoviews.operation.datashader import rasterize\n",
    "import cartopy.crs as ccrs"
   ]
  },
  {
   "cell_type": "code",
   "execution_count": null,
   "id": "9f46622b-e5f7-41f5-af89-4b6a2388eacd",
   "metadata": {},
   "outputs": [],
   "source": [
    "p = df.hvplot.points('longitude', 'latitude', geo=True,\n",
    "                     c='transport', colorbar=True, size=14)\n",
    "g = rasterize(p, aggregator='mean', x_sampling=0.02, y_sampling=0.02, width=500).opts(tools=['hover'], \n",
    "                aspect='equal', logz=True, cmap='viridis', clim=(1e-2, np.nan))\n",
    "g * gv.tile_sources.OSM"
   ]
  }
 ],
 "metadata": {
  "kernelspec": {
   "display_name": "Python [conda env:pangeo]",
   "language": "python",
   "name": "conda-env-pangeo-py"
  },
  "language_info": {
   "codemirror_mode": {
    "name": "ipython",
    "version": 3
   },
   "file_extension": ".py",
   "mimetype": "text/x-python",
   "name": "python",
   "nbconvert_exporter": "python",
   "pygments_lexer": "ipython3",
   "version": "3.8.10"
  }
 },
 "nbformat": 4,
 "nbformat_minor": 5
}
