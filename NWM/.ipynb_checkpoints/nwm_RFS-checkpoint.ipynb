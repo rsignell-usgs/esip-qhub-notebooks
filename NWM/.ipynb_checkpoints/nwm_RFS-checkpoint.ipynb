{
 "cells": [
  {
   "cell_type": "markdown",
   "id": "d741d57e-03a1-4c35-b6af-6273992cdb03",
   "metadata": {},
   "source": [
    "# Read NWM Data from AWS Public Dataset \n",
    "using Zarr/ReferenceFileSystem"
   ]
  },
  {
   "cell_type": "code",
   "execution_count": null,
   "id": "4ce86ca9-07e5-4924-9ee6-b7ad0e476fca",
   "metadata": {},
   "outputs": [],
   "source": [
    "import fsspec\n",
    "import xarray as xr\n",
    "import json\n",
    "import intake\n",
    "import hvplot.xarray"
   ]
  },
  {
   "cell_type": "markdown",
   "id": "ed31b7e2-2a0f-41b8-8f63-1dc2c33d9e33",
   "metadata": {},
   "source": [
    "#### Load multiple NetCDF files from a single json"
   ]
  },
  {
   "cell_type": "code",
   "execution_count": null,
   "id": "e8a0a2f8-d05b-4e75-9bf5-27908180b22d",
   "metadata": {},
   "outputs": [],
   "source": [
    "%%time\n",
    "r_opts = {'anon': True} # NetCDF files on AWS Open Data public bucket\n",
    "t_opts = {'requester_pays':True}  # JSON or zip file on requester pays bucket\n",
    "\n",
    "fo = \"s3://coawst-public/testing/nwm.json\"\n",
    "fs = fsspec.filesystem(\"reference\", fo=fo, \n",
    "                       remote_protocol='s3', remote_options=r_opts,\n",
    "                       target_protocol='s3', target_options=t_opts)\n",
    "\n",
    "m = fs.get_mapper(\"\")\n",
    "ds = xr.open_dataset(m, engine=\"zarr\")"
   ]
  },
  {
   "cell_type": "code",
   "execution_count": null,
   "id": "01d4718a-0bac-415c-b147-1730c3248823",
   "metadata": {},
   "outputs": [],
   "source": [
    "ds"
   ]
  },
  {
   "cell_type": "markdown",
   "id": "3f9e46ea-a251-4cc7-bb9c-7d77d4fc2777",
   "metadata": {},
   "source": [
    "#### Load a single netcdf file from a json in a zip file"
   ]
  },
  {
   "cell_type": "code",
   "execution_count": null,
   "id": "74e28b08-3a37-4cd5-9c65-8620e5fa9c19",
   "metadata": {},
   "outputs": [],
   "source": [
    "jsons = fsspec.open_files(\"zip://*::s3://coawst-public/testing/out.zip\", s3={\"requester_pays\": True})\n",
    "with jsons[0] as afile:\n",
    "    m = fsspec.get_mapper(\"reference://\", fo=json.load(afile), remote_protocol=\"s3\", remote_options={\"anon\": True})\n",
    "    ds = xr.open_dataset(m, engine=\"zarr\")"
   ]
  },
  {
   "cell_type": "markdown",
   "id": "5dfb7e24-8f15-4b91-be6a-3ffc2d736425",
   "metadata": {},
   "source": [
    "#### Load from jsons in zip into a single dataset"
   ]
  },
  {
   "cell_type": "code",
   "execution_count": null,
   "id": "3850729a-de4f-4564-b2bb-7c9febec50e8",
   "metadata": {},
   "outputs": [],
   "source": [
    "ds_list=[]\n",
    "for j in jsons:\n",
    "    with j as afile:\n",
    "        m = fsspec.get_mapper(\"reference://\", fo=json.load(afile), remote_protocol=\"s3\", remote_options={\"anon\": True})\n",
    "        ds_list.append(xr.open_dataset(m, engine=\"zarr\", drop_variables='reference_time'))\n",
    "\n",
    "ds = xr.concat(ds_list, dim='time', \n",
    "               coords='minimal', data_vars='minimal', compat='override')"
   ]
  },
  {
   "cell_type": "code",
   "execution_count": null,
   "id": "05975d0d-2c32-43f6-b1ca-7ea39fbece63",
   "metadata": {},
   "outputs": [],
   "source": [
    "ds"
   ]
  },
  {
   "cell_type": "markdown",
   "id": "b7d4f007-e1ea-41fe-b6a7-83dcb2633bbb",
   "metadata": {},
   "source": [
    "#### Load the json for the whole dataset using an Intake Catalog"
   ]
  },
  {
   "cell_type": "code",
   "execution_count": null,
   "id": "618945de-d2f9-48ec-9239-41a8dbdb1b49",
   "metadata": {},
   "outputs": [],
   "source": [
    "%%time\n",
    "cat = intake.open_catalog('s3://coawst-public/testing/nwm_intake.yml', \n",
    "                          storage_options={\"requester_pays\": True})\n",
    "\n",
    "ds = cat['nwm-rfs'].to_dask()"
   ]
  },
  {
   "cell_type": "code",
   "execution_count": null,
   "id": "89bbb1fc-f04b-44cc-8e64-bb2344a9c02f",
   "metadata": {},
   "outputs": [],
   "source": [
    "ds.streamflow"
   ]
  },
  {
   "cell_type": "code",
   "execution_count": null,
   "id": "3ff33dd3-92e4-4061-ad0d-fdfc1e3d6a5f",
   "metadata": {},
   "outputs": [],
   "source": [
    "%%time\n",
    "ds.streamflow[:,1000].hvplot(x='time', grid=True)"
   ]
  },
  {
   "cell_type": "markdown",
   "id": "241f37df-c7df-4434-baf9-c7c5c151ba9f",
   "metadata": {},
   "source": [
    "#### What does this magical intake catalog look like?"
   ]
  },
  {
   "cell_type": "code",
   "execution_count": null,
   "id": "ad81be73-97af-4bb5-a7a4-e47ff6513bd3",
   "metadata": {},
   "outputs": [],
   "source": [
    "print(cat.text)"
   ]
  },
  {
   "cell_type": "code",
   "execution_count": null,
   "id": "4a1f432b-99a6-4b0a-aaca-e77991107a1e",
   "metadata": {},
   "outputs": [],
   "source": [
    "cat['nwm-rfs']"
   ]
  }
 ],
 "metadata": {
  "kernelspec": {
   "display_name": "Python [conda env:pangeo]",
   "language": "python",
   "name": "conda-env-pangeo-py"
  },
  "language_info": {
   "codemirror_mode": {
    "name": "ipython",
    "version": 3
   },
   "file_extension": ".py",
   "mimetype": "text/x-python",
   "name": "python",
   "nbconvert_exporter": "python",
   "pygments_lexer": "ipython3",
   "version": "3.8.10"
  }
 },
 "nbformat": 4,
 "nbformat_minor": 5
}
