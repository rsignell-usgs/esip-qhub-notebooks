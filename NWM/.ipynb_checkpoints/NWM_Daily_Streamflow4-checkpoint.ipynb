{
 "cells": [
  {
   "cell_type": "markdown",
   "id": "2ffa9b68",
   "metadata": {},
   "source": [
    "# Read hourly data, write daily data"
   ]
  },
  {
   "cell_type": "code",
   "execution_count": null,
   "id": "9f2338bd",
   "metadata": {},
   "outputs": [],
   "source": [
    "import xarray as xr\n",
    "import dask.distributed\n",
    "from dask.distributed import Client\n",
    "import fsspec"
   ]
  },
  {
   "cell_type": "code",
   "execution_count": null,
   "id": "67688328",
   "metadata": {},
   "outputs": [],
   "source": [
    "client = Client()"
   ]
  },
  {
   "cell_type": "code",
   "execution_count": null,
   "id": "fad0a193",
   "metadata": {},
   "outputs": [],
   "source": [
    "client"
   ]
  },
  {
   "cell_type": "code",
   "execution_count": null,
   "id": "cd70b7fa",
   "metadata": {},
   "outputs": [],
   "source": [
    "fs1 = fsspec.filesystem('s3', anon=True)\n",
    "read_url = 's3://noaa-nwm-retro-v2-zarr-pds'\n",
    "read_mapper = fs1.get_mapper(read_url)"
   ]
  },
  {
   "cell_type": "code",
   "execution_count": null,
   "id": "7203802d",
   "metadata": {},
   "outputs": [],
   "source": [
    "fs2 = fsspec.filesystem('s3', anon=False, profile='esip-qhub')\n",
    "write_url = 's3://esip-qhub/usgs/rsignell/zarr/zarr_daily'\n",
    "write_mapper = fs2.get_mapper(write_url)"
   ]
  },
  {
   "cell_type": "code",
   "execution_count": null,
   "id": "44d759bb",
   "metadata": {},
   "outputs": [],
   "source": [
    "%%time\n",
    "ds = xr.open_zarr(read_mapper, consolidated=True)"
   ]
  },
  {
   "cell_type": "code",
   "execution_count": null,
   "id": "1091ee88",
   "metadata": {},
   "outputs": [],
   "source": [
    "ds.streamflow"
   ]
  },
  {
   "cell_type": "code",
   "execution_count": null,
   "id": "69fb2196",
   "metadata": {},
   "outputs": [],
   "source": [
    "ds2 = ds.sel(time=slice('2017-01-01','2017-01-07'))"
   ]
  },
  {
   "cell_type": "code",
   "execution_count": null,
   "id": "561d4f6a",
   "metadata": {},
   "outputs": [],
   "source": [
    "daily_mean = ds2.resample(time='D').mean()"
   ]
  },
  {
   "cell_type": "code",
   "execution_count": null,
   "id": "69915d31",
   "metadata": {},
   "outputs": [],
   "source": [
    "daily_mean.streamflow"
   ]
  },
  {
   "cell_type": "code",
   "execution_count": null,
   "id": "cc9b84a8",
   "metadata": {},
   "outputs": [],
   "source": [
    "daily_mean = daily_mean.chunk({'time':672})"
   ]
  },
  {
   "cell_type": "code",
   "execution_count": null,
   "id": "f8346f8b",
   "metadata": {},
   "outputs": [],
   "source": [
    "daily_mean.streamflow"
   ]
  },
  {
   "cell_type": "code",
   "execution_count": null,
   "id": "17755ba6",
   "metadata": {},
   "outputs": [],
   "source": [
    "def delete_s3(url):\n",
    "    fs1 = fsspec.open(url, anon=False).fs\n",
    "    if fs1.exists(url):\n",
    "        fs1.rm(url, recursive=True)"
   ]
  },
  {
   "cell_type": "code",
   "execution_count": null,
   "id": "8e007a9a",
   "metadata": {},
   "outputs": [],
   "source": [
    "delete_s3(write_url)"
   ]
  },
  {
   "cell_type": "code",
   "execution_count": null,
   "id": "c9092099",
   "metadata": {},
   "outputs": [],
   "source": [
    "%%time\n",
    "a = daily_mean.to_zarr(write_mapper, compute=False, mode='w', consolidated=True)"
   ]
  },
  {
   "cell_type": "code",
   "execution_count": null,
   "id": "d9547742",
   "metadata": {},
   "outputs": [],
   "source": [
    "len(a.dask)"
   ]
  },
  {
   "cell_type": "code",
   "execution_count": null,
   "id": "4c90d30c",
   "metadata": {},
   "outputs": [],
   "source": [
    "%%time\n",
    "dask.compute(a, retries=10)"
   ]
  },
  {
   "cell_type": "code",
   "execution_count": null,
   "id": "23d86fbe",
   "metadata": {},
   "outputs": [],
   "source": []
  }
 ],
 "metadata": {
  "kernelspec": {
   "display_name": "Python [conda env:pangeo]",
   "language": "python",
   "name": "conda-env-pangeo-py"
  },
  "language_info": {
   "codemirror_mode": {
    "name": "ipython",
    "version": 3
   },
   "file_extension": ".py",
   "mimetype": "text/x-python",
   "name": "python",
   "nbconvert_exporter": "python",
   "pygments_lexer": "ipython3",
   "version": "3.8.8"
  }
 },
 "nbformat": 4,
 "nbformat_minor": 5
}
