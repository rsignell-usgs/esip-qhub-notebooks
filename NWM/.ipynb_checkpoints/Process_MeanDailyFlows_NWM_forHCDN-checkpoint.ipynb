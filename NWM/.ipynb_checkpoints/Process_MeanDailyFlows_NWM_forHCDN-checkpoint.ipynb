{
 "cells": [
  {
   "cell_type": "markdown",
   "metadata": {},
   "source": [
    "# Explore the National Water Model Reanalysis\n",
    "Use [Xarray](http://xarray.pydata.org/en/stable/), [Dask](https://dask.org) tool suite to explore the National Water Model Reanalysis Version 2.  We read from a cloud-optimized [Zarr](https://zarr.readthedocs.io/en/stable/) dataset that is part of the [AWS Open Data Program](https://aws.amazon.com/opendata/), and we use a Dask cluster to parallelize computation and reading of data chunks.  The following imprts are necessary:"
   ]
  },
  {
   "cell_type": "code",
   "execution_count": null,
   "metadata": {},
   "outputs": [],
   "source": [
    "import xarray as xr\n",
    "import fsspec\n",
    "import numpy as np\n",
    "from pylab import *\n",
    "import netCDF4\n",
    "import pandas as pd"
   ]
  },
  {
   "cell_type": "code",
   "execution_count": null,
   "metadata": {},
   "outputs": [],
   "source": [
    "import hvplot.pandas\n",
    "import hvplot.xarray\n",
    "import geoviews as gv\n",
    "from holoviews.operation.datashader import rasterize\n",
    "import cartopy.crs as ccrs"
   ]
  },
  {
   "cell_type": "code",
   "execution_count": null,
   "metadata": {},
   "outputs": [],
   "source": [
    "from dask.distributed import Client\n",
    "from dask_kubernetes import KubeCluster \n",
    "cluster = KubeCluster() \n",
    "#cluster.adapt(minimum=2, maximum=10) \n",
    "client = Client(cluster) "
   ]
  },
  {
   "cell_type": "markdown",
   "metadata": {},
   "source": [
    "Open Zarr datasets in Xarray using a mapper from fsspec.  We use `anon=True` for free-access public buckets like the AWS Open Data Program, and `requester_pays=True` for requester-pays public buckets. We also scale clusters to 20 as this is sufficient to parse out the work."
   ]
  },
  {
   "cell_type": "code",
   "execution_count": null,
   "metadata": {},
   "outputs": [],
   "source": [
    "url = 's3://noaa-nwm-retro-v2-zarr-pds'"
   ]
  },
  {
   "cell_type": "code",
   "execution_count": null,
   "metadata": {},
   "outputs": [],
   "source": [
    "cluster.scale(20)"
   ]
  },
  {
   "cell_type": "code",
   "execution_count": null,
   "metadata": {},
   "outputs": [],
   "source": [
    "%%time\n",
    "ds = xr.open_zarr(fsspec.get_mapper(url, anon=True), consolidated=True)"
   ]
  },
  {
   "cell_type": "markdown",
   "metadata": {},
   "source": [
    "Select streamflow as the attribute of interest and inspect the dimensions."
   ]
  },
  {
   "cell_type": "code",
   "execution_count": null,
   "metadata": {},
   "outputs": [],
   "source": [
    "var='streamflow'"
   ]
  },
  {
   "cell_type": "code",
   "execution_count": null,
   "metadata": {},
   "outputs": [],
   "source": [
    "ds"
   ]
  },
  {
   "cell_type": "code",
   "execution_count": null,
   "metadata": {},
   "outputs": [],
   "source": [
    "### Slice out the Period of Record and inspect"
   ]
  },
  {
   "cell_type": "code",
   "execution_count": null,
   "metadata": {},
   "outputs": [],
   "source": [
    "streamflow = ds[var].sel(time=slice('1993-01-01 00:00','2018-01-31 23:00'))"
   ]
  },
  {
   "cell_type": "code",
   "execution_count": null,
   "metadata": {},
   "outputs": [],
   "source": [
    "streamflow"
   ]
  },
  {
   "cell_type": "markdown",
   "metadata": {},
   "source": [
    "Subset the xarray to just the feature_ids of interest. This can be cleaned up by providing a list,a list was made to be quick, sloppy but quick on my part"
   ]
  },
  {
   "cell_type": "code",
   "execution_count": null,
   "metadata": {},
   "outputs": [],
   "source": [
    "dm = ds.streamflow.sel(feature_id=[724696,2677104,3923,1722317,3321976,19334265,6716129,6709987,6711893,5845058,6731199,6140842,6140826,6162583,6162981,4570675,4594599,4573927,4573939,6083547,6084503,6089027,9343363,10294784,10294622,6096297,6105951,6177558,7731665,22290373,3247466,3247464,3247552,6189624,6200212,9436435,1748583,1748611,1748589,2613578,4147946,4147956,4153168,4151302,4153166,4187713,4492036,8077030,8401785,8401391,8392898,9407484,9420683,8112305,8111873,4199144,2603023,8125917,8127529,8127609,8134650,8134878,8139414,8144622,8144818,8152817,8152257,8151091,4683152,4699877,4710396,4710668,4726301,11687656,11688538,11907272,14365490,14364088,8423458,8423278,5892356,5909157,8441037,8441303,8440459,4505612,8449082,4507266,4529107,8465429,8468559,8467225,8479268,8457352,8520617,8520739,8525587,8525619,8520749,8523325,8525659,8522521,8547581,8549853,8547459,8611825,8719481,8744593,8741021,8746117,8629303,8627131,8626863,8627301,8647998,8648830,8675163,8673051,8673535,8701361,8760623,10511316,10976591,8849951,10525935,9069040,9251726,9250814,9251654,9248978,9233605,9203175,9210446,9754776,9752476,9745122,9745600,12036581,12034181,6269342,6267840,6289497,11730030,9978327,9944858,6335902,6365072,6383975,1056599,18260325,11014543,10997161,16644086,16662855,16658901,16806475,16812461,16807511,16808187,16837084,16877194,16918210,16955670,16949670,1997544,166743978,1984358,1978648,10365698,3437900,6442680,6460293,2188031,2210130,789206,2377281,2323396,933140017,6478767,12193270,6498620,22274612,22035157,21676818,18693151,18693687,18578829,18229143,18227533,18227431,18208346,21640642,18154237,18157053,18105412,18107248,18094981,18070104,18075806,8971150,8974366,8975634,9049227,6874093,6874111,11049880,11049744,4353002,3775599,3775993,3773681,3808829,3808365,15400312,15380169,19440277,6892192,6887572,6886804,6884590,6908597,12103826,12105064,4547810,4547840,435154,1920776,1919636,1919306,3930910,487460,504810,503758,1827630,10161364,10302627,10207857,10337448,18464802,18454477,18451023,18450047,11868270,22165090,22161670,22152669,22152435,22151401,19490270,19752335,19752425,19743430,19761976,22130235,19736555,19735951,19736561,19621426,19582151,19504798,1757696,1799897,1815879,11930606,11937201,12186641,12222392,272589,11959338,6860182,6844165,9027875,3473077,12232338,904060094,8992044,12121104,12206226,12502977,13183952,15662050,15613832,15612400,15612196,9841738,9841436,15569391,15550135,15547935,21983513,15514388,4599789,14267516,14269180,14269214,7027381,7069743,14172539,14156742,7140308,7171122,4085588,12981697,13399941,14733228,13624991,13312489,13324626,13324402,10605920,11915429,7016531,6960295,22251995,4995875,4994047,5802762,5802188,2925495,5640210,4868933,4867221,2507315,13454068,14836121,13802760,13803642,13771102,13771802,13873068,13881906,13783124,3059764,3855315,12533094,2965578,2965566,4369760,12899984,12900470,12804142,12788124,12771343,12771299,5351095,5348813,21539242,16247217,16247437,16233369,16213178,21860180,21861216,16203752,11258604,14396112,14396284,17532989,17533503,14553227,5481765,16128803,16074848,20179529,20177973,11547654,11673186,11654348,12570210,12576056,11468868,12664828,9370700,9370962,17244016,16000378,15983485,15968457,2900149,17394882,17356815,17405547,17399459,19158238,8164854,8364344,19017621,3539121,18880718,18841318,2277053,3643688,3645554,3646124,3729049,5124308,5995392,10116766,10117754,7359831,7374577,7371515,7388043,7388709,7445669,5053369,11818755,7650991,11834118,7518797,7524421,7523285,7572703,916821,1530177,21195628,21160115,21166753,21028210,21014649,20987715,21517052,20920709,20874950,399452,400822,400496,20060156,20026105,7817394,19138473,19115892,19112978,19104913,13741403,13754363,13756121,13660367,3132401,588170,3746094,1017865,22000700,21956120,19376616,18928210,20090368,18985872,15085941,15078398,9533087,8329634,8330722,1275870,1487570,1494036,1520007,1520083,13698835,5542148,5525607,5525073,2580511,5587890,5671579,5570395,5770545,5781265,5780099,5781401,7842827,7846049,9349285,3585678,1631023,1623207,1638559,10833740,5289461,7872253,7876116,10634531,10645755,10644541,10646003,10654651,10655687,17863440,17864360,17863078,17826714,20815146,20815180,20815196,1239681,1238529,1238533,1314083,1320264,1320274,1320244,1319214,1326465,1333022,3380913,18354249,3192546,3240437,3906361,17034197,3272718,1399324,20572245,10025746,2430698,2430436,21327929,15907963,15893872,15894416,20488504,20487236,22440644,22440682,20454544,20454522,20435246,20437386,20440676,20476698,20415812,15840868,7880800,664424,10327201,10396937,10395905,10818086,1215135,14597053,11339045,10696957,22593497,22593537,22592131,22592497,22684930,8922715,8920579,10786444,11137442,8941733,8941693,8941685,8942509,8933522,8935820,24013585,20334440,22514774,17611425,8193647,8189809,8209965,8205487,17688105,2806807,2804369,2804901,14883269,17118323,17116209,14882615,21609533,21609641,2828012,2827982,17078425,348419,17053540,8019544,8020924,14992381,8005975,2665525,8295207,8287590,8284190,2705477,8320019,8315847,8315607,8261865,8242324,8232392,22226812,23864404,23864616,23850487,23850671,23850773,23856727,23844955,23838194,23838568,23997388,24287056,24285534,23989205,24282122,23980479,23980763,24538014,24537996,24537972,24537924,23970363,23970289,23970271,23970215,23970779,23970773,24274653,24255219,24255169,24264875,24264763,22957049,24357005,24356439,24356265,24356091,24357131,24355913,22976274,24373072,24372850,23004329,24384943,23073999,24422913,23123539,23123373,23123209,24432663,24432173,23184753,23287111,23382203,24158523,24177409,23551284,23551584,23436993,23588130,23597191,23606382,23630350,23648622,23719653,23719315,23735817,23736071,23736433,23736091,23736041,23735991,23759452,23773373,23773393,23763161,23780805,23785793,23786019,23785723,24242219,24241689,24249034,23871899,23876773,23880874,23887140,23886298,23901309,23901147,23894572,23914567,23935979,23949601,10449386,8895436,21457950,10080314,22160758,19531616,13869098,16131669,15984809,22846153,21919761,10017314,3506561\n",
    "])"
   ]
  },
  {
   "cell_type": "code",
   "execution_count": null,
   "metadata": {},
   "outputs": [],
   "source": [
    "ds.attrs"
   ]
  },
  {
   "cell_type": "markdown",
   "metadata": {},
   "source": [
    "checking to see if there are workers"
   ]
  },
  {
   "cell_type": "code",
   "execution_count": null,
   "metadata": {},
   "outputs": [],
   "source": [
    "cluster"
   ]
  },
  {
   "cell_type": "markdown",
   "metadata": {},
   "source": [
    "Load xarray into memory to make it run faster, otherwise it sends to many workers to parse the array in an iterative fashion"
   ]
  },
  {
   "cell_type": "code",
   "execution_count": null,
   "metadata": {},
   "outputs": [],
   "source": [
    "%%timehttps://pangeo.chs.usgs.gov/user/mewieczo@usgs.gov/proxy/8787/status\n",
    "dm = dm.load()"
   ]
  },
  {
   "cell_type": "markdown",
   "metadata": {},
   "source": [
    "calculate daily means on the subset of the array"
   ]
  },
  {
   "cell_type": "code",
   "execution_count": null,
   "metadata": {},
   "outputs": [],
   "source": [
    "%%time\n",
    "daily_mean = dm.resample(time='1D').mean()"
   ]
  },
  {
   "cell_type": "code",
   "execution_count": null,
   "metadata": {},
   "outputs": [],
   "source": [
    "daily_mean.attrs = dm.attrs"
   ]
  },
  {
   "cell_type": "code",
   "execution_count": null,
   "metadata": {},
   "outputs": [],
   "source": [
    "daily_mean"
   ]
  },
  {
   "cell_type": "markdown",
   "metadata": {},
   "source": [
    "Export results into an netcdf and csv file"
   ]
  },
  {
   "cell_type": "code",
   "execution_count": null,
   "metadata": {},
   "outputs": [],
   "source": [
    "%%time\n",
    "daily_mean.to_netcdf('HCDN_DailyFlows_POR.nc')"
   ]
  },
  {
   "cell_type": "code",
   "execution_count": null,
   "metadata": {},
   "outputs": [],
   "source": [
    "df = daily_mean.to_dataframe()"
   ]
  },
  {
   "cell_type": "code",
   "execution_count": null,
   "metadata": {},
   "outputs": [],
   "source": [
    "%%time\n",
    "df.to_csv('HCDN_DailyFlows_POR_csv.csv',header=True)"
   ]
  },
  {
   "cell_type": "code",
   "execution_count": null,
   "metadata": {},
   "outputs": [],
   "source": [
    "client.close(); cluster.close()"
   ]
  },
  {
   "cell_type": "code",
   "execution_count": null,
   "metadata": {},
   "outputs": [],
   "source": []
  }
 ],
 "metadata": {
  "kernelspec": {
   "display_name": "Python [conda env:pangeo] *",
   "language": "python",
   "name": "conda-env-pangeo-py"
  },
  "language_info": {
   "codemirror_mode": {
    "name": "ipython",
    "version": 3
   },
   "file_extension": ".py",
   "mimetype": "text/x-python",
   "name": "python",
   "nbconvert_exporter": "python",
   "pygments_lexer": "ipython3",
   "version": "3.7.10"
  }
 },
 "nbformat": 4,
 "nbformat_minor": 4
}
