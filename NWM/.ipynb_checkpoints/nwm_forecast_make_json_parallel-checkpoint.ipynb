{
 "cells": [
  {
   "cell_type": "markdown",
   "id": "5b86af71-052b-4081-844b-779db459068d",
   "metadata": {},
   "source": [
    "# NWM ReferenceFileSystem JSON \n",
    "Create ReferenceFileSystem JSON file for a collection of NWM NetCDF files on S3 "
   ]
  },
  {
   "cell_type": "code",
   "execution_count": null,
   "id": "3b6ba617-9772-4ecf-aa7a-2be2a4bcfa1d",
   "metadata": {},
   "outputs": [],
   "source": [
    "import os\n",
    "import fsspec\n",
    "import ujson   # fast json\n",
    "from fsspec_reference_maker.hdf import SingleHdf5ToZarr \n",
    "from fsspec_reference_maker.combine import MultiZarrToZarr\n",
    "import xarray as xr\n",
    "import dask\n",
    "import hvplot.xarray"
   ]
  },
  {
   "cell_type": "code",
   "execution_count": null,
   "id": "e2a050f3-8ec4-4ed1-8295-771fe55f543e",
   "metadata": {},
   "outputs": [],
   "source": [
    "import fsspec_reference_maker"
   ]
  },
  {
   "cell_type": "code",
   "execution_count": null,
   "id": "f1af28be-7fab-4170-907d-47e058799ae3",
   "metadata": {},
   "outputs": [],
   "source": [
    "fsspec_reference_maker.__version__"
   ]
  },
  {
   "cell_type": "code",
   "execution_count": null,
   "id": "1bd61788-a744-4197-ae71-03347ce1f4c3",
   "metadata": {},
   "outputs": [],
   "source": [
    "fs = fsspec.filesystem('s3', anon=True, skip_instance_cache=True)"
   ]
  },
  {
   "cell_type": "code",
   "execution_count": null,
   "id": "66406852-c7ce-4309-b27f-52786ba7cbed",
   "metadata": {},
   "outputs": [],
   "source": [
    "best_hour='f001'\n",
    "var = 'channel_rt'"
   ]
  },
  {
   "cell_type": "markdown",
   "id": "238f9b7b-dd30-4a51-a628-3064242ebb41",
   "metadata": {},
   "source": [
    "#### Cheat on file list\n",
    "globbing all the files takes a long time (> 5 minutes), so instead, just read the dates and generate 24 files for each date, which of course assumes no missing files"
   ]
  },
  {
   "cell_type": "code",
   "execution_count": null,
   "id": "bd52d53f-4fa1-4a3e-897b-3c520abc4154",
   "metadata": {},
   "outputs": [],
   "source": [
    "#%%time\n",
    "#flist = fs.glob(f'noaa-nwm-pds/nwm.*/short_range/nwm.*.short_range.{var}.{best_hour}.conus.nc')"
   ]
  },
  {
   "cell_type": "code",
   "execution_count": null,
   "id": "476b63bb-c950-4124-be7b-952054c54d4b",
   "metadata": {},
   "outputs": [],
   "source": [
    "days = fs.glob(f'noaa-nwm-pds/nwm.*')"
   ]
  },
  {
   "cell_type": "code",
   "execution_count": null,
   "id": "adcc3b8a-2d3e-46e6-b728-7b3c9a69d6ee",
   "metadata": {},
   "outputs": [],
   "source": [
    "print(days[0])\n",
    "print(days[-1])"
   ]
  },
  {
   "cell_type": "code",
   "execution_count": null,
   "id": "33bc3bf8-07bb-4d7f-b424-4e40932bb2fb",
   "metadata": {},
   "outputs": [],
   "source": [
    "flist=[]\n",
    "for day in days[2:-2]:\n",
    "    for i in range(24):\n",
    "        flist.append(f'{day}/short_range/nwm.t{i:02d}z.short_range.{var}.{best_hour}.conus.nc')"
   ]
  },
  {
   "cell_type": "code",
   "execution_count": null,
   "id": "7715c974-b8ac-4a53-807b-7508b00bdde8",
   "metadata": {},
   "outputs": [],
   "source": [
    "flist.extend(fs.glob(f'{days[-1]}/short_range/nwm.*.short_range.{var}.{best_hour}.conus.nc'))"
   ]
  },
  {
   "cell_type": "code",
   "execution_count": null,
   "id": "63baafc1-447f-4602-9f0f-80e2a2c20f7b",
   "metadata": {},
   "outputs": [],
   "source": [
    "fs.size(flist[0])/1e6"
   ]
  },
  {
   "cell_type": "code",
   "execution_count": null,
   "id": "7716f85d-a838-4151-b805-eab7a13a8271",
   "metadata": {},
   "outputs": [],
   "source": [
    "ds = xr.open_dataset(fs.open(flist[0]))"
   ]
  },
  {
   "cell_type": "code",
   "execution_count": null,
   "id": "7b7b47e0-195c-46fc-bcd0-5ffe9ace8a35",
   "metadata": {},
   "outputs": [],
   "source": [
    "ds.streamflow.encoding"
   ]
  },
  {
   "cell_type": "code",
   "execution_count": null,
   "id": "c849c0c2-24fd-4ac6-a2f8-5c204ca3f0b3",
   "metadata": {},
   "outputs": [],
   "source": [
    "ds.nbytes/1e6"
   ]
  },
  {
   "cell_type": "code",
   "execution_count": null,
   "id": "26796bb7-072d-476a-8f72-80c43e8aa6ab",
   "metadata": {},
   "outputs": [],
   "source": [
    "print(flist[0])\n",
    "print(flist[-1])"
   ]
  },
  {
   "cell_type": "markdown",
   "id": "c6b8cad7-00ea-4354-a010-e583cf716490",
   "metadata": {},
   "source": [
    "#### Join the \"best time series\" from past forecasts with the latest forecast\n",
    "* Remove the first day of data since this is a rolling collection and we don't want to be trying to access files that soon will be removed\n",
    "* Use all the files from the last forecast cycle"
   ]
  },
  {
   "cell_type": "code",
   "execution_count": null,
   "id": "0579e104-58fb-4ea7-8064-2b1e27371561",
   "metadata": {},
   "outputs": [],
   "source": [
    "last_dir = f'{os.path.dirname(flist[-1])}'\n",
    "last_dir"
   ]
  },
  {
   "cell_type": "code",
   "execution_count": null,
   "id": "6f913f24-4475-4676-a234-281c4f032de4",
   "metadata": {},
   "outputs": [],
   "source": [
    "last_file = os.path.basename(flist[-1]).split('.')\n",
    "last_file"
   ]
  },
  {
   "cell_type": "code",
   "execution_count": null,
   "id": "9b53025f-4d52-4a0c-b873-87621748ffc2",
   "metadata": {},
   "outputs": [],
   "source": [
    "last_files = fs.glob(f'{last_dir}/{last_file[0]}.{last_file[1]}.{last_file[2]}.{var}.*.conus.nc')\n",
    "last_files"
   ]
  },
  {
   "cell_type": "markdown",
   "id": "f209333a-79dd-4a8e-bc55-70ab7a5bf6fd",
   "metadata": {},
   "source": [
    "Skip the first of the last_files since it's a duplicate:"
   ]
  },
  {
   "cell_type": "code",
   "execution_count": null,
   "id": "d4cc540e-4621-4345-9720-629230f0704b",
   "metadata": {},
   "outputs": [],
   "source": [
    "flist.extend(last_files[1:])"
   ]
  },
  {
   "cell_type": "code",
   "execution_count": null,
   "id": "5002cead-a1a9-44b5-a741-2e82cd696eb7",
   "metadata": {},
   "outputs": [],
   "source": [
    "print(flist[0])\n",
    "print(flist[-1])"
   ]
  },
  {
   "cell_type": "markdown",
   "id": "75bdd9d4-4897-42ad-aa75-4f88a5d0a8d1",
   "metadata": {},
   "source": [
    "We need to include the \"s3://\" prefix to the list of files so that fsspec will recognize that these JSON files are on S3.   There is no \"storage_"
   ]
  },
  {
   "cell_type": "code",
   "execution_count": null,
   "id": "2f9e323a-146b-4190-a487-8fae2758d1ff",
   "metadata": {},
   "outputs": [],
   "source": [
    "urls = [\"s3://\" + f for f in flist]\n",
    "\n",
    "so = dict(mode='rb', anon=True, default_fill_cache=False, default_cache_type='first')"
   ]
  },
  {
   "cell_type": "code",
   "execution_count": null,
   "id": "de9bd595-4cfa-4282-b1a1-83b807bf619d",
   "metadata": {},
   "outputs": [],
   "source": [
    "print(urls[0])\n",
    "print(urls[-1])"
   ]
  },
  {
   "cell_type": "code",
   "execution_count": null,
   "id": "ed939e7e-5118-4cd6-aecb-abb14aab3c08",
   "metadata": {},
   "outputs": [],
   "source": [
    "fs.size(urls[10])"
   ]
  },
  {
   "cell_type": "code",
   "execution_count": null,
   "id": "7c69bd02-0fcc-4302-b5c6-1b52278768ca",
   "metadata": {},
   "outputs": [],
   "source": [
    "import os\n",
    "import sys\n",
    "sys.path.append(os.path.join(os.environ['HOME'],'shared','users','lib'))\n",
    "import ebdpy as ebd\n",
    "\n",
    "ebd.set_credentials(profile='esip-qhub')\n",
    "\n",
    "profile = 'esip-qhub'\n",
    "region = 'us-west-2'\n",
    "endpoint = f's3.{region}.amazonaws.com'\n",
    "ebd.set_credentials(profile=profile, region=region, endpoint=endpoint)\n",
    "worker_max = 30\n",
    "client,cluster = ebd.start_dask_cluster(profile=profile,worker_max=worker_max, \n",
    "                                      region=region, use_existing_cluster=True,\n",
    "                                      adaptive_scaling=False, wait_for_cluster=False, \n",
    "                                      environment='pangeo', worker_profile='Pangeo Worker', \n",
    "                                      propagate_env=True)"
   ]
  },
  {
   "cell_type": "markdown",
   "id": "7c61c32d-f953-43d7-88e6-85b4719349c7",
   "metadata": {},
   "source": [
    "#### Create the individual JSON files directly on S3 "
   ]
  },
  {
   "cell_type": "markdown",
   "id": "c31b04da-7f25-4630-b89d-7074aaa5f7bd",
   "metadata": {},
   "source": [
    "We passed AWS credentials to the Dask workers via environment variables above, and the dask workers don't have the AWS credentials file with profiles defined, so we don't define a profile here, we just set `anon=False` and let the workers find the credentials via the environment variables:"
   ]
  },
  {
   "cell_type": "code",
   "execution_count": null,
   "id": "386bf413-1ccc-4ba1-80de-0174686eee59",
   "metadata": {},
   "outputs": [],
   "source": [
    "fs2 = fsspec.filesystem('s3', anon=False)  "
   ]
  },
  {
   "cell_type": "markdown",
   "id": "6594cb06-41ee-411e-9240-e627abfc3d99",
   "metadata": {},
   "source": [
    "If the directory exists, remove it (and all the files)"
   ]
  },
  {
   "cell_type": "code",
   "execution_count": null,
   "id": "cebc056b-f2a2-478e-b368-66f015b2d830",
   "metadata": {},
   "outputs": [],
   "source": [
    "json_dir = 's3://esip-qhub/usgs/nwm_forecast/jsons/'"
   ]
  },
  {
   "cell_type": "code",
   "execution_count": null,
   "id": "ad2da69d-950a-44ff-a69b-5182d1119cd0",
   "metadata": {},
   "outputs": [],
   "source": [
    "try:\n",
    "    fs2.rm(json_dir, recursive=True)\n",
    "except:\n",
    "    pass"
   ]
  },
  {
   "cell_type": "code",
   "execution_count": null,
   "id": "a2aea4a0-c3f2-4811-bc9d-1f9c31177fce",
   "metadata": {},
   "outputs": [],
   "source": [
    "def gen_json(u):\n",
    "    with fs.open(u, **so) as infile:\n",
    "        h5chunks = SingleHdf5ToZarr(infile, u, inline_threshold=300)\n",
    "        p = u.split('/')\n",
    "        date = p[3]\n",
    "        fname = p[5]\n",
    "        outf = f'{json_dir}{date}.{fname}.json'\n",
    "        print(outf)\n",
    "        with fs2.open(outf, 'wb') as f:\n",
    "            f.write(ujson.dumps(h5chunks.translate()).encode());"
   ]
  },
  {
   "cell_type": "markdown",
   "id": "88e4913f-a622-4374-8824-b090a57e52ac",
   "metadata": {},
   "source": [
    "#### Send the list of delayed tasks to the Dask workers to compute"
   ]
  },
  {
   "cell_type": "code",
   "execution_count": null,
   "id": "6963f4d6-af10-4a2b-8e26-e9bbd903b33e",
   "metadata": {},
   "outputs": [],
   "source": [
    "%%time\n",
    "dask.compute(*[dask.delayed(gen_json)(u) for u in urls], retries=10);"
   ]
  },
  {
   "cell_type": "code",
   "execution_count": null,
   "id": "8725254f-eea3-4191-a2d6-8fa495e3ee2e",
   "metadata": {},
   "outputs": [],
   "source": [
    "flist2 = fs2.ls(json_dir)\n",
    "furls = sorted(['s3://'+f for f in flist2])\n",
    "furls[0]"
   ]
  },
  {
   "cell_type": "code",
   "execution_count": null,
   "id": "30a0b621-4cc7-4355-8401-239a819c970e",
   "metadata": {},
   "outputs": [],
   "source": [
    "len(furls)"
   ]
  },
  {
   "cell_type": "code",
   "execution_count": null,
   "id": "52c9ddc4-1433-4613-b450-0fbd2fcc9d34",
   "metadata": {},
   "outputs": [],
   "source": [
    "mzz = MultiZarrToZarr(furls[-300:], \n",
    "    storage_options={'anon':False}, \n",
    "    remote_protocol='s3',\n",
    "    remote_options={'anon' : 'True'},   #JSON files  \n",
    "    xarray_open_kwargs={\n",
    "        'decode_cf' : False,\n",
    "        'mask_and_scale' : False,\n",
    "        'decode_times' : False,\n",
    "        'use_cftime' : False,\n",
    "        'drop_variables': ['reference_time', 'crs'],\n",
    "        'decode_coords' : False\n",
    "    },\n",
    "    xarray_concat_args={\n",
    "#          \"data_vars\": \"minimal\",\n",
    "#          \"coords\": \"minimal\",\n",
    "#          \"compat\": \"override\",\n",
    "        \"join\": \"override\",\n",
    "        \"combine_attrs\": \"override\",\n",
    "        \"dim\": \"time\"\n",
    "    }\n",
    ")"
   ]
  },
  {
   "cell_type": "code",
   "execution_count": null,
   "id": "a3feea8a-4d63-42f1-a2ff-949a526f8519",
   "metadata": {},
   "outputs": [],
   "source": [
    "%%time\n",
    "#%%prun -D multizarr_profile \n",
    "mzz.translate('nwm.json')"
   ]
  },
  {
   "cell_type": "markdown",
   "id": "156de761-99ee-4f6f-9754-c19f55599aee",
   "metadata": {},
   "source": [
    "#### Copy the local consolidated JSON file to S3"
   ]
  },
  {
   "cell_type": "code",
   "execution_count": null,
   "id": "99632cfb-c4f4-450b-9aa5-3dc4eb6019b6",
   "metadata": {},
   "outputs": [],
   "source": [
    "rpath = 's3://esip-qhub/usgs/forecast/nwm.json'\n",
    "\n",
    "fs2.put_file(lpath='nwm.json', rpath=rpath)"
   ]
  },
  {
   "cell_type": "markdown",
   "id": "503a75b0-4577-47d3-9f97-825e83a18776",
   "metadata": {},
   "source": [
    "#### Try opening the consolidated JSON file from S3"
   ]
  },
  {
   "cell_type": "code",
   "execution_count": null,
   "id": "f7f580ce-9168-431b-aa40-733f38ab2f96",
   "metadata": {},
   "outputs": [],
   "source": [
    "s_opts = {'requester_pays':True, 'skip_instance_cache':True}\n",
    "r_opts = {'anon':True}\n",
    "fs = fsspec.filesystem(\"reference\", fo=rpath, ref_storage_args=s_opts,\n",
    "                       remote_protocol='s3', remote_options=r_opts)\n",
    "m = fs.get_mapper(\"\")\n",
    "ds = xr.open_dataset(m, engine=\"zarr\")"
   ]
  },
  {
   "cell_type": "code",
   "execution_count": null,
   "id": "03c9ba4c-b16e-4913-80cf-b77f760cddca",
   "metadata": {},
   "outputs": [],
   "source": [
    "ds"
   ]
  },
  {
   "cell_type": "code",
   "execution_count": null,
   "id": "35ad5c39-b466-461d-947a-51ba6c82d36b",
   "metadata": {},
   "outputs": [],
   "source": [
    "%%time\n",
    "ds.streamflow[:,1000].hvplot(x='time', grid=True)"
   ]
  },
  {
   "cell_type": "code",
   "execution_count": null,
   "id": "561f6861-57e0-4926-9078-1fb13d93a6cd",
   "metadata": {},
   "outputs": [],
   "source": [
    "cluster.shutdown(); client.close()"
   ]
  },
  {
   "cell_type": "code",
   "execution_count": null,
   "id": "9d7e3ba7-5355-42e3-b7cb-058804ca80e7",
   "metadata": {},
   "outputs": [],
   "source": []
  }
 ],
 "metadata": {
  "kernelspec": {
   "display_name": "Python [conda env:pangeo]",
   "language": "python",
   "name": "conda-env-pangeo-py"
  },
  "language_info": {
   "codemirror_mode": {
    "name": "ipython",
    "version": 3
   },
   "file_extension": ".py",
   "mimetype": "text/x-python",
   "name": "python",
   "nbconvert_exporter": "python",
   "pygments_lexer": "ipython3",
   "version": "3.8.10"
  }
 },
 "nbformat": 4,
 "nbformat_minor": 5
}
