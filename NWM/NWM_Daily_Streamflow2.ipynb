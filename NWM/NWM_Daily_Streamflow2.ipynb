{
 "cells": [
  {
   "cell_type": "code",
   "execution_count": null,
   "id": "791ee8d8",
   "metadata": {},
   "outputs": [],
   "source": [
    "import fsspec\n",
    "import dask.distributed"
   ]
  },
  {
   "cell_type": "code",
   "execution_count": null,
   "id": "a4b397b9",
   "metadata": {},
   "outputs": [],
   "source": [
    "import xarray as xr\n",
    "import fsspec"
   ]
  },
  {
   "cell_type": "code",
   "execution_count": null,
   "id": "9500da90",
   "metadata": {},
   "outputs": [],
   "source": [
    "import os\n",
    "import sys\n",
    "sys.path.append(os.path.join(os.environ['HOME'],'shared','users','lib'))\n",
    "import ebdpy as ebd\n",
    "\n",
    "?ebd.start_dask_cluster"
   ]
  },
  {
   "cell_type": "code",
   "execution_count": null,
   "id": "fc46d67c",
   "metadata": {},
   "outputs": [],
   "source": [
    "ebd.set_credentials(profile='esip-qhub')"
   ]
  },
  {
   "cell_type": "code",
   "execution_count": null,
   "id": "42c1982d",
   "metadata": {},
   "outputs": [],
   "source": [
    "profile = 'esip-qhub'\n",
    "region = 'us-west-2'\n",
    "endpoint = f's3.{region}.amazonaws.com'\n",
    "ebd.set_credentials(profile=profile, region=region, endpoint=endpoint)\n",
    "worker_max = 10\n",
    "client,cluster = ebd.start_dask_cluster(profile=profile,worker_max=worker_max, \n",
    "                                      region=region, use_existing_cluster=True,\n",
    "                                      adaptive_scaling=False, wait_for_cluster=False, \n",
    "                                      environment='pangeo', worker_profile='Pangeo Worker', propagate_env=True)"
   ]
  },
  {
   "cell_type": "code",
   "execution_count": null,
   "id": "5fd628de",
   "metadata": {},
   "outputs": [],
   "source": [
    "url = 's3://noaa-nwm-retro-v2-zarr-pds'"
   ]
  },
  {
   "cell_type": "code",
   "execution_count": null,
   "id": "a2f8bb9b",
   "metadata": {},
   "outputs": [],
   "source": [
    "fs1 = fsspec.filesystem('s3', anon=True)\n",
    "fs2 = fsspec.filesystem('s3', anon=False)"
   ]
  },
  {
   "cell_type": "code",
   "execution_count": null,
   "id": "90e3481e",
   "metadata": {},
   "outputs": [],
   "source": [
    "fs2.ls('s3://esip-qhub/noaa/NWM2')"
   ]
  },
  {
   "cell_type": "code",
   "execution_count": null,
   "id": "d4b5d420",
   "metadata": {},
   "outputs": [],
   "source": [
    "%%time\n",
    "ds = xr.open_zarr(fs1.get_mapper(url), consolidated=True)"
   ]
  },
  {
   "cell_type": "code",
   "execution_count": null,
   "id": "8e9072d8",
   "metadata": {},
   "outputs": [],
   "source": [
    "cluster"
   ]
  },
  {
   "cell_type": "code",
   "execution_count": null,
   "id": "54e79171",
   "metadata": {},
   "outputs": [],
   "source": [
    "ds.streamflow"
   ]
  },
  {
   "cell_type": "code",
   "execution_count": null,
   "id": "a47b0ab0",
   "metadata": {},
   "outputs": [],
   "source": [
    "ds2 = ds[['streamflow']].isel(time=slice(0,672),feature_id=slice(0,90000))"
   ]
  },
  {
   "cell_type": "code",
   "execution_count": null,
   "id": "d35c61af",
   "metadata": {},
   "outputs": [],
   "source": [
    "ds2 = ds[['streamflow']].isel(time=slice(0,672))"
   ]
  },
  {
   "cell_type": "code",
   "execution_count": null,
   "id": "84a7a1b9",
   "metadata": {},
   "outputs": [],
   "source": [
    "ds2.nbytes/1e6"
   ]
  },
  {
   "cell_type": "code",
   "execution_count": null,
   "id": "6261a215",
   "metadata": {},
   "outputs": [],
   "source": [
    "%%time\n",
    "daily_mean = ds2.resample(time='D').mean().compute()"
   ]
  },
  {
   "cell_type": "code",
   "execution_count": null,
   "id": "15feb6d2",
   "metadata": {},
   "outputs": [],
   "source": [
    "%%time\n",
    "ds2.coarsen(time=24).mean().compute()"
   ]
  },
  {
   "cell_type": "code",
   "execution_count": null,
   "id": "5abf1132",
   "metadata": {},
   "outputs": [],
   "source": [
    "daily_mean.streamflow"
   ]
  },
  {
   "cell_type": "code",
   "execution_count": null,
   "id": "e8bf7d6d",
   "metadata": {},
   "outputs": [],
   "source": []
  },
  {
   "cell_type": "code",
   "execution_count": null,
   "id": "b90b7eb9",
   "metadata": {},
   "outputs": [],
   "source": [
    "import numpy as np\n",
    "np.reshape(ds2.streamflow,(24, 672//24, 2729077)).mean(dim=0)"
   ]
  },
  {
   "cell_type": "code",
   "execution_count": null,
   "id": "1697093c",
   "metadata": {},
   "outputs": [],
   "source": [
    "daily_mean.streamflow"
   ]
  },
  {
   "cell_type": "code",
   "execution_count": null,
   "id": "7b1a4584",
   "metadata": {},
   "outputs": [],
   "source": [
    "store_url = f's3://esip-qhub/noaa/NWM2/zarr/daily'\n",
    "store = fs2.get_mapper(store_url)"
   ]
  },
  {
   "cell_type": "code",
   "execution_count": null,
   "id": "2ea92d0f",
   "metadata": {},
   "outputs": [],
   "source": [
    "daily_mean = daily_mean.chunk({'time':31})"
   ]
  },
  {
   "cell_type": "code",
   "execution_count": null,
   "id": "dc9625c4",
   "metadata": {},
   "outputs": [],
   "source": [
    "daily_mean.streamflow"
   ]
  },
  {
   "cell_type": "code",
   "execution_count": null,
   "id": "e7e68739",
   "metadata": {},
   "outputs": [],
   "source": [
    "def delete_s3(url):\n",
    "    fs1 = fsspec.open(url, anon=False).fs\n",
    "    if fs1.exists(url):\n",
    "        fs1.rm(url, recursive=True)"
   ]
  },
  {
   "cell_type": "code",
   "execution_count": null,
   "id": "513e4bf7",
   "metadata": {},
   "outputs": [],
   "source": [
    "delete_s3(store_url)"
   ]
  },
  {
   "cell_type": "code",
   "execution_count": null,
   "id": "c0ac53e3",
   "metadata": {},
   "outputs": [],
   "source": [
    "%%time\n",
    "a = daily_mean.to_zarr(store, compute=False, mode='w', consolidated=True)"
   ]
  },
  {
   "cell_type": "code",
   "execution_count": null,
   "id": "ca093f24",
   "metadata": {},
   "outputs": [],
   "source": [
    "%%time\n",
    "dask.compute(a, retries=10)"
   ]
  },
  {
   "cell_type": "code",
   "execution_count": null,
   "id": "ff44992f",
   "metadata": {},
   "outputs": [],
   "source": [
    "fs2.ls(f'{store_url}/streamflow')"
   ]
  },
  {
   "cell_type": "code",
   "execution_count": null,
   "id": "1d39332a",
   "metadata": {},
   "outputs": [],
   "source": [
    "ds3 = xr.open_zarr(store)"
   ]
  },
  {
   "cell_type": "code",
   "execution_count": null,
   "id": "396e19dc",
   "metadata": {},
   "outputs": [],
   "source": [
    "client.close(); cluster.shutdown()"
   ]
  },
  {
   "cell_type": "code",
   "execution_count": null,
   "id": "344ee827",
   "metadata": {},
   "outputs": [],
   "source": []
  }
 ],
 "metadata": {
  "kernelspec": {
   "display_name": "Python [conda env:pangeo]",
   "language": "python",
   "name": "conda-env-pangeo-py"
  },
  "language_info": {
   "codemirror_mode": {
    "name": "ipython",
    "version": 3
   },
   "file_extension": ".py",
   "mimetype": "text/x-python",
   "name": "python",
   "nbconvert_exporter": "python",
   "pygments_lexer": "ipython3",
   "version": "3.8.8"
  }
 },
 "nbformat": 4,
 "nbformat_minor": 5
}
