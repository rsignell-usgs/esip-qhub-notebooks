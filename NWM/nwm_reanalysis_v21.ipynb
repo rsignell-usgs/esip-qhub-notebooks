{
 "cells": [
  {
   "cell_type": "markdown",
   "id": "55f270b9-45d9-4e56-8bd2-af960666b6d8",
   "metadata": {},
   "source": [
    "#### Exploring the NWM 2.1 Reanalysis NetCDF files on AWS"
   ]
  },
  {
   "cell_type": "code",
   "execution_count": null,
   "id": "8877d3de-72a8-462c-898a-c6a278e5915d",
   "metadata": {},
   "outputs": [],
   "source": [
    "import fsspec\n",
    "import xarray as xr"
   ]
  },
  {
   "cell_type": "code",
   "execution_count": null,
   "id": "ded92c18-b9bd-4df7-ac81-fdab123df4d7",
   "metadata": {},
   "outputs": [],
   "source": [
    "fs = fsspec.filesystem('s3', anon=True)"
   ]
  },
  {
   "cell_type": "code",
   "execution_count": null,
   "id": "64a703dd-a89a-4e9b-9426-ee8a2b36d575",
   "metadata": {},
   "outputs": [],
   "source": [
    "fs.ls('noaa-nwm-retrospective-2-1-pds/model_output/1979/')[:5]"
   ]
  },
  {
   "cell_type": "code",
   "execution_count": null,
   "id": "54702f51-d441-4bf4-a544-b1b4a756326d",
   "metadata": {},
   "outputs": [],
   "source": [
    "fs.ls('noaa-nwm-retrospective-2-1-pds/model_output/2020/')[-5:]"
   ]
  },
  {
   "cell_type": "code",
   "execution_count": null,
   "id": "b2e7853a-5ff4-478c-8149-922333ee7073",
   "metadata": {},
   "outputs": [],
   "source": [
    "import pandas as pd"
   ]
  },
  {
   "cell_type": "code",
   "execution_count": null,
   "id": "1374cfb1-4fa8-469f-9ae3-66bef85fcfe9",
   "metadata": {},
   "outputs": [],
   "source": []
  },
  {
   "cell_type": "code",
   "execution_count": null,
   "id": "a8dd77be-1256-4e2d-ba0e-c4b1e7021ac3",
   "metadata": {},
   "outputs": [],
   "source": [
    "url = 's3://noaa-nwm-retrospective-2-1-pds/model_output/2020/202001011100.CHRTOUT_DOMAIN1.comp'"
   ]
  },
  {
   "cell_type": "code",
   "execution_count": null,
   "id": "849d90b5-0208-4594-9f31-3b03154636c6",
   "metadata": {},
   "outputs": [],
   "source": []
  },
  {
   "cell_type": "code",
   "execution_count": null,
   "id": "53ec9b95-5145-4622-8fa3-1697a21f4ad5",
   "metadata": {},
   "outputs": [],
   "source": [
    "ds = xr.open_dataset(fs.open(url), drop_variables='reference_time', chunks={})"
   ]
  },
  {
   "cell_type": "code",
   "execution_count": null,
   "id": "02ac0fc5-e2d7-4bac-ab1e-60dfcfc85a3a",
   "metadata": {},
   "outputs": [],
   "source": [
    "ds.streamflow"
   ]
  },
  {
   "cell_type": "code",
   "execution_count": null,
   "id": "47012821-198e-4d2d-8df9-02243f70b96d",
   "metadata": {},
   "outputs": [],
   "source": [
    "ds.streamflow.encoding"
   ]
  },
  {
   "cell_type": "markdown",
   "id": "a920884f-b5e0-4f42-9518-062c6603571c",
   "metadata": {},
   "source": [
    "#### How many files are there?"
   ]
  },
  {
   "cell_type": "code",
   "execution_count": null,
   "id": "46708b44-a3d0-4a18-a121-f53876f2e84a",
   "metadata": {},
   "outputs": [],
   "source": [
    "import pandas as pd\n",
    "dates = pd.date_range(start='1979-02-01 01:00',end='2020-12-31 23:00', freq='1h')"
   ]
  },
  {
   "cell_type": "code",
   "execution_count": null,
   "id": "9cea4877-48c7-4677-8074-c09ed049e18e",
   "metadata": {},
   "outputs": [],
   "source": [
    "len(dates)"
   ]
  }
 ],
 "metadata": {
  "kernelspec": {
   "display_name": "Python [conda env:pangeo]",
   "language": "python",
   "name": "conda-env-pangeo-py"
  },
  "language_info": {
   "codemirror_mode": {
    "name": "ipython",
    "version": 3
   },
   "file_extension": ".py",
   "mimetype": "text/x-python",
   "name": "python",
   "nbconvert_exporter": "python",
   "pygments_lexer": "ipython3",
   "version": "3.8.10"
  }
 },
 "nbformat": 4,
 "nbformat_minor": 5
}
