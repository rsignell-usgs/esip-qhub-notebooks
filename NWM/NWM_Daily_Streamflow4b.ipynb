{
 "cells": [
  {
   "cell_type": "markdown",
   "id": "d43d9b61",
   "metadata": {},
   "source": [
    "# Read hourly data, write daily data"
   ]
  },
  {
   "cell_type": "code",
   "execution_count": null,
   "id": "3d42585f",
   "metadata": {},
   "outputs": [],
   "source": [
    "import xarray as xr\n",
    "import dask.distributed\n",
    "from dask.distributed import Client\n",
    "import fsspec"
   ]
  },
  {
   "cell_type": "code",
   "execution_count": null,
   "id": "ee63f891",
   "metadata": {},
   "outputs": [],
   "source": [
    "import os\n",
    "import sys\n",
    "sys.path.append(os.path.join(os.environ['HOME'],'shared','users','lib'))\n",
    "import ebdpy as ebd\n",
    "\n",
    "ebd.set_credentials(profile='esip-qhub')\n",
    "\n",
    "profile = 'esip-qhub'\n",
    "region = 'us-west-2'\n",
    "endpoint = f's3.{region}.amazonaws.com'\n",
    "ebd.set_credentials(profile=profile, region=region, endpoint=endpoint)\n",
    "worker_max = 10\n",
    "client,cluster = ebd.start_dask_cluster(profile=profile,worker_max=worker_max, \n",
    "                                      region=region, use_existing_cluster=True,\n",
    "                                      adaptive_scaling=False, wait_for_cluster=False, \n",
    "                                      environment='pangeo', worker_profile='Pangeo Worker', propagate_env=True)"
   ]
  },
  {
   "cell_type": "code",
   "execution_count": null,
   "id": "82d41a23",
   "metadata": {},
   "outputs": [],
   "source": [
    "client"
   ]
  },
  {
   "cell_type": "code",
   "execution_count": null,
   "id": "4b579fc3",
   "metadata": {},
   "outputs": [],
   "source": [
    "fs1 = fsspec.filesystem('s3', anon=True)\n",
    "read_url = 's3://noaa-nwm-retro-v2-zarr-pds'\n",
    "read_mapper = fs1.get_mapper(read_url)"
   ]
  },
  {
   "cell_type": "code",
   "execution_count": null,
   "id": "3eabd4bf",
   "metadata": {},
   "outputs": [],
   "source": [
    "fs2 = fsspec.filesystem('s3', anon=False, profile='esip-qhub')\n",
    "write_url = 's3://esip-qhub/usgs/rsignell/zarr/zarr_daily'\n",
    "write_mapper = fs2.get_mapper(write_url)"
   ]
  },
  {
   "cell_type": "code",
   "execution_count": null,
   "id": "692c9532",
   "metadata": {},
   "outputs": [],
   "source": [
    "%%time\n",
    "ds = xr.open_zarr(read_mapper, consolidated=True)"
   ]
  },
  {
   "cell_type": "code",
   "execution_count": null,
   "id": "f42da31f",
   "metadata": {},
   "outputs": [],
   "source": [
    "ds.streamflow"
   ]
  },
  {
   "cell_type": "code",
   "execution_count": null,
   "id": "0016a6d8",
   "metadata": {},
   "outputs": [],
   "source": [
    "ds2 = ds[['streamflow']].isel(time=slice(0,672), feature_id=slice(0,30000*90))"
   ]
  },
  {
   "cell_type": "code",
   "execution_count": null,
   "id": "751fc91c",
   "metadata": {},
   "outputs": [],
   "source": [
    "def daily_mean(da):\n",
    "    return da.coarsen(time=24).mean()"
   ]
  },
  {
   "cell_type": "code",
   "execution_count": null,
   "id": "84bf096c",
   "metadata": {},
   "outputs": [],
   "source": [
    "%%time\n",
    "ds2.streamflow.unify_chunks().map_blocks(daily_mean, \n",
    "                                         template=ds2.streamflow.coarsen(time=24).mean()).compute()"
   ]
  },
  {
   "cell_type": "code",
   "execution_count": null,
   "id": "e0732e2a",
   "metadata": {},
   "outputs": [],
   "source": [
    "%%time\n",
    "daily_mean = ds2.resample(time='D').mean().compute()"
   ]
  },
  {
   "cell_type": "code",
   "execution_count": null,
   "id": "8f1fad88",
   "metadata": {},
   "outputs": [],
   "source": [
    "client"
   ]
  },
  {
   "cell_type": "code",
   "execution_count": null,
   "id": "aab7351f",
   "metadata": {},
   "outputs": [],
   "source": [
    "ds2.streamflow"
   ]
  },
  {
   "cell_type": "code",
   "execution_count": null,
   "id": "b4774498",
   "metadata": {},
   "outputs": [],
   "source": [
    "def delete_s3(fs, url):\n",
    "    fs1 = fs.open(url, anon=False).fs\n",
    "    if fs1.exists(url):\n",
    "        fs1.rm(url, recursive=True)"
   ]
  },
  {
   "cell_type": "code",
   "execution_count": null,
   "id": "c9e3f509",
   "metadata": {},
   "outputs": [],
   "source": [
    "delete_s3(fs2, write_url)"
   ]
  },
  {
   "cell_type": "code",
   "execution_count": null,
   "id": "2fd74cf8",
   "metadata": {},
   "outputs": [],
   "source": [
    "%%time\n",
    "#a = daily_mean[['streamflow']].to_zarr(write_mapper, compute=False, mode='w', consolidated=True)"
   ]
  },
  {
   "cell_type": "code",
   "execution_count": null,
   "id": "8d7760fe",
   "metadata": {},
   "outputs": [],
   "source": [
    "da = ds2.streamflow"
   ]
  },
  {
   "cell_type": "code",
   "execution_count": null,
   "id": "bf88fac8",
   "metadata": {},
   "outputs": [],
   "source": [
    "da"
   ]
  },
  {
   "cell_type": "code",
   "execution_count": null,
   "id": "aee99c47",
   "metadata": {},
   "outputs": [],
   "source": [
    "%%time\n",
    "def func(block):\n",
    "    template = block.isel(time=slice(0, -1, 24))\n",
    "    data = block.data.reshape(672 // 24, 24, 30000).mean(axis=1)\n",
    "    output = template.copy(data=data)\n",
    "    return output\n",
    "\n",
    "#b = ds2.unify_chunks().map_blocks(func, template=ds2.unify_chunks().isel(time=slice(0, -1, 24)))"
   ]
  },
  {
   "cell_type": "code",
   "execution_count": null,
   "id": "6d0be546",
   "metadata": {},
   "outputs": [],
   "source": [
    "%%time\n",
    "def func2(block):\n",
    "    return block.data.reshape(672 // 24, 24, 30000).mean(axis=1)"
   ]
  },
  {
   "cell_type": "code",
   "execution_count": null,
   "id": "cc2e9eba",
   "metadata": {},
   "outputs": [],
   "source": [
    "da = ds2.streamflow"
   ]
  },
  {
   "cell_type": "code",
   "execution_count": null,
   "id": "b9df09b8",
   "metadata": {},
   "outputs": [],
   "source": [
    "%%time\n",
    "b = da.unify_chunks().map_blocks(func, template=da.unify_chunks().isel(time=slice(0, -1, 24)))"
   ]
  },
  {
   "cell_type": "code",
   "execution_count": null,
   "id": "5133dc0c",
   "metadata": {},
   "outputs": [],
   "source": [
    "%%time \n",
    "b = ds2.unify_chunks().map_blocks(func2, template=ds2.unify_chunks().isel(time=slice(0, -1, 24)))"
   ]
  },
  {
   "cell_type": "code",
   "execution_count": null,
   "id": "0403c136",
   "metadata": {},
   "outputs": [],
   "source": [
    "%%time\n",
    "b.compute()"
   ]
  },
  {
   "cell_type": "code",
   "execution_count": null,
   "id": "a03ecfe4",
   "metadata": {},
   "outputs": [],
   "source": [
    "ds2.latitude.encoding['chunks'] = (30000,)\n",
    "ds2.longitude.encoding['chunks'] = (30000,)\n",
    "ds2.feature_id.encoding['chunks'] = (30000,)"
   ]
  },
  {
   "cell_type": "code",
   "execution_count": null,
   "id": "548f7940",
   "metadata": {},
   "outputs": [],
   "source": [
    "%%time\n",
    "c = b.to_zarr(write_mapper, compute=False, mode='w', consolidated=True)"
   ]
  },
  {
   "cell_type": "code",
   "execution_count": null,
   "id": "9031927b",
   "metadata": {},
   "outputs": [],
   "source": [
    "%%time\n",
    "from dask.distributed import performance_report\n",
    "\n",
    "with performance_report(filename=\"dask-report.html\"):\n",
    "    dask.compute(c, retries=10)"
   ]
  },
  {
   "cell_type": "code",
   "execution_count": null,
   "id": "d2b45462",
   "metadata": {},
   "outputs": [],
   "source": [
    "client.close(); cluster.shutdown()"
   ]
  },
  {
   "cell_type": "code",
   "execution_count": null,
   "id": "35f4d829",
   "metadata": {},
   "outputs": [],
   "source": []
  }
 ],
 "metadata": {
  "kernelspec": {
   "display_name": "Python [conda env:pangeo]",
   "language": "python",
   "name": "conda-env-pangeo-py"
  },
  "language_info": {
   "codemirror_mode": {
    "name": "ipython",
    "version": 3
   },
   "file_extension": ".py",
   "mimetype": "text/x-python",
   "name": "python",
   "nbconvert_exporter": "python",
   "pygments_lexer": "ipython3",
   "version": "3.8.8"
  }
 },
 "nbformat": 4,
 "nbformat_minor": 5
}
