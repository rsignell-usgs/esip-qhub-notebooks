{
 "cells": [
  {
   "cell_type": "markdown",
   "id": "5b86af71-052b-4081-844b-779db459068d",
   "metadata": {},
   "source": [
    "# NWM ReferenceFileSystem JSON \n",
    "Create ReferenceFileSystem JSON file for a collection of NWM NetCDF files on S3 "
   ]
  },
  {
   "cell_type": "code",
   "execution_count": null,
   "id": "410d471e-ba88-4473-a7fb-9943e81ad98a",
   "metadata": {},
   "outputs": [],
   "source": [
    "# this PR uses only the first two files to figure things out\n",
    "# !pip install git+https://github.com/martindurant/fsspec-reference-maker@self_combine"
   ]
  },
  {
   "cell_type": "code",
   "execution_count": null,
   "id": "3b6ba617-9772-4ecf-aa7a-2be2a4bcfa1d",
   "metadata": {},
   "outputs": [],
   "source": [
    "import os\n",
    "import fsspec\n",
    "import ujson   # fast json\n",
    "from fsspec_reference_maker.hdf import SingleHdf5ToZarr \n",
    "from fsspec_reference_maker.combine import MultiZarrToZarr\n",
    "import xarray as xr\n",
    "import dask\n",
    "import hvplot.xarray"
   ]
  },
  {
   "cell_type": "code",
   "execution_count": null,
   "id": "2ca8376d-eb93-4d39-8873-e76b16526b72",
   "metadata": {},
   "outputs": [],
   "source": [
    "import fsspec_reference_maker\n",
    "print(fsspec_reference_maker.__version__)"
   ]
  },
  {
   "cell_type": "code",
   "execution_count": null,
   "id": "1bd61788-a744-4197-ae71-03347ce1f4c3",
   "metadata": {},
   "outputs": [],
   "source": [
    "fs = fsspec.filesystem('s3', anon=True)"
   ]
  },
  {
   "cell_type": "markdown",
   "id": "6fda3586-b1a2-4af0-8695-1f73732ba622",
   "metadata": {},
   "source": [
    "#### Look at the first few files"
   ]
  },
  {
   "cell_type": "code",
   "execution_count": null,
   "id": "10a3dc55-77cd-47cb-a5a4-9ea7985388b1",
   "metadata": {},
   "outputs": [],
   "source": [
    "fs.ls('noaa-nwm-retrospective-2-1-pds/model_output/1979/')[:5]"
   ]
  },
  {
   "cell_type": "markdown",
   "id": "5a7e540f-8c94-4991-824d-242b6697b0f4",
   "metadata": {},
   "source": [
    "#### Look at the last few files"
   ]
  },
  {
   "cell_type": "code",
   "execution_count": null,
   "id": "75160414-374d-4ef8-8d99-7f2fdac45187",
   "metadata": {},
   "outputs": [],
   "source": [
    "fs.ls('noaa-nwm-retrospective-2-1-pds/model_output/2020/')[-5:]"
   ]
  },
  {
   "cell_type": "markdown",
   "id": "2a55e904-53df-4dbe-91ce-18fa3531cb38",
   "metadata": {},
   "source": [
    "#### Use the first and last file to create the list of dates"
   ]
  },
  {
   "cell_type": "code",
   "execution_count": null,
   "id": "6f16cdb3-bdf7-4fa1-9de7-23ea33377b60",
   "metadata": {},
   "outputs": [],
   "source": [
    "import pandas as pd\n",
    "dates = pd.date_range(start='1979-02-01 01:00',end='2020-12-31 23:00', freq='1h')"
   ]
  },
  {
   "cell_type": "code",
   "execution_count": null,
   "id": "c880b49c-3533-441c-90bd-7f35151b6425",
   "metadata": {},
   "outputs": [],
   "source": [
    "len(dates)"
   ]
  },
  {
   "cell_type": "code",
   "execution_count": null,
   "id": "2d809bcf-6c18-4b77-9edc-70f88f40d5d2",
   "metadata": {},
   "outputs": [],
   "source": [
    "def date2cfile(date):\n",
    "# Create S3 URL from date\n",
    "    yyyymmddhh = date.strftime('%Y%m%d%H')\n",
    "    yyyy = date.strftime('%Y')\n",
    "    cfile = f's3://noaa-nwm-retrospective-2-1-pds/model_output/{yyyy}/{yyyymmddhh}00.CHRTOUT_DOMAIN1.comp'\n",
    "    return cfile"
   ]
  },
  {
   "cell_type": "markdown",
   "id": "75bdd9d4-4897-42ad-aa75-4f88a5d0a8d1",
   "metadata": {},
   "source": [
    "We need to include the \"s3://\" prefix to the list of files so that fsspec will recognize that these JSON files are on S3:"
   ]
  },
  {
   "cell_type": "code",
   "execution_count": null,
   "id": "2f9e323a-146b-4190-a487-8fae2758d1ff",
   "metadata": {},
   "outputs": [],
   "source": [
    "urls = [date2cfile(date) for date in dates]\n",
    "\n",
    "so = dict(mode='rb', anon=True, default_fill_cache=False, default_cache_type='first')"
   ]
  },
  {
   "cell_type": "code",
   "execution_count": null,
   "id": "de9bd595-4cfa-4282-b1a1-83b807bf619d",
   "metadata": {},
   "outputs": [],
   "source": [
    "print(urls[0])\n",
    "print(urls[-1])"
   ]
  },
  {
   "cell_type": "markdown",
   "id": "647ccdf0-e72c-45c8-8ae5-1ac27c711ab5",
   "metadata": {},
   "source": [
    "#### Start a Dask Gateway cluster"
   ]
  },
  {
   "cell_type": "code",
   "execution_count": null,
   "id": "7c69bd02-0fcc-4302-b5c6-1b52278768ca",
   "metadata": {},
   "outputs": [],
   "source": [
    "import os\n",
    "import sys\n",
    "sys.path.append(os.path.join(os.environ['HOME'],'shared','users','lib'))\n",
    "import ebdpy as ebd\n",
    "\n",
    "ebd.set_credentials(profile='esip-qhub')\n",
    "\n",
    "profile = 'esip-qhub'\n",
    "region = 'us-west-2'\n",
    "endpoint = f's3.{region}.amazonaws.com'\n",
    "ebd.set_credentials(profile=profile, region=region, endpoint=endpoint)\n",
    "worker_max = 30\n",
    "client,cluster = ebd.start_dask_cluster(profile=profile,worker_max=worker_max, \n",
    "                                      region=region, use_existing_cluster=True,\n",
    "                                      adaptive_scaling=False, wait_for_cluster=False, \n",
    "                                      environment='pangeo', worker_profile='Pangeo Worker', \n",
    "                                      propagate_env=True)"
   ]
  },
  {
   "cell_type": "markdown",
   "id": "7c61c32d-f953-43d7-88e6-85b4719349c7",
   "metadata": {},
   "source": [
    "#### Create the individual JSON files directly on S3 "
   ]
  },
  {
   "cell_type": "markdown",
   "id": "c31b04da-7f25-4630-b89d-7074aaa5f7bd",
   "metadata": {},
   "source": [
    "We passed AWS credentials to the Dask workers via environment variables above, and the dask workers don't have the AWS credentials file with profiles defined, so we don't define a profile here, we just set `anon=False` and let the workers find the credentials via the environment variables:"
   ]
  },
  {
   "cell_type": "code",
   "execution_count": null,
   "id": "386bf413-1ccc-4ba1-80de-0174686eee59",
   "metadata": {},
   "outputs": [],
   "source": [
    "fs2 = fsspec.filesystem('s3', anon=False)  "
   ]
  },
  {
   "cell_type": "markdown",
   "id": "6594cb06-41ee-411e-9240-e627abfc3d99",
   "metadata": {},
   "source": [
    "If the directory exists, remove it (and all the files)"
   ]
  },
  {
   "cell_type": "code",
   "execution_count": null,
   "id": "cebc056b-f2a2-478e-b368-66f015b2d830",
   "metadata": {},
   "outputs": [],
   "source": [
    "json_dir = 's3://esip-qhub/usgs/nwm_reanalysis_v21/jsons/'"
   ]
  },
  {
   "cell_type": "code",
   "execution_count": null,
   "id": "ad2da69d-950a-44ff-a69b-5182d1119cd0",
   "metadata": {},
   "outputs": [],
   "source": [
    "try:\n",
    "    fs2.rm(json_dir, recursive=True)\n",
    "except:\n",
    "    pass"
   ]
  },
  {
   "cell_type": "code",
   "execution_count": null,
   "id": "8140a165-7c8a-417e-82f2-70add8984f01",
   "metadata": {},
   "outputs": [],
   "source": [
    "urls[0].split('/')[-1]"
   ]
  },
  {
   "cell_type": "code",
   "execution_count": null,
   "id": "a2aea4a0-c3f2-4811-bc9d-1f9c31177fce",
   "metadata": {},
   "outputs": [],
   "source": [
    "def gen_json(u):\n",
    "    with fs.open(u, **so) as infile:\n",
    "        h5chunks = SingleHdf5ToZarr(infile, u, inline_threshold=300)\n",
    "        p = u.split('/')\n",
    "        fname = p[-1]\n",
    "        outf = f'{json_dir}{fname}.json'\n",
    "        print(outf)\n",
    "        with fs2.open(outf, 'wb') as f:\n",
    "            f.write(ujson.dumps(h5chunks.translate()).encode());"
   ]
  },
  {
   "cell_type": "markdown",
   "id": "d101115f-cc9f-40a1-85ca-788e298817f1",
   "metadata": {},
   "source": [
    "#### Parallel creation of JSON for each file using Dask Bag"
   ]
  },
  {
   "cell_type": "code",
   "execution_count": null,
   "id": "af100f42-7e71-46d1-8c3b-2b66887a3cf8",
   "metadata": {},
   "outputs": [],
   "source": [
    "import dask.bag as db"
   ]
  },
  {
   "cell_type": "code",
   "execution_count": null,
   "id": "8f6470e0-5643-41c5-80a0-9ce5d14b1401",
   "metadata": {},
   "outputs": [],
   "source": [
    "%time b = db.from_sequence(urls, npartitions=900)"
   ]
  },
  {
   "cell_type": "code",
   "execution_count": null,
   "id": "57737051-8f3f-4a26-9dd5-db1bfe7c9611",
   "metadata": {},
   "outputs": [],
   "source": [
    "b1 = b.map(gen_json)"
   ]
  },
  {
   "cell_type": "code",
   "execution_count": null,
   "id": "9bf94db6-35cb-4fbb-a595-d03f7468893e",
   "metadata": {},
   "outputs": [],
   "source": [
    "%%time\n",
    "from dask.distributed import performance_report\n",
    "with performance_report(filename=\"dask-report-whole.html\"):\n",
    "    b1.compute(retries=10)"
   ]
  },
  {
   "cell_type": "code",
   "execution_count": null,
   "id": "092afc44-f1fc-400d-9f81-6dd5abf97832",
   "metadata": {},
   "outputs": [],
   "source": [
    "client"
   ]
  },
  {
   "cell_type": "markdown",
   "id": "88e4913f-a622-4374-8824-b090a57e52ac",
   "metadata": {},
   "source": [
    "#### Parallel creation of JSONS for each file using Dask Delayed (Deprecated): \n",
    "(we tried this before Dask Bag)"
   ]
  },
  {
   "cell_type": "code",
   "execution_count": null,
   "id": "6963f4d6-af10-4a2b-8e26-e9bbd903b33e",
   "metadata": {},
   "outputs": [],
   "source": [
    "#%%time\n",
    "# _ = dask.compute(*[dask.delayed(gen_json)(u) for u in urls[:1000]], retries=10);"
   ]
  },
  {
   "cell_type": "code",
   "execution_count": null,
   "id": "f18a43ed-1b7c-400e-83d0-b02cfec782ad",
   "metadata": {},
   "outputs": [],
   "source": []
  },
  {
   "cell_type": "code",
   "execution_count": null,
   "id": "8725254f-eea3-4191-a2d6-8fa495e3ee2e",
   "metadata": {},
   "outputs": [],
   "source": [
    "%%time\n",
    "flist2 = fs2.ls(json_dir)\n",
    "furls = sorted(['s3://'+f for f in flist2])\n",
    "furls[0]"
   ]
  },
  {
   "cell_type": "code",
   "execution_count": null,
   "id": "30a0b621-4cc7-4355-8401-239a819c970e",
   "metadata": {},
   "outputs": [],
   "source": [
    "len(furls)"
   ]
  },
  {
   "cell_type": "markdown",
   "id": "f74326ef-2a8e-4515-9acc-f2b526fc367a",
   "metadata": {},
   "source": [
    "#### Switch to a Dask LocalCluster\n",
    "Since MultiZarrtoZarr only writes local files, we close the client and create a local cluster instead"
   ]
  },
  {
   "cell_type": "code",
   "execution_count": null,
   "id": "b9a0735c-833e-4ebc-9462-1ab8c3705833",
   "metadata": {},
   "outputs": [],
   "source": [
    "client.close()"
   ]
  },
  {
   "cell_type": "code",
   "execution_count": null,
   "id": "a8cd0ef0-44c5-444d-993d-946959f2203f",
   "metadata": {},
   "outputs": [],
   "source": [
    "from dask.distributed import Client"
   ]
  },
  {
   "cell_type": "code",
   "execution_count": null,
   "id": "f199de5d-3024-475b-951e-c380e758de3f",
   "metadata": {},
   "outputs": [],
   "source": [
    "client = Client(n_workers=1)"
   ]
  },
  {
   "cell_type": "code",
   "execution_count": null,
   "id": "997b7190-8429-40da-8be0-8b2fe606e4af",
   "metadata": {},
   "outputs": [],
   "source": [
    "client"
   ]
  },
  {
   "cell_type": "code",
   "execution_count": null,
   "id": "52c9ddc4-1433-4613-b450-0fbd2fcc9d34",
   "metadata": {},
   "outputs": [],
   "source": [
    "mzz = MultiZarrToZarr(furls, \n",
    "    storage_options={'anon':False}, \n",
    "    remote_protocol='s3',\n",
    "    remote_options={'anon' : 'True'},   #JSON files  \n",
    "    xarray_open_kwargs={\n",
    "        'decode_cf' : False,\n",
    "        'mask_and_scale' : False,\n",
    "        'decode_times' : False,\n",
    "        'use_cftime' : False,\n",
    "        'drop_variables': ['reference_time', 'crs'],\n",
    "        'decode_coords' : False\n",
    "    },\n",
    "    xarray_concat_args={\n",
    "#        \"data_vars\": \"minimal\",\n",
    "#        \"coords\": \"minimal\",\n",
    "#        \"compat\": \"override\",\n",
    "        \"join\": \"override\",\n",
    "        \"combine_attrs\": \"override\",\n",
    "        \"dim\": \"time\"\n",
    "    }\n",
    ")"
   ]
  },
  {
   "cell_type": "code",
   "execution_count": null,
   "id": "a3feea8a-4d63-42f1-a2ff-949a526f8519",
   "metadata": {},
   "outputs": [],
   "source": [
    "%%time\n",
    "#%%prun -D multizarr_profile \n",
    "local_json = 'nwm_reanalysis_v21.json'\n",
    "mzz.translate(local_json)"
   ]
  },
  {
   "cell_type": "markdown",
   "id": "156de761-99ee-4f6f-9754-c19f55599aee",
   "metadata": {},
   "source": [
    "#### Copy the local consolidated JSON file to S3"
   ]
  },
  {
   "cell_type": "code",
   "execution_count": null,
   "id": "99632cfb-c4f4-450b-9aa5-3dc4eb6019b6",
   "metadata": {},
   "outputs": [],
   "source": [
    "rpath = 's3://esip-qhub-public/noaa/nwm/nwm_reanalysis_v21.json'\n",
    "\n",
    "fs2.put_file(lpath=local_json, rpath=rpath)"
   ]
  },
  {
   "cell_type": "markdown",
   "id": "58252a02-7b1e-4f50-a96e-9ea3a180b608",
   "metadata": {},
   "source": [
    "#### Try a single json"
   ]
  },
  {
   "cell_type": "code",
   "execution_count": null,
   "id": "a3065363-5cd8-4907-b726-09f61ab9d1e2",
   "metadata": {},
   "outputs": [],
   "source": [
    "f = fs2.glob(f'{json_dir}1979020101*.json')[0]"
   ]
  },
  {
   "cell_type": "code",
   "execution_count": null,
   "id": "ea173945-fba4-4970-a09f-00bde3fd0f70",
   "metadata": {},
   "outputs": [],
   "source": [
    "s_opts = {'requester_pays':True, 'skip_instance_cache':True}\n",
    "r_opts = {'anon':True}\n",
    "fs = fsspec.filesystem(\"reference\", fo=f's3://{f}', ref_storage_args=s_opts,\n",
    "                       remote_protocol='s3', remote_options=r_opts)\n",
    "m = fs.get_mapper(\"\")\n",
    "ds = xr.open_dataset(m, engine=\"zarr\")"
   ]
  },
  {
   "cell_type": "code",
   "execution_count": null,
   "id": "9ab28d55-712f-464f-aa2b-e20341f20cee",
   "metadata": {},
   "outputs": [],
   "source": [
    "ds = xr.open_dataset(m, engine=\"zarr\", "
   ]
  },
  {
   "cell_type": "code",
   "execution_count": null,
   "id": "d2af24d0-1db8-43d8-b340-ddad77894ec3",
   "metadata": {},
   "outputs": [],
   "source": [
    "ds.streamflow.encoding"
   ]
  },
  {
   "cell_type": "markdown",
   "id": "503a75b0-4577-47d3-9f97-825e83a18776",
   "metadata": {},
   "source": [
    "#### Try opening the consolidated JSON file from S3"
   ]
  },
  {
   "cell_type": "code",
   "execution_count": null,
   "id": "f7f580ce-9168-431b-aa40-733f38ab2f96",
   "metadata": {},
   "outputs": [],
   "source": [
    "s_opts = {'requester_pays':True, 'skip_instance_cache':True}\n",
    "r_opts = {'anon':True}\n",
    "fs = fsspec.filesystem(\"reference\", fo=rpath, ref_storage_args=s_opts,\n",
    "                       remote_protocol='s3', remote_options=r_opts)\n",
    "m = fs.get_mapper(\"\")\n",
    "ds = xr.open_dataset(m, engine=\"zarr\")"
   ]
  },
  {
   "cell_type": "code",
   "execution_count": null,
   "id": "03c9ba4c-b16e-4913-80cf-b77f760cddca",
   "metadata": {},
   "outputs": [],
   "source": []
  },
  {
   "cell_type": "code",
   "execution_count": null,
   "id": "35ad5c39-b466-461d-947a-51ba6c82d36b",
   "metadata": {},
   "outputs": [],
   "source": [
    "%%time\n",
    "ds.streamflow[:,1000].hvplot(x='time', grid=True)"
   ]
  },
  {
   "cell_type": "code",
   "execution_count": null,
   "id": "561f6861-57e0-4926-9078-1fb13d93a6cd",
   "metadata": {},
   "outputs": [],
   "source": [
    "cluster.shutdown(); client.close()"
   ]
  },
  {
   "cell_type": "code",
   "execution_count": null,
   "id": "eba5f065-5925-43af-9abb-b532a4af5c04",
   "metadata": {},
   "outputs": [],
   "source": [
    "s_opts = {'requester_pays':True, 'skip_instance_cache':True}\n",
    "r_opts = {'anon':True}\n",
    "fs = fsspec.filesystem(\"reference\", fo='1000.json', ref_storage_args=s_opts,\n",
    "                       remote_protocol='s3', remote_options=r_opts)\n",
    "m = fs.get_mapper(\"\")\n",
    "ds = xr.open_dataset(m, engine=\"zarr\", chunks={})"
   ]
  },
  {
   "cell_type": "code",
   "execution_count": null,
   "id": "5b5a545e-440e-4334-b566-ad1ce722e92e",
   "metadata": {},
   "outputs": [],
   "source": [
    "ds"
   ]
  },
  {
   "cell_type": "code",
   "execution_count": null,
   "id": "84acd482-3722-4a41-aa6d-026ffb39072c",
   "metadata": {},
   "outputs": [],
   "source": [
    "%%time\n",
    "ds.streamflow[:10,1000].hvplot(x='time')"
   ]
  },
  {
   "cell_type": "code",
   "execution_count": null,
   "id": "2c0e5b55-30e3-4e90-8fab-8217e91c2b69",
   "metadata": {},
   "outputs": [],
   "source": [
    "ds"
   ]
  },
  {
   "cell_type": "code",
   "execution_count": null,
   "id": "6974e4be-9567-4447-b4b9-8137faa7bc1d",
   "metadata": {},
   "outputs": [],
   "source": []
  }
 ],
 "metadata": {
  "kernelspec": {
   "display_name": "Python [conda env:pangeo]",
   "language": "python",
   "name": "conda-env-pangeo-py"
  },
  "language_info": {
   "codemirror_mode": {
    "name": "ipython",
    "version": 3
   },
   "file_extension": ".py",
   "mimetype": "text/x-python",
   "name": "python",
   "nbconvert_exporter": "python",
   "pygments_lexer": "ipython3",
   "version": "3.9.7"
  }
 },
 "nbformat": 4,
 "nbformat_minor": 5
}
