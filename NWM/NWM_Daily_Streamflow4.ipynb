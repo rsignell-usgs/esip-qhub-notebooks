{
 "cells": [
  {
   "cell_type": "markdown",
   "id": "29fe6e43",
   "metadata": {},
   "source": [
    "# Read hourly data, write daily data"
   ]
  },
  {
   "cell_type": "code",
   "execution_count": null,
   "id": "f6ab6a0c",
   "metadata": {},
   "outputs": [],
   "source": [
    "import xarray as xr\n",
    "import dask.distributed\n",
    "from dask.distributed import Client\n",
    "import fsspec"
   ]
  },
  {
   "cell_type": "code",
   "execution_count": null,
   "id": "e8306d70",
   "metadata": {},
   "outputs": [],
   "source": [
    "client = Client()"
   ]
  },
  {
   "cell_type": "code",
   "execution_count": null,
   "id": "3714c537",
   "metadata": {},
   "outputs": [],
   "source": [
    "client"
   ]
  },
  {
   "cell_type": "code",
   "execution_count": null,
   "id": "48e1888d",
   "metadata": {},
   "outputs": [],
   "source": [
    "fs1 = fsspec.filesystem('s3', anon=True)\n",
    "read_url = 's3://noaa-nwm-retro-v2-zarr-pds'\n",
    "read_mapper = fs1.get_mapper(read_url)"
   ]
  },
  {
   "cell_type": "code",
   "execution_count": null,
   "id": "f60ec438",
   "metadata": {},
   "outputs": [],
   "source": [
    "fs2 = fsspec.filesystem('s3', anon=False, profile='esip-qhub')\n",
    "write_url = 's3://esip-qhub/usgs/rsignell/zarr/zarr_daily'\n",
    "write_mapper = fs2.get_mapper(write_url)"
   ]
  },
  {
   "cell_type": "code",
   "execution_count": null,
   "id": "021aab87",
   "metadata": {},
   "outputs": [],
   "source": [
    "%%time\n",
    "ds = xr.open_zarr(read_mapper, consolidated=True)"
   ]
  },
  {
   "cell_type": "code",
   "execution_count": null,
   "id": "ac67f840",
   "metadata": {},
   "outputs": [],
   "source": [
    "ds.streamflow"
   ]
  },
  {
   "cell_type": "code",
   "execution_count": null,
   "id": "bb16dcaa",
   "metadata": {},
   "outputs": [],
   "source": [
    "ds2 = ds.sel(time=slice('2017-01-01','2017-01-07'))"
   ]
  },
  {
   "cell_type": "code",
   "execution_count": null,
   "id": "456c4df9",
   "metadata": {},
   "outputs": [],
   "source": [
    "daily_mean = ds2.resample(time='D').mean()"
   ]
  },
  {
   "cell_type": "code",
   "execution_count": null,
   "id": "d544230d",
   "metadata": {},
   "outputs": [],
   "source": [
    "daily_mean.streamflow"
   ]
  },
  {
   "cell_type": "code",
   "execution_count": null,
   "id": "18c93403",
   "metadata": {},
   "outputs": [],
   "source": [
    "daily_mean.attrs = ds.attrs"
   ]
  },
  {
   "cell_type": "code",
   "execution_count": null,
   "id": "fcae82f3",
   "metadata": {},
   "outputs": [],
   "source": [
    "daily_mean = daily_mean.chunk({'time':672})"
   ]
  },
  {
   "cell_type": "code",
   "execution_count": null,
   "id": "4be1e3a6",
   "metadata": {},
   "outputs": [],
   "source": [
    "daily_mean.streamflow"
   ]
  },
  {
   "cell_type": "code",
   "execution_count": null,
   "id": "6940d34c",
   "metadata": {},
   "outputs": [],
   "source": [
    "def delete_s3(url):\n",
    "    fs1 = fsspec.open(url, anon=False).fs\n",
    "    if fs1.exists(url):\n",
    "        fs1.rm(url, recursive=True)"
   ]
  },
  {
   "cell_type": "code",
   "execution_count": null,
   "id": "695abc94",
   "metadata": {},
   "outputs": [],
   "source": [
    "delete_s3(write_url)"
   ]
  },
  {
   "cell_type": "code",
   "execution_count": null,
   "id": "521fe8d4",
   "metadata": {},
   "outputs": [],
   "source": [
    "%%time\n",
    "a = daily_mean.to_zarr(write_mapper, compute=False, mode='w', consolidated=True)"
   ]
  },
  {
   "cell_type": "code",
   "execution_count": null,
   "id": "17449d18",
   "metadata": {},
   "outputs": [],
   "source": [
    "len(a.dask)"
   ]
  },
  {
   "cell_type": "code",
   "execution_count": null,
   "id": "ac6d68c2",
   "metadata": {},
   "outputs": [],
   "source": [
    "%%time\n",
    "dask.compute(a, retries=10)"
   ]
  },
  {
   "cell_type": "code",
   "execution_count": null,
   "id": "764b516e",
   "metadata": {},
   "outputs": [],
   "source": [
    "def _apply_along_axis(arr, func1d, func1d_axis):\n",
    "    \"\"\"Wrap apply_along_axis\"\"\"\n",
    "    return np.apply_along_axis(func1d, func1d_axis, arr)\n",
    "\n",
    "\n",
    "def apply_along_axis(func1d, axis, arr):\n",
    "    \"\"\"Apply the harmonic analysis to 1-D slices along the given axis.\"\"\"\n",
    "    arr = dask.array.core.asarray(arr)\n",
    "\n",
    "    # Validate and normalize axis.\n",
    "    arr.shape[axis]\n",
    "    axis = len(arr.shape[:axis])\n",
    "\n",
    "    # Test out some data with the function.\n",
    "    test_data = np.ones(args[0].shape[1], dtype=arr.dtype)\n",
    "    test_result = np.array(func1d(test_data))\n",
    "\n",
    "    # Map analyze over the data to get the result\n",
    "    # Adds other axes as needed.\n",
    "    result = arr.map_blocks(\n",
    "        _apply_along_axis,\n",
    "        name=dask.utils.funcname(func1d) + '-along-axis',\n",
    "        dtype=test_result.dtype,\n",
    "        chunks=(arr.chunks[:axis] + test_result.shape + arr.chunks[axis + 1:]),\n",
    "        drop_axis=axis,\n",
    "        new_axis=list(range(axis, axis + test_result.ndim, 1)),\n",
    "        func1d=func1d,\n",
    "        func1d_axis=axis\n",
    "    )\n",
    "\n",
    "    return result"
   ]
  },
  {
   "cell_type": "code",
   "execution_count": null,
   "id": "0ee82046",
   "metadata": {},
   "outputs": [],
   "source": [
    "import numpy as np"
   ]
  },
  {
   "cell_type": "code",
   "execution_count": null,
   "id": "10a904ce",
   "metadata": {},
   "outputs": [],
   "source": [
    "future = apply_along_axis(np.mean, 0, da)"
   ]
  }
 ],
 "metadata": {
  "kernelspec": {
   "display_name": "Python [conda env:pangeo]",
   "language": "python",
   "name": "conda-env-pangeo-py"
  },
  "language_info": {
   "codemirror_mode": {
    "name": "ipython",
    "version": 3
   },
   "file_extension": ".py",
   "mimetype": "text/x-python",
   "name": "python",
   "nbconvert_exporter": "python",
   "pygments_lexer": "ipython3",
   "version": "3.8.8"
  }
 },
 "nbformat": 4,
 "nbformat_minor": 5
}
