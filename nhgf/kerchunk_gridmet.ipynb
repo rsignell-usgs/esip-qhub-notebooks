{
 "cells": [
  {
   "cell_type": "markdown",
   "id": "cc3b3fc1-df5c-4a72-9a0a-7c21f1f219fc",
   "metadata": {},
   "source": [
    "# Kerchunk GRIDMET data\n",
    "Using NetCDF files on s3"
   ]
  },
  {
   "cell_type": "code",
   "execution_count": null,
   "id": "60ab25a4-e869-42c4-bad1-454507e2ce73",
   "metadata": {},
   "outputs": [],
   "source": [
    "import numpy as np\n",
    "import xarray as xr\n",
    "import fsspec\n",
    "from pathlib import Path\n",
    "import ujson\n",
    "import os"
   ]
  },
  {
   "cell_type": "code",
   "execution_count": null,
   "id": "c10dec7e-9fcb-43c3-9125-e7910dd95d77",
   "metadata": {},
   "outputs": [],
   "source": [
    "from kerchunk.hdf import SingleHdf5ToZarr \n",
    "from kerchunk.combine import MultiZarrToZarr"
   ]
  },
  {
   "cell_type": "code",
   "execution_count": null,
   "id": "abd96fed-5992-4460-bc38-ab1d83448bf6",
   "metadata": {},
   "outputs": [],
   "source": [
    "#url = '/caldera/projects/usgs/water/wbeep/onhm_dev/climate/gridmet_raw'\n",
    "fs = fsspec.filesystem('s3', profile='esip-qhub')"
   ]
  },
  {
   "cell_type": "code",
   "execution_count": null,
   "id": "a6d4d4a4-21a8-49cf-8778-157d32b13a81",
   "metadata": {},
   "outputs": [],
   "source": [
    "%%time\n",
    "#flist = fs_local.glob('/caldera/projects/usgs/water/wbeep/onhm_dev/climate/gridmet_raw_rechunk/*_nc4.nc')\n",
    "flist = sorted(fs.glob('s3://esip-qhub/usgs/nhgf/gridmet_100mb/*.nc'))\n",
    "flist"
   ]
  },
  {
   "cell_type": "code",
   "execution_count": null,
   "id": "57e79b3a-ff21-483b-b342-744ca5c7be14",
   "metadata": {},
   "outputs": [],
   "source": [
    "json_dir = 's3://esip-qhub/usgs/nhgf/gridmet_100mb/jsons/'"
   ]
  },
  {
   "cell_type": "code",
   "execution_count": null,
   "id": "36789cdf-c022-4112-8d31-f3dee38b4dc5",
   "metadata": {},
   "outputs": [],
   "source": [
    "so = dict(mode='rb', profile='esip-qhub', default_fill_cache=False, default_cache_type='first')"
   ]
  },
  {
   "cell_type": "code",
   "execution_count": null,
   "id": "46bcdfd9-3c00-4a8d-b7e2-fcf729a68019",
   "metadata": {},
   "outputs": [],
   "source": [
    "def gen_json(u):\n",
    "    with fs.open(u, **so) as infile:\n",
    "        h5chunks = SingleHdf5ToZarr(infile, u, inline_threshold=300)\n",
    "        fstem = Path(u).stem \n",
    "        outf = f'{json_dir}{fstem}.json'\n",
    "        print(outf)\n",
    "        with fs.open(outf, 'wb') as f:\n",
    "            f.write(ujson.dumps(h5chunks.translate()).encode());"
   ]
  },
  {
   "cell_type": "markdown",
   "id": "523abd1e-eb8b-43aa-9367-d9d8af015288",
   "metadata": {},
   "source": [
    "#### Create the Kerchunk JSON for each individual file"
   ]
  },
  {
   "cell_type": "code",
   "execution_count": null,
   "id": "c2142817-62e7-4a39-8980-cf62bcc24045",
   "metadata": {},
   "outputs": [],
   "source": [
    "%%time\n",
    "for f in flist:\n",
    "    gen_json(f)"
   ]
  },
  {
   "cell_type": "markdown",
   "id": "fd26b66b-7969-476c-8bc4-00bce36b5c00",
   "metadata": {},
   "source": [
    "#### Check one to see if they look okay"
   ]
  },
  {
   "cell_type": "code",
   "execution_count": null,
   "id": "e33aa569-6bfe-4e74-a16f-9ed6a3771068",
   "metadata": {},
   "outputs": [],
   "source": [
    "rpath = 's3://esip-qhub/usgs/nhgf/gridmet/jsons/gridmet_ppt_1979-2020_nc4.json'\n",
    "s_opts = {'requester_pays':True, 'skip_instance_cache':True}\n",
    "r_opts = {'requester_pays':True}\n",
    "fs2 = fsspec.filesystem(\"reference\", fo=rpath, ref_storage_args=s_opts,\n",
    "                       remote_protocol='s3', remote_options=r_opts)"
   ]
  },
  {
   "cell_type": "code",
   "execution_count": null,
   "id": "8eba1a17-c125-412d-90df-c7cb76abe606",
   "metadata": {},
   "outputs": [],
   "source": [
    "fs2.ls('')"
   ]
  },
  {
   "cell_type": "code",
   "execution_count": null,
   "id": "808aa004-1de5-445e-a01e-a098b272f314",
   "metadata": {},
   "outputs": [],
   "source": [
    "m = fs2.get_mapper(\"\")\n",
    "ds = xr.open_dataset(m, engine=\"zarr\",chunks={'day': 1220, 'lat': 98, 'lon': 231},\n",
    "                    backend_kwargs={'consolidated':False})"
   ]
  },
  {
   "cell_type": "code",
   "execution_count": null,
   "id": "6dbd15ea-7d91-4c79-aaf7-110b23af9856",
   "metadata": {},
   "outputs": [],
   "source": [
    "ds"
   ]
  },
  {
   "cell_type": "code",
   "execution_count": null,
   "id": "5f18d8e8-79c2-457c-af92-96e915ba1098",
   "metadata": {},
   "outputs": [],
   "source": []
  }
 ],
 "metadata": {
  "kernelspec": {
   "display_name": "Python [conda env:pangeo]",
   "language": "python",
   "name": "conda-env-pangeo-py"
  },
  "language_info": {
   "codemirror_mode": {
    "name": "ipython",
    "version": 3
   },
   "file_extension": ".py",
   "mimetype": "text/x-python",
   "name": "python",
   "nbconvert_exporter": "python",
   "pygments_lexer": "ipython3",
   "version": "3.9.7"
  }
 },
 "nbformat": 4,
 "nbformat_minor": 5
}
