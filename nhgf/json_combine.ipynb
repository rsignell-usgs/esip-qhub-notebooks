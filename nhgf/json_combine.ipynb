{
 "cells": [
  {
   "cell_type": "markdown",
   "id": "7964df91-687d-4032-9748-10e4e9083e7c",
   "metadata": {},
   "source": [
    "# Combine 3 kerchunked datasets into one virtual dataset"
   ]
  },
  {
   "cell_type": "code",
   "execution_count": null,
   "id": "8116692a-19b1-42f9-b34d-daa3b18c42c4",
   "metadata": {},
   "outputs": [],
   "source": [
    "import warnings\n",
    "warnings.filterwarnings(\"ignore\")"
   ]
  },
  {
   "cell_type": "code",
   "execution_count": null,
   "id": "3d2c90e4-e290-45be-8dc4-4047e5dd92f2",
   "metadata": {},
   "outputs": [],
   "source": [
    "import json\n",
    "import fsspec\n",
    "import xarray as xr\n",
    "import hvplot.xarray"
   ]
  },
  {
   "cell_type": "markdown",
   "id": "e9071442-000e-4815-a8e3-e4ffadcd7817",
   "metadata": {},
   "source": [
    "I like to use `fsspec` even for local file systems:"
   ]
  },
  {
   "cell_type": "code",
   "execution_count": null,
   "id": "2e8dbc5c-d617-4320-80ad-429bbdb7b2b1",
   "metadata": {},
   "outputs": [],
   "source": [
    "fs = fsspec.filesystem('s3', profile='esip-qhub')"
   ]
  },
  {
   "cell_type": "code",
   "execution_count": null,
   "id": "a3defe4c-13d8-4f0f-956e-bf58453c026c",
   "metadata": {},
   "outputs": [],
   "source": [
    "#a = json.load(fs.open('gridmet_ppt_1979-2020_nc4.json'))\n",
    "#b = json.load(fs.open('gridmet_tmin_1979-2020_nc4.json'))\n",
    "#c = json.load(fs.open('gridmet_tmax_1979-2020_nc4.json'))\n",
    "a = json.load(fs.open('s3://esip-qhub/usgs/nhgf/gridmet_100mb/jsons/gridmet_ppt_1979-2020_nc4.json'))\n",
    "b = json.load(fs.open('s3://esip-qhub/usgs/nhgf/gridmet_100mb/jsons/gridmet_tmax_1979-2020_nc4.json'))\n",
    "c = json.load(fs.open('s3://esip-qhub/usgs/nhgf/gridmet_100mb/jsons/gridmet_tmin_1979-2020_nc4.json'))"
   ]
  },
  {
   "cell_type": "markdown",
   "id": "331539b2-9df2-41e3-b04e-4ec659d5facc",
   "metadata": {},
   "source": [
    "Start with the first file, which we will then add to later:"
   ]
  },
  {
   "cell_type": "code",
   "execution_count": null,
   "id": "2ffa98bc-9dd7-491b-bc5c-b9cf7721fe27",
   "metadata": {},
   "outputs": [],
   "source": [
    "combined = a"
   ]
  },
  {
   "cell_type": "markdown",
   "id": "5b0f6ad1-24b4-41a5-8540-eabcea688217",
   "metadata": {},
   "source": [
    "Each individual JSON has a single URL template called \"u\".\n",
    "\n",
    "In the combined JSON we will call the 3 templates \"u\", \"v\" and \"w\", so assign them here:"
   ]
  },
  {
   "cell_type": "code",
   "execution_count": null,
   "id": "39b24025-e3b1-45b7-90ee-3b816de2c2fa",
   "metadata": {},
   "outputs": [],
   "source": [
    "combined['templates']['v'] = b['templates']['u']\n",
    "combined['templates']['w'] = c['templates']['u']"
   ]
  },
  {
   "cell_type": "code",
   "execution_count": null,
   "id": "e0329b35-1be6-47e9-9bcc-bd637e176b96",
   "metadata": {},
   "outputs": [],
   "source": [
    "b = json.loads(json.dumps(b).replace('{{u}}','{{v}}'))\n",
    "c = json.loads(json.dumps(c).replace('{{u}}','{{w}}'))"
   ]
  },
  {
   "cell_type": "code",
   "execution_count": null,
   "id": "0233b28b-ba6e-4da3-8f2e-e05f9436c6bb",
   "metadata": {},
   "outputs": [],
   "source": [
    "for k,v in b['refs'].items():\n",
    "    if 'daily_maximum_temperature' in k:\n",
    "        combined['refs'][k] = v"
   ]
  },
  {
   "cell_type": "code",
   "execution_count": null,
   "id": "3e73516d-3524-4f68-8376-9ed5acb43ad5",
   "metadata": {},
   "outputs": [],
   "source": [
    "for k,v in c['refs'].items():\n",
    "    if 'daily_minimum_temperature' in k:\n",
    "        combined['refs'][k] = v"
   ]
  },
  {
   "cell_type": "code",
   "execution_count": null,
   "id": "18bafc21-b64d-4585-8986-58cf876a92f5",
   "metadata": {},
   "outputs": [],
   "source": [
    "with open('combined.json', 'w') as outfile:\n",
    "    json.dump(combined, outfile)"
   ]
  },
  {
   "cell_type": "markdown",
   "id": "6cc8cc7d-4e0a-40e7-9e51-c54bdb5e6960",
   "metadata": {},
   "source": [
    "##### push the virtual kerchunked dataset JSON to S3"
   ]
  },
  {
   "cell_type": "code",
   "execution_count": null,
   "id": "269ff89c-1e5d-431c-bd82-3488745e13b0",
   "metadata": {},
   "outputs": [],
   "source": [
    "fs_s3 = fsspec.filesystem('s3', profile='esip-qhub')"
   ]
  },
  {
   "cell_type": "code",
   "execution_count": null,
   "id": "438c2868-3d1c-4c7e-a630-e2ba9c39e8c8",
   "metadata": {},
   "outputs": [],
   "source": [
    "_ = fs_s3.upload('combined.json', 's3://esip-qhub/usgs/nhgf/gridmet_100mb/combined.json')"
   ]
  },
  {
   "cell_type": "markdown",
   "id": "2f4d04a9-07cf-4ce2-827d-f9e81192aff0",
   "metadata": {},
   "source": [
    "#### Examine the virtual Kerchunked dataset"
   ]
  },
  {
   "cell_type": "code",
   "execution_count": null,
   "id": "b416bcdd-e9ea-4b95-82eb-93bb7e04fd11",
   "metadata": {},
   "outputs": [],
   "source": [
    "rpath = 's3://esip-qhub/usgs/nhgf/gridmet_100mb/combined.json'\n",
    "s_opts = {'requester_pays':True, 'skip_instance_cache':True}\n",
    "r_opts = {'requester_pays':True}\n",
    "fs2 = fsspec.filesystem(\"reference\", fo=rpath, ref_storage_args=s_opts,\n",
    "                       remote_protocol='s3', remote_options=r_opts)"
   ]
  },
  {
   "cell_type": "markdown",
   "id": "7f601127-318f-4381-93f4-d8ed4cc6dfe2",
   "metadata": {},
   "source": [
    "fsspec makes the remote files looks like a zarr dataset on a file system:"
   ]
  },
  {
   "cell_type": "code",
   "execution_count": null,
   "id": "8ba63cc5-596c-48e5-be25-5784aeb080e7",
   "metadata": {},
   "outputs": [],
   "source": [
    "fs2.ls('')"
   ]
  },
  {
   "cell_type": "markdown",
   "id": "7c70c4f3-9569-45b0-ab76-0bb49f477f6e",
   "metadata": {},
   "source": [
    "So we can read it into Xarray using the `zarr` engine:"
   ]
  },
  {
   "cell_type": "code",
   "execution_count": null,
   "id": "ee293675-ff63-4e2d-8c9a-741c47f96781",
   "metadata": {},
   "outputs": [],
   "source": [
    "m = fs2.get_mapper(\"\")\n",
    "ds = xr.open_dataset(m, engine=\"zarr\",chunks={'day': 1220, 'lat': 98, 'lon': 231},\n",
    "                    backend_kwargs={'consolidated':False})"
   ]
  },
  {
   "cell_type": "code",
   "execution_count": null,
   "id": "1375864b-06c5-478d-ac93-35bcf12e7819",
   "metadata": {},
   "outputs": [],
   "source": [
    "ds.data_vars"
   ]
  },
  {
   "cell_type": "code",
   "execution_count": null,
   "id": "6179df5e-3d88-4657-ab4f-43052009e580",
   "metadata": {},
   "outputs": [],
   "source": [
    "ds['precipitation_amount'].encoding"
   ]
  },
  {
   "cell_type": "code",
   "execution_count": null,
   "id": "55e29b2d-b7da-4c62-8a11-eeb70fece1ee",
   "metadata": {},
   "outputs": [],
   "source": [
    "%%time\n",
    "var = 'precipitation_amount'\n",
    "date = '2017-08-26'\n",
    "ppt = ds[var].sel(day=date).load()\n",
    "ppt.hvplot.image(x='lon', y='lat', geo=True, colormap='turbo', rasterize=True, \n",
    "                 tiles='OSM', title=f'{var}:{date}')"
   ]
  },
  {
   "cell_type": "code",
   "execution_count": null,
   "id": "8aaa5137-f07a-44a0-9779-817bee18ca7c",
   "metadata": {},
   "outputs": [],
   "source": [
    "%%time\n",
    "var1 = 'daily_minimum_temperature'\n",
    "var2 = 'daily_maximum_temperature'\n",
    "ds[[var1, var2]].sel(lon=-105.1352977, lat=39.7633285, method='nearest').hvplot(grid=True)"
   ]
  }
 ],
 "metadata": {
  "kernelspec": {
   "display_name": "Python [conda env:pangeo]",
   "language": "python",
   "name": "conda-env-pangeo-py"
  },
  "language_info": {
   "codemirror_mode": {
    "name": "ipython",
    "version": 3
   },
   "file_extension": ".py",
   "mimetype": "text/x-python",
   "name": "python",
   "nbconvert_exporter": "python",
   "pygments_lexer": "ipython3",
   "version": "3.9.7"
  }
 },
 "nbformat": 4,
 "nbformat_minor": 5
}
