{
 "cells": [
  {
   "cell_type": "code",
   "execution_count": null,
   "id": "2aa02d5c-a3e4-4876-bdd3-b9dfd2ff23bd",
   "metadata": {},
   "outputs": [],
   "source": [
    "import fsspec\n",
    "import os"
   ]
  },
  {
   "cell_type": "code",
   "execution_count": null,
   "id": "3d9d7ee5-6a91-4feb-a203-8379630797d2",
   "metadata": {},
   "outputs": [],
   "source": [
    "import getpass"
   ]
  },
  {
   "cell_type": "code",
   "execution_count": null,
   "id": "7f1b0337-860e-4a91-a13d-1b3058d74179",
   "metadata": {},
   "outputs": [],
   "source": [
    "connection_string = getpass.getpass()  # prompts for the connection string"
   ]
  },
  {
   "cell_type": "code",
   "execution_count": null,
   "id": "8258b830-6d9a-44fd-8150-1bf993367709",
   "metadata": {},
   "outputs": [],
   "source": [
    "fs = fsspec.filesystem('abfs', account_name='usgs', connection_string=connection_string)"
   ]
  },
  {
   "cell_type": "code",
   "execution_count": null,
   "id": "9220f090-f71c-4bfe-a0de-ef08fc883b2a",
   "metadata": {},
   "outputs": [],
   "source": [
    "fs.ls('')"
   ]
  },
  {
   "cell_type": "code",
   "execution_count": null,
   "id": "5d1fde85-9b8b-44f1-81dd-ed299d5bdf65",
   "metadata": {},
   "outputs": [],
   "source": [
    "os.getcwd()"
   ]
  },
  {
   "cell_type": "code",
   "execution_count": null,
   "id": "451fb382-0309-4a42-bf9c-1b73cd1c80a3",
   "metadata": {},
   "outputs": [],
   "source": [
    "fs.put_file('edr.nc','hyperspectral/testing/edr.nc')"
   ]
  },
  {
   "cell_type": "code",
   "execution_count": null,
   "id": "a495b0be-4dec-4a59-a008-466f7368d4f0",
   "metadata": {},
   "outputs": [],
   "source": [
    "%%time\n",
    "fs.put_file('../Itiya/PRS_L2D_STD_20200617185821_20200617185825_0001.he5',\n",
    "            'hyperspectral/prisma/PRS_L2D_STD_20200617185821_20200617185825_0001.he5')"
   ]
  },
  {
   "cell_type": "code",
   "execution_count": null,
   "id": "fe51a0b9-3da5-4cb8-b916-2bcea66c2d52",
   "metadata": {},
   "outputs": [],
   "source": [
    "fs.ls('hyperspectral/prisma')"
   ]
  },
  {
   "cell_type": "code",
   "execution_count": null,
   "id": "342568b9-b93e-446a-9963-ae4a8f3ac668",
   "metadata": {},
   "outputs": [],
   "source": []
  }
 ],
 "metadata": {
  "kernelspec": {
   "display_name": "Python [conda env:pangeo]",
   "language": "python",
   "name": "conda-env-pangeo-py"
  },
  "language_info": {
   "codemirror_mode": {
    "name": "ipython",
    "version": 3
   },
   "file_extension": ".py",
   "mimetype": "text/x-python",
   "name": "python",
   "nbconvert_exporter": "python",
   "pygments_lexer": "ipython3",
   "version": "3.9.7"
  }
 },
 "nbformat": 4,
 "nbformat_minor": 5
}
