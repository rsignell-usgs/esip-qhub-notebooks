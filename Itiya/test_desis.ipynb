{
 "cells": [
  {
   "cell_type": "markdown",
   "id": "ef7341dd-74a6-411b-a124-06ca9e4e2407",
   "metadata": {},
   "source": [
    "# Test copying data from S3 pushed by DESIS"
   ]
  },
  {
   "cell_type": "code",
   "execution_count": null,
   "id": "61770daf-e57f-4885-a219-e1f017f48b45",
   "metadata": {},
   "outputs": [],
   "source": [
    "import fsspec"
   ]
  },
  {
   "cell_type": "code",
   "execution_count": null,
   "id": "2be9b429-5ab5-428c-b6be-95e14f327637",
   "metadata": {},
   "outputs": [],
   "source": [
    "fs = fsspec.filesystem('s3', anon=False, profile='esip-qhub')"
   ]
  },
  {
   "cell_type": "code",
   "execution_count": null,
   "id": "56a989a0-4dbe-45de-b7e5-96d98f0000f1",
   "metadata": {},
   "outputs": [],
   "source": [
    "flist = fs.ls('esip-qhub-push/desis/')\n",
    "fs.ls(flist[0])"
   ]
  },
  {
   "cell_type": "code",
   "execution_count": null,
   "id": "6b6f4c55-e5dd-4e0a-b076-5237e44dbd77",
   "metadata": {},
   "outputs": [],
   "source": [
    "flist = fs.ls('esip-qhub-push/desis/test/584 - gc-test-oct-4-2')\n",
    "flist"
   ]
  },
  {
   "cell_type": "code",
   "execution_count": null,
   "id": "22d65aaf-552b-4d65-bdd2-f9245047aeab",
   "metadata": {},
   "outputs": [],
   "source": [
    "flist = fs.glob('esip-qhub-push/desis/**.zip')\n",
    "flist"
   ]
  },
  {
   "cell_type": "code",
   "execution_count": null,
   "id": "02011e00-604c-4185-b2de-84d1e256c366",
   "metadata": {},
   "outputs": [],
   "source": [
    "fs.size(flist[0])/1e6   # size in MB"
   ]
  },
  {
   "cell_type": "markdown",
   "id": "7f471a1c-4d7d-4db2-ac4c-f5eaa1a183d6",
   "metadata": {},
   "source": [
    "#### The new file works:"
   ]
  },
  {
   "cell_type": "code",
   "execution_count": null,
   "id": "43b16819-d2d9-4bdb-9a91-c2357f68927b",
   "metadata": {},
   "outputs": [],
   "source": [
    "fs.get_file(flist[1],'ESIPTEST2.txt')"
   ]
  },
  {
   "cell_type": "markdown",
   "id": "a65898a2-8edf-494b-bbd3-505a75cb2db9",
   "metadata": {},
   "source": [
    "#### The original one didn't:"
   ]
  },
  {
   "cell_type": "code",
   "execution_count": null,
   "id": "4dfcd791-1c24-48f7-8dd0-f9b1456e4ca5",
   "metadata": {},
   "outputs": [],
   "source": [
    "fs.get_file(flist[0],'ESIPTEST.txt')"
   ]
  },
  {
   "cell_type": "code",
   "execution_count": null,
   "id": "06497e98-0e86-4250-afdb-f8c2d5728a2d",
   "metadata": {},
   "outputs": [],
   "source": [
    "!more ESIPTEST2.txt"
   ]
  },
  {
   "cell_type": "code",
   "execution_count": null,
   "id": "53d4a8b3-1601-4409-80f5-313d26ed193d",
   "metadata": {},
   "outputs": [],
   "source": []
  }
 ],
 "metadata": {
  "kernelspec": {
   "display_name": "Python [conda env:pangeo]",
   "language": "python",
   "name": "conda-env-pangeo-py"
  },
  "language_info": {
   "codemirror_mode": {
    "name": "ipython",
    "version": 3
   },
   "file_extension": ".py",
   "mimetype": "text/x-python",
   "name": "python",
   "nbconvert_exporter": "python",
   "pygments_lexer": "ipython3",
   "version": "3.9.7"
  }
 },
 "nbformat": 4,
 "nbformat_minor": 5
}
