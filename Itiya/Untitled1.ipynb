{
 "cells": [
  {
   "cell_type": "code",
   "execution_count": null,
   "id": "6d4348be-456d-4540-a4c8-58917b2fab0e",
   "metadata": {},
   "outputs": [],
   "source": [
    "import os\n",
    "import numpy as np\n",
    "import holoviews as hv\n",
    "import geoviews as gv\n",
    "import cartopy.crs as ccrs\n",
    "\n",
    "from holoviews import opts\n",
    "from holoviews.streams import PointDraw, PolyEdit, BoxEdit, PolyDraw, FreehandDraw\n",
    "\n",
    "hv.extension('bokeh')\n",
    "\n",
    "tiles = gv.tile_sources.Wikipedia.opts(frame_width=500)"
   ]
  },
  {
   "cell_type": "code",
   "execution_count": null,
   "id": "5ab2f23d-aac2-41e7-af94-359bec2313ed",
   "metadata": {},
   "outputs": [],
   "source": [
    "points = gv.Points(np.random.rand(10, 2)*10)\n",
    "point_stream = PointDraw(source=points, num_objects=10)\n",
    "\n",
    "(tiles * points).opts(\n",
    "    opts.Points(tools=['hover'], size=10, color='red'))"
   ]
  },
  {
   "cell_type": "code",
   "execution_count": null,
   "id": "18858843-bda2-45a3-a3ef-5372dc0d88ba",
   "metadata": {},
   "outputs": [],
   "source": [
    "if point_stream.data:\n",
    "    display(point_stream.element.dframe())"
   ]
  },
  {
   "cell_type": "code",
   "execution_count": null,
   "id": "25071320-321a-4681-9f40-dd31da56129d",
   "metadata": {},
   "outputs": [],
   "source": [
    "."
   ]
  }
 ],
 "metadata": {
  "kernelspec": {
   "display_name": "Python [conda env:pangeo]",
   "language": "python",
   "name": "conda-env-pangeo-py"
  },
  "language_info": {
   "codemirror_mode": {
    "name": "ipython",
    "version": 3
   },
   "file_extension": ".py",
   "mimetype": "text/x-python",
   "name": "python",
   "nbconvert_exporter": "python",
   "pygments_lexer": "ipython3",
   "version": "3.9.7"
  }
 },
 "nbformat": 4,
 "nbformat_minor": 5
}
