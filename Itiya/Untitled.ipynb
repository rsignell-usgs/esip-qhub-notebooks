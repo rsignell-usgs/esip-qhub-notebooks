{
 "cells": [
  {
   "cell_type": "code",
   "execution_count": null,
   "id": "558f420e-17d7-44eb-bc2f-b0c24d177461",
   "metadata": {},
   "outputs": [],
   "source": [
    "import os\n",
    "import hvplot.xarray\n",
    "import numpy as np\n",
    "import h5py"
   ]
  },
  {
   "cell_type": "code",
   "execution_count": null,
   "id": "a8cd3779-64aa-4916-b1ea-53ac0dc853fa",
   "metadata": {},
   "outputs": [],
   "source": [
    "FILE_NAME = 'PRS_L2D_STD_20200617185821_20200617185825_0001.he5'\n",
    "DATAFIELD_NAME = '/HDFEOS/SWATHS/PRS_L2D_HCO/Data_Fields/SWIR_Cube'"
   ]
  },
  {
   "cell_type": "code",
   "execution_count": null,
   "id": "f3582897-c60a-4c48-840a-c9a659cdda44",
   "metadata": {},
   "outputs": [],
   "source": [
    "with h5py.File(FILE_NAME, mode='r') as f:\n",
    "# List available datasets.\n",
    "    print(f['HDFEOS']['SWATHS']['PRS_L2D_HCO']['Data Fields'].keys())"
   ]
  },
  {
   "cell_type": "code",
   "execution_count": null,
   "id": "22c6db18-2ac7-4528-bde1-b6b01a3e62fc",
   "metadata": {},
   "outputs": [],
   "source": [
    "f = h5py.File(FILE_NAME, mode='r')"
   ]
  },
  {
   "cell_type": "code",
   "execution_count": null,
   "id": "db779808-f307-4913-9a83-dbd047911b47",
   "metadata": {},
   "outputs": [],
   "source": [
    "dset = f['HDFEOS']['SWATHS']['PRS_L2D_HCO']['Data Fields']['SWIR_Cube']"
   ]
  },
  {
   "cell_type": "code",
   "execution_count": null,
   "id": "9b218077-adee-49cb-8daa-3060559abc63",
   "metadata": {},
   "outputs": [],
   "source": [
    "dset"
   ]
  },
  {
   "cell_type": "code",
   "execution_count": null,
   "id": "c2cb22ac-778c-459e-9574-537e252ec1c9",
   "metadata": {},
   "outputs": [],
   "source": [
    "# Open file.\n",
    "#FILE_NAME = 'OMI-Aura_L3-OMTO3e_2005m1214_v002-2006m0929t143855.he5'\n",
    "#DATAFIELD_NAME = '/HDFEOS/GRIDS/OMI Column Amount O3/Data Fields/ColumnAmountO3'\n",
    "with h5py.File(FILE_NAME, mode='r') as f:\n",
    "# List available datasets.\n",
    "    print(f.keys())\n",
    "\n",
    "    # Read dataset.\n",
    "    dset = f[DATAFIELD_NAME]\n",
    "    data = dset[:]\n",
    "\n",
    "    # Handle fill value.\n",
    "    data[data == dset.fillvalue] = np.nan\n",
    "    data = np.ma.masked_where(np.isnan(data), data)\n",
    "\n",
    "    # Get attributes needed for the plot.\n",
    "    # String attributes actually come in as the bytes type and should\n",
    "    # be decoded to UTF-8 (python3).\n",
    "    title = dset.attrs['Title'].decode()\n",
    "    units = dset.attrs['Units'].decode()"
   ]
  },
  {
   "cell_type": "code",
   "execution_count": null,
   "id": "5aeb2390-b53d-4852-8a42-1f7b63e217bc",
   "metadata": {},
   "outputs": [],
   "source": []
  }
 ],
 "metadata": {
  "kernelspec": {
   "display_name": "Python [conda env:pangeo]",
   "language": "python",
   "name": "conda-env-pangeo-py"
  },
  "language_info": {
   "codemirror_mode": {
    "name": "ipython",
    "version": 3
   },
   "file_extension": ".py",
   "mimetype": "text/x-python",
   "name": "python",
   "nbconvert_exporter": "python",
   "pygments_lexer": "ipython3",
   "version": "3.9.6"
  }
 },
 "nbformat": 4,
 "nbformat_minor": 5
}
