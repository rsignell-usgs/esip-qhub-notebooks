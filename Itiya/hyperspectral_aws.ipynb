{
 "cells": [
  {
   "cell_type": "markdown",
   "id": "ef7341dd-74a6-411b-a124-06ca9e4e2407",
   "metadata": {},
   "source": [
    "# Read Prisma hyperspectral data from AWS"
   ]
  },
  {
   "cell_type": "code",
   "execution_count": null,
   "id": "61770daf-e57f-4885-a219-e1f017f48b45",
   "metadata": {},
   "outputs": [],
   "source": [
    "import getpass\n",
    "import hvplot.xarray \n",
    "import rioxarray\n",
    "import fsspec\n",
    "import rasterio"
   ]
  },
  {
   "cell_type": "code",
   "execution_count": null,
   "id": "80b650b9-d169-489a-908e-ec19163b5977",
   "metadata": {},
   "outputs": [],
   "source": [
    "s3path = 's3://esip-qhub/usgs/rsignell/testing/PRS_L2D_STD_20200617185821_20200617185825_0001.he5'"
   ]
  },
  {
   "cell_type": "code",
   "execution_count": null,
   "id": "03083f11-e993-427d-a4dc-a429fcecfcb6",
   "metadata": {},
   "outputs": [],
   "source": [
    "#secret_key = getpass.getpass()  # prompts for the connection string"
   ]
  },
  {
   "cell_type": "code",
   "execution_count": null,
   "id": "9972e4ef-43d3-47c2-8a42-c5fc2b0b296e",
   "metadata": {},
   "outputs": [],
   "source": [
    "from rasterio.session import AWSSession\n",
    "env = rasterio.Env(AWSSession(region_name='us-west-2', \n",
    "                              requester_pays=True,\n",
    "                             ))"
   ]
  },
  {
   "cell_type": "code",
   "execution_count": null,
   "id": "2be9b429-5ab5-428c-b6be-95e14f327637",
   "metadata": {},
   "outputs": [],
   "source": [
    "fs = fsspec.filesystem('s3', anon=False, profile='esip-qhub')"
   ]
  },
  {
   "cell_type": "code",
   "execution_count": null,
   "id": "6b6f4c55-e5dd-4e0a-b076-5237e44dbd77",
   "metadata": {},
   "outputs": [],
   "source": [
    "flist = fs.ls('esip-qhub-push/desis/')\n",
    "flist"
   ]
  },
  {
   "cell_type": "code",
   "execution_count": null,
   "id": "4d8d33eb-84e9-486c-8949-020b32c9ba39",
   "metadata": {},
   "outputs": [],
   "source": [
    "flist = fs.ls('esip-qhub/usgs/rsignell/testing/')\n",
    "flist"
   ]
  },
  {
   "cell_type": "code",
   "execution_count": null,
   "id": "43b16819-d2d9-4bdb-9a91-c2357f68927b",
   "metadata": {},
   "outputs": [],
   "source": [
    "fs.get_file(flist[2],'foo.txt')"
   ]
  },
  {
   "cell_type": "code",
   "execution_count": null,
   "id": "0ea708cc-39d4-428e-b5b6-1d2a5811e1a4",
   "metadata": {},
   "outputs": [],
   "source": [
    "!"
   ]
  },
  {
   "cell_type": "code",
   "execution_count": null,
   "id": "9457cff8-9b4f-43cb-b48c-feb768c8ee57",
   "metadata": {},
   "outputs": [],
   "source": [
    "fs.get_file(flist[0],'foo.txt')"
   ]
  },
  {
   "cell_type": "code",
   "execution_count": null,
   "id": "e6073f7c-3024-44b3-a2b8-8227f4189d31",
   "metadata": {},
   "outputs": [],
   "source": [
    "import warnings\n",
    "warnings.filterwarnings(\"ignore\")"
   ]
  },
  {
   "cell_type": "code",
   "execution_count": null,
   "id": "43aa8949-cc9e-4b06-a5bc-7939dc07b1e3",
   "metadata": {},
   "outputs": [],
   "source": [
    "%%time\n",
    "with env:\n",
    "    with rasterio.open(s3path) as src:\n",
    "        print(src.profile)\n",
    "#        ds_list = rioxarray.open_rasterio(src, chunks={'band': -1, 'x': src.width/2, 'y': src.height/2})\n",
    "        ds_list = rioxarray.open_rasterio(src)"
   ]
  },
  {
   "cell_type": "code",
   "execution_count": null,
   "id": "b58078ac-c521-4375-b523-5b9627b9ae1f",
   "metadata": {},
   "outputs": [],
   "source": [
    "for (i, ds) in enumerate(ds_list):\n",
    "    print(i, ds.data_vars)"
   ]
  },
  {
   "cell_type": "code",
   "execution_count": null,
   "id": "346170fa-9ba8-4785-8047-7caabacc4284",
   "metadata": {},
   "outputs": [],
   "source": [
    "ds_list[5].data_vars"
   ]
  },
  {
   "cell_type": "code",
   "execution_count": null,
   "id": "e51d059d-d21c-4cc0-b986-cd17a74d0f77",
   "metadata": {},
   "outputs": [],
   "source": [
    "ds = ds_list[5]"
   ]
  },
  {
   "cell_type": "code",
   "execution_count": null,
   "id": "2199bce7-6f0c-4f18-9ac6-fc08af052dd4",
   "metadata": {},
   "outputs": [],
   "source": [
    "lon = ds_list[1]['HDFEOS_SWATHS_PRS_L2D_HCO_Geolocation_Fields_Longitude'][0,:,:].load()\n",
    "lat = ds_list[1]['HDFEOS_SWATHS_PRS_L2D_HCO_Geolocation_Fields_Latitude'][0,:,:].load()"
   ]
  },
  {
   "cell_type": "code",
   "execution_count": null,
   "id": "13a5f8ca-9cdb-40b1-a7a3-79fff8c457c2",
   "metadata": {},
   "outputs": [],
   "source": [
    "ds = ds.rename({'band':'y', 'y':'band'})"
   ]
  },
  {
   "cell_type": "code",
   "execution_count": null,
   "id": "7f8f94d6-a861-4baf-beb9-90e325873dda",
   "metadata": {},
   "outputs": [],
   "source": [
    "ds"
   ]
  },
  {
   "cell_type": "code",
   "execution_count": null,
   "id": "ee0ffd82-e507-476c-a2a4-1311804c34e6",
   "metadata": {},
   "outputs": [],
   "source": [
    "ds = ds.assign_coords(lon=(('y', 'x'), lon.values), lat=(('y', 'x'), lat.values))"
   ]
  },
  {
   "cell_type": "code",
   "execution_count": null,
   "id": "7a3bd5cd-4e91-44b7-ab13-e638e180d8ed",
   "metadata": {},
   "outputs": [],
   "source": [
    "ds.data_vars"
   ]
  },
  {
   "cell_type": "code",
   "execution_count": null,
   "id": "a291dbf1-f250-41a2-bd26-67e66deeac04",
   "metadata": {},
   "outputs": [],
   "source": [
    "%%time\n",
    "da = ds.HDFEOS_SWATHS_PRS_L2D_HCO_Data_Fields_VNIR_Cube.isel(band=50).load()"
   ]
  },
  {
   "cell_type": "code",
   "execution_count": null,
   "id": "288873a1-8c65-418b-b3db-ac52c279dee4",
   "metadata": {},
   "outputs": [],
   "source": [
    "da.hvplot.quadmesh(x='lon', y='lat', rasterize=True, geo=True, frame_width=500,\n",
    "            cmap='turbo', tiles='OSM', alpha=0.7).redim.nodata(HDFEOS_SWATHS_PRS_L2D_HCO_Data_Fields_VNIR_Cube=0)"
   ]
  },
  {
   "cell_type": "code",
   "execution_count": null,
   "id": "04e4bc8f-ff38-4134-bfd4-de6aa6fda2da",
   "metadata": {},
   "outputs": [],
   "source": []
  }
 ],
 "metadata": {
  "kernelspec": {
   "display_name": "Python [conda env:pangeo]",
   "language": "python",
   "name": "conda-env-pangeo-py"
  },
  "language_info": {
   "codemirror_mode": {
    "name": "ipython",
    "version": 3
   },
   "file_extension": ".py",
   "mimetype": "text/x-python",
   "name": "python",
   "nbconvert_exporter": "python",
   "pygments_lexer": "ipython3",
   "version": "3.9.7"
  }
 },
 "nbformat": 4,
 "nbformat_minor": 5
}
