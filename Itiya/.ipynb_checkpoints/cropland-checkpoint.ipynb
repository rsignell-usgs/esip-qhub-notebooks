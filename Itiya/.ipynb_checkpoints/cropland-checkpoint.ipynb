{
 "cells": [
  {
   "cell_type": "markdown",
   "id": "ef7341dd-74a6-411b-a124-06ca9e4e2407",
   "metadata": {},
   "source": [
    "# Read Prisma hyperspectral data from Azure Blob Storage\n",
    "Using Microsoft Planetary Computer (basically free Pangeo on Azure!)"
   ]
  },
  {
   "cell_type": "code",
   "execution_count": null,
   "id": "61770daf-e57f-4885-a219-e1f017f48b45",
   "metadata": {},
   "outputs": [],
   "source": [
    "import getpass\n",
    "import hvplot.xarray \n",
    "import rioxarray\n",
    "import fsspec\n",
    "import rasterio"
   ]
  },
  {
   "cell_type": "code",
   "execution_count": null,
   "id": "80b650b9-d169-489a-908e-ec19163b5977",
   "metadata": {},
   "outputs": [],
   "source": [
    "s3path =  's3://esip-qhub/usgs/rsignell/testing/2020_30m_cdls.tif'"
   ]
  },
  {
   "cell_type": "code",
   "execution_count": null,
   "id": "03083f11-e993-427d-a4dc-a429fcecfcb6",
   "metadata": {},
   "outputs": [],
   "source": [
    "#secret_key = getpass.getpass()  # prompts for the connection string"
   ]
  },
  {
   "cell_type": "code",
   "execution_count": null,
   "id": "9972e4ef-43d3-47c2-8a42-c5fc2b0b296e",
   "metadata": {},
   "outputs": [],
   "source": [
    "from rasterio.session import AWSSession\n",
    "env = rasterio.Env(AWSSession(region_name='us-west-2', \n",
    "                              requester_pays=True,\n",
    "                             ))"
   ]
  },
  {
   "cell_type": "code",
   "execution_count": null,
   "id": "e6073f7c-3024-44b3-a2b8-8227f4189d31",
   "metadata": {},
   "outputs": [],
   "source": [
    "import warnings\n",
    "warnings.filterwarnings(\"ignore\")"
   ]
  },
  {
   "cell_type": "code",
   "execution_count": null,
   "id": "43aa8949-cc9e-4b06-a5bc-7939dc07b1e3",
   "metadata": {},
   "outputs": [],
   "source": [
    "%%time\n",
    "with env:\n",
    "    with rasterio.open(s3path) as src:\n",
    "        print(src.profile)\n",
    "#        ds_list = rioxarray.open_rasterio(src, chunks={'band': -1, 'x': src.width/2, 'y': src.height/2})\n",
    "        da = rioxarray.open_rasterio(src)"
   ]
  },
  {
   "cell_type": "code",
   "execution_count": null,
   "id": "b58078ac-c521-4375-b523-5b9627b9ae1f",
   "metadata": {},
   "outputs": [],
   "source": [
    "da = da.load()"
   ]
  },
  {
   "cell_type": "code",
   "execution_count": null,
   "id": "288873a1-8c65-418b-b3db-ac52c279dee4",
   "metadata": {},
   "outputs": [],
   "source": [
    "da.hvplot.quadmesh(x='x', y='y', rasterize=True, crs=5070, frame_width=500,\n",
    "            cmap='turbo', tiles='OSM', alpha=0.7).redim.nodata(value=0)"
   ]
  },
  {
   "cell_type": "code",
   "execution_count": null,
   "id": "006b0bbd-6953-457e-8faa-cdf2be91ebeb",
   "metadata": {},
   "outputs": [],
   "source": []
  }
 ],
 "metadata": {
  "kernelspec": {
   "display_name": "Python [conda env:pangeo]",
   "language": "python",
   "name": "conda-env-pangeo-py"
  },
  "language_info": {
   "codemirror_mode": {
    "name": "ipython",
    "version": 3
   },
   "file_extension": ".py",
   "mimetype": "text/x-python",
   "name": "python",
   "nbconvert_exporter": "python",
   "pygments_lexer": "ipython3",
   "version": "3.9.7"
  }
 },
 "nbformat": 4,
 "nbformat_minor": 5
}
