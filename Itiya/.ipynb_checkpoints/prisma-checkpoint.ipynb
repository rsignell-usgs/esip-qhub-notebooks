{
 "cells": [
  {
   "cell_type": "code",
   "execution_count": null,
   "id": "c2102f51-8ef0-4ec7-ae1a-d1194e744447",
   "metadata": {},
   "outputs": [],
   "source": [
    "import rioxarray as rxr\n",
    "import hvplot.xarray\n",
    "import rasterio\n",
    "import xarray as xr\n",
    "import h5py"
   ]
  },
  {
   "cell_type": "code",
   "execution_count": null,
   "id": "3994a1c7-8507-49a4-81a0-692bc0c12e7d",
   "metadata": {},
   "outputs": [],
   "source": [
    "filename = 'PRS_L2D_STD_20200617185821_20200617185825_0001.he5'\n",
    "with rasterio.open(filename) as src:\n",
    "    subdatasets = src.subdatasets"
   ]
  },
  {
   "cell_type": "code",
   "execution_count": null,
   "id": "99f4962d-417a-450f-b8ee-ba955142d0e4",
   "metadata": {},
   "outputs": [],
   "source": [
    "subdatasets"
   ]
  },
  {
   "cell_type": "code",
   "execution_count": null,
   "id": "1bf18ca8-c308-46f5-a052-9317daf273e0",
   "metadata": {},
   "outputs": [],
   "source": [
    "lat = rxr.open_rasterio('HDF5:PRS_L2D_STD_20200617185821_20200617185825_0001.he5://HDFEOS/SWATHS/PRS_L2D_HCO/Geolocation_Fields/Latitude')"
   ]
  },
  {
   "cell_type": "code",
   "execution_count": null,
   "id": "daa98d8d-193a-4763-bb91-867994f21b8f",
   "metadata": {},
   "outputs": [],
   "source": [
    "lat = lat[0,:,:].load()"
   ]
  },
  {
   "cell_type": "code",
   "execution_count": null,
   "id": "5660918a-dbf9-41b7-8637-d58e3fc54935",
   "metadata": {},
   "outputs": [],
   "source": [
    "lon = rxr.open_rasterio('HDF5:PRS_L2D_STD_20200617185821_20200617185825_0001.he5://HDFEOS/SWATHS/PRS_L2D_HCO/Geolocation_Fields/Longitude')"
   ]
  },
  {
   "cell_type": "code",
   "execution_count": null,
   "id": "58259cf6-2571-490c-80f4-c8cceb4465b0",
   "metadata": {},
   "outputs": [],
   "source": [
    "lon = lon[0,:,:].load()"
   ]
  },
  {
   "cell_type": "code",
   "execution_count": null,
   "id": "75898d57-bb83-42b0-a44f-ee8dea5d694c",
   "metadata": {},
   "outputs": [],
   "source": [
    "band_values = rxr.open_rasterio('HDF5:PRS_L2D_STD_20200617185821_20200617185825_0001.he5://KDP_AUX/Fwhm_Vnir_Matrix')"
   ]
  },
  {
   "cell_type": "code",
   "execution_count": null,
   "id": "f4dc6167-e90f-4d06-8925-0eef9196a83f",
   "metadata": {},
   "outputs": [],
   "source": [
    "band_values[0,:,100].plot()"
   ]
  },
  {
   "cell_type": "code",
   "execution_count": null,
   "id": "7bf22fa6-0900-4731-95fc-1b25cf02687d",
   "metadata": {},
   "outputs": [],
   "source": [
    "band_values[0,100,:].plot()"
   ]
  },
  {
   "cell_type": "code",
   "execution_count": null,
   "id": "cacc7171-6cc9-4713-8f08-80367bd2a1ae",
   "metadata": {},
   "outputs": [],
   "source": [
    "band_values[0,400,70:150].values"
   ]
  },
  {
   "cell_type": "code",
   "execution_count": null,
   "id": "de5d8602-e840-45b5-a1d2-c3b1415a0bb9",
   "metadata": {},
   "outputs": [],
   "source": [
    "fname = 'HDF5:PRS_L2D_STD_20200617185821_20200617185825_0001.he5://HDFEOS/SWATHS/PRS_L2D_HCO/Data_Fields/VNIR_Cube'\n",
    "#da = rxr.open_rasterio(subdatasets[0])\n",
    "da = rxr.open_rasterio(fname)"
   ]
  },
  {
   "cell_type": "code",
   "execution_count": null,
   "id": "89bf9a07-39cb-4ee1-8beb-8b1905132219",
   "metadata": {},
   "outputs": [],
   "source": [
    "da = da.rename({'band':'y', 'y':'band'})"
   ]
  },
  {
   "cell_type": "code",
   "execution_count": null,
   "id": "67e55b00-0020-4cbf-b05b-d285c9a63b0e",
   "metadata": {},
   "outputs": [],
   "source": [
    "da"
   ]
  },
  {
   "cell_type": "code",
   "execution_count": null,
   "id": "2819bc1d-1d5b-4964-97e1-ab379741006a",
   "metadata": {},
   "outputs": [],
   "source": [
    "da = da.assign_coords(lon=(('y', 'x'), lon.values), lat=(('y', 'x'), lat.values))"
   ]
  },
  {
   "cell_type": "code",
   "execution_count": null,
   "id": "a2cb613f-ef07-4d0a-8d43-d545831a959a",
   "metadata": {},
   "outputs": [],
   "source": [
    "da"
   ]
  },
  {
   "cell_type": "code",
   "execution_count": null,
   "id": "f7380a1b-fce5-4782-b771-4464d5c7dff5",
   "metadata": {},
   "outputs": [],
   "source": [
    "da[:,50,:].squeeze().hvplot.quadmesh(x='lon', y='lat', rasterize=True, geo=True, frame_width=500,\n",
    "                                    cmap='turbo', tiles='OSM', alpha=0.7).redim.nodata(value=0)"
   ]
  },
  {
   "cell_type": "code",
   "execution_count": null,
   "id": "32975728-7183-44aa-afe9-163a96812ab2",
   "metadata": {},
   "outputs": [],
   "source": [
    "da[:,50,:].max().values"
   ]
  },
  {
   "cell_type": "code",
   "execution_count": null,
   "id": "4a529dce-8fc6-4887-ae60-47e5ffc15adc",
   "metadata": {},
   "outputs": [],
   "source": [
    "da.max(dim=('x','y'))"
   ]
  },
  {
   "cell_type": "code",
   "execution_count": null,
   "id": "ddec8b55-1851-4b63-a0be-bd7292d9498d",
   "metadata": {},
   "outputs": [],
   "source": [
    "da[500,::-1,500].plot()"
   ]
  },
  {
   "cell_type": "code",
   "execution_count": null,
   "id": "a49442c6-e2c7-4da5-9595-0110e8cbf652",
   "metadata": {},
   "outputs": [],
   "source": []
  }
 ],
 "metadata": {
  "kernelspec": {
   "display_name": "Python [conda env:pangeo]",
   "language": "python",
   "name": "conda-env-pangeo-py"
  },
  "language_info": {
   "codemirror_mode": {
    "name": "ipython",
    "version": 3
   },
   "file_extension": ".py",
   "mimetype": "text/x-python",
   "name": "python",
   "nbconvert_exporter": "python",
   "pygments_lexer": "ipython3",
   "version": "3.9.7"
  }
 },
 "nbformat": 4,
 "nbformat_minor": 5
}
