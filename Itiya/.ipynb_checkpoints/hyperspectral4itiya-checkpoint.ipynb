{
 "cells": [
  {
   "cell_type": "markdown",
   "id": "ef7341dd-74a6-411b-a124-06ca9e4e2407",
   "metadata": {},
   "source": [
    "# Read Prisma hyperspectral data from Azure Blob Storage\n",
    "Using Microsoft Planetary Computer (basically free Pangeo on Azure!)"
   ]
  },
  {
   "cell_type": "code",
   "execution_count": null,
   "id": "61770daf-e57f-4885-a219-e1f017f48b45",
   "metadata": {},
   "outputs": [],
   "source": [
    "import getpass\n",
    "import hvplot.xarray \n",
    "import rioxarray\n",
    "import fsspec\n",
    "import azure.storage.blob"
   ]
  },
  {
   "cell_type": "code",
   "execution_count": null,
   "id": "e6073f7c-3024-44b3-a2b8-8227f4189d31",
   "metadata": {},
   "outputs": [],
   "source": [
    "import warnings\n",
    "warnings.filterwarnings(\"ignore\")"
   ]
  },
  {
   "cell_type": "code",
   "execution_count": null,
   "id": "03083f11-e993-427d-a4dc-a429fcecfcb6",
   "metadata": {},
   "outputs": [],
   "source": [
    "connection_string = getpass.getpass()  # prompts for the connection string"
   ]
  },
  {
   "cell_type": "code",
   "execution_count": null,
   "id": "57edfa56-e2c4-4fc5-b3ae-d296498a84eb",
   "metadata": {},
   "outputs": [],
   "source": [
    "container_client = azure.storage.blob.ContainerClient.from_connection_string(\n",
    "    connection_string, container_name=\"hyperspectral\"\n",
    ")"
   ]
  },
  {
   "cell_type": "code",
   "execution_count": null,
   "id": "845d1c5b-7aa0-4fb7-aa7d-612db666a7e6",
   "metadata": {},
   "outputs": [],
   "source": [
    "fs = fsspec.filesystem('abfs', account_name='usgs', connection_string=connection_string)"
   ]
  },
  {
   "cell_type": "code",
   "execution_count": null,
   "id": "60382f7a-c642-4694-a890-60bf78f3e3b3",
   "metadata": {},
   "outputs": [],
   "source": [
    "b = fs.ls('hyperspectral/prisma')\n",
    "print(b)"
   ]
  },
  {
   "cell_type": "code",
   "execution_count": null,
   "id": "d246a259-ecae-4830-bdce-3651c436f356",
   "metadata": {},
   "outputs": [],
   "source": [
    "blob_client = container_client.get_blob_client('prisma/PRS_L2D_STD_20200617185821_20200617185825_0001.he5')"
   ]
  },
  {
   "cell_type": "code",
   "execution_count": null,
   "id": "af9e6ec8-6967-482b-8cb4-cbc451ac475b",
   "metadata": {},
   "outputs": [],
   "source": [
    "%%time\n",
    "ds_list = rioxarray.open_rasterio(blob_client.url)"
   ]
  },
  {
   "cell_type": "code",
   "execution_count": null,
   "id": "d4dca7e3-5a84-4660-a076-533d8c1ef2af",
   "metadata": {},
   "outputs": [],
   "source": [
    "for (i, ds) in enumerate(ds_list):\n",
    "    print(i, ds.data_vars)"
   ]
  },
  {
   "cell_type": "code",
   "execution_count": null,
   "id": "346170fa-9ba8-4785-8047-7caabacc4284",
   "metadata": {},
   "outputs": [],
   "source": [
    "ds_list[5].data_vars"
   ]
  },
  {
   "cell_type": "code",
   "execution_count": null,
   "id": "e51d059d-d21c-4cc0-b986-cd17a74d0f77",
   "metadata": {},
   "outputs": [],
   "source": [
    "ds = ds_list[5]"
   ]
  },
  {
   "cell_type": "code",
   "execution_count": null,
   "id": "2199bce7-6f0c-4f18-9ac6-fc08af052dd4",
   "metadata": {},
   "outputs": [],
   "source": [
    "lon = ds_list[1]['HDFEOS_SWATHS_PRS_L2D_HCO_Geolocation_Fields_Longitude'][0,:,:].load()\n",
    "lat = ds_list[1]['HDFEOS_SWATHS_PRS_L2D_HCO_Geolocation_Fields_Latitude'][0,:,:].load()"
   ]
  },
  {
   "cell_type": "code",
   "execution_count": null,
   "id": "13a5f8ca-9cdb-40b1-a7a3-79fff8c457c2",
   "metadata": {},
   "outputs": [],
   "source": [
    "ds = ds.rename({'band':'y', 'y':'band'})"
   ]
  },
  {
   "cell_type": "code",
   "execution_count": null,
   "id": "7f8f94d6-a861-4baf-beb9-90e325873dda",
   "metadata": {},
   "outputs": [],
   "source": [
    "ds"
   ]
  },
  {
   "cell_type": "code",
   "execution_count": null,
   "id": "ee0ffd82-e507-476c-a2a4-1311804c34e6",
   "metadata": {},
   "outputs": [],
   "source": [
    "ds = ds.assign_coords(lon=(('y', 'x'), lon.values), lat=(('y', 'x'), lat.values))"
   ]
  },
  {
   "cell_type": "code",
   "execution_count": null,
   "id": "7a3bd5cd-4e91-44b7-ab13-e638e180d8ed",
   "metadata": {},
   "outputs": [],
   "source": [
    "ds.data_vars"
   ]
  },
  {
   "cell_type": "code",
   "execution_count": null,
   "id": "a291dbf1-f250-41a2-bd26-67e66deeac04",
   "metadata": {},
   "outputs": [],
   "source": [
    "%%time\n",
    "da = ds.HDFEOS_SWATHS_PRS_L2D_HCO_Data_Fields_VNIR_Cube.isel(band=60).load()"
   ]
  },
  {
   "cell_type": "code",
   "execution_count": null,
   "id": "288873a1-8c65-418b-b3db-ac52c279dee4",
   "metadata": {},
   "outputs": [],
   "source": [
    "da.hvplot.quadmesh(x='lon', y='lat', rasterize=True, geo=True, frame_width=500,\n",
    "                                    cmap='turbo', tiles='OSM', alpha=0.2).redim.nodata(HDFEOS_SWATHS_PRS_L2D_HCO_Data_Fields_VNIR_Cube=0)"
   ]
  }
 ],
 "metadata": {
  "kernelspec": {
   "display_name": "Python 3 (ipykernel)",
   "language": "python",
   "name": "python3"
  },
  "language_info": {
   "codemirror_mode": {
    "name": "ipython",
    "version": 3
   },
   "file_extension": ".py",
   "mimetype": "text/x-python",
   "name": "python",
   "nbconvert_exporter": "python",
   "pygments_lexer": "ipython3",
   "version": "3.8.10"
  }
 },
 "nbformat": 4,
 "nbformat_minor": 5
}
