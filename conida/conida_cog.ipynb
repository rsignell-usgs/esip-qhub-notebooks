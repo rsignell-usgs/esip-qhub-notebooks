{
 "cells": [
  {
   "cell_type": "markdown",
   "id": "50b44198-25c3-4afa-b770-11989fac47a4",
   "metadata": {},
   "source": [
    "# Explore PeruSAT-1 COG"
   ]
  },
  {
   "cell_type": "code",
   "execution_count": null,
   "id": "15eb1bc9-9049-4fb8-bb69-d229f56247b3",
   "metadata": {},
   "outputs": [],
   "source": [
    "import os\n",
    "import fsspec\n",
    "import rioxarray as rxr\n",
    "import hvplot.xarray"
   ]
  },
  {
   "cell_type": "markdown",
   "id": "2a8b5dd4-a979-43ec-90e0-6c9fa7ab7bee",
   "metadata": {},
   "source": [
    "Explore CONIDA AWS buckets:"
   ]
  },
  {
   "cell_type": "code",
   "execution_count": null,
   "id": "5adaf071-1319-44af-afc0-e3fbafcc17c5",
   "metadata": {},
   "outputs": [],
   "source": [
    "fs = fsspec.filesystem('s3', profile='conida')"
   ]
  },
  {
   "cell_type": "code",
   "execution_count": null,
   "id": "ed769417-28fc-4a45-81e9-dc1d9173f51e",
   "metadata": {},
   "outputs": [],
   "source": [
    "f = fs.ls('conida-arcgis/PeruSAT-1/Lima/ORTO/PAN/')"
   ]
  },
  {
   "cell_type": "code",
   "execution_count": null,
   "id": "2b7d2ccd-cc31-435d-a9a5-1cfbe07e1fd5",
   "metadata": {},
   "outputs": [],
   "source": [
    "#fs.download(f[0], 'foo.tif')"
   ]
  },
  {
   "cell_type": "code",
   "execution_count": null,
   "id": "2c6eb832-0602-4495-9e56-9b2deb6d051a",
   "metadata": {},
   "outputs": [],
   "source": [
    "fs.ls('aws-conida-ingest-bucket/')"
   ]
  },
  {
   "cell_type": "code",
   "execution_count": null,
   "id": "5ea1d15a-3595-48f3-9137-82d625c6c182",
   "metadata": {},
   "outputs": [],
   "source": [
    "f = fs.glob('aws-conida-ingest-bucket/PERUSAT-1/Lima/PRIMARY/*.zip')\n",
    "f"
   ]
  },
  {
   "cell_type": "code",
   "execution_count": null,
   "id": "1b31b5eb-3b7d-4700-bcc7-afe1e8147708",
   "metadata": {},
   "outputs": [],
   "source": [
    "f = fs.ls('aws-conida-ingest-bucket/PERUSAT-1/Lima/PRIMARY/')\n",
    "f"
   ]
  },
  {
   "cell_type": "code",
   "execution_count": null,
   "id": "4b3e8a45-194d-4af5-b073-f725980e16f5",
   "metadata": {},
   "outputs": [],
   "source": [
    "fs.size(f[-1])"
   ]
  },
  {
   "cell_type": "code",
   "execution_count": null,
   "id": "9502a593-700b-4b3b-9914-c5754c91ffb4",
   "metadata": {},
   "outputs": [],
   "source": [
    "fs.download(f[-1],'test.zip')"
   ]
  },
  {
   "cell_type": "code",
   "execution_count": null,
   "id": "98cf9a60-afc7-4d5e-a875-796974128976",
   "metadata": {},
   "outputs": [],
   "source": [
    "fs.ls('aws-conida-testing/COG/')"
   ]
  },
  {
   "cell_type": "code",
   "execution_count": null,
   "id": "578a3055-906a-4950-9251-7c22060a55a4",
   "metadata": {},
   "outputs": [],
   "source": [
    "fs.ls('conida-arcgis/cog_proxys/Lima/')"
   ]
  },
  {
   "cell_type": "code",
   "execution_count": null,
   "id": "88da84bc-5c5d-4ffd-8113-3a08dd71d7ed",
   "metadata": {},
   "outputs": [],
   "source": [
    "fs.ls('conida-arcgis/cog_proxys/Lima/ORTO/PAN/')"
   ]
  },
  {
   "cell_type": "code",
   "execution_count": null,
   "id": "b950c1b7-6630-406f-b782-6315ae0d7c25",
   "metadata": {},
   "outputs": [],
   "source": [
    "f = fs.glob('s3://aws-conida-ingest-bucket/PerúSAT-1/Piura/ORTO/PAN/*.TIF')"
   ]
  },
  {
   "cell_type": "code",
   "execution_count": null,
   "id": "2d4fcc5f-886f-4fd2-803e-cb17c32a7bbb",
   "metadata": {},
   "outputs": [],
   "source": [
    "fs.download('aws-conida-ingest-bucket/PerúSAT-1/Lima/PRIMARY/031_DS_PER1_201707011514370_PS1_W076S12_002983.zip','test.zip')"
   ]
  },
  {
   "cell_type": "code",
   "execution_count": null,
   "id": "adb1e5b7-a6fc-42a7-b549-c306520278e8",
   "metadata": {},
   "outputs": [],
   "source": [
    "f[0]"
   ]
  },
  {
   "cell_type": "markdown",
   "id": "1a04fbdf-3211-469f-b94b-8c5b143a5dc2",
   "metadata": {},
   "source": [
    "I converted one of these TIFs to COG and was able to create a bucket under the CONIDA account for it to live:"
   ]
  },
  {
   "cell_type": "code",
   "execution_count": null,
   "id": "092bf6e2-07c9-4e59-8987-c26043a23257",
   "metadata": {},
   "outputs": [],
   "source": [
    "f = fs.glob('aws-conida-testing/COG/*.tif')"
   ]
  },
  {
   "cell_type": "code",
   "execution_count": null,
   "id": "5540f160-d04a-4eb4-a26e-01ed938b0bc7",
   "metadata": {},
   "outputs": [],
   "source": [
    "f"
   ]
  },
  {
   "cell_type": "code",
   "execution_count": null,
   "id": "b0c8ad5d-5172-429d-8b74-4baf60c2d193",
   "metadata": {},
   "outputs": [],
   "source": [
    "fs.size(f[0])/1e6"
   ]
  },
  {
   "cell_type": "markdown",
   "id": "7d9f0691-30c4-4e69-a0a5-6ff53a648fa9",
   "metadata": {},
   "source": [
    "Set AWS credentials for GDAL:"
   ]
  },
  {
   "cell_type": "code",
   "execution_count": null,
   "id": "41a07fcf-36d6-43b1-a91a-1a0114446f7b",
   "metadata": {},
   "outputs": [],
   "source": [
    "env = dict(GDAL_DISABLE_READDIR_ON_OPEN='EMPTY_DIR',\n",
    "           AWS_DEFAULT_PROFILE='conida',\n",
    "           AWS_DEFAULT_REGION='sa-east-1')\n",
    "os.environ.update(env)"
   ]
  },
  {
   "cell_type": "markdown",
   "id": "4499a3e1-4b34-4b00-8abb-7c7ecd2400ea",
   "metadata": {},
   "source": [
    "Open a specific COG overview:"
   ]
  },
  {
   "cell_type": "code",
   "execution_count": null,
   "id": "b9930f60-aceb-4fff-8c88-a3eb49b041e4",
   "metadata": {},
   "outputs": [],
   "source": [
    "da = rxr.open_rasterio('s3://'+f[0], masked=True, overview_level=4).squeeze('band', drop=True)"
   ]
  },
  {
   "cell_type": "code",
   "execution_count": null,
   "id": "5f41940c-40e5-4ffa-9e45-0983abdac3f7",
   "metadata": {},
   "outputs": [],
   "source": [
    "da"
   ]
  },
  {
   "cell_type": "code",
   "execution_count": null,
   "id": "c40cb595-3170-4738-ac94-79db0763fbf9",
   "metadata": {},
   "outputs": [],
   "source": [
    "da.hvplot.image(x='x', y='y', crs='epsg:32717', rasterize=True, tiles='OSM', padding=0.5)"
   ]
  },
  {
   "cell_type": "code",
   "execution_count": null,
   "id": "bddbe136-b835-4492-9019-0246b4dfe019",
   "metadata": {},
   "outputs": [],
   "source": [
    "url = 'conida-arcgis/cog_proxys/Lima/ORTO/PAN/ORTO_DIM_PER1_20200406154539_SEN_P_000054.mrf'\n",
    "da = rxr.open_rasterio('s3://'+url, masked=True, overview_level=4).squeeze('band', drop=True)"
   ]
  },
  {
   "cell_type": "code",
   "execution_count": null,
   "id": "6415c112-6275-422e-9ca7-9184348a08f7",
   "metadata": {},
   "outputs": [],
   "source": [
    "(5+4+3+2+1)*10"
   ]
  },
  {
   "cell_type": "code",
   "execution_count": null,
   "id": "6ebbcf83-fb7c-4e0f-a762-acb273a09e40",
   "metadata": {},
   "outputs": [],
   "source": [
    "5*4+5*1"
   ]
  },
  {
   "cell_type": "code",
   "execution_count": null,
   "id": "1e208848-9194-4d17-88a2-e5e54301a76e",
   "metadata": {},
   "outputs": [],
   "source": [
    "10*4"
   ]
  },
  {
   "cell_type": "code",
   "execution_count": null,
   "id": "09313c9b-ade3-4478-8183-a445913c947c",
   "metadata": {},
   "outputs": [],
   "source": []
  }
 ],
 "metadata": {
  "kernelspec": {
   "display_name": "Python [conda env:pangeo]",
   "language": "python",
   "name": "conda-env-pangeo-py"
  },
  "language_info": {
   "codemirror_mode": {
    "name": "ipython",
    "version": 3
   },
   "file_extension": ".py",
   "mimetype": "text/x-python",
   "name": "python",
   "nbconvert_exporter": "python",
   "pygments_lexer": "ipython3",
   "version": "3.8.10"
  }
 },
 "nbformat": 4,
 "nbformat_minor": 5
}
