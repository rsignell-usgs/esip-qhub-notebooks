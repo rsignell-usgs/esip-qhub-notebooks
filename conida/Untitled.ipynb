{
 "cells": [
  {
   "cell_type": "code",
   "execution_count": null,
   "id": "bf695d84-dbc1-4ce1-876c-d3aa991471a5",
   "metadata": {},
   "outputs": [],
   "source": [
    "from dateutil import parser"
   ]
  },
  {
   "cell_type": "code",
   "execution_count": null,
   "id": "d71df7ca-91be-451d-9691-f1c72efe77aa",
   "metadata": {},
   "outputs": [],
   "source": []
  },
  {
   "cell_type": "code",
   "execution_count": null,
   "id": "b205479f-c4ea-4850-adfe-9f7a355f15c1",
   "metadata": {},
   "outputs": [],
   "source": [
    "t1 = parser.parse('June 14, 2021 -  2:17:33 PM')\n",
    "t2 = parser.parse('June 14, 2021 -  2:27:13 PM')"
   ]
  },
  {
   "cell_type": "code",
   "execution_count": null,
   "id": "e2eecc82-8743-47e4-881b-4c20fb1bf6ce",
   "metadata": {},
   "outputs": [],
   "source": [
    "t2-t1"
   ]
  },
  {
   "cell_type": "code",
   "execution_count": null,
   "id": "e7661c8e-f963-4207-a05b-d49baae968b1",
   "metadata": {},
   "outputs": [],
   "source": [
    "dt('June 14, 2021 - 10:52:24 AM')\n",
    "dt('June 14, 2021 - 11:04:48 AM')"
   ]
  },
  {
   "cell_type": "code",
   "execution_count": null,
   "id": "3e7ab788-9a26-4f57-831f-9bfc6f4e0076",
   "metadata": {},
   "outputs": [],
   "source": [
    "t1 = parser.parse('June 14, 2021 -  4:23:55 PM')\n",
    "t2 = parser.parse('June 14, 2021 -  4:33:13 PM')"
   ]
  },
  {
   "cell_type": "code",
   "execution_count": null,
   "id": "e3f96c8e-6dc9-405c-948f-66ae74bfa5d6",
   "metadata": {},
   "outputs": [],
   "source": [
    "t2-t1"
   ]
  },
  {
   "cell_type": "code",
   "execution_count": null,
   "id": "7304bc08-876f-4d18-ab91-60bc24dbe09d",
   "metadata": {},
   "outputs": [],
   "source": [
    "t1 = parser.parse('June 14, 2021 -  6:18:25 PM')\n",
    "t2 = parser.parse('June 14, 2021 -  6:27:10 PM')"
   ]
  },
  {
   "cell_type": "code",
   "execution_count": null,
   "id": "8dbf3297-43ef-4b34-b478-a7e4528ec34f",
   "metadata": {},
   "outputs": [],
   "source": [
    "t2-t1"
   ]
  },
  {
   "cell_type": "code",
   "execution_count": null,
   "id": "0c677dfc-e296-459e-a25c-848b6d545e9e",
   "metadata": {},
   "outputs": [],
   "source": [
    "t1 = parser.parse('June 14, 2021 -  6:41:25 PM')\n",
    "t2 = parser.parse('June 14, 2021 -  6:43:09 PM')"
   ]
  },
  {
   "cell_type": "code",
   "execution_count": null,
   "id": "cdf56ed9-3e1e-4677-85f4-facefbb7cb31",
   "metadata": {},
   "outputs": [],
   "source": [
    "t2-t1"
   ]
  },
  {
   "cell_type": "code",
   "execution_count": null,
   "id": "090ff2af-cd91-449b-9822-c4ffb934840e",
   "metadata": {},
   "outputs": [],
   "source": [
    "t1 = parser.parse('June 15, 2021 - 10:38:27 AM')\n",
    "t2 = parser.parse('June 15, 2021 - 10:48:23 AM')\n",
    "t2-t1"
   ]
  },
  {
   "cell_type": "code",
   "execution_count": null,
   "id": "8174c990-5a48-4ff1-b34b-d3e4905cfbbe",
   "metadata": {},
   "outputs": [],
   "source": [
    "t1 = parser.parse('Tuesday - June 15, 2021 - 11:21:27 AM')\n",
    "t2 = parser.parse('Tuesday - June 15, 2021 - 11:31:11 AM')\n",
    "t2-t1"
   ]
  },
  {
   "cell_type": "code",
   "execution_count": null,
   "id": "ad290cb2-3a55-46e3-948b-faf1b167aa92",
   "metadata": {},
   "outputs": [],
   "source": [
    "t1 = parser.parse('Tuesday - June 15, 2021 - 11:37:56 AM')\n",
    "t2 = parser.parse('Tuesday - June 15, 2021 - 11:47:56 AM')\n",
    "t2-t1"
   ]
  },
  {
   "cell_type": "code",
   "execution_count": null,
   "id": "fc2df495-a271-4291-9ffc-731c29cc66e4",
   "metadata": {},
   "outputs": [],
   "source": [
    "600/584"
   ]
  },
  {
   "cell_type": "code",
   "execution_count": null,
   "id": "c33a89f2-3b11-4bb7-82cb-1cbbcce3034e",
   "metadata": {},
   "outputs": [],
   "source": [
    "t1 = parser.parse('June 15, 2021 - 12:09:27 PM')\n",
    "t2 = parser.parse('June 15, 2021 - 12:19:12 PM')\n",
    "t2-t1"
   ]
  },
  {
   "cell_type": "code",
   "execution_count": null,
   "id": "2e615ebb-bcac-46a5-8d80-9e35362923e5",
   "metadata": {},
   "outputs": [],
   "source": [
    "t1 = parser.parse('June 15, 2021 - 12:52:47 PM')\n",
    "t2 = parser.parse('June 15, 2021 -  1:02:50 PM')\n",
    "t2-t1"
   ]
  },
  {
   "cell_type": "code",
   "execution_count": null,
   "id": "c55674a8-bb9c-4f7a-b634-ffe53b62c47d",
   "metadata": {},
   "outputs": [],
   "source": [
    "Tuesday - June 15, 2021 - 12:09:27 PM\n",
    " ROMS/TOMS: DONE... Tuesday - June 15, 2021 - 12:19:12 PM"
   ]
  },
  {
   "cell_type": "code",
   "execution_count": null,
   "id": "ed4ecf38-dfa5-4f9c-949e-30d776c705dd",
   "metadata": {},
   "outputs": [],
   "source": [
    "Tuesday - June 15, 2021 - 12:52:47 PM\n",
    " ROMS/TOMS: DONE... Tuesday - June 15, 2021 -  1:02:50 PM"
   ]
  }
 ],
 "metadata": {
  "kernelspec": {
   "display_name": "Python [conda env:pangeo]",
   "language": "python",
   "name": "conda-env-pangeo-py"
  },
  "language_info": {
   "codemirror_mode": {
    "name": "ipython",
    "version": 3
   },
   "file_extension": ".py",
   "mimetype": "text/x-python",
   "name": "python",
   "nbconvert_exporter": "python",
   "pygments_lexer": "ipython3",
   "version": "3.8.10"
  }
 },
 "nbformat": 4,
 "nbformat_minor": 5
}
