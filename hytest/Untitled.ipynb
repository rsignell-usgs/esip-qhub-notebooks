{
 "cells": [
  {
   "cell_type": "code",
   "execution_count": 1,
   "id": "2f658e2a-d26a-4b6d-90e1-d916552b33f8",
   "metadata": {},
   "outputs": [],
   "source": [
    "import fsspec\n",
    "import xarray as xr"
   ]
  },
  {
   "cell_type": "code",
   "execution_count": 2,
   "id": "aad07641-cec2-4717-9be3-f2389b70bfd5",
   "metadata": {},
   "outputs": [],
   "source": [
    "fs = fsspec.filesystem('s3', profile='esip-qhub')"
   ]
  },
  {
   "cell_type": "code",
   "execution_count": 4,
   "id": "5b104a61-2f54-4e83-ab59-43640390f694",
   "metadata": {},
   "outputs": [],
   "source": [
    "url = 's3://esip-qhub/usgs/testing/1979_gm_ppt_2020_07_14.nc'"
   ]
  },
  {
   "cell_type": "code",
   "execution_count": 7,
   "id": "aebd30d3-10f8-4d95-85f8-818bf300efcd",
   "metadata": {},
   "outputs": [
    {
     "ename": "ValueError",
     "evalue": "b'CDF\\x01\\x00\\x00\\x00\\x00' is not the signature of a valid netCDF4 file",
     "output_type": "error",
     "traceback": [
      "\u001b[0;31m---------------------------------------------------------------------------\u001b[0m",
      "\u001b[0;31mValueError\u001b[0m                                Traceback (most recent call last)",
      "\u001b[0;32m<timed exec>\u001b[0m in \u001b[0;36m<module>\u001b[0;34m\u001b[0m\n",
      "\u001b[0;32m/home/conda/store/6251561370ff4033bf900991ab7ca5411d1d2c4a9317c36bc58af5eec4d265ad-pangeo/lib/python3.9/site-packages/xarray/backends/api.py\u001b[0m in \u001b[0;36mopen_dataset\u001b[0;34m(filename_or_obj, engine, chunks, cache, decode_cf, mask_and_scale, decode_times, decode_timedelta, use_cftime, concat_characters, decode_coords, drop_variables, backend_kwargs, *args, **kwargs)\u001b[0m\n\u001b[1;32m    493\u001b[0m \u001b[0;34m\u001b[0m\u001b[0m\n\u001b[1;32m    494\u001b[0m     \u001b[0moverwrite_encoded_chunks\u001b[0m \u001b[0;34m=\u001b[0m \u001b[0mkwargs\u001b[0m\u001b[0;34m.\u001b[0m\u001b[0mpop\u001b[0m\u001b[0;34m(\u001b[0m\u001b[0;34m\"overwrite_encoded_chunks\"\u001b[0m\u001b[0;34m,\u001b[0m \u001b[0;32mNone\u001b[0m\u001b[0;34m)\u001b[0m\u001b[0;34m\u001b[0m\u001b[0;34m\u001b[0m\u001b[0m\n\u001b[0;32m--> 495\u001b[0;31m     backend_ds = backend.open_dataset(\n\u001b[0m\u001b[1;32m    496\u001b[0m         \u001b[0mfilename_or_obj\u001b[0m\u001b[0;34m,\u001b[0m\u001b[0;34m\u001b[0m\u001b[0;34m\u001b[0m\u001b[0m\n\u001b[1;32m    497\u001b[0m         \u001b[0mdrop_variables\u001b[0m\u001b[0;34m=\u001b[0m\u001b[0mdrop_variables\u001b[0m\u001b[0;34m,\u001b[0m\u001b[0;34m\u001b[0m\u001b[0;34m\u001b[0m\u001b[0m\n",
      "\u001b[0;32m/home/conda/store/6251561370ff4033bf900991ab7ca5411d1d2c4a9317c36bc58af5eec4d265ad-pangeo/lib/python3.9/site-packages/xarray/backends/h5netcdf_.py\u001b[0m in \u001b[0;36mopen_dataset\u001b[0;34m(self, filename_or_obj, mask_and_scale, decode_times, concat_characters, decode_coords, drop_variables, use_cftime, decode_timedelta, format, group, lock, invalid_netcdf, phony_dims, decode_vlen_strings)\u001b[0m\n\u001b[1;32m    372\u001b[0m \u001b[0;34m\u001b[0m\u001b[0m\n\u001b[1;32m    373\u001b[0m         \u001b[0mfilename_or_obj\u001b[0m \u001b[0;34m=\u001b[0m \u001b[0m_normalize_path\u001b[0m\u001b[0;34m(\u001b[0m\u001b[0mfilename_or_obj\u001b[0m\u001b[0;34m)\u001b[0m\u001b[0;34m\u001b[0m\u001b[0;34m\u001b[0m\u001b[0m\n\u001b[0;32m--> 374\u001b[0;31m         store = H5NetCDFStore.open(\n\u001b[0m\u001b[1;32m    375\u001b[0m             \u001b[0mfilename_or_obj\u001b[0m\u001b[0;34m,\u001b[0m\u001b[0;34m\u001b[0m\u001b[0;34m\u001b[0m\u001b[0m\n\u001b[1;32m    376\u001b[0m             \u001b[0mformat\u001b[0m\u001b[0;34m=\u001b[0m\u001b[0mformat\u001b[0m\u001b[0;34m,\u001b[0m\u001b[0;34m\u001b[0m\u001b[0;34m\u001b[0m\u001b[0m\n",
      "\u001b[0;32m/home/conda/store/6251561370ff4033bf900991ab7ca5411d1d2c4a9317c36bc58af5eec4d265ad-pangeo/lib/python3.9/site-packages/xarray/backends/h5netcdf_.py\u001b[0m in \u001b[0;36mopen\u001b[0;34m(cls, filename, mode, format, group, lock, autoclose, invalid_netcdf, phony_dims, decode_vlen_strings)\u001b[0m\n\u001b[1;32m    148\u001b[0m             \u001b[0mmagic_number\u001b[0m \u001b[0;34m=\u001b[0m \u001b[0mread_magic_number_from_file\u001b[0m\u001b[0;34m(\u001b[0m\u001b[0mfilename\u001b[0m\u001b[0;34m)\u001b[0m\u001b[0;34m\u001b[0m\u001b[0;34m\u001b[0m\u001b[0m\n\u001b[1;32m    149\u001b[0m             \u001b[0;32mif\u001b[0m \u001b[0;32mnot\u001b[0m \u001b[0mmagic_number\u001b[0m\u001b[0;34m.\u001b[0m\u001b[0mstartswith\u001b[0m\u001b[0;34m(\u001b[0m\u001b[0;34mb\"\\211HDF\\r\\n\\032\\n\"\u001b[0m\u001b[0;34m)\u001b[0m\u001b[0;34m:\u001b[0m\u001b[0;34m\u001b[0m\u001b[0;34m\u001b[0m\u001b[0m\n\u001b[0;32m--> 150\u001b[0;31m                 raise ValueError(\n\u001b[0m\u001b[1;32m    151\u001b[0m                     \u001b[0;34mf\"{magic_number} is not the signature of a valid netCDF4 file\"\u001b[0m\u001b[0;34m\u001b[0m\u001b[0;34m\u001b[0m\u001b[0m\n\u001b[1;32m    152\u001b[0m                 )\n",
      "\u001b[0;31mValueError\u001b[0m: b'CDF\\x01\\x00\\x00\\x00\\x00' is not the signature of a valid netCDF4 file"
     ]
    }
   ],
   "source": [
    "%%time\n",
    "ds = xr.open_dataset(fs.open(url))"
   ]
  },
  {
   "cell_type": "code",
   "execution_count": 2,
   "id": "a4a69ef6-6b35-4a16-a576-44880ba9b0b3",
   "metadata": {},
   "outputs": [
    {
     "name": "stdout",
     "output_type": "stream",
     "text": [
      "3.92\n",
      "378124.0\n",
      "-20291.359605001286\n",
      "7.91\n",
      "665692.0\n",
      "-12047.26791100204\n"
     ]
    }
   ],
   "source": [
    "# kubernetes units\n",
    "# E,P,T,G,M,K   10^3, 10^6, ... bytes\n",
    "# Ei, Pi, Ti, Gi, Mi, Ki = 2^10, 2^20, ... bytes\n",
    "\n",
    "# https://cloud.google.com/kubernetes-engine/docs/concepts/cluster-architecture#node_allocatable\n",
    "\n",
    "import math\n",
    "\n",
    "def available_cpu(cpu : int):\n",
    "    # 6% of the first core\n",
    "    reserved = 0.06\n",
    "    if cpu > 1:\n",
    "       reserved = reserved + 0.01\n",
    "    if cpu > 2:\n",
    "       reserved = reserved + 0.005\n",
    "    if cpu > 3:\n",
    "       reserved = reserved + 0.005\n",
    "    if cpu > 4:\n",
    "       reserved = reserved + 0.0025 * (cpu - 4)\n",
    "    return cpu - reserved\n",
    "\n",
    "def available_memory(memory : int):\n",
    "    # memory in bytes\n",
    "    Gi = 2**30\n",
    "    Mi = 2**20\n",
    "    Ki = 2**10\n",
    "\n",
    "    # using linux kernel requirements\n",
    "    memory = memory * 0.9833 - 1.205e8\n",
    "\n",
    "    eviction_threshold = 100*Mi\n",
    "\n",
    "    if memory < Gi:\n",
    "        return memory - (255 * Mi)\n",
    "\n",
    "    reserved = min(memory, 4*Gi) * 0.25\n",
    "    if memory > 4*Gi:\n",
    "        reserved = reserved + min(memory - 4*Gi, 4*Gi) * 0.20\n",
    "    if memory > 8*Gi:\n",
    "        reserved = reserved + min(memory - 8*Gi, 8*Gi) * 0.10\n",
    "    if memory > 16*Gi:\n",
    "        reserved = reserved + min(memory - 16*Gi, 112*Gi) * 0.06\n",
    "    if memory > 128*Gi:\n",
    "        reserved = reserved + (memory - 128*Gi) * 0.02\n",
    "\n",
    "    return memory - reserved - eviction_threshold\n",
    "\n",
    "print(available_cpu(4))\n",
    "print(16 * 2**30 / 1024 - 16399092)\n",
    "print(available_memory(16 * 2**30) / 1024 - 13610740)\n",
    "\n",
    "print(available_cpu(8))\n",
    "print(32 * 2**30 / 1024 - 32888740)\n",
    "print(available_memory(32 * 2**30) / 1024 - 29093796)\n",
    "\n",
    "# so within the 20Mi for the estimate"
   ]
  },
  {
   "cell_type": "code",
   "execution_count": 3,
   "id": "59a68a04-8aba-4e9c-9f3a-9d850b7a1196",
   "metadata": {},
   "outputs": [
    {
     "data": {
      "text/plain": [
       "3.92"
      ]
     },
     "execution_count": 3,
     "metadata": {},
     "output_type": "execute_result"
    }
   ],
   "source": [
    "available_cpu(4)"
   ]
  },
  {
   "cell_type": "code",
   "execution_count": 6,
   "id": "fc1d9ac3-d1a3-402a-b72e-a415dc311b0f",
   "metadata": {},
   "outputs": [
    {
     "data": {
      "text/plain": [
       "27.734516841973303"
      ]
     },
     "execution_count": 6,
     "metadata": {},
     "output_type": "execute_result"
    }
   ],
   "source": [
    "available_memory(32*2**30)/(2**30)"
   ]
  },
  {
   "cell_type": "code",
   "execution_count": null,
   "id": "f65c2661-04fe-4933-b7bc-48ba538e0ad2",
   "metadata": {},
   "outputs": [],
   "source": []
  }
 ],
 "metadata": {
  "kernelspec": {
   "display_name": "Python [conda env:pangeo]",
   "language": "python",
   "name": "conda-env-pangeo-py"
  },
  "language_info": {
   "codemirror_mode": {
    "name": "ipython",
    "version": 3
   },
   "file_extension": ".py",
   "mimetype": "text/x-python",
   "name": "python",
   "nbconvert_exporter": "python",
   "pygments_lexer": "ipython3",
   "version": "3.9.7"
  },
  "widgets": {
   "application/vnd.jupyter.widget-state+json": {
    "state": {},
    "version_major": 2,
    "version_minor": 0
   }
  }
 },
 "nbformat": 4,
 "nbformat_minor": 5
}
