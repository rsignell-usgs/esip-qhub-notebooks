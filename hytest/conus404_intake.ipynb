{
 "cells": [
  {
   "cell_type": "markdown",
   "id": "3a3edc9f-3c66-4e03-8c75-b147f15b2e50",
   "metadata": {},
   "source": [
    "# Explore rechunked CONUS404 dataset\n",
    "This dataset was created by extracting 38 variables from a collection of wrf2d output files, rechunking to better facilitate data extraction for a variety of use cases, and adding CF conventions to allow easier analysis, visualization and data extraction using Xarray"
   ]
  },
  {
   "cell_type": "code",
   "execution_count": null,
   "id": "547b851f-3dd9-4b9f-988b-54c743a43bbe",
   "metadata": {},
   "outputs": [],
   "source": [
    "import fsspec\n",
    "import xarray as xr\n",
    "import hvplot.xarray\n",
    "import intake\n",
    "import os\n",
    "import numpy as np\n",
    "import warnings\n",
    "from matplotlib import path\n",
    "import panel as pn\n",
    "warnings.filterwarnings('ignore')"
   ]
  },
  {
   "cell_type": "markdown",
   "id": "57354df2-6786-4d1d-859e-1d5099cb85b9",
   "metadata": {},
   "source": [
    "#### Open dataset from Intake Catalog\n",
    "* Automatically select on-prem dataset from /caldera if running on prem (Denali/Tallgrass)\n",
    "* Automatically select cloud data on S3 if not running on prem \n",
    "\n",
    "To test whether we are on-prem, we see if SLURM_CLUSTER_NAME is defined.  If SLURM_CLUSTER_NAME is not defined, the user is either not on Denali/Tallgrass on the main node, which they should not be on"
   ]
  },
  {
   "cell_type": "code",
   "execution_count": null,
   "id": "59cbaa2a-f2a3-4e45-997f-d13cec37d213",
   "metadata": {},
   "outputs": [],
   "source": [
    "url = 'https://raw.githubusercontent.com/nhm-usgs/data-pipeline-helpers/main/conus404/conus404_intake.yml'"
   ]
  },
  {
   "cell_type": "code",
   "execution_count": null,
   "id": "c6d6c625-b5d7-4a17-ae2d-d7c2e8bc3fa6",
   "metadata": {},
   "outputs": [],
   "source": [
    "cat = intake.open_catalog(url)\n",
    "list(cat)"
   ]
  },
  {
   "cell_type": "code",
   "execution_count": null,
   "id": "bceea39d-78e2-4480-aaf3-0ead09b7e09a",
   "metadata": {},
   "outputs": [],
   "source": [
    "if 'SLURM_CLUSTER_NAME' in os.environ:\n",
    "    ds = cat['conus404-2017-onprem'].to_dask()\n",
    "else:\n",
    "    ds = cat['conus404-2017-cloud'].to_dask()"
   ]
  },
  {
   "cell_type": "code",
   "execution_count": null,
   "id": "2bd3316b-6e51-4fae-b536-2f5fdbacfd81",
   "metadata": {},
   "outputs": [],
   "source": [
    "ds"
   ]
  },
  {
   "cell_type": "code",
   "execution_count": null,
   "id": "d3b2ce8a-6499-4413-861c-65d48f7af108",
   "metadata": {},
   "outputs": [],
   "source": [
    "ds.SNOW"
   ]
  },
  {
   "cell_type": "markdown",
   "id": "8e736ff3-b0e4-4452-af46-1afa462af185",
   "metadata": {},
   "source": [
    "#### Load the full domain at a specific time step"
   ]
  },
  {
   "cell_type": "code",
   "execution_count": null,
   "id": "4bbeca3c-0f2d-4e40-8139-523d544df4bc",
   "metadata": {},
   "outputs": [],
   "source": [
    "%%time\n",
    "da = ds.SNOW.sel(time='2017-03-01 00:00').load()"
   ]
  },
  {
   "cell_type": "code",
   "execution_count": null,
   "id": "f46edc95-8904-4256-9729-7c09f03c51d2",
   "metadata": {},
   "outputs": [],
   "source": [
    "da.hvplot.quadmesh(x='lon', y='lat', rasterize=True, \n",
    "                             geo=True, tiles='OSM', alpha=0.7, cmap='turbo')"
   ]
  },
  {
   "cell_type": "markdown",
   "id": "91c71dae-3e8e-4293-b741-9c0992cc4c52",
   "metadata": {},
   "source": [
    "#### Load the full time series at a specific grid cell"
   ]
  },
  {
   "cell_type": "code",
   "execution_count": null,
   "id": "3eb7182a-dec0-4308-a40b-abf63bc6599c",
   "metadata": {},
   "outputs": [],
   "source": [
    "lat = 29.9659416\n",
    "lon = -96.1206"
   ]
  },
  {
   "cell_type": "code",
   "execution_count": null,
   "id": "31e6bd3f-7d84-4643-a7ed-b6328aac08c5",
   "metadata": {},
   "outputs": [],
   "source": [
    "def nearxy(x,y,xi,yi):\n",
    "    ind = np.ones(len(xi),dtype=int)\n",
    "    for i in range(len(xi)):\n",
    "        dist = np.sqrt((x-xi[i])**2+(y-yi[i])**2)\n",
    "        ind[i] = dist.argmin()\n",
    "    return ind"
   ]
  },
  {
   "cell_type": "code",
   "execution_count": null,
   "id": "09eda15b-dc72-4a3c-8fc5-bcc16d8ebf2e",
   "metadata": {},
   "outputs": [],
   "source": [
    "def ind2sub(array_shape, ind):\n",
    "    rows = int(ind.astype('int') / array_shape[1])\n",
    "    cols = int(ind.astype('int') % array_shape[1]) # or numpy.mod(ind.astype('int'), array_shape[1])\n",
    "    return (rows, cols)"
   ]
  },
  {
   "cell_type": "code",
   "execution_count": null,
   "id": "ba3ce582-0c6c-4815-bc63-ae651a1ec9a0",
   "metadata": {},
   "outputs": [],
   "source": [
    "[jj,ii] = ind2sub(ds.lon.shape, nearxy(ds.lon,ds.lat,[lon], [lat]))"
   ]
  },
  {
   "cell_type": "code",
   "execution_count": null,
   "id": "08cae05b-7a7b-4329-a707-bb8a7d137053",
   "metadata": {},
   "outputs": [],
   "source": [
    "%%time\n",
    "da = ds.T2.isel(south_north=jj,west_east=ii).load()"
   ]
  },
  {
   "cell_type": "code",
   "execution_count": null,
   "id": "a9e306cc-9c06-4079-96b1-12b1cf478ad0",
   "metadata": {},
   "outputs": [],
   "source": [
    "da.hvplot(x='time', grid=True)"
   ]
  },
  {
   "cell_type": "markdown",
   "id": "9c58a558-f613-4678-af32-06a7e0d47c61",
   "metadata": {},
   "source": [
    "#### Extract a subset to NetCDF"
   ]
  },
  {
   "cell_type": "code",
   "execution_count": null,
   "id": "822a468a-3305-4c1f-bde8-8b01c498f0b0",
   "metadata": {},
   "outputs": [],
   "source": [
    "bbox = [-76.63290610753754, -73.55671530588432, 37.57888442021855, 41.225532965406224]   # DRB"
   ]
  },
  {
   "cell_type": "code",
   "execution_count": null,
   "id": "e2d8d741-7039-4a0c-8947-21b7afad2048",
   "metadata": {},
   "outputs": [],
   "source": [
    "def bbox2ij(lon,lat,bbox=[-160., -155., 18., 23.]):\n",
    "    \"\"\"Return indices for i,j that will completely cover the specified bounding box.     \n",
    "    i0,i1,j0,j1 = bbox2ij(lon,lat,bbox)\n",
    "    lon,lat = 2D arrays that are the target of the subset\n",
    "    bbox = list containing the bounding box: [lon_min, lon_max, lat_min, lat_max]\n",
    "\n",
    "    Example\n",
    "    -------  \n",
    "    >>> i0,i1,j0,j1 = bbox2ij(lon_rho,lat_rho,[-71, -63., 39., 46])\n",
    "    >>> h_subset = nc.variables['h'][j0:j1,i0:i1]       \n",
    "    \"\"\"\n",
    "    bbox=np.array(bbox)\n",
    "    mypath=np.array([bbox[[0,1,1,0]],bbox[[2,2,3,3]]]).T\n",
    "    p = path.Path(mypath)\n",
    "    points = np.vstack((lon.ravel(),lat.ravel())).T   \n",
    "    n,m = np.shape(lon)\n",
    "    inside = p.contains_points(points).reshape((n,m))\n",
    "    ii,jj = np.meshgrid(range(m),range(n))\n",
    "    return min(ii[inside]),max(ii[inside]),min(jj[inside]),max(jj[inside])"
   ]
  },
  {
   "cell_type": "code",
   "execution_count": null,
   "id": "cfc32796-b64d-4cad-8d3b-feb403487926",
   "metadata": {},
   "outputs": [],
   "source": [
    "i0,i1,j0,j1 = bbox2ij(ds['lon'].values, ds['lat'].values, bbox=bbox)\n",
    "print(i0,i1,j0,j1)"
   ]
  },
  {
   "cell_type": "code",
   "execution_count": null,
   "id": "16a08abb-2a70-413e-bfeb-bd5dc007d950",
   "metadata": {},
   "outputs": [],
   "source": [
    "ds_drb = ds.isel(south_north=slice(j0,j1), west_east=slice(i0,i1))"
   ]
  },
  {
   "cell_type": "code",
   "execution_count": null,
   "id": "89236386-9b32-481a-8489-e7d1ff883458",
   "metadata": {},
   "outputs": [],
   "source": [
    "ds_drb_timeslice = ds_drb.sel(time=slice('2017-04-01 00:00','2017-04-08 00:00'))"
   ]
  },
  {
   "cell_type": "code",
   "execution_count": null,
   "id": "edfc5185-5ee2-441d-afd0-afc5065e00ce",
   "metadata": {},
   "outputs": [],
   "source": [
    "ds_drb_timeslice = ds_drb_timeslice.chunk({'south_north':-1, 'west_east':-1})  # chunk to full spatial subset domain"
   ]
  },
  {
   "cell_type": "code",
   "execution_count": null,
   "id": "4ca436e9-d7bf-4f3b-b5f3-bd3ce21adf01",
   "metadata": {},
   "outputs": [],
   "source": [
    "var = 'T2'\n",
    "da = ds_drb_timeslice[var]"
   ]
  },
  {
   "cell_type": "code",
   "execution_count": null,
   "id": "265feb6c-ae68-488a-be86-8bf53fa8f008",
   "metadata": {},
   "outputs": [],
   "source": [
    "%%time\n",
    "viz = da.hvplot.quadmesh(x='lon', y='lat', geo=True,\n",
    "                    cmap='turbo', rasterize=True, tiles='OSM', title=var)\n",
    "viz = pn.panel(viz, widgets={'time': pn.widgets.Select} )\n",
    "pn.Column(viz).servable('DRB Explorer')"
   ]
  },
  {
   "cell_type": "code",
   "execution_count": null,
   "id": "60dc24a1-7cc9-4de0-a2ae-649e2b741a0c",
   "metadata": {},
   "outputs": [],
   "source": [
    "var_list = ['T2', 'SNOW']\n",
    "\n",
    "ds_nc = ds_drb_timeslice[var_list]\n",
    "ds_nc"
   ]
  },
  {
   "cell_type": "code",
   "execution_count": null,
   "id": "303f41a8-c4f3-45c7-a964-bd2beecf3e0f",
   "metadata": {},
   "outputs": [],
   "source": [
    "%%time\n",
    "ds_nc.to_netcdf('drb.nc', mode='w')"
   ]
  }
 ],
 "metadata": {
  "kernelspec": {
   "display_name": "Python [conda env:pangeo] *",
   "language": "python",
   "name": "conda-env-pangeo-py"
  },
  "language_info": {
   "codemirror_mode": {
    "name": "ipython",
    "version": 3
   },
   "file_extension": ".py",
   "mimetype": "text/x-python",
   "name": "python",
   "nbconvert_exporter": "python",
   "pygments_lexer": "ipython3",
   "version": "3.7.10"
  },
  "widgets": {
   "application/vnd.jupyter.widget-state+json": {
    "state": {},
    "version_major": 2,
    "version_minor": 0
   }
  }
 },
 "nbformat": 4,
 "nbformat_minor": 5
}
