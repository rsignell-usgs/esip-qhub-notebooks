{
 "cells": [
  {
   "cell_type": "markdown",
   "id": "3a3edc9f-3c66-4e03-8c75-b147f15b2e50",
   "metadata": {},
   "source": [
    "# Test rechunked CONUS404"
   ]
  },
  {
   "cell_type": "code",
   "execution_count": null,
   "id": "547b851f-3dd9-4b9f-988b-54c743a43bbe",
   "metadata": {},
   "outputs": [],
   "source": [
    "import fsspec\n",
    "import xarray as xr\n",
    "import hvplot.xarray\n",
    "import intake\n",
    "import os\n",
    "import warnings\n",
    "warnings.filterwarnings('ignore')"
   ]
  },
  {
   "cell_type": "markdown",
   "id": "57354df2-6786-4d1d-859e-1d5099cb85b9",
   "metadata": {},
   "source": [
    "#### Open dataset from Intake Catalog\n",
    "* Automatically select on-prem dataset from /caldera if running on prem (Denali/Tallgrass)\n",
    "* Automatically select cloud data on S3 if not running on prem \n",
    "\n",
    "To test whether we are on-prem, we see if SLURM_CLUSTER_NAME is defined.  If SLURM_CLUSTER_NAME is not defined, the user is either not on Denali/Tallgrass on the main node, which they should not be on"
   ]
  },
  {
   "cell_type": "code",
   "execution_count": null,
   "id": "59cbaa2a-f2a3-4e45-997f-d13cec37d213",
   "metadata": {},
   "outputs": [],
   "source": [
    "url = 'https://raw.githubusercontent.com/nhm-usgs/data-pipeline-helpers/main/conus404/conus404_intake.yml'"
   ]
  },
  {
   "cell_type": "code",
   "execution_count": null,
   "id": "c6d6c625-b5d7-4a17-ae2d-d7c2e8bc3fa6",
   "metadata": {},
   "outputs": [],
   "source": [
    "cat = intake.open_catalog(url)\n",
    "list(cat)"
   ]
  },
  {
   "cell_type": "code",
   "execution_count": null,
   "id": "bceea39d-78e2-4480-aaf3-0ead09b7e09a",
   "metadata": {},
   "outputs": [],
   "source": [
    "if 'SLURM_CLUSTER_NAME' in os.environ:\n",
    "    ds = cat['conus404-2017-onprem'].to_dask()\n",
    "else:\n",
    "    ds = cat['conus404-2017-cloud'].to_dask()"
   ]
  },
  {
   "cell_type": "code",
   "execution_count": null,
   "id": "2bd3316b-6e51-4fae-b536-2f5fdbacfd81",
   "metadata": {},
   "outputs": [],
   "source": [
    "ds"
   ]
  },
  {
   "cell_type": "code",
   "execution_count": null,
   "id": "d3b2ce8a-6499-4413-861c-65d48f7af108",
   "metadata": {},
   "outputs": [],
   "source": [
    "ds.SNOW"
   ]
  },
  {
   "cell_type": "markdown",
   "id": "8e736ff3-b0e4-4452-af46-1afa462af185",
   "metadata": {},
   "source": [
    "#### Load the full domain at a specific time step"
   ]
  },
  {
   "cell_type": "code",
   "execution_count": null,
   "id": "4bbeca3c-0f2d-4e40-8139-523d544df4bc",
   "metadata": {},
   "outputs": [],
   "source": [
    "%%time\n",
    "da = ds.SNOW.sel(time='2017-03-01 00:00').load()"
   ]
  },
  {
   "cell_type": "code",
   "execution_count": null,
   "id": "f46edc95-8904-4256-9729-7c09f03c51d2",
   "metadata": {},
   "outputs": [],
   "source": [
    "da.hvplot.quadmesh(x='lon', y='lat', rasterize=True, \n",
    "                             geo=True, tiles='OSM', alpha=0.7, cmap='turbo')"
   ]
  },
  {
   "cell_type": "markdown",
   "id": "91c71dae-3e8e-4293-b741-9c0992cc4c52",
   "metadata": {},
   "source": [
    "#### Load the full time series at a specific grid cell"
   ]
  },
  {
   "cell_type": "code",
   "execution_count": null,
   "id": "08cae05b-7a7b-4329-a707-bb8a7d137053",
   "metadata": {},
   "outputs": [],
   "source": [
    "%%time\n",
    "da = ds.T2.isel(south_north=600,west_east=600).load()"
   ]
  },
  {
   "cell_type": "code",
   "execution_count": null,
   "id": "a9e306cc-9c06-4079-96b1-12b1cf478ad0",
   "metadata": {},
   "outputs": [],
   "source": [
    "da.hvplot(x='time', grid=True)"
   ]
  }
 ],
 "metadata": {
  "kernelspec": {
   "display_name": "Python [conda env:pangeo]",
   "language": "python",
   "name": "conda-env-pangeo-py"
  },
  "language_info": {
   "codemirror_mode": {
    "name": "ipython",
    "version": 3
   },
   "file_extension": ".py",
   "mimetype": "text/x-python",
   "name": "python",
   "nbconvert_exporter": "python",
   "pygments_lexer": "ipython3",
   "version": "3.9.7"
  },
  "widgets": {
   "application/vnd.jupyter.widget-state+json": {
    "state": {},
    "version_major": 2,
    "version_minor": 0
   }
  }
 },
 "nbformat": 4,
 "nbformat_minor": 5
}
