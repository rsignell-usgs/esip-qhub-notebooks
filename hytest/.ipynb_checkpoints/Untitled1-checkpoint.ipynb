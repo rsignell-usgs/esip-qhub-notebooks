{
 "cells": [
  {
   "cell_type": "code",
   "execution_count": null,
   "id": "7d692bc0-1eda-4da1-87d3-3ca4aeec70da",
   "metadata": {},
   "outputs": [],
   "source": [
    "import geoviews"
   ]
  },
  {
   "cell_type": "code",
   "execution_count": null,
   "id": "6d5455a5-b356-4205-9e4e-420f7b52af13",
   "metadata": {},
   "outputs": [],
   "source": [
    "import hvplot"
   ]
  },
  {
   "cell_type": "code",
   "execution_count": null,
   "id": "f7162fa3-ed51-43e6-b265-aed15e67e6aa",
   "metadata": {},
   "outputs": [],
   "source": [
    "import holoviews"
   ]
  },
  {
   "cell_type": "code",
   "execution_count": null,
   "id": "b78a86b1-5d16-4f39-9d0b-ab27bf0b37e9",
   "metadata": {},
   "outputs": [],
   "source": [
    "import panel"
   ]
  },
  {
   "cell_type": "code",
   "execution_count": null,
   "id": "458e2c28-8dc1-4cb5-92ef-0e7810b4f365",
   "metadata": {},
   "outputs": [],
   "source": [
    "import datashader"
   ]
  },
  {
   "cell_type": "code",
   "execution_count": null,
   "id": "a8059ea5-ec2e-42b7-9d3c-fdd855c37059",
   "metadata": {},
   "outputs": [],
   "source": [
    "import bokeh"
   ]
  }
 ],
 "metadata": {
  "kernelspec": {
   "display_name": "Python [conda env:pangeo]",
   "language": "python",
   "name": "conda-env-pangeo-py"
  },
  "language_info": {
   "codemirror_mode": {
    "name": "ipython",
    "version": 3
   },
   "file_extension": ".py",
   "mimetype": "text/x-python",
   "name": "python",
   "nbconvert_exporter": "python",
   "pygments_lexer": "ipython3",
   "version": "3.9.7"
  },
  "widgets": {
   "application/vnd.jupyter.widget-state+json": {
    "state": {},
    "version_major": 2,
    "version_minor": 0
   }
  }
 },
 "nbformat": 4,
 "nbformat_minor": 5
}
