{
 "cells": [
  {
   "cell_type": "code",
   "execution_count": null,
   "id": "8e1e6a9e-71a3-48ad-9cbb-bf7c79b345ad",
   "metadata": {},
   "outputs": [],
   "source": [
    "%%time\n",
    "import xarray as xr\n",
    "import fsspec\n",
    "import pandas as pd\n",
    "import hvplot.xarray\n",
    "import numpy as np"
   ]
  },
  {
   "cell_type": "code",
   "execution_count": null,
   "id": "8fa826e5-d8a7-40ea-8269-8860399c5c34",
   "metadata": {},
   "outputs": [],
   "source": [
    "fs = fsspec.filesystem('file')"
   ]
  },
  {
   "cell_type": "code",
   "execution_count": null,
   "id": "1e147f07-43da-4914-9ab8-b08553559cb9",
   "metadata": {},
   "outputs": [],
   "source": [
    "zlist = sorted(fs.glob('/caldera/projects/usgs/water/wbeep/conus404_work/test1/target_0*'))"
   ]
  },
  {
   "cell_type": "code",
   "execution_count": null,
   "id": "c2ac25de-d726-4c6a-b783-e18f8f0829a5",
   "metadata": {},
   "outputs": [],
   "source": [
    "zlist[-1]"
   ]
  },
  {
   "cell_type": "code",
   "execution_count": null,
   "id": "ed1997c3-4451-4201-bece-133c51abe717",
   "metadata": {},
   "outputs": [],
   "source": [
    "zarr_whole = '/caldera/projects/usgs/hazards/cmgp/woodshole/rsignell/conus404/conus404_whole.zarr'"
   ]
  },
  {
   "cell_type": "code",
   "execution_count": null,
   "id": "a4559e6a-7844-4f21-ba23-7e13834320fc",
   "metadata": {},
   "outputs": [],
   "source": [
    "fs.ls('/caldera/projects/usgs/hazards/cmgp/woodshole/rsignell/conus404/')"
   ]
  },
  {
   "cell_type": "code",
   "execution_count": null,
   "id": "f8862e29-5d76-47f9-80c1-b032a1d2ae19",
   "metadata": {},
   "outputs": [],
   "source": [
    "ds0 = xr.open_dataset(zlist[0], engine='zarr', chunks={})\n",
    "ds0.time[0].values"
   ]
  },
  {
   "cell_type": "code",
   "execution_count": null,
   "id": "8abdf2b1-53ea-4d9b-a68a-9500d755cf3a",
   "metadata": {},
   "outputs": [],
   "source": [
    "ds1 = xr.open_dataset(zlist[-1], engine='zarr', chunks={})\n",
    "ds1.time[-1].values"
   ]
  },
  {
   "cell_type": "code",
   "execution_count": null,
   "id": "0517b9a9-4806-4bc6-b772-dd319b877635",
   "metadata": {},
   "outputs": [],
   "source": [
    "dates = pd.date_range(start=ds0.time[0].values, end=ds1.time[-1].values, freq='1h')"
   ]
  },
  {
   "cell_type": "code",
   "execution_count": null,
   "id": "6370fce2-42b5-42fd-a4ac-d8a8b587b8b1",
   "metadata": {},
   "outputs": [],
   "source": [
    "drop_vars = ['DZS', 'HGT', 'ISLTYP', 'IVGTYP', 'LAKEMASK', 'LANDMASK', 'LU_INDEX', 'MUB', 'P00', 'PB', 'PHB', 'P_TOP', 'SHDMAX', 'SHDMIN', 'SNOALB', 'T00', 'TISO', 'TLP', 'TSK_FORCE', 'TSK_FORCE_TEND', 'VAR', 'VAR_SSO', 'XLAND', 'ZETATOP', 'ZS', 'lat', 'lat_u', 'lat_v', 'lon', 'lon_u', 'lon_v']"
   ]
  },
  {
   "cell_type": "code",
   "execution_count": null,
   "id": "797a340d-6ff1-484b-8855-942ef0cb46c7",
   "metadata": {},
   "outputs": [],
   "source": [
    "source_dataset = ds0.drop(drop_vars)"
   ]
  },
  {
   "cell_type": "code",
   "execution_count": null,
   "id": "d3dfb853-9c2a-4ec7-8b3c-aacec5a7d41a",
   "metadata": {},
   "outputs": [],
   "source": [
    "template = (\n",
    "      source_dataset\n",
    "      .chunk()\n",
    "      .pipe(xr.zeros_like)\n",
    "      .isel(time=0, drop=True)\n",
    "      .expand_dims(time=len(dates))\n",
    "  )"
   ]
  },
  {
   "cell_type": "code",
   "execution_count": null,
   "id": "ffe812a4-d410-4b79-a5c6-80f645c26e4f",
   "metadata": {},
   "outputs": [],
   "source": [
    "template['time'] = dates"
   ]
  },
  {
   "cell_type": "code",
   "execution_count": null,
   "id": "41226d33-b9cd-4ed8-968b-5fe5e85d479f",
   "metadata": {},
   "outputs": [],
   "source": [
    "%%time\n",
    "tchunk = 144\n",
    "template = template.chunk({'time':tchunk})"
   ]
  },
  {
   "cell_type": "code",
   "execution_count": null,
   "id": "406e3ac1-bc4c-447c-9fa1-dfb691959d13",
   "metadata": {},
   "outputs": [],
   "source": [
    "from dask.distributed import Client"
   ]
  },
  {
   "cell_type": "code",
   "execution_count": null,
   "id": "b71550ca-6a9f-4307-a287-8edbe703ed14",
   "metadata": {},
   "outputs": [],
   "source": [
    "client = Client()"
   ]
  },
  {
   "cell_type": "code",
   "execution_count": null,
   "id": "387daa44-61c9-446c-90e3-21a9dbefa155",
   "metadata": {},
   "outputs": [],
   "source": [
    "client"
   ]
  },
  {
   "cell_type": "code",
   "execution_count": null,
   "id": "910b2495-d493-4c5b-947a-8f90cc292093",
   "metadata": {},
   "outputs": [],
   "source": [
    "%%time\n",
    "template.to_zarr(zarr_whole, compute=False, consolidated=True, mode='w')   #writes no data"
   ]
  },
  {
   "cell_type": "code",
   "execution_count": null,
   "id": "6f7ca6a2-a3f4-47a3-a42b-d3713fd3d333",
   "metadata": {},
   "outputs": [],
   "source": [
    "%%time\n",
    "ds0.drop(drop_vars).to_zarr(zarr_whole, region = {'time': slice(0, 144)})  #writes"
   ]
  },
  {
   "cell_type": "code",
   "execution_count": null,
   "id": "b372902b-25f3-45af-90c8-1e1e5bc5fc4e",
   "metadata": {},
   "outputs": [],
   "source": [
    "template.ACECAN"
   ]
  },
  {
   "cell_type": "code",
   "execution_count": null,
   "id": "e990d3b3-525f-4980-9d18-139014c8e9be",
   "metadata": {},
   "outputs": [],
   "source": [
    "ds0[drop_vars].to_zarr(zarr_whole, mode='a')"
   ]
  },
  {
   "cell_type": "code",
   "execution_count": null,
   "id": "58762789-f0e6-4449-9826-3de437620ddd",
   "metadata": {},
   "outputs": [],
   "source": [
    "%%time\n",
    "\n",
    "for i in range(1,4):\n",
    "    start = i*tchunk\n",
    "    stop =(i+1)*tchunk\n",
    "    print(zlist[i])\n",
    "    dsi = xr.open_dataset(zlist[i], engine='zarr', chunks={})\n",
    "    dsi.to_zarr(zarr_whole, region = {'time': slice(start, stop)})"
   ]
  },
  {
   "cell_type": "code",
   "execution_count": null,
   "id": "f137d82a-52ed-41d9-a923-19a345bb940f",
   "metadata": {},
   "outputs": [],
   "source": [
    "ds = xr.open_dataset(zarr_whole, engine='zarr', consolidated=True)"
   ]
  },
  {
   "cell_type": "code",
   "execution_count": null,
   "id": "d61403f8-f077-44d2-af50-b4c074c9a54d",
   "metadata": {},
   "outputs": [],
   "source": [
    "ds.U10[:1000,500,500].hvplot(x='time', grid=True)"
   ]
  },
  {
   "cell_type": "code",
   "execution_count": null,
   "id": "1469e05c-42fa-4ae7-a1fd-dd5cccf48bfd",
   "metadata": {},
   "outputs": [],
   "source": [
    "ds.U10[0,:,:].hvplot.quadmesh(x='lon', y='lat', geo=True, tiles='OSM',\n",
    "                              cmap='turbo', rasterize=True)"
   ]
  }
 ],
 "metadata": {
  "kernelspec": {
   "display_name": "Python [conda env:pangeo]",
   "language": "python",
   "name": "conda-env-pangeo-py"
  },
  "language_info": {
   "codemirror_mode": {
    "name": "ipython",
    "version": 3
   },
   "file_extension": ".py",
   "mimetype": "text/x-python",
   "name": "python",
   "nbconvert_exporter": "python",
   "pygments_lexer": "ipython3",
   "version": "3.9.10"
  }
 },
 "nbformat": 4,
 "nbformat_minor": 5
}
