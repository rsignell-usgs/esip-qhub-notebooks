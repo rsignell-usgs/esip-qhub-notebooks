{
 "cells": [
  {
   "cell_type": "code",
   "execution_count": null,
   "id": "ce8e0792-f8e7-45d1-baf0-7305aacb217a",
   "metadata": {},
   "outputs": [],
   "source": [
    "import xarray as xr\n",
    "import intake\n",
    "import pathlib\n",
    "from zarr.convenience import consolidate_metadata"
   ]
  },
  {
   "cell_type": "code",
   "execution_count": null,
   "id": "b3581482-d059-4608-89c2-a7841d6521b8",
   "metadata": {},
   "outputs": [],
   "source": [
    "from dask.distributed import Client"
   ]
  },
  {
   "cell_type": "code",
   "execution_count": null,
   "id": "582e11cf-a588-4034-b979-a322957c99ae",
   "metadata": {},
   "outputs": [],
   "source": [
    "client = Client()"
   ]
  },
  {
   "cell_type": "code",
   "execution_count": null,
   "id": "debcc3dd-13ab-46ea-b366-2683b6af6ddc",
   "metadata": {},
   "outputs": [],
   "source": [
    "dir_scratch = pathlib.Path('/caldera/projects/usgs/hazards/cmgp/woodshole/rsignell/conus404')\n",
    "file_chanobs = dir_scratch / 'chanobs.zarr'"
   ]
  },
  {
   "cell_type": "code",
   "execution_count": null,
   "id": "3293b740-082f-4206-bf89-cdc569512084",
   "metadata": {},
   "outputs": [],
   "source": [
    "_ = consolidate_metadata(file_chanobs)"
   ]
  },
  {
   "cell_type": "code",
   "execution_count": null,
   "id": "9e9fb564-c8c7-4f87-8972-05dbddde7922",
   "metadata": {},
   "outputs": [],
   "source": [
    "ds_nwm_chrtout = xr.open_dataset(file_chanobs, engine='zarr', backend_kwargs=dict(consolidated=True), chunks={})"
   ]
  },
  {
   "cell_type": "code",
   "execution_count": null,
   "id": "9e59ccd7-08cc-43b5-b24d-339270eed59a",
   "metadata": {},
   "outputs": [],
   "source": [
    "gage_ids_str = ['USGS-'+gage_id.astype('str').lstrip() for gage_id in ds_nwm_chrtout['gage_id'].values]"
   ]
  },
  {
   "cell_type": "code",
   "execution_count": null,
   "id": "88ce644f-bbd9-4ff9-b05e-3a5da387a284",
   "metadata": {},
   "outputs": [],
   "source": [
    "ds_nwm_chrtout = ds_nwm_chrtout.assign_coords({'site_id':xr.DataArray(gage_ids_str, dims='feature_id')})"
   ]
  },
  {
   "cell_type": "code",
   "execution_count": null,
   "id": "bf0350ae-a786-426e-b7c0-081cb8bd786c",
   "metadata": {},
   "outputs": [],
   "source": [
    "ds_nwm_chrtout = ds_nwm_chrtout.drop('gage_id')"
   ]
  },
  {
   "cell_type": "code",
   "execution_count": null,
   "id": "c6c2753c-188a-440f-80f9-0aef3a382e12",
   "metadata": {},
   "outputs": [],
   "source": [
    "ds_nwm_chrtout = ds_nwm_chrtout.rename({'site_id':'gage_id'})"
   ]
  },
  {
   "cell_type": "code",
   "execution_count": null,
   "id": "65a53aaa-352c-4673-8031-5b7bf2276f7f",
   "metadata": {},
   "outputs": [],
   "source": [
    "ds_nwm_chrtout = ds_nwm_chrtout.drop('feature_id')"
   ]
  },
  {
   "cell_type": "code",
   "execution_count": null,
   "id": "af386ab5-dbf0-465c-806b-b68d8fd69082",
   "metadata": {},
   "outputs": [],
   "source": [
    "ds_nwm_chrtout = ds_nwm_chrtout.rename({'gage_id':'feature_id'})"
   ]
  },
  {
   "cell_type": "code",
   "execution_count": null,
   "id": "5d6f88c3-6042-4990-8e82-cf7e8949246b",
   "metadata": {},
   "outputs": [],
   "source": [
    "ds_nwm_chrtout = ds_nwm_chrtout.rename_dims({'feature_id':'gage_id'}).rename({'feature_id':'gage_id'})"
   ]
  },
  {
   "cell_type": "code",
   "execution_count": null,
   "id": "73590779-0ffa-487d-af7e-8dbf7c8dcde3",
   "metadata": {},
   "outputs": [],
   "source": [
    "ds_nwm_chrtout.to_zarr('/caldera/projects/usgs/hazards/cmgp/woodshole/rsignell/conus404/zarr/chanobs.zarr', \n",
    "                       mode='w', consolidated=True)"
   ]
  },
  {
   "cell_type": "code",
   "execution_count": null,
   "id": "d4785b45-dcd6-4640-bb44-33668e00ea6e",
   "metadata": {},
   "outputs": [],
   "source": [
    "client"
   ]
  },
  {
   "cell_type": "code",
   "execution_count": null,
   "id": "23f42443-ff00-4dcd-8514-3dd7ab96d507",
   "metadata": {},
   "outputs": [],
   "source": [
    "import intake"
   ]
  },
  {
   "cell_type": "code",
   "execution_count": null,
   "id": "e9da45a2-1217-4cb0-8d4f-037f264b87f8",
   "metadata": {},
   "outputs": [],
   "source": [
    "url = 'https://raw.githubusercontent.com/nhm-usgs/data-pipeline-helpers/main/hytest/hytest_intake_catalog.yml'"
   ]
  },
  {
   "cell_type": "code",
   "execution_count": null,
   "id": "2444d0e5-8837-4ee9-957d-a32b63136675",
   "metadata": {},
   "outputs": [],
   "source": [
    "cat = intake.open_catalog(url)\n",
    "list(cat)"
   ]
  },
  {
   "cell_type": "code",
   "execution_count": null,
   "id": "a86b20f6-dc0e-44bf-aa55-bdf04a901283",
   "metadata": {},
   "outputs": [],
   "source": [
    "ds_nwis = cat['nwis-streamflow-on-prem'].to_dask()"
   ]
  },
  {
   "cell_type": "code",
   "execution_count": null,
   "id": "e950c6f3-488b-4995-9e6f-578ae402fd40",
   "metadata": {},
   "outputs": [],
   "source": [
    "ds_nwis = ds_nwis.rename_dims({'feature_id':'gage_id'}).rename({'feature_id':'gage_id'})\n",
    "ds_nwis"
   ]
  },
  {
   "cell_type": "code",
   "execution_count": null,
   "id": "a8aa3979-6d4e-4c73-93ae-49e5ee4c1fa1",
   "metadata": {},
   "outputs": [],
   "source": [
    "ds_nwis.to_zarr('/caldera/projects/usgs/hazards/cmgp/woodshole/rsignell/conus404/zarr/nwis2_chanobs.zarr', \n",
    "                       mode='w', consolidated=True)"
   ]
  },
  {
   "cell_type": "code",
   "execution_count": null,
   "id": "f3f57861-6920-4694-bab4-ab3ecb3079c6",
   "metadata": {},
   "outputs": [],
   "source": []
  }
 ],
 "metadata": {
  "kernelspec": {
   "display_name": "Python [conda env:pangeo]",
   "language": "python",
   "name": "conda-env-pangeo-py"
  },
  "language_info": {
   "codemirror_mode": {
    "name": "ipython",
    "version": 3
   },
   "file_extension": ".py",
   "mimetype": "text/x-python",
   "name": "python",
   "nbconvert_exporter": "python",
   "pygments_lexer": "ipython3",
   "version": "3.9.10"
  }
 },
 "nbformat": 4,
 "nbformat_minor": 5
}
