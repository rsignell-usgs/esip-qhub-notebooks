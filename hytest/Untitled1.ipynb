{
 "cells": [
  {
   "cell_type": "code",
   "execution_count": 2,
   "id": "7d692bc0-1eda-4da1-87d3-3ca4aeec70da",
   "metadata": {},
   "outputs": [],
   "source": [
    "from pygeohydro import NWIS"
   ]
  },
  {
   "cell_type": "code",
   "execution_count": 3,
   "id": "617fcd06-f7d9-43e3-bf68-f2e05e819cd2",
   "metadata": {},
   "outputs": [],
   "source": [
    "nwis = NWIS()"
   ]
  },
  {
   "cell_type": "code",
   "execution_count": 22,
   "id": "97b0598e-b794-462c-bca6-b101df5d5afe",
   "metadata": {},
   "outputs": [],
   "source": [
    "site_id = '13317000'"
   ]
  },
  {
   "cell_type": "code",
   "execution_count": 24,
   "id": "cb6f6c4a-ce1d-4878-95ca-4db2a12e0ccf",
   "metadata": {},
   "outputs": [],
   "source": [
    "start = '1995-01-01'\n",
    "stop = '1995-12-19'"
   ]
  },
  {
   "cell_type": "code",
   "execution_count": 25,
   "id": "5526e0e1-282e-40ba-9138-af2acee181fc",
   "metadata": {},
   "outputs": [],
   "source": [
    "dates = (start, stop)\n",
    "stations = [site_id]"
   ]
  },
  {
   "cell_type": "code",
   "execution_count": 26,
   "id": "6acf3a03-5e83-4217-89e6-79e6b0da7a9f",
   "metadata": {},
   "outputs": [
    {
     "name": "stdout",
     "output_type": "stream",
     "text": [
      "CPU times: user 318 ms, sys: 2.65 ms, total: 321 ms\n",
      "Wall time: 2.84 s\n"
     ]
    },
    {
     "data": {
      "text/html": [
       "<div>\n",
       "<style scoped>\n",
       "    .dataframe tbody tr th:only-of-type {\n",
       "        vertical-align: middle;\n",
       "    }\n",
       "\n",
       "    .dataframe tbody tr th {\n",
       "        vertical-align: top;\n",
       "    }\n",
       "\n",
       "    .dataframe thead th {\n",
       "        text-align: right;\n",
       "    }\n",
       "</style>\n",
       "<table border=\"1\" class=\"dataframe\">\n",
       "  <thead>\n",
       "    <tr style=\"text-align: right;\">\n",
       "      <th></th>\n",
       "      <th>USGS-13317000</th>\n",
       "    </tr>\n",
       "    <tr>\n",
       "      <th>dateTime</th>\n",
       "      <th></th>\n",
       "    </tr>\n",
       "  </thead>\n",
       "  <tbody>\n",
       "    <tr>\n",
       "      <th>1995-01-01</th>\n",
       "      <td>58.049536</td>\n",
       "    </tr>\n",
       "    <tr>\n",
       "      <th>1995-01-02</th>\n",
       "      <td>35.112890</td>\n",
       "    </tr>\n",
       "    <tr>\n",
       "      <th>1995-01-03</th>\n",
       "      <td>31.148531</td>\n",
       "    </tr>\n",
       "    <tr>\n",
       "      <th>1995-01-04</th>\n",
       "      <td>28.316847</td>\n",
       "    </tr>\n",
       "    <tr>\n",
       "      <th>1995-01-05</th>\n",
       "      <td>39.643585</td>\n",
       "    </tr>\n",
       "    <tr>\n",
       "      <th>...</th>\n",
       "      <td>...</td>\n",
       "    </tr>\n",
       "    <tr>\n",
       "      <th>1995-12-15</th>\n",
       "      <td>438.911122</td>\n",
       "    </tr>\n",
       "    <tr>\n",
       "      <th>1995-12-16</th>\n",
       "      <td>393.604168</td>\n",
       "    </tr>\n",
       "    <tr>\n",
       "      <th>1995-12-17</th>\n",
       "      <td>348.297213</td>\n",
       "    </tr>\n",
       "    <tr>\n",
       "      <th>1995-12-18</th>\n",
       "      <td>308.653628</td>\n",
       "    </tr>\n",
       "    <tr>\n",
       "      <th>1995-12-19</th>\n",
       "      <td>274.107075</td>\n",
       "    </tr>\n",
       "  </tbody>\n",
       "</table>\n",
       "<p>353 rows × 1 columns</p>\n",
       "</div>"
      ],
      "text/plain": [
       "            USGS-13317000\n",
       "dateTime                 \n",
       "1995-01-01      58.049536\n",
       "1995-01-02      35.112890\n",
       "1995-01-03      31.148531\n",
       "1995-01-04      28.316847\n",
       "1995-01-05      39.643585\n",
       "...                   ...\n",
       "1995-12-15     438.911122\n",
       "1995-12-16     393.604168\n",
       "1995-12-17     348.297213\n",
       "1995-12-18     308.653628\n",
       "1995-12-19     274.107075\n",
       "\n",
       "[353 rows x 1 columns]"
      ]
     },
     "execution_count": 26,
     "metadata": {},
     "output_type": "execute_result"
    }
   ],
   "source": [
    "%%time\n",
    "nwis.get_streamflow(stations, dates)"
   ]
  },
  {
   "cell_type": "code",
   "execution_count": null,
   "id": "1fed7391-5aa4-462e-8ef2-e48371954d96",
   "metadata": {},
   "outputs": [],
   "source": []
  },
  {
   "cell_type": "code",
   "execution_count": 16,
   "id": "e1d5e02a-be39-459a-aa4a-1515fa7dcee4",
   "metadata": {},
   "outputs": [],
   "source": [
    "import pydaymet as daymet\n",
    "import pygeohydro as gh\n",
    "from pygeohydro import NWIS, plot"
   ]
  },
  {
   "cell_type": "code",
   "execution_count": 17,
   "id": "519b9db4-722d-4e7f-bf83-a1a87aea0ed8",
   "metadata": {},
   "outputs": [],
   "source": [
    "bbox = (-69.5, 45, -69, 45.5)"
   ]
  },
  {
   "cell_type": "code",
   "execution_count": 18,
   "id": "1faef160-5b94-4351-bfea-e7f42f1e5a67",
   "metadata": {},
   "outputs": [
    {
     "data": {
      "text/html": [
       "<div style=\"width:100%;\"><div style=\"position:relative;width:100%;height:0;padding-bottom:60%;\"><span style=\"color:#565656\">Make this Notebook Trusted to load map: File -> Trust Notebook</span><iframe src=\"about:blank\" style=\"position:absolute;width:100%;height:100%;left:0;top:0;border:none !important;\" data-html=%3C%21DOCTYPE%20html%3E%0A%3Chead%3E%20%20%20%20%0A%20%20%20%20%3Cmeta%20http-equiv%3D%22content-type%22%20content%3D%22text/html%3B%20charset%3DUTF-8%22%20/%3E%0A%20%20%20%20%0A%20%20%20%20%20%20%20%20%3Cscript%3E%0A%20%20%20%20%20%20%20%20%20%20%20%20L_NO_TOUCH%20%3D%20false%3B%0A%20%20%20%20%20%20%20%20%20%20%20%20L_DISABLE_3D%20%3D%20false%3B%0A%20%20%20%20%20%20%20%20%3C/script%3E%0A%20%20%20%20%0A%20%20%20%20%3Cstyle%3Ehtml%2C%20body%20%7Bwidth%3A%20100%25%3Bheight%3A%20100%25%3Bmargin%3A%200%3Bpadding%3A%200%3B%7D%3C/style%3E%0A%20%20%20%20%3Cstyle%3E%23map%20%7Bposition%3Aabsolute%3Btop%3A0%3Bbottom%3A0%3Bright%3A0%3Bleft%3A0%3B%7D%3C/style%3E%0A%20%20%20%20%3Cscript%20src%3D%22https%3A//cdn.jsdelivr.net/npm/leaflet%401.6.0/dist/leaflet.js%22%3E%3C/script%3E%0A%20%20%20%20%3Cscript%20src%3D%22https%3A//code.jquery.com/jquery-1.12.4.min.js%22%3E%3C/script%3E%0A%20%20%20%20%3Cscript%20src%3D%22https%3A//maxcdn.bootstrapcdn.com/bootstrap/3.2.0/js/bootstrap.min.js%22%3E%3C/script%3E%0A%20%20%20%20%3Cscript%20src%3D%22https%3A//cdnjs.cloudflare.com/ajax/libs/Leaflet.awesome-markers/2.0.2/leaflet.awesome-markers.js%22%3E%3C/script%3E%0A%20%20%20%20%3Clink%20rel%3D%22stylesheet%22%20href%3D%22https%3A//cdn.jsdelivr.net/npm/leaflet%401.6.0/dist/leaflet.css%22/%3E%0A%20%20%20%20%3Clink%20rel%3D%22stylesheet%22%20href%3D%22https%3A//maxcdn.bootstrapcdn.com/bootstrap/3.2.0/css/bootstrap.min.css%22/%3E%0A%20%20%20%20%3Clink%20rel%3D%22stylesheet%22%20href%3D%22https%3A//maxcdn.bootstrapcdn.com/bootstrap/3.2.0/css/bootstrap-theme.min.css%22/%3E%0A%20%20%20%20%3Clink%20rel%3D%22stylesheet%22%20href%3D%22https%3A//maxcdn.bootstrapcdn.com/font-awesome/4.6.3/css/font-awesome.min.css%22/%3E%0A%20%20%20%20%3Clink%20rel%3D%22stylesheet%22%20href%3D%22https%3A//cdnjs.cloudflare.com/ajax/libs/Leaflet.awesome-markers/2.0.2/leaflet.awesome-markers.css%22/%3E%0A%20%20%20%20%3Clink%20rel%3D%22stylesheet%22%20href%3D%22https%3A//cdn.jsdelivr.net/gh/python-visualization/folium/folium/templates/leaflet.awesome.rotate.min.css%22/%3E%0A%20%20%20%20%0A%20%20%20%20%20%20%20%20%20%20%20%20%3Cmeta%20name%3D%22viewport%22%20content%3D%22width%3Ddevice-width%2C%0A%20%20%20%20%20%20%20%20%20%20%20%20%20%20%20%20initial-scale%3D1.0%2C%20maximum-scale%3D1.0%2C%20user-scalable%3Dno%22%20/%3E%0A%20%20%20%20%20%20%20%20%20%20%20%20%3Cstyle%3E%0A%20%20%20%20%20%20%20%20%20%20%20%20%20%20%20%20%23map_f685294a912046d1bf052f652495d009%20%7B%0A%20%20%20%20%20%20%20%20%20%20%20%20%20%20%20%20%20%20%20%20position%3A%20relative%3B%0A%20%20%20%20%20%20%20%20%20%20%20%20%20%20%20%20%20%20%20%20width%3A%20100.0%25%3B%0A%20%20%20%20%20%20%20%20%20%20%20%20%20%20%20%20%20%20%20%20height%3A%20100.0%25%3B%0A%20%20%20%20%20%20%20%20%20%20%20%20%20%20%20%20%20%20%20%20left%3A%200.0%25%3B%0A%20%20%20%20%20%20%20%20%20%20%20%20%20%20%20%20%20%20%20%20top%3A%200.0%25%3B%0A%20%20%20%20%20%20%20%20%20%20%20%20%20%20%20%20%7D%0A%20%20%20%20%20%20%20%20%20%20%20%20%3C/style%3E%0A%20%20%20%20%20%20%20%20%0A%3C/head%3E%0A%3Cbody%3E%20%20%20%20%0A%20%20%20%20%0A%20%20%20%20%20%20%20%20%20%20%20%20%3Cdiv%20class%3D%22folium-map%22%20id%3D%22map_f685294a912046d1bf052f652495d009%22%20%3E%3C/div%3E%0A%20%20%20%20%20%20%20%20%0A%3C/body%3E%0A%3Cscript%3E%20%20%20%20%0A%20%20%20%20%0A%20%20%20%20%20%20%20%20%20%20%20%20var%20map_f685294a912046d1bf052f652495d009%20%3D%20L.map%28%0A%20%20%20%20%20%20%20%20%20%20%20%20%20%20%20%20%22map_f685294a912046d1bf052f652495d009%22%2C%0A%20%20%20%20%20%20%20%20%20%20%20%20%20%20%20%20%7B%0A%20%20%20%20%20%20%20%20%20%20%20%20%20%20%20%20%20%20%20%20center%3A%20%5B45.25%2C%20-69.25%5D%2C%0A%20%20%20%20%20%20%20%20%20%20%20%20%20%20%20%20%20%20%20%20crs%3A%20L.CRS.EPSG3857%2C%0A%20%20%20%20%20%20%20%20%20%20%20%20%20%20%20%20%20%20%20%20zoom%3A%2010%2C%0A%20%20%20%20%20%20%20%20%20%20%20%20%20%20%20%20%20%20%20%20zoomControl%3A%20true%2C%0A%20%20%20%20%20%20%20%20%20%20%20%20%20%20%20%20%20%20%20%20preferCanvas%3A%20false%2C%0A%20%20%20%20%20%20%20%20%20%20%20%20%20%20%20%20%7D%0A%20%20%20%20%20%20%20%20%20%20%20%20%29%3B%0A%0A%20%20%20%20%20%20%20%20%20%20%20%20%0A%0A%20%20%20%20%20%20%20%20%0A%20%20%20%20%0A%20%20%20%20%20%20%20%20%20%20%20%20var%20tile_layer_1333daefc93b494f9e0832d28635c961%20%3D%20L.tileLayer%28%0A%20%20%20%20%20%20%20%20%20%20%20%20%20%20%20%20%22https%3A//stamen-tiles-%7Bs%7D.a.ssl.fastly.net/terrain/%7Bz%7D/%7Bx%7D/%7By%7D.jpg%22%2C%0A%20%20%20%20%20%20%20%20%20%20%20%20%20%20%20%20%7B%22attribution%22%3A%20%22Map%20tiles%20by%20%5Cu003ca%20href%3D%5C%22http%3A//stamen.com%5C%22%5Cu003eStamen%20Design%5Cu003c/a%5Cu003e%2C%20under%20%5Cu003ca%20href%3D%5C%22http%3A//creativecommons.org/licenses/by/3.0%5C%22%5Cu003eCC%20BY%203.0%5Cu003c/a%5Cu003e.%20Data%20by%20%5Cu0026copy%3B%20%5Cu003ca%20href%3D%5C%22http%3A//openstreetmap.org%5C%22%5Cu003eOpenStreetMap%5Cu003c/a%5Cu003e%2C%20under%20%5Cu003ca%20href%3D%5C%22http%3A//creativecommons.org/licenses/by-sa/3.0%5C%22%5Cu003eCC%20BY%20SA%5Cu003c/a%5Cu003e.%22%2C%20%22detectRetina%22%3A%20false%2C%20%22maxNativeZoom%22%3A%2018%2C%20%22maxZoom%22%3A%2018%2C%20%22minZoom%22%3A%200%2C%20%22noWrap%22%3A%20false%2C%20%22opacity%22%3A%201%2C%20%22subdomains%22%3A%20%22abc%22%2C%20%22tms%22%3A%20false%7D%0A%20%20%20%20%20%20%20%20%20%20%20%20%29.addTo%28map_f685294a912046d1bf052f652495d009%29%3B%0A%20%20%20%20%20%20%20%20%0A%20%20%20%20%0A%20%20%20%20%20%20%20%20%20%20%20%20var%20marker_c980ebaf81264fb99f9f851973512270%20%3D%20L.marker%28%0A%20%20%20%20%20%20%20%20%20%20%20%20%20%20%20%20%5B45.1844444%2C%20-69.4522222%5D%2C%0A%20%20%20%20%20%20%20%20%20%20%20%20%20%20%20%20%7B%7D%0A%20%20%20%20%20%20%20%20%20%20%20%20%29.addTo%28map_f685294a912046d1bf052f652495d009%29%3B%0A%20%20%20%20%20%20%20%20%0A%20%20%20%20%0A%20%20%20%20%20%20%20%20%20%20%20%20var%20icon_ddb38f69da024abda6dff9314bd4ee75%20%3D%20L.AwesomeMarkers.icon%28%0A%20%20%20%20%20%20%20%20%20%20%20%20%20%20%20%20%7B%22extraClasses%22%3A%20%22fa-rotate-0%22%2C%20%22icon%22%3A%20%22info-sign%22%2C%20%22iconColor%22%3A%20%22white%22%2C%20%22markerColor%22%3A%20%22blue%22%2C%20%22prefix%22%3A%20%22glyphicon%22%7D%0A%20%20%20%20%20%20%20%20%20%20%20%20%29%3B%0A%20%20%20%20%20%20%20%20%20%20%20%20marker_c980ebaf81264fb99f9f851973512270.setIcon%28icon_ddb38f69da024abda6dff9314bd4ee75%29%3B%0A%20%20%20%20%20%20%20%20%0A%20%20%20%20%0A%20%20%20%20%20%20%20%20var%20popup_31f72280e74b4844abab2a1688851d42%20%3D%20L.popup%28%7B%22maxWidth%22%3A%20250%7D%29%3B%0A%0A%20%20%20%20%20%20%20%20%0A%20%20%20%20%20%20%20%20%20%20%20%20var%20html_1076fb71580a44849e4c7d19ca8633d3%20%3D%20%24%28%60%3Cdiv%20id%3D%22html_1076fb71580a44849e4c7d19ca8633d3%22%20style%3D%22width%3A%20100.0%25%3B%20height%3A%20100.0%25%3B%22%3E%3Cstrong%3ESite%20No.%3C/strong%3E%3A%2001031450%3Cbr%3E%3Cstrong%3EStation%20Name%3C/strong%3E%3A%20Kingsbury%20Stream%20at%20Abbot%20Village%2C%20Maine%3Cbr%3E%3Cstrong%3ECoordinate%3C/strong%3E%3A%20%28-69.4522222%2C%2045.1844444%29%3Cbr%3E%3Cstrong%3EAltitude%3C/strong%3E%3A%20423.0%20ft%20above%20NGVD29%3Cbr%3E%3Cstrong%3EHUC8%3C/strong%3E%3A%2001020004%3Cbr%3E%3Cstrong%3EDrainage%20Area%3C/strong%3E%3A%2095.4%20square%20miles%3Cbr%3E%3Cstrong%3EContributing%20Drainage%20Area%3C/strong%3E%3A%2095.4%20square%20miles%3Cbr%3E%3Cstrong%3EHCDN%202009%3C/strong%3E%3A%20False%3Cbr%3E%3Ca%20href%3D%22https%3A//waterdata.usgs.gov/nwis/inventory%3Fagency_code%3DUSGS%26site_no%3D01031450%22%20target%3D%22_blank%22%3EMore%20on%20USGS%20Website%3C/div%3E%60%29%5B0%5D%3B%0A%20%20%20%20%20%20%20%20%20%20%20%20popup_31f72280e74b4844abab2a1688851d42.setContent%28html_1076fb71580a44849e4c7d19ca8633d3%29%3B%0A%20%20%20%20%20%20%20%20%0A%0A%20%20%20%20%20%20%20%20marker_c980ebaf81264fb99f9f851973512270.bindPopup%28popup_31f72280e74b4844abab2a1688851d42%29%0A%20%20%20%20%20%20%20%20%3B%0A%0A%20%20%20%20%20%20%20%20%0A%20%20%20%20%0A%20%20%20%20%0A%20%20%20%20%20%20%20%20%20%20%20%20var%20marker_3d9d9da8503a4b08ba995014928b1109%20%3D%20L.marker%28%0A%20%20%20%20%20%20%20%20%20%20%20%20%20%20%20%20%5B45.175%2C%20-69.3147222%5D%2C%0A%20%20%20%20%20%20%20%20%20%20%20%20%20%20%20%20%7B%7D%0A%20%20%20%20%20%20%20%20%20%20%20%20%29.addTo%28map_f685294a912046d1bf052f652495d009%29%3B%0A%20%20%20%20%20%20%20%20%0A%20%20%20%20%0A%20%20%20%20%20%20%20%20%20%20%20%20var%20icon_fc089407493e4eb68606781ada8ae834%20%3D%20L.AwesomeMarkers.icon%28%0A%20%20%20%20%20%20%20%20%20%20%20%20%20%20%20%20%7B%22extraClasses%22%3A%20%22fa-rotate-0%22%2C%20%22icon%22%3A%20%22info-sign%22%2C%20%22iconColor%22%3A%20%22white%22%2C%20%22markerColor%22%3A%20%22blue%22%2C%20%22prefix%22%3A%20%22glyphicon%22%7D%0A%20%20%20%20%20%20%20%20%20%20%20%20%29%3B%0A%20%20%20%20%20%20%20%20%20%20%20%20marker_3d9d9da8503a4b08ba995014928b1109.setIcon%28icon_fc089407493e4eb68606781ada8ae834%29%3B%0A%20%20%20%20%20%20%20%20%0A%20%20%20%20%0A%20%20%20%20%20%20%20%20var%20popup_cef21d43ea184c00bfd161347eee8fa6%20%3D%20L.popup%28%7B%22maxWidth%22%3A%20250%7D%29%3B%0A%0A%20%20%20%20%20%20%20%20%0A%20%20%20%20%20%20%20%20%20%20%20%20var%20html_3d2ae9247f2049b2a7972b77415da53e%20%3D%20%24%28%60%3Cdiv%20id%3D%22html_3d2ae9247f2049b2a7972b77415da53e%22%20style%3D%22width%3A%20100.0%25%3B%20height%3A%20100.0%25%3B%22%3E%3Cstrong%3ESite%20No.%3C/strong%3E%3A%2001031500%3Cbr%3E%3Cstrong%3EStation%20Name%3C/strong%3E%3A%20Piscataquis%20River%20near%20Dover-Foxcroft%2C%20Maine%3Cbr%3E%3Cstrong%3ECoordinate%3C/strong%3E%3A%20%28-69.3147222%2C%2045.175%29%3Cbr%3E%3Cstrong%3EAltitude%3C/strong%3E%3A%20358.47%20ft%20above%20NGVD29%3Cbr%3E%3Cstrong%3EHUC8%3C/strong%3E%3A%2001020004%3Cbr%3E%3Cstrong%3EDrainage%20Area%3C/strong%3E%3A%20298.0%20square%20miles%3Cbr%3E%3Cstrong%3EContributing%20Drainage%20Area%3C/strong%3E%3A%20298.0%20square%20miles%3Cbr%3E%3Cstrong%3EHCDN%202009%3C/strong%3E%3A%20True%3Cbr%3E%3Ca%20href%3D%22https%3A//waterdata.usgs.gov/nwis/inventory%3Fagency_code%3DUSGS%26site_no%3D01031500%22%20target%3D%22_blank%22%3EMore%20on%20USGS%20Website%3C/div%3E%60%29%5B0%5D%3B%0A%20%20%20%20%20%20%20%20%20%20%20%20popup_cef21d43ea184c00bfd161347eee8fa6.setContent%28html_3d2ae9247f2049b2a7972b77415da53e%29%3B%0A%20%20%20%20%20%20%20%20%0A%0A%20%20%20%20%20%20%20%20marker_3d9d9da8503a4b08ba995014928b1109.bindPopup%28popup_cef21d43ea184c00bfd161347eee8fa6%29%0A%20%20%20%20%20%20%20%20%3B%0A%0A%20%20%20%20%20%20%20%20%0A%20%20%20%20%0A%20%20%20%20%0A%20%20%20%20%20%20%20%20%20%20%20%20var%20marker_76a04e412f9145db84efd2aa674a600b%20%3D%20L.marker%28%0A%20%20%20%20%20%20%20%20%20%20%20%20%20%20%20%20%5B45.15027778%2C%20-69.23638889%5D%2C%0A%20%20%20%20%20%20%20%20%20%20%20%20%20%20%20%20%7B%7D%0A%20%20%20%20%20%20%20%20%20%20%20%20%29.addTo%28map_f685294a912046d1bf052f652495d009%29%3B%0A%20%20%20%20%20%20%20%20%0A%20%20%20%20%0A%20%20%20%20%20%20%20%20%20%20%20%20var%20icon_b202ff2c8111456191d747c109bc6ca4%20%3D%20L.AwesomeMarkers.icon%28%0A%20%20%20%20%20%20%20%20%20%20%20%20%20%20%20%20%7B%22extraClasses%22%3A%20%22fa-rotate-0%22%2C%20%22icon%22%3A%20%22info-sign%22%2C%20%22iconColor%22%3A%20%22white%22%2C%20%22markerColor%22%3A%20%22blue%22%2C%20%22prefix%22%3A%20%22glyphicon%22%7D%0A%20%20%20%20%20%20%20%20%20%20%20%20%29%3B%0A%20%20%20%20%20%20%20%20%20%20%20%20marker_76a04e412f9145db84efd2aa674a600b.setIcon%28icon_b202ff2c8111456191d747c109bc6ca4%29%3B%0A%20%20%20%20%20%20%20%20%0A%20%20%20%20%0A%20%20%20%20%20%20%20%20var%20popup_343e7b8cfc4e4900901cc83c8a51900f%20%3D%20L.popup%28%7B%22maxWidth%22%3A%20250%7D%29%3B%0A%0A%20%20%20%20%20%20%20%20%0A%20%20%20%20%20%20%20%20%20%20%20%20var%20html_aed63d6838344572809785a5872dd3f7%20%3D%20%24%28%60%3Cdiv%20id%3D%22html_aed63d6838344572809785a5872dd3f7%22%20style%3D%22width%3A%20100.0%25%3B%20height%3A%20100.0%25%3B%22%3E%3Cstrong%3ESite%20No.%3C/strong%3E%3A%2001031510%3Cbr%3E%3Cstrong%3EStation%20Name%3C/strong%3E%3A%20Black%20Stream%20near%20Dover-Foxcroft%2C%20Maine%3Cbr%3E%3Cstrong%3ECoordinate%3C/strong%3E%3A%20%28-69.23638889%2C%2045.15027778%29%3Cbr%3E%3Cstrong%3EAltitude%3C/strong%3E%3A%20405.0%20ft%20above%20NGVD29%3Cbr%3E%3Cstrong%3EHUC8%3C/strong%3E%3A%2001020004%3Cbr%3E%3Cstrong%3EDrainage%20Area%3C/strong%3E%3A%2026.0%20square%20miles%3Cbr%3E%3Cstrong%3EContributing%20Drainage%20Area%3C/strong%3E%3A%2026.0%20square%20miles%3Cbr%3E%3Cstrong%3EHCDN%202009%3C/strong%3E%3A%20False%3Cbr%3E%3Ca%20href%3D%22https%3A//waterdata.usgs.gov/nwis/inventory%3Fagency_code%3DUSGS%26site_no%3D01031510%22%20target%3D%22_blank%22%3EMore%20on%20USGS%20Website%3C/div%3E%60%29%5B0%5D%3B%0A%20%20%20%20%20%20%20%20%20%20%20%20popup_343e7b8cfc4e4900901cc83c8a51900f.setContent%28html_aed63d6838344572809785a5872dd3f7%29%3B%0A%20%20%20%20%20%20%20%20%0A%0A%20%20%20%20%20%20%20%20marker_76a04e412f9145db84efd2aa674a600b.bindPopup%28popup_343e7b8cfc4e4900901cc83c8a51900f%29%0A%20%20%20%20%20%20%20%20%3B%0A%0A%20%20%20%20%20%20%20%20%0A%20%20%20%20%0A%20%20%20%20%0A%20%20%20%20%20%20%20%20%20%20%20%20var%20marker_a4b29817d37745658db6aaf536251bf1%20%3D%20L.marker%28%0A%20%20%20%20%20%20%20%20%20%20%20%20%20%20%20%20%5B45.23796389%2C%20-69.0512611%5D%2C%0A%20%20%20%20%20%20%20%20%20%20%20%20%20%20%20%20%7B%7D%0A%20%20%20%20%20%20%20%20%20%20%20%20%29.addTo%28map_f685294a912046d1bf052f652495d009%29%3B%0A%20%20%20%20%20%20%20%20%0A%20%20%20%20%0A%20%20%20%20%20%20%20%20%20%20%20%20var%20icon_d5b9c00931de4adca1ab487248168d78%20%3D%20L.AwesomeMarkers.icon%28%0A%20%20%20%20%20%20%20%20%20%20%20%20%20%20%20%20%7B%22extraClasses%22%3A%20%22fa-rotate-0%22%2C%20%22icon%22%3A%20%22info-sign%22%2C%20%22iconColor%22%3A%20%22white%22%2C%20%22markerColor%22%3A%20%22blue%22%2C%20%22prefix%22%3A%20%22glyphicon%22%7D%0A%20%20%20%20%20%20%20%20%20%20%20%20%29%3B%0A%20%20%20%20%20%20%20%20%20%20%20%20marker_a4b29817d37745658db6aaf536251bf1.setIcon%28icon_d5b9c00931de4adca1ab487248168d78%29%3B%0A%20%20%20%20%20%20%20%20%0A%20%20%20%20%0A%20%20%20%20%20%20%20%20var%20popup_85bb97cb64b54032833850100bda9523%20%3D%20L.popup%28%7B%22maxWidth%22%3A%20250%7D%29%3B%0A%0A%20%20%20%20%20%20%20%20%0A%20%20%20%20%20%20%20%20%20%20%20%20var%20html_6b7047e09dbf47dd9950aa07e544b021%20%3D%20%24%28%60%3Cdiv%20id%3D%22html_6b7047e09dbf47dd9950aa07e544b021%22%20style%3D%22width%3A%20100.0%25%3B%20height%3A%20100.0%25%3B%22%3E%3Cstrong%3ESite%20No.%3C/strong%3E%3A%2001031600%3Cbr%3E%3Cstrong%3EStation%20Name%3C/strong%3E%3A%20MORRISON%20BROOK%20NEAR%20SEBEC%20CORNERS%2C%20ME%3Cbr%3E%3Cstrong%3ECoordinate%3C/strong%3E%3A%20%28-69.0512611%2C%2045.23796389%29%3Cbr%3E%3Cstrong%3EAltitude%3C/strong%3E%3A%20408.41%20ft%20above%20NGVD29%3Cbr%3E%3Cstrong%3EHUC8%3C/strong%3E%3A%2001020004%3Cbr%3E%3Cstrong%3EDrainage%20Area%3C/strong%3E%3A%204.35%20square%20miles%3Cbr%3E%3Cstrong%3EContributing%20Drainage%20Area%3C/strong%3E%3A%204.35%20square%20miles%3Cbr%3E%3Cstrong%3EHCDN%202009%3C/strong%3E%3A%20None%3Cbr%3E%3Ca%20href%3D%22https%3A//waterdata.usgs.gov/nwis/inventory%3Fagency_code%3DUSGS%26site_no%3D01031600%22%20target%3D%22_blank%22%3EMore%20on%20USGS%20Website%3C/div%3E%60%29%5B0%5D%3B%0A%20%20%20%20%20%20%20%20%20%20%20%20popup_85bb97cb64b54032833850100bda9523.setContent%28html_6b7047e09dbf47dd9950aa07e544b021%29%3B%0A%20%20%20%20%20%20%20%20%0A%0A%20%20%20%20%20%20%20%20marker_a4b29817d37745658db6aaf536251bf1.bindPopup%28popup_85bb97cb64b54032833850100bda9523%29%0A%20%20%20%20%20%20%20%20%3B%0A%0A%20%20%20%20%20%20%20%20%0A%20%20%20%20%0A%20%20%20%20%0A%20%20%20%20%20%20%20%20%20%20%20%20var%20marker_a3183c714900468c86ac77896fdb7249%20%3D%20L.marker%28%0A%20%20%20%20%20%20%20%20%20%20%20%20%20%20%20%20%5B45.27%2C%20-69.1122222%5D%2C%0A%20%20%20%20%20%20%20%20%20%20%20%20%20%20%20%20%7B%7D%0A%20%20%20%20%20%20%20%20%20%20%20%20%29.addTo%28map_f685294a912046d1bf052f652495d009%29%3B%0A%20%20%20%20%20%20%20%20%0A%20%20%20%20%0A%20%20%20%20%20%20%20%20%20%20%20%20var%20icon_867f2fbc0cc245fb8128117069e83517%20%3D%20L.AwesomeMarkers.icon%28%0A%20%20%20%20%20%20%20%20%20%20%20%20%20%20%20%20%7B%22extraClasses%22%3A%20%22fa-rotate-0%22%2C%20%22icon%22%3A%20%22info-sign%22%2C%20%22iconColor%22%3A%20%22white%22%2C%20%22markerColor%22%3A%20%22blue%22%2C%20%22prefix%22%3A%20%22glyphicon%22%7D%0A%20%20%20%20%20%20%20%20%20%20%20%20%29%3B%0A%20%20%20%20%20%20%20%20%20%20%20%20marker_a3183c714900468c86ac77896fdb7249.setIcon%28icon_867f2fbc0cc245fb8128117069e83517%29%3B%0A%20%20%20%20%20%20%20%20%0A%20%20%20%20%0A%20%20%20%20%20%20%20%20var%20popup_05486e4115ce41f0a002c696918341f3%20%3D%20L.popup%28%7B%22maxWidth%22%3A%20250%7D%29%3B%0A%0A%20%20%20%20%20%20%20%20%0A%20%20%20%20%20%20%20%20%20%20%20%20var%20html_967e2b6962284d42a2a346bf4591aacb%20%3D%20%24%28%60%3Cdiv%20id%3D%22html_967e2b6962284d42a2a346bf4591aacb%22%20style%3D%22width%3A%20100.0%25%3B%20height%3A%20100.0%25%3B%22%3E%3Cstrong%3ESite%20No.%3C/strong%3E%3A%2001033000%3Cbr%3E%3Cstrong%3EStation%20Name%3C/strong%3E%3A%20Sebec%20River%20at%20Sebec%2C%20Maine%3Cbr%3E%3Cstrong%3ECoordinate%3C/strong%3E%3A%20%28-69.1122222%2C%2045.27%29%3Cbr%3E%3Cstrong%3EAltitude%3C/strong%3E%3A%20296.3%20ft%20above%20NGVD29%3Cbr%3E%3Cstrong%3EHUC8%3C/strong%3E%3A%2001020004%3Cbr%3E%3Cstrong%3EDrainage%20Area%3C/strong%3E%3A%20326.0%20square%20miles%3Cbr%3E%3Cstrong%3EContributing%20Drainage%20Area%3C/strong%3E%3A%20326.0%20square%20miles%3Cbr%3E%3Cstrong%3EHCDN%202009%3C/strong%3E%3A%20False%3Cbr%3E%3Ca%20href%3D%22https%3A//waterdata.usgs.gov/nwis/inventory%3Fagency_code%3DUSGS%26site_no%3D01033000%22%20target%3D%22_blank%22%3EMore%20on%20USGS%20Website%3C/div%3E%60%29%5B0%5D%3B%0A%20%20%20%20%20%20%20%20%20%20%20%20popup_05486e4115ce41f0a002c696918341f3.setContent%28html_967e2b6962284d42a2a346bf4591aacb%29%3B%0A%20%20%20%20%20%20%20%20%0A%0A%20%20%20%20%20%20%20%20marker_a3183c714900468c86ac77896fdb7249.bindPopup%28popup_05486e4115ce41f0a002c696918341f3%29%0A%20%20%20%20%20%20%20%20%3B%0A%0A%20%20%20%20%20%20%20%20%0A%20%20%20%20%0A%20%20%20%20%0A%20%20%20%20%20%20%20%20%20%20%20%20var%20marker_2a6dfcb1d84346bfaf7f92caedaaf82b%20%3D%20L.marker%28%0A%20%20%20%20%20%20%20%20%20%20%20%20%20%20%20%20%5B45.28257778%2C%20-69.00343889%5D%2C%0A%20%20%20%20%20%20%20%20%20%20%20%20%20%20%20%20%7B%7D%0A%20%20%20%20%20%20%20%20%20%20%20%20%29.addTo%28map_f685294a912046d1bf052f652495d009%29%3B%0A%20%20%20%20%20%20%20%20%0A%20%20%20%20%0A%20%20%20%20%20%20%20%20%20%20%20%20var%20icon_8be52b501c14463c97063abd710b4653%20%3D%20L.AwesomeMarkers.icon%28%0A%20%20%20%20%20%20%20%20%20%20%20%20%20%20%20%20%7B%22extraClasses%22%3A%20%22fa-rotate-0%22%2C%20%22icon%22%3A%20%22info-sign%22%2C%20%22iconColor%22%3A%20%22white%22%2C%20%22markerColor%22%3A%20%22blue%22%2C%20%22prefix%22%3A%20%22glyphicon%22%7D%0A%20%20%20%20%20%20%20%20%20%20%20%20%29%3B%0A%20%20%20%20%20%20%20%20%20%20%20%20marker_2a6dfcb1d84346bfaf7f92caedaaf82b.setIcon%28icon_8be52b501c14463c97063abd710b4653%29%3B%0A%20%20%20%20%20%20%20%20%0A%20%20%20%20%0A%20%20%20%20%20%20%20%20var%20popup_dc21a2a17f1c442289d98fe29739769c%20%3D%20L.popup%28%7B%22maxWidth%22%3A%20250%7D%29%3B%0A%0A%20%20%20%20%20%20%20%20%0A%20%20%20%20%20%20%20%20%20%20%20%20var%20html_8089a7f56d1b446984c0287366b0dabe%20%3D%20%24%28%60%3Cdiv%20id%3D%22html_8089a7f56d1b446984c0287366b0dabe%22%20style%3D%22width%3A%20100.0%25%3B%20height%3A%20100.0%25%3B%22%3E%3Cstrong%3ESite%20No.%3C/strong%3E%3A%2001033500%3Cbr%3E%3Cstrong%3EStation%20Name%3C/strong%3E%3A%20PLEASANT%20RIVER%20NEAR%20MILO%2C%20ME%3Cbr%3E%3Cstrong%3ECoordinate%3C/strong%3E%3A%20%28-69.00343889%2C%2045.28257778%29%3Cbr%3E%3Cstrong%3EAltitude%3C/strong%3E%3A%20302.0%20ft%20above%20NGVD29%3Cbr%3E%3Cstrong%3EHUC8%3C/strong%3E%3A%2001020004%3Cbr%3E%3Cstrong%3EDrainage%20Area%3C/strong%3E%3A%20323.0%20square%20miles%3Cbr%3E%3Cstrong%3EContributing%20Drainage%20Area%3C/strong%3E%3A%20323.0%20square%20miles%3Cbr%3E%3Cstrong%3EHCDN%202009%3C/strong%3E%3A%20False%3Cbr%3E%3Ca%20href%3D%22https%3A//waterdata.usgs.gov/nwis/inventory%3Fagency_code%3DUSGS%26site_no%3D01033500%22%20target%3D%22_blank%22%3EMore%20on%20USGS%20Website%3C/div%3E%60%29%5B0%5D%3B%0A%20%20%20%20%20%20%20%20%20%20%20%20popup_dc21a2a17f1c442289d98fe29739769c.setContent%28html_8089a7f56d1b446984c0287366b0dabe%29%3B%0A%20%20%20%20%20%20%20%20%0A%0A%20%20%20%20%20%20%20%20marker_2a6dfcb1d84346bfaf7f92caedaaf82b.bindPopup%28popup_dc21a2a17f1c442289d98fe29739769c%29%0A%20%20%20%20%20%20%20%20%3B%0A%0A%20%20%20%20%20%20%20%20%0A%20%20%20%20%0A%3C/script%3E onload=\"this.contentDocument.open();this.contentDocument.write(    decodeURIComponent(this.getAttribute('data-html')));this.contentDocument.close();\" allowfullscreen webkitallowfullscreen mozallowfullscreen></iframe></div></div>"
      ],
      "text/plain": [
       "<folium.folium.Map at 0x7f702f0a3040>"
      ]
     },
     "execution_count": 18,
     "metadata": {},
     "output_type": "execute_result"
    }
   ],
   "source": [
    "nwis_kwds = {\"hasDataTypeCd\": \"dv\", \"outputDataTypeCd\": \"dv\", \"parameterCd\": \"00060\"}\n",
    "gh.interactive_map(bbox, nwis_kwds=nwis_kwds)"
   ]
  },
  {
   "cell_type": "code",
   "execution_count": 19,
   "id": "431d9962-25b2-4946-bc62-5d52739c22cd",
   "metadata": {},
   "outputs": [],
   "source": [
    "nwis = NWIS()\n",
    "query = {\n",
    "    \"bBox\": \",\".join(f\"{b:.06f}\" for b in bbox),\n",
    "    \"hasDataTypeCd\": \"dv\",\n",
    "    \"outputDataTypeCd\": \"dv\",\n",
    "}\n",
    "info_box = nwis.get_info(query)"
   ]
  },
  {
   "cell_type": "code",
   "execution_count": 20,
   "id": "80e75d49-bb17-4440-b26e-4f44d516aa89",
   "metadata": {},
   "outputs": [],
   "source": [
    "dates = (\"2000-01-01\", \"2010-12-31\")\n",
    "stations = info_box[\n",
    "    (info_box.begin_date <= dates[0]) & (info_box.end_date >= dates[1])\n",
    "].site_no.tolist()"
   ]
  },
  {
   "cell_type": "code",
   "execution_count": 21,
   "id": "bea44b15-625f-482a-9f23-9d5f4d979aec",
   "metadata": {},
   "outputs": [
    {
     "data": {
      "text/plain": [
       "['01031450',\n",
       " '01031500',\n",
       " '01031500',\n",
       " '01031500',\n",
       " '01031500',\n",
       " '451031069185301',\n",
       " '451105069270801']"
      ]
     },
     "execution_count": 21,
     "metadata": {},
     "output_type": "execute_result"
    }
   ],
   "source": [
    "stations"
   ]
  },
  {
   "cell_type": "code",
   "execution_count": null,
   "id": "860f255a-69df-4e8c-b64d-25fe6d4a111c",
   "metadata": {},
   "outputs": [],
   "source": []
  }
 ],
 "metadata": {
  "kernelspec": {
   "display_name": "Python [conda env:pangeo]",
   "language": "python",
   "name": "conda-env-pangeo-py"
  },
  "language_info": {
   "codemirror_mode": {
    "name": "ipython",
    "version": 3
   },
   "file_extension": ".py",
   "mimetype": "text/x-python",
   "name": "python",
   "nbconvert_exporter": "python",
   "pygments_lexer": "ipython3",
   "version": "3.9.7"
  },
  "widgets": {
   "application/vnd.jupyter.widget-state+json": {
    "state": {},
    "version_major": 2,
    "version_minor": 0
   }
  }
 },
 "nbformat": 4,
 "nbformat_minor": 5
}
