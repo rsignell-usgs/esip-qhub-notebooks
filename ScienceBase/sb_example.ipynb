{
 "cells": [
  {
   "cell_type": "markdown",
   "id": "488f2975-73c0-4a9b-a390-cd26091fb0dc",
   "metadata": {},
   "source": [
    "# Access SB NetCDF file using fsspec & xarray"
   ]
  },
  {
   "cell_type": "code",
   "execution_count": null,
   "id": "f5131c76-7aa7-4f79-bdd9-955340f1f5f9",
   "metadata": {},
   "outputs": [],
   "source": [
    "import fsspec\n",
    "import xarray as xr\n",
    "import hvplot.xarray"
   ]
  },
  {
   "cell_type": "code",
   "execution_count": null,
   "id": "f167d2f2-a26f-4485-81c0-9dec52defda2",
   "metadata": {},
   "outputs": [],
   "source": [
    "url ='https://prod-is-usgs-sb-prod-publish.s3.amazonaws.com/611d3db1d34e40dd9c012be2/PREC_ACC_NC.nc'"
   ]
  },
  {
   "cell_type": "code",
   "execution_count": null,
   "id": "64c05b94-a152-4d8b-9f1d-c7df457310ba",
   "metadata": {},
   "outputs": [],
   "source": [
    "url = 's3://prod-is-usgs-sb-prod-publish/611d3db1d34e40dd9c012be2/PREC_ACC_NC.nc'"
   ]
  },
  {
   "cell_type": "markdown",
   "id": "6421e21e-be62-4d59-afa2-a1d99c843141",
   "metadata": {},
   "source": [
    "#### SB won't let us list the contents of a bucket, but we can check it's size to see if we have access"
   ]
  },
  {
   "cell_type": "code",
   "execution_count": null,
   "id": "c45464c9-5ea0-4126-be67-f3d992ad7047",
   "metadata": {},
   "outputs": [],
   "source": [
    "fs = fsspec.filesystem('s3', anon=True)"
   ]
  },
  {
   "cell_type": "code",
   "execution_count": null,
   "id": "b865d929-e23d-4c28-8f8d-37aec1cf19a4",
   "metadata": {},
   "outputs": [],
   "source": [
    "fs.size(url)"
   ]
  },
  {
   "cell_type": "markdown",
   "id": "c5d82755-c136-4ac6-a892-d2910a55946a",
   "metadata": {},
   "source": [
    "#### open the dataset and request chunks of about 100mb or so"
   ]
  },
  {
   "cell_type": "code",
   "execution_count": null,
   "id": "e0692429-e428-4df6-970c-103c02f1e551",
   "metadata": {},
   "outputs": [],
   "source": [
    "ds = xr.open_dataset(fs.open(url), chunks={'Time':24})"
   ]
  },
  {
   "cell_type": "code",
   "execution_count": null,
   "id": "ae22ed9e-9466-4434-b17c-30eeb2416aaf",
   "metadata": {},
   "outputs": [],
   "source": [
    "ds.PREC_ACC_NC"
   ]
  },
  {
   "cell_type": "markdown",
   "id": "cc22da27-bdb4-4ae8-9581-c883e56cf2ee",
   "metadata": {},
   "source": [
    "#### select a time period"
   ]
  },
  {
   "cell_type": "code",
   "execution_count": null,
   "id": "066014ec-20d8-4178-b759-2011b559ec1c",
   "metadata": {},
   "outputs": [],
   "source": [
    "da = ds.PREC_ACC_NC.sel(Time=slice('2002-10-05 00:00', '2002-10-11 23:00'))"
   ]
  },
  {
   "cell_type": "markdown",
   "id": "4270ab5f-6fc4-4932-b295-66a688ca5f34",
   "metadata": {},
   "source": [
    "#### calculate the mean precip over that period"
   ]
  },
  {
   "cell_type": "code",
   "execution_count": null,
   "id": "7fe8614d-a23c-4474-a6a1-7e3dc47c8fa1",
   "metadata": {},
   "outputs": [],
   "source": [
    "da_mean = da.mean(dim='Time').load()"
   ]
  },
  {
   "cell_type": "code",
   "execution_count": null,
   "id": "47edefcc-4be2-4ad9-b5d6-44ae3ab562be",
   "metadata": {},
   "outputs": [],
   "source": [
    "da_mean.hvplot.quadmesh(x='XLONG', y='XLAT', rasterize=True, geo=True, \n",
    "                        cmap='turbo', tiles='OSM')"
   ]
  }
 ],
 "metadata": {
  "kernelspec": {
   "display_name": "Python [conda env:pangeo]",
   "language": "python",
   "name": "conda-env-pangeo-py"
  },
  "language_info": {
   "codemirror_mode": {
    "name": "ipython",
    "version": 3
   },
   "file_extension": ".py",
   "mimetype": "text/x-python",
   "name": "python",
   "nbconvert_exporter": "python",
   "pygments_lexer": "ipython3",
   "version": "3.9.6"
  }
 },
 "nbformat": 4,
 "nbformat_minor": 5
}
