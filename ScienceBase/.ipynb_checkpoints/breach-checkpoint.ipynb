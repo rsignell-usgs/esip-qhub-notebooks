{
 "cells": [
  {
   "cell_type": "markdown",
   "id": "facial-walker",
   "metadata": {},
   "source": [
    "# Compare four ways to read COAWST coastal model output\n",
    "Matanzas Inlet Breach simulation.\n",
    "Try reading:\n",
    "* NetCDF4 file on S3 with h5netcdf library (HDF5 library)\n",
    "* NetCDF4 file on S3 with zarr library, using fsspec's FileReferenceSystem\n",
    "* Zarr dataset on S3 with consolidated metadata\n",
    "* Zarr dataset on S3 with unconsolidated metadata"
   ]
  },
  {
   "cell_type": "code",
   "execution_count": null,
   "id": "frozen-flush",
   "metadata": {},
   "outputs": [],
   "source": [
    "import xarray as xr\n",
    "import fsspec"
   ]
  },
  {
   "cell_type": "code",
   "execution_count": null,
   "id": "variable-academy",
   "metadata": {},
   "outputs": [],
   "source": [
    "fs = fsspec.filesystem('s3',requester_pays=True, profile='esip-qhub')"
   ]
  },
  {
   "cell_type": "markdown",
   "id": "toxic-joint",
   "metadata": {},
   "source": [
    "#### NetCDF4 file on S3 with h5netcdf library"
   ]
  },
  {
   "cell_type": "code",
   "execution_count": null,
   "id": "configured-stewart",
   "metadata": {},
   "outputs": [],
   "source": [
    "%%time\n",
    "ds = xr.open_dataset(fs.open('esip-qhub/usgs/rsignell/breach_matanzas_GTM_inwave.nc'),\n",
    "                     decode_timedelta=False, engine='h5netcdf')"
   ]
  },
  {
   "cell_type": "code",
   "execution_count": null,
   "id": "nearby-juvenile",
   "metadata": {},
   "outputs": [],
   "source": [
    "%%time\n",
    "ds.zeta[:,200,200].mean().compute()"
   ]
  },
  {
   "cell_type": "markdown",
   "id": "recreational-correlation",
   "metadata": {},
   "source": [
    "#### Read NetCDF file on S3 using ReferenceFileSystem metadata with Zarr library"
   ]
  },
  {
   "cell_type": "code",
   "execution_count": null,
   "id": "wooden-hayes",
   "metadata": {},
   "outputs": [],
   "source": [
    "%%time\n",
    "so = {\"requester_pays\": True}\n",
    "fs1 = fsspec.filesystem(\"reference\", fo=\"s3://esip-qhub/usgs/rsignell/breach_matanzas_GTM_inwave.json\", \n",
    "                       target_options=so,\n",
    "                       remote_protocol=\"s3\", remote_options=so)\n",
    "m = fs1.get_mapper(\"\")\n",
    "ds = xr.open_dataset(m, engine=\"zarr\", decode_timedelta=False)"
   ]
  },
  {
   "cell_type": "code",
   "execution_count": null,
   "id": "junior-karaoke",
   "metadata": {},
   "outputs": [],
   "source": [
    "%%time\n",
    "ds.zeta[:,200,200].mean().compute()"
   ]
  },
  {
   "cell_type": "markdown",
   "id": "driving-massachusetts",
   "metadata": {},
   "source": [
    "#### Zarr Dataset on S3 with Zarr library (consolidated metadata)"
   ]
  },
  {
   "cell_type": "code",
   "execution_count": null,
   "id": "general-merchandise",
   "metadata": {},
   "outputs": [],
   "source": [
    "%%time\n",
    "ds = xr.open_zarr(fs.get_mapper('esip-qhub/usgs/rsignell/zarr/breach_matanzas_GTM_inwave_b'),\n",
    "                     decode_timedelta=False, consolidated=True)"
   ]
  },
  {
   "cell_type": "code",
   "execution_count": null,
   "id": "returning-savannah",
   "metadata": {},
   "outputs": [],
   "source": [
    "%%time\n",
    "ds.zeta[:,200,200].mean().compute()"
   ]
  },
  {
   "cell_type": "markdown",
   "id": "stuffed-collection",
   "metadata": {},
   "source": [
    "#### Zarr Dataset on S3 with Zarr library (unconsolidated metadata)"
   ]
  },
  {
   "cell_type": "code",
   "execution_count": null,
   "id": "about-prevention",
   "metadata": {},
   "outputs": [],
   "source": [
    "%%time\n",
    "ds = xr.open_zarr(fs.get_mapper('esip-qhub/usgs/rsignell/zarr/breach_matanzas_GTM_inwave_b'),\n",
    "                     decode_timedelta=False, consolidated=False)"
   ]
  },
  {
   "cell_type": "code",
   "execution_count": null,
   "id": "harmful-blackjack",
   "metadata": {},
   "outputs": [],
   "source": [
    "%%time\n",
    "ds.zeta[:,200,200].mean().compute()"
   ]
  },
  {
   "cell_type": "markdown",
   "id": "artificial-aberdeen",
   "metadata": {},
   "source": [
    "### Conclusions (**Valid for this dataset only!**)\n",
    "* Opening the netCDF4 file on S3 with Zarr/ReferenceFileSystem is 10x faster than with HDF5 library\n",
    "* Reading the netCDF4 file on S3 with Zarr/ReferenceFileSystem is 3-4x faster than with HDF5 library\n",
    "* Opening and reading the same dataset written in Zarr format is still faster \n",
    "* Opening the Zarr dataset with consolidated metadata is an order of magnitude faster than with unconsolidated metadata\n",
    "\n",
    "### Future Work\n",
    "* Try reading both NetCDF4 and Zarr with the new NetCDF4 (NetCDF C library) S3 reading capability\n"
   ]
  }
 ],
 "metadata": {
  "kernelspec": {
   "display_name": "Python [conda env:pangeo]",
   "language": "python",
   "name": "conda-env-pangeo-py"
  },
  "language_info": {
   "codemirror_mode": {
    "name": "ipython",
    "version": 3
   },
   "file_extension": ".py",
   "mimetype": "text/x-python",
   "name": "python",
   "nbconvert_exporter": "python",
   "pygments_lexer": "ipython3",
   "version": "3.8.10"
  }
 },
 "nbformat": 4,
 "nbformat_minor": 5
}
