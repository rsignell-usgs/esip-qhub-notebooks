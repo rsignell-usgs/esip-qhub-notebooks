{
 "cells": [
  {
   "cell_type": "markdown",
   "id": "ba9da713-b93e-427f-a4d8-85bb8a69c575",
   "metadata": {},
   "source": [
    "# Three Zarr datasets\n",
    "3 samples suggested to ESRI for Zarr testing"
   ]
  },
  {
   "cell_type": "code",
   "execution_count": null,
   "id": "a0dc5a52-3740-4f8a-b7f0-fe7f40aad108",
   "metadata": {},
   "outputs": [],
   "source": [
    "import fsspec\n",
    "import xarray as xr"
   ]
  },
  {
   "cell_type": "code",
   "execution_count": null,
   "id": "19961ef4-56d0-4e59-8d0d-152ddec420c1",
   "metadata": {},
   "outputs": [],
   "source": [
    "fs = fsspec.filesystem('s3', anon=True)    # free-access bucket\n",
    "fs_pay = fsspec.filesystem('s3', requester_pays=True) # requester-pays bucket"
   ]
  },
  {
   "cell_type": "markdown",
   "id": "36905723-086d-4e3b-9475-d3320dce5776",
   "metadata": {},
   "source": [
    "### Dataset 1"
   ]
  },
  {
   "cell_type": "code",
   "execution_count": null,
   "id": "32092739-15af-427a-b4cb-7a02d2591cc2",
   "metadata": {},
   "outputs": [],
   "source": [
    "url = 's3://noaa-nwm-retro-v2-zarr-pds'\n",
    "\n",
    "ds = xr.open_dataset(fs.get_mapper(url), engine='zarr', \n",
    "                     backend_kwargs=dict(consolidated=True), chunks={})\n",
    "ds.streamflow"
   ]
  },
  {
   "cell_type": "markdown",
   "id": "d0d06d62-f10b-465d-a3a1-5caaf74e4947",
   "metadata": {},
   "source": [
    "### Dataset 2"
   ]
  },
  {
   "cell_type": "code",
   "execution_count": null,
   "id": "0f5a3c73-dff1-495c-b14a-6dd08541498f",
   "metadata": {},
   "outputs": [],
   "source": [
    "url = 's3://mur-sst/zarr'\n",
    "ds = xr.open_dataset(fs.get_mapper(url), engine='zarr', \n",
    "                     backend_kwargs=dict(consolidated=True), chunks={})\n",
    "ds.analysed_sst"
   ]
  },
  {
   "cell_type": "markdown",
   "id": "a2059816-afa0-46c8-826d-27c0f0b69804",
   "metadata": {},
   "source": [
    "#### WHOA!   This chunking is clearly optimized for time series access, as each chunk contains all the time values.  Great for extracting time series at a point, but terrible for extracting the global temperature field at a specific time (which would require reading and uncompressing the ENTIRE dataset!  Is there another version?"
   ]
  },
  {
   "cell_type": "code",
   "execution_count": null,
   "id": "e8797eb4-ab31-404c-a59a-ca05e02b8b8d",
   "metadata": {},
   "outputs": [],
   "source": [
    "fs.ls('s3://mur-sst/')"
   ]
  },
  {
   "cell_type": "markdown",
   "id": "222179a9-1e2b-4b3f-abf9-16ea07d61130",
   "metadata": {},
   "source": [
    "#### Aha!    What is this `zarr-v1` dataset?"
   ]
  },
  {
   "cell_type": "code",
   "execution_count": null,
   "id": "c0630580-caa4-48f4-be57-61f06815eae7",
   "metadata": {},
   "outputs": [],
   "source": [
    "url = 's3://mur-sst/zarr-v1'\n",
    "ds = xr.open_dataset(fs.get_mapper(url), engine='zarr', \n",
    "                     backend_kwargs=dict(consolidated=True), chunks={})\n",
    "ds.analysed_sst"
   ]
  },
  {
   "cell_type": "markdown",
   "id": "5740ec39-93af-4563-8fc4-7ef776289fb3",
   "metadata": {},
   "source": [
    "#### Phew! This `v1` version is chunked much better for extracting maps at a specific time step!"
   ]
  },
  {
   "cell_type": "markdown",
   "id": "c66f4c86-48dd-4bba-85f2-f700543f4928",
   "metadata": {},
   "source": [
    "### Dataset 3"
   ]
  },
  {
   "cell_type": "code",
   "execution_count": null,
   "id": "e8cf9efd-3cc8-4e22-a693-ad46c09f026e",
   "metadata": {},
   "outputs": [],
   "source": [
    "url = 's3://esip-qhub/ebd/sentinel-1-l22/zarr/mgrs/19LCF/20m/19LCF_20m_A_149_vh_mtfil.zarr'"
   ]
  },
  {
   "cell_type": "code",
   "execution_count": null,
   "id": "4a625fdc-c5ed-4bdc-8d71-f20c25462cd0",
   "metadata": {},
   "outputs": [],
   "source": [
    "ds = xr.open_dataset(fs_pay.get_mapper(url), engine='zarr', \n",
    "                     backend_kwargs=dict(consolidated=True), chunks={})"
   ]
  },
  {
   "cell_type": "code",
   "execution_count": null,
   "id": "c1689d24-8862-496c-b25d-62ce18783e80",
   "metadata": {},
   "outputs": [],
   "source": [
    "ds.tile19LCF_20m_A_149_vh_mtfil"
   ]
  },
  {
   "cell_type": "code",
   "execution_count": null,
   "id": "7937b69a-ab04-4d3d-99b2-f6a62a800f89",
   "metadata": {},
   "outputs": [],
   "source": []
  }
 ],
 "metadata": {
  "kernelspec": {
   "display_name": "Python [conda env:pangeo]",
   "language": "python",
   "name": "conda-env-pangeo-py"
  },
  "language_info": {
   "codemirror_mode": {
    "name": "ipython",
    "version": 3
   },
   "file_extension": ".py",
   "mimetype": "text/x-python",
   "name": "python",
   "nbconvert_exporter": "python",
   "pygments_lexer": "ipython3",
   "version": "3.8.10"
  }
 },
 "nbformat": 4,
 "nbformat_minor": 5
}
