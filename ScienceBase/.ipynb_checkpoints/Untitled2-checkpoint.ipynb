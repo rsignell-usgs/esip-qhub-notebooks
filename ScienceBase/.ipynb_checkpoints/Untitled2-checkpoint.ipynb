{
 "cells": [
  {
   "cell_type": "code",
   "execution_count": null,
   "id": "5e1bcb07-d485-4787-9991-4db579188cf0",
   "metadata": {},
   "outputs": [],
   "source": [
    "import fsspec\n",
    "import xarray as xr\n",
    "import hvplot.xarray\n",
    "import numpy as np"
   ]
  },
  {
   "cell_type": "code",
   "execution_count": null,
   "id": "04c30470-26b5-41d8-8265-a86a77109394",
   "metadata": {},
   "outputs": [],
   "source": [
    "fs = fsspec.filesystem('s3')"
   ]
  },
  {
   "cell_type": "code",
   "execution_count": null,
   "id": "f05215c5-d19c-4cdb-aad7-116d3c1e0922",
   "metadata": {},
   "outputs": [],
   "source": [
    "url = 's3://prod-is-usgs-sb-prod-publish/611d3db1d34e40dd9c012be2/PREC_ACC_NC.nc'"
   ]
  },
  {
   "cell_type": "code",
   "execution_count": null,
   "id": "8924d4fb-15ce-4327-93d1-5b12faa3b7b2",
   "metadata": {},
   "outputs": [],
   "source": [
    "print(f'{fs.size(url)/1e6} Mb')"
   ]
  },
  {
   "cell_type": "code",
   "execution_count": null,
   "id": "47ce2a1a-b4f3-402e-9418-8452b8f7f2b6",
   "metadata": {},
   "outputs": [],
   "source": [
    "ds = xr.open_dataset(fs.open(url), chunks='auto')"
   ]
  },
  {
   "cell_type": "code",
   "execution_count": null,
   "id": "3a2ad86a-ef68-4522-b36b-5292b4bb38c2",
   "metadata": {},
   "outputs": [],
   "source": [
    "ds"
   ]
  },
  {
   "cell_type": "code",
   "execution_count": null,
   "id": "c4395329-ebe1-4df3-951d-2567628744bc",
   "metadata": {},
   "outputs": [],
   "source": [
    "ds.PREC_ACC_NC"
   ]
  },
  {
   "cell_type": "code",
   "execution_count": null,
   "id": "f85f7cbe-e91a-4aef-9bd9-91598c374277",
   "metadata": {},
   "outputs": [],
   "source": [
    "ds['PREC_ACC_NC'].unify_chunks().hvplot.quadmesh(x='XLONG', y='XLAT', geo=True, rasterize=True, \n",
    "                              tiles='OSM', cmap='turbo', logz=True, clim=(1e-2, np.nan))"
   ]
  }
 ],
 "metadata": {
  "kernelspec": {
   "display_name": "Python [conda env:pangeo]",
   "language": "python",
   "name": "conda-env-pangeo-py"
  },
  "language_info": {
   "codemirror_mode": {
    "name": "ipython",
    "version": 3
   },
   "file_extension": ".py",
   "mimetype": "text/x-python",
   "name": "python",
   "nbconvert_exporter": "python",
   "pygments_lexer": "ipython3",
   "version": "3.9.6"
  }
 },
 "nbformat": 4,
 "nbformat_minor": 5
}
