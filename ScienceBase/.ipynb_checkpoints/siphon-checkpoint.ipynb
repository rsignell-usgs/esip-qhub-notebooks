{
 "cells": [
  {
   "cell_type": "markdown",
   "id": "0e757212-676e-4174-a3fc-03265d41404e",
   "metadata": {},
   "source": [
    "### Plot lon, lat locations of all datasets in a TDS catalog"
   ]
  },
  {
   "cell_type": "code",
   "execution_count": null,
   "id": "8c721983-1b85-47f4-9ba4-00ba3047b025",
   "metadata": {},
   "outputs": [],
   "source": [
    "from siphon.catalog import TDSCatalog\n",
    "import netCDF4\n",
    "import pandas as pd\n",
    "import hvplot.pandas"
   ]
  },
  {
   "cell_type": "code",
   "execution_count": null,
   "id": "267a7a45-f392-4f7f-84c3-14ed9aa08519",
   "metadata": {},
   "outputs": [],
   "source": [
    "catalog_xml = 'https://geoport.usgs.esipfed.org/thredds/silt/usgs/Projects/stellwagen/CF-1.6/W_GMAINE/catalog.xml'"
   ]
  },
  {
   "cell_type": "code",
   "execution_count": null,
   "id": "98fa45c0-497b-4003-87ec-f797171158b1",
   "metadata": {},
   "outputs": [],
   "source": [
    "dsets = TDSCatalog(catalog_xml).datasets"
   ]
  },
  {
   "cell_type": "code",
   "execution_count": null,
   "id": "8c54dc28-2efa-43cc-a3b6-b90c034296f1",
   "metadata": {},
   "outputs": [],
   "source": [
    "lon = []\n",
    "lat = []\n",
    "name = []\n",
    "for d,v in dsets.items():\n",
    "    nc = netCDF4.Dataset(v.access_urls['OPENDAP'])\n",
    "    print(d, nc.longitude, nc.latitude)\n",
    "    lon.append(nc.longitude)\n",
    "    lat.append(nc.latitude)\n",
    "    name.append(d)"
   ]
  },
  {
   "cell_type": "code",
   "execution_count": null,
   "id": "86e13069-920c-483d-b403-8e1c4c1bd16d",
   "metadata": {},
   "outputs": [],
   "source": [
    "data = {'lon':lon, 'lat':lat, 'name':name}"
   ]
  },
  {
   "cell_type": "code",
   "execution_count": null,
   "id": "8f07583a-e52b-4816-b494-1b1c1776488c",
   "metadata": {},
   "outputs": [],
   "source": [
    "df = pd.DataFrame.from_dict(data)"
   ]
  },
  {
   "cell_type": "code",
   "execution_count": null,
   "id": "0b2bbb74-73ef-48fc-8844-fddac84791d0",
   "metadata": {},
   "outputs": [],
   "source": [
    "df.hvplot.points(x='lon', y='lat', geo=True, tiles='OSM', marker='square', color='green')"
   ]
  }
 ],
 "metadata": {
  "kernelspec": {
   "display_name": "Python [conda env:pangeo]",
   "language": "python",
   "name": "conda-env-pangeo-py"
  },
  "language_info": {
   "codemirror_mode": {
    "name": "ipython",
    "version": 3
   },
   "file_extension": ".py",
   "mimetype": "text/x-python",
   "name": "python",
   "nbconvert_exporter": "python",
   "pygments_lexer": "ipython3",
   "version": "3.8.10"
  }
 },
 "nbformat": 4,
 "nbformat_minor": 5
}
