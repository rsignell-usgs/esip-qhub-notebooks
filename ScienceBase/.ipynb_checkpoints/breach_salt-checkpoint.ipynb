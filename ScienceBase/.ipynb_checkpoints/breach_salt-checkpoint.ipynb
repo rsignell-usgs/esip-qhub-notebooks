{
 "cells": [
  {
   "cell_type": "code",
   "execution_count": null,
   "id": "0fb8cb9a-d62e-405d-91bf-aa5369aea640",
   "metadata": {},
   "outputs": [],
   "source": [
    "import xarray as xr\n",
    "import fsspec"
   ]
  },
  {
   "cell_type": "code",
   "execution_count": null,
   "id": "d7059d85-e602-48d0-8462-2dab469b072c",
   "metadata": {},
   "outputs": [],
   "source": [
    "so = {\"anon\": True}\n",
    "fo = \"s3://prod-is-usgs-sb-prod-publish/609bf69ed34ea221ce39b261/breach_matanzas_ReferenceFileSystem.json\"\n",
    "fs = fsspec.filesystem(\"reference\", fo=fo, target_options=so,\n",
    "                       remote_protocol=\"s3\", remote_options=so)\n",
    "m = fs.get_mapper(\"\")\n",
    "ds = xr.open_dataset(m, engine=\"zarr\", decode_timedelta=False, \n",
    "                     chunks={'ocean_time':180, 's_rho':1, 'eta_rho':300, 'xi_rho':400})"
   ]
  },
  {
   "cell_type": "code",
   "execution_count": null,
   "id": "566be140-2e07-45ee-ab86-87f6b7f9d5b7",
   "metadata": {},
   "outputs": [],
   "source": [
    "ds.salt"
   ]
  },
  {
   "cell_type": "code",
   "execution_count": null,
   "id": "d3f35308-0320-42e1-bcf8-3a47c78c249b",
   "metadata": {},
   "outputs": [],
   "source": [
    "%%time \n",
    "a = ds.salt.mean(dim='ocean_time').compute()"
   ]
  },
  {
   "cell_type": "code",
   "execution_count": null,
   "id": "cb0b56fc-6891-4f1b-a941-10d5b5a34e96",
   "metadata": {},
   "outputs": [],
   "source": [
    "from dask.distributed import Client\n",
    "client = Client()"
   ]
  },
  {
   "cell_type": "code",
   "execution_count": null,
   "id": "0a64ea03-126f-4176-a040-f387b9f1129c",
   "metadata": {},
   "outputs": [],
   "source": [
    "client"
   ]
  },
  {
   "cell_type": "code",
   "execution_count": null,
   "id": "dbdb6918-b43a-4513-bb76-fa91d027893b",
   "metadata": {},
   "outputs": [],
   "source": [
    "%%time \n",
    "b = ds.salt.mean(dim='ocean_time').compute()"
   ]
  }
 ],
 "metadata": {
  "kernelspec": {
   "display_name": "Python [conda env:pangeo]",
   "language": "python",
   "name": "conda-env-pangeo-py"
  },
  "language_info": {
   "codemirror_mode": {
    "name": "ipython",
    "version": 3
   },
   "file_extension": ".py",
   "mimetype": "text/x-python",
   "name": "python",
   "nbconvert_exporter": "python",
   "pygments_lexer": "ipython3",
   "version": "3.8.10"
  }
 },
 "nbformat": 4,
 "nbformat_minor": 5
}
