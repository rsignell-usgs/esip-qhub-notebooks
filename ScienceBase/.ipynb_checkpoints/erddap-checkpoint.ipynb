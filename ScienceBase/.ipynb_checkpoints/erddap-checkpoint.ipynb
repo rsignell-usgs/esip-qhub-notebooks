{
 "cells": [
  {
   "cell_type": "markdown",
   "id": "0e757212-676e-4174-a3fc-03265d41404e",
   "metadata": {},
   "source": [
    "# USGS-CMG Project station map\n",
    "using ERDDAP RESTful queries, pandas and hvplot"
   ]
  },
  {
   "cell_type": "code",
   "execution_count": null,
   "id": "8c721983-1b85-47f4-9ba4-00ba3047b025",
   "metadata": {},
   "outputs": [],
   "source": [
    "import pandas as pd\n",
    "import hvplot.pandas"
   ]
  },
  {
   "cell_type": "code",
   "execution_count": null,
   "id": "eda3dd98-d2af-45d9-ba76-f0c4a2d7ec44",
   "metadata": {},
   "outputs": [],
   "source": [
    "endpoint = 'https://geoport.usgs.esipfed.org/erddap'\n",
    "project = 'W_GMAINE'"
   ]
  },
  {
   "cell_type": "markdown",
   "id": "359bbf24-a1db-4f5e-b5bd-3ffe1ec33a63",
   "metadata": {},
   "source": [
    "#### Get `datasetID, lon, lat` for all datasets"
   ]
  },
  {
   "cell_type": "code",
   "execution_count": null,
   "id": "b0642101-efe9-4db1-8b19-d3af8bfa017e",
   "metadata": {},
   "outputs": [],
   "source": [
    "df = pd.read_csv(f'{endpoint}/tabledap/allDatasets.csv?datasetID%2CminLongitude%2CminLatitude')"
   ]
  },
  {
   "cell_type": "markdown",
   "id": "f1f25d84-6899-461b-a362-4eb87ea5c73c",
   "metadata": {},
   "source": [
    "#### Find the Dataset IDs for a Project"
   ]
  },
  {
   "cell_type": "code",
   "execution_count": null,
   "id": "267a7a45-f392-4f7f-84c3-14ed9aa08519",
   "metadata": {},
   "outputs": [],
   "source": [
    "ids = pd.read_csv(f'{endpoint}/search/index.csv?page=1&itemsPerPage=10000&searchFor={project}')['Dataset ID'].values"
   ]
  },
  {
   "cell_type": "markdown",
   "id": "99a6d0f2-3ec5-4d64-95b2-4c89368719c5",
   "metadata": {},
   "source": [
    "#### Extract the lon/lat values for specific DatasetIDs"
   ]
  },
  {
   "cell_type": "code",
   "execution_count": null,
   "id": "dfa2f1dc-83e5-4a2d-9342-961847da6f98",
   "metadata": {},
   "outputs": [],
   "source": [
    "df = df[df['datasetID'].isin(ids)]"
   ]
  },
  {
   "cell_type": "markdown",
   "id": "1df502f9-c787-468f-9b78-73c2ebf65de7",
   "metadata": {},
   "source": [
    "#### Clean up the DataFrame"
   ]
  },
  {
   "cell_type": "code",
   "execution_count": null,
   "id": "4ed42d6b-0046-4908-929f-656817656fab",
   "metadata": {},
   "outputs": [],
   "source": [
    "df = df.rename(columns={'minLongitude':'lon', 'minLatitude':'lat', 'datasetID':'mooring'})\n",
    "df = df.set_index('mooring')\n",
    "df['lon']= df['lon'].astype('float')\n",
    "df['lat']= df['lat'].astype('float')"
   ]
  },
  {
   "cell_type": "code",
   "execution_count": null,
   "id": "89b75ced-5fde-4ad3-bb58-86a7850db394",
   "metadata": {},
   "outputs": [],
   "source": [
    "df.head()"
   ]
  },
  {
   "cell_type": "markdown",
   "id": "74caf103-bbfb-490a-a1e0-a020db610bee",
   "metadata": {},
   "source": [
    "#### Plot the lon/lat values for the Project"
   ]
  },
  {
   "cell_type": "code",
   "execution_count": null,
   "id": "0b2bbb74-73ef-48fc-8844-fddac84791d0",
   "metadata": {},
   "outputs": [],
   "source": [
    "df.hvplot.points(x='lon', y='lat', geo=True, tiles='OSM', marker='square', color='green')"
   ]
  }
 ],
 "metadata": {
  "kernelspec": {
   "display_name": "Python [conda env:pangeo]",
   "language": "python",
   "name": "conda-env-pangeo-py"
  },
  "language_info": {
   "codemirror_mode": {
    "name": "ipython",
    "version": 3
   },
   "file_extension": ".py",
   "mimetype": "text/x-python",
   "name": "python",
   "nbconvert_exporter": "python",
   "pygments_lexer": "ipython3",
   "version": "3.8.10"
  }
 },
 "nbformat": 4,
 "nbformat_minor": 5
}
