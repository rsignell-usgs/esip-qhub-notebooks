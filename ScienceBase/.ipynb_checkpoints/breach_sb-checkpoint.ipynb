{
 "cells": [
  {
   "cell_type": "markdown",
   "id": "realistic-birth",
   "metadata": {},
   "source": [
    "# Read NetCDF directly from ScienceBase S3\n",
    "Matanzas Inlet Breach simulation.\n",
    "Try reading:\n",
    "* NetCDF4 file on S3 with h5netcdf library (HDF5 library)\n",
    "* NetCDF4 file on S3 with zarr library, using fsspec's FileReferenceSystem"
   ]
  },
  {
   "cell_type": "code",
   "execution_count": null,
   "id": "second-mailing",
   "metadata": {},
   "outputs": [],
   "source": [
    "import xarray as xr\n",
    "import fsspec"
   ]
  },
  {
   "cell_type": "code",
   "execution_count": null,
   "id": "imposed-norway",
   "metadata": {},
   "outputs": [],
   "source": [
    "fs = fsspec.filesystem('s3',anon=True)"
   ]
  },
  {
   "cell_type": "markdown",
   "id": "radio-discrimination",
   "metadata": {},
   "source": [
    "#### NetCDF4 file on S3 with h5netcdf library"
   ]
  },
  {
   "cell_type": "code",
   "execution_count": null,
   "id": "drawn-samuel",
   "metadata": {},
   "outputs": [],
   "source": [
    "%%time\n",
    "fo = 's3://prod-is-usgs-sb-prod-publish/609bf69ed34ea221ce39b261/breach_matanzas.nc'\n",
    "ds = xr.open_dataset(fs.open(fo), decode_timedelta=False, engine='h5netcdf')"
   ]
  },
  {
   "cell_type": "code",
   "execution_count": null,
   "id": "instant-clone",
   "metadata": {},
   "outputs": [],
   "source": [
    "%%time\n",
    "ds.zeta[:,200,200].mean().compute()"
   ]
  },
  {
   "cell_type": "markdown",
   "id": "lyric-coupon",
   "metadata": {},
   "source": [
    "#### Read NetCDF file on S3 using ReferenceFileSystem metadata with Zarr library"
   ]
  },
  {
   "cell_type": "code",
   "execution_count": null,
   "id": "returning-agent",
   "metadata": {},
   "outputs": [],
   "source": [
    "%%time\n",
    "so = {\"anon\": True}\n",
    "fo = \"s3://prod-is-usgs-sb-prod-publish/609bf69ed34ea221ce39b261/breach_matanzas_ReferenceFileSystem.json\"\n",
    "fs1 = fsspec.filesystem(\"reference\", fo=fo, target_options=so,\n",
    "                       remote_protocol=\"s3\", remote_options=so)\n",
    "m = fs1.get_mapper(\"\")\n",
    "ds = xr.open_dataset(m, engine=\"zarr\", decode_timedelta=False)"
   ]
  },
  {
   "cell_type": "code",
   "execution_count": null,
   "id": "african-satisfaction",
   "metadata": {},
   "outputs": [],
   "source": [
    "%%time\n",
    "ds.zeta[:,200,200].mean().compute()"
   ]
  },
  {
   "cell_type": "markdown",
   "id": "lucky-gazette",
   "metadata": {},
   "source": [
    "### Conclusions \n",
    "For this dataset, accessing netCDF4 on using Zarr/ReferenceFileSystem is:\n",
    "* 10x faster to open the dataset\n",
    "* 3x faster to read the data"
   ]
  }
 ],
 "metadata": {
  "kernelspec": {
   "display_name": "Python [conda env:netcdf]",
   "language": "python",
   "name": "conda-env-netcdf-py"
  },
  "language_info": {
   "codemirror_mode": {
    "name": "ipython",
    "version": 3
   },
   "file_extension": ".py",
   "mimetype": "text/x-python",
   "name": "python",
   "nbconvert_exporter": "python",
   "pygments_lexer": "ipython3",
   "version": "3.9.2"
  }
 },
 "nbformat": 4,
 "nbformat_minor": 5
}
