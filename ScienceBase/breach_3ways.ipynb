{
 "cells": [
  {
   "cell_type": "markdown",
   "id": "facial-walker",
   "metadata": {},
   "source": [
    "# 3 ways to read COAWST output\n",
    "Matanzas Inlet Breach simulation.\n",
    "Try reading:\n",
    "* NetCDF4 file on S3 with h5netcdf library (HDF5 library)\n",
    "* NetCDF4 file on S3 with zarr library, using fsspec's [FileReferenceSystem](https://medium.com/pangeo/cloud-performant-netcdf4-hdf5-with-zarr-fsspec-and-intake-3d3a3e7cb935)\n",
    "* Zarr dataset on S3 with consolidated metadata"
   ]
  },
  {
   "cell_type": "code",
   "execution_count": null,
   "id": "frozen-flush",
   "metadata": {},
   "outputs": [],
   "source": [
    "import xarray as xr\n",
    "import fsspec"
   ]
  },
  {
   "cell_type": "markdown",
   "id": "c7505440-666f-4dbc-bb54-fb0aacd5f1c2",
   "metadata": {},
   "source": [
    "#### Reading NetCDF4 data from USGS ScienceBase AWS Bucket\n",
    "[ScienceBase Item here](https://www.sciencebase.gov/catalog/item/609bf69ed34ea221ce39b261)\n",
    "(requires login and permission)"
   ]
  },
  {
   "cell_type": "code",
   "execution_count": null,
   "id": "variable-academy",
   "metadata": {},
   "outputs": [],
   "source": [
    "fs0 = fsspec.filesystem('s3', anon=True)  # USGS ScienceBase Bucket, us-west-2\n",
    "fs1 = fsspec.filesystem('s3', requester_pays=True, profile='esip-qhub') # ESIP Bucket, us-west-2"
   ]
  },
  {
   "cell_type": "markdown",
   "id": "toxic-joint",
   "metadata": {},
   "source": [
    "#### NetCDF4 file on S3 with h5netcdf library"
   ]
  },
  {
   "cell_type": "code",
   "execution_count": null,
   "id": "configured-stewart",
   "metadata": {},
   "outputs": [],
   "source": [
    "%%time\n",
    "fo = 's3://prod-is-usgs-sb-prod-publish/609bf69ed34ea221ce39b261/breach_matanzas.nc'\n",
    "ds = xr.open_dataset(fs0.open(fo), decode_timedelta=False, engine='h5netcdf', \n",
    "                     chunks={'ocean_time':200, 'eta_rho':300, 'xi_rho':400})"
   ]
  },
  {
   "cell_type": "code",
   "execution_count": null,
   "id": "nearby-juvenile",
   "metadata": {},
   "outputs": [],
   "source": [
    "%%time\n",
    "ds.zeta[:,200,200].mean().values"
   ]
  },
  {
   "cell_type": "markdown",
   "id": "recreational-correlation",
   "metadata": {},
   "source": [
    "#### Read NetCDF file on S3 using ReferenceFileSystem metadata with Zarr library"
   ]
  },
  {
   "cell_type": "code",
   "execution_count": null,
   "id": "wooden-hayes",
   "metadata": {},
   "outputs": [],
   "source": [
    "%%time\n",
    "so = {\"anon\": True}\n",
    "fo = \"s3://prod-is-usgs-sb-prod-publish/609bf69ed34ea221ce39b261/breach_matanzas_ReferenceFileSystem.json\"\n",
    "fs = fsspec.filesystem(\"reference\", fo=fo, target_options=so,\n",
    "                       remote_protocol=\"s3\", remote_options=so)\n",
    "m = fs.get_mapper(\"\")\n",
    "ds = xr.open_dataset(m, engine=\"zarr\", decode_timedelta=False, \n",
    "                     chunks={'ocean_time':200, 'eta_rho':300, 'xi_rho':400})"
   ]
  },
  {
   "cell_type": "code",
   "execution_count": null,
   "id": "5e3c3c69-0206-44b7-ac4c-b4986b8eda6a",
   "metadata": {},
   "outputs": [],
   "source": [
    "%%time\n",
    "ds.zeta[:,200,200].mean().values"
   ]
  },
  {
   "cell_type": "markdown",
   "id": "driving-massachusetts",
   "metadata": {},
   "source": [
    "#### Zarr Dataset on S3 with Zarr library "
   ]
  },
  {
   "cell_type": "code",
   "execution_count": null,
   "id": "general-merchandise",
   "metadata": {},
   "outputs": [],
   "source": [
    "%%time\n",
    "ds = xr.open_zarr(fs1.get_mapper('esip-qhub/usgs/rsignell/zarr/breach_matanzas'),\n",
    "                     decode_timedelta=False, consolidated=True, chunks={})"
   ]
  },
  {
   "cell_type": "code",
   "execution_count": null,
   "id": "returning-savannah",
   "metadata": {},
   "outputs": [],
   "source": [
    "%%time\n",
    "ds.zeta[:,200,200].mean().values"
   ]
  },
  {
   "cell_type": "markdown",
   "id": "artificial-aberdeen",
   "metadata": {},
   "source": [
    "### Conclusions \n",
    "** based on this dataset **\n",
    "* Opening the netCDF4 file on S3 with Zarr/ReferenceFileSystem is 10x faster than with HDF5 library\n",
    "* Reading the netCDF4 file on S3 with Zarr/ReferenceFileSystem is 3-4x faster than with HDF5 library\n",
    "* Opening and reading NetCDF can be as fast as Zarr"
   ]
  }
 ],
 "metadata": {
  "kernelspec": {
   "display_name": "Python [conda env:pangeo]",
   "language": "python",
   "name": "conda-env-pangeo-py"
  },
  "language_info": {
   "codemirror_mode": {
    "name": "ipython",
    "version": 3
   },
   "file_extension": ".py",
   "mimetype": "text/x-python",
   "name": "python",
   "nbconvert_exporter": "python",
   "pygments_lexer": "ipython3",
   "version": "3.9.6"
  }
 },
 "nbformat": 4,
 "nbformat_minor": 5
}
