{
 "cells": [
  {
   "cell_type": "markdown",
   "metadata": {},
   "source": [
    "# Zarr format and HDF5 format read time comparison \n",
    "Compute the maximum water level during Hurricane Ike on a 9 million node triangular mesh storm surge model.  This reads 53GB of data. "
   ]
  },
  {
   "cell_type": "code",
   "execution_count": null,
   "metadata": {},
   "outputs": [],
   "source": [
    "import xarray as xr\n",
    "import zarr\n",
    "import fsspec\n",
    "import fsspec.implementations.reference as refs\n",
    "import intake\n",
    "import intake_xarray"
   ]
  },
  {
   "cell_type": "code",
   "execution_count": null,
   "metadata": {},
   "outputs": [],
   "source": [
    "import xarray;print(xarray.__version__)\n",
    "import zarr;print(zarr.__version__)\n",
    "import s3fs;print(s3fs.__version__)\n",
    "import fsspec;print(fsspec.__version__)\n",
    "import intake;print(intake.__version__)\n",
    "import intake_xarray;print(intake_xarray.__version__)\n",
    "import aiobotocore;print(aiobotocore.__versions__)"
   ]
  },
  {
   "cell_type": "markdown",
   "metadata": {},
   "source": [
    "### Open Intake Catalog"
   ]
  },
  {
   "cell_type": "code",
   "execution_count": null,
   "metadata": {},
   "outputs": [],
   "source": [
    "cat = intake.open_catalog('intake_catalog.yml')\n",
    "list(cat)"
   ]
  },
  {
   "cell_type": "markdown",
   "metadata": {},
   "source": [
    "### Zarr library reading HDF5 file with fsspec"
   ]
  },
  {
   "cell_type": "code",
   "execution_count": null,
   "metadata": {},
   "outputs": [],
   "source": [
    "ds  = cat['ike-hdf5'].to_dask()"
   ]
  }
 ],
 "metadata": {
  "kernelspec": {
   "display_name": "Python [conda env:rechunker]",
   "language": "python",
   "name": "conda-env-rechunker-py"
  },
  "language_info": {
   "codemirror_mode": {
    "name": "ipython",
    "version": 3
   },
   "file_extension": ".py",
   "mimetype": "text/x-python",
   "name": "python",
   "nbconvert_exporter": "python",
   "pygments_lexer": "ipython3",
   "version": "3.7.8"
  }
 },
 "nbformat": 4,
 "nbformat_minor": 4
}
