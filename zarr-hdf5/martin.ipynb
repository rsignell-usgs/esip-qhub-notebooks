{
 "cells": [
  {
   "cell_type": "code",
   "execution_count": null,
   "metadata": {},
   "outputs": [],
   "source": [
    "import fsspec.implementations.reference as ref\n",
    "\n",
    "opts = ref_storage_args = {\"requester_pays\": True}\n",
    "\n",
    "fs = ref.ReferenceFileSystem(\"s3://pangeo-data-uswest2/esip/adcirc/adcirc_01d_offsets.json\", \n",
    "                             ref_storage_args=opts, target_protocol=\"s3\", target_options=opts)\n",
    "\n",
    "fs.cat(\".zgroup\")\n",
    "\n",
    "import xarray as xr\n",
    "\n",
    "ds = xr.open_dataset(fs.get_mapper(\"\"), engine=\"zarr\", chunks={})"
   ]
  },
  {
   "cell_type": "code",
   "execution_count": null,
   "metadata": {},
   "outputs": [],
   "source": [
    "ds.zeta"
   ]
  },
  {
   "cell_type": "code",
   "execution_count": null,
   "metadata": {},
   "outputs": [],
   "source": []
  }
 ],
 "metadata": {
  "kernelspec": {
   "display_name": "Python [conda env:default]",
   "language": "python",
   "name": "conda-env-default-py"
  },
  "language_info": {
   "codemirror_mode": {
    "name": "ipython",
    "version": 3
   },
   "file_extension": ".py",
   "mimetype": "text/x-python",
   "name": "python",
   "nbconvert_exporter": "python",
   "pygments_lexer": "ipython3",
   "version": "3.8.8"
  }
 },
 "nbformat": 4,
 "nbformat_minor": 4
}
