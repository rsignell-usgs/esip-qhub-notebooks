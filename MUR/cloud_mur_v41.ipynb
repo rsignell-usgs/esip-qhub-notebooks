{
 "cells": [
  {
   "cell_type": "code",
   "execution_count": null,
   "id": "acknowledged-virgin",
   "metadata": {},
   "outputs": [],
   "source": [
    "import s3fs\n",
    "import requests\n",
    "from urllib import request\n",
    "from http.cookiejar import CookieJar\n",
    "import numpy as np\n",
    "import xarray as xr\n",
    "import matplotlib.pyplot as plt\n",
    "from json import dumps\n",
    "from io import StringIO\n",
    "from os.path import dirname, join\n",
    "import netrc\n",
    "\n",
    "import os\n",
    "import fsspec\n",
    "import ujson   # fast json\n",
    "from fsspec_reference_maker.hdf import SingleHdf5ToZarr \n",
    "from fsspec_reference_maker.combine import MultiZarrToZarr\n",
    "import xarray as xr\n",
    "import dask\n",
    "import hvplot.xarray"
   ]
  },
  {
   "cell_type": "code",
   "execution_count": null,
   "id": "personal-exposure",
   "metadata": {},
   "outputs": [],
   "source": [
    "import fsspec_reference_maker\n",
    "fsspec_reference_maker.__version__"
   ]
  },
  {
   "cell_type": "markdown",
   "id": "secondary-philip",
   "metadata": {},
   "source": [
    "## set up earthdata login credentials\n",
    "- code for setting up earthdata_login from [here](https://github.com/podaac/tutorials/blob/master/notebooks/cloudwebinar/cloud_direct_access_s3.py)\n",
    "- for the earthdata login to work you need to create a .netrc file on your home directory\n",
    "- .netrc file contains:\\\n",
    "machine urs.earthdata.nasa.gov\\\n",
    "login 'earthdata username'\\\n",
    "password 'password'"
   ]
  },
  {
   "cell_type": "code",
   "execution_count": null,
   "id": "alive-kenya",
   "metadata": {},
   "outputs": [],
   "source": [
    "#########Setting up earthdata login credentials \n",
    "def setup_earthdata_login_auth(endpoint):\n",
    "    \"\"\"\n",
    "    Set up the request library so that it authenticates against the given Earthdata Login\n",
    "    endpoint and is able to track cookies between requests.  This looks in the .netrc file \n",
    "    first and if no credentials are found, it prompts for them.\n",
    "    Valid endpoints:\n",
    "        urs.earthdata.nasa.gov - Earthdata Login production\n",
    "    \"\"\"\n",
    "    try:\n",
    "        username, _, password = netrc.netrc().authenticators(endpoint)\n",
    "    except (FileNotFoundError, TypeError):\n",
    "        # FileNotFound = There's no .netrc file\n",
    "        # TypeError = The endpoint isn't in the netrc file, causing the above to try unpacking None\n",
    "        print(\"There's no .netrc file or the The endpoint isn't in the netrc file\")\n",
    "\n",
    "    manager = request.HTTPPasswordMgrWithDefaultRealm()\n",
    "    manager.add_password(None, endpoint, username, password)\n",
    "    auth = request.HTTPBasicAuthHandler(manager)\n",
    "\n",
    "    jar = CookieJar()\n",
    "    processor = request.HTTPCookieProcessor(jar)\n",
    "    opener = request.build_opener(auth, processor)\n",
    "    request.install_opener(opener)\n",
    "\n",
    "###############################################################################\n",
    "edl=\"urs.earthdata.nasa.gov\"\n",
    "setup_earthdata_login_auth(edl)\n",
    "\n",
    "def begin_s3_direct_access():\n",
    "    url=\"https://archive.podaac.earthdata.nasa.gov/s3credentials\"\n",
    "    response = requests.get(url).json()\n",
    "    return s3fs.S3FileSystem(key=response['accessKeyId'],secret=response['secretAccessKey'],token=response['sessionToken'],client_kwargs={'region_name':'us-west-2'})\n"
   ]
  },
  {
   "cell_type": "code",
   "execution_count": null,
   "id": "82eea16b-d7fc-4076-adef-9e286cc788b0",
   "metadata": {},
   "outputs": [],
   "source": [
    "import os\n",
    "import sys\n",
    "sys.path.append(os.path.join(os.environ['HOME'],'shared','users','lib'))\n",
    "import ebdpy as ebd\n",
    "\n",
    "ebd.set_credentials(profile='esip-qhub')\n",
    "\n",
    "profile = 'esip-qhub'\n",
    "region = 'us-west-2'\n",
    "endpoint = f's3.{region}.amazonaws.com'\n",
    "ebd.set_credentials(profile=profile, region=region, endpoint=endpoint)\n",
    "worker_max = 30\n",
    "client,cluster = ebd.start_dask_cluster(profile=profile,worker_max=worker_max, \n",
    "                                      region=region, use_existing_cluster=True,\n",
    "                                      adaptive_scaling=False, wait_for_cluster=False, \n",
    "                                      environment='pangeo', worker_profile='Medium Worker', \n",
    "                                      propagate_env=True)"
   ]
  },
  {
   "cell_type": "markdown",
   "id": "above-secondary",
   "metadata": {},
   "source": [
    "## Create a list of all MUR files that are on the PODAAC Cloud"
   ]
  },
  {
   "cell_type": "code",
   "execution_count": null,
   "id": "processed-birthday",
   "metadata": {},
   "outputs": [],
   "source": [
    "fs = begin_s3_direct_access()\n",
    "flist = []\n",
    "for lyr in range(2002,2003): #2022):\n",
    "    for imon in range(12,13): #(1,13):\n",
    "        fstr = str(lyr)+str(imon).zfill(2)+'*.nc'\n",
    "        files = fs.glob(join(\"podaac-ops-cumulus-protected/\", \"MUR-JPL-L4-GLOB-v4.1\", fstr))\n",
    "        for file in files:\n",
    "            flist.append(file)\n",
    "print('total number of individual netcdf files:',len(flist))"
   ]
  },
  {
   "cell_type": "code",
   "execution_count": null,
   "id": "continent-italic",
   "metadata": {},
   "outputs": [],
   "source": [
    "urls = [\"s3://\" + f for f in flist]\n",
    "\n",
    "so = dict(mode='rb', anon=True, default_fill_cache=False, default_cache_type='first')"
   ]
  },
  {
   "cell_type": "code",
   "execution_count": null,
   "id": "f60b45f6-8969-42f5-be0b-1898457bac81",
   "metadata": {},
   "outputs": [],
   "source": [
    "fs2 = fsspec.filesystem('s3', anon=False)  "
   ]
  },
  {
   "cell_type": "code",
   "execution_count": null,
   "id": "5a350efc-28af-40e4-8bb4-04b1f41ec26e",
   "metadata": {},
   "outputs": [],
   "source": [
    "json_dir = 's3://esip-qhub/nasa/mur/jsons/'"
   ]
  },
  {
   "cell_type": "markdown",
   "id": "bound-upset",
   "metadata": {},
   "source": [
    "- file to output merged mur file"
   ]
  },
  {
   "cell_type": "code",
   "execution_count": null,
   "id": "limited-poverty",
   "metadata": {},
   "outputs": [],
   "source": [
    "#If the directory exists, remove it (and all the files)\n",
    "try:\n",
    "    fs2.rm(json_dir, recursive=True)\n",
    "except:\n",
    "    pass"
   ]
  },
  {
   "cell_type": "code",
   "execution_count": null,
   "id": "numeric-classic",
   "metadata": {},
   "outputs": [],
   "source": [
    "def gen_json(u):\n",
    "    with fs.open(u, **so) as infile:\n",
    "        h5chunks = SingleHdf5ToZarr(infile, u, inline_threshold=300)\n",
    "        p = u.split('/')\n",
    "        date = p[4][0:8] #p[3]\n",
    "        fname = p[4] #p[5]\n",
    "        outf = f'{json_dir}{date}.{fname}.json'\n",
    "        print(outf)\n",
    "        with fs2.open(outf, 'wb') as f:\n",
    "            f.write(ujson.dumps(h5chunks.translate()).encode());"
   ]
  },
  {
   "cell_type": "code",
   "execution_count": null,
   "id": "opponent-public",
   "metadata": {},
   "outputs": [],
   "source": [
    "%%time\n",
    "_ = dask.compute(*[dask.delayed(gen_json)(u) for u in urls[0:30]], retries=10);"
   ]
  },
  {
   "cell_type": "code",
   "execution_count": null,
   "id": "limiting-hotel",
   "metadata": {},
   "outputs": [],
   "source": [
    "flist2 = fs2.ls(json_dir)\n",
    "furls = sorted(['s3://'+f for f in flist2])\n",
    "furls[0]"
   ]
  },
  {
   "cell_type": "code",
   "execution_count": null,
   "id": "bd4a98ed-ac94-46b0-ac6c-9ef68c90e38a",
   "metadata": {},
   "outputs": [],
   "source": [
    "client.close(); cluster.shutdown()"
   ]
  },
  {
   "cell_type": "code",
   "execution_count": null,
   "id": "10e1a0a5-44b8-4f0a-9d22-630b6f70ac26",
   "metadata": {},
   "outputs": [],
   "source": [
    "from dask.distributed import Client"
   ]
  },
  {
   "cell_type": "code",
   "execution_count": null,
   "id": "ongoing-acrobat",
   "metadata": {},
   "outputs": [],
   "source": [
    "client = Client()"
   ]
  },
  {
   "cell_type": "code",
   "execution_count": null,
   "id": "mediterranean-throat",
   "metadata": {},
   "outputs": [],
   "source": [
    "client"
   ]
  },
  {
   "cell_type": "code",
   "execution_count": null,
   "id": "emerging-greeting",
   "metadata": {},
   "outputs": [],
   "source": [
    "mzz = MultiZarrToZarr(furls, \n",
    "    storage_options={'anon':False}, \n",
    "    remote_protocol='s3',\n",
    "    remote_options={'anon' : 'True'},   #JSON files  \n",
    "    xarray_open_kwargs={\n",
    "        'decode_cf' : False,\n",
    "        'mask_and_scale' : False,\n",
    "        'decode_times' : False,\n",
    "        'use_cftime' : False,\n",
    "        'drop_variables': ['reference_time', 'crs'],\n",
    "        'decode_coords' : False\n",
    "    },\n",
    "    xarray_concat_args={\n",
    "#          \"data_vars\": \"minimal\",\n",
    "#          \"coords\": \"minimal\",\n",
    "#          \"compat\": \"override\",\n",
    "        \"join\": \"override\",\n",
    "        \"combine_attrs\": \"override\",\n",
    "        \"dim\": \"time\"\n",
    "    }\n",
    ")"
   ]
  },
  {
   "cell_type": "code",
   "execution_count": null,
   "id": "contrary-smart",
   "metadata": {},
   "outputs": [],
   "source": [
    "%%time\n",
    "#%%prun -D multizarr_profile \n",
    "mzz.translate('mur_consolidated.json')"
   ]
  },
  {
   "cell_type": "code",
   "execution_count": null,
   "id": "8d64e546-fe01-4d90-82f2-62d221e58ae1",
   "metadata": {},
   "outputs": [],
   "source": [
    "rpath = 's3://esip-qhub-public/nasa/mur/mur4.1_consolidated.json'"
   ]
  },
  {
   "cell_type": "code",
   "execution_count": null,
   "id": "592198d1-d4ec-4167-a308-14922970ac75",
   "metadata": {},
   "outputs": [],
   "source": [
    "fs2.put_file(lpath='mur_consolidated.json', rpath=rpath)"
   ]
  },
  {
   "cell_type": "markdown",
   "id": "excess-teach",
   "metadata": {},
   "source": [
    "# testing"
   ]
  },
  {
   "cell_type": "markdown",
   "id": "2c7aff3b-833c-4d70-8a44-f5c2158959e7",
   "metadata": {},
   "source": [
    "#### Try a single json"
   ]
  },
  {
   "cell_type": "code",
   "execution_count": null,
   "id": "66a2974d-57f0-4036-b7e7-976df51dbe6e",
   "metadata": {},
   "outputs": [],
   "source": [
    "url=\"https://archive.podaac.earthdata.nasa.gov/s3credentials\"\n",
    "response = requests.get(url).json()"
   ]
  },
  {
   "cell_type": "code",
   "execution_count": null,
   "id": "7e030b3a-612e-4e14-b6a8-dc5cbb85eb46",
   "metadata": {},
   "outputs": [],
   "source": [
    "turl ='s3://esip-qhub/nasa/mur/jsons/20021201.20021201090000-JPL-L4_GHRSST-SSTfnd-MUR-GLOB-v02.0-fv04.1.nc.json'"
   ]
  },
  {
   "cell_type": "code",
   "execution_count": null,
   "id": "7374c6cd-f063-4f7c-b6b0-437b1fbad4ed",
   "metadata": {},
   "outputs": [],
   "source": [
    "s_opts = {'requester_pays':True, 'skip_instance_cache':True}\n",
    "r_opts = {'key':response['accessKeyId'],\n",
    " 'secret':response['secretAccessKey'],\n",
    " 'token':response['sessionToken'],\n",
    " 'client_kwargs':{'region_name':'us-west-2'}}\n",
    "\n",
    "fs = fsspec.filesystem(\"reference\", fo=turl, ref_storage_args=s_opts,\n",
    "                       remote_protocol='s3', remote_options=r_opts)\n",
    "m = fs.get_mapper(\"\")\n",
    "ds = xr.open_dataset(m, engine=\"zarr\", consolidated=False)"
   ]
  },
  {
   "cell_type": "code",
   "execution_count": null,
   "id": "3b67e297-562a-4ebe-ad74-3dd9aed688af",
   "metadata": {},
   "outputs": [],
   "source": [
    "ds"
   ]
  },
  {
   "cell_type": "markdown",
   "id": "d5ffe3cc-d701-494d-9a63-39c2b4ada5dd",
   "metadata": {},
   "source": [
    "#### Try the consolidated JSON"
   ]
  },
  {
   "cell_type": "code",
   "execution_count": null,
   "id": "7fb00cc0-06b8-44f4-9e3b-c3ce9e5f9fc9",
   "metadata": {},
   "outputs": [],
   "source": [
    "r_opts = {'key':response['accessKeyId'],\n",
    " 'secret':response['secretAccessKey'],\n",
    " 'token':response['sessionToken'],\n",
    " 'client_kwargs':{'region_name':'us-west-2'}}"
   ]
  },
  {
   "cell_type": "code",
   "execution_count": null,
   "id": "mobile-plain",
   "metadata": {},
   "outputs": [],
   "source": [
    "s_opts = {'requester_pays':True, 'skip_instance_cache':True}\n",
    "fs = fsspec.filesystem(\"reference\", fo=rpath, ref_storage_args=s_opts,\n",
    "                       remote_protocol='s3', remote_options=r_opts)\n",
    "m = fs.get_mapper(\"\")\n",
    "ds = xr.open_dataset(m, engine=\"zarr\", consolidated=False)"
   ]
  },
  {
   "cell_type": "code",
   "execution_count": null,
   "id": "bigger-executive",
   "metadata": {},
   "outputs": [],
   "source": [
    "ds"
   ]
  },
  {
   "cell_type": "code",
   "execution_count": null,
   "id": "b69c7659-e74c-4c3f-b4ab-bbd0e9c98abb",
   "metadata": {},
   "outputs": [],
   "source": [
    "import hvplot.xarray"
   ]
  },
  {
   "cell_type": "code",
   "execution_count": null,
   "id": "95740e83-7042-4dff-a832-bc7a30ee987d",
   "metadata": {},
   "outputs": [],
   "source": [
    "sst = ds['analysed_sst'].sel(time='2002-12-20 12:00', method='nearest').load()\n",
    "sst.hvplot.quadmesh(x='lon', y='lat', geo=True, rasterize=True, cmap='turbo' )"
   ]
  },
  {
   "cell_type": "code",
   "execution_count": null,
   "id": "354266c3-ce4b-4792-9807-a4bac3dbd714",
   "metadata": {},
   "outputs": [],
   "source": [
    "client.close(); cluster.shutdown()"
   ]
  },
  {
   "cell_type": "code",
   "execution_count": null,
   "id": "360a5c4e-8b9f-4f15-ad20-56a63afcfa3b",
   "metadata": {},
   "outputs": [],
   "source": [
    "oh"
   ]
  }
 ],
 "metadata": {
  "kernelspec": {
   "display_name": "Python [conda env:pangeo]",
   "language": "python",
   "name": "conda-env-pangeo-py"
  },
  "language_info": {
   "codemirror_mode": {
    "name": "ipython",
    "version": 3
   },
   "file_extension": ".py",
   "mimetype": "text/x-python",
   "name": "python",
   "nbconvert_exporter": "python",
   "pygments_lexer": "ipython3",
   "version": "3.9.7"
  }
 },
 "nbformat": 4,
 "nbformat_minor": 5
}
