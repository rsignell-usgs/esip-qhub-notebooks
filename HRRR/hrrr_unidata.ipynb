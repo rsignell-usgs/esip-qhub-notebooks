{
 "cells": [
  {
   "cell_type": "code",
   "execution_count": null,
   "id": "a163479f-6988-4fec-8c48-093db89f6c38",
   "metadata": {},
   "outputs": [],
   "source": [
    "import xarray as xr"
   ]
  },
  {
   "cell_type": "code",
   "execution_count": null,
   "id": "a9e245a9-fa4d-41e0-a1e4-34d9ce7ae47c",
   "metadata": {},
   "outputs": [],
   "source": [
    "url = 'https://thredds-jumbo.unidata.ucar.edu/thredds/dodsC/grib/NCEP/HRRR/CONUS_2p5km/HRRR_CONUS_2p5km_20210601_0000.grib2'"
   ]
  },
  {
   "cell_type": "code",
   "execution_count": null,
   "id": "e29bfe45-188a-4088-8c4f-9b8c617e352b",
   "metadata": {},
   "outputs": [],
   "source": [
    "ds = xr.open_dataset(url)"
   ]
  },
  {
   "cell_type": "code",
   "execution_count": null,
   "id": "94e42f34-dbde-4b49-b3e0-8908e6cd7550",
   "metadata": {},
   "outputs": [],
   "source": [
    "ds.data_vars"
   ]
  },
  {
   "cell_type": "code",
   "execution_count": null,
   "id": "a67056f1-d8f6-4bea-a336-125c34175ce9",
   "metadata": {},
   "outputs": [],
   "source": [
    "ds['u-component_of_wind_height_above_ground']"
   ]
  },
  {
   "cell_type": "code",
   "execution_count": null,
   "id": "902d8b7e-4e91-42bb-94b8-29a1e2555778",
   "metadata": {},
   "outputs": [],
   "source": [
    "ds.height_above_ground3"
   ]
  },
  {
   "cell_type": "code",
   "execution_count": null,
   "id": "4ac916cc-c8a1-470f-a28f-7ddc903af605",
   "metadata": {},
   "outputs": [],
   "source": [
    "ds.Surface_lifted_index_isobaric_layer"
   ]
  },
  {
   "cell_type": "code",
   "execution_count": null,
   "id": "fff4bb08-bfd7-4483-b1cb-631dba04ab13",
   "metadata": {},
   "outputs": [],
   "source": [
    "ds.isobaric_layer.attrs"
   ]
  },
  {
   "cell_type": "code",
   "execution_count": null,
   "id": "36fca8a1-ab9e-4f57-9a8c-7239c0edcfb0",
   "metadata": {},
   "outputs": [],
   "source": [
    "ds.isobaric_layer_bounds"
   ]
  },
  {
   "cell_type": "code",
   "execution_count": null,
   "id": "875d9813-24ab-4823-91cd-2aab3dcc22fc",
   "metadata": {},
   "outputs": [],
   "source": []
  }
 ],
 "metadata": {
  "kernelspec": {
   "display_name": "Python [conda env:pangeo]",
   "language": "python",
   "name": "conda-env-pangeo-py"
  },
  "language_info": {
   "codemirror_mode": {
    "name": "ipython",
    "version": 3
   },
   "file_extension": ".py",
   "mimetype": "text/x-python",
   "name": "python",
   "nbconvert_exporter": "python",
   "pygments_lexer": "ipython3",
   "version": "3.8.10"
  }
 },
 "nbformat": 4,
 "nbformat_minor": 5
}
