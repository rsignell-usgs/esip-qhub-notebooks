{
 "cells": [
  {
   "cell_type": "code",
   "execution_count": null,
   "id": "f73c9fe3-9de3-4873-ba57-e39c3c65e3c2",
   "metadata": {},
   "outputs": [],
   "source": [
    "import fsspec\n",
    "import xarray as xr\n",
    "import cfgrib\n",
    "import hvplot.xarray\n",
    "import cftime"
   ]
  },
  {
   "cell_type": "code",
   "execution_count": null,
   "id": "5936df45-6c61-48af-9b72-bf48a6df286d",
   "metadata": {},
   "outputs": [],
   "source": [
    "fs = fsspec.filesystem('https')\n",
    "fs.download('https://raw.githubusercontent.com/martindurant/fsspec-reference-maker/grib/fsspec_reference_maker/grib2.py', 'grib2.py')\n",
    "%run grib2.py"
   ]
  },
  {
   "cell_type": "code",
   "execution_count": null,
   "id": "a232cfb7-e412-4e59-b4be-594afdd57936",
   "metadata": {},
   "outputs": [],
   "source": [
    "%%time\n",
    "so = {\"anon\": True}\n",
    "fo = \"hrrr.total.json\"\n",
    "fs = fsspec.filesystem(\"reference\", fo=fo, target_options=so,\n",
    "                       remote_protocol=\"s3\", remote_options=so)\n",
    "m = fs.get_mapper(\"\")\n",
    "ds = xr.open_dataset(m, engine=\"zarr\", decode_times=False)"
   ]
  },
  {
   "cell_type": "code",
   "execution_count": null,
   "id": "419eeb6f-9cc7-4105-ae58-305d8ca26e16",
   "metadata": {},
   "outputs": [],
   "source": [
    "ds.time.units"
   ]
  },
  {
   "cell_type": "code",
   "execution_count": null,
   "id": "ff8374ba-61b9-4f64-a923-f02ac2adc828",
   "metadata": {},
   "outputs": [],
   "source": [
    "t = ds.time.values"
   ]
  },
  {
   "cell_type": "code",
   "execution_count": null,
   "id": "09d8d3ec-59db-4acc-bdc3-c2e55daf8b83",
   "metadata": {},
   "outputs": [],
   "source": [
    "t"
   ]
  },
  {
   "cell_type": "code",
   "execution_count": null,
   "id": "8f697a64-b6a2-4587-b6a0-dea3522ac1b2",
   "metadata": {},
   "outputs": [],
   "source": [
    "import numpy as np"
   ]
  },
  {
   "cell_type": "code",
   "execution_count": null,
   "id": "856ede52-a06b-4027-8bf3-80c1a2554b4d",
   "metadata": {},
   "outputs": [],
   "source": [
    "np.diff(t)/1e9"
   ]
  },
  {
   "cell_type": "code",
   "execution_count": null,
   "id": "c03e599e-100b-4d3c-8778-670c0eb451da",
   "metadata": {},
   "outputs": [],
   "source": [
    "-28800/3600"
   ]
  },
  {
   "cell_type": "code",
   "execution_count": null,
   "id": "e60aff6f-bade-446d-b91d-cdbcdc2649a4",
   "metadata": {},
   "outputs": [],
   "source": []
  }
 ],
 "metadata": {
  "kernelspec": {
   "display_name": "Python [conda env:pangeo]",
   "language": "python",
   "name": "conda-env-pangeo-py"
  },
  "language_info": {
   "codemirror_mode": {
    "name": "ipython",
    "version": 3
   },
   "file_extension": ".py",
   "mimetype": "text/x-python",
   "name": "python",
   "nbconvert_exporter": "python",
   "pygments_lexer": "ipython3",
   "version": "3.8.10"
  }
 },
 "nbformat": 4,
 "nbformat_minor": 5
}
