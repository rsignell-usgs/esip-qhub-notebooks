{
 "cells": [
  {
   "cell_type": "markdown",
   "metadata": {},
   "source": [
    "# Convert HRRR GRIB2 (on AWS) to Zarr"
   ]
  },
  {
   "cell_type": "code",
   "execution_count": null,
   "metadata": {},
   "outputs": [],
   "source": [
    "import fsspec\n",
    "import xarray as xr\n",
    "import hvplot.xarray\n",
    "import metpy\n",
    "import numpy as np"
   ]
  },
  {
   "cell_type": "code",
   "execution_count": null,
   "metadata": {},
   "outputs": [],
   "source": [
    "fs = fsspec.filesystem('s3', anon=True)"
   ]
  },
  {
   "cell_type": "code",
   "execution_count": null,
   "metadata": {},
   "outputs": [],
   "source": [
    "url = 'noaa-hrrr-pds'   # forecast data"
   ]
  },
  {
   "cell_type": "code",
   "execution_count": null,
   "metadata": {},
   "outputs": [],
   "source": [
    "url = 'hrrrzarr'   # hrrr in Zarr!"
   ]
  },
  {
   "cell_type": "code",
   "execution_count": null,
   "metadata": {},
   "outputs": [],
   "source": [
    "url = 'noaa-hrrr-bdp-pds'  # archive"
   ]
  },
  {
   "cell_type": "code",
   "execution_count": null,
   "metadata": {},
   "outputs": [],
   "source": [
    "fs.ls('s3://hrrrzarr/sfc/')[:5]"
   ]
  },
  {
   "cell_type": "code",
   "execution_count": null,
   "metadata": {},
   "outputs": [],
   "source": [
    "fs.ls('s3://hrrrzarr/sfc/20191105')[:5]"
   ]
  },
  {
   "cell_type": "code",
   "execution_count": null,
   "metadata": {},
   "outputs": [],
   "source": [
    "fs.ls('s3://hrrrzarr/sfc/20191105/20191105_00z_fcst.zarr')"
   ]
  },
  {
   "cell_type": "code",
   "execution_count": null,
   "metadata": {},
   "outputs": [],
   "source": [
    "file_location = 's3://hrrrzarr/sfc/20201216/20201216_01z_fcst.zarr'\n",
    "ds = xr.open_zarr(fsspec.get_mapper(file_location, anon=True), consolidated=True)"
   ]
  },
  {
   "cell_type": "code",
   "execution_count": null,
   "metadata": {},
   "outputs": [],
   "source": [
    "file_location = 's3://hrrrzarr/sfc/20201216/20201216_01z_fcst.zarr'\n",
    "ds = xr.open_zarr(fsspec.get_mapper(file_location, anon=False, requester_pays=True), consolidated=True)"
   ]
  },
  {
   "cell_type": "code",
   "execution_count": null,
   "metadata": {},
   "outputs": [],
   "source": [
    "fs.ls('s3://hrrrzarr/sfc/20201216/20201216_01z_fcst.zarr')[:5]"
   ]
  },
  {
   "cell_type": "code",
   "execution_count": null,
   "metadata": {},
   "outputs": [],
   "source": [
    "a = fs.glob(url+'/hrrr.20170102/conus/hrrr.t00z.wrfnatf*.grib2')\n",
    "a"
   ]
  },
  {
   "cell_type": "code",
   "execution_count": null,
   "metadata": {},
   "outputs": [],
   "source": [
    "a = fs.glob(url+'/hrrr.20181220/conus/hrrr.t*.wrfnatf00.grib2')\n",
    "a"
   ]
  },
  {
   "cell_type": "code",
   "execution_count": null,
   "metadata": {},
   "outputs": [],
   "source": [
    "file = fsspec.open(a[0])"
   ]
  },
  {
   "cell_type": "code",
   "execution_count": null,
   "metadata": {},
   "outputs": [],
   "source": [
    "tmp_file = fsspec.open_local('simplecache::s3://noaa-hrrr-bdp-pds/hrrr.20170125/conus/hrrr.t07z.wrfsubhf1530.grib2', \n",
    "                              s3=dict(anon=True), simplecache={'cache_storage': '/tmp'})"
   ]
  },
  {
   "cell_type": "code",
   "execution_count": null,
   "metadata": {},
   "outputs": [],
   "source": [
    "ds = xr.open_dataset(tmp_file, engine='cfgrib', \n",
    "                       backend_kwargs=dict(filter_by_keys={'typeOfLevel': 'heightAboveGround', 'level': 2}))"
   ]
  },
  {
   "cell_type": "code",
   "execution_count": null,
   "metadata": {},
   "outputs": [],
   "source": [
    "b = fsspec.open_local('simplecache::s3://noaa-hrrr-bdp-pds/hrrr.20170125/conus/hrrr.t08z.wrfsubhf1530.grib2', \n",
    "                              s3=dict(anon=True), simplecache={'cache_storage': './files'})"
   ]
  },
  {
   "cell_type": "code",
   "execution_count": null,
   "metadata": {},
   "outputs": [],
   "source": [
    "b"
   ]
  },
  {
   "cell_type": "code",
   "execution_count": null,
   "metadata": {},
   "outputs": [],
   "source": [
    "dsa = xr.open_mfdataset([a,b], engine='cfgrib', \n",
    "                       backend_kwargs=dict(filter_by_keys={'typeOfLevel': 'heightAboveGround', \n",
    "                                                           'level': 2}))"
   ]
  },
  {
   "cell_type": "code",
   "execution_count": null,
   "metadata": {},
   "outputs": [],
   "source": [
    "ds = xr.open_dataset(a, engine='cfgrib')"
   ]
  },
  {
   "cell_type": "code",
   "execution_count": null,
   "metadata": {},
   "outputs": [],
   "source": [
    "print(ds.data_vars)"
   ]
  },
  {
   "cell_type": "code",
   "execution_count": null,
   "metadata": {},
   "outputs": [],
   "source": [
    "ds = ds.metpy.parse_cf()"
   ]
  },
  {
   "cell_type": "code",
   "execution_count": null,
   "metadata": {},
   "outputs": [],
   "source": [
    "crs = ds.t2m.metpy.cartopy_crs"
   ]
  },
  {
   "cell_type": "code",
   "execution_count": null,
   "metadata": {},
   "outputs": [],
   "source": [
    "ds_uv = xr.open_dataset(a, engine='cfgrib', \n",
    "                        backend_kwargs=dict(filter_by_keys={'typeOfLevel': 'heightAboveGround', \n",
    "                                                            'level': 10,\n",
    "                                                            'stepType': 'instant'}))"
   ]
  },
  {
   "cell_type": "code",
   "execution_count": null,
   "metadata": {},
   "outputs": [],
   "source": [
    "ds_uv"
   ]
  },
  {
   "cell_type": "code",
   "execution_count": null,
   "metadata": {},
   "outputs": [],
   "source": [
    "ds['u10'] = ds_uv.u10\n",
    "ds['v10'] = ds_uv.v10"
   ]
  },
  {
   "cell_type": "code",
   "execution_count": null,
   "metadata": {},
   "outputs": [],
   "source": [
    "ds.data_vars"
   ]
  },
  {
   "cell_type": "code",
   "execution_count": null,
   "metadata": {},
   "outputs": [],
   "source": [
    "dsn = xr.open_dataset(a, engine='cfgrib', \n",
    "                        backend_kwargs=dict(filter_by_keys={'typeOfLevel': 'surface', \n",
    "                                                            'stepType': 'instant'}))"
   ]
  },
  {
   "cell_type": "code",
   "execution_count": null,
   "metadata": {},
   "outputs": [],
   "source": [
    "dsn.data_vars"
   ]
  },
  {
   "cell_type": "code",
   "execution_count": null,
   "metadata": {},
   "outputs": [],
   "source": [
    "ds.u10.hvplot.quadmesh(x='longitude', y='latitude', rasterize=True,\n",
    "                      crs=crs, tiles='OSM', project=True, alpha=0.5, cmap='viridis')"
   ]
  },
  {
   "cell_type": "markdown",
   "metadata": {},
   "source": [
    "```\n",
    "# download grib2 files\n",
    "$ wget https://noaa-hrrr-bdp-pds.s3.amazonaws.com/hrrr.20170125/conus/hrrr.t07z.wrfsubhf1530.grib2\n",
    "$ wget https://noaa-hrrr-bdp-pds.s3.amazonaws.com/hrrr.20170125/conus/hrrr.t08z.wrfsubhf1530.grib2\n",
    "$ wget https://noaa-hrrr-bdp-pds.s3.amazonaws.com/hrrr.20170125/conus/hrrr.t09z.wrfsubhf1530.grib2\n",
    "\n",
    "# convert grib2 to standard netcdf using wgrib2\n",
    "$ wgrib2 hrrr.t07z.wrfsubhf1530.grib2  -netcdf hrrr.t07z.wrfsubhf1530.nc\n",
    "$ wgrib2 hrrr.t08z.wrfsubhf1530.grib2  -netcdf hrrr.t08z.wrfsubhf1530.nc\n",
    "$ wgrib2 hrrr.t09z.wrfsubhf1530.grib2  -netcdf hrrr.t09z.wrfsubhf1530.nc\n",
    "```"
   ]
  },
  {
   "cell_type": "code",
   "execution_count": null,
   "metadata": {},
   "outputs": [],
   "source": [
    "ds = xr.open_mfdataset('hrrr*.nc', chunks={'time':72, 'x':600, 'y':600})"
   ]
  },
  {
   "cell_type": "code",
   "execution_count": null,
   "metadata": {},
   "outputs": [],
   "source": [
    "ds.USWRF_surface.attrs"
   ]
  },
  {
   "cell_type": "code",
   "execution_count": null,
   "metadata": {},
   "outputs": [],
   "source": [
    "ds.data_vars"
   ]
  },
  {
   "cell_type": "code",
   "execution_count": null,
   "metadata": {},
   "outputs": [],
   "source": [
    "ds"
   ]
  }
 ],
 "metadata": {
  "kernelspec": {
   "display_name": "Python [conda env:pangeo]",
   "language": "python",
   "name": "conda-env-pangeo-py"
  },
  "language_info": {
   "codemirror_mode": {
    "name": "ipython",
    "version": 3
   },
   "file_extension": ".py",
   "mimetype": "text/x-python",
   "name": "python",
   "nbconvert_exporter": "python",
   "pygments_lexer": "ipython3",
   "version": "3.8.6"
  }
 },
 "nbformat": 4,
 "nbformat_minor": 4
}
