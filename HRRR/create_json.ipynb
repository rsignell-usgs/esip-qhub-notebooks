{
 "cells": [
  {
   "cell_type": "markdown",
   "id": "d19e46a4-41b4-4081-8332-e8ae375f57a5",
   "metadata": {},
   "source": [
    "# Create JSON for HRRR Grib files"
   ]
  },
  {
   "cell_type": "code",
   "execution_count": null,
   "id": "bad5a5c8-74a4-4c8a-b604-6a2075b660a1",
   "metadata": {},
   "outputs": [],
   "source": [
    "import pandas as pd"
   ]
  },
  {
   "cell_type": "code",
   "execution_count": null,
   "id": "ef107cba-4d1a-46de-809a-62a87dee4a05",
   "metadata": {},
   "outputs": [],
   "source": [
    "dates = pd.date_range(start='2019-01-01 23:00',end='2019-01-02 00:00', freq='1h')"
   ]
  },
  {
   "cell_type": "code",
   "execution_count": null,
   "id": "42a41ba2-4e70-4e19-b32c-fd77a0edeeb9",
   "metadata": {},
   "outputs": [],
   "source": [
    "%run grib2.py\n",
    "\n",
    "%run hdf.py"
   ]
  },
  {
   "cell_type": "code",
   "execution_count": null,
   "id": "cbdd5404-62f3-434a-b8cf-eb67698d4cdc",
   "metadata": {},
   "outputs": [],
   "source": [
    "def date2url(date):\n",
    "    yyyymmdd = date.strftime('%Y%m%d')\n",
    "    hh = date.strftime('%H')\n",
    "    cfile = f's3://noaa-hrrr-bdp-pds/hrrr.{yyyymmdd}/conus/hrrr.t{hh}z.wrfsfcf01.grib2'\n",
    "    return cfile"
   ]
  },
  {
   "cell_type": "code",
   "execution_count": null,
   "id": "d73142e6-7a8c-43ab-86ad-ae00452f1eb5",
   "metadata": {},
   "outputs": [],
   "source": [
    "files = [date2url(date) for date in dates]"
   ]
  },
  {
   "cell_type": "code",
   "execution_count": null,
   "id": "1b6bccf0-b496-4e97-bcb7-f7ac2332e18d",
   "metadata": {},
   "outputs": [],
   "source": [
    "files"
   ]
  },
  {
   "cell_type": "code",
   "execution_count": null,
   "id": "0fe290e0-604b-4e48-ab80-c24f23a1c38b",
   "metadata": {},
   "outputs": [],
   "source": [
    "os.path.dirname(files[0]).split('/')[-2]"
   ]
  },
  {
   "cell_type": "code",
   "execution_count": null,
   "id": "5088405d-08ff-45a9-93a5-4c503a0ee69d",
   "metadata": {},
   "outputs": [],
   "source": [
    "os.path.dirname(files[0]).split('/')[-2]+os.path.basename(files[0])[-21:]"
   ]
  },
  {
   "cell_type": "code",
   "execution_count": null,
   "id": "54ca2e25-b469-4e26-b543-48b5a8a9d245",
   "metadata": {},
   "outputs": [],
   "source": [
    "%time example_multi(files)"
   ]
  },
  {
   "cell_type": "code",
   "execution_count": null,
   "id": "0b9b9699-31df-411d-b30f-81db1027a3f7",
   "metadata": {},
   "outputs": [],
   "source": [
    "%%time\n",
    "fslocal = fsspec.filesystem('')\n",
    "json_files = fslocal.glob('hrrr.*.t*.json')"
   ]
  },
  {
   "cell_type": "code",
   "execution_count": null,
   "id": "9307d4a4-5c2b-492d-a254-02cc7d5d73f8",
   "metadata": {},
   "outputs": [],
   "source": [
    "json_files"
   ]
  },
  {
   "cell_type": "code",
   "execution_count": null,
   "id": "e5c8065f-d9c9-4790-aacd-90896b13696e",
   "metadata": {},
   "outputs": [],
   "source": [
    "mzz = MultiZarrToZarr(json_files, remote_protocol=\"s3\",\n",
    "                      remote_options={\"anon\": True}, with_mf='time')\n",
    "mzz.translate(\"hrrr.total.json\")"
   ]
  },
  {
   "cell_type": "markdown",
   "id": "b4abd2cd-e455-4bbc-b630-e71870bd0f24",
   "metadata": {},
   "source": [
    "Try out the resulting JSON:"
   ]
  },
  {
   "cell_type": "code",
   "execution_count": null,
   "id": "8e845344-9491-42b3-81c7-d44461053fd6",
   "metadata": {},
   "outputs": [],
   "source": [
    "import xarray as xr\n",
    "import hvplot.xarray"
   ]
  },
  {
   "cell_type": "code",
   "execution_count": null,
   "id": "4d9c95be-0b37-4b0d-82a4-6eebabcd8782",
   "metadata": {},
   "outputs": [],
   "source": [
    "%%time\n",
    "so = {\"anon\": True}\n",
    "fo = \"hrrr_total.json\"\n",
    "fs = fsspec.filesystem(\"reference\", fo=fo, target_options=so,\n",
    "                       remote_protocol=\"s3\", remote_options=so)\n",
    "m = fs.get_mapper(\"\")\n",
    "ds = xr.open_dataset(m, engine=\"zarr\")"
   ]
  },
  {
   "cell_type": "code",
   "execution_count": null,
   "id": "bbf78792-42f6-4723-90f2-5055cea228b2",
   "metadata": {},
   "outputs": [],
   "source": [
    "ds = ds.assign_coords(longitude=(((ds.longitude + 180) % 360) - 180))"
   ]
  },
  {
   "cell_type": "code",
   "execution_count": null,
   "id": "9803b57b-2f0c-44da-8338-d011555e5d54",
   "metadata": {},
   "outputs": [],
   "source": [
    "ds.t2m.hvplot.quadmesh(x='longitude', y='latitude', \n",
    "                       rasterize=True, geo=True, cmap='turbo', tiles='OSM')"
   ]
  },
  {
   "cell_type": "code",
   "execution_count": null,
   "id": "4a79ce78-49f8-4593-833d-53c44089ab1d",
   "metadata": {},
   "outputs": [],
   "source": []
  }
 ],
 "metadata": {
  "kernelspec": {
   "display_name": "Python [conda env:pangeo]",
   "language": "python",
   "name": "conda-env-pangeo-py"
  },
  "language_info": {
   "codemirror_mode": {
    "name": "ipython",
    "version": 3
   },
   "file_extension": ".py",
   "mimetype": "text/x-python",
   "name": "python",
   "nbconvert_exporter": "python",
   "pygments_lexer": "ipython3",
   "version": "3.9.6"
  }
 },
 "nbformat": 4,
 "nbformat_minor": 5
}
