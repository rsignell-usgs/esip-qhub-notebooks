{
 "cells": [
  {
   "cell_type": "code",
   "execution_count": null,
   "id": "10bc391b-839e-4a4b-8807-b9a87878fdcb",
   "metadata": {},
   "outputs": [],
   "source": [
    "import fsspec\n",
    "import datetime as dt"
   ]
  },
  {
   "cell_type": "code",
   "execution_count": null,
   "id": "1ced6c33-4be5-4308-8308-e7c57af5a43e",
   "metadata": {},
   "outputs": [],
   "source": [
    "fs = fsspec.filesystem('s3', anon=True)"
   ]
  },
  {
   "cell_type": "code",
   "execution_count": null,
   "id": "fa549315-19de-40a9-8411-7670c59e2aea",
   "metadata": {},
   "outputs": [],
   "source": [
    "def date2url(date):\n",
    "    yyyymmdd = date.strftime('%Y%m%d')\n",
    "    hh = date.strftime('%H')\n",
    "    cfile = f's3://noaa-hrrr-bdp-pds/hrrr.{yyyymmdd}/conus/hrrr.t{hh}z.wrfsfcf01.grib2'\n",
    "    return cfile"
   ]
  },
  {
   "cell_type": "code",
   "execution_count": null,
   "id": "927bd579-29d3-4afd-ba39-135bd107b4c1",
   "metadata": {},
   "outputs": [],
   "source": [
    "fs.ls(date2url(dt.datetime(2021,9,1,0)))"
   ]
  },
  {
   "cell_type": "code",
   "execution_count": null,
   "id": "27cf165d-bf3f-4539-be32-b1f441b15630",
   "metadata": {},
   "outputs": [],
   "source": [
    "fs.ls(s3)"
   ]
  },
  {
   "cell_type": "code",
   "execution_count": null,
   "id": "42e03687-d314-4b5c-812b-5251fc76cd14",
   "metadata": {},
   "outputs": [],
   "source": [
    "date2url(dt.nowutc"
   ]
  },
  {
   "cell_type": "code",
   "execution_count": null,
   "id": "e505d312-396f-4083-8b41-b067bf0e9c64",
   "metadata": {},
   "outputs": [],
   "source": [
    "url = 'https://drive.google.com/uc?export=download&id=1b_nKpjkcWnpRp-X6WJOjiR_D35e7SFR-'"
   ]
  },
  {
   "cell_type": "code",
   "execution_count": null,
   "id": "cc078705-52c3-4bb1-839d-82c55a5e424d",
   "metadata": {},
   "outputs": [],
   "source": []
  },
  {
   "cell_type": "code",
   "execution_count": null,
   "id": "5a93bed4-d51a-46f7-8ece-13661743da4f",
   "metadata": {},
   "outputs": [],
   "source": [
    "fs = fsspec.open('gdrive'"
   ]
  },
  {
   "cell_type": "code",
   "execution_count": null,
   "id": "e33b690d-87af-4733-bfc5-2ba72884850b",
   "metadata": {},
   "outputs": [],
   "source": []
  }
 ],
 "metadata": {
  "kernelspec": {
   "display_name": "Python [conda env:pangeo]",
   "language": "python",
   "name": "conda-env-pangeo-py"
  },
  "language_info": {
   "codemirror_mode": {
    "name": "ipython",
    "version": 3
   },
   "file_extension": ".py",
   "mimetype": "text/x-python",
   "name": "python",
   "nbconvert_exporter": "python",
   "pygments_lexer": "ipython3",
   "version": "3.9.6"
  }
 },
 "nbformat": 4,
 "nbformat_minor": 5
}
