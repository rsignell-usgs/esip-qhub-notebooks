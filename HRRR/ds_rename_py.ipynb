{
 "cells": [
  {
   "cell_type": "code",
   "execution_count": null,
   "metadata": {},
   "outputs": [],
   "source": [
    "import xarray as xr\n",
    "\n",
    "ds = xr.open_dataset('./hrrr_de_bay_2019.nc')\n",
    "\n",
    "ds = ds.rename({'UGRD_10maboveground':'Uwind', \n",
    "                'VGRD_10maboveground':'Vwind',\n",
    "                'TMP_2maboveground':'Tair'})\n",
    "                \n",
    "\n",
    "ds.to_netcdf('renamed.nc', mode='w')"
   ]
  }
 ],
 "metadata": {
  "kernelspec": {
   "display_name": "Python [conda env:pangeo]",
   "language": "python",
   "name": "conda-env-pangeo-py"
  },
  "language_info": {
   "codemirror_mode": {
    "name": "ipython",
    "version": 3
   },
   "file_extension": ".py",
   "mimetype": "text/x-python",
   "name": "python",
   "nbconvert_exporter": "python",
   "pygments_lexer": "ipython3",
   "version": "3.8.6"
  }
 },
 "nbformat": 4,
 "nbformat_minor": 4
}
