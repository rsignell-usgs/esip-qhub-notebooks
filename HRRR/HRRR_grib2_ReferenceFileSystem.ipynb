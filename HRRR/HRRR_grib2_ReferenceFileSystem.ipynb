{
 "cells": [
  {
   "cell_type": "markdown",
   "id": "c95e07cc-a05b-4cca-865c-585bf3414687",
   "metadata": {},
   "source": [
    "# Access HRRR Grib2 data via ReferenceFileSystem"
   ]
  },
  {
   "cell_type": "code",
   "execution_count": null,
   "id": "60534693-96bc-420f-a882-4ea78f34c77a",
   "metadata": {
    "tags": []
   },
   "outputs": [],
   "source": [
    "import fsspec\n",
    "import xarray as xr\n",
    "import cfgrib\n",
    "import hvplot.xarray"
   ]
  },
  {
   "cell_type": "markdown",
   "id": "69c942a1-0e34-423b-ade1-56501a396834",
   "metadata": {},
   "source": [
    "#### Read temperature file with cfgrib"
   ]
  },
  {
   "cell_type": "code",
   "execution_count": null,
   "id": "561bc136-7a16-4327-a5ba-66ac9b07c8b9",
   "metadata": {},
   "outputs": [],
   "source": [
    "url = 's3://noaa-hrrr-bdp-pds/hrrr.20190101/conus/hrrr.t14z.wrfsfcf01.grib2'\n",
    "file = fsspec.open(url)\n",
    "\n",
    "tmp_file = fsspec.open_local(f'simplecache::{url}', \n",
    "                              s3=dict(anon=True), simplecache={'cache_storage': './tmp'})"
   ]
  },
  {
   "cell_type": "code",
   "execution_count": null,
   "id": "15e8bbd3-b20f-4057-9d07-d5c02785839e",
   "metadata": {},
   "outputs": [],
   "source": [
    "%%time\n",
    "\n",
    "ds = xr.open_dataset(tmp_file, engine='cfgrib', \n",
    "                     backend_kwargs=dict(filter_by_keys={'typeOfLevel':'heightAboveGround', 'level':2}))"
   ]
  },
  {
   "cell_type": "code",
   "execution_count": null,
   "id": "794e8ab5-a225-4971-a915-f2911a80ce5d",
   "metadata": {},
   "outputs": [],
   "source": [
    "ds.t2m"
   ]
  },
  {
   "cell_type": "code",
   "execution_count": null,
   "id": "6a97fd6c-59ba-4a58-a913-fddba38c1527",
   "metadata": {},
   "outputs": [],
   "source": [
    "%%time\n",
    "ds.t2m.mean().values"
   ]
  },
  {
   "cell_type": "markdown",
   "id": "49089b51-b480-47a7-b60f-06b48cd24e1b",
   "metadata": {},
   "source": [
    "#### Read with ReferenceFileSystem"
   ]
  },
  {
   "cell_type": "markdown",
   "id": "6c8841af-3ea7-4a00-a46d-a3fcea063085",
   "metadata": {},
   "source": [
    "Add grib decoder"
   ]
  },
  {
   "cell_type": "code",
   "execution_count": null,
   "id": "4f83413a-564b-45c7-a6f5-6de06e194c01",
   "metadata": {},
   "outputs": [],
   "source": [
    "fs = fsspec.filesystem('https')\n",
    "fs.download('https://gist.githubusercontent.com/rsignell-usgs/31a3de1754726990803e8871ef2e1598/raw/2aa7f056a0fc1a38bd2c8c02f20f340394eebc68/grib2.py', 'grib2.py')\n",
    "%run grib2.py"
   ]
  },
  {
   "cell_type": "code",
   "execution_count": null,
   "id": "3ed33c4a-34cc-4882-a44d-ddd7408c1ad9",
   "metadata": {},
   "outputs": [],
   "source": [
    "%%time\n",
    "so = {\"anon\": True}\n",
    "fo = \"hrrr_total.json\"\n",
    "fs = fsspec.filesystem(\"reference\", fo=fo, target_options=so,\n",
    "                       remote_protocol=\"s3\", remote_options=so)\n",
    "m = fs.get_mapper(\"\")\n",
    "ds = xr.open_dataset(m, engine=\"zarr\")"
   ]
  },
  {
   "cell_type": "code",
   "execution_count": null,
   "id": "b8997fcd-0b57-487f-ba19-ee2807aead55",
   "metadata": {},
   "outputs": [],
   "source": [
    "ds.t2m"
   ]
  },
  {
   "cell_type": "code",
   "execution_count": null,
   "id": "6a0c84bd-7943-46f9-bfc4-04d238f1864d",
   "metadata": {},
   "outputs": [],
   "source": [
    "ds.t2m[:,400,400].hvplot(x='time', grid=True)"
   ]
  },
  {
   "cell_type": "code",
   "execution_count": null,
   "id": "e6eb60c2-3020-410a-991a-71da62922e1f",
   "metadata": {},
   "outputs": [],
   "source": [
    "%%time\n",
    "ds.t2m.mean().values"
   ]
  },
  {
   "cell_type": "code",
   "execution_count": null,
   "id": "ddc4ff71-20ff-423e-a091-45e6d783acbb",
   "metadata": {},
   "outputs": [],
   "source": [
    "print(fs)"
   ]
  },
  {
   "cell_type": "code",
   "execution_count": null,
   "id": "6a24b106-84b2-4600-8e0d-a7f0eac26371",
   "metadata": {},
   "outputs": [],
   "source": [
    "ds.t2m.nbytes/1e6"
   ]
  },
  {
   "cell_type": "code",
   "execution_count": null,
   "id": "bef9c8ac-8060-47b5-aedd-9104da066cec",
   "metadata": {},
   "outputs": [],
   "source": [
    "ds = ds.assign_coords(longitude=(((ds.longitude + 180) % 360) - 180))"
   ]
  },
  {
   "cell_type": "code",
   "execution_count": null,
   "id": "a55a6971-12b0-4120-98be-41d62967c929",
   "metadata": {},
   "outputs": [],
   "source": [
    "ds.t2m.hvplot.quadmesh(x='longitude', y='latitude', \n",
    "                       rasterize=True, geo=True, cmap='turbo', tiles='OSM')"
   ]
  },
  {
   "cell_type": "code",
   "execution_count": null,
   "id": "b5c38c48-0f7a-43f4-9d66-ba69e432ab86",
   "metadata": {},
   "outputs": [],
   "source": []
  }
 ],
 "metadata": {
  "kernelspec": {
   "display_name": "Python [conda env:pangeo]",
   "language": "python",
   "name": "conda-env-pangeo-py"
  },
  "language_info": {
   "codemirror_mode": {
    "name": "ipython",
    "version": 3
   },
   "file_extension": ".py",
   "mimetype": "text/x-python",
   "name": "python",
   "nbconvert_exporter": "python",
   "pygments_lexer": "ipython3",
   "version": "3.8.10"
  }
 },
 "nbformat": 4,
 "nbformat_minor": 5
}
