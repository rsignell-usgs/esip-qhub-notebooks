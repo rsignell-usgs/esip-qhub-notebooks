{
 "cells": [
  {
   "cell_type": "markdown",
   "metadata": {},
   "source": [
    "# xESMF Regridding:  Curvilinear HRRR  => Rectilinear"
   ]
  },
  {
   "cell_type": "markdown",
   "metadata": {},
   "source": [
    "##### To Do:\n",
    "* check wind rotation \n",
    "* check units on all variables\n",
    "* determine what other attributes ROMS *requires* in a rectilinear forcing file"
   ]
  },
  {
   "cell_type": "code",
   "execution_count": null,
   "metadata": {},
   "outputs": [],
   "source": [
    "import xarray as xr\n",
    "import xesmf as xe\n",
    "import numpy as np\n",
    "import fsspec\n",
    "import hvplot.xarray\n",
    "import geoviews as gv\n",
    "from matplotlib import path "
   ]
  },
  {
   "cell_type": "markdown",
   "metadata": {},
   "source": [
    "HRRR \"best time series\" for 2019, constructed from archived HRRR forecast data using forecast hour 1 (tau=1)"
   ]
  },
  {
   "cell_type": "code",
   "execution_count": null,
   "metadata": {},
   "outputs": [],
   "source": [
    "url = 's3://esip-qhub/noaa/HRRR/2019'\n",
    "ds = xr.open_zarr(fsspec.get_mapper(url, requester_pays=True), consolidated=True)\n",
    "ds = ds.assign_coords(longitude=(((ds.longitude + 180) % 360) - 180))"
   ]
  },
  {
   "cell_type": "code",
   "execution_count": null,
   "metadata": {},
   "outputs": [],
   "source": [
    "ds"
   ]
  },
  {
   "cell_type": "code",
   "execution_count": null,
   "metadata": {},
   "outputs": [],
   "source": [
    "#ds = xr.open_dataset('hrrr_de_bay_2019.nc')"
   ]
  },
  {
   "cell_type": "code",
   "execution_count": null,
   "metadata": {},
   "outputs": [],
   "source": [
    "#zarr_url = 's3://esip-qhub/usgs/de_bay/hrrr_de_bay.zarr'\n",
    "#ds = xr.open_zarr(fsspec.get_mapper(zarr_url, requester_pays=True, profile='esip-qhub'), consolidated=True)"
   ]
  },
  {
   "cell_type": "code",
   "execution_count": null,
   "metadata": {},
   "outputs": [],
   "source": [
    "ds.data_vars"
   ]
  },
  {
   "cell_type": "markdown",
   "metadata": {},
   "source": [
    "#### xESMF looks for coordinate variables named 'lon' and 'lat' and ROMS expects specific data variable names "
   ]
  },
  {
   "cell_type": "code",
   "execution_count": null,
   "metadata": {},
   "outputs": [],
   "source": [
    "ds  = ds.unify_chunks()"
   ]
  },
  {
   "cell_type": "code",
   "execution_count": null,
   "metadata": {},
   "outputs": [],
   "source": [
    "ds = ds.rename({'longitude':'lon', \n",
    "                'latitude':'lat',\n",
    "                'TMP_2maboveground':'Tair',\n",
    "                'RH_2maboveground':'Qair',\n",
    "                'UGRD_10maboveground':'ugrid',\n",
    "                'VGRD_10maboveground':'vgrid'})"
   ]
  },
  {
   "cell_type": "code",
   "execution_count": null,
   "metadata": {},
   "outputs": [],
   "source": [
    "ds['Tair'] = ds['Tair'] - 273.15    # Kelvin to Celsius"
   ]
  },
  {
   "cell_type": "markdown",
   "metadata": {},
   "source": [
    "Rotate winds using formula from https://rapidrefresh.noaa.gov/faq/HRRR.faq.html"
   ]
  },
  {
   "cell_type": "code",
   "execution_count": null,
   "metadata": {},
   "outputs": [],
   "source": [
    "rotcon_p = 0.622515\n",
    "lon_xx_p = -97.5\n",
    "lat_tan_p = 38.8\n",
    "\n",
    "angle2 = rotcon_p * (ds['lon'] - lon_xx_p)*np.pi/180.\n",
    "sinx2 = np.sin(angle2)\n",
    "cosx2 = np.cos(angle2)\n",
    "\n",
    "ds['Uwind'] =  cosx2*ds['ugrid'] + sinx2*ds['vgrid']\n",
    "ds['Vwind'] = -sinx2*ds['ugrid'] + cosx2*ds['vgrid']\n"
   ]
  },
  {
   "cell_type": "code",
   "execution_count": null,
   "metadata": {},
   "outputs": [],
   "source": [
    "da = ds['Uwind'].sel(time='2019-03-25 00:00', method='nearest')\n",
    "da.hvplot.quadmesh(x='lon', y='lat', geo=True, rasterize=True, cmap='turbo', tiles='OSM')"
   ]
  },
  {
   "cell_type": "markdown",
   "metadata": {},
   "source": [
    "##### Before we regrid to rectilinear, let's subset a region that covers our ROM area of interest.  Becuase lon,lat are 2D arrays, we can't just use xarray to slice these coordinate variables.  So we have a routine that finds the i,j locations of a specified bounding box, and then slice on those."
   ]
  },
  {
   "cell_type": "code",
   "execution_count": null,
   "metadata": {},
   "outputs": [],
   "source": [
    "bbox = [-76.63290610753754, -73.55671530588432, 37.57888442021855, 41.225532965406224]"
   ]
  },
  {
   "cell_type": "code",
   "execution_count": null,
   "metadata": {},
   "outputs": [],
   "source": [
    "def bbox2ij(lon,lat,bbox=[-160., -155., 18., 23.]):\n",
    "    \"\"\"Return indices for i,j that will completely cover the specified bounding box.     \n",
    "    i0,i1,j0,j1 = bbox2ij(lon,lat,bbox)\n",
    "    lon,lat = 2D arrays that are the target of the subset\n",
    "    bbox = list containing the bounding box: [lon_min, lon_max, lat_min, lat_max]\n",
    "\n",
    "    Example\n",
    "    -------  \n",
    "    >>> i0,i1,j0,j1 = bbox2ij(lon_rho,[-71, -63., 39., 46])\n",
    "    >>> h_subset = nc.variables['h'][j0:j1,i0:i1]       \n",
    "    \"\"\"\n",
    "    bbox=np.array(bbox)\n",
    "    mypath=np.array([bbox[[0,1,1,0]],bbox[[2,2,3,3]]]).T\n",
    "    p = path.Path(mypath)\n",
    "    points = np.vstack((lon.ravel(),lat.ravel())).T   \n",
    "    n,m = np.shape(lon)\n",
    "    inside = p.contains_points(points).reshape((n,m))\n",
    "    ii,jj = np.meshgrid(range(m),range(n))\n",
    "    return min(ii[inside]),max(ii[inside]),min(jj[inside]),max(jj[inside])"
   ]
  },
  {
   "cell_type": "code",
   "execution_count": null,
   "metadata": {},
   "outputs": [],
   "source": [
    "i0,i1,j0,j1 = bbox2ij(ds['lon'].values, ds['lat'].values, bbox=bbox)\n",
    "print(i0,i1,j0,j1)"
   ]
  },
  {
   "cell_type": "code",
   "execution_count": null,
   "metadata": {},
   "outputs": [],
   "source": [
    "ds_subset = ds.isel(x=slice(i0,i1), y=slice(j0,j1))"
   ]
  },
  {
   "cell_type": "code",
   "execution_count": null,
   "metadata": {},
   "outputs": [],
   "source": [
    "ds_subset"
   ]
  },
  {
   "cell_type": "code",
   "execution_count": null,
   "metadata": {},
   "outputs": [],
   "source": [
    "ds.data_vars"
   ]
  },
  {
   "cell_type": "code",
   "execution_count": null,
   "metadata": {},
   "outputs": [],
   "source": [
    "print(ds.Tair)"
   ]
  },
  {
   "cell_type": "code",
   "execution_count": null,
   "metadata": {},
   "outputs": [],
   "source": [
    "da = ds_subset.Tair.sel(time='2019-03-25 00:00', method='nearest')\n",
    "viz = da.hvplot.quadmesh(x='lon', y='lat', geo=True, rasterize=True, cmap='turbo')\n",
    "base = gv.tile_sources.OSM\n",
    "base * viz.opts(alpha=0.5)"
   ]
  },
  {
   "cell_type": "code",
   "execution_count": null,
   "metadata": {},
   "outputs": [],
   "source": [
    "ds_subset = ds_subset.chunk({'x':-1, 'y':-1, 'time':1})"
   ]
  },
  {
   "cell_type": "markdown",
   "metadata": {},
   "source": [
    "#### Finally, let's specify the region we actually want to create a rectlinear grid for, and the spatial resolution"
   ]
  },
  {
   "cell_type": "code",
   "execution_count": null,
   "metadata": {},
   "outputs": [],
   "source": [
    "bbox = [-76.8, -73.7, 37.7, 40.38]\n",
    "dx = dy = 3./111.    # 3km grid"
   ]
  },
  {
   "cell_type": "code",
   "execution_count": null,
   "metadata": {},
   "outputs": [],
   "source": [
    "%%time\n",
    "ds_out = xr.Dataset({'lon': (['lon'], np.arange(bbox[0], bbox[1], dx)),\n",
    "                     'lat': (['lat'], np.arange(bbox[2], bbox[3], dy))})\n",
    "\n",
    "regridder = xe.Regridder(ds_subset, ds_out, 'bilinear')\n",
    "regridder"
   ]
  },
  {
   "cell_type": "code",
   "execution_count": null,
   "metadata": {},
   "outputs": [],
   "source": [
    "%%time\n",
    "ds_out = regridder(ds_subset)\n",
    "print(ds_out)"
   ]
  },
  {
   "cell_type": "code",
   "execution_count": null,
   "metadata": {},
   "outputs": [],
   "source": [
    "da = ds_out.Tair.sel(time='2019-03-25 00:00', method='nearest').unify_chunks()\n",
    "da.hvplot.quadmesh(x='lon', y='lat', geo=True, rasterize=True, cmap='turbo', tiles='OSM')"
   ]
  },
  {
   "cell_type": "code",
   "execution_count": null,
   "metadata": {},
   "outputs": [],
   "source": [
    "%%time\n",
    "ds_out.load().to_netcdf('HRRR_de_bay_rectilinear.nc', engine='h5netcdf', mode='w')"
   ]
  },
  {
   "cell_type": "code",
   "execution_count": null,
   "metadata": {},
   "outputs": [],
   "source": []
  }
 ],
 "metadata": {
  "kernelspec": {
   "display_name": "Python [conda env:pangeo]",
   "language": "python",
   "name": "conda-env-pangeo-py"
  },
  "language_info": {
   "codemirror_mode": {
    "name": "ipython",
    "version": 3
   },
   "file_extension": ".py",
   "mimetype": "text/x-python",
   "name": "python",
   "nbconvert_exporter": "python",
   "pygments_lexer": "ipython3",
   "version": "3.9.9"
  }
 },
 "nbformat": 4,
 "nbformat_minor": 4
}
