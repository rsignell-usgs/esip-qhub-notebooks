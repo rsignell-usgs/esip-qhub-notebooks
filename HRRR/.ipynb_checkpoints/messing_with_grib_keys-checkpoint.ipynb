{
 "cells": [
  {
   "cell_type": "code",
   "execution_count": null,
   "id": "a8898c2e-4ec6-41ca-846a-c7241bfb6cc9",
   "metadata": {},
   "outputs": [],
   "source": [
    "import xarray as xr\n",
    "import fsspec"
   ]
  },
  {
   "cell_type": "code",
   "execution_count": null,
   "id": "d2dbea82-491e-4c07-b711-ab13619b8b4c",
   "metadata": {},
   "outputs": [],
   "source": [
    "fs = fsspec.filesystem('s3', anon=True)"
   ]
  },
  {
   "cell_type": "code",
   "execution_count": null,
   "id": "d68a4293-5e78-45ad-96ca-84bcb6008785",
   "metadata": {},
   "outputs": [],
   "source": [
    "url = 's3://noaa-hrrr-bdp-pds/hrrr.20190101/conus/hrrr.t12z.wrfsfcf01.grib2'"
   ]
  },
  {
   "cell_type": "code",
   "execution_count": null,
   "id": "f14691c4-4d86-4dee-b4ff-5c30270fb8c5",
   "metadata": {},
   "outputs": [],
   "source": [
    "fs.download(url, 'test.grib2')"
   ]
  },
  {
   "cell_type": "code",
   "execution_count": null,
   "id": "24d74c27-075a-4f80-821f-f410206b4fe1",
   "metadata": {},
   "outputs": [],
   "source": [
    "ds1 = xr.open_dataset('test.grib2', engine='cfgrib', \n",
    "               backend_kwargs={'filter_by_keys': {'typeOfLevel': 'surface', 'stepType': 'instant'}})   "
   ]
  },
  {
   "cell_type": "code",
   "execution_count": null,
   "id": "5fb0bd23-8f88-4f52-8c23-b2f9e330ffb4",
   "metadata": {},
   "outputs": [],
   "source": [
    "ds"
   ]
  },
  {
   "cell_type": "code",
   "execution_count": null,
   "id": "80ff3af8-e3eb-4755-8209-da4512eb72e2",
   "metadata": {},
   "outputs": [],
   "source": [
    "ds2 = xr.open_dataset('test.grib2', engine='cfgrib', \n",
    "               backend_kwargs={'filter_by_keys': {'typeOfLevel': 'surface', 'stepType': 'accum'}})   "
   ]
  },
  {
   "cell_type": "code",
   "execution_count": null,
   "id": "eaec69f3-4cf1-447b-9ec5-e2b87b596b47",
   "metadata": {},
   "outputs": [],
   "source": [
    "ds2"
   ]
  },
  {
   "cell_type": "code",
   "execution_count": null,
   "id": "0f92c998-f85b-471f-8bca-35a5467644cb",
   "metadata": {},
   "outputs": [],
   "source": [
    "ds3 = xr.open_dataset('test.grib2', engine='cfgrib', \n",
    "               backend_kwargs={'filter_by_keys': {'typeOfLevel': 'heightAboveGround', 'level': 2}})   "
   ]
  },
  {
   "cell_type": "code",
   "execution_count": null,
   "id": "c44e3d01-3f36-497b-9fdf-3750866ef11d",
   "metadata": {},
   "outputs": [],
   "source": [
    "ds3"
   ]
  },
  {
   "cell_type": "code",
   "execution_count": null,
   "id": "b815387a-9632-45d2-a1df-e3220e329205",
   "metadata": {},
   "outputs": [],
   "source": [
    "ds4 = xr.open_dataset('test.grib2', engine='cfgrib', \n",
    "               backend_kwargs={'filter_by_keys': {'typeOfLevel': 'heightAboveGround', 'level': 10}})   "
   ]
  },
  {
   "cell_type": "code",
   "execution_count": null,
   "id": "641c7886-5d52-4e2a-92e0-3e677ed47ffd",
   "metadata": {},
   "outputs": [],
   "source": [
    "ds4"
   ]
  },
  {
   "cell_type": "code",
   "execution_count": null,
   "id": "ec0de251-2257-4db8-b791-8d6df8c804d7",
   "metadata": {},
   "outputs": [],
   "source": []
  }
 ],
 "metadata": {
  "kernelspec": {
   "display_name": "Python [conda env:pangeo]",
   "language": "python",
   "name": "conda-env-pangeo-py"
  },
  "language_info": {
   "codemirror_mode": {
    "name": "ipython",
    "version": 3
   },
   "file_extension": ".py",
   "mimetype": "text/x-python",
   "name": "python",
   "nbconvert_exporter": "python",
   "pygments_lexer": "ipython3",
   "version": "3.8.10"
  }
 },
 "nbformat": 4,
 "nbformat_minor": 5
}
