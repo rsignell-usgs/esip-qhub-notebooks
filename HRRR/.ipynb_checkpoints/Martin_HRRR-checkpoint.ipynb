{
 "cells": [
  {
   "cell_type": "markdown",
   "id": "c95e07cc-a05b-4cca-865c-585bf3414687",
   "metadata": {},
   "source": [
    "# Access HRRR Grib2 data via ReferenceFileSystem"
   ]
  },
  {
   "cell_type": "code",
   "execution_count": null,
   "id": "60534693-96bc-420f-a882-4ea78f34c77a",
   "metadata": {
    "tags": []
   },
   "outputs": [],
   "source": [
    "import fsspec\n",
    "import xarray as xr\n",
    "import cfgrib\n",
    "import hvplot.xarray"
   ]
  },
  {
   "cell_type": "code",
   "execution_count": null,
   "id": "03b1dbde-8e0e-46d4-89a2-74338bf4cce8",
   "metadata": {},
   "outputs": [],
   "source": [
    "fs = fsspec.filesystem('https')"
   ]
  },
  {
   "cell_type": "markdown",
   "id": "6c8841af-3ea7-4a00-a46d-a3fcea063085",
   "metadata": {},
   "source": [
    "Add grib decoder"
   ]
  },
  {
   "cell_type": "code",
   "execution_count": null,
   "id": "4f83413a-564b-45c7-a6f5-6de06e194c01",
   "metadata": {},
   "outputs": [],
   "source": [
    "fs.download('https://gist.githubusercontent.com/rsignell-usgs/31a3de1754726990803e8871ef2e1598/raw/2aa7f056a0fc1a38bd2c8c02f20f340394eebc68/grib2.py', 'grib2.py')\n",
    "%run grib2.py"
   ]
  },
  {
   "cell_type": "code",
   "execution_count": null,
   "id": "3ed33c4a-34cc-4882-a44d-ddd7408c1ad9",
   "metadata": {},
   "outputs": [],
   "source": [
    "%%time\n",
    "so = {\"anon\": True}\n",
    "fo = \"hrrr.json\"\n",
    "fs = fsspec.filesystem(\"reference\", fo=fo, target_options=so,\n",
    "                       remote_protocol=\"s3\", remote_options=so)\n",
    "m = fs.get_mapper(\"\")\n",
    "ds = xr.open_dataset(m, engine=\"zarr\")"
   ]
  },
  {
   "cell_type": "code",
   "execution_count": null,
   "id": "6a24b106-84b2-4600-8e0d-a7f0eac26371",
   "metadata": {},
   "outputs": [],
   "source": [
    "ds"
   ]
  },
  {
   "cell_type": "code",
   "execution_count": null,
   "id": "bef9c8ac-8060-47b5-aedd-9104da066cec",
   "metadata": {},
   "outputs": [],
   "source": [
    "ds = ds.assign_coords(longitude=(((ds.longitude + 180) % 360) - 180))"
   ]
  },
  {
   "cell_type": "code",
   "execution_count": null,
   "id": "e6eb60c2-3020-410a-991a-71da62922e1f",
   "metadata": {},
   "outputs": [],
   "source": [
    "ds.t2m"
   ]
  },
  {
   "cell_type": "code",
   "execution_count": null,
   "id": "a55a6971-12b0-4120-98be-41d62967c929",
   "metadata": {},
   "outputs": [],
   "source": [
    "ds.t2m.hvplot.quadmesh(x='longitude', y='latitude', \n",
    "                       rasterize=True, geo=True, cmap='turbo', tiles='OSM')"
   ]
  }
 ],
 "metadata": {
  "kernelspec": {
   "display_name": "Python [conda env:pangeo]",
   "language": "python",
   "name": "conda-env-pangeo-py"
  },
  "language_info": {
   "codemirror_mode": {
    "name": "ipython",
    "version": 3
   },
   "file_extension": ".py",
   "mimetype": "text/x-python",
   "name": "python",
   "nbconvert_exporter": "python",
   "pygments_lexer": "ipython3",
   "version": "3.8.10"
  }
 },
 "nbformat": 4,
 "nbformat_minor": 5
}
