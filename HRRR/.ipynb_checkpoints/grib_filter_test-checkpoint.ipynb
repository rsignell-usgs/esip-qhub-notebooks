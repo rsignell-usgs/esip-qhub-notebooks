{
 "cells": [
  {
   "cell_type": "code",
   "execution_count": null,
   "id": "a8898c2e-4ec6-41ca-846a-c7241bfb6cc9",
   "metadata": {},
   "outputs": [],
   "source": [
    "import xarray as xr\n",
    "import fsspec\n",
    "from fsspec_reference_maker.grib2 import scan_grib"
   ]
  },
  {
   "cell_type": "markdown",
   "id": "40176a0c-bfa9-475d-9a0a-a0a41b696ece",
   "metadata": {},
   "source": [
    "#### test a single json"
   ]
  },
  {
   "cell_type": "code",
   "execution_count": null,
   "id": "d2dbea82-491e-4c07-b711-ab13619b8b4c",
   "metadata": {},
   "outputs": [],
   "source": [
    "fs = fsspec.filesystem('s3', anon=True, skip_instance_cache=True)\n",
    "fs2 = fsspec.filesystem('s3', requester_pays=True, skip_instance_cache=True)"
   ]
  },
  {
   "cell_type": "code",
   "execution_count": null,
   "id": "a68a5bf5-20f3-4f71-aa8a-98ac362c9018",
   "metadata": {},
   "outputs": [],
   "source": [
    "rpath = 's3://esip-qhub/noaa/hrrr/jsons/20210901.t00z.wrfsfcf01.json'\n",
    "s_opts = {'requester_pays':True, 'skip_instance_cache':True}\n",
    "r_opts = {'anon':True}\n",
    "fs = fsspec.filesystem(\"reference\", fo=rpath, ref_storage_args=s_opts,\n",
    "                       remote_protocol='s3', remote_options=r_opts)\n",
    "m = fs.get_mapper(\"\")\n",
    "ds = xr.open_dataset(m, engine=\"zarr\", backend_kwargs=dict(consolidated=False))"
   ]
  },
  {
   "cell_type": "code",
   "execution_count": null,
   "id": "91a074aa-781a-4e82-8c1d-36f81f73242b",
   "metadata": {},
   "outputs": [],
   "source": [
    "ds.data_vars"
   ]
  },
  {
   "cell_type": "code",
   "execution_count": null,
   "id": "f14691c4-4d86-4dee-b4ff-5c30270fb8c5",
   "metadata": {},
   "outputs": [],
   "source": [
    "_ = fs2.download(rpath, 'test2.grib2')"
   ]
  },
  {
   "cell_type": "code",
   "execution_count": null,
   "id": "f9332063-90c5-4852-bef0-0c8a3618ac51",
   "metadata": {},
   "outputs": [],
   "source": [
    "%%time\n",
    "ds = xr.open_dataset('test2.grib2', engine='cfgrib', \n",
    "               backend_kwargs={'filter_by_keys': {'typeOfLevel': 'heightAboveGround', 'level': 2}})   "
   ]
  },
  {
   "cell_type": "code",
   "execution_count": null,
   "id": "57d64a94-2c91-4460-90fb-37fb7f6e8390",
   "metadata": {},
   "outputs": [],
   "source": [
    "ds.data_vars"
   ]
  },
  {
   "cell_type": "code",
   "execution_count": null,
   "id": "1a26c620-cc15-4c37-8bff-dcf420821519",
   "metadata": {},
   "outputs": [],
   "source": [
    "ds1 = xr.open_dataset('test.grib2', engine='cfgrib', \n",
    "               backend_kwargs={'filter_by_keys': {'typeOfLevel': 'heightAboveGround', 'level': 10}})   \n",
    "ds1.data_vars"
   ]
  },
  {
   "cell_type": "code",
   "execution_count": null,
   "id": "cce0dc27-926b-44e2-a34b-99b11b470990",
   "metadata": {},
   "outputs": [],
   "source": []
  }
 ],
 "metadata": {
  "kernelspec": {
   "display_name": "Python [conda env:pangeo]",
   "language": "python",
   "name": "conda-env-pangeo-py"
  },
  "language_info": {
   "codemirror_mode": {
    "name": "ipython",
    "version": 3
   },
   "file_extension": ".py",
   "mimetype": "text/x-python",
   "name": "python",
   "nbconvert_exporter": "python",
   "pygments_lexer": "ipython3",
   "version": "3.9.6"
  }
 },
 "nbformat": 4,
 "nbformat_minor": 5
}
