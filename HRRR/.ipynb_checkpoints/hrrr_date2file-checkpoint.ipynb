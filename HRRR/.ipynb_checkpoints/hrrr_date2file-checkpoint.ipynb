{
 "cells": [
  {
   "cell_type": "code",
   "execution_count": null,
   "id": "7542bb29-941a-4af7-9a2a-86168e6350a8",
   "metadata": {},
   "outputs": [],
   "source": [
    "import pandas as pd\n",
    "import fsspec"
   ]
  },
  {
   "cell_type": "code",
   "execution_count": null,
   "id": "93334eea-a735-4980-82b3-b71d96f7ae01",
   "metadata": {},
   "outputs": [],
   "source": [
    "dates = pd.date_range(start='2019-01-01 22:00',end='2019-01-02 06:00', freq='1h')"
   ]
  },
  {
   "cell_type": "code",
   "execution_count": null,
   "id": "e2827a0d-df29-4765-8409-53130c84a815",
   "metadata": {},
   "outputs": [],
   "source": [
    "def date2url(date):\n",
    "    yyyymmdd = date.strftime('%Y%m%d')\n",
    "    hh = date.strftime('%H')\n",
    "    cfile = f's3://noaa-hrrr-bdp-pds/hrrr.{yyyymmdd}/conus/hrrr.t{hh}z.wrfsfcf01.grib2'\n",
    "    return cfile"
   ]
  },
  {
   "cell_type": "code",
   "execution_count": null,
   "id": "d142221f-26e3-4737-9af2-e1a372cf0969",
   "metadata": {},
   "outputs": [],
   "source": [
    "cfiles = [date2url(date) for date in dates]"
   ]
  },
  {
   "cell_type": "code",
   "execution_count": null,
   "id": "c4275674-c1a9-4acc-b79f-386549e38509",
   "metadata": {},
   "outputs": [],
   "source": [
    "cfiles"
   ]
  },
  {
   "cell_type": "code",
   "execution_count": null,
   "id": "14799fbd-3a67-4e86-bedf-22658d542896",
   "metadata": {},
   "outputs": [],
   "source": [
    "fs = fsspec.filesystem('s3', anon=True)"
   ]
  },
  {
   "cell_type": "code",
   "execution_count": null,
   "id": "facf70c4-b0c4-4ce7-ab4e-6e2a06c2efeb",
   "metadata": {},
   "outputs": [],
   "source": [
    "fs.size(cfiles[0])/1e6"
   ]
  },
  {
   "cell_type": "code",
   "execution_count": null,
   "id": "aa527e9a-2bcb-4c02-9599-91798037ca39",
   "metadata": {},
   "outputs": [],
   "source": []
  }
 ],
 "metadata": {
  "kernelspec": {
   "display_name": "Python [conda env:pangeo]",
   "language": "python",
   "name": "conda-env-pangeo-py"
  },
  "language_info": {
   "codemirror_mode": {
    "name": "ipython",
    "version": 3
   },
   "file_extension": ".py",
   "mimetype": "text/x-python",
   "name": "python",
   "nbconvert_exporter": "python",
   "pygments_lexer": "ipython3",
   "version": "3.8.10"
  }
 },
 "nbformat": 4,
 "nbformat_minor": 5
}
