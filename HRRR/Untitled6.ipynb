{
 "cells": [
  {
   "cell_type": "code",
   "execution_count": null,
   "id": "205a61e3-b059-4334-a37f-5389d04e9b41",
   "metadata": {},
   "outputs": [],
   "source": [
    "import fsspec"
   ]
  },
  {
   "cell_type": "code",
   "execution_count": null,
   "id": "68d3a4b2-83d3-40cf-81a7-ad7920ea8431",
   "metadata": {},
   "outputs": [],
   "source": [
    "fs = fsspec.filesystem('s3')"
   ]
  },
  {
   "cell_type": "code",
   "execution_count": null,
   "id": "0267a521-6a4e-4d1c-912c-a70450425e09",
   "metadata": {},
   "outputs": [],
   "source": [
    "fs.ls('s3://stpubdata/tess/public/mast/')"
   ]
  },
  {
   "cell_type": "code",
   "execution_count": null,
   "id": "d00c3135-30c3-4a26-8bc6-8ee0d3c7c715",
   "metadata": {},
   "outputs": [],
   "source": []
  }
 ],
 "metadata": {
  "kernelspec": {
   "display_name": "Python [conda env:pangeo]",
   "language": "python",
   "name": "conda-env-pangeo-py"
  },
  "language_info": {
   "codemirror_mode": {
    "name": "ipython",
    "version": 3
   },
   "file_extension": ".py",
   "mimetype": "text/x-python",
   "name": "python",
   "nbconvert_exporter": "python",
   "pygments_lexer": "ipython3",
   "version": "3.9.6"
  }
 },
 "nbformat": 4,
 "nbformat_minor": 5
}
