{
 "cells": [
  {
   "cell_type": "code",
   "execution_count": null,
   "id": "f28004a1-11a4-4108-99dd-fbd10b335e0b",
   "metadata": {},
   "outputs": [],
   "source": [
    "import fsspec\n",
    "import xarray as xr"
   ]
  },
  {
   "cell_type": "code",
   "execution_count": null,
   "id": "5acd361d-8feb-4a2f-a7c3-7a738a05c933",
   "metadata": {},
   "outputs": [],
   "source": [
    "%%time\n",
    "so = {\"anon\": True}\n",
    "fo = \"hrrr.json\"\n",
    "fs = fsspec.filesystem(\"reference\", fo=fo, target_options=so,\n",
    "                       remote_protocol=\"s3\", remote_options=so)\n",
    "m = fs.get_mapper(\"\")\n",
    "ds = xr.open_dataset(m, engine=\"zarr\")"
   ]
  },
  {
   "cell_type": "code",
   "execution_count": null,
   "id": "c74e885b-7ebb-4901-951a-71ecc3dac0bd",
   "metadata": {},
   "outputs": [],
   "source": []
  }
 ],
 "metadata": {
  "kernelspec": {
   "display_name": "Python [conda env:pangeo]",
   "language": "python",
   "name": "conda-env-pangeo-py"
  },
  "language_info": {
   "codemirror_mode": {
    "name": "ipython",
    "version": 3
   },
   "file_extension": ".py",
   "mimetype": "text/x-python",
   "name": "python",
   "nbconvert_exporter": "python",
   "pygments_lexer": "ipython3",
   "version": "3.8.10"
  }
 },
 "nbformat": 4,
 "nbformat_minor": 5
}
