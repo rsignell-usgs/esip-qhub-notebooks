{
 "cells": [
  {
   "cell_type": "markdown",
   "metadata": {},
   "source": [
    "# Messing with HRRR Grib data on AWS"
   ]
  },
  {
   "cell_type": "code",
   "execution_count": null,
   "metadata": {},
   "outputs": [],
   "source": [
    "import fsspec\n",
    "import xarray as xr\n",
    "import hvplot.xarray\n",
    "import metpy\n",
    "import numpy as np"
   ]
  },
  {
   "cell_type": "code",
   "execution_count": null,
   "metadata": {},
   "outputs": [],
   "source": [
    "fs = fsspec.filesystem('s3', anon=True)"
   ]
  },
  {
   "cell_type": "code",
   "execution_count": null,
   "metadata": {},
   "outputs": [],
   "source": [
    "# url = 'noaa-hrrr-pds'   # forecast data"
   ]
  },
  {
   "cell_type": "code",
   "execution_count": null,
   "metadata": {},
   "outputs": [],
   "source": [
    "url = 's3://noaa-hrrr-bdp-pds/hrrr.20190101/conus/hrrr.t12z.wrfsfcf01.grib2'"
   ]
  },
  {
   "cell_type": "code",
   "execution_count": null,
   "metadata": {},
   "outputs": [],
   "source": [
    "%%time\n",
    "file = fsspec.open(url)\n",
    "\n",
    "tmp_file = fsspec.open_local(f'simplecache::{url}', \n",
    "                              s3=dict(anon=True), simplecache={'cache_storage': './tmp'})\n",
    "\n",
    "ds = xr.open_dataset(tmp_file, engine='cfgrib', \n",
    "                       backend_kwargs=dict(filter_by_keys={'typeOfLevel': 'heightAboveGround', 'level': 2}))"
   ]
  },
  {
   "cell_type": "code",
   "execution_count": null,
   "metadata": {},
   "outputs": [],
   "source": [
    "%%time\n",
    "ds.time.units"
   ]
  },
  {
   "cell_type": "code",
   "execution_count": null,
   "metadata": {},
   "outputs": [],
   "source": [
    "ds = ds.metpy.parse_cf()"
   ]
  },
  {
   "cell_type": "code",
   "execution_count": null,
   "metadata": {},
   "outputs": [],
   "source": [
    "crs = ds.t2m.load("
   ]
  },
  {
   "cell_type": "code",
   "execution_count": null,
   "metadata": {},
   "outputs": [],
   "source": [
    "ds.t2m"
   ]
  },
  {
   "cell_type": "code",
   "execution_count": null,
   "metadata": {},
   "outputs": [],
   "source": [
    "ds.t2m.hvplot.quadmesh(x='longitude', y='latitude', rasterize=True,\n",
    "                      crs=crs, tiles='OSM', project=True, alpha=0.5, cmap='viridis')"
   ]
  },
  {
   "cell_type": "code",
   "execution_count": null,
   "metadata": {},
   "outputs": [],
   "source": [
    "ds_uv = xr.open_dataset(tmp_file, engine='cfgrib', \n",
    "                        backend_kwargs=dict(filter_by_keys={'typeOfLevel': 'heightAboveGround', \n",
    "                                                            'level': 2,\n",
    "                                                            'stepType': 'instant'}))"
   ]
  },
  {
   "cell_type": "code",
   "execution_count": null,
   "metadata": {},
   "outputs": [],
   "source": [
    "ds_uv"
   ]
  },
  {
   "cell_type": "code",
   "execution_count": null,
   "metadata": {},
   "outputs": [],
   "source": [
    "ds['u10'] = ds_uv.u10\n",
    "ds['v10'] = ds_uv.v10"
   ]
  },
  {
   "cell_type": "code",
   "execution_count": null,
   "metadata": {},
   "outputs": [],
   "source": [
    "ds.data_vars"
   ]
  },
  {
   "cell_type": "code",
   "execution_count": null,
   "metadata": {},
   "outputs": [],
   "source": [
    "dsn = xr.open_dataset(tmp_file, engine='cfgrib', \n",
    "                        backend_kwargs=dict(filter_by_keys={'typeOfLevel': 'surface', \n",
    "                                                            'stepType': 'instant'}))"
   ]
  },
  {
   "cell_type": "code",
   "execution_count": null,
   "metadata": {},
   "outputs": [],
   "source": [
    "dsn.data_vars"
   ]
  },
  {
   "cell_type": "markdown",
   "metadata": {},
   "source": [
    "It's actually faster to convert the gribs to netcdf using wgrib2 and loading those into xarray:\n",
    "```\n",
    "# download grib2 files\n",
    "$ wget https://noaa-hrrr-bdp-pds.s3.amazonaws.com/hrrr.20170125/conus/hrrr.t07z.wrfsubhf1530.grib2\n",
    "$ wget https://noaa-hrrr-bdp-pds.s3.amazonaws.com/hrrr.20170125/conus/hrrr.t08z.wrfsubhf1530.grib2\n",
    "$ wget https://noaa-hrrr-bdp-pds.s3.amazonaws.com/hrrr.20170125/conus/hrrr.t09z.wrfsubhf1530.grib2\n",
    "\n",
    "# convert grib2 to standard netcdf using wgrib2\n",
    "$ wgrib2 hrrr.t07z.wrfsubhf1530.grib2  -netcdf hrrr.t07z.wrfsubhf1530.nc\n",
    "$ wgrib2 hrrr.t08z.wrfsubhf1530.grib2  -netcdf hrrr.t08z.wrfsubhf1530.nc\n",
    "$ wgrib2 hrrr.t09z.wrfsubhf1530.grib2  -netcdf hrrr.t09z.wrfsubhf1530.nc\n",
    "```"
   ]
  },
  {
   "cell_type": "code",
   "execution_count": null,
   "metadata": {},
   "outputs": [],
   "source": [
    "dsh = xr.open_mfdataset('hrrr*.nc', chunks={'time':72, 'x':600, 'y':600})"
   ]
  },
  {
   "cell_type": "code",
   "execution_count": null,
   "metadata": {},
   "outputs": [],
   "source": [
    "print(dsh.data_vars)"
   ]
  },
  {
   "cell_type": "code",
   "execution_count": null,
   "metadata": {},
   "outputs": [],
   "source": [
    "hfile = 'hrrr.t00z.wrfnatf01.grib2'"
   ]
  },
  {
   "cell_type": "code",
   "execution_count": null,
   "metadata": {},
   "outputs": [],
   "source": [
    "ds = xr.open_dataset(hfile, engine='cfgrib', \n",
    "                       backend_kwargs=dict(filter_by_keys={'typeOfLevel': 'heightAboveGround', 'level': 2}))"
   ]
  },
  {
   "cell_type": "code",
   "execution_count": null,
   "metadata": {},
   "outputs": [],
   "source": [
    "ds"
   ]
  },
  {
   "cell_type": "code",
   "execution_count": null,
   "metadata": {},
   "outputs": [],
   "source": []
  }
 ],
 "metadata": {
  "kernelspec": {
   "display_name": "Python [conda env:pangeo]",
   "language": "python",
   "name": "conda-env-pangeo-py"
  },
  "language_info": {
   "codemirror_mode": {
    "name": "ipython",
    "version": 3
   },
   "file_extension": ".py",
   "mimetype": "text/x-python",
   "name": "python",
   "nbconvert_exporter": "python",
   "pygments_lexer": "ipython3",
   "version": "3.8.10"
  }
 },
 "nbformat": 4,
 "nbformat_minor": 4
}
