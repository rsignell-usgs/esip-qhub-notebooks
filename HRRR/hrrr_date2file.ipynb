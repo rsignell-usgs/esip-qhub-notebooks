{
 "cells": [
  {
   "cell_type": "code",
   "execution_count": null,
   "id": "7542bb29-941a-4af7-9a2a-86168e6350a8",
   "metadata": {},
   "outputs": [],
   "source": [
    "import pandas as pd\n",
    "import fsspec\n",
    "import cfgrib\n",
    "import xarray as xr"
   ]
  },
  {
   "cell_type": "code",
   "execution_count": null,
   "id": "93334eea-a735-4980-82b3-b71d96f7ae01",
   "metadata": {},
   "outputs": [],
   "source": [
    "dates = pd.date_range(start='2019-01-01 22:00',end='2019-01-02 06:00', freq='1h')"
   ]
  },
  {
   "cell_type": "code",
   "execution_count": null,
   "id": "e2827a0d-df29-4765-8409-53130c84a815",
   "metadata": {},
   "outputs": [],
   "source": [
    "def date2url(date):\n",
    "    yyyymmdd = date.strftime('%Y%m%d')\n",
    "    hh = date.strftime('%H')\n",
    "    cfile = f's3://noaa-hrrr-bdp-pds/hrrr.{yyyymmdd}/conus/hrrr.t{hh}z.wrfsfcf01.grib2'\n",
    "    return cfile"
   ]
  },
  {
   "cell_type": "code",
   "execution_count": null,
   "id": "d142221f-26e3-4737-9af2-e1a372cf0969",
   "metadata": {},
   "outputs": [],
   "source": [
    "cfiles = [date2url(date) for date in dates]"
   ]
  },
  {
   "cell_type": "code",
   "execution_count": null,
   "id": "c4275674-c1a9-4acc-b79f-386549e38509",
   "metadata": {},
   "outputs": [],
   "source": [
    "cfiles"
   ]
  },
  {
   "cell_type": "code",
   "execution_count": null,
   "id": "bf88999f-cbf5-4bc9-8dfd-1fcc3887131d",
   "metadata": {},
   "outputs": [],
   "source": [
    "url = 's3://noaa-hrrr-bdp-pds/hrrr.20190101/conus/hrrr.t10z.wrfsfcf01.grib2'\n",
    "tmp_file = fsspec.open_local(f'simplecache::{url}', \n",
    "                              s3=dict(anon=True), simplecache={'cache_storage': './tmp'})"
   ]
  },
  {
   "cell_type": "code",
   "execution_count": null,
   "id": "177f9704-9946-429d-a059-1720af3d70ea",
   "metadata": {},
   "outputs": [],
   "source": [
    "ds = cfgrib.open_file(tmp_file, filter_by_keys={'typeOfLevel':'heightAboveGround', 'level':2})"
   ]
  },
  {
   "cell_type": "code",
   "execution_count": null,
   "id": "11cf9255-04e2-4c9c-987d-945f00a72ef8",
   "metadata": {},
   "outputs": [],
   "source": [
    "for url in cfiles:\n",
    "    tmp_file = fsspec.open_local(f'simplecache::{url}', \n",
    "                              s3=dict(anon=True), simplecache={'cache_storage': './tmp'})\n",
    "    ds = xr.open_dataset(tmp_file, engine='cfgrib', \n",
    "                     backend_kwargs=dict(filter_by_keys={'typeOfLevel':'heightAboveGround', 'level':2}))\n",
    "    print(ds.time.values)"
   ]
  },
  {
   "cell_type": "code",
   "execution_count": null,
   "id": "9278d151-dc6f-4986-984e-36744ecc2f78",
   "metadata": {},
   "outputs": [],
   "source": [
    "for url in cfiles:\n",
    "    tmp_file = fsspec.open_local(f'simplecache::{url}', \n",
    "                              s3=dict(anon=True), simplecache={'cache_storage': './tmp'})\n",
    "    ds = cfgrib.open_dataset(tmp_file, filter_by_keys={'typeOfLevel':'heightAboveGround', 'level':2})\n",
    "    print(ds.time.values)"
   ]
  },
  {
   "cell_type": "code",
   "execution_count": null,
   "id": "6a592ae7-aaaf-4caa-ad39-99987c1707be",
   "metadata": {},
   "outputs": [],
   "source": []
  },
  {
   "cell_type": "code",
   "execution_count": null,
   "id": "454900d7-28e5-4f0f-ac7d-a814fccfe024",
   "metadata": {},
   "outputs": [],
   "source": [
    "so = {\"anon\": True, \"default_cache_type\": \"readahead\"}\n",
    "common = ['time', 'step', 'latitude', 'longitude', 'valid_time']\n",
    "filter = {'typeOfLevel': 'heightAboveGround', 'level': 2}"
   ]
  },
  {
   "cell_type": "code",
   "execution_count": null,
   "id": "b6c528de-4515-4a33-a765-b4f601251284",
   "metadata": {},
   "outputs": [],
   "source": [
    "url = 's3://noaa-hrrr-bdp-pds/hrrr.20190101/conus/hrrr.t10z.wrfsfcf01.grib2'\n",
    "file = fsspec.open(url)\n",
    "ds = cfgrib.open_file(file)"
   ]
  },
  {
   "cell_type": "code",
   "execution_count": null,
   "id": "5e2496b7-02d0-494f-9579-e17b1b4fd001",
   "metadata": {},
   "outputs": [],
   "source": [
    "for url in files:\n",
    "        ds = cfgrib.open_file(fs.open)"
   ]
  },
  {
   "cell_type": "code",
   "execution_count": null,
   "id": "fc99be61-d7be-4b23-ba28-219a12d0a032",
   "metadata": {},
   "outputs": [],
   "source": []
  },
  {
   "cell_type": "code",
   "execution_count": null,
   "id": "a8243d25-a29c-4771-a7bb-02ddd01873c0",
   "metadata": {},
   "outputs": [],
   "source": [
    "with fsspec.open(url, \"rb\", **storage_options) as f:\n",
    "        for fn, offset, size in _split_file(f, skip=skip):\n",
    "            logger.debug(f\"File {fn}\")\n",
    "            ds = cfgrib.open_file(fn)"
   ]
  }
 ],
 "metadata": {
  "kernelspec": {
   "display_name": "Python [conda env:pangeo]",
   "language": "python",
   "name": "conda-env-pangeo-py"
  },
  "language_info": {
   "codemirror_mode": {
    "name": "ipython",
    "version": 3
   },
   "file_extension": ".py",
   "mimetype": "text/x-python",
   "name": "python",
   "nbconvert_exporter": "python",
   "pygments_lexer": "ipython3",
   "version": "3.8.10"
  }
 },
 "nbformat": 4,
 "nbformat_minor": 5
}
