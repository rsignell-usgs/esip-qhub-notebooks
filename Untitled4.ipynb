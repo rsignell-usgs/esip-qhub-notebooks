{
 "cells": [
  {
   "cell_type": "code",
   "execution_count": null,
   "metadata": {},
   "outputs": [],
   "source": [
    "import rioxarray as rxr\n",
    "s3uri = 's3://prd-tnm/StagedProducts/Elevation/1m/Projects/AL_MobileCo_2014/TIFF/USGS_one_meter_x36y336_AL_MobileCo_2014.tif'\n",
    "print(rxr.__version__)\n",
    "da = rxr.open_rasterio(s3uri)\n"
   ]
  },
  {
   "cell_type": "code",
   "execution_count": null,
   "metadata": {},
   "outputs": [],
   "source": []
  }
 ],
 "metadata": {
  "kernelspec": {
   "display_name": "Python [conda env:seppo]",
   "language": "python",
   "name": "conda-env-seppo-py"
  },
  "language_info": {
   "codemirror_mode": {
    "name": "ipython",
    "version": 3
   },
   "file_extension": ".py",
   "mimetype": "text/x-python",
   "name": "python",
   "nbconvert_exporter": "python",
   "pygments_lexer": "ipython3",
   "version": "3.7.10"
  }
 },
 "nbformat": 4,
 "nbformat_minor": 4
}
