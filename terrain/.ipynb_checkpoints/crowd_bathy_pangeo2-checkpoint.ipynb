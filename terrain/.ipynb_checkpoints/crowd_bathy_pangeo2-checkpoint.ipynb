{
 "cells": [
  {
   "cell_type": "markdown",
   "metadata": {},
   "source": [
    "## Crowdsourced Bathymetry Data (CSB) Visualization\n",
    "\n",
    "CSB is a citizen science project supported by the IHO and NOAA. The data lake hosted by the NOAA Big Data Project contains nearly 100,000,000 unique depth soundings from over 135 participating ships!\n",
    "\n",
    "Read more here: https://noaa-bathymetry-pds.s3.amazonaws.com/readme.html\n",
    "\n",
    "Or browse the bucket here: https://noaa-bathymetry-pds.s3.amazonaws.com/index.html\n"
   ]
  },
  {
   "cell_type": "code",
   "execution_count": null,
   "metadata": {},
   "outputs": [],
   "source": [
    "import fsspec\n",
    "import pandas as pd\n",
    "import hvplot.pandas\n",
    "import intake"
   ]
  },
  {
   "cell_type": "markdown",
   "metadata": {},
   "source": [
    "Read all the CSV data from one day:"
   ]
  },
  {
   "cell_type": "code",
   "execution_count": null,
   "metadata": {},
   "outputs": [],
   "source": [
    "fs = fsspec.filesystem('s3', anon=True)\n",
    "csv_files = fs.ls('noaa-bathymetry-pds/csv/2020/01/01')\n",
    "urls = [f'https://noaa-bathymetry-pds.s3.amazonaws.com/{csv[20:]}' for csv in csv_files]\n",
    "print(f'{len(urls)} urls')\n",
    "print(f'first one: {urls[0]}')"
   ]
  },
  {
   "cell_type": "markdown",
   "metadata": {},
   "source": [
    "Open all the URLs using Intake"
   ]
  },
  {
   "cell_type": "code",
   "execution_count": null,
   "metadata": {},
   "outputs": [],
   "source": [
    "%%time\n",
    "ds = intake.open_csv(urls)\n",
    "df = ds.read()\n",
    "print(f'Data values found: {len(df)}')"
   ]
  },
  {
   "cell_type": "code",
   "execution_count": null,
   "metadata": {},
   "outputs": [],
   "source": [
    "df.head()"
   ]
  },
  {
   "cell_type": "markdown",
   "metadata": {},
   "source": [
    "Visualize with hvplot"
   ]
  },
  {
   "cell_type": "code",
   "execution_count": null,
   "metadata": {},
   "outputs": [],
   "source": [
    "df.hvplot.points(x='LON', y='LAT', color='DEPTH', rasterize=True, \n",
    "                 geo=True, cmap='jet', frame_width=600, tiles='OSM', hover=False)"
   ]
  },
  {
   "cell_type": "code",
   "execution_count": null,
   "metadata": {},
   "outputs": [],
   "source": []
  }
 ],
 "metadata": {
  "kernelspec": {
   "display_name": "Python [conda env:pangeo]",
   "language": "python",
   "name": "conda-env-pangeo-py"
  },
  "language_info": {
   "codemirror_mode": {
    "name": "ipython",
    "version": 3
   },
   "file_extension": ".py",
   "mimetype": "text/x-python",
   "name": "python",
   "nbconvert_exporter": "python",
   "pygments_lexer": "ipython3",
   "version": "3.8.6"
  }
 },
 "nbformat": 4,
 "nbformat_minor": 4
}
