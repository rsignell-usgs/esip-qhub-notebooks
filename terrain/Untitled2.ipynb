{
 "cells": [
  {
   "cell_type": "code",
   "execution_count": null,
   "id": "52ac68b5-b4fb-4f39-ad82-c9b3803a82a8",
   "metadata": {},
   "outputs": [],
   "source": [
    "import fsspec\n",
    "import dask.dataframe as dd"
   ]
  },
  {
   "cell_type": "code",
   "execution_count": null,
   "id": "7e4fc280-91f2-47df-afb7-10c0dbc126af",
   "metadata": {},
   "outputs": [],
   "source": [
    "fs = fsspec.filesystem('s3', profile='esip-qhub')"
   ]
  },
  {
   "cell_type": "code",
   "execution_count": null,
   "id": "da512103-5824-4cdd-8001-62415fa637a3",
   "metadata": {},
   "outputs": [],
   "source": [
    "fs.ls('esip-qhub/usgs/mwieczorek/wbm/testing/')"
   ]
  },
  {
   "cell_type": "code",
   "execution_count": null,
   "id": "befc5b91-7d96-44a7-9d6b-1272f54bda0a",
   "metadata": {},
   "outputs": [],
   "source": [
    "df = dd.read_fwf('s3://esip-qhub/usgs/mwieczorek/wbm/testing/prcp.monthly.all.gz', compression=\n",
    "         storage_options={'profile':'esip-qhub'}, "
   ]
  },
  {
   "cell_type": "code",
   "execution_count": null,
   "id": "6856afc9-6ec7-4c76-9ec4-b12c75cfc813",
   "metadata": {},
   "outputs": [],
   "source": []
  }
 ],
 "metadata": {
  "kernelspec": {
   "display_name": "Python [conda env:pangeo]",
   "language": "python",
   "name": "conda-env-pangeo-py"
  },
  "language_info": {
   "codemirror_mode": {
    "name": "ipython",
    "version": 3
   },
   "file_extension": ".py",
   "mimetype": "text/x-python",
   "name": "python",
   "nbconvert_exporter": "python",
   "pygments_lexer": "ipython3",
   "version": "3.8.10"
  }
 },
 "nbformat": 4,
 "nbformat_minor": 5
}
