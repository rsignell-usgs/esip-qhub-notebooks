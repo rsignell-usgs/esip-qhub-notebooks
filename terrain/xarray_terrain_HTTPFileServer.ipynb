{
 "cells": [
  {
   "cell_type": "markdown",
   "id": "509e06ba-af61-4ccb-bd67-d6475c3e559c",
   "metadata": {},
   "source": [
    "# Extract NetCDF4 data from a regular HTTP web server into Xarray\n",
    "Use xarray to extract data from NetCDF4 files on a regular web server using the [fsspec HTTPFileSystem class](https://filesystem-spec.readthedocs.io/en/latest/api.html?highlight=HTTPfilesystem#fsspec.implementations.http.HTTPFileSystem)\n",
    "\n",
    "**Note: The web server must be configured to support byte-range requests**"
   ]
  },
  {
   "cell_type": "code",
   "execution_count": null,
   "id": "c877195e-6f57-4302-b99f-1846d8433463",
   "metadata": {},
   "outputs": [],
   "source": [
    "import fsspec\n",
    "import xarray as xr\n",
    "import hvplot.xarray"
   ]
  },
  {
   "cell_type": "code",
   "execution_count": null,
   "id": "077da923-7c3d-41cd-a23c-fedb0a1208a7",
   "metadata": {},
   "outputs": [],
   "source": [
    "fs = fsspec.filesystem('https', ssl=False)"
   ]
  },
  {
   "cell_type": "code",
   "execution_count": null,
   "id": "cce121e2-920f-453d-be11-5516c38c95a6",
   "metadata": {},
   "outputs": [],
   "source": [
    "fs = fsspec.filesystem('https')"
   ]
  },
  {
   "cell_type": "code",
   "execution_count": null,
   "id": "07de629e-688e-4ef3-9370-0164a06c773a",
   "metadata": {},
   "outputs": [],
   "source": [
    "url = 'https://data.gcoos.org/data/waf/ancillary/GCOOS_bathymetry_1arcsec_cellsize.nc'"
   ]
  },
  {
   "cell_type": "code",
   "execution_count": null,
   "id": "62094a7d-3e91-4376-a132-dc32f39f7bce",
   "metadata": {},
   "outputs": [],
   "source": [
    "ds = xr.open_dataset(fs.open(url), engine='h5netcdf')"
   ]
  },
  {
   "cell_type": "code",
   "execution_count": null,
   "id": "e9c7cb11-d531-48f2-8323-0097db1eb205",
   "metadata": {},
   "outputs": [],
   "source": [
    "da = ds.depth.sel(lon=slice(-89,-87.5), lat=slice(31,30))"
   ]
  },
  {
   "cell_type": "code",
   "execution_count": null,
   "id": "e1bef0d4-2ff8-4a2d-9d3a-62ca6e06d551",
   "metadata": {},
   "outputs": [],
   "source": [
    "da.hvplot.image(rasterize=True, geo=True, tiles='OSM', cmap='turbo', frame_width=700)"
   ]
  }
 ],
 "metadata": {
  "kernelspec": {
   "display_name": "Python [conda env:pangeo]",
   "language": "python",
   "name": "conda-env-pangeo-py"
  },
  "language_info": {
   "codemirror_mode": {
    "name": "ipython",
    "version": 3
   },
   "file_extension": ".py",
   "mimetype": "text/x-python",
   "name": "python",
   "nbconvert_exporter": "python",
   "pygments_lexer": "ipython3",
   "version": "3.8.10"
  }
 },
 "nbformat": 4,
 "nbformat_minor": 5
}
