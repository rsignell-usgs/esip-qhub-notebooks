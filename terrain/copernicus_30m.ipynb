{
 "cells": [
  {
   "cell_type": "markdown",
   "id": "459363f1-316d-4163-8204-2848df897836",
   "metadata": {},
   "source": [
    "# Explore Copernicus 30m global terrain data\n",
    "https://opentopography.org/news/nasadem-and-copernicus-dem"
   ]
  },
  {
   "cell_type": "code",
   "execution_count": null,
   "id": "f00b5e9a-a5c2-4f52-b64c-08e1baea555d",
   "metadata": {},
   "outputs": [],
   "source": [
    "import hvplot.xarray\n",
    "import fsspec\n",
    "import os\n",
    "import rioxarray as rxr"
   ]
  },
  {
   "cell_type": "code",
   "execution_count": null,
   "id": "4d0bd700-d437-4af0-8751-e20875958a76",
   "metadata": {},
   "outputs": [],
   "source": [
    "os.environ['GDAL_DISABLE_READDIR_ON_OPEN']='EMPTY_DIR' #This is KEY! otherwise we send a bunch of HTTP GET requests to test for common sidecar metadata\n",
    "os.environ['AWS_NO_SIGN_REQUEST']='YES' #Since this is a public bucket, we don't need authentication\n",
    "os.environ['GDAL_MAX_RAW_BLOCK_CACHE_SIZE']='200000000'  #200MB: Want this to be greater than size of uncompressed raster to overcome a 10 MB limit in the GeoTIFF driver for range request merging.\n",
    "os.environ['GDAL_SWATH_SIZE']='200000000'  #also increase this if increasing MAX_RAW_BLOCK_CACHE_SIZE\n",
    "os.environ['VSI_CURL_CACHE_SIZE']='200000000' #also increase this if increasing MAX_RAW_BLOCK_CACHE_SIZE"
   ]
  },
  {
   "cell_type": "code",
   "execution_count": null,
   "id": "3efd19b8-734a-44a4-abab-5754f07df8af",
   "metadata": {},
   "outputs": [],
   "source": [
    "fs = fsspec.filesystem('s3', anon=True)"
   ]
  },
  {
   "cell_type": "code",
   "execution_count": null,
   "id": "24491676-4cf8-4a9e-b678-8c90ae50f0ee",
   "metadata": {},
   "outputs": [],
   "source": [
    "fs.glob('copernicus-dem-30m/Copernicus_DSM_COG_10_S05_00_W08*/')"
   ]
  },
  {
   "cell_type": "code",
   "execution_count": null,
   "id": "60e0bcc1-fc5b-483e-a573-7e2160b4aeaf",
   "metadata": {},
   "outputs": [],
   "source": [
    "f = fs.ls('copernicus-dem-30m/Copernicus_DSM_COG_10_S05_00_W082_00_DEM/')\n",
    "f"
   ]
  },
  {
   "cell_type": "code",
   "execution_count": null,
   "id": "d4107516-20f5-4d70-b638-22a342438ba9",
   "metadata": {},
   "outputs": [],
   "source": [
    "da = rxr.open_rasterio('s3://'+f[0], masked=True).squeeze(dim='band', drop=True)"
   ]
  },
  {
   "cell_type": "code",
   "execution_count": null,
   "id": "4c64ad5b-1939-4bf7-aa6f-6979c20617a1",
   "metadata": {},
   "outputs": [],
   "source": [
    "da.hvplot(x='x', y='y', rasterize=True, geo=True, cmap='turbo')"
   ]
  }
 ],
 "metadata": {
  "kernelspec": {
   "display_name": "Python [conda env:pangeo]",
   "language": "python",
   "name": "conda-env-pangeo-py"
  },
  "language_info": {
   "codemirror_mode": {
    "name": "ipython",
    "version": 3
   },
   "file_extension": ".py",
   "mimetype": "text/x-python",
   "name": "python",
   "nbconvert_exporter": "python",
   "pygments_lexer": "ipython3",
   "version": "3.8.10"
  }
 },
 "nbformat": 4,
 "nbformat_minor": 5
}
