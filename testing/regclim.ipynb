{
 "cells": [
  {
   "cell_type": "code",
   "execution_count": null,
   "id": "3d109a20-cb9b-41ce-9804-a429e14a2844",
   "metadata": {},
   "outputs": [],
   "source": [
    "import xarray as xr"
   ]
  },
  {
   "cell_type": "code",
   "execution_count": null,
   "id": "a7b2388b-8aab-4b25-991d-bbf61f32d2f0",
   "metadata": {},
   "outputs": [],
   "source": [
    "dap_url = 'http://regclim.ceoas.oregonstate.edu:8080/thredds/dodsC/CCSM4/runoff_MWBM_CCSM4_rcp45_r6i1p1_2006-2099.nc'"
   ]
  },
  {
   "cell_type": "code",
   "execution_count": null,
   "id": "54eadd40-f7d6-4be7-9291-dd2c1b1fcced",
   "metadata": {},
   "outputs": [],
   "source": [
    "ds = xr.open_dataset(dap_url, chunks={'lat':300, 'lon':300, 'time':200},\n",
    "                    mask_and_scale=False, decode_times=False, \n",
    "                    decode_coords=False)"
   ]
  },
  {
   "cell_type": "code",
   "execution_count": null,
   "id": "352cb256-8bd7-4e5d-8616-7d3bfb9f5221",
   "metadata": {},
   "outputs": [],
   "source": [
    "ds.runoff"
   ]
  },
  {
   "cell_type": "code",
   "execution_count": null,
   "id": "65196a0a-ae46-48b6-9a28-3552f176dbeb",
   "metadata": {},
   "outputs": [],
   "source": []
  }
 ],
 "metadata": {
  "kernelspec": {
   "display_name": "Python [conda env:pangeo]",
   "language": "python",
   "name": "conda-env-pangeo-py"
  },
  "language_info": {
   "codemirror_mode": {
    "name": "ipython",
    "version": 3
   },
   "file_extension": ".py",
   "mimetype": "text/x-python",
   "name": "python",
   "nbconvert_exporter": "python",
   "pygments_lexer": "ipython3",
   "version": "3.8.10"
  }
 },
 "nbformat": 4,
 "nbformat_minor": 5
}
