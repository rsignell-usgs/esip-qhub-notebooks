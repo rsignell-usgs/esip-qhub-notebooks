{
 "cells": [
  {
   "cell_type": "markdown",
   "id": "6bed0333-0205-4447-8364-194bb646ee9a",
   "metadata": {},
   "source": [
    "# List groups in HDF5, read one with Xarray"
   ]
  },
  {
   "cell_type": "code",
   "execution_count": null,
   "id": "b7b9f0eb-4ebe-489d-8691-7c75f50d10f3",
   "metadata": {},
   "outputs": [],
   "source": [
    "import fsspec\n",
    "fs = fsspec.filesystem('s3', requester_pays=True, profile='esip-qhub')\n",
    "files = fs.glob('s3://coawst-public/rsignell/testing/*.nc')\n",
    "files"
   ]
  },
  {
   "cell_type": "code",
   "execution_count": null,
   "id": "bdf62322-3d8c-407b-b236-38f83e0831a3",
   "metadata": {},
   "outputs": [],
   "source": [
    "import h5py\n",
    "url = files[0]\n",
    "f = h5py.File(fs.open(url))\n",
    "[key for key in f.keys()]"
   ]
  },
  {
   "cell_type": "code",
   "execution_count": null,
   "id": "0e59af64-1d0b-467c-bf22-70478e346b7c",
   "metadata": {},
   "outputs": [],
   "source": [
    "import xarray as xr\n",
    "ds = xr.open_dataset(fs.open(url), group='payload_1')\n",
    "ds"
   ]
  },
  {
   "cell_type": "code",
   "execution_count": null,
   "id": "7b9fd0b9-9f8f-46a6-8be5-0a22855f9699",
   "metadata": {},
   "outputs": [],
   "source": []
  }
 ],
 "metadata": {
  "kernelspec": {
   "display_name": "Python [conda env:pangeo]",
   "language": "python",
   "name": "conda-env-pangeo-py"
  },
  "language_info": {
   "codemirror_mode": {
    "name": "ipython",
    "version": 3
   },
   "file_extension": ".py",
   "mimetype": "text/x-python",
   "name": "python",
   "nbconvert_exporter": "python",
   "pygments_lexer": "ipython3",
   "version": "3.8.10"
  }
 },
 "nbformat": 4,
 "nbformat_minor": 5
}
