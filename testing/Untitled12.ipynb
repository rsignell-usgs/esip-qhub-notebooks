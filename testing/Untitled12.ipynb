{
 "cells": [
  {
   "cell_type": "code",
   "execution_count": null,
   "id": "4e8e7134-6c1a-4df5-af50-2f5f0aa66448",
   "metadata": {},
   "outputs": [],
   "source": [
    "import netCDF4"
   ]
  },
  {
   "cell_type": "code",
   "execution_count": null,
   "id": "0f50c204-25d7-4d4c-b5fb-3ffeac1ecab5",
   "metadata": {},
   "outputs": [],
   "source": [
    "nc = netCDF4.Dataset('coloradoStations.nc')"
   ]
  },
  {
   "cell_type": "code",
   "execution_count": null,
   "id": "64db97c2-b958-4bc8-a728-d676708895c0",
   "metadata": {},
   "outputs": [],
   "source": [
    "nc.groups.keys()"
   ]
  },
  {
   "cell_type": "code",
   "execution_count": null,
   "id": "2b55d78b-febf-4206-be23-cb86c12bbb6c",
   "metadata": {},
   "outputs": [],
   "source": [
    "import xarray as xr"
   ]
  },
  {
   "cell_type": "code",
   "execution_count": null,
   "id": "797d7807-5c48-480a-be50-222449e968af",
   "metadata": {},
   "outputs": [],
   "source": [
    "ds = xr.open_dataset('coloradoStations.nc', group='SA00')"
   ]
  },
  {
   "cell_type": "code",
   "execution_count": null,
   "id": "739aa8b4-45ba-45fa-9a71-5c78ccbd68d6",
   "metadata": {},
   "outputs": [],
   "source": [
    "ds.StdDevN.plot()"
   ]
  },
  {
   "cell_type": "code",
   "execution_count": null,
   "id": "d9d4cdb4-cea1-4ca3-bbe9-4611ed825c3a",
   "metadata": {},
   "outputs": [],
   "source": []
  }
 ],
 "metadata": {
  "kernelspec": {
   "display_name": "Python [conda env:pangeo]",
   "language": "python",
   "name": "conda-env-pangeo-py"
  },
  "language_info": {
   "codemirror_mode": {
    "name": "ipython",
    "version": 3
   },
   "file_extension": ".py",
   "mimetype": "text/x-python",
   "name": "python",
   "nbconvert_exporter": "python",
   "pygments_lexer": "ipython3",
   "version": "3.8.10"
  }
 },
 "nbformat": 4,
 "nbformat_minor": 5
}
