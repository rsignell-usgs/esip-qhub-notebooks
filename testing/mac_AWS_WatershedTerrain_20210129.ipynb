{
 "cells": [
  {
   "cell_type": "markdown",
   "metadata": {},
   "source": [
    "## Watershed Terrain from AWS\n",
    "Get a watershed terrain model for a given Lat/Long by utilizing the AWS Terrain Tiles and the EPA WATER's service"
   ]
  },
  {
   "cell_type": "markdown",
   "metadata": {},
   "source": [
    " - Created by:   __Andy Carter, PE__\n",
    " >andy.carter@austin.utexas.edu\n",
    "\n",
    " - Created On:   __29 Jan 2021__<br>\n",
    " - Last revised:  __Verison 0.1__\n",
    " \n",
    " - Purpose:\n",
    " >Input a Lat/Long point.  Using the EPA WATER's service, get the receiving COMID stream and then the total watershed polygon down to that stream.  With this polygon, download all the AWS tile that are needed.  Merge the dem tiles and clip to the buffered watershed boundary.\n",
    "\n",
    " - Inputs required:\n",
    "  > 1) Lat/Long of the requested point <br>\n",
    "    2) Zoom level of the requested terrain tiles (highest resolution is 14) <br>\n",
    "    \n",
    " - Output generated:\n",
    "  > A merged GeoTIFF dem with a COMID name called {COMID}_dem.clip.tif"
   ]
  },
  {
   "cell_type": "markdown",
   "metadata": {},
   "source": [
    "***\n",
    "### 1.0 References"
   ]
  },
  {
   "cell_type": "code",
   "execution_count": null,
   "metadata": {},
   "outputs": [],
   "source": [
    "import requests\n",
    "import json\n",
    "import geopandas as gpd\n",
    "\n",
    "from owslib.wms import WebMapService\n",
    "\n",
    "import urllib\n",
    "import math\n",
    "import matplotlib.pyplot as plt\n",
    "import os\n",
    "import glob\n",
    "import rasterio\n",
    "import gdal\n",
    "import osr\n",
    "\n",
    "from shapely.geometry import shape\n",
    "\n",
    "from rasterio.merge import merge\n",
    "from rasterio.plot import show\n",
    "from rasterio.mask import mask"
   ]
  },
  {
   "cell_type": "markdown",
   "metadata": {},
   "source": [
    "***\n",
    "### 2.0 Input "
   ]
  },
  {
   "cell_type": "code",
   "execution_count": null,
   "metadata": {},
   "outputs": [],
   "source": [
    "#Input\n",
    "fltLat = 30.502\n",
    "fltLong = -97.910\n",
    "\n",
    "int_Zoom = 14 #the most detailed AWS Terrain level available\n",
    "\n",
    "#Directory to write DEM data\n",
    "strPathDirectory = r'AWS'"
   ]
  },
  {
   "cell_type": "markdown",
   "metadata": {},
   "source": [
    "***\n",
    "### 3.0 Get Watershed Limits from EPA WATER's web services"
   ]
  },
  {
   "cell_type": "code",
   "execution_count": null,
   "metadata": {},
   "outputs": [],
   "source": [
    "#EPA Waters Point indexing service - determine the COMID that the selected point drains\n",
    "str_PointIndexURL = r'https://ofmpub.epa.gov/waters10/PointIndexing.Service?pGeometry=POINT('\n",
    "str_PointIndexURL += str(fltLong) + \" \"\n",
    "str_PointIndexURL += str(fltLat) + \")\"\n",
    "\n",
    "#Webrequest to get json data (Point Indexing to get COMID)\n",
    "r_json = requests.get(str_PointIndexURL).json()\n",
    "data = r_json[\"output\"][\"ary_flowlines\"]\n",
    "intCOMID = data[0].get('comid')\n",
    "#print(\"COMID: \" + str(intCOMID))\n",
    "\n",
    "#EPA Waters request for watershed - get the polygon of the drainage area including the receiving drainage COMID's catchment\n",
    "str_WatershedURL = r'http://ofmpub.epa.gov/waters10/NavigationDelineation.Service?pNavigationType=UT&pStartComid='\n",
    "str_WatershedURL += str(intCOMID)\n",
    "str_WatershedURL += r'&pOutputFlag=FEATURE&pAggregationFlag=TRUE'\n",
    "\n",
    "#Parse out the polygon boundaries\n",
    "r_json = requests.get(str_WatershedURL).json()\n",
    "data = r_json[\"output\"][\"shape\"]\n",
    "data = json.dumps(data) #dump to get proper json format with double quotes\n",
    "df1 = gpd.read_file(data)  #geopands of the watershed polygon\n",
    "\n",
    "#watershed_data = GeoData(geo_dataframe = df1,\n",
    "#                         style={'color':'red','fillOpacity':0},\n",
    "#                         name = 'Watershed')\n"
   ]
  },
  {
   "cell_type": "code",
   "execution_count": null,
   "metadata": {},
   "outputs": [],
   "source": [
    "#Create an offset buffer to the watershed \n",
    "df2 = df1.buffer(0.002,resolution=8) #offsets 0.002 degrees - about 600 feet\n",
    "\n",
    "#Show bounding envelope(green) and watershed(red)\n",
    "boundary=df1.boundary.plot(color='red')\n",
    "df1.plot\n",
    "#df2.plot(ax=boundary, color='green');"
   ]
  },
  {
   "cell_type": "markdown",
   "metadata": {},
   "source": [
    "***\n",
    "### 4.0 Create URL of the tiles to reqest from AWS Terrain Tile service"
   ]
  },
  {
   "cell_type": "code",
   "execution_count": null,
   "metadata": {},
   "outputs": [],
   "source": [
    "#get the lower left and upper right coordinates\n",
    "flt_minLong = df2[0].bounds[0]\n",
    "flt_minLat = df2[0].bounds[1]\n",
    "\n",
    "flt_maxLong = df2[0].bounds[2]\n",
    "flt_maxLat = df2[0].bounds[3]"
   ]
  },
  {
   "cell_type": "code",
   "execution_count": null,
   "metadata": {},
   "outputs": [],
   "source": [
    "# https://wiki.openstreetmap.org/wiki/Slippy_map_tilenames\n",
    "def fn_deg2num(lat_deg, lon_deg, zoom):\n",
    "    \n",
    "    \"\"\"Return the tile number (x,y) given the Lat/Long and zoom level\n",
    "\n",
    "    Args:\n",
    "        lat_deg: Point latitude in decimal degrees\n",
    "        lon_deg: Point longitude in decimal degrees\n",
    "        zoom: Tile pyramid zoom-in level \n",
    "\n",
    "    Returns:\n",
    "        Integers of the x/y of the tile\n",
    "    \"\"\"\n",
    "    \n",
    "    lat_rad = math.radians(lat_deg)\n",
    "    n = 2.0 ** zoom\n",
    "    xtile = int((lon_deg + 180.0) / 360.0 * n)\n",
    "    ytile = int((1.0 - math.asinh(math.tan(lat_rad)) / math.pi) / 2.0 * n)\n",
    "    return (xtile, ytile)"
   ]
  },
  {
   "cell_type": "code",
   "execution_count": null,
   "metadata": {},
   "outputs": [],
   "source": [
    "#indecies of tiles from within the bounding box\n",
    "#print(fn_deg2num(flt_minLat,flt_minLong,int_Zoom))\n",
    "#print(fn_deg2num(flt_maxLat,flt_maxLong,int_Zoom))\n",
    "\n",
    "int_xMinTile = fn_deg2num(flt_minLat,flt_minLong,int_Zoom)[0]\n",
    "int_xMaxTile = fn_deg2num(flt_maxLat,flt_maxLong,int_Zoom)[0]\n",
    "\n",
    "int_yMinTile = fn_deg2num(flt_minLat,flt_minLong,int_Zoom)[1]\n",
    "int_yMaxTile = fn_deg2num(flt_maxLat,flt_maxLong,int_Zoom)[1]"
   ]
  },
  {
   "cell_type": "code",
   "execution_count": null,
   "metadata": {},
   "outputs": [],
   "source": [
    "#Create URL list of all the needed tiles\n",
    "lst_terrainPaths = []\n",
    "for x in range(int_xMinTile, int_xMaxTile+1):\n",
    "    for y in range (int_yMaxTile, int_yMinTile+1):\n",
    "\n",
    "        #strURL = r's3://elevation-tiles-prod/geotiff/'\n",
    "        strURL = r'https://s3.amazonaws.com/elevation-tiles-prod/geotiff/'\n",
    "        strURL += str(int_Zoom) + \"/\"\n",
    "        strURL += str(x) + \"/\"\n",
    "        strURL += str(y) + \".tif\"\n",
    "        lst_terrainPaths.append(strURL)\n",
    "print(\"Number of tiles (Zoom Level \" + str(int_Zoom) + \"): \" + str(len(lst_terrainPaths)))"
   ]
  },
  {
   "cell_type": "code",
   "execution_count": null,
   "metadata": {},
   "outputs": [],
   "source": []
  },
  {
   "cell_type": "markdown",
   "metadata": {},
   "source": [
    "***\n",
    "### 5.0 Download the requested tiles"
   ]
  },
  {
   "cell_type": "markdown",
   "metadata": {},
   "source": [
    "Can we speed this up with Dask to download multiple tiles (or glob multiple URLs) at once?"
   ]
  },
  {
   "cell_type": "code",
   "execution_count": null,
   "metadata": {},
   "outputs": [],
   "source": [
    "%%time\n",
    "lst_FileNamesToMerge = []\n",
    "intCount = 1\n",
    "for i in lst_terrainPaths:\n",
    "    strFileName = \"_\" + str(intCOMID) + '_TileImage_' + str(intCount) + '.tif'\n",
    "    strFilePath = strPathDirectory + strFileName\n",
    "    lst_FileNamesToMerge.append(strFilePath)\n",
    "    strTotalPath = strPathDirectory + strFileName\n",
    "    r = requests.get(i)\n",
    "    with open(strTotalPath, 'wb') as f:\n",
    "        f.write(r.content)\n",
    "    intCount += 1"
   ]
  },
  {
   "cell_type": "markdown",
   "metadata": {},
   "source": [
    "***\n",
    "### 6.0 Merge the terrain tiles"
   ]
  },
  {
   "cell_type": "code",
   "execution_count": null,
   "metadata": {},
   "outputs": [],
   "source": [
    "#Merge the DEMs in the lst_FileNamesToMerge list\n",
    "strOutTiffPath = str(intCOMID) + \"_dem_merge.tif\"\n",
    "\n",
    "d = []\n",
    "for file in lst_FileNamesToMerge:\n",
    "    src = rasterio.open(file)\n",
    "    d.append(src)\n",
    "    \n",
    "out_meta = src.meta.copy()\n",
    "\n",
    "mosaic, out_trans = merge(d)\n",
    "\n",
    "# Create Metadata of the for the mosaic TIFF\n",
    "out_meta.update({\"driver\": \"HFA\",\"height\":mosaic.shape[1],\"width\":mosaic.shape[2],\"transform\": out_trans,})\n",
    "\n",
    "# Write the updated DEM to the specified file path\n",
    "with rasterio.open(strOutTiffPath, \"w\", **out_meta) as dest:\n",
    "    dest.write(mosaic)\n",
    "    dest.close()"
   ]
  },
  {
   "cell_type": "markdown",
   "metadata": {},
   "source": [
    "***\n",
    "### 7.0 Clip the terrain tiles"
   ]
  },
  {
   "cell_type": "code",
   "execution_count": null,
   "metadata": {},
   "outputs": [],
   "source": [
    "def getFeatures(gdf,int_polyIndex):\n",
    "    \"\"\"Function to parse features from GeoDataFrame in such a manner that rasterio wants them\"\"\"\n",
    "    import json\n",
    "    return [json.loads(gdf.to_json())['features'][int_polyIndex]['geometry']]"
   ]
  },
  {
   "cell_type": "code",
   "execution_count": null,
   "metadata": {},
   "outputs": [],
   "source": [
    "# Read the overall Terrain raster\n",
    "src = rasterio.open(strOutTiffPath)\n",
    "\n",
    "# Copy the metadata of the src terrain data\n",
    "out_meta = src.meta.copy()\n",
    "\n",
    "#Get the projection of the raster\n",
    "d = gdal.Open(strOutTiffPath)\n",
    "proj = osr.SpatialReference(wkt=d.GetProjection())\n",
    "str_EPSG_Raster = proj.GetAttrValue('AUTHORITY',1)\n",
    "print(str_EPSG_Raster)\n",
    "\n",
    "strWatershedShape_Path = str(intCOMID) + '_watershed_ar.shp'\n",
    "#write the shapefile of watershed\n",
    "#df1.to_file(strWatershedShape_Path)\n",
    "\n",
    "strClip_Path = str(intCOMID) + '_dem_clip.tif'\n",
    "\n",
    "# re-project the clip polygon into same CRS as terrain raster\n",
    "#df1 = df1.to_crs(epsg=str_EPSG_Raster)\n",
    "df2 = df2.to_crs(epsg=3857)\n",
    "\n",
    "# Converts the buffer to a GeoJson version for rasterio\n",
    "# currently requests the first polygon in the geometry\n",
    "coords = getFeatures(df2,0)\n",
    "\n",
    "# Clip the raster with Polygon\n",
    "out_img, out_transform = mask(dataset=src, shapes=coords, crop=True)\n",
    "\n",
    "# Metadata for the clipped image\n",
    "# This uses the out_image height and width\n",
    "out_meta.update({\"driver\": \"GTiff\",\"height\":out_img.shape[1],\"width\":out_img.shape[2],\"transform\": out_transform,})\n",
    "\n",
    "with rasterio.open(strClip_Path, \"w\", **out_meta) as dest:\n",
    "    dest.write(out_img)"
   ]
  },
  {
   "cell_type": "markdown",
   "metadata": {},
   "source": [
    "***\n",
    "### 8.0 View Output"
   ]
  },
  {
   "cell_type": "code",
   "execution_count": null,
   "metadata": {},
   "outputs": [],
   "source": [
    "src2 = rasterio.open(strClip_Path)\n",
    "\n",
    "#print the raster\n",
    "fig, ax = plt.subplots(figsize=(8, 8))\n",
    "show(src2, cmap='terrain', ax=ax)"
   ]
  },
  {
   "cell_type": "markdown",
   "metadata": {},
   "source": [
    "***\n",
    "### 9.0 Delete the downloaded tiles"
   ]
  },
  {
   "cell_type": "code",
   "execution_count": null,
   "metadata": {},
   "outputs": [],
   "source": [
    "#removing existing files from working folder - if necessary\n",
    "intCount = 1\n",
    "for i in lst_terrainPaths:\n",
    "    strFileName = \"_\" + str(intCOMID) + '_TileImage_' + str(intCount) + '.tif'\n",
    "    strFilePath =  strPathDirectory + strFileName\n",
    "    if os.path.exists(strFilePath):\n",
    "        os.remove(strFilePath)\n",
    "    intCount += 1"
   ]
  },
  {
   "cell_type": "code",
   "execution_count": null,
   "metadata": {},
   "outputs": [],
   "source": [
    "if os.path.exists(strOutTiffPath):\n",
    "    os.remove(strOutTiffPath)"
   ]
  },
  {
   "cell_type": "code",
   "execution_count": null,
   "metadata": {},
   "outputs": [],
   "source": []
  }
 ],
 "metadata": {
  "kernelspec": {
   "display_name": "Python [conda env:pangeo]",
   "language": "python",
   "name": "conda-env-pangeo-py"
  },
  "language_info": {
   "codemirror_mode": {
    "name": "ipython",
    "version": 3
   },
   "file_extension": ".py",
   "mimetype": "text/x-python",
   "name": "python",
   "nbconvert_exporter": "python",
   "pygments_lexer": "ipython3",
   "version": "3.8.6"
  }
 },
 "nbformat": 4,
 "nbformat_minor": 4
}
