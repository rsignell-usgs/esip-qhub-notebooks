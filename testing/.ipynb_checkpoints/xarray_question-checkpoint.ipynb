{
 "cells": [
  {
   "cell_type": "code",
   "execution_count": null,
   "id": "3c539742-62cb-49d0-8bea-13e1fa2a1746",
   "metadata": {},
   "outputs": [],
   "source": [
    "import xarray as xr"
   ]
  },
  {
   "cell_type": "code",
   "execution_count": null,
   "id": "889e2dd8-74e1-4667-b932-fa83e930dde3",
   "metadata": {},
   "outputs": [],
   "source": [
    "da = xr.DataArray([10.2, 10.4, 10.3, 10.1], dims='lon')"
   ]
  },
  {
   "cell_type": "code",
   "execution_count": null,
   "id": "dfb52d74-d272-46ea-9821-f14599b4e10a",
   "metadata": {},
   "outputs": [],
   "source": [
    "ds = da.to_dataset(name='temp')"
   ]
  },
  {
   "cell_type": "code",
   "execution_count": null,
   "id": "3502506d-a18f-444c-bbea-d6fdc8569e72",
   "metadata": {},
   "outputs": [],
   "source": [
    "ds['Longitude'] = xr.DataArray([-73, -72, -71, -70], dims='Longitude')"
   ]
  },
  {
   "cell_type": "code",
   "execution_count": null,
   "id": "76cdb255-9d83-4cf6-bae6-da072182e789",
   "metadata": {},
   "outputs": [],
   "source": [
    "ds"
   ]
  },
  {
   "cell_type": "code",
   "execution_count": null,
   "id": "a6386a39-fb97-46e8-85fc-a8ac8dae3fa3",
   "metadata": {},
   "outputs": [],
   "source": []
  }
 ],
 "metadata": {
  "kernelspec": {
   "display_name": "Python [conda env:pangeo]",
   "language": "python",
   "name": "conda-env-pangeo-py"
  },
  "language_info": {
   "codemirror_mode": {
    "name": "ipython",
    "version": 3
   },
   "file_extension": ".py",
   "mimetype": "text/x-python",
   "name": "python",
   "nbconvert_exporter": "python",
   "pygments_lexer": "ipython3",
   "version": "3.9.7"
  }
 },
 "nbformat": 4,
 "nbformat_minor": 5
}
