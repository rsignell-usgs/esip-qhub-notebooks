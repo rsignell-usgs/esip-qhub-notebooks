{
 "cells": [
  {
   "cell_type": "markdown",
   "id": "6bd2f0f3-94c1-4a95-aadc-d4481abdb686",
   "metadata": {},
   "source": [
    "# Explore EBD Global SAR coherence"
   ]
  },
  {
   "cell_type": "code",
   "execution_count": null,
   "id": "546b1b8b-ac40-4791-808f-2f74cc5096a2",
   "metadata": {},
   "outputs": [],
   "source": [
    "import fsspec\n",
    "import xarray as xr\n",
    "import hvplot.xarray \n",
    "import imagecodecs.numcodecs"
   ]
  },
  {
   "cell_type": "code",
   "execution_count": null,
   "id": "72aa74af-d7de-4587-8346-18c25095f001",
   "metadata": {},
   "outputs": [],
   "source": [
    "imagecodecs.numcodecs.register_codecs()"
   ]
  },
  {
   "cell_type": "code",
   "execution_count": null,
   "id": "35c3679d-d211-4411-ae2c-66af208f7209",
   "metadata": {},
   "outputs": [],
   "source": [
    "import warnings\n",
    "warnings.filterwarnings(\"ignore\")"
   ]
  },
  {
   "cell_type": "code",
   "execution_count": null,
   "id": "710fb765-87fb-4599-99aa-68f6e7f50c84",
   "metadata": {},
   "outputs": [],
   "source": [
    "fs = fsspec.filesystem(\"reference\", fo=\"https://storage.googleapis.com/mdtemp/Global_COH2.json\", remote_protocol=\"http\")\n",
    "ds = xr.open_dataset(fs.get_mapper(\"\"), engine=\"zarr\", backend_kwargs={\"consolidated\": False})\n",
    "dssub=ds.sel(latitude=slice(42.5,41),longitude=slice(-72,-69.5))\n",
    "dssub.hvplot.quadmesh(x=\"longitude\", y=\"latitude\", rasterize=True, geo=True,cmap='spectral_r',frame_width=400)"
   ]
  },
  {
   "cell_type": "code",
   "execution_count": null,
   "id": "a9d54f1f-b492-4679-9a7b-a62d94668731",
   "metadata": {},
   "outputs": [],
   "source": [
    "import imagecodecs.numcodecs\n",
    "import fsspec\n",
    "import xarray\n",
    "\n",
    "imagecodecs.numcodecs.register_codecs()\n",
    "\n",
    "name = 'earthbigdata.json'\n",
    "\n",
    "mapper = fsspec.get_mapper(\n",
    "    'reference://',\n",
    "    fo=f'https://www.lfd.uci.edu/~gohlke/{name}',\n",
    "    target_protocol='http',\n",
    ")"
   ]
  },
  {
   "cell_type": "code",
   "execution_count": null,
   "id": "1e1780c6-feb7-4f81-aad7-a423e21db018",
   "metadata": {},
   "outputs": [],
   "source": [
    "%%time\n",
    "ds = xarray.open_dataset(\n",
    "    mapper, engine='zarr', backend_kwargs={'consolidated': False}\n",
    ")"
   ]
  },
  {
   "cell_type": "code",
   "execution_count": null,
   "id": "d6114eaa-1b05-4b80-a617-4bd14e93c2d0",
   "metadata": {},
   "outputs": [],
   "source": [
    "ds"
   ]
  },
  {
   "cell_type": "code",
   "execution_count": null,
   "id": "e4415f8b-7b8f-4119-a16c-e9d381091a02",
   "metadata": {},
   "outputs": [],
   "source": [
    "dssub = ds.COH.sel(latitude=slice(42.5,41),longitude=slice(-72,-69.5))\n",
    "dssub.hvplot.quadmesh(x=\"longitude\", y=\"latitude\", rasterize=True, geo=True,cmap='spectral_r',frame_width=400)"
   ]
  },
  {
   "cell_type": "code",
   "execution_count": null,
   "id": "487b9457-c53a-4ce5-9d5c-c7acb27fc9d4",
   "metadata": {},
   "outputs": [],
   "source": [
    "dssub"
   ]
  },
  {
   "cell_type": "code",
   "execution_count": null,
   "id": "fda6f229-c4ff-4581-b44b-7692f099a7ed",
   "metadata": {},
   "outputs": [],
   "source": [
    "dssub.max()"
   ]
  },
  {
   "cell_type": "code",
   "execution_count": null,
   "id": "889ea25b-3fb6-4550-ac95-e590ed81478c",
   "metadata": {},
   "outputs": [],
   "source": [
    "dssub.sel(coherence=12, season='winter').hvplot.quadmesh(rasterize=True)"
   ]
  },
  {
   "cell_type": "code",
   "execution_count": null,
   "id": "a7b05352-44bb-48f3-92cc-ac3605608975",
   "metadata": {},
   "outputs": [],
   "source": []
  }
 ],
 "metadata": {
  "kernelspec": {
   "display_name": "Python [conda env:pangeo]",
   "language": "python",
   "name": "conda-env-pangeo-py"
  },
  "language_info": {
   "codemirror_mode": {
    "name": "ipython",
    "version": 3
   },
   "file_extension": ".py",
   "mimetype": "text/x-python",
   "name": "python",
   "nbconvert_exporter": "python",
   "pygments_lexer": "ipython3",
   "version": "3.9.7"
  }
 },
 "nbformat": 4,
 "nbformat_minor": 5
}
