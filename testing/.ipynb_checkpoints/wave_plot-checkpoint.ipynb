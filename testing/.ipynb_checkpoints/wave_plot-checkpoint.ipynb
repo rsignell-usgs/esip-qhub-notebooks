{
 "cells": [
  {
   "cell_type": "code",
   "execution_count": null,
   "id": "d80a5181-9491-4b0c-a708-2f743887b830",
   "metadata": {},
   "outputs": [],
   "source": [
    "import xarray as xr\n",
    "import hvplot.xarray"
   ]
  },
  {
   "cell_type": "code",
   "execution_count": null,
   "id": "44113016-d59e-4552-bebd-246b4665b724",
   "metadata": {},
   "outputs": [],
   "source": [
    "stn = '192'\n",
    "data_url = 'http://thredds.cdip.ucsd.edu/thredds/dodsC/cdip/realtime/' + stn + 'p1_rt.nc'\n",
    "ds = xr.open_dataset(data_url)"
   ]
  },
  {
   "cell_type": "code",
   "execution_count": null,
   "id": "040d6a43-fcc5-4e2b-9c34-9b8a2f75a1f8",
   "metadata": {},
   "outputs": [],
   "source": [
    "ds"
   ]
  },
  {
   "cell_type": "code",
   "execution_count": null,
   "id": "ca6ce9f9-a9ab-4d19-b0d9-c0d65065cf04",
   "metadata": {},
   "outputs": [],
   "source": [
    "ds.waveTime"
   ]
  },
  {
   "cell_type": "code",
   "execution_count": null,
   "id": "fe800e74-65f2-4d8d-8f55-3e2340989336",
   "metadata": {},
   "outputs": [],
   "source": [
    "ds_sub = ds.sel(waveTime=slice('2021-09-01 00:00','2021-10-05 00:00'))"
   ]
  },
  {
   "cell_type": "code",
   "execution_count": null,
   "id": "0d6be74f-0a29-4de0-9208-81e5593133de",
   "metadata": {},
   "outputs": [],
   "source": [
    "ds_sub.waveHs.hvplot(x='waveTime', grid=True)"
   ]
  }
 ],
 "metadata": {
  "kernelspec": {
   "display_name": "Python [conda env:pangeo]",
   "language": "python",
   "name": "conda-env-pangeo-py"
  },
  "language_info": {
   "codemirror_mode": {
    "name": "ipython",
    "version": 3
   },
   "file_extension": ".py",
   "mimetype": "text/x-python",
   "name": "python",
   "nbconvert_exporter": "python",
   "pygments_lexer": "ipython3",
   "version": "3.9.7"
  }
 },
 "nbformat": 4,
 "nbformat_minor": 5
}
