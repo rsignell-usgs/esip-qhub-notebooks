{
 "cells": [
  {
   "cell_type": "markdown",
   "id": "f3a41a67-e7b4-4567-9f49-7282216e07b8",
   "metadata": {},
   "source": [
    "# Exploring SDO data"
   ]
  },
  {
   "cell_type": "code",
   "execution_count": null,
   "id": "9bad6590",
   "metadata": {},
   "outputs": [],
   "source": [
    "import intake\n",
    "import hvplot.xarray"
   ]
  },
  {
   "cell_type": "code",
   "execution_count": null,
   "id": "c3c9c60e-fbc8-41a8-ac33-7d0d3a889a0d",
   "metadata": {},
   "outputs": [],
   "source": [
    "import os\n",
    "import sys\n",
    "sys.path.append(os.path.join(os.environ['HOME'],'shared','users','lib'))\n",
    "import ebdpy as ebd\n",
    "\n",
    "ebd.set_credentials(profile='esip-qhub')\n",
    "\n",
    "profile = 'esip-qhub'\n",
    "region = 'us-west-2'\n",
    "endpoint = f's3.{region}.amazonaws.com'\n",
    "ebd.set_credentials(profile=profile, region=region, endpoint=endpoint)\n",
    "worker_max = 30\n",
    "client,cluster = ebd.start_dask_cluster(profile=profile,worker_max=worker_max, \n",
    "                                      region=region, use_existing_cluster=True,\n",
    "                                      adaptive_scaling=False, wait_for_cluster=False, \n",
    "                                      environment='pangeo', worker_profile='Pangeo Worker', \n",
    "                                      propagate_env=True)"
   ]
  },
  {
   "cell_type": "code",
   "execution_count": null,
   "id": "25c05857",
   "metadata": {},
   "outputs": [],
   "source": [
    "# import fsspec\n",
    "# fsspec.utils.setup_logging(logger_name=\"fsspec.reference\");"
   ]
  },
  {
   "cell_type": "code",
   "execution_count": null,
   "id": "25b832d8",
   "metadata": {},
   "outputs": [],
   "source": [
    "cat = intake.open_catalog(\"gcs://mdtemp/SDO.yaml\")"
   ]
  },
  {
   "cell_type": "code",
   "execution_count": null,
   "id": "d9e804ab",
   "metadata": {},
   "outputs": [],
   "source": [
    "ds = cat.SDO_no_coords.to_dask()"
   ]
  },
  {
   "cell_type": "code",
   "execution_count": null,
   "id": "b796814e",
   "metadata": {},
   "outputs": [],
   "source": [
    "import numpy as np\n",
    "ds = ds.assign_coords(x=np.arange(4096), y=np.arange(4096))"
   ]
  },
  {
   "cell_type": "code",
   "execution_count": null,
   "id": "80450785",
   "metadata": {},
   "outputs": [],
   "source": [
    "ds"
   ]
  },
  {
   "cell_type": "code",
   "execution_count": null,
   "id": "3111b1eb",
   "metadata": {},
   "outputs": [],
   "source": [
    "ds.nbytes / 2**30. # GB"
   ]
  },
  {
   "cell_type": "code",
   "execution_count": null,
   "id": "1a826fb8",
   "metadata": {},
   "outputs": [],
   "source": [
    "ds[\"094\"].hvplot.image(x='x', y='y', groupby='DATE-OBS', colormap=\"hot\", rasterize=True,  \n",
    "                frame_width=500,clim=(0, 50), data_aspect=1)"
   ]
  }
 ],
 "metadata": {
  "kernelspec": {
   "display_name": "Python [conda env:pangeo]",
   "language": "python",
   "name": "conda-env-pangeo-py"
  },
  "language_info": {
   "codemirror_mode": {
    "name": "ipython",
    "version": 3
   },
   "file_extension": ".py",
   "mimetype": "text/x-python",
   "name": "python",
   "nbconvert_exporter": "python",
   "pygments_lexer": "ipython3",
   "version": "3.9.7"
  }
 },
 "nbformat": 4,
 "nbformat_minor": 5
}
