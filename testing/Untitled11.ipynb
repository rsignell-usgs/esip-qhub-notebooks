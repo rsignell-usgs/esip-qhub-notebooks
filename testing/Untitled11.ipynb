{
 "cells": [
  {
   "cell_type": "code",
   "execution_count": null,
   "id": "ed22a6e9-a9dc-4d2e-9c5a-762c9227098c",
   "metadata": {},
   "outputs": [],
   "source": [
    "import pandas as pd\n",
    "import glob"
   ]
  },
  {
   "cell_type": "code",
   "execution_count": null,
   "id": "b482ac8f-85f0-4dd1-b57d-7c13f4d28634",
   "metadata": {},
   "outputs": [],
   "source": [
    "flist = glob.glob('*.ipynb')"
   ]
  },
  {
   "cell_type": "code",
   "execution_count": null,
   "id": "99e46030-9e06-4375-9e99-0efe5af70e3e",
   "metadata": {},
   "outputs": [],
   "source": [
    "rows_list = []\n",
    "\n",
    "for f in flist:\n",
    "\n",
    "        dict1 = {}\n",
    "        namelen = len(f)\n",
    "        dict1.update({'file':f, 'namelen':namelen}) \n",
    "\n",
    "        rows_list.append(dict1)\n",
    "\n",
    "df = pd.DataFrame(rows_list)   "
   ]
  },
  {
   "cell_type": "code",
   "execution_count": null,
   "id": "a3b2bc98-9f30-4bca-a945-8c1bbe6bee65",
   "metadata": {},
   "outputs": [],
   "source": [
    "df"
   ]
  },
  {
   "cell_type": "code",
   "execution_count": null,
   "id": "6aa163fd-3971-4a13-807d-9291a7723975",
   "metadata": {},
   "outputs": [],
   "source": []
  }
 ],
 "metadata": {
  "kernelspec": {
   "display_name": "Python [conda env:pangeo]",
   "language": "python",
   "name": "conda-env-pangeo-py"
  },
  "language_info": {
   "codemirror_mode": {
    "name": "ipython",
    "version": 3
   },
   "file_extension": ".py",
   "mimetype": "text/x-python",
   "name": "python",
   "nbconvert_exporter": "python",
   "pygments_lexer": "ipython3",
   "version": "3.8.10"
  }
 },
 "nbformat": 4,
 "nbformat_minor": 5
}
