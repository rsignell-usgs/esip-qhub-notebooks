{
 "cells": [
  {
   "cell_type": "code",
   "execution_count": null,
   "metadata": {},
   "outputs": [],
   "source": [
    "import xarray as xr\n",
    "import dask\n",
    "import matplotlib.pyplot as plt\n",
    "\n",
    "ds = xr.tutorial.open_dataset('air_temperature').load()\n",
    "\n",
    "@dask.delayed\n",
    "def plot(ds, time):\n",
    "    plt.figure()\n",
    "    ds.sel(time=time)['air'].plot()\n",
    "    plt.savefig(str(time)[:16])\n",
    "\n",
    "tasks = [plot(ds, time) for time in ds['time'].values]\n",
    "\n",
    "# just do first few \n",
    "dask.compute(tasks[:5], scheduler='processes', num_workers=4)"
   ]
  },
  {
   "cell_type": "code",
   "execution_count": null,
   "metadata": {},
   "outputs": [],
   "source": [
    "import xarray as xr\n",
    "import dask\n",
    "import matplotlib.pyplot as plt\n",
    "\n",
    "def plot(ds):\n",
    "    time = ds['time']\n",
    "    if sum(ds.shape) > 0:\n",
    "        plt.figure()\n",
    "        ds.plot()\n",
    "        plt.savefig(str(time.values[0])[:16])\n",
    "        plt.close()\n",
    "    return time\n",
    "\n",
    "ds = xr.tutorial.open_dataset('air_temperature').isel(\n",
    "    time=slice(0, 1000))\n",
    "tasks = ds['air'].chunk({\"time\": 1, \"lat\": -1, \"lon\": -1}).map_blocks(plot)\n",
    "tasks.compute(num_workers=4, scheduler='processes')"
   ]
  },
  {
   "cell_type": "code",
   "execution_count": null,
   "metadata": {},
   "outputs": [],
   "source": []
  }
 ],
 "metadata": {
  "kernelspec": {
   "display_name": "Python [conda env:pangeo]",
   "language": "python",
   "name": "conda-env-pangeo-py"
  },
  "language_info": {
   "codemirror_mode": {
    "name": "ipython",
    "version": 3
   },
   "file_extension": ".py",
   "mimetype": "text/x-python",
   "name": "python",
   "nbconvert_exporter": "python",
   "pygments_lexer": "ipython3",
   "version": "3.8.6"
  }
 },
 "nbformat": 4,
 "nbformat_minor": 4
}
