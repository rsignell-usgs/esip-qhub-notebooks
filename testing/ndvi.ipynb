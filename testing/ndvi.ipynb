{
 "cells": [
  {
   "cell_type": "code",
   "execution_count": 1,
   "id": "fd60fa22",
   "metadata": {},
   "outputs": [],
   "source": [
    "import dask\n",
    "import xarray as xr\n",
    "import rioxarray as rxr\n",
    "import numpy as np\n",
    "import fsspec"
   ]
  },
  {
   "cell_type": "code",
   "execution_count": 2,
   "id": "9b5b1983-86fb-454b-a8ce-3962f4a1bbfb",
   "metadata": {},
   "outputs": [],
   "source": [
    "import os\n",
    "os.environ['GDAL_DISABLE_READDIR_ON_OPEN']='EMPTY_DIR' #This is KEY! otherwise we send a bunch of HTTP GET requests to test for common sidecar metadata\n",
    "os.environ['AWS_NO_SIGN_REQUEST']='YES' #Since this is a public bucket, we don't need authentication\n",
    "os.environ['GDAL_MAX_RAW_BLOCK_CACHE_SIZE']='200000000'  #200MB: Want this to be greater than size of uncompressed raster to overcome a 10 MB limit in the GeoTIFF driver for range request merging.\n",
    "os.environ['GDAL_SWATH_SIZE']='200000000'  #also increase this if increasing MAX_RAW_BLOCK_CACHE_SIZE\n",
    "os.environ['VSI_CURL_CACHE_SIZE']='200000000' #also increase this if increasing MAX_RAW_BLOCK_CACHE_SIZE\n",
    "# Others?"
   ]
  },
  {
   "cell_type": "code",
   "execution_count": 3,
   "id": "dd940dfe-7709-4842-a99c-e2a17402f1b1",
   "metadata": {},
   "outputs": [],
   "source": [
    "fs = fsspec.filesystem('s3', anon=True, client_kwargs=dict(endpoint_url='https://mghp.osn.xsede.org'))"
   ]
  },
  {
   "cell_type": "code",
   "execution_count": 4,
   "id": "c76f42cc-21dc-498a-8399-29d748658d2c",
   "metadata": {},
   "outputs": [
    {
     "data": {
      "text/plain": [
       "['rsignellbucket1/testing/1998_cog.tif',\n",
       " 'rsignellbucket1/testing/ORTO_DIM_PER1_20161124154557_SEN_P_008258_COG.tif',\n",
       " 'rsignellbucket1/testing/p01_r02_leafon_composite_2018_final.tif',\n",
       " 'rsignellbucket1/testing/red.tif']"
      ]
     },
     "execution_count": 4,
     "metadata": {},
     "output_type": "execute_result"
    }
   ],
   "source": [
    "fs.glob('s3://rsignellbucket1/testing/*.tif')"
   ]
  },
  {
   "cell_type": "code",
   "execution_count": 5,
   "id": "a2256734-0395-401b-ac91-86e96d9fdd25",
   "metadata": {},
   "outputs": [],
   "source": [
    "url = 's3://rsignellbucket1/testing/1998_cog.tif'"
   ]
  },
  {
   "cell_type": "code",
   "execution_count": 6,
   "id": "9c5b2dee-2395-4807-baea-30f5977d01a2",
   "metadata": {},
   "outputs": [
    {
     "data": {
      "text/plain": [
       "9.546264722"
      ]
     },
     "execution_count": 6,
     "metadata": {},
     "output_type": "execute_result"
    }
   ],
   "source": [
    "fs.size(url)/1e9  # GB"
   ]
  },
  {
   "cell_type": "code",
   "execution_count": 7,
   "id": "d6562f56-cdbc-467c-95f1-b0848aaa693c",
   "metadata": {},
   "outputs": [],
   "source": [
    "url = 's3://rsignellbucket1/testing/p01_r02_leafon_composite_2018_final.tif'"
   ]
  },
  {
   "cell_type": "code",
   "execution_count": 8,
   "id": "8c389e3a-d617-4e5a-b3b1-3a428a8b8944",
   "metadata": {},
   "outputs": [
    {
     "data": {
      "text/plain": [
       "11.550736318"
      ]
     },
     "execution_count": 8,
     "metadata": {},
     "output_type": "execute_result"
    }
   ],
   "source": [
    "fs.size(url)/1e9  # GB"
   ]
  },
  {
   "cell_type": "code",
   "execution_count": 9,
   "id": "afdad1b6-06b9-4c0d-a8d8-cfcad2a50580",
   "metadata": {},
   "outputs": [],
   "source": [
    "url = 'https://mghp.osn.xsede.org/rsignellbucket1/testing/p01_r02_leafon_composite_2018_final.tif'"
   ]
  },
  {
   "cell_type": "code",
   "execution_count": 10,
   "id": "60fbdd5c-6bb0-4c7c-be25-d91ca2028bb3",
   "metadata": {},
   "outputs": [],
   "source": [
    "da = rxr.open_rasterio(url, chunks={'x':30900, 'y':1024, 'band':1})"
   ]
  },
  {
   "cell_type": "code",
   "execution_count": 11,
   "id": "33d67f37-5050-46fd-9c81-8e4343b9253f",
   "metadata": {},
   "outputs": [
    {
     "name": "stdout",
     "output_type": "stream",
     "text": [
      "CPU times: user 675 ms, sys: 281 ms, total: 956 ms\n",
      "Wall time: 3.57 s\n"
     ]
    }
   ],
   "source": [
    "%%time\n",
    "_ = da[:30900,:1024,0].load()"
   ]
  },
  {
   "cell_type": "code",
   "execution_count": 13,
   "id": "421376f5-af07-41f7-aef0-a6200073b503",
   "metadata": {},
   "outputs": [
    {
     "data": {
      "text/plain": [
       "17.2422"
      ]
     },
     "execution_count": 13,
     "metadata": {},
     "output_type": "execute_result"
    }
   ],
   "source": [
    "da.nbytes/1e9"
   ]
  },
  {
   "cell_type": "code",
   "execution_count": null,
   "id": "b403e6bc-8186-4e5f-a077-fc552ad336b3",
   "metadata": {},
   "outputs": [],
   "source": [
    "da"
   ]
  },
  {
   "cell_type": "code",
   "execution_count": 12,
   "id": "0a435e47-bfbf-4b78-8787-aa0361efd979",
   "metadata": {},
   "outputs": [],
   "source": [
    "ndvi = (da.sel(band=4) - da.sel(band=3)) / (da.sel(band=4) + da.sel(band=3))"
   ]
  },
  {
   "cell_type": "code",
   "execution_count": 14,
   "id": "863e4b8f-ac7f-4e60-adbc-87ac695ebfd3",
   "metadata": {},
   "outputs": [],
   "source": [
    "def configure_cluster(machine):\n",
    "    ''' Helper function to configure cluster\n",
    "    '''\n",
    "    if machine == 'denali':\n",
    "        from dask.distributed import LocalCluster, Client\n",
    "        cluster = LocalCluster(threads_per_worker=1)\n",
    "        client = Client(cluster)\n",
    "    \n",
    "    elif machine == 'tallgrass':\n",
    "        from dask.distributed import Client\n",
    "        from dask_jobqueue import SLURMCluster\n",
    "        cluster = SLURMCluster(queue='cpu', cores=1, interface='ib0',\n",
    "                               job_extra=['--nodes=1', '--ntasks-per-node=1', '--cpus-per-task=1'],\n",
    "                               memory='6GB')\n",
    "        cluster.adapt(maximum_jobs=30)\n",
    "        client = Client(cluster)\n",
    "        \n",
    "    elif machine == 'local':\n",
    "        import os\n",
    "        import warnings\n",
    "        warnings.warn(\"Running locally can result in costly data transfers!\\n\")\n",
    "        n_cores = os.cpu_count() # set to match your machine\n",
    "        cluster = LocalCluster(threads_per_worker=n_cores)\n",
    "        client = Client(cluster)\n",
    "        \n",
    "    elif machine in ['esip-qhub-gateway-v0.4']:   \n",
    "        import sys, os\n",
    "        sys.path.append(os.path.join(os.environ['HOME'],'shared','users','lib'))\n",
    "        import ebdpy as ebd\n",
    "        aws_profile = 'esip-qhub'\n",
    "        ebd.set_credentials(profile=aws_profile)\n",
    "\n",
    "        aws_region = 'us-west-2'\n",
    "        endpoint = f's3.{aws_region}.amazonaws.com'\n",
    "        ebd.set_credentials(profile=aws_profile, region=aws_region, endpoint=endpoint)\n",
    "        worker_max = 30\n",
    "        client,cluster = ebd.start_dask_cluster(profile=aws_profile, worker_max=worker_max, \n",
    "                                              region=aws_region, use_existing_cluster=True,\n",
    "                                              adaptive_scaling=False, wait_for_cluster=False, \n",
    "                                              worker_profile='Medium Worker', propagate_env=True)\n",
    "        \n",
    "    return client, cluster"
   ]
  },
  {
   "cell_type": "code",
   "execution_count": 23,
   "id": "203af825-a27d-4d8a-a146-191957d403a4",
   "metadata": {},
   "outputs": [
    {
     "name": "stdout",
     "output_type": "stream",
     "text": [
      "Region: us-west-2\n",
      "Existing Dask clusters:\n",
      "Cluster Index c_idx: 0 / Name: dev.9f4a47fe0ce449d98325a5b3f66c4829 ClusterStatus.RUNNING\n",
      "Using existing cluster [0].\n",
      "Setting Fixed Scaling workers=30\n",
      "Reconnect client to clear cache\n",
      "client.dashboard_link (for new browser tab/window or dashboard searchbar in Jupyterhub):\n",
      "https://jupyter.qhub.esipfed.org/gateway/clusters/dev.9f4a47fe0ce449d98325a5b3f66c4829/status\n",
      "Propagating environment variables to workers\n",
      "Using environment: users/pangeo\n"
     ]
    }
   ],
   "source": [
    "machine = 'esip-qhub-gateway-v0.4'\n",
    "client, cluster = configure_cluster(machine)"
   ]
  },
  {
   "cell_type": "code",
   "execution_count": 31,
   "id": "83903e7a-8f8b-4036-b2d0-68000cc42ed1",
   "metadata": {},
   "outputs": [],
   "source": [
    "fs_write = fsspec.filesystem('s3', anon=False)"
   ]
  },
  {
   "cell_type": "code",
   "execution_count": 17,
   "id": "0c572532-157c-4abd-b4c7-e6701977152b",
   "metadata": {},
   "outputs": [
    {
     "name": "stdout",
     "output_type": "stream",
     "text": [
      "CPU times: user 171 µs, sys: 49 µs, total: 220 µs\n",
      "Wall time: 225 µs\n"
     ]
    }
   ],
   "source": [
    "%%time\n",
    "ds_ndvi = ndvi.to_dataset(name='ndvi')"
   ]
  },
  {
   "cell_type": "code",
   "execution_count": 18,
   "id": "2434cfe1-3426-4317-b022-ddb3a6e027ca",
   "metadata": {},
   "outputs": [
    {
     "data": {
      "text/plain": [
       "{}"
      ]
     },
     "execution_count": 18,
     "metadata": {},
     "output_type": "execute_result"
    }
   ],
   "source": [
    "ds_ndvi.ndvi.encoding"
   ]
  },
  {
   "cell_type": "code",
   "execution_count": 19,
   "id": "e2802bbc-2e88-4d90-8282-6e07b51b0c14",
   "metadata": {},
   "outputs": [],
   "source": [
    "import zarr\n",
    "compressor = zarr.Blosc(cname=\"zstd\", clevel=3, shuffle=2)"
   ]
  },
  {
   "cell_type": "code",
   "execution_count": 20,
   "id": "31f536f8-85d4-4828-afc5-972c1c735594",
   "metadata": {},
   "outputs": [],
   "source": [
    "encoding = {'ndvi':dict(compressor=compressor, chunks=(30900,1024,1))}"
   ]
  },
  {
   "cell_type": "code",
   "execution_count": 22,
   "id": "eb55edd0-7839-43bf-b003-b917c42c7811",
   "metadata": {},
   "outputs": [
    {
     "data": {
      "text/html": [
       "<div><svg style=\"position: absolute; width: 0; height: 0; overflow: hidden\">\n",
       "<defs>\n",
       "<symbol id=\"icon-database\" viewBox=\"0 0 32 32\">\n",
       "<path d=\"M16 0c-8.837 0-16 2.239-16 5v4c0 2.761 7.163 5 16 5s16-2.239 16-5v-4c0-2.761-7.163-5-16-5z\"></path>\n",
       "<path d=\"M16 17c-8.837 0-16-2.239-16-5v6c0 2.761 7.163 5 16 5s16-2.239 16-5v-6c0 2.761-7.163 5-16 5z\"></path>\n",
       "<path d=\"M16 26c-8.837 0-16-2.239-16-5v6c0 2.761 7.163 5 16 5s16-2.239 16-5v-6c0 2.761-7.163 5-16 5z\"></path>\n",
       "</symbol>\n",
       "<symbol id=\"icon-file-text2\" viewBox=\"0 0 32 32\">\n",
       "<path d=\"M28.681 7.159c-0.694-0.947-1.662-2.053-2.724-3.116s-2.169-2.030-3.116-2.724c-1.612-1.182-2.393-1.319-2.841-1.319h-15.5c-1.378 0-2.5 1.121-2.5 2.5v27c0 1.378 1.122 2.5 2.5 2.5h23c1.378 0 2.5-1.122 2.5-2.5v-19.5c0-0.448-0.137-1.23-1.319-2.841zM24.543 5.457c0.959 0.959 1.712 1.825 2.268 2.543h-4.811v-4.811c0.718 0.556 1.584 1.309 2.543 2.268zM28 29.5c0 0.271-0.229 0.5-0.5 0.5h-23c-0.271 0-0.5-0.229-0.5-0.5v-27c0-0.271 0.229-0.5 0.5-0.5 0 0 15.499-0 15.5 0v7c0 0.552 0.448 1 1 1h7v19.5z\"></path>\n",
       "<path d=\"M23 26h-14c-0.552 0-1-0.448-1-1s0.448-1 1-1h14c0.552 0 1 0.448 1 1s-0.448 1-1 1z\"></path>\n",
       "<path d=\"M23 22h-14c-0.552 0-1-0.448-1-1s0.448-1 1-1h14c0.552 0 1 0.448 1 1s-0.448 1-1 1z\"></path>\n",
       "<path d=\"M23 18h-14c-0.552 0-1-0.448-1-1s0.448-1 1-1h14c0.552 0 1 0.448 1 1s-0.448 1-1 1z\"></path>\n",
       "</symbol>\n",
       "</defs>\n",
       "</svg>\n",
       "<style>/* CSS stylesheet for displaying xarray objects in jupyterlab.\n",
       " *\n",
       " */\n",
       "\n",
       ":root {\n",
       "  --xr-font-color0: var(--jp-content-font-color0, rgba(0, 0, 0, 1));\n",
       "  --xr-font-color2: var(--jp-content-font-color2, rgba(0, 0, 0, 0.54));\n",
       "  --xr-font-color3: var(--jp-content-font-color3, rgba(0, 0, 0, 0.38));\n",
       "  --xr-border-color: var(--jp-border-color2, #e0e0e0);\n",
       "  --xr-disabled-color: var(--jp-layout-color3, #bdbdbd);\n",
       "  --xr-background-color: var(--jp-layout-color0, white);\n",
       "  --xr-background-color-row-even: var(--jp-layout-color1, white);\n",
       "  --xr-background-color-row-odd: var(--jp-layout-color2, #eeeeee);\n",
       "}\n",
       "\n",
       "html[theme=dark],\n",
       "body.vscode-dark {\n",
       "  --xr-font-color0: rgba(255, 255, 255, 1);\n",
       "  --xr-font-color2: rgba(255, 255, 255, 0.54);\n",
       "  --xr-font-color3: rgba(255, 255, 255, 0.38);\n",
       "  --xr-border-color: #1F1F1F;\n",
       "  --xr-disabled-color: #515151;\n",
       "  --xr-background-color: #111111;\n",
       "  --xr-background-color-row-even: #111111;\n",
       "  --xr-background-color-row-odd: #313131;\n",
       "}\n",
       "\n",
       ".xr-wrap {\n",
       "  display: block !important;\n",
       "  min-width: 300px;\n",
       "  max-width: 700px;\n",
       "}\n",
       "\n",
       ".xr-text-repr-fallback {\n",
       "  /* fallback to plain text repr when CSS is not injected (untrusted notebook) */\n",
       "  display: none;\n",
       "}\n",
       "\n",
       ".xr-header {\n",
       "  padding-top: 6px;\n",
       "  padding-bottom: 6px;\n",
       "  margin-bottom: 4px;\n",
       "  border-bottom: solid 1px var(--xr-border-color);\n",
       "}\n",
       "\n",
       ".xr-header > div,\n",
       ".xr-header > ul {\n",
       "  display: inline;\n",
       "  margin-top: 0;\n",
       "  margin-bottom: 0;\n",
       "}\n",
       "\n",
       ".xr-obj-type,\n",
       ".xr-array-name {\n",
       "  margin-left: 2px;\n",
       "  margin-right: 10px;\n",
       "}\n",
       "\n",
       ".xr-obj-type {\n",
       "  color: var(--xr-font-color2);\n",
       "}\n",
       "\n",
       ".xr-sections {\n",
       "  padding-left: 0 !important;\n",
       "  display: grid;\n",
       "  grid-template-columns: 150px auto auto 1fr 20px 20px;\n",
       "}\n",
       "\n",
       ".xr-section-item {\n",
       "  display: contents;\n",
       "}\n",
       "\n",
       ".xr-section-item input {\n",
       "  display: none;\n",
       "}\n",
       "\n",
       ".xr-section-item input + label {\n",
       "  color: var(--xr-disabled-color);\n",
       "}\n",
       "\n",
       ".xr-section-item input:enabled + label {\n",
       "  cursor: pointer;\n",
       "  color: var(--xr-font-color2);\n",
       "}\n",
       "\n",
       ".xr-section-item input:enabled + label:hover {\n",
       "  color: var(--xr-font-color0);\n",
       "}\n",
       "\n",
       ".xr-section-summary {\n",
       "  grid-column: 1;\n",
       "  color: var(--xr-font-color2);\n",
       "  font-weight: 500;\n",
       "}\n",
       "\n",
       ".xr-section-summary > span {\n",
       "  display: inline-block;\n",
       "  padding-left: 0.5em;\n",
       "}\n",
       "\n",
       ".xr-section-summary-in:disabled + label {\n",
       "  color: var(--xr-font-color2);\n",
       "}\n",
       "\n",
       ".xr-section-summary-in + label:before {\n",
       "  display: inline-block;\n",
       "  content: '►';\n",
       "  font-size: 11px;\n",
       "  width: 15px;\n",
       "  text-align: center;\n",
       "}\n",
       "\n",
       ".xr-section-summary-in:disabled + label:before {\n",
       "  color: var(--xr-disabled-color);\n",
       "}\n",
       "\n",
       ".xr-section-summary-in:checked + label:before {\n",
       "  content: '▼';\n",
       "}\n",
       "\n",
       ".xr-section-summary-in:checked + label > span {\n",
       "  display: none;\n",
       "}\n",
       "\n",
       ".xr-section-summary,\n",
       ".xr-section-inline-details {\n",
       "  padding-top: 4px;\n",
       "  padding-bottom: 4px;\n",
       "}\n",
       "\n",
       ".xr-section-inline-details {\n",
       "  grid-column: 2 / -1;\n",
       "}\n",
       "\n",
       ".xr-section-details {\n",
       "  display: none;\n",
       "  grid-column: 1 / -1;\n",
       "  margin-bottom: 5px;\n",
       "}\n",
       "\n",
       ".xr-section-summary-in:checked ~ .xr-section-details {\n",
       "  display: contents;\n",
       "}\n",
       "\n",
       ".xr-array-wrap {\n",
       "  grid-column: 1 / -1;\n",
       "  display: grid;\n",
       "  grid-template-columns: 20px auto;\n",
       "}\n",
       "\n",
       ".xr-array-wrap > label {\n",
       "  grid-column: 1;\n",
       "  vertical-align: top;\n",
       "}\n",
       "\n",
       ".xr-preview {\n",
       "  color: var(--xr-font-color3);\n",
       "}\n",
       "\n",
       ".xr-array-preview,\n",
       ".xr-array-data {\n",
       "  padding: 0 5px !important;\n",
       "  grid-column: 2;\n",
       "}\n",
       "\n",
       ".xr-array-data,\n",
       ".xr-array-in:checked ~ .xr-array-preview {\n",
       "  display: none;\n",
       "}\n",
       "\n",
       ".xr-array-in:checked ~ .xr-array-data,\n",
       ".xr-array-preview {\n",
       "  display: inline-block;\n",
       "}\n",
       "\n",
       ".xr-dim-list {\n",
       "  display: inline-block !important;\n",
       "  list-style: none;\n",
       "  padding: 0 !important;\n",
       "  margin: 0;\n",
       "}\n",
       "\n",
       ".xr-dim-list li {\n",
       "  display: inline-block;\n",
       "  padding: 0;\n",
       "  margin: 0;\n",
       "}\n",
       "\n",
       ".xr-dim-list:before {\n",
       "  content: '(';\n",
       "}\n",
       "\n",
       ".xr-dim-list:after {\n",
       "  content: ')';\n",
       "}\n",
       "\n",
       ".xr-dim-list li:not(:last-child):after {\n",
       "  content: ',';\n",
       "  padding-right: 5px;\n",
       "}\n",
       "\n",
       ".xr-has-index {\n",
       "  font-weight: bold;\n",
       "}\n",
       "\n",
       ".xr-var-list,\n",
       ".xr-var-item {\n",
       "  display: contents;\n",
       "}\n",
       "\n",
       ".xr-var-item > div,\n",
       ".xr-var-item label,\n",
       ".xr-var-item > .xr-var-name span {\n",
       "  background-color: var(--xr-background-color-row-even);\n",
       "  margin-bottom: 0;\n",
       "}\n",
       "\n",
       ".xr-var-item > .xr-var-name:hover span {\n",
       "  padding-right: 5px;\n",
       "}\n",
       "\n",
       ".xr-var-list > li:nth-child(odd) > div,\n",
       ".xr-var-list > li:nth-child(odd) > label,\n",
       ".xr-var-list > li:nth-child(odd) > .xr-var-name span {\n",
       "  background-color: var(--xr-background-color-row-odd);\n",
       "}\n",
       "\n",
       ".xr-var-name {\n",
       "  grid-column: 1;\n",
       "}\n",
       "\n",
       ".xr-var-dims {\n",
       "  grid-column: 2;\n",
       "}\n",
       "\n",
       ".xr-var-dtype {\n",
       "  grid-column: 3;\n",
       "  text-align: right;\n",
       "  color: var(--xr-font-color2);\n",
       "}\n",
       "\n",
       ".xr-var-preview {\n",
       "  grid-column: 4;\n",
       "}\n",
       "\n",
       ".xr-var-name,\n",
       ".xr-var-dims,\n",
       ".xr-var-dtype,\n",
       ".xr-preview,\n",
       ".xr-attrs dt {\n",
       "  white-space: nowrap;\n",
       "  overflow: hidden;\n",
       "  text-overflow: ellipsis;\n",
       "  padding-right: 10px;\n",
       "}\n",
       "\n",
       ".xr-var-name:hover,\n",
       ".xr-var-dims:hover,\n",
       ".xr-var-dtype:hover,\n",
       ".xr-attrs dt:hover {\n",
       "  overflow: visible;\n",
       "  width: auto;\n",
       "  z-index: 1;\n",
       "}\n",
       "\n",
       ".xr-var-attrs,\n",
       ".xr-var-data {\n",
       "  display: none;\n",
       "  background-color: var(--xr-background-color) !important;\n",
       "  padding-bottom: 5px !important;\n",
       "}\n",
       "\n",
       ".xr-var-attrs-in:checked ~ .xr-var-attrs,\n",
       ".xr-var-data-in:checked ~ .xr-var-data {\n",
       "  display: block;\n",
       "}\n",
       "\n",
       ".xr-var-data > table {\n",
       "  float: right;\n",
       "}\n",
       "\n",
       ".xr-var-name span,\n",
       ".xr-var-data,\n",
       ".xr-attrs {\n",
       "  padding-left: 25px !important;\n",
       "}\n",
       "\n",
       ".xr-attrs,\n",
       ".xr-var-attrs,\n",
       ".xr-var-data {\n",
       "  grid-column: 1 / -1;\n",
       "}\n",
       "\n",
       "dl.xr-attrs {\n",
       "  padding: 0;\n",
       "  margin: 0;\n",
       "  display: grid;\n",
       "  grid-template-columns: 125px auto;\n",
       "}\n",
       "\n",
       ".xr-attrs dt,\n",
       ".xr-attrs dd {\n",
       "  padding: 0;\n",
       "  margin: 0;\n",
       "  float: left;\n",
       "  padding-right: 10px;\n",
       "  width: auto;\n",
       "}\n",
       "\n",
       ".xr-attrs dt {\n",
       "  font-weight: normal;\n",
       "  grid-column: 1;\n",
       "}\n",
       "\n",
       ".xr-attrs dt:hover span {\n",
       "  display: inline-block;\n",
       "  background: var(--xr-background-color);\n",
       "  padding-right: 10px;\n",
       "}\n",
       "\n",
       ".xr-attrs dd {\n",
       "  grid-column: 2;\n",
       "  white-space: pre-wrap;\n",
       "  word-break: break-all;\n",
       "}\n",
       "\n",
       ".xr-icon-database,\n",
       ".xr-icon-file-text2 {\n",
       "  display: inline-block;\n",
       "  vertical-align: middle;\n",
       "  width: 1em;\n",
       "  height: 1.5em !important;\n",
       "  stroke-width: 0;\n",
       "  stroke: currentColor;\n",
       "  fill: currentColor;\n",
       "}\n",
       "</style><pre class='xr-text-repr-fallback'>&lt;xarray.Dataset&gt;\n",
       "Dimensions:      (x: 30900, y: 46500)\n",
       "Coordinates:\n",
       "  * x            (x) float64 -2.149e+06 -2.149e+06 ... -1.222e+06 -1.222e+06\n",
       "  * y            (y) float64 3.111e+06 3.111e+06 ... 1.716e+06 1.716e+06\n",
       "    spatial_ref  int64 0\n",
       "Data variables:\n",
       "    ndvi         (y, x) float64 dask.array&lt;chunksize=(1024, 30900), meta=np.ndarray&gt;</pre><div class='xr-wrap' style='display:none'><div class='xr-header'><div class='xr-obj-type'>xarray.Dataset</div></div><ul class='xr-sections'><li class='xr-section-item'><input id='section-d1fb97d0-b720-4f31-92e7-ed590d68587e' class='xr-section-summary-in' type='checkbox' disabled ><label for='section-d1fb97d0-b720-4f31-92e7-ed590d68587e' class='xr-section-summary'  title='Expand/collapse section'>Dimensions:</label><div class='xr-section-inline-details'><ul class='xr-dim-list'><li><span class='xr-has-index'>x</span>: 30900</li><li><span class='xr-has-index'>y</span>: 46500</li></ul></div><div class='xr-section-details'></div></li><li class='xr-section-item'><input id='section-1624eb65-a35b-47c7-abe8-6d2f6a3f4e04' class='xr-section-summary-in' type='checkbox'  checked><label for='section-1624eb65-a35b-47c7-abe8-6d2f6a3f4e04' class='xr-section-summary' >Coordinates: <span>(3)</span></label><div class='xr-section-inline-details'></div><div class='xr-section-details'><ul class='xr-var-list'><li class='xr-var-item'><div class='xr-var-name'><span class='xr-has-index'>x</span></div><div class='xr-var-dims'>(x)</div><div class='xr-var-dtype'>float64</div><div class='xr-var-preview xr-preview'>-2.149e+06 ... -1.222e+06</div><input id='attrs-58240c3b-8f61-4dc6-864a-47ca9ce31e68' class='xr-var-attrs-in' type='checkbox' disabled><label for='attrs-58240c3b-8f61-4dc6-864a-47ca9ce31e68' title='Show/Hide attributes'><svg class='icon xr-icon-file-text2'><use xlink:href='#icon-file-text2'></use></svg></label><input id='data-ae1d8552-1cb8-453e-a6b3-fcf31a09f011' class='xr-var-data-in' type='checkbox'><label for='data-ae1d8552-1cb8-453e-a6b3-fcf31a09f011' title='Show/Hide data repr'><svg class='icon xr-icon-database'><use xlink:href='#icon-database'></use></svg></label><div class='xr-var-attrs'><dl class='xr-attrs'></dl></div><div class='xr-var-data'><pre>array([-2148570., -2148540., -2148510., ..., -1221660., -1221630., -1221600.])</pre></div></li><li class='xr-var-item'><div class='xr-var-name'><span class='xr-has-index'>y</span></div><div class='xr-var-dims'>(y)</div><div class='xr-var-dtype'>float64</div><div class='xr-var-preview xr-preview'>3.111e+06 3.111e+06 ... 1.716e+06</div><input id='attrs-18cc4991-8766-443b-ad9b-753a4f462437' class='xr-var-attrs-in' type='checkbox' disabled><label for='attrs-18cc4991-8766-443b-ad9b-753a4f462437' title='Show/Hide attributes'><svg class='icon xr-icon-file-text2'><use xlink:href='#icon-file-text2'></use></svg></label><input id='data-3cf2b342-1418-45f4-bfc6-2842e618ac0f' class='xr-var-data-in' type='checkbox'><label for='data-3cf2b342-1418-45f4-bfc6-2842e618ac0f' title='Show/Hide data repr'><svg class='icon xr-icon-database'><use xlink:href='#icon-database'></use></svg></label><div class='xr-var-attrs'><dl class='xr-attrs'></dl></div><div class='xr-var-data'><pre>array([3110790., 3110760., 3110730., ..., 1715880., 1715850., 1715820.])</pre></div></li><li class='xr-var-item'><div class='xr-var-name'><span>spatial_ref</span></div><div class='xr-var-dims'>()</div><div class='xr-var-dtype'>int64</div><div class='xr-var-preview xr-preview'>0</div><input id='attrs-b988de48-c662-4d44-a0bb-f7ba0579e612' class='xr-var-attrs-in' type='checkbox' ><label for='attrs-b988de48-c662-4d44-a0bb-f7ba0579e612' title='Show/Hide attributes'><svg class='icon xr-icon-file-text2'><use xlink:href='#icon-file-text2'></use></svg></label><input id='data-08c3dad3-8b78-455f-9007-a11f03779782' class='xr-var-data-in' type='checkbox'><label for='data-08c3dad3-8b78-455f-9007-a11f03779782' title='Show/Hide data repr'><svg class='icon xr-icon-database'><use xlink:href='#icon-database'></use></svg></label><div class='xr-var-attrs'><dl class='xr-attrs'><dt><span>crs_wkt :</span></dt><dd>PROJCS[&quot;WGS_1984_Albers&quot;,GEOGCS[&quot;WGS 84&quot;,DATUM[&quot;WGS_1984&quot;,SPHEROID[&quot;WGS 84&quot;,6378137,298.257223563,AUTHORITY[&quot;EPSG&quot;,&quot;7030&quot;]],AUTHORITY[&quot;EPSG&quot;,&quot;6326&quot;]],PRIMEM[&quot;Greenwich&quot;,0],UNIT[&quot;degree&quot;,0.0174532925199433,AUTHORITY[&quot;EPSG&quot;,&quot;9122&quot;]],AUTHORITY[&quot;EPSG&quot;,&quot;4326&quot;]],PROJECTION[&quot;Albers_Conic_Equal_Area&quot;],PARAMETER[&quot;latitude_of_center&quot;,23],PARAMETER[&quot;longitude_of_center&quot;,-96],PARAMETER[&quot;standard_parallel_1&quot;,29.5],PARAMETER[&quot;standard_parallel_2&quot;,45.5],PARAMETER[&quot;false_easting&quot;,0],PARAMETER[&quot;false_northing&quot;,0],UNIT[&quot;metre&quot;,1,AUTHORITY[&quot;EPSG&quot;,&quot;9001&quot;]],AXIS[&quot;Easting&quot;,EAST],AXIS[&quot;Northing&quot;,NORTH]]</dd><dt><span>semi_major_axis :</span></dt><dd>6378137.0</dd><dt><span>semi_minor_axis :</span></dt><dd>6356752.314245179</dd><dt><span>inverse_flattening :</span></dt><dd>298.257223563</dd><dt><span>reference_ellipsoid_name :</span></dt><dd>WGS 84</dd><dt><span>longitude_of_prime_meridian :</span></dt><dd>0.0</dd><dt><span>prime_meridian_name :</span></dt><dd>Greenwich</dd><dt><span>geographic_crs_name :</span></dt><dd>WGS 84</dd><dt><span>horizontal_datum_name :</span></dt><dd>World Geodetic System 1984</dd><dt><span>projected_crs_name :</span></dt><dd>WGS_1984_Albers</dd><dt><span>grid_mapping_name :</span></dt><dd>albers_conical_equal_area</dd><dt><span>standard_parallel :</span></dt><dd>(29.5, 45.5)</dd><dt><span>latitude_of_projection_origin :</span></dt><dd>23.0</dd><dt><span>longitude_of_central_meridian :</span></dt><dd>-96.0</dd><dt><span>false_easting :</span></dt><dd>0.0</dd><dt><span>false_northing :</span></dt><dd>0.0</dd><dt><span>spatial_ref :</span></dt><dd>PROJCS[&quot;WGS_1984_Albers&quot;,GEOGCS[&quot;WGS 84&quot;,DATUM[&quot;WGS_1984&quot;,SPHEROID[&quot;WGS 84&quot;,6378137,298.257223563,AUTHORITY[&quot;EPSG&quot;,&quot;7030&quot;]],AUTHORITY[&quot;EPSG&quot;,&quot;6326&quot;]],PRIMEM[&quot;Greenwich&quot;,0],UNIT[&quot;degree&quot;,0.0174532925199433,AUTHORITY[&quot;EPSG&quot;,&quot;9122&quot;]],AUTHORITY[&quot;EPSG&quot;,&quot;4326&quot;]],PROJECTION[&quot;Albers_Conic_Equal_Area&quot;],PARAMETER[&quot;latitude_of_center&quot;,23],PARAMETER[&quot;longitude_of_center&quot;,-96],PARAMETER[&quot;standard_parallel_1&quot;,29.5],PARAMETER[&quot;standard_parallel_2&quot;,45.5],PARAMETER[&quot;false_easting&quot;,0],PARAMETER[&quot;false_northing&quot;,0],UNIT[&quot;metre&quot;,1,AUTHORITY[&quot;EPSG&quot;,&quot;9001&quot;]],AXIS[&quot;Easting&quot;,EAST],AXIS[&quot;Northing&quot;,NORTH]]</dd><dt><span>GeoTransform :</span></dt><dd>-2148585.0 30.0 0.0 3110805.0 0.0 -30.0</dd></dl></div><div class='xr-var-data'><pre>array(0)</pre></div></li></ul></div></li><li class='xr-section-item'><input id='section-e5091475-69f5-413d-954c-04541e905569' class='xr-section-summary-in' type='checkbox'  checked><label for='section-e5091475-69f5-413d-954c-04541e905569' class='xr-section-summary' >Data variables: <span>(1)</span></label><div class='xr-section-inline-details'></div><div class='xr-section-details'><ul class='xr-var-list'><li class='xr-var-item'><div class='xr-var-name'><span>ndvi</span></div><div class='xr-var-dims'>(y, x)</div><div class='xr-var-dtype'>float64</div><div class='xr-var-preview xr-preview'>dask.array&lt;chunksize=(1024, 30900), meta=np.ndarray&gt;</div><input id='attrs-37143b25-0401-4f99-a9a3-bff794b887f8' class='xr-var-attrs-in' type='checkbox' disabled><label for='attrs-37143b25-0401-4f99-a9a3-bff794b887f8' title='Show/Hide attributes'><svg class='icon xr-icon-file-text2'><use xlink:href='#icon-file-text2'></use></svg></label><input id='data-997ee59a-ca28-4387-bcdd-3a22f3a6305f' class='xr-var-data-in' type='checkbox'><label for='data-997ee59a-ca28-4387-bcdd-3a22f3a6305f' title='Show/Hide data repr'><svg class='icon xr-icon-database'><use xlink:href='#icon-database'></use></svg></label><div class='xr-var-attrs'><dl class='xr-attrs'></dl></div><div class='xr-var-data'><table>\n",
       "    <tr>\n",
       "        <td>\n",
       "            <table>\n",
       "                <thead>\n",
       "                    <tr>\n",
       "                        <td> </td>\n",
       "                        <th> Array </th>\n",
       "                        <th> Chunk </th>\n",
       "                    </tr>\n",
       "                </thead>\n",
       "                <tbody>\n",
       "                    \n",
       "                    <tr>\n",
       "                        <th> Bytes </th>\n",
       "                        <td> 10.71 GiB </td>\n",
       "                        <td> 241.41 MiB </td>\n",
       "                    </tr>\n",
       "                    \n",
       "                    <tr>\n",
       "                        <th> Shape </th>\n",
       "                        <td> (46500, 30900) </td>\n",
       "                        <td> (1024, 30900) </td>\n",
       "                    </tr>\n",
       "                    <tr>\n",
       "                        <th> Count </th>\n",
       "                        <td> 507 Tasks </td>\n",
       "                        <td> 46 Chunks </td>\n",
       "                    </tr>\n",
       "                    <tr>\n",
       "                    <th> Type </th>\n",
       "                    <td> float64 </td>\n",
       "                    <td> numpy.ndarray </td>\n",
       "                    </tr>\n",
       "                </tbody>\n",
       "            </table>\n",
       "        </td>\n",
       "        <td>\n",
       "        <svg width=\"129\" height=\"170\" style=\"stroke:rgb(0,0,0);stroke-width:1\" >\n",
       "\n",
       "  <!-- Horizontal lines -->\n",
       "  <line x1=\"0\" y1=\"0\" x2=\"79\" y2=\"0\" style=\"stroke-width:2\" />\n",
       "  <line x1=\"0\" y1=\"5\" x2=\"79\" y2=\"5\" />\n",
       "  <line x1=\"0\" y1=\"10\" x2=\"79\" y2=\"10\" />\n",
       "  <line x1=\"0\" y1=\"18\" x2=\"79\" y2=\"18\" />\n",
       "  <line x1=\"0\" y1=\"23\" x2=\"79\" y2=\"23\" />\n",
       "  <line x1=\"0\" y1=\"31\" x2=\"79\" y2=\"31\" />\n",
       "  <line x1=\"0\" y1=\"36\" x2=\"79\" y2=\"36\" />\n",
       "  <line x1=\"0\" y1=\"42\" x2=\"79\" y2=\"42\" />\n",
       "  <line x1=\"0\" y1=\"50\" x2=\"79\" y2=\"50\" />\n",
       "  <line x1=\"0\" y1=\"55\" x2=\"79\" y2=\"55\" />\n",
       "  <line x1=\"0\" y1=\"63\" x2=\"79\" y2=\"63\" />\n",
       "  <line x1=\"0\" y1=\"68\" x2=\"79\" y2=\"68\" />\n",
       "  <line x1=\"0\" y1=\"76\" x2=\"79\" y2=\"76\" />\n",
       "  <line x1=\"0\" y1=\"81\" x2=\"79\" y2=\"81\" />\n",
       "  <line x1=\"0\" y1=\"87\" x2=\"79\" y2=\"87\" />\n",
       "  <line x1=\"0\" y1=\"95\" x2=\"79\" y2=\"95\" />\n",
       "  <line x1=\"0\" y1=\"100\" x2=\"79\" y2=\"100\" />\n",
       "  <line x1=\"0\" y1=\"108\" x2=\"79\" y2=\"108\" />\n",
       "  <line x1=\"0\" y1=\"113\" x2=\"79\" y2=\"113\" />\n",
       "  <line x1=\"0\" y1=\"120\" x2=\"79\" y2=\"120\" style=\"stroke-width:2\" />\n",
       "\n",
       "  <!-- Vertical lines -->\n",
       "  <line x1=\"0\" y1=\"0\" x2=\"0\" y2=\"120\" style=\"stroke-width:2\" />\n",
       "  <line x1=\"79\" y1=\"0\" x2=\"79\" y2=\"120\" style=\"stroke-width:2\" />\n",
       "\n",
       "  <!-- Colored Rectangle -->\n",
       "  <polygon points=\"0.0,0.0 79.74193548387096,0.0 79.74193548387096,120.0 0.0,120.0\" style=\"fill:#8B4903A0;stroke-width:0\"/>\n",
       "\n",
       "  <!-- Text -->\n",
       "  <text x=\"39.870968\" y=\"140.000000\" font-size=\"1.0rem\" font-weight=\"100\" text-anchor=\"middle\" >30900</text>\n",
       "  <text x=\"99.741935\" y=\"60.000000\" font-size=\"1.0rem\" font-weight=\"100\" text-anchor=\"middle\" transform=\"rotate(-90,99.741935,60.000000)\">46500</text>\n",
       "</svg>\n",
       "        </td>\n",
       "    </tr>\n",
       "</table></div></li></ul></div></li><li class='xr-section-item'><input id='section-e6f4e467-009d-44c4-a755-51f25cfca8f7' class='xr-section-summary-in' type='checkbox' disabled ><label for='section-e6f4e467-009d-44c4-a755-51f25cfca8f7' class='xr-section-summary'  title='Expand/collapse section'>Attributes: <span>(0)</span></label><div class='xr-section-inline-details'></div><div class='xr-section-details'><dl class='xr-attrs'></dl></div></li></ul></div></div>"
      ],
      "text/plain": [
       "<xarray.Dataset>\n",
       "Dimensions:      (x: 30900, y: 46500)\n",
       "Coordinates:\n",
       "  * x            (x) float64 -2.149e+06 -2.149e+06 ... -1.222e+06 -1.222e+06\n",
       "  * y            (y) float64 3.111e+06 3.111e+06 ... 1.716e+06 1.716e+06\n",
       "    spatial_ref  int64 0\n",
       "Data variables:\n",
       "    ndvi         (y, x) float64 dask.array<chunksize=(1024, 30900), meta=np.ndarray>"
      ]
     },
     "execution_count": 22,
     "metadata": {},
     "output_type": "execute_result"
    }
   ],
   "source": [
    "ds_ndvi"
   ]
  },
  {
   "cell_type": "code",
   "execution_count": 27,
   "id": "1056a5d4-c6d0-4239-8a37-4e5f9c5a32eb",
   "metadata": {},
   "outputs": [
    {
     "data": {
      "text/plain": [
       "['esip-qhub/usgs/testing/ndvi.zarr/ndvi/.zarray',\n",
       " 'esip-qhub/usgs/testing/ndvi.zarr/ndvi/.zattrs']"
      ]
     },
     "execution_count": 27,
     "metadata": {},
     "output_type": "execute_result"
    }
   ],
   "source": [
    "fs_write.ls('s3://esip-qhub/usgs/testing/ndvi.zarr/ndvi/')"
   ]
  },
  {
   "cell_type": "code",
   "execution_count": 32,
   "id": "dfafef94-3914-4426-8b16-b2310d9f73f4",
   "metadata": {},
   "outputs": [],
   "source": [
    "a = ds_ndvi.to_zarr(fs_write.get_mapper('s3://esip-qhub/usgs/testing/ndvi.zarr'), \n",
    "                encoding=encoding, mode='w', compute=False)"
   ]
  },
  {
   "cell_type": "code",
   "execution_count": 33,
   "id": "370d6198-9d19-491c-adee-28e13d568025",
   "metadata": {},
   "outputs": [
    {
     "data": {
      "text/plain": [
       "(None,)"
      ]
     },
     "execution_count": 33,
     "metadata": {},
     "output_type": "execute_result"
    }
   ],
   "source": [
    "dask.compute(a, retries=10)"
   ]
  },
  {
   "cell_type": "code",
   "execution_count": null,
   "id": "fd5582dc",
   "metadata": {},
   "outputs": [],
   "source": [
    "import dask\n",
    "from dask.distributed import Client, LocalCluster, Lock\n",
    "import xarray as xr\n",
    "import rioxarray\n",
    "\n",
    "file_path = \"C:/Users/kpostma/OneDrive - DOI/NLCDShrub/Shrubv4/3index/GreatBasin_region_leafoff_1985_0801_1015.img\"\n",
    "xds = dask.delayed(xr.open_dataset)(file_path, chunks={'band':6,'x':1024,'y':1024})\n",
    "ndvi = (xds.sel(band=4) - xds.sel(band=3)) / (xds.sel(band=4) + xds.sel(band=3))\n",
    "print(ndvi)\n",
    "\n",
    "client = Client(n_workers=8, threads_per_worker=1, memory_limit='4GB')\n",
    "print(client)\n",
    "\n",
    "preds_out = ndvi.band_data.rio.to_raster('dask_multiworker_output_ndvi.tif',compute=True,tiled=True,lock=Lock('rio',client=client))\n",
    "dask.compute(preds_out)"
   ]
  },
  {
   "cell_type": "code",
   "execution_count": null,
   "id": "7cfb61e1",
   "metadata": {},
   "outputs": [],
   "source": [
    "file_path = \"C:/Users/kpostma/OneDrive - DOI/NLCDShrub/Shrubv4/3index/GreatBasin_region_leafoff_1985_0801_1015.img\"\n",
    "\n",
    "#xds = xr.open_dataset(file_path)\n",
    "xds = dask.delayed(xr.open_dataset)(file_path, chunks={'band':6,'x':1024,'y':1024})\n",
    "\n",
    "#xds = xr.open_dataset(file_path, engine=\"rasterio\")\n",
    "#xds = rioxarray.open_rasterio(file_path)"
   ]
  },
  {
   "cell_type": "code",
   "execution_count": null,
   "id": "ec1ce73f",
   "metadata": {},
   "outputs": [],
   "source": [
    "#xds"
   ]
  },
  {
   "cell_type": "code",
   "execution_count": null,
   "id": "8cccebae",
   "metadata": {},
   "outputs": [],
   "source": [
    "#xds.sel(band=6)"
   ]
  },
  {
   "cell_type": "code",
   "execution_count": null,
   "id": "f4b83096",
   "metadata": {},
   "outputs": [],
   "source": [
    "#def func(da):\n",
    "#    print(da.sizes)\n",
    "#    return da.time\n",
    "\n",
    "#mapped = xds.map_blocks(func, [xds.sel(band=6)])"
   ]
  },
  {
   "cell_type": "code",
   "execution_count": null,
   "id": "e8ba4e60",
   "metadata": {},
   "outputs": [],
   "source": [
    "#ndvi = ((xds['nir08'] - xds['red']) / (xds['nir08'] + xds['red'])).clip(0, 1)\n",
    "#1=blue\n",
    "#2=green\n",
    "#3=red\n",
    "#4=nir08\n",
    "#5=swir16\n",
    "#6=swir22\n",
    "ndvi = (xds.sel(band=4) - xds.sel(band=3)) / (xds.sel(band=4) + xds.sel(band=3))\n",
    "#ndvi.name = 'ndvi'\n",
    "ndvi"
   ]
  },
  {
   "cell_type": "code",
   "execution_count": null,
   "id": "abd06a15",
   "metadata": {},
   "outputs": [],
   "source": [
    "client = Client(n_workers=8, threads_per_worker=1, memory_limit='4GB')\n",
    "client"
   ]
  },
  {
   "cell_type": "code",
   "execution_count": null,
   "id": "61f1fedd",
   "metadata": {},
   "outputs": [],
   "source": [
    "%%time\n",
    "ndvi_out = ndvi.compute()"
   ]
  },
  {
   "cell_type": "code",
   "execution_count": null,
   "id": "9b0d4b04",
   "metadata": {},
   "outputs": [],
   "source": [
    "%%time\n",
    "ndvi_out.rio.to_raster('dask_multiworker_output_ndvi.tif',tiled=True,lock=Lock('rio',client=client))"
   ]
  },
  {
   "cell_type": "code",
   "execution_count": null,
   "id": "4f3539c3",
   "metadata": {},
   "outputs": [],
   "source": [
    "client.close()"
   ]
  },
  {
   "cell_type": "code",
   "execution_count": null,
   "id": "dd00f384",
   "metadata": {},
   "outputs": [],
   "source": []
  },
  {
   "cell_type": "code",
   "execution_count": null,
   "id": "c430711f",
   "metadata": {},
   "outputs": [],
   "source": [
    "%%time\n",
    "ndvi_nc = dask.delayed(ndvi.to_netcdf)('dask_multiworker_output_ndvi.nc')\n",
    "dask.compute(ndvi_nc)"
   ]
  },
  {
   "cell_type": "code",
   "execution_count": null,
   "id": "4d841cc3",
   "metadata": {},
   "outputs": [],
   "source": [
    "#with LocalCluster(n_workers=8, threads_per_worker=1, memory_limit='4GB') as cluster, Client(cluster) as client:\n",
    "preds_out = ndvi.band_data.rio.to_raster('dask_multiworker_output_ndvi.tif',compute=True,tiled=True,lock=Lock('rio',client=client))\n",
    "#preds_out = ndvi.band_data.rio.to_raster('dask_multiworker_output_ndvi.tif',compute=True,tiled=True,lock=Lock('rio',client=client))\n",
    "##preds_raster = dask.delayed(rioxarray.raster_array.RasterArray)(ndvi)\n",
    "##preds_out = preds_raster.rio.to_raster('dask_multiworker_output_ndvi.tif',tiled=True,lock=Lock('rio',client=client))\n",
    "dask.compute(preds_out)"
   ]
  },
  {
   "cell_type": "code",
   "execution_count": null,
   "id": "e10e5180",
   "metadata": {},
   "outputs": [],
   "source": []
  },
  {
   "cell_type": "code",
   "execution_count": null,
   "id": "a895d76c",
   "metadata": {},
   "outputs": [],
   "source": [
    "%%time\n",
    "ndvi_out = ndvi.compute()"
   ]
  },
  {
   "cell_type": "code",
   "execution_count": null,
   "id": "f53ca5b5",
   "metadata": {},
   "outputs": [],
   "source": [
    "ndvi_out"
   ]
  },
  {
   "cell_type": "code",
   "execution_count": null,
   "id": "58393418",
   "metadata": {},
   "outputs": [],
   "source": [
    "%%time\n",
    "#with LocalCluster() as cluster, Client(cluster) as client:\n",
    "ndvi_out.rio.to_raster('dask_multiworker_output_ndvi.tif',tiled=True,lock=Lock('rio',client=client))"
   ]
  },
  {
   "cell_type": "code",
   "execution_count": null,
   "id": "f2d8e8d7",
   "metadata": {},
   "outputs": [],
   "source": [
    "del ndvi\n",
    "del ndvi_out"
   ]
  },
  {
   "cell_type": "code",
   "execution_count": null,
   "id": "91b20d4f",
   "metadata": {},
   "outputs": [],
   "source": [
    "import numpy as np\n",
    "\n",
    "def calc_nd(band_a, band_b):\n",
    "    \"\"\"\n",
    "    Calculate the normalized difference.\n",
    "    (((a-b)/(a+b)) + 1) * 100\n",
    "    \"\"\"\n",
    "    #make sure the numer and denom are floats\n",
    "    numer = (band_a - band_b).astype(np.float32)\n",
    "    denom = (band_a + band_b).astype(np.float32)\n",
    "    nd = numer/denom\n",
    "#    nd = np.divide(numer, denom, out=np.zeros_like(denom), where=denom!=0)\n",
    "#    del numer\n",
    "#    del denom\n",
    "    nd += 1\n",
    "    nd *= 100\n",
    "#    aoi_mask = aoi == 0\n",
    "#    nd[aoi_mask] = 100\n",
    "#    del aoi_mask\n",
    "    return nd\n",
    "\n",
    "def calc_nd2(band_a, band_b):\n",
    "    \"\"\"\n",
    "    Calculate the normalized difference type 2.\n",
    "    (( (1.5 * (a-b)) / (a+b+0.5)) + 1) * 100\n",
    "    \"\"\"\n",
    "    #make sure the numer and denom are floats\n",
    "    numer = ((band_a - band_b) * 1.5).astype(np.float32)\n",
    "    denom = ((band_a + band_b) + 0.5).astype(np.float32)\n",
    "    nd = numer/denom\n",
    "#    nd = np.divide(numer, denom, out=np.zeros_like(denom), where=denom!=0)\n",
    "#    del numer\n",
    "#    del denom\n",
    "    nd += 1\n",
    "    nd *= 100\n",
    "#    aoi_mask = aoi == 0\n",
    "#    nd[aoi_mask] = 100\n",
    "#    del aoi_mask\n",
    "    return nd\n",
    "#def model(in_data):\n",
    "#   out_data = {}\n",
    "#   out_data['out(1)'] = calc_nd(in_data['in(2)'].astype(np.float),in_data['in(5)'].astype(np.float),in_data['AOI(1)'])\n",
    "#   out_data['out(2)'] = calc_nd(in_data['in(5)'].astype(np.float),in_data['in(4)'].astype(np.float),in_data['AOI(1)'])\n",
    "#   out_data['out(3)'] = calc_nd2(in_data['in(4)'].astype(np.float),in_data['in(3)'].astype(np.float),in_data['AOI(1)'])\n",
    "#   return out_data"
   ]
  },
  {
   "cell_type": "code",
   "execution_count": null,
   "id": "3ac60524",
   "metadata": {},
   "outputs": [],
   "source": [
    "def calc_nd(ds, band_a, band_b):\n",
    "    \"\"\"\n",
    "    Calculate the normalized difference.\n",
    "    (((a-b)/(a+b)) + 1) * 100\n",
    "    \"\"\"\n",
    "    #make sure the numer and denom are floats\n",
    "    numer = (ds.sel(band=band_a) - ds.sel(band=band_b)).astype(np.float32)\n",
    "    denom = (ds.sel(band=band_a) + ds.sel(band=band_b)).astype(np.float32)\n",
    "    nd = numer/denom\n",
    "    nd += 1\n",
    "    nd *= 100\n",
    "    return nd\n",
    "\n",
    "def calc_nd2(ds, band_a, band_b):\n",
    "    \"\"\"\n",
    "    Calculate the normalized difference type 2.\n",
    "    (( (1.5 * (a-b)) / (a+b+0.5)) + 1) * 100\n",
    "    \"\"\"\n",
    "    #make sure the numer and denom are floats\n",
    "    numer = ((ds.sel(band=band_a) - ds.sel(band=band_b)) * 1.5).astype(np.float32)\n",
    "    denom = ((ds.sel(band=band_a) + ds.sel(band=band_b)) + 0.5).astype(np.float32)\n",
    "    nd = numer/denom\n",
    "    nd += 1\n",
    "    nd *= 100\n",
    "    return nd"
   ]
  },
  {
   "cell_type": "code",
   "execution_count": null,
   "id": "87b1c88e",
   "metadata": {},
   "outputs": [],
   "source": [
    "xds"
   ]
  },
  {
   "cell_type": "code",
   "execution_count": null,
   "id": "a90e8017",
   "metadata": {},
   "outputs": [],
   "source": [
    "from dask.distributed import Client\n",
    "client = Client()\n",
    "client"
   ]
  },
  {
   "cell_type": "code",
   "execution_count": null,
   "id": "a0c73ca5",
   "metadata": {},
   "outputs": [],
   "source": [
    "%%time\n",
    "from dask.distributed import wait\n",
    "\n",
    "xds = client.persist(xds)\n",
    "_ = wait(xds)"
   ]
  },
  {
   "cell_type": "code",
   "execution_count": null,
   "id": "619f604f",
   "metadata": {},
   "outputs": [],
   "source": [
    "%%time\n",
    "three_index_1 = xds.map_blocks(func=calc_nd, kwargs={'band_a':2,'band_b':5}, template=xds.sel(band=2).drop(labels='band'))"
   ]
  },
  {
   "cell_type": "code",
   "execution_count": null,
   "id": "8cf9fc3c",
   "metadata": {},
   "outputs": [],
   "source": [
    "%%time\n",
    "three_index_2 = xds.map_blocks(func=calc_nd, kwargs={'band_a':5,'band_b':4}, template=xds.sel(band=5))"
   ]
  },
  {
   "cell_type": "code",
   "execution_count": null,
   "id": "8111a356",
   "metadata": {},
   "outputs": [],
   "source": [
    "%%time\n",
    "three_index_3 = xds.map_blocks(func=calc_nd2, kwargs={'band_a':4,'band_b':3}, template=xds.sel(band=4))"
   ]
  },
  {
   "cell_type": "code",
   "execution_count": null,
   "id": "7b5565c7",
   "metadata": {},
   "outputs": [],
   "source": [
    "#%%time\n",
    "#three_index_1 = calc_nd(xds.sel(band=2),xds.sel(band=5))\n",
    "#three_index_2 = calc_nd(xds.sel(band=5),xds.sel(band=4))\n",
    "#three_index_3 = calc_nd2(xds.sel(band=4),xds.sel(band=3))"
   ]
  },
  {
   "cell_type": "code",
   "execution_count": null,
   "id": "028eb118",
   "metadata": {},
   "outputs": [],
   "source": [
    "three_index_1"
   ]
  },
  {
   "cell_type": "code",
   "execution_count": null,
   "id": "c7b66c8a",
   "metadata": {},
   "outputs": [],
   "source": [
    "%%time\n",
    "#with LocalCluster(n_workers=8, threads_per_worker=1, memory_limit='4GB') as cluster, Client(cluster) as client:\n",
    "three_index_1.compute()"
   ]
  },
  {
   "cell_type": "code",
   "execution_count": null,
   "id": "cb5b53b9",
   "metadata": {},
   "outputs": [],
   "source": [
    "%%time\n",
    "three_index_2.compute()"
   ]
  },
  {
   "cell_type": "code",
   "execution_count": null,
   "id": "084360da",
   "metadata": {},
   "outputs": [],
   "source": [
    "%%time\n",
    "three_index_3.compute()"
   ]
  },
  {
   "cell_type": "code",
   "execution_count": null,
   "id": "232d6945",
   "metadata": {},
   "outputs": [],
   "source": [
    "%%time\n",
    "with LocalCluster(n_workers=8, threads_per_worker=1, memory_limit='4GB') as cluster, Client(cluster) as client:\n",
    "    three_index_1.rio.to_raster('dask_multiworker_output_3index_1.tif',tiled=True,lock=Lock('rio',client=client))"
   ]
  },
  {
   "cell_type": "code",
   "execution_count": null,
   "id": "98d0dff2",
   "metadata": {},
   "outputs": [],
   "source": [
    "%%time\n",
    "with LocalCluster(n_workers=8, threads_per_worker=1, memory_limit='4GB') as cluster, Client(cluster) as client:\n",
    "    three_index_2.rio.to_raster('dask_multiworker_output_3index_2.tif',tiled=True,lock=Lock('rio',client=client))"
   ]
  },
  {
   "cell_type": "code",
   "execution_count": null,
   "id": "e1e2525a",
   "metadata": {},
   "outputs": [],
   "source": [
    "%%time\n",
    "with LocalCluster(n_workers=8, threads_per_worker=1, memory_limit='4GB') as cluster, Client(cluster) as client:\n",
    "    three_index_3.rio.to_raster('dask_multiworker_output_3index_3.tif',tiled=True,lock=Lock('rio',client=client))"
   ]
  },
  {
   "cell_type": "code",
   "execution_count": null,
   "id": "6487c925",
   "metadata": {},
   "outputs": [],
   "source": []
  },
  {
   "cell_type": "code",
   "execution_count": null,
   "id": "2c70f870",
   "metadata": {},
   "outputs": [],
   "source": [
    "with LocalCluster() as cluster, Client(cluster) as client:\n",
    "    xds = rioxarray.open_rasterio(\n",
    "        file_path,\n",
    "        chunks=True,\n",
    "        lock=False,\n",
    "        # lock=Lock(\"rio-read\", client=client), # when too many file handles open\n",
    "    )\n",
    "    xds.rio.to_raster(\n",
    "        \"dask_multiworker_output.tif\",\n",
    "        tiled=True,\n",
    "        lock=Lock(\"rio\", client=client),\n",
    "    )"
   ]
  },
  {
   "cell_type": "code",
   "execution_count": null,
   "id": "d050643b",
   "metadata": {},
   "outputs": [],
   "source": []
  },
  {
   "cell_type": "code",
   "execution_count": null,
   "id": "a7e8535a",
   "metadata": {},
   "outputs": [],
   "source": []
  },
  {
   "cell_type": "code",
   "execution_count": null,
   "id": "e98e3983",
   "metadata": {},
   "outputs": [],
   "source": []
  },
  {
   "cell_type": "code",
   "execution_count": null,
   "id": "3ad30ea7",
   "metadata": {},
   "outputs": [],
   "source": []
  },
  {
   "cell_type": "code",
   "execution_count": null,
   "id": "af675f6c",
   "metadata": {},
   "outputs": [],
   "source": []
  },
  {
   "cell_type": "code",
   "execution_count": null,
   "id": "9aeff28e",
   "metadata": {},
   "outputs": [],
   "source": []
  },
  {
   "cell_type": "code",
   "execution_count": null,
   "id": "41b69af2-0774-4269-8d56-a17772be071c",
   "metadata": {},
   "outputs": [],
   "source": [
    "# initial imports and reusable functions\n",
    "\n",
    "#import holoviews as hv\n",
    "#hv.extension('bokeh')\n",
    "\n",
    "from copy import deepcopy\n",
    "import geopandas as gpd\n",
    "#import hvplot.pandas\n",
    "import pandas as pd\n",
    "#import pystac\n",
    "from shapely.geometry import shape\n",
    "import os\n",
    "os.environ['AWS_REQUEST_PAYER'] = 'requester'"
   ]
  },
  {
   "cell_type": "code",
   "execution_count": null,
   "id": "67d01523-fa97-47fc-bb1f-5f5171b38ffd",
   "metadata": {},
   "outputs": [],
   "source": [
    "\n",
    "from shapely.geometry import mapping\n",
    "from pystac_client import Client#%load_ext dotenv\n",
    "#%dotenv"
   ]
  },
  {
   "cell_type": "code",
   "execution_count": null,
   "id": "bb37ce9e-10ee-4371-aacb-dc6e957f537f",
   "metadata": {},
   "outputs": [],
   "source": [
    "#%load_ext dotenv\n",
    "#%dotenv\n",
    "\n",
    "# logging \n",
    "import logging\n",
    "logging.basicConfig()\n",
    "import os\n",
    "os.environ[\"AWS_REQUEST_PAYER\"] = \"requester\" \n",
    "\n",
    "# set pystac_client logger to DEBUG to see API calls\n",
    "logger = logging.getLogger('pystac_client')\n",
    "logger.setLevel(logging.INFO)"
   ]
  },
  {
   "cell_type": "markdown",
   "id": "c865d3e4-8575-448f-ad3d-647ed7745448",
   "metadata": {},
   "source": [
    "<h1> AOI</h1>\n",
    "We first start with a spatial AOI, which should be a single GeoJSON Feature with a geometry type of Point, LineString, Polygon, MultiPoint, MultiLineString, or MultiPolygon. A fast and simple tool to create such as an AOI is http://geojson.io/.\n",
    "\n",
    "Save a GeoJSON Feature (not a FeatureCollection!) in a file accessible by this notebook."
   ]
  },
  {
   "cell_type": "code",
   "execution_count": null,
   "id": "44779fb1-b5b8-40c9-a878-94e11c3651cb",
   "metadata": {},
   "outputs": [],
   "source": [
    "#Read all ARD TILES\n",
    "ARD_Tiles = gpd.read_file('/data/opt/c-experiments/2_Gridding_For_Scale/CONUS_C2_ARD_grid/conus_c2_ard_grid.shp')"
   ]
  },
  {
   "cell_type": "code",
   "execution_count": null,
   "id": "cb8df561-1d88-420c-b967-28cc7e0020f3",
   "metadata": {},
   "outputs": [],
   "source": [
    "ARD_lat_lon = ARD_Tiles.to_crs(\"EPSG:4326\")"
   ]
  },
  {
   "cell_type": "code",
   "execution_count": null,
   "id": "3585fb0a-339a-40bf-a158-341136b86631",
   "metadata": {},
   "outputs": [],
   "source": [
    "ARD_lat_lon.plot()"
   ]
  },
  {
   "cell_type": "code",
   "execution_count": null,
   "id": "f0ba94d0-9e1f-4a79-8a0c-96e3e4226927",
   "metadata": {},
   "outputs": [],
   "source": [
    "ARD_lat_lon.head()"
   ]
  },
  {
   "cell_type": "code",
   "execution_count": null,
   "id": "197394fc-dc1b-4dc7-aa9f-7c594092e15d",
   "metadata": {},
   "outputs": [],
   "source": [
    "h = 29"
   ]
  },
  {
   "cell_type": "code",
   "execution_count": null,
   "id": "21b496b0-2a23-4af1-bc9b-b4e974572458",
   "metadata": {},
   "outputs": [],
   "source": [
    "v = 5"
   ]
  },
  {
   "cell_type": "code",
   "execution_count": null,
   "id": "5423680b-55e6-4590-b18e-7aad790e0a26",
   "metadata": {},
   "outputs": [],
   "source": [
    "# Select a class\n",
    "selection = ARD_lat_lon[ARD_lat_lon[\"h\"]==h]"
   ]
  },
  {
   "cell_type": "code",
   "execution_count": null,
   "id": "186808cf-bf64-492d-a3a3-1f1a19168c8c",
   "metadata": {},
   "outputs": [],
   "source": [
    "# Select a class\n",
    "one_gdf = selection[selection[\"v\"]==5]"
   ]
  },
  {
   "cell_type": "code",
   "execution_count": null,
   "id": "e1809bb1-6101-4f25-87f6-959153b27e43",
   "metadata": {},
   "outputs": [],
   "source": [
    "one_gdf.plot()"
   ]
  },
  {
   "cell_type": "code",
   "execution_count": null,
   "id": "c85ed446-f2dd-4f02-ad17-cc75845c5acd",
   "metadata": {},
   "outputs": [],
   "source": [
    "my_poly = one_gdf.geometry"
   ]
  },
  {
   "cell_type": "code",
   "execution_count": null,
   "id": "4e145bb0-f03b-4ea6-8f65-59e6374f7fbd",
   "metadata": {},
   "outputs": [],
   "source": [
    "my_poly"
   ]
  },
  {
   "cell_type": "code",
   "execution_count": null,
   "id": "4b03a689-a773-457b-ac9e-e4082f5b0e2d",
   "metadata": {},
   "outputs": [],
   "source": [
    "from shapely.geometry import mapping\n",
    "geom = mapping(one_gdf.to_dict()['geometry'][702])"
   ]
  },
  {
   "cell_type": "code",
   "execution_count": null,
   "id": "46d70b17-9459-47e9-8bdb-6b8063a5325e",
   "metadata": {},
   "outputs": [],
   "source": [
    "# read in AOI as a GeoDataFrame\n",
    "#aoi = gpd.read_file('mini_square_maine.geojson')\n",
    "\n",
    "# get the geometry of the AOI as a dictionary for use with PySTAC Client\n",
    "#from shapely.geometry import mapping\n",
    "#geom = mapping(aoi.to_dict()['geometry'][0])"
   ]
  },
  {
   "cell_type": "code",
   "execution_count": null,
   "id": "e114c1d0-fe61-40c4-9d64-481f627d84c7",
   "metadata": {},
   "outputs": [],
   "source": [
    "# STAC API - Landsat Collection 2\n",
    "url = \"https://landsatlook.usgs.gov/stac-server\"\n",
    "\n",
    "# Search parameters\n",
    "params = {\n",
    "    #\"collections\": [\"landsat-c2l2-sr\"],\n",
    "    #Access Collection 2 ARD Tiles\n",
    "    \"collections\": [\"landsat-c2ard-sr\"],\n",
    "    \"intersects\": geom,\n",
    "    \"datetime\": \"2019-05-01/2019-09-30\",\n",
    "    \"limit\": 100,\n",
    "    \"query\": [\"platform=LANDSAT_8\", \"eo:cloud_cover<40\"]\n",
    "}\n",
    "\n",
    "from pystac_client import Client\n",
    "cat = Client.open(url)\n",
    "search = cat.search(**params)\n",
    "\n",
    "matched = search.matched()\n",
    "print(f\"{search.matched()} scenes found\")"
   ]
  },
  {
   "cell_type": "code",
   "execution_count": null,
   "id": "861d04c7-2adf-4de5-ab6f-02874bfcac9b",
   "metadata": {},
   "outputs": [],
   "source": [
    "import hvplot.pandas\n",
    "import hvplot.xarray\n",
    "\n",
    "# plot size settings\n",
    "frame_width = 600\n",
    "frame_height = 600\n",
    "\n",
    "# line width of polygons\n",
    "line_width = 3\n",
    "\n",
    "# plot polygons as lines on a slippy map with background tiles.\n",
    "def plot_polygons(data, *args, **kwargs):\n",
    "    return data.hvplot.paths(*args, geo=True, tiles='OSM', xaxis=None, yaxis=None,\n",
    "                             frame_width=frame_width, frame_height=frame_height,\n",
    "                             line_width=line_width, **kwargs)\n",
    "\n",
    "from copy import deepcopy\n",
    "import geopandas as gpd\n",
    "import pandas as pd\n",
    "from shapely.geometry import shape\n",
    "\n",
    "# convert a list of STAC Items into a GeoDataFrame\n",
    "def items_to_geodataframe(items):\n",
    "    _items = []\n",
    "    for i in items:\n",
    "        _i = deepcopy(i)\n",
    "        _i['geometry'] = shape(_i['geometry'])\n",
    "        _items.append(_i)\n",
    "    gdf = gpd.GeoDataFrame(pd.json_normalize(_items))\n",
    "    for field in ['properties.datetime', 'properties.created', 'properties.updated']:\n",
    "        if field in gdf:\n",
    "            gdf[field] = pd.to_datetime(gdf[field])\n",
    "    gdf.set_index('properties.datetime', inplace=True)\n",
    "    return gdf"
   ]
  },
  {
   "cell_type": "code",
   "execution_count": null,
   "id": "7d0a4807-029a-41ff-a782-dd04a7c69036",
   "metadata": {},
   "outputs": [],
   "source": [
    "%%time\n",
    "from pystac import ItemCollection\n",
    "\n",
    "# get all items found in search\n",
    "items_dict = []\n",
    "for item in search.get_all_items_as_dict()['features']:\n",
    "    for a in item['assets']:\n",
    "        if 'alternate' in item['assets'][a] and 's3' in item['assets'][a]['alternate']:\n",
    "            item['assets'][a]['href'] = item['assets'][a]['alternate']['s3']['href']\n",
    "        item['assets'][a]['href'] = item['assets'][a]['href'].replace('usgs-landsat-ard', 'usgs-landsat-ard')\n",
    "    items_dict.append(item)\n",
    "\n",
    "# Create GeoDataFrame from resulting Items\n",
    "items_gdf = items_to_geodataframe(items_dict)\n",
    "item_collection = ItemCollection(items_dict)"
   ]
  },
  {
   "cell_type": "code",
   "execution_count": null,
   "id": "4144b157-307d-48df-92d8-329996f4af7c",
   "metadata": {},
   "outputs": [],
   "source": [
    "import yaml\n",
    "\n",
    "cfg = \"\"\"---\n",
    "landat-c2l2-sr:\n",
    "  measurements:\n",
    "    '*':\n",
    "      dtype: uint16\n",
    "      nodata: 0\n",
    "      unit: 'm'\n",
    "\"\"\"\n",
    "cfg = yaml.load(cfg, Loader=yaml.CSafeLoader)"
   ]
  },
  {
   "cell_type": "code",
   "execution_count": null,
   "id": "070c39e6-262b-4f97-a416-a5aecdb03ab1",
   "metadata": {},
   "outputs": [],
   "source": [
    "# Convert the STAC item(s) to ODC datasets\n",
    "import yaml\n",
    "\n",
    "from odc import stac\n",
    "from pyproj import CRS\n",
    "from pystac.extensions.projection import ProjectionExtension\n",
    "\n",
    "def open_odc(items, crs=None, resolution=None):\n",
    "    configuration_str = \"\"\"---\n",
    "        landsat-c2l2-sr:\n",
    "          measurements:\n",
    "            '*':\n",
    "              dtype: float32\n",
    "              nodata: 0\n",
    "              units: 'm'\n",
    "        \"\"\"\n",
    "    configuration = yaml.load(configuration_str, Loader=yaml.CSafeLoader)\n",
    "    datasets = list(stac.stac2ds(items, configuration))\n",
    "    \n",
    "    proj = ProjectionExtension.ext(items[0])\n",
    "    if crs is None:\n",
    "        crs = CRS.from_epsg(proj.epsg)\n",
    "    if resolution is None:\n",
    "        resolution = (proj.transform[4], proj.transform[0])\n",
    "\n",
    "    data = stac.dc_load(datasets, \n",
    "                        bands=['blue','green','red','nir08','swir16','swir22','qa_pixel'], \n",
    "                        chunks={\"x\": 1024, \"y\": 1024}, \n",
    "                        output_crs=crs, \n",
    "                        resolution=resolution,\n",
    "                        groupby='solar_day',\n",
    "                        stac_cfg=cfg)\n",
    "    #data = stac.dc_load(datasets, output_crs=crs, resolution=resolution)\n",
    "    return data"
   ]
  },
  {
   "cell_type": "code",
   "execution_count": null,
   "id": "f92bce7d-f90b-4e6f-b293-0a1fc323a776",
   "metadata": {},
   "outputs": [],
   "source": [
    "# open found items as an OpenDataCube\n",
    "\n",
    "import rasterio as rio\n",
    "import xarray as xr\n",
    "\n",
    "_datacube = open_odc(item_collection,'epsg:5070') #resolution='30')\n",
    "_datacube.to_array(dim='bands')"
   ]
  },
  {
   "cell_type": "code",
   "execution_count": null,
   "id": "1e216d11-9808-4b1e-9103-fb2ba5c29678",
   "metadata": {},
   "outputs": [],
   "source": [
    "%%time\n",
    "import rioxarray\n",
    "datacube = _datacube.rio.clip([geom], crs='epsg:4326')"
   ]
  },
  {
   "cell_type": "code",
   "execution_count": null,
   "id": "2658772b-3664-4894-bfda-ff7463bc2297",
   "metadata": {},
   "outputs": [],
   "source": [
    "datacube"
   ]
  },
  {
   "cell_type": "code",
   "execution_count": null,
   "id": "c3ed701e-e775-4756-9668-2d970550dfe5",
   "metadata": {},
   "outputs": [],
   "source": [
    "from odc.algo import to_rgba\n",
    "\n",
    "vis = to_rgba(datacube, clamp=(1, 20000), bands=['red', 'green', 'blue'])\n",
    "vis"
   ]
  },
  {
   "cell_type": "code",
   "execution_count": null,
   "id": "64897d52-1f50-41ad-a087-e9ae77f3e861",
   "metadata": {},
   "outputs": [],
   "source": [
    "ndvi = ((datacube['nir08'] - datacube['red']) / (datacube['nir08'] + datacube['red'])).clip(0, 1)\n",
    "ndvi.name = 'ndvi'\n",
    "ndvi"
   ]
  },
  {
   "cell_type": "code",
   "execution_count": null,
   "id": "185d570c-53b1-4d65-8dc5-2de1cbaccc13",
   "metadata": {},
   "outputs": [],
   "source": [
    "def calc_nd(band_a, band_b):\n",
    "    \"\"\"\n",
    "    Calculate the normalized difference.\n",
    "    (((a-b)/(a+b)) + 1) * 100\n",
    "    \"\"\"\n",
    "    #make sure the numer and denom are floats\n",
    "    numer = (band_a - band_b).astype(np.float)\n",
    "    denom = (band_a + band_b).astype(np.float)\n",
    "    nd = np.divide(numer, denom, out=np.zeros_like(denom), where=denom!=0)\n",
    "#    del numer\n",
    "#    del denom\n",
    "    nd += 1\n",
    "    nd *= 100\n",
    "#    aoi_mask = aoi == 0\n",
    "#    nd[aoi_mask] = 100\n",
    "#    del aoi_mask\n",
    "    return nd\n",
    "def calc_nd2(band_a, band_b):\n",
    "    \"\"\"\n",
    "    Calculate the normalized difference type 2.\n",
    "    (( (1.5 * (a-b)) / (a+b+0.5)) + 1) * 100\n",
    "    \"\"\"\n",
    "    #make sure the numer and denom are floats\n",
    "    numer = (band_a - band_b) * 1.5\n",
    "    denom = (band_a + band_b) + 0.5\n",
    "    nd = np.divide(numer, denom, out=np.zeros_like(denom), where=denom!=0)\n",
    "#    del numer\n",
    "#    del denom\n",
    "    nd += 1\n",
    "    nd *= 100\n",
    "#    aoi_mask = aoi == 0\n",
    "#    nd[aoi_mask] = 100\n",
    "#    del aoi_mask\n",
    "    return nd\n",
    "#def model(in_data):\n",
    "#   out_data = {}\n",
    "#   out_data['out(1)'] = calc_nd(in_data['in(2)'].astype(np.float),in_data['in(5)'].astype(np.float),in_data['AOI(1)'])\n",
    "#   out_data['out(2)'] = calc_nd(in_data['in(5)'].astype(np.float),in_data['in(4)'].astype(np.float),in_data['AOI(1)'])\n",
    "#   out_data['out(3)'] = calc_nd2(in_data['in(4)'].astype(np.float),in_data['in(3)'].astype(np.float),in_data['AOI(1)'])\n",
    "#   return out_data"
   ]
  },
  {
   "cell_type": "code",
   "execution_count": null,
   "id": "738d2ee0-d491-424f-9ecb-1dfaaa3ad399",
   "metadata": {},
   "outputs": [],
   "source": [
    "# local Dask\n",
    "\n",
    "from dask.distributed import Client\n",
    "client = Client()\n",
    "client"
   ]
  },
  {
   "cell_type": "code",
   "execution_count": null,
   "id": "179b7f4f-031f-432f-a945-4b001d81a346",
   "metadata": {},
   "outputs": [],
   "source": [
    "%%time\n",
    "from dask.distributed import wait\n",
    "\n",
    "vis = client.persist(vis)\n",
    "_ = wait(vis)"
   ]
  },
  {
   "cell_type": "code",
   "execution_count": null,
   "id": "fff151f9-0f4b-42a8-a58d-e75f2fc97340",
   "metadata": {},
   "outputs": [],
   "source": [
    "%%time\n",
    "vis_ = vis.compute()\n",
    "vis_.plot.imshow(col='time', rgb='band', col_wrap=5, robust=True)"
   ]
  },
  {
   "cell_type": "code",
   "execution_count": null,
   "id": "90fc2716-9751-47e6-9403-d7f50ff4fdb5",
   "metadata": {},
   "outputs": [],
   "source": [
    "client.close()"
   ]
  },
  {
   "cell_type": "code",
   "execution_count": null,
   "id": "e2841985-3038-48b9-beae-53fcdb8e7b63",
   "metadata": {},
   "outputs": [],
   "source": []
  }
 ],
 "metadata": {
  "kernelspec": {
   "display_name": "users-pangeo",
   "language": "python",
   "name": "conda-env-users-pangeo-py"
  },
  "language_info": {
   "codemirror_mode": {
    "name": "ipython",
    "version": 3
   },
   "file_extension": ".py",
   "mimetype": "text/x-python",
   "name": "python",
   "nbconvert_exporter": "python",
   "pygments_lexer": "ipython3",
   "version": "3.9.13"
  },
  "widgets": {
   "application/vnd.jupyter.widget-state+json": {
    "state": {},
    "version_major": 2,
    "version_minor": 0
   }
  }
 },
 "nbformat": 4,
 "nbformat_minor": 5
}
