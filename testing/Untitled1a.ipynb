{
 "cells": [
  {
   "cell_type": "code",
   "execution_count": null,
   "id": "fd21c071-4bbc-4c79-a2db-35619bc21f5f",
   "metadata": {},
   "outputs": [],
   "source": [
    "import fsspec\n",
    "import aiohttp\n",
    "\n",
    "fs = fsspec.filesystem('https', client_kwargs={'auth': aiohttp.BasicAuth('rsignell','mypassword')})"
   ]
  },
  {
   "cell_type": "code",
   "execution_count": null,
   "id": "cc894218-39d7-4e58-9be3-e28189bd9ce9",
   "metadata": {},
   "outputs": [],
   "source": [
    "fs.ls('https://cmr.earthdata.nasa.gov/stac/LPCLOUD/collections/HLSS30.v1.5')"
   ]
  },
  {
   "cell_type": "code",
   "execution_count": null,
   "id": "429a80bd-bad9-4f30-928c-84e889781d4f",
   "metadata": {},
   "outputs": [],
   "source": []
  }
 ],
 "metadata": {
  "kernelspec": {
   "display_name": "Python [conda env:pangeo]",
   "language": "python",
   "name": "conda-env-pangeo-py"
  },
  "language_info": {
   "codemirror_mode": {
    "name": "ipython",
    "version": 3
   },
   "file_extension": ".py",
   "mimetype": "text/x-python",
   "name": "python",
   "nbconvert_exporter": "python",
   "pygments_lexer": "ipython3",
   "version": "3.9.7"
  }
 },
 "nbformat": 4,
 "nbformat_minor": 5
}
