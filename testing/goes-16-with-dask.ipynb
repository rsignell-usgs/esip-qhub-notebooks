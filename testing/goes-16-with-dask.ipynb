{
 "cells": [
  {
   "cell_type": "code",
   "execution_count": null,
   "id": "optical-better",
   "metadata": {},
   "outputs": [],
   "source": [
    "import xarray as xr\n",
    "import fsspec"
   ]
  },
  {
   "cell_type": "code",
   "execution_count": null,
   "id": "czech-brown",
   "metadata": {},
   "outputs": [],
   "source": [
    "%%time\n",
    "fs = fsspec.filesystem('s3', anon=True)\n",
    "flist = fs.glob(\"s3://noaa-goes16/ABI-L2-SSTF/2020/210/*/*.nc\")"
   ]
  },
  {
   "cell_type": "code",
   "execution_count": null,
   "id": "03bd8700-5f5d-43fe-8526-ef18a3bce131",
   "metadata": {},
   "outputs": [],
   "source": [
    "flist"
   ]
  },
  {
   "cell_type": "code",
   "execution_count": null,
   "id": "ee91ce20-8e0b-4bae-b8d0-6df5e8e40531",
   "metadata": {},
   "outputs": [],
   "source": [
    "fs.size(flist[0])/1e6"
   ]
  },
  {
   "cell_type": "code",
   "execution_count": null,
   "id": "17f3291f-cd51-441d-ae78-1e8e0eb6887e",
   "metadata": {},
   "outputs": [],
   "source": [
    "len(flist)"
   ]
  },
  {
   "cell_type": "code",
   "execution_count": null,
   "id": "western-warrant",
   "metadata": {},
   "outputs": [],
   "source": [
    "client"
   ]
  },
  {
   "cell_type": "code",
   "execution_count": null,
   "id": "07a177cf-58bc-4839-92fe-12734b8ed8dd",
   "metadata": {},
   "outputs": [],
   "source": [
    "%%time\n",
    "file_objs = [fs.open(file) for file in flist]\n",
    "ds = xr.open_mfdataset(file_objs[:5], parallel=True, combine='nested', concat_dim='t', \n",
    "                       data_vars='minimal', coords='minimal', compat='override')"
   ]
  },
  {
   "cell_type": "code",
   "execution_count": null,
   "id": "396777db-1b2f-45b7-be5e-cf1a8dc4bef9",
   "metadata": {},
   "outputs": [],
   "source": [
    "def preprocessing(ds): \n",
    "    return ds.expand_dims(dim='t')"
   ]
  },
  {
   "cell_type": "code",
   "execution_count": null,
   "id": "604acdbe-cd21-4222-8821-911f2fcb153c",
   "metadata": {},
   "outputs": [],
   "source": [
    "ds = xr.open_mfdataset([file_objs[0]], preprocess=preprocessing)"
   ]
  },
  {
   "cell_type": "code",
   "execution_count": null,
   "id": "fb3c7fe4-0e91-4500-beae-f18ac0f58f0f",
   "metadata": {},
   "outputs": [],
   "source": [
    "ds.SST"
   ]
  },
  {
   "cell_type": "code",
   "execution_count": null,
   "id": "df307f25-e1c5-44d1-b03f-2c6d8c1f929f",
   "metadata": {},
   "outputs": [],
   "source": [
    "print(ds.SST)"
   ]
  },
  {
   "cell_type": "markdown",
   "id": "781d6d7c-ecfb-42a7-96c7-d75f225eded5",
   "metadata": {},
   "source": [
    "#### Try Local Cluster"
   ]
  },
  {
   "cell_type": "code",
   "execution_count": null,
   "id": "collective-stamp",
   "metadata": {},
   "outputs": [],
   "source": [
    "from dask.distributed import Client\n",
    "client = Client()\n",
    "client"
   ]
  },
  {
   "cell_type": "code",
   "execution_count": null,
   "id": "wooden-nature",
   "metadata": {},
   "outputs": [],
   "source": [
    "#client.close()"
   ]
  },
  {
   "cell_type": "markdown",
   "id": "958d7bbf-b628-41fc-add4-4212687e37bf",
   "metadata": {},
   "source": [
    "#### Try Remote Cluster"
   ]
  },
  {
   "cell_type": "code",
   "execution_count": null,
   "id": "516ef2ca-e62b-49a8-bcb2-3cd4e1b7b3d5",
   "metadata": {},
   "outputs": [],
   "source": [
    "import sys, os\n",
    "sys.path.append(os.path.join(os.environ['HOME'],'shared','users','lib'))\n",
    "import ebdpy as ebd\n",
    "\n",
    "worker_max=4\n",
    "client, cluster=ebd.start_dask_cluster(profile='esip-qhub',worker_max=worker_max,\n",
    "                                      worker_profile='Pangeo Worker',\n",
    "                                      propagate_env=False, adaptive_scaling=False)  "
   ]
  },
  {
   "cell_type": "code",
   "execution_count": null,
   "id": "43bb2e32-8a3d-4d02-9a0e-3235918a5040",
   "metadata": {},
   "outputs": [],
   "source": [
    "client"
   ]
  },
  {
   "cell_type": "code",
   "execution_count": null,
   "id": "3ee35f71-cdf6-4746-81cf-a6bb247465dc",
   "metadata": {},
   "outputs": [],
   "source": [
    "%%time\n",
    "ds = xr.open_mfdataset(file_objs, parallel=True, concat_dim='t', combine='nested',\n",
    "                       coords='minimal', data_vars='minimal', compat='override', engine='h5netcdf')"
   ]
  },
  {
   "cell_type": "code",
   "execution_count": null,
   "id": "773c89fe-67f9-47af-a5ce-7177820b4722",
   "metadata": {},
   "outputs": [],
   "source": [
    "%%time\n",
    "ds = xr.open_mfdataset(file_objs, parallel=True, preprocess=preprocessing, concat_dim='t', combine='by_coords',\n",
    "                       coords='minimal', data_vars='minimal', compat='override', engine='h5netcdf')"
   ]
  },
  {
   "cell_type": "code",
   "execution_count": null,
   "id": "72a4cc23-6b92-429b-a433-25cf0f73d700",
   "metadata": {},
   "outputs": [],
   "source": []
  },
  {
   "cell_type": "markdown",
   "id": "c05dab70-554e-4df6-9724-27e5bc663ef4",
   "metadata": {},
   "source": [
    "#### No Client"
   ]
  },
  {
   "cell_type": "code",
   "execution_count": null,
   "id": "6469fae3-103b-43a3-9d71-9fdbee47e7df",
   "metadata": {},
   "outputs": [],
   "source": [
    "%%time \n",
    "ds = xr.open_mfdataset(file_objs, combine='by_coords')"
   ]
  },
  {
   "cell_type": "code",
   "execution_count": null,
   "id": "double-revision",
   "metadata": {},
   "outputs": [],
   "source": [
    "%%time\n",
    "ds = xr.open_mfdataset(file_objs, parallel=True, engine='h5netcdf',\n",
    "                       combine='by_coords', coords='minimal', \n",
    "                       data_vars='minimal', compat='override')"
   ]
  },
  {
   "cell_type": "code",
   "execution_count": null,
   "id": "616bef61-1cc0-412e-afc0-c23763ebfc75",
   "metadata": {},
   "outputs": [],
   "source": []
  }
 ],
 "metadata": {
  "kernelspec": {
   "display_name": "Python [conda env:pangeo]",
   "language": "python",
   "name": "conda-env-pangeo-py"
  },
  "language_info": {
   "codemirror_mode": {
    "name": "ipython",
    "version": 3
   },
   "file_extension": ".py",
   "mimetype": "text/x-python",
   "name": "python",
   "nbconvert_exporter": "python",
   "pygments_lexer": "ipython3",
   "version": "3.8.10"
  }
 },
 "nbformat": 4,
 "nbformat_minor": 5
}
