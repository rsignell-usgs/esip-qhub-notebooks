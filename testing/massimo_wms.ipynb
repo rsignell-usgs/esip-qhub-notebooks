{
 "cells": [
  {
   "cell_type": "code",
   "execution_count": null,
   "id": "a78b2fb7-f0b1-47c8-bc29-e9ecd603ae47",
   "metadata": {},
   "outputs": [],
   "source": [
    "import holoviews as hv\n",
    "import geoviews as gv\n",
    "from owslib.wms import WebMapService\n",
    "\n",
    "gv.extension('bokeh')"
   ]
  },
  {
   "cell_type": "code",
   "execution_count": null,
   "id": "2f445a58-dbe9-4c7e-b482-a1a3e93aae16",
   "metadata": {},
   "outputs": [],
   "source": [
    "basemap = hv.element.tiles.OSM().opts(width=450, height=450)"
   ]
  },
  {
   "cell_type": "code",
   "execution_count": null,
   "id": "9ca43ed3-29aa-48da-9fbf-b7ed160958c6",
   "metadata": {},
   "outputs": [],
   "source": [
    "server = \"http://nbswms.met.no/thredds/wms_ql/NBS/S1A/2021/04/22/IW/S1A_IW_GRDM_1SDV_20210422T152707_20210422T152740_037565_046E1E_0EF5.nc\"\n",
    "wms = WebMapService(server)\n",
    "\n",
    "wms_layers = list(set(list(wms.contents)) - set([\"WMS\", \"lat\", \"on\"]))    \n",
    "# ['amplitude_vv', 'amplitude_vh']\n",
    "\n",
    "YMIN, XMIN, YMAX, XMAX, crs = wms.contents[list(wms.contents)[0]].boundingBox\n"
   ]
  },
  {
   "cell_type": "code",
   "execution_count": null,
   "id": "475d3d1e-7f80-4e9f-bbbb-8e601f877082",
   "metadata": {},
   "outputs": [],
   "source": [
    "crs='EPSG:4326'\n",
    "url=f\"{server}?&service=WMS&request=GetMap&layers={wms_layers[0]}&styles=&format=image/png&transparent=true&version=1.3.0&width=256&height=256&crs={crs}\"\n",
    "url = url + \"&bbox={YMIN},{XMIN},{YMAX},{XMAX}\"\n",
    "\n",
    "extents = (YMIN, XMIN, YMAX, XMAX)\n",
    "\n",
    "basemap * hv.Tiles(url, extents=extents).opts(width=600, height=600)"
   ]
  },
  {
   "cell_type": "code",
   "execution_count": null,
   "id": "12e7a7a4-5d7a-4665-8845-1422a9dc2777",
   "metadata": {},
   "outputs": [],
   "source": [
    "print(url)"
   ]
  },
  {
   "cell_type": "code",
   "execution_count": null,
   "id": "8613a7a8-ad98-4810-bf23-159ddb680b72",
   "metadata": {},
   "outputs": [],
   "source": [
    "print(extents)"
   ]
  }
 ],
 "metadata": {
  "kernelspec": {
   "display_name": "Python [conda env:pangeo]",
   "language": "python",
   "name": "conda-env-pangeo-py"
  },
  "language_info": {
   "codemirror_mode": {
    "name": "ipython",
    "version": 3
   },
   "file_extension": ".py",
   "mimetype": "text/x-python",
   "name": "python",
   "nbconvert_exporter": "python",
   "pygments_lexer": "ipython3",
   "version": "3.8.10"
  }
 },
 "nbformat": 4,
 "nbformat_minor": 5
}
