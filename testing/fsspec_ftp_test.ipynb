{
 "cells": [
  {
   "cell_type": "code",
   "execution_count": null,
   "id": "4890db8c-39ea-4f98-b762-fb96f7d41c1d",
   "metadata": {},
   "outputs": [],
   "source": [
    "import fsspec\n",
    "\n",
    "fs = fsspec.filesystem('ftp', host='ftp.unidata.ucar.edu')\n",
    "fs.glob('pub/netcdf/netcdf-4*.gz')"
   ]
  },
  {
   "cell_type": "code",
   "execution_count": null,
   "id": "ffece43e-c905-4240-986f-18f3ddc8a43d",
   "metadata": {},
   "outputs": [],
   "source": [
    "url = 'ftp://ftp.unidata.ucar.edu/pub/netcdf/netcdf-4.6.1.tar.gz'\n",
    "fs.download(url, 'netcdf.tar.gz')"
   ]
  },
  {
   "cell_type": "code",
   "execution_count": null,
   "id": "3e5c680d-6705-4744-a1ae-99a0a9dd101b",
   "metadata": {},
   "outputs": [],
   "source": []
  }
 ],
 "metadata": {
  "kernelspec": {
   "display_name": "Python [conda env:pangeo]",
   "language": "python",
   "name": "conda-env-pangeo-py"
  },
  "language_info": {
   "codemirror_mode": {
    "name": "ipython",
    "version": 3
   },
   "file_extension": ".py",
   "mimetype": "text/x-python",
   "name": "python",
   "nbconvert_exporter": "python",
   "pygments_lexer": "ipython3",
   "version": "3.8.10"
  }
 },
 "nbformat": 4,
 "nbformat_minor": 5
}
