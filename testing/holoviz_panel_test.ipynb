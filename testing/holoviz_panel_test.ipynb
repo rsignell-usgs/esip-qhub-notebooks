{
 "cells": [
  {
   "cell_type": "code",
   "execution_count": null,
   "id": "15ad0b35",
   "metadata": {},
   "outputs": [],
   "source": [
    "import holoviews as hv\n",
    "import numpy as np\n",
    "import pandas as pd\n",
    "import colorcet as cc"
   ]
  },
  {
   "cell_type": "code",
   "execution_count": null,
   "id": "2ce12dc0",
   "metadata": {},
   "outputs": [],
   "source": [
    "hv.extension(\"bokeh\")\n",
    "\n",
    "\n",
    "def get_data():\n",
    "    data = {\n",
    "        \"1998\": np.random.rand(365),\n",
    "        \"1999\": np.random.rand(365),\n",
    "        \"2000\": np.random.rand(365),\n",
    "        \"2002\": np.random.rand(365),\n",
    "        \"2003\": np.random.rand(365),\n",
    "    }\n",
    "    df = pd.DataFrame(data, index=range(0, 365))\n",
    "    return df"
   ]
  },
  {
   "cell_type": "code",
   "execution_count": null,
   "id": "7b3d9993",
   "metadata": {},
   "outputs": [],
   "source": [
    "# utility to help me placing the month label around the 2nd week of each month\n",
    "\n",
    "def split_list(a, n):\n",
    "    k, m = divmod(len(a), n)\n",
    "    return list(\n",
    "        list(a[i * k + min(i, m) : (i + 1) * k + min(i + 1, m)]) for i in range(n)\n",
    "    )\n",
    "\n",
    "\n",
    "def get_ticks(df, pos):\n",
    "    splitter = split_list(df.index, 12)\n",
    "    months = [\n",
    "        \"Jan\",\n",
    "        \"Feb\",\n",
    "        \"Mar\",\n",
    "        \"Apr\",\n",
    "        \"May\",\n",
    "        \"Jun\",\n",
    "        \"Jul\",\n",
    "        \"Aug\",\n",
    "        \"Sep\",\n",
    "        \"Oct\",\n",
    "        \"Nov\",\n",
    "        \"Dec\",\n",
    "    ]\n",
    "    xticks_map = [i for i in zip([splitter[i][pos] for i in range(0, 12)], months)]\n",
    "    return xticks_map"
   ]
  },
  {
   "cell_type": "code",
   "execution_count": null,
   "id": "f24ca2e9",
   "metadata": {},
   "outputs": [],
   "source": [
    "def get_mplot(df, cols=None):\n",
    "    if cols:\n",
    "        df = df[cols]\n",
    "    if len(df.columns) == 0:\n",
    "        print(\"No coumns selected\")\n",
    "        return None\n",
    "    grid_style = {\n",
    "        \"grid_line_color\": \"black\",\n",
    "        \"grid_line_width\": 1.1,\n",
    "        \"minor_ygrid_line_color\": \"lightgray\",\n",
    "        \"minor_xgrid_line_color\": \"lightgray\",\n",
    "        \"xgrid_line_dash\": [4, 4],\n",
    "    }\n",
    "    colors = cc.glasbey_light[: len(list(df.columns))]\n",
    "    xticks_map = get_ticks(df, 15)\n",
    "    multi_curve = [\n",
    "        hv.Curve((df.index, df[v]), label=str(v)).opts(\n",
    "            xticks=xticks_map,\n",
    "            xrotation=45,\n",
    "            width=900,\n",
    "            height=400,\n",
    "            line_color=colors[i],\n",
    "            gridstyle=grid_style,\n",
    "            show_grid=True,\n",
    "        )\n",
    "        for i, v in enumerate(df)\n",
    "    ]\n",
    "    mplot = hv.Overlay(multi_curve)\n",
    "    return mplot"
   ]
  },
  {
   "cell_type": "code",
   "execution_count": null,
   "id": "9ec9d043",
   "metadata": {},
   "outputs": [],
   "source": [
    "import panel as pn\n",
    "\n",
    "pn.extension()\n",
    "\n",
    "df = get_data()\n",
    "\n",
    "years = pn.widgets.MultiChoice(\n",
    "    name=\"Years\", options=list(df.columns), margin=(0, 20, 0, 0)\n",
    ")"
   ]
  },
  {
   "cell_type": "code",
   "execution_count": null,
   "id": "d28e7eac",
   "metadata": {},
   "outputs": [],
   "source": [
    "a = get_mplot(df)"
   ]
  },
  {
   "cell_type": "code",
   "execution_count": null,
   "id": "fa5c71e2",
   "metadata": {},
   "outputs": [],
   "source": [
    "print(a)"
   ]
  },
  {
   "cell_type": "code",
   "execution_count": null,
   "id": "9331cf99",
   "metadata": {},
   "outputs": [],
   "source": [
    "df = get_data()"
   ]
  },
  {
   "cell_type": "code",
   "execution_count": null,
   "id": "69d3e7cf",
   "metadata": {},
   "outputs": [],
   "source": [
    "df.head()"
   ]
  },
  {
   "cell_type": "code",
   "execution_count": null,
   "id": "28daba98",
   "metadata": {},
   "outputs": [],
   "source": [
    "@pn.depends(years)\n",
    "def get_plot(years):\n",
    "    if years:\n",
    "        df1 = df[years]\n",
    "        mplot = get_mplot(df1, years)\n",
    "    else:\n",
    "        mplot = get_mplot(df)\n",
    "    return mplot"
   ]
  },
  {
   "cell_type": "code",
   "execution_count": null,
   "id": "710c239d",
   "metadata": {},
   "outputs": [],
   "source": [
    "pn.Column(\"Plot!\", get_plot, pn.Row(years), width_policy=\"max\").servable()"
   ]
  },
  {
   "cell_type": "code",
   "execution_count": null,
   "id": "576102a8",
   "metadata": {},
   "outputs": [],
   "source": []
  }
 ],
 "metadata": {
  "kernelspec": {
   "display_name": "Python [conda env:pangeo]",
   "language": "python",
   "name": "conda-env-pangeo-py"
  },
  "language_info": {
   "codemirror_mode": {
    "name": "ipython",
    "version": 3
   },
   "file_extension": ".py",
   "mimetype": "text/x-python",
   "name": "python",
   "nbconvert_exporter": "python",
   "pygments_lexer": "ipython3",
   "version": "3.8.6"
  }
 },
 "nbformat": 4,
 "nbformat_minor": 5
}
