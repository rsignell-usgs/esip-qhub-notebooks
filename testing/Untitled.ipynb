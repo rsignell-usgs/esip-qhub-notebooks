{
 "cells": [
  {
   "cell_type": "code",
   "execution_count": null,
   "metadata": {},
   "outputs": [],
   "source": [
    "import zarr\n",
    "from rechunker import rechunk\n",
    "source = zarr.ones((4, 4), chunks=(2, 2), store=\"source.zarr\")\n",
    "\n",
    "import os\n",
    "import shutil\n",
    "\n",
    "zarr3 = \"zarr3\"\n",
    "if os.path.exists(zarr3):\n",
    "    shutil.rmtree(zarr3)\n",
    "\n",
    "tmp3 = \"tmp3\"\n",
    "if os.path.exists(tmp3):\n",
    "    shutil.rmtree(tmp3)\n",
    "    \n",
    "zarr_chunked = fsspec.get_mapper(zarr3)\n",
    "zarr_temp = fsspec.get_mapper(tmp3)\n",
    "\n",
    "    \n",
    "rechunked = rechunk(source, target_chunks=(4, 1), target_store=zarr_temp,\n",
    "                   max_mem=256000,\n",
    "                   temp_store=zarr_chunked)"
   ]
  },
  {
   "cell_type": "code",
   "execution_count": null,
   "metadata": {},
   "outputs": [],
   "source": []
  }
 ],
 "metadata": {
  "kernelspec": {
   "display_name": "Python [conda env:pangeo]",
   "language": "python",
   "name": "conda-env-pangeo-py"
  },
  "language_info": {
   "codemirror_mode": {
    "name": "ipython",
    "version": 3
   },
   "file_extension": ".py",
   "mimetype": "text/x-python",
   "name": "python",
   "nbconvert_exporter": "python",
   "pygments_lexer": "ipython3",
   "version": "3.8.6"
  }
 },
 "nbformat": 4,
 "nbformat_minor": 4
}
