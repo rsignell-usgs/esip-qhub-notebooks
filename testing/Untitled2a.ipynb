{
 "cells": [
  {
   "cell_type": "code",
   "execution_count": null,
   "id": "177a6340-c27e-4c29-82b9-70aed67f5b83",
   "metadata": {},
   "outputs": [],
   "source": [
    "import fsspec\n",
    "import xarray as xr\n",
    "import hvplot.xarray"
   ]
  },
  {
   "cell_type": "code",
   "execution_count": null,
   "id": "f09e1745-46f8-42f6-b28c-d6c1d0283969",
   "metadata": {},
   "outputs": [],
   "source": [
    "fs = fsspec.filesystem(\"reference\", fo=\"https://storage.googleapis.com/mdtemp/Global_COH2.json\", remote_protocol=\"http\")\n",
    "ds = xr.open_dataset(fs.get_mapper(\"\"), engine=\"zarr\", backend_kwargs={\"consolidated\": False})"
   ]
  },
  {
   "cell_type": "code",
   "execution_count": null,
   "id": "9e9b7564-dd2f-4597-b26b-2d61f26c3722",
   "metadata": {},
   "outputs": [],
   "source": []
  },
  {
   "cell_type": "code",
   "execution_count": null,
   "id": "8ed596ea-4727-40de-9532-5d1c03bca5ec",
   "metadata": {},
   "outputs": [],
   "source": []
  }
 ],
 "metadata": {
  "kernelspec": {
   "display_name": "Python [conda env:pangeo]",
   "language": "python",
   "name": "conda-env-pangeo-py"
  },
  "language_info": {
   "codemirror_mode": {
    "name": "ipython",
    "version": 3
   },
   "file_extension": ".py",
   "mimetype": "text/x-python",
   "name": "python",
   "nbconvert_exporter": "python",
   "pygments_lexer": "ipython3",
   "version": "3.9.7"
  }
 },
 "nbformat": 4,
 "nbformat_minor": 5
}
