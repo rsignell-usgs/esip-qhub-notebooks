{
 "cells": [
  {
   "cell_type": "code",
   "execution_count": null,
   "id": "2aa02d5c-a3e4-4876-bdd3-b9dfd2ff23bd",
   "metadata": {},
   "outputs": [],
   "source": [
    "import fsspec\n",
    "import os"
   ]
  },
  {
   "cell_type": "code",
   "execution_count": null,
   "id": "874ef33b-8dfe-4d02-a37e-df5bd29cf785",
   "metadata": {},
   "outputs": [],
   "source": [
    "token = '?sv=2020-08-04&ss=bfqt&srt=sco&sp=rwdlacuptfx&se=2021-09-20T20:59:34Z&st=2021-09-20T12:59:34Z&spr=https&sig=uFIDju8xoxNlP93C%2FhXMtrXf4f4lpMw%2B3ql9DiN2P4U%3D'"
   ]
  },
  {
   "cell_type": "code",
   "execution_count": null,
   "id": "8258b830-6d9a-44fd-8150-1bf993367709",
   "metadata": {},
   "outputs": [],
   "source": [
    "fs = fsspec.filesystem('abfs', account_name='rsignell', sas_token=token)"
   ]
  },
  {
   "cell_type": "code",
   "execution_count": null,
   "id": "9220f090-f71c-4bfe-a0de-ef08fc883b2a",
   "metadata": {},
   "outputs": [],
   "source": [
    "fs.ls('')"
   ]
  },
  {
   "cell_type": "code",
   "execution_count": null,
   "id": "451fb382-0309-4a42-bf9c-1b73cd1c80a3",
   "metadata": {},
   "outputs": [],
   "source": [
    "fs.rm_file('usgs/edr.nc')"
   ]
  },
  {
   "cell_type": "code",
   "execution_count": null,
   "id": "a495b0be-4dec-4a59-a008-466f7368d4f0",
   "metadata": {},
   "outputs": [],
   "source": [
    "fs.put_file('edr.nc','usgs/edr.nc')"
   ]
  },
  {
   "cell_type": "code",
   "execution_count": null,
   "id": "fe51a0b9-3da5-4cb8-b916-2bcea66c2d52",
   "metadata": {},
   "outputs": [],
   "source": [
    "fs.ls('usgs')"
   ]
  },
  {
   "cell_type": "code",
   "execution_count": null,
   "id": "342568b9-b93e-446a-9963-ae4a8f3ac668",
   "metadata": {},
   "outputs": [],
   "source": []
  }
 ],
 "metadata": {
  "kernelspec": {
   "display_name": "Python [conda env:pangeo]",
   "language": "python",
   "name": "conda-env-pangeo-py"
  },
  "language_info": {
   "codemirror_mode": {
    "name": "ipython",
    "version": 3
   },
   "file_extension": ".py",
   "mimetype": "text/x-python",
   "name": "python",
   "nbconvert_exporter": "python",
   "pygments_lexer": "ipython3",
   "version": "3.9.7"
  }
 },
 "nbformat": 4,
 "nbformat_minor": 5
}
