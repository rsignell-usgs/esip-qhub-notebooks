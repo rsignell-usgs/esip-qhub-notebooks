{
 "cells": [
  {
   "cell_type": "markdown",
   "id": "6bf43d1a-dcb7-41ad-a532-7a92737eb0cb",
   "metadata": {},
   "source": [
    "# Read zipped NHDplus GDB from S3"
   ]
  },
  {
   "cell_type": "code",
   "execution_count": null,
   "id": "62c9a973-9c31-4311-8522-ce376a889afc",
   "metadata": {},
   "outputs": [],
   "source": [
    "import fiona\n",
    "import fsspec\n",
    "import geopandas as gpd\n",
    "import hvplot.pandas"
   ]
  },
  {
   "cell_type": "code",
   "execution_count": null,
   "id": "b5b02ad8-2046-4a00-a186-a2258841e11d",
   "metadata": {},
   "outputs": [],
   "source": [
    "fs = fsspec.filesystem('s3', anon=True)"
   ]
  },
  {
   "cell_type": "markdown",
   "id": "ec3d3426-1e86-485c-b518-7a4db180c5df",
   "metadata": {},
   "source": [
    "#### List a few files from the USGS TNM bucket"
   ]
  },
  {
   "cell_type": "code",
   "execution_count": null,
   "id": "d970e3ff-764b-45b2-aac8-7d5da78f8583",
   "metadata": {},
   "outputs": [],
   "source": [
    "f = fs.ls('prd-tnm/StagedProducts/Hydrography/NHDPlusHR/Beta/GDB/')[0:10]\n",
    "f"
   ]
  },
  {
   "cell_type": "code",
   "execution_count": null,
   "id": "19e949c0-ef35-4fb4-a005-8b5d8bda833c",
   "metadata": {},
   "outputs": [],
   "source": []
  },
  {
   "cell_type": "markdown",
   "id": "6f53265c-90cd-49de-9ff5-f36131d76c2b",
   "metadata": {},
   "source": [
    "#### filter just the zipped GDB files"
   ]
  },
  {
   "cell_type": "code",
   "execution_count": null,
   "id": "f059f5b5-4dd0-4038-8ca3-1fb79ae9e2ea",
   "metadata": {},
   "outputs": [],
   "source": [
    "f = fs.glob('prd-tnm/StagedProducts/Hydrography/NHDPlusHR/Beta/GDB/NHDPLUS*_GDB.zip')\n",
    "f[0:10]"
   ]
  },
  {
   "cell_type": "code",
   "execution_count": null,
   "id": "3829c936-21ab-49b1-b495-cef3ee5ed4ca",
   "metadata": {},
   "outputs": [],
   "source": [
    "len(f)"
   ]
  },
  {
   "cell_type": "markdown",
   "id": "00609d0c-27a8-4a1f-8216-e9ad65eaec34",
   "metadata": {},
   "source": [
    "#### Pick one of these zipped GDB files..."
   ]
  },
  {
   "cell_type": "code",
   "execution_count": null,
   "id": "01f1ac66-35b1-4fb3-b33d-20d1ca5661ff",
   "metadata": {},
   "outputs": [],
   "source": [
    "# url_gdb = 'zip+s3://'+f[10]"
   ]
  },
  {
   "cell_type": "code",
   "execution_count": null,
   "id": "da3440e5-6dd9-476b-854b-1f8a784c8d19",
   "metadata": {},
   "outputs": [],
   "source": [
    "url_gdb = 'zip+s3://'+'prd-tnm/StagedProducts/Hydrography/NHDPlusHR/Beta/GDB/NHDPLUS_H_1810_HU4_GDB.zip'"
   ]
  },
  {
   "cell_type": "code",
   "execution_count": null,
   "id": "1a5bcbb9-c680-44e1-958c-dc8eaf2b5967",
   "metadata": {},
   "outputs": [],
   "source": [
    "fiona.listlayers(url_gdb)"
   ]
  },
  {
   "cell_type": "markdown",
   "id": "c73f9247-0467-4ae7-8232-8b75c6a58c07",
   "metadata": {},
   "source": [
    "#### Pick a layer"
   ]
  },
  {
   "cell_type": "code",
   "execution_count": null,
   "id": "af7ad30c-4d66-4613-9935-8df799fcedf9",
   "metadata": {},
   "outputs": [],
   "source": [
    "gdf = gpd.read_file(url_gdb, layer='WBDHU8')"
   ]
  },
  {
   "cell_type": "code",
   "execution_count": null,
   "id": "a10d2251-622b-4734-b03e-a062ad38bd29",
   "metadata": {},
   "outputs": [],
   "source": [
    "gdf"
   ]
  },
  {
   "cell_type": "markdown",
   "id": "93861b21-5cdd-4506-8bc5-13369b678b1f",
   "metadata": {},
   "source": [
    "#### plot geopandas dataframe with hvplot\n",
    "- overlay with Open Street Map\n",
    "- give a little extra padding to see more of the region (and give more padding in the horizontal)"
   ]
  },
  {
   "cell_type": "code",
   "execution_count": null,
   "id": "743c3950-d298-4579-85f1-13bc0a917d01",
   "metadata": {},
   "outputs": [],
   "source": [
    "gdf.hvplot(geo=True, tiles='OSM', padding=(1.5, 0.5))"
   ]
  }
 ],
 "metadata": {
  "kernelspec": {
   "display_name": "Python [conda env:pangeo]",
   "language": "python",
   "name": "conda-env-pangeo-py"
  },
  "language_info": {
   "codemirror_mode": {
    "name": "ipython",
    "version": 3
   },
   "file_extension": ".py",
   "mimetype": "text/x-python",
   "name": "python",
   "nbconvert_exporter": "python",
   "pygments_lexer": "ipython3",
   "version": "3.8.10"
  }
 },
 "nbformat": 4,
 "nbformat_minor": 5
}
