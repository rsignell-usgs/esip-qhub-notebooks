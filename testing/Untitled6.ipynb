{
 "cells": [
  {
   "cell_type": "code",
   "execution_count": null,
   "metadata": {},
   "outputs": [],
   "source": [
    "import xarray as xr\n",
    "import numpy as np"
   ]
  },
  {
   "cell_type": "code",
   "execution_count": null,
   "metadata": {},
   "outputs": [],
   "source": [
    "def calculate_anomaly(da, groupby_type=\"time.month\"):\n",
    "    gb = da.groupby(groupby_type)\n",
    "    clim = gb.mean(dim=\"time\")\n",
    "    return gb - clim\n",
    "\n",
    "time = xr.cftime_range(\"1990-01\", \"1992-01\", freq=\"M\")\n",
    "month = xr.DataArray(time.month, coords={\"time\": time}, dims=[\"time\"])\n",
    "np.random.seed(123)\n",
    "\n",
    "array = xr.DataArray(\n",
    "    np.random.rand(len(time)),\n",
    "    dims=[\"time\"],\n",
    "    coords={\"time\": time, \"month\": month},\n",
    ").chunk()\n",
    "\n",
    "array.map_blocks(calculate_anomaly, template=array).compute()"
   ]
  },
  {
   "cell_type": "code",
   "execution_count": null,
   "metadata": {},
   "outputs": [],
   "source": [
    "array.map_blocks(\n",
    "    calculate_anomaly,\n",
    "    kwargs={\"groupby_type\": \"time.year\"},\n",
    "    template=array,\n",
    ")  "
   ]
  },
  {
   "cell_type": "code",
   "execution_count": null,
   "metadata": {},
   "outputs": [],
   "source": [
    "array.map_blocks(\n",
    "    calculate_anomaly,\n",
    "    kwargs={\"groupby_type\": \"time.month\"},\n",
    "    template=array,\n",
    ")  "
   ]
  },
  {
   "cell_type": "code",
   "execution_count": null,
   "metadata": {},
   "outputs": [],
   "source": []
  },
  {
   "cell_type": "code",
   "execution_count": null,
   "metadata": {},
   "outputs": [],
   "source": []
  }
 ],
 "metadata": {
  "kernelspec": {
   "display_name": "Python [conda env:pangeo]",
   "language": "python",
   "name": "conda-env-pangeo-py"
  },
  "language_info": {
   "codemirror_mode": {
    "name": "ipython",
    "version": 3
   },
   "file_extension": ".py",
   "mimetype": "text/x-python",
   "name": "python",
   "nbconvert_exporter": "python",
   "pygments_lexer": "ipython3",
   "version": "3.8.6"
  }
 },
 "nbformat": 4,
 "nbformat_minor": 4
}
