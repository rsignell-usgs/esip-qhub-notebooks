{
 "cells": [
  {
   "cell_type": "code",
   "execution_count": null,
   "id": "961d0f94-d071-4c67-8c7c-221dba6cafdc",
   "metadata": {},
   "outputs": [],
   "source": [
    "import xarray as xr\n",
    "import holoviews as hv\n",
    "import xoak\n",
    "import numpy as np\n",
    "from scipy.spatial import cKDTree"
   ]
  },
  {
   "cell_type": "code",
   "execution_count": null,
   "id": "2d68682c-3c8c-4960-b195-9779a1329d48",
   "metadata": {},
   "outputs": [],
   "source": [
    "da = xr.tutorial.open_dataset('rasm')[\"Tair\"].load().isel(time=0)\n",
    "\n",
    "query_lats = [10.1, -2]\n",
    "query_lons = [10, 19]\n",
    "query_coords = np.stack((query_lats, query_lons)).T\n",
    "lats_lons = np.vstack([da['yc'].values.ravel(), da['xc'].values.ravel()]).T\n",
    "kdtree = cKDTree(lats_lons)\n",
    "dist, index = kdtree.query(query_coords)\n",
    "da_sel = da.stack({'index': ['y', 'x']}).isel(index=index).unstack()"
   ]
  },
  {
   "cell_type": "code",
   "execution_count": null,
   "id": "bba6e8ab-a125-45d9-8804-356831a496c7",
   "metadata": {},
   "outputs": [],
   "source": [
    "da_sel"
   ]
  },
  {
   "cell_type": "code",
   "execution_count": null,
   "id": "70fc5171-d3fc-4a48-9fab-8c987a354b96",
   "metadata": {},
   "outputs": [],
   "source": []
  }
 ],
 "metadata": {
  "kernelspec": {
   "display_name": "Python [conda env:pangeo]",
   "language": "python",
   "name": "conda-env-pangeo-py"
  },
  "language_info": {
   "codemirror_mode": {
    "name": "ipython",
    "version": 3
   },
   "file_extension": ".py",
   "mimetype": "text/x-python",
   "name": "python",
   "nbconvert_exporter": "python",
   "pygments_lexer": "ipython3",
   "version": "3.9.7"
  }
 },
 "nbformat": 4,
 "nbformat_minor": 5
}
