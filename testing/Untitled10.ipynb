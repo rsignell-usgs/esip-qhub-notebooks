{
 "cells": [
  {
   "cell_type": "code",
   "execution_count": null,
   "id": "860e6db4-ed7d-458f-9edb-3fde7c982d7c",
   "metadata": {},
   "outputs": [],
   "source": [
    "import xarray as xr"
   ]
  },
  {
   "cell_type": "code",
   "execution_count": null,
   "id": "ab4c9bca-a438-4208-937e-2cd9d2d3d084",
   "metadata": {},
   "outputs": [],
   "source": [
    "url = 'http://nomads.ncep.noaa.gov:80/dods/rtofs/rtofs_global20210607/rtofs_glo_3dz_nowcast_daily_temp'"
   ]
  },
  {
   "cell_type": "code",
   "execution_count": null,
   "id": "ccecf19a-fa44-4e1a-a197-3e97b5c41eb5",
   "metadata": {},
   "outputs": [],
   "source": [
    "ds = xr.open_dataset(url)"
   ]
  },
  {
   "cell_type": "code",
   "execution_count": null,
   "id": "b7125aac-99c4-46ff-83b0-ee9c433677ac",
   "metadata": {},
   "outputs": [],
   "source": [
    "ds.temperature"
   ]
  },
  {
   "cell_type": "code",
   "execution_count": null,
   "id": "20d5ba0f-e4a9-4427-ba03-af09d7972759",
   "metadata": {},
   "outputs": [],
   "source": [
    "import hvplot.xarray"
   ]
  },
  {
   "cell_type": "code",
   "execution_count": null,
   "id": "b81dc17b-4df5-4c18-bfae-8ad465ebbeb9",
   "metadata": {},
   "outputs": [],
   "source": [
    "ds = ds.assign_coords(lon=(((ds.lon + 180) % 360) - 180))"
   ]
  },
  {
   "cell_type": "code",
   "execution_count": null,
   "id": "68f7ba0d-d4f1-409b-bd0e-0b0c0e75a6c4",
   "metadata": {},
   "outputs": [],
   "source": [
    "ds.temperature[-1,0,:,:].hvplot.quadmesh(x='lon', y='lat', rasterize=True, cmap='turbo', \n",
    "                              geo=True)"
   ]
  },
  {
   "cell_type": "code",
   "execution_count": null,
   "id": "82ea2fac-47b9-4e27-9e24-5e6c4ca26927",
   "metadata": {},
   "outputs": [],
   "source": [
    "import fsspec\n",
    "fs = fsspec.filesystem('https')\n",
    "fs.ls('https://nomads.ncep.noaa.gov/pub/data/nccf/com/rtofs/prod/rtofs.20210607/rtofs_glo.fcst1.t00z.forcing.surtmp.a')"
   ]
  },
  {
   "cell_type": "code",
   "execution_count": null,
   "id": "b7b11715-a3b2-4498-b874-08eebf2ac8bb",
   "metadata": {},
   "outputs": [],
   "source": []
  }
 ],
 "metadata": {
  "kernelspec": {
   "display_name": "Python [conda env:pangeo]",
   "language": "python",
   "name": "conda-env-pangeo-py"
  },
  "language_info": {
   "codemirror_mode": {
    "name": "ipython",
    "version": 3
   },
   "file_extension": ".py",
   "mimetype": "text/x-python",
   "name": "python",
   "nbconvert_exporter": "python",
   "pygments_lexer": "ipython3",
   "version": "3.8.10"
  }
 },
 "nbformat": 4,
 "nbformat_minor": 5
}
