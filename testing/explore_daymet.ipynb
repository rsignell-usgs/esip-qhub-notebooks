{
 "cells": [
  {
   "cell_type": "code",
   "execution_count": null,
   "id": "9a30050a",
   "metadata": {},
   "outputs": [],
   "source": [
    "import xarray as xr\n",
    "import fsspec\n",
    "import hvplot.xarray"
   ]
  },
  {
   "cell_type": "code",
   "execution_count": null,
   "id": "0abc01b4",
   "metadata": {},
   "outputs": [],
   "source": [
    "from dask_gateway import Gateway\n",
    "from dask.distributed import Client\n",
    "gateway = Gateway()\n",
    "# see Gateway options to use in new_cluster by doing: gateway.cluster_options()\n",
    "cluster = gateway.new_cluster(environment='pangeo', profile='Small Worker')  \n",
    "cluster.scale(20)\n",
    "client = Client(cluster)\n",
    "cluster"
   ]
  },
  {
   "cell_type": "code",
   "execution_count": null,
   "id": "a4774515",
   "metadata": {},
   "outputs": [],
   "source": [
    "account_name = 'daymeteuwest'\n",
    "container_name = 'daymet-zarr'\n",
    "store = fsspec.get_mapper('az://' + container_name + '/daily/na.zarr', account_name=account_name)\n",
    "# consolidated=True speeds of reading the metadata\n",
    "ds = xr.open_zarr(store, consolidated=True)"
   ]
  },
  {
   "cell_type": "code",
   "execution_count": null,
   "id": "888ea382",
   "metadata": {},
   "outputs": [],
   "source": [
    "ds.tmax"
   ]
  },
  {
   "cell_type": "code",
   "execution_count": null,
   "id": "26d0a6cf",
   "metadata": {},
   "outputs": [],
   "source": [
    "ds_sub = ds.sel(y=slice(-319992.78652461, -331137.92646756), x=slice(-877842.45533692, -864410.28467228))"
   ]
  },
  {
   "cell_type": "code",
   "execution_count": null,
   "id": "42d2fafd",
   "metadata": {},
   "outputs": [],
   "source": [
    "ds_sub.tmax.groupby('time.month').mean()"
   ]
  },
  {
   "cell_type": "code",
   "execution_count": null,
   "id": "f6ba8610",
   "metadata": {},
   "outputs": [],
   "source": [
    "%%time\n",
    "dt = ds_sub.tmax.mean(dim=['x','y']).compute()"
   ]
  },
  {
   "cell_type": "code",
   "execution_count": null,
   "id": "5222f5ee",
   "metadata": {},
   "outputs": [],
   "source": [
    "dt.hvplot(x='time', grid=True)"
   ]
  },
  {
   "cell_type": "code",
   "execution_count": null,
   "id": "331028a5",
   "metadata": {},
   "outputs": [],
   "source": [
    "client.close(); cluster.shutdown()"
   ]
  },
  {
   "cell_type": "code",
   "execution_count": null,
   "id": "9edc6999",
   "metadata": {},
   "outputs": [],
   "source": []
  }
 ],
 "metadata": {
  "kernelspec": {
   "display_name": "Python [conda env:pangeo]",
   "language": "python",
   "name": "conda-env-pangeo-py"
  },
  "language_info": {
   "codemirror_mode": {
    "name": "ipython",
    "version": 3
   },
   "file_extension": ".py",
   "mimetype": "text/x-python",
   "name": "python",
   "nbconvert_exporter": "python",
   "pygments_lexer": "ipython3",
   "version": "3.8.8"
  }
 },
 "nbformat": 4,
 "nbformat_minor": 5
}
