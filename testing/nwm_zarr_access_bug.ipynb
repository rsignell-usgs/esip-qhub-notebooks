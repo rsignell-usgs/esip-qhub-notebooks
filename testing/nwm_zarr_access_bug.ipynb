{
 "cells": [
  {
   "cell_type": "code",
   "execution_count": null,
   "metadata": {},
   "outputs": [],
   "source": [
    "import xarray as xr # allows working with netcdf files; mulitidimensional datasets with coordinates\n",
    "import fsspec # allows me to open AWS S3 buckets (filesystem spec)\n",
    "import numpy as np # allows matrix and array operations\n",
    "import matplotlib.pyplot as plt\n",
    "from dask.distributed import Client, progress # allows distributed computing (parallel conmputing)"
   ]
  },
  {
   "cell_type": "code",
   "execution_count": null,
   "metadata": {},
   "outputs": [],
   "source": [
    "client = Client()\n",
    "client"
   ]
  },
  {
   "cell_type": "code",
   "execution_count": null,
   "metadata": {},
   "outputs": [],
   "source": [
    "%%time\n",
    "# outputs the time it takes to run the cell (two percent signs followed by a command is called cell magic????)\n",
    "# ds = xr.open_zarr(fsspec.get_mapper('s3://pangeo-data-uswest2/esip/NWM2/2017', anon=False, requester_pays=True))\n",
    "# ds = xr.open_zarr(fsspec.get_mapper('s3://esip-qhub/noaa/nwm', anon=False, requester_pays=True))\n",
    "ds = xr.open_zarr(fsspec.get_mapper('s3://noaa-nwm-retro-v2.0-zarr-pds/', anon=True), consolidated=True)"
   ]
  },
  {
   "cell_type": "code",
   "execution_count": null,
   "metadata": {},
   "outputs": [],
   "source": [
    "ds # just calling the variable to print (if it wasn't the last thing in the current cell, use print ds)"
   ]
  },
  {
   "cell_type": "code",
   "execution_count": null,
   "metadata": {},
   "outputs": [],
   "source": [
    "reaches = np.sort(np.array([10064725,10065359,10452338,10453362,10464069,10460567,8745093,1969311,11239079,11239377,10977177,25910528,8834960,8816997,10527139,9069044,25906434,9179824,9091348,9660512,20149927,20151001,9617395,9643525,20107091,9944828,9927684,14347320,6395537,18257633,16624798,16660513,21491880,79494,79564,79556,79468,16812521]))\n",
    "print(reaches)"
   ]
  },
  {
   "cell_type": "code",
   "execution_count": null,
   "metadata": {},
   "outputs": [],
   "source": [
    "ds['streamflow'].sel(feature_id=reaches) # or can do ds.streamflow and get the same thing; doing this without the .compute() shows what it will do without doing it"
   ]
  },
  {
   "cell_type": "code",
   "execution_count": null,
   "metadata": {},
   "outputs": [],
   "source": [
    "%%time\n",
    "dsflosup = ds.streamflow.sel(feature_id=reaches).compute() # .sel is select; must assign a variable name to actually get the output"
   ]
  },
  {
   "cell_type": "code",
   "execution_count": null,
   "metadata": {},
   "outputs": [],
   "source": [
    "plt.figure(figsize=(10,8))\n",
    "for reach in reaches: # this is like for reach=1:length(reaches)\n",
    "    dsflosup.sel(feature_id=reach).plot(label=reach)\n",
    "# plt.legend()\n",
    "plt.show()"
   ]
  },
  {
   "cell_type": "code",
   "execution_count": null,
   "metadata": {},
   "outputs": [],
   "source": [
    "dsflosup.to_netcdf('FloSupMajorStreams.nc')"
   ]
  },
  {
   "cell_type": "code",
   "execution_count": null,
   "metadata": {},
   "outputs": [],
   "source": [
    "print(dsflosup.time[0], dsflosup.time[-1]) # to get just the values, could tack on .values after square brackets"
   ]
  },
  {
   "cell_type": "code",
   "execution_count": null,
   "metadata": {},
   "outputs": [],
   "source": [
    "dsflosup.nbytes/1e6"
   ]
  },
  {
   "cell_type": "code",
   "execution_count": null,
   "metadata": {},
   "outputs": [],
   "source": [
    "from bokeh.plotting import ColumnDataSource, figure, output_file, show\n",
    "\n",
    "output_file(\"toolbar.html\")\n",
    "\n",
    "source = ColumnDataSource(data=dict(\n",
    "    x=[1, 2, 3, 4, 5],\n",
    "    y=[2, 5, 8, 2, 7],\n",
    "    desc=['A', 'b', 'C', 'd', 'E'],\n",
    "))\n",
    "\n",
    "TOOLTIPS = [\n",
    "    (\"index\", \"$index\"),\n",
    "    (\"(x,y)\", \"($x, $y)\"),\n",
    "    (\"desc\", \"@desc\"),\n",
    "]\n",
    "\n",
    "p = figure(plot_width=400, plot_height=400, tooltips=TOOLTIPS,\n",
    "           title=\"Mouse over the dots\")\n",
    "\n",
    "p.circle('x', 'y', size=20, source=source)\n",
    "\n",
    "show(p)"
   ]
  },
  {
   "cell_type": "code",
   "execution_count": null,
   "metadata": {},
   "outputs": [],
   "source": [
    "p"
   ]
  },
  {
   "cell_type": "code",
   "execution_count": null,
   "metadata": {},
   "outputs": [],
   "source": []
  }
 ],
 "metadata": {
  "kernelspec": {
   "display_name": "Python [conda env:pangeo]",
   "language": "python",
   "name": "conda-env-pangeo-py"
  },
  "language_info": {
   "codemirror_mode": {
    "name": "ipython",
    "version": 3
   },
   "file_extension": ".py",
   "mimetype": "text/x-python",
   "name": "python",
   "nbconvert_exporter": "python",
   "pygments_lexer": "ipython3",
   "version": "3.8.6"
  }
 },
 "nbformat": 4,
 "nbformat_minor": 4
}
