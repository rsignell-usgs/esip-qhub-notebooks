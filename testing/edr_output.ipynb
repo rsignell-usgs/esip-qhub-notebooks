{
 "cells": [
  {
   "cell_type": "markdown",
   "id": "5c9bb6b5-1f22-4f54-ae5f-14ce336cc8be",
   "metadata": {},
   "source": [
    "# Explore a NetCDF file obtained by the EDR API"
   ]
  },
  {
   "cell_type": "code",
   "execution_count": null,
   "id": "f300470d-a543-4d9c-94b9-7c060ef62dc6",
   "metadata": {},
   "outputs": [],
   "source": [
    "import xarray as xr\n",
    "import hvplot.xarray"
   ]
  },
  {
   "cell_type": "code",
   "execution_count": null,
   "id": "12c27f33-c46c-4771-a0f6-329ad25c84a8",
   "metadata": {},
   "outputs": [],
   "source": [
    "ds = xr.open_dataset('edr.nc')"
   ]
  },
  {
   "cell_type": "code",
   "execution_count": null,
   "id": "b03d6724-e7d4-4bc7-a36a-ca9b5910c65f",
   "metadata": {},
   "outputs": [],
   "source": [
    "ds"
   ]
  },
  {
   "cell_type": "code",
   "execution_count": null,
   "id": "d6c96ba9-8e34-48ec-9355-87c7ea3f2302",
   "metadata": {},
   "outputs": [],
   "source": [
    "ds.streamflow.hvplot(x='time', grid=True)"
   ]
  }
 ],
 "metadata": {
  "kernelspec": {
   "display_name": "Python [conda env:pangeo]",
   "language": "python",
   "name": "conda-env-pangeo-py"
  },
  "language_info": {
   "codemirror_mode": {
    "name": "ipython",
    "version": 3
   },
   "file_extension": ".py",
   "mimetype": "text/x-python",
   "name": "python",
   "nbconvert_exporter": "python",
   "pygments_lexer": "ipython3",
   "version": "3.9.7"
  }
 },
 "nbformat": 4,
 "nbformat_minor": 5
}
