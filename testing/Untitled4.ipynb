{
 "cells": [
  {
   "cell_type": "code",
   "execution_count": null,
   "metadata": {},
   "outputs": [],
   "source": [
    "import xarray as xr\n",
    "from siphon.catalog import TDSCatalog"
   ]
  },
  {
   "cell_type": "code",
   "execution_count": null,
   "metadata": {},
   "outputs": [],
   "source": [
    "sample_dap_url = 'https://geoport.usgs.esipfed.org/thredds/dodsC/vortexfs1/usgs/Projects/COAWST/2012/coawst_us_20120625_01.nc'"
   ]
  },
  {
   "cell_type": "code",
   "execution_count": null,
   "metadata": {},
   "outputs": [],
   "source": [
    "xr.open_dataset(sample_dap_url)"
   ]
  },
  {
   "cell_type": "code",
   "execution_count": null,
   "metadata": {},
   "outputs": [],
   "source": [
    "http_urls = ['https://geoport.usgs.esipfed.org/thredds/fileServer/vortexfs1/usgs/Projects/COAWST/2012/coawst_us_20120625_01.nc',\n",
    "               'https://geoport.usgs.esipfed.org/thredds/fileServer/vortexfs1/usgs/Projects/COAWST/2012/coawst_us_20120625_13.nc',\n",
    "               'https://geoport.usgs.esipfed.org/thredds/fileServer/vortexfs1/usgs/Projects/COAWST/2012/coawst_us_20120627_01.nc',\n",
    "               'https://geoport.usgs.esipfed.org/thredds/fileServer/vortexfs1/usgs/Projects/COAWST/2012/coawst_us_20120627_13.nc',\n",
    "               'https://geoport.usgs.esipfed.org/thredds/fileServer/vortexfs1/usgs/Projects/COAWST/2012/coawst_us_20120628_01.nc']"
   ]
  },
  {
   "cell_type": "code",
   "execution_count": null,
   "metadata": {},
   "outputs": [],
   "source": []
  }
 ],
 "metadata": {
  "kernelspec": {
   "display_name": "Python [conda env:pangeo]",
   "language": "python",
   "name": "conda-env-pangeo-py"
  },
  "language_info": {
   "codemirror_mode": {
    "name": "ipython",
    "version": 3
   },
   "file_extension": ".py",
   "mimetype": "text/x-python",
   "name": "python",
   "nbconvert_exporter": "python",
   "pygments_lexer": "ipython3",
   "version": "3.8.6"
  }
 },
 "nbformat": 4,
 "nbformat_minor": 4
}
