{
 "cells": [
  {
   "cell_type": "markdown",
   "metadata": {},
   "source": [
    "# NRCan and USGS Elevation products WCS extraction"
   ]
  },
  {
   "cell_type": "code",
   "execution_count": null,
   "metadata": {},
   "outputs": [],
   "source": [
    "import os\n",
    "import gdal\n",
    "import matplotlib.pyplot as plt\n",
    "from matplotlib import image\n",
    "import scipy.ndimage\n",
    "import numpy as np\n",
    "import os\n",
    "import folium\n",
    "import requests\n",
    "import rasterio\n",
    "from rasterio.plot import plotting_extent\n",
    "from ipyleaflet import Map, Marker, basemaps, basemap_to_tiles\n",
    "\n",
    "USA_WCS = \"https://elevation.nationalmap.gov/arcgis/services/3DEPElevation/ImageServer/WCSServer\"\n",
    "CANADA_WCS = \"https://datacube.services.geo.ca/ows/elevation\""
   ]
  },
  {
   "cell_type": "code",
   "execution_count": null,
   "metadata": {},
   "outputs": [],
   "source": [
    "# Load OGC Services from NRCan and USGS\n",
    "\n",
    "m = folium.Map(location=[65.0, -141.1],zoom_start=5)\n",
    "\n",
    "canada = folium.raster_layers.WmsTileLayer(url = 'https://datacube.services.geo.ca/ows/elevation?', \n",
    "                                        layers = 'dsm-hillshade',\n",
    "                                        fmt='image/png',\n",
    "                                        version='1.3.0'\n",
    "                                        )\n",
    "\n",
    "usa = folium.raster_layers.WmsTileLayer(url = 'https://elevation.nationalmap.gov/arcgis/services/3DEPElevation/ImageServer/WMSServer?',\n",
    "                                       layers = '3DEPElevation:Hillshade Gray',\n",
    "                                       fmt='image/png',\n",
    "                                       version='1.3.0')\n",
    "canada.layer_name = 'Canada'\n",
    "usa.layer_name = 'USA'\n",
    "\n",
    "usa.add_to(m)\n",
    "canada.add_to(m)\n",
    "\n",
    "folium.LayerControl().add_to(m)\n",
    "\n",
    "m"
   ]
  },
  {
   "cell_type": "code",
   "execution_count": null,
   "metadata": {},
   "outputs": [],
   "source": [
    "# Draw a polygon for extraction\n",
    "\n",
    "xmin = -141\n",
    "ymin = 64.6\n",
    "xmax = -140.8\n",
    "ymax = 64.8\n",
    "aoi = \"\"\"\n",
    "{\"type\": \"Polygon\",\"coordinates\": [[[%s,%s],[%s,%s],[%s,%s],[%s,%s],[%s,%s]]]}\n",
    "\"\"\" % (xmin,ymin,xmin,ymax,xmax,ymax,xmax,ymin,xmin,ymin)\n",
    "\n",
    "lat,lon = ((ymax+ymin)/2), ((xmax+xmin)/2)\n",
    "\n",
    "m = folium.Map(location=[lat, lon],zoom_start=10)\n",
    "\n",
    "usa.add_to(m)\n",
    "canada.add_to(m)\n",
    "\n",
    "folium.GeoJson(\n",
    "    aoi,\n",
    "    name='geojson'\n",
    ").add_to(m)\n",
    "\n",
    "\n",
    "folium.LayerControl().add_to(m)\n",
    "\n",
    "m"
   ]
  },
  {
   "cell_type": "code",
   "execution_count": null,
   "metadata": {},
   "outputs": [],
   "source": [
    "# Extract Canadian area from polygon (curl on WCS)\n",
    "\n",
    "request = \"\"\"%s?\n",
    "SERVICE=WCS&\n",
    "VERSION=1.1.1&\n",
    "REQUEST=GetCoverage&\n",
    "FORMAT=image/geotiff&\n",
    "IDENTIFIER=dsm&\n",
    "BOUNDINGBOX=%s,%s,%s,%s,urn:ogc:def:crs:EPSG::4326&\n",
    "GRIDBASECRS=urn:ogc:def:crs:EPSG::4326&\n",
    "GRIDCS=urn:ogc:def:cs:OGC:0.0:Grid2dSquareCS&\n",
    "GRIDTYPE=urn:ogc:def:method:WCS:1.1:2dSimpleGrid&\n",
    "GRIDORIGIN=%s,%s&\n",
    "GRIDOFFSETS=-0.00032835370435852,0.00032877413163684\"\"\"%(CANADA_WCS,ymin,xmin,ymax,xmax,ymax,xmin) \n",
    "\n",
    "request = \"%s\" % (request.replace('\\n',''))\n",
    "call = \"\"\"curl -k -s \"%s\" --output Canada_tmp.tif\"\"\"%(request)\n",
    "\n",
    "os.system(call)\n",
    "\n",
    "call = \"gdal_translate -ot Float32 Canada_tmp.tif Canada.tif\"\n",
    "\n",
    "os.system(call)\n",
    "\n",
    "gtif = gdal.Open(\"Canada.tif\")\n",
    "georaster = gtif.ReadAsArray()\n",
    "\n",
    "shp = georaster.shape\n",
    "\n",
    "plt.imshow(georaster)\n",
    "plt.title(\"Canada\")\n",
    "plt.show()"
   ]
  },
  {
   "cell_type": "markdown",
   "metadata": {},
   "source": [
    "Try using Requests instead:"
   ]
  },
  {
   "cell_type": "code",
   "execution_count": null,
   "metadata": {},
   "outputs": [],
   "source": [
    "CANADA_WCS = \"https://datacube.services.geo.ca/ows/elevation\"\n",
    "\n",
    "params = {'SERVICE':'WCS',\n",
    "'VERSION':'1.1.1',\n",
    "'REQUEST':'GetCoverage',\n",
    "'FORMAT':'image/geotiff',\n",
    "'IDENTIFIER':'dsm',\n",
    "'BOUNDINGBOX':f'{ymin},{xmin},{ymax},{xmax},urn:ogc:def:crs:EPSG::4326',\n",
    "'GRIDBASECRS':'urn:ogc:def:crs:EPSG::4326',\n",
    "'GRIDCS':'urn:ogc:def:cs:OGC:0.0:Grid2dSquareCS',\n",
    "'GRIDTYPE':'urn:ogc:def:method:WCS:1.1:2dSimpleGrid',\n",
    "'GRIDORIGIN':f'{ymax},{xmin}',\n",
    "'GRIDOFFSETS':'-0.00032835370435852,0.00032877413163684'}\n",
    "\n",
    "r = requests.get(CANADA_WCS, params=params)"
   ]
  },
  {
   "cell_type": "code",
   "execution_count": null,
   "metadata": {},
   "outputs": [],
   "source": [
    "r.url"
   ]
  },
  {
   "cell_type": "code",
   "execution_count": null,
   "metadata": {},
   "outputs": [],
   "source": [
    "import fsspec"
   ]
  },
  {
   "cell_type": "code",
   "execution_count": null,
   "metadata": {},
   "outputs": [],
   "source": [
    "fs = fsspec.filesystem('https')"
   ]
  },
  {
   "cell_type": "code",
   "execution_count": null,
   "metadata": {},
   "outputs": [],
   "source": [
    "f = fs.get(r.url, 'foo.tif')"
   ]
  },
  {
   "cell_type": "code",
   "execution_count": null,
   "metadata": {},
   "outputs": [],
   "source": [
    "import xarray as xr\n",
    "da = xr.open_rasterio(f.open())"
   ]
  },
  {
   "cell_type": "code",
   "execution_count": null,
   "metadata": {},
   "outputs": [],
   "source": [
    "data_array"
   ]
  },
  {
   "cell_type": "code",
   "execution_count": null,
   "metadata": {},
   "outputs": [],
   "source": [
    "import fsspec\n",
    "infile = fsspec.open(r.url, mode='rt', anon=True)"
   ]
  },
  {
   "cell_type": "code",
   "execution_count": null,
   "metadata": {},
   "outputs": [],
   "source": [
    "da = xr.open_rasterio(r.url)"
   ]
  },
  {
   "cell_type": "code",
   "execution_count": null,
   "metadata": {},
   "outputs": [],
   "source": [
    "request = \"\"\"%s?\n",
    "SERVICE=WCS&\n",
    "VERSION=1.0.0&\n",
    "REQUEST=GetCoverage&\n",
    "FORMAT=GeoTIFF&\n",
    "COVERAGE=DEP3Elevation&\n",
    "BBOX=%s,%s,%s,%s&\n",
    "CRS=EPSG:4326&\n",
    "RESPONSE_CRS=EPSG:4326&\n",
    "WIDTH=%s&\n",
    "HEIGHT=%s\"\"\"%(USA_WCS,xmin,ymin,xmax,ymax,shp[1],shp[0]) \n",
    "\n",
    "request = \"%s\" % (request.replace('\\n',''))\n",
    "call = \"\"\"curl -k -s \"%s\" --output USA.tif\"\"\"%(request)\n",
    "\n",
    "os.system(call)\n",
    "\n",
    "gtif = gdal.Open(\"USA.tif\")\n",
    "georaster = gtif.ReadAsArray()\n",
    "\n",
    "plt.imshow(georaster)\n",
    "plt.title(\"USA\")\n",
    "plt.show()"
   ]
  },
  {
   "cell_type": "code",
   "execution_count": null,
   "metadata": {},
   "outputs": [],
   "source": [
    "# Plot differences between two raster\n",
    "\n",
    "with rasterio.open(\"Canada.tif\") as canada_dem:\n",
    "    canada_dem_im = canada_dem.read(1,masked=True)\n",
    "    bounds = plotting_extent(canada_dem)\n",
    "\n",
    "with rasterio.open(\"USA.tif\") as usa_dem:\n",
    "    usa_dem_im = usa_dem.read(1,masked=True)\n",
    "\n",
    "# Are the bounds the same?\n",
    "print(\"Is the spatial extent the same?\", \n",
    "      canada_dem.bounds == usa_dem.bounds)\n",
    "\n",
    "# Is the resolution the same ??\n",
    "print(\"Is the resolution the same?\", \n",
    "      canada_dem.res == usa_dem.res)\n",
    "\n",
    "diff = canada_dem_im - usa_dem_im\n",
    "\n",
    "plt.imshow(diff)\n",
    "plt.title(\"Difference Canada/USA\")\n",
    "plt.colorbar()\n",
    "plt.show()\n",
    "\n",
    "plt.hist(diff)\n",
    "plt.show()"
   ]
  },
  {
   "cell_type": "code",
   "execution_count": null,
   "metadata": {},
   "outputs": [],
   "source": [
    "# Merge DTMs, draw a line, extract differences\n",
    "\n",
    "# Generate some data\n",
    "call = \"gdalbuildvrt Canada-USA-merged.vrt USA.tif Canada.tif\"\n",
    "\n",
    "os.system(call)\n",
    "\n",
    "gtif = gdal.Open(\"Canada-USA-merged.vrt\")\n",
    "georaster = gtif.ReadAsArray()\n",
    "i = isnan(georaster)\n",
    "georaster[i] = 0\n",
    "\n",
    "canada = gdal.Open(\"Canada.tif\")\n",
    "canada_grid = canada.ReadAsArray()\n",
    "i = isnan(canada_grid)\n",
    "canada_grid[i] = 0\n",
    "\n",
    "usa = gdal.Open(\"USA.tif\")\n",
    "usa_grid = usa.ReadAsArray()\n",
    "\n",
    "\n",
    "# Extract the line\n",
    "x0, y0 = 225, 150\n",
    "x1, y1 = 55,400\n",
    "num = 101\n",
    "x, y = np.linspace(x0,x1,num), np.linspace(y0,y1,num)\n",
    "\n",
    "# Extract the values along the line, using cubic interpolation\n",
    "zi = scipy.ndimage.map_coordinates(georaster, np.vstack((x,y)))\n",
    "canada = scipy.ndimage.map_coordinates(canada_grid, np.vstack((x,y)))\n",
    "usa = scipy.ndimage.map_coordinates(usa_grid, np.vstack((x,y)))\n",
    "\n",
    "# Plot...\n",
    "\n",
    "fig, axes= plt.subplots(nrows=3, figsize=(20,30))\n",
    "\n",
    "axes[0].imshow(georaster, interpolation='none')\n",
    "axes[0].plot([x0, x1], [y0, y1], 'ro-')\n",
    "axes[0].axis('image')\n",
    "axes[0].set_title('Canada/USA merged')\n",
    "\n",
    "l1 = axes[1].plot(canada, 'r',linewidth=3, label='Canada')\n",
    "l2 = axes[1].plot(usa,'b', linewidth=3, label='USA')\n",
    "l3 = axes[1].plot(zi, '--g', linewidth=3, label='Canada-USA merged')\n",
    "axes[1].legend()\n",
    "\n",
    "l1 = axes[2].plot(canada, 'r',linewidth=3, label='Canada')\n",
    "l2 = axes[2].plot(usa,'b', linewidth=3, label='USA')\n",
    "l3 =axes[2].plot(zi, '--g', linewidth=5, label='Canada-USA merged')\n",
    "axes[2].set_xlim([30,60])\n",
    "axes[2].set_ylim([400,1000])\n",
    "axes[2].legend()\n",
    "\n",
    "plt.show()"
   ]
  },
  {
   "cell_type": "code",
   "execution_count": null,
   "metadata": {},
   "outputs": [],
   "source": []
  }
 ],
 "metadata": {
  "kernelspec": {
   "display_name": "Python [conda env:pangeo]",
   "language": "python",
   "name": "conda-env-pangeo-py"
  },
  "language_info": {
   "codemirror_mode": {
    "name": "ipython",
    "version": 3
   },
   "file_extension": ".py",
   "mimetype": "text/x-python",
   "name": "python",
   "nbconvert_exporter": "python",
   "pygments_lexer": "ipython3",
   "version": "3.7.8"
  }
 },
 "nbformat": 4,
 "nbformat_minor": 4
}
