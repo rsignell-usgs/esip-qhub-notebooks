{
 "cells": [
  {
   "cell_type": "markdown",
   "id": "a4108776-2095-4696-a4b6-fef7c2496fce",
   "metadata": {},
   "source": [
    "# Rechunk the kerchunked dataset"
   ]
  },
  {
   "cell_type": "code",
   "execution_count": null,
   "id": "720e3f30-0708-48c0-bbbb-696383c2b2f1",
   "metadata": {},
   "outputs": [],
   "source": [
    "import fsspec\n",
    "import fsspec.implementations.reference\n",
    "import zarr\n",
    "import xarray as xr\n",
    "from pathlib import Path\n",
    "\n",
    "from rechunker import rechunk"
   ]
  },
  {
   "cell_type": "code",
   "execution_count": null,
   "id": "4c5f1ee6-fc59-4b3f-8d9e-0d618bd8dd75",
   "metadata": {},
   "outputs": [],
   "source": [
    "import rechunker\n",
    "rechunker.__version__"
   ]
  },
  {
   "cell_type": "code",
   "execution_count": null,
   "id": "ecf60b93-c561-4e2e-ad79-c409c919cdaf",
   "metadata": {},
   "outputs": [],
   "source": [
    "import zarr\n",
    "zarr.__version__"
   ]
  },
  {
   "cell_type": "code",
   "execution_count": null,
   "id": "d7750381-0a8e-4f7b-917c-acb578acf698",
   "metadata": {},
   "outputs": [],
   "source": [
    "#client.close(); cluster.close()"
   ]
  },
  {
   "cell_type": "markdown",
   "id": "1a0babee-2b88-4713-abf6-32ff6ca7862a",
   "metadata": {},
   "source": [
    "#### Start a Dask Gateway cluster\n",
    "Use a custom helper function `ebd.start_dask_cluster` to set options on this cluster.  We don't have to use this helper, it just cuts down on lines of code in notebooks."
   ]
  },
  {
   "cell_type": "code",
   "execution_count": null,
   "id": "ca9dd82d-0281-498b-8a28-61d8267d6a50",
   "metadata": {},
   "outputs": [],
   "source": [
    "from dask.distributed import LocalCluster, Client\n",
    "\n",
    "cluster = LocalCluster(threads_per_worker=1, n_workers=40)\n",
    "client = Client(cluster)\n",
    "client"
   ]
  },
  {
   "cell_type": "markdown",
   "id": "de1aafae-7b66-4895-8d36-9beddbbb9aec",
   "metadata": {},
   "source": [
    "#### Open Combined Kerchunked Dataset"
   ]
  },
  {
   "cell_type": "code",
   "execution_count": null,
   "id": "44f9fa14-658e-479f-a485-ac87d775f8a8",
   "metadata": {},
   "outputs": [],
   "source": [
    "combined_json = '/caldera/hytest_scratch/scratch/rsignell/sudhir.json'"
   ]
  },
  {
   "cell_type": "code",
   "execution_count": null,
   "id": "391492ac-706e-471f-8b94-8b9f7c35b65b",
   "metadata": {},
   "outputs": [],
   "source": [
    "%%time\n",
    "fs = fsspec.filesystem(\"reference\", fo=combined_json, ref_storage_args={'skip_instance_cache':True})\n",
    "m = fs.get_mapper(\"\")\n",
    "\n",
    "ds = xr.open_dataset(m, engine=\"zarr\", mask_and_scale=False,\n",
    "                     backend_kwargs={'consolidated':False}, chunks={})"
   ]
  },
  {
   "cell_type": "code",
   "execution_count": null,
   "id": "5c1df56b-d237-498b-8f2c-8272471dd24c",
   "metadata": {},
   "outputs": [],
   "source": [
    "ds"
   ]
  },
  {
   "cell_type": "code",
   "execution_count": null,
   "id": "ed93d481-0566-4f1a-828a-779bbca1d978",
   "metadata": {},
   "outputs": [],
   "source": [
    "ds = ds.isel(time=slice(0,144))"
   ]
  },
  {
   "cell_type": "code",
   "execution_count": null,
   "id": "68ec120f-44c0-415e-87bc-16434b7c1d61",
   "metadata": {},
   "outputs": [],
   "source": [
    "ds"
   ]
  },
  {
   "cell_type": "code",
   "execution_count": null,
   "id": "64225297-1761-4eaa-bc13-118888ffc367",
   "metadata": {},
   "outputs": [],
   "source": [
    "ds.nbytes/1e9"
   ]
  },
  {
   "cell_type": "markdown",
   "id": "e2c8e98a-1569-46a0-b85c-2e4d20916b4d",
   "metadata": {},
   "source": [
    "#### set up zarr stores for temporary and final zarr stores on S3"
   ]
  },
  {
   "cell_type": "code",
   "execution_count": null,
   "id": "86da688a-14bc-486b-87c0-c1d11a28de3f",
   "metadata": {},
   "outputs": [],
   "source": [
    "fs_write = fsspec.filesystem('file')"
   ]
  },
  {
   "cell_type": "code",
   "execution_count": null,
   "id": "a53b62f7-0df4-44b0-a03d-5dee35f2a00e",
   "metadata": {},
   "outputs": [],
   "source": [
    "temp_name = '/caldera/hytest_scratch/scratch/rsignell/AORC/rechunk/test01.tmp'\n",
    "target_name = '/caldera/hytest_scratch/scratch/rsignell/AORC/rechunk/test01.zarr'"
   ]
  },
  {
   "cell_type": "code",
   "execution_count": null,
   "id": "94ffca87-dbb5-4a35-9dab-89270429cd9c",
   "metadata": {},
   "outputs": [],
   "source": [
    "temp_store = fs_write.get_mapper(temp_name)\n",
    "target_store = fs_write.get_mapper(target_name)"
   ]
  },
  {
   "cell_type": "code",
   "execution_count": null,
   "id": "7c043b20-3e43-435e-9e45-7023b178698a",
   "metadata": {},
   "outputs": [],
   "source": [
    "try:\n",
    "    fs_write.rm(temp_name, recursive=True)\n",
    "except:\n",
    "    pass\n",
    "try:\n",
    "    fs_write.rm(target_name, recursive=True)\n",
    "except:\n",
    "    pass"
   ]
  },
  {
   "cell_type": "code",
   "execution_count": null,
   "id": "897ad2cc-c265-4085-bd14-f8705db644fb",
   "metadata": {},
   "outputs": [],
   "source": [
    "nt = len(ds.time)\n",
    "nt = 365*24*30"
   ]
  },
  {
   "cell_type": "code",
   "execution_count": null,
   "id": "a9989b3c-f8ea-4ec0-8781-1505842e0835",
   "metadata": {},
   "outputs": [],
   "source": [
    "a = int(nt)/144\n",
    "a"
   ]
  },
  {
   "cell_type": "code",
   "execution_count": null,
   "id": "5a945faa-d66c-44d1-a6ae-099e9ed53adf",
   "metadata": {},
   "outputs": [],
   "source": [
    "b = (len(ds.longitude) * len(ds.latitude))/((2*200)*(2*200))\n",
    "b"
   ]
  },
  {
   "cell_type": "code",
   "execution_count": null,
   "id": "9cdfac4b-65f3-4f5c-8319-962d527cd32f",
   "metadata": {},
   "outputs": [],
   "source": [
    "a/b"
   ]
  },
  {
   "cell_type": "code",
   "execution_count": null,
   "id": "53971a98-0617-4c40-9ff4-351968873a36",
   "metadata": {},
   "outputs": [],
   "source": [
    "2.8/4"
   ]
  },
  {
   "cell_type": "code",
   "execution_count": null,
   "id": "507f792b-e6b4-46e7-82c0-c2bd55cfde94",
   "metadata": {},
   "outputs": [],
   "source": [
    "#client.close()"
   ]
  },
  {
   "cell_type": "code",
   "execution_count": null,
   "id": "76f39719-735f-4a8a-96ab-f50018a92441",
   "metadata": {},
   "outputs": [],
   "source": [
    "#from dask.distributed import Client"
   ]
  },
  {
   "cell_type": "code",
   "execution_count": null,
   "id": "3dee03ed-3fd8-446c-899f-4ac197ac08f2",
   "metadata": {},
   "outputs": [],
   "source": [
    "#client = Client(threads_per_worker=1)"
   ]
  },
  {
   "cell_type": "code",
   "execution_count": null,
   "id": "ecba9a21-ed99-4b31-97b5-55259c5b3b71",
   "metadata": {},
   "outputs": [],
   "source": [
    "#client.amm.start()"
   ]
  },
  {
   "cell_type": "code",
   "execution_count": null,
   "id": "26f90202-40e2-410c-b05c-f4a312b9364e",
   "metadata": {},
   "outputs": [],
   "source": [
    "import zarr.storage\n",
    "from numcodecs import Zstd\n",
    "zarr.storage.default_compressor = Zstd(level=9)"
   ]
  },
  {
   "cell_type": "code",
   "execution_count": null,
   "id": "152c8ba0-63f9-42bf-81f8-e18969c9ed06",
   "metadata": {},
   "outputs": [],
   "source": [
    "(200*200*144)*2/1e6"
   ]
  },
  {
   "cell_type": "code",
   "execution_count": null,
   "id": "1d6e573b-51ac-41f3-8e30-2e603e2fabb4",
   "metadata": {},
   "outputs": [],
   "source": [
    "190/40*.7"
   ]
  },
  {
   "cell_type": "code",
   "execution_count": null,
   "id": "7ca37741-1179-40e5-b96a-cd89cd44aab0",
   "metadata": {},
   "outputs": [],
   "source": [
    "chunks={'latitude':400, 'longitude':400, 'time':168}\n",
    "verbose=True\n",
    "mem = '3.0GB'\n",
    "group_chunks = {}\n",
    "# newer tuple version that also takes into account when specified chunks are larger than the array\n",
    "for var in ds.variables:\n",
    "    # pick appropriate chunks from above, and default to full length chunks for dimensions that are not in `chunks` above.\n",
    "    group_chunks[var] = []\n",
    "    for di in ds[var].dims:\n",
    "        if di in chunks.keys():\n",
    "            if chunks[di] > len(ds[di]):\n",
    "                group_chunks[var].append(len(ds[di]))\n",
    "            else:\n",
    "                group_chunks[var].append(chunks[di])\n",
    "\n",
    "        else:\n",
    "            group_chunks[var].append(len(ds[di]))\n",
    "\n",
    "    group_chunks[var] = tuple(group_chunks[var])\n",
    "if verbose:\n",
    "    print(f\"Rechunking to: {group_chunks}\")\n",
    "    print(f\"mem:{mem}\")\n"
   ]
  },
  {
   "cell_type": "markdown",
   "id": "5ee745ca-7648-48b1-abc3-6c10992e1fbc",
   "metadata": {},
   "source": [
    "#### Rechunk!"
   ]
  },
  {
   "cell_type": "code",
   "execution_count": null,
   "id": "3efaddf0-722a-43bf-bd93-c22ada3cd235",
   "metadata": {},
   "outputs": [],
   "source": [
    "%%time\n",
    "rechunked = rechunker.rechunk(ds, target_chunks=group_chunks, max_mem=mem,\n",
    "                              target_store=target_store, temp_store=temp_store)\n",
    "rechunked.execute(retries=10)"
   ]
  },
  {
   "cell_type": "code",
   "execution_count": null,
   "id": "d248277f-0621-4cda-9f9f-0f475f88908f",
   "metadata": {},
   "outputs": [],
   "source": [
    "zarr.convenience.consolidate_metadata(target_store)"
   ]
  },
  {
   "cell_type": "markdown",
   "id": "8ba15656-c501-4aae-b327-c6cb0d24dce7",
   "metadata": {},
   "source": [
    "#### Explore the rechunked dataset"
   ]
  },
  {
   "cell_type": "code",
   "execution_count": null,
   "id": "15466b5d-13f3-4d45-a09d-136e6ddcb907",
   "metadata": {},
   "outputs": [],
   "source": [
    "ds2 = xr.open_dataset(target_store, engine='zarr', chunks={})"
   ]
  },
  {
   "cell_type": "code",
   "execution_count": null,
   "id": "9d708e7f-a6bb-4a62-acf3-1c692b60ea87",
   "metadata": {},
   "outputs": [],
   "source": [
    "ds2.nbytes/1e9   #uncompressed data size in GB"
   ]
  },
  {
   "cell_type": "code",
   "execution_count": null,
   "id": "91c1a356-5ad9-4f72-ae3e-85bb29f0f20b",
   "metadata": {},
   "outputs": [],
   "source": [
    "ds2"
   ]
  },
  {
   "cell_type": "code",
   "execution_count": null,
   "id": "cee33374-49d0-4607-a812-c9ed98eefb48",
   "metadata": {},
   "outputs": [],
   "source": [
    "ds2.APCP_surface"
   ]
  },
  {
   "cell_type": "code",
   "execution_count": null,
   "id": "91926a5d-0e86-4b57-b5ef-53b9c3b51c03",
   "metadata": {},
   "outputs": [],
   "source": [
    "import hvplot.xarray"
   ]
  },
  {
   "cell_type": "code",
   "execution_count": null,
   "id": "c23b9064-8f13-432d-85b4-cbe8ec5384a3",
   "metadata": {},
   "outputs": [],
   "source": [
    "%%time\n",
    "da = ds.APCP_surface.sel(longitude=-115.18, latitude=46.65, method='nearest').load()"
   ]
  },
  {
   "cell_type": "code",
   "execution_count": null,
   "id": "45bb3308-e42e-4ba0-8e02-955f272d2a15",
   "metadata": {},
   "outputs": [],
   "source": [
    "da.hvplot(x='time', grid=True)"
   ]
  },
  {
   "cell_type": "code",
   "execution_count": null,
   "id": "0faf6fb3-535a-47b3-b6cf-8be87ab62ace",
   "metadata": {},
   "outputs": [],
   "source": [
    "cluster.close()"
   ]
  },
  {
   "cell_type": "code",
   "execution_count": null,
   "id": "8b097fda-d4d0-4cc4-99d1-9fc9ed28e27e",
   "metadata": {},
   "outputs": [],
   "source": [
    "client.close()"
   ]
  },
  {
   "cell_type": "code",
   "execution_count": null,
   "id": "07af28b1-ecca-4cc7-a597-38d3ed97cb05",
   "metadata": {},
   "outputs": [],
   "source": [
    "client"
   ]
  },
  {
   "cell_type": "code",
   "execution_count": null,
   "id": "89b28fcb-2169-4e8a-a064-30748a9e1000",
   "metadata": {},
   "outputs": [],
   "source": []
  }
 ],
 "metadata": {
  "kernelspec": {
   "display_name": "conda:pangeo",
   "language": "python",
   "name": "conda-pangeo"
  },
  "language_info": {
   "codemirror_mode": {
    "name": "ipython",
    "version": 3
   },
   "file_extension": ".py",
   "mimetype": "text/x-python",
   "name": "python",
   "nbconvert_exporter": "python",
   "pygments_lexer": "ipython3",
   "version": "3.9.15"
  }
 },
 "nbformat": 4,
 "nbformat_minor": 5
}
