{
 "cells": [
  {
   "cell_type": "markdown",
   "id": "3cc11e51-f04b-40cb-afd1-3f187597316f",
   "metadata": {},
   "source": [
    "# Create a virtual Zarr dataset from the individual AORC-OWP JSON files"
   ]
  },
  {
   "cell_type": "code",
   "execution_count": null,
   "id": "541b4e76-17bb-47f5-b498-f920c6a2c155",
   "metadata": {},
   "outputs": [],
   "source": [
    "import fsspec\n",
    "import xarray as xr\n",
    "import ujson   # fast json\n",
    "from pathlib import Path\n",
    "from kerchunk.combine import MultiZarrToZarr, auto_dask, JustLoad"
   ]
  },
  {
   "cell_type": "code",
   "execution_count": null,
   "id": "a1522df3-d601-476e-8658-e52e1f44fceb",
   "metadata": {},
   "outputs": [],
   "source": [
    "fs_write = fsspec.filesystem('file')"
   ]
  },
  {
   "cell_type": "markdown",
   "id": "8037220c-d765-457b-b551-31c7fc61938d",
   "metadata": {},
   "source": [
    "##### Use a helper function specific to this Nebari deployment to start Dask cluster"
   ]
  },
  {
   "cell_type": "code",
   "execution_count": null,
   "id": "a9ddb4c3-c16a-421d-9898-b52a2b43bf67",
   "metadata": {},
   "outputs": [],
   "source": [
    "from dask.distributed import LocalCluster, Client\n",
    "\n",
    "cluster = LocalCluster(threads_per_worker=1)\n",
    "client = Client(cluster)\n",
    "client"
   ]
  },
  {
   "cell_type": "code",
   "execution_count": null,
   "id": "83f47208-a095-470a-81af-07023dd41f38",
   "metadata": {},
   "outputs": [],
   "source": [
    "json_dir = '/caldera/hytest_scratch/scratch/rsignell/json_files'"
   ]
  },
  {
   "cell_type": "code",
   "execution_count": null,
   "id": "18d932b6-d597-4457-a404-90e72f581b4b",
   "metadata": {},
   "outputs": [],
   "source": [
    "json_list = fs_write.glob(f'{json_dir}/*.json')"
   ]
  },
  {
   "cell_type": "code",
   "execution_count": null,
   "id": "d799eff9-5818-4b5c-9679-b5a94dd1b766",
   "metadata": {},
   "outputs": [],
   "source": [
    "json_list[0]"
   ]
  },
  {
   "cell_type": "code",
   "execution_count": null,
   "id": "c59e47be-9bcf-4ac3-83e2-ab329d9e6b62",
   "metadata": {},
   "outputs": [],
   "source": [
    "so = dict(mode='rb', default_fill_cache=False, default_cache_type='first')"
   ]
  },
  {
   "cell_type": "markdown",
   "id": "9015cbc6-868c-4780-9a14-1a5c1d303a90",
   "metadata": {},
   "source": [
    "## merge individual jsons into single combined JSON (serial process)"
   ]
  },
  {
   "cell_type": "raw",
   "id": "f69e55d8-65b8-42d9-a96e-475969655bc9",
   "metadata": {},
   "source": [
    "%%time \n",
    "mzz = MultiZarrToZarr(json_list,                \n",
    "    remote_protocol='s3',\n",
    "    remote_options={'requester_pays':True},\n",
    "    target_options = {'requester_pays':True},\n",
    "    concat_dims=['time']\n",
    ")\n",
    "\n",
    "d = mzz.translate()"
   ]
  },
  {
   "cell_type": "markdown",
   "id": "6774260d-1e58-4943-9178-a886e8cbf37b",
   "metadata": {},
   "source": [
    "#### merge individual jsons into single combined JSON in parallel using Dask"
   ]
  },
  {
   "cell_type": "code",
   "execution_count": null,
   "id": "84352dc7-ca73-4f31-b518-20fad631a84c",
   "metadata": {},
   "outputs": [],
   "source": [
    "worker_max=80"
   ]
  },
  {
   "cell_type": "code",
   "execution_count": null,
   "id": "770787b6-a51e-40e1-b73b-719c9350b304",
   "metadata": {},
   "outputs": [],
   "source": [
    "%%time\n",
    "d = auto_dask(\n",
    "    json_list,\n",
    "    single_driver=JustLoad,\n",
    "    single_kwargs={\"storage_options\": {}},\n",
    "    mzz_kwargs={\"concat_dims\": [\"time\"]},\n",
    "    n_batches=worker_max,   # give one batch to each worker\n",
    "#    remote_protocol=\"s3\",\n",
    "#    remote_options={\"requester_pays\": True}\n",
    ")"
   ]
  },
  {
   "cell_type": "markdown",
   "id": "75470b2f-3dc4-43a1-97e2-9efa23431c17",
   "metadata": {},
   "source": [
    "#### Explore the combined JSON"
   ]
  },
  {
   "cell_type": "code",
   "execution_count": null,
   "id": "4bf49fcb-6719-42a0-937e-2dbd8725d329",
   "metadata": {},
   "outputs": [],
   "source": [
    "%%time\n",
    "fs = fsspec.filesystem(\"reference\", fo=d, ref_storage_args={'skip_instance_cache':True})\n",
    "m = fs.get_mapper(\"\")\n",
    "\n",
    "ds = xr.open_dataset(m, engine=\"zarr\", backend_kwargs={'consolidated':False}, chunks={})"
   ]
  },
  {
   "cell_type": "code",
   "execution_count": null,
   "id": "6bc4a2f8-fa6a-4fcf-ae1a-71e524c25be0",
   "metadata": {},
   "outputs": [],
   "source": [
    "ds"
   ]
  },
  {
   "cell_type": "code",
   "execution_count": null,
   "id": "91929655-ed7d-405e-bec0-ad8251ecd0da",
   "metadata": {},
   "outputs": [],
   "source": [
    "ds.APCP_surface"
   ]
  },
  {
   "cell_type": "markdown",
   "id": "8f81e851-12b8-4279-b0f7-c1cb14f57503",
   "metadata": {},
   "source": [
    "## visualize "
   ]
  },
  {
   "cell_type": "code",
   "execution_count": null,
   "id": "020bbbee-a7f8-4916-a4c5-a3a368593ca7",
   "metadata": {},
   "outputs": [],
   "source": [
    "import hvplot.xarray"
   ]
  },
  {
   "cell_type": "code",
   "execution_count": null,
   "id": "0f08ce5a-619d-4641-85ad-8265c51b32fd",
   "metadata": {},
   "outputs": [],
   "source": [
    "da = ds.APCP_surface.sel(time='2000-02-15 06:00').load()"
   ]
  },
  {
   "cell_type": "code",
   "execution_count": null,
   "id": "20223c22-2656-43f0-8a1f-d30f2e0816a2",
   "metadata": {},
   "outputs": [],
   "source": [
    "da.hvplot.image(x='longitude', y='latitude', geo=True, rasterize=True, cmap='turbo', tiles='OSM')"
   ]
  },
  {
   "cell_type": "markdown",
   "id": "aaac6623-e267-47bd-9ebe-e544ab930e0b",
   "metadata": {},
   "source": [
    "#### Extract a time series"
   ]
  },
  {
   "cell_type": "code",
   "execution_count": null,
   "id": "3b46a4c6-5d92-4563-a51b-21330eb3b9da",
   "metadata": {},
   "outputs": [],
   "source": [
    "%%time\n",
    "da = ds.APCP_surface.sel(longitude=-115.18, latitude=46.65, method='nearest').load()"
   ]
  },
  {
   "cell_type": "code",
   "execution_count": null,
   "id": "dabd033a-928c-4b41-a2ba-8bbbe8bee1a4",
   "metadata": {},
   "outputs": [],
   "source": [
    "da.hvplot(x='time', grid=True)"
   ]
  },
  {
   "cell_type": "markdown",
   "id": "0d92425c-39ff-4688-9678-17b4c47d9d64",
   "metadata": {},
   "source": [
    "write combined JSON to storage"
   ]
  },
  {
   "cell_type": "code",
   "execution_count": null,
   "id": "b52c0407-dd62-49f3-818a-7828877fba0b",
   "metadata": {},
   "outputs": [],
   "source": [
    "combined_json = '/caldera/hytest_scratch/scratch/rsignell/sudhir.json'"
   ]
  },
  {
   "cell_type": "code",
   "execution_count": null,
   "id": "9e9d7973-db78-49e3-ada5-98207a4501e9",
   "metadata": {},
   "outputs": [],
   "source": [
    "%%time\n",
    "with fs_write.open(combined_json, 'wb') as f:\n",
    "    f.write(ujson.dumps(d).encode());"
   ]
  },
  {
   "cell_type": "code",
   "execution_count": null,
   "id": "8bbad772-913a-4f90-8718-34ba022d13fc",
   "metadata": {},
   "outputs": [],
   "source": []
  }
 ],
 "metadata": {
  "kernelspec": {
   "display_name": "conda:pangeo",
   "language": "python",
   "name": "conda-pangeo"
  },
  "language_info": {
   "codemirror_mode": {
    "name": "ipython",
    "version": 3
   },
   "file_extension": ".py",
   "mimetype": "text/x-python",
   "name": "python",
   "nbconvert_exporter": "python",
   "pygments_lexer": "ipython3",
   "version": "3.9.15"
  }
 },
 "nbformat": 4,
 "nbformat_minor": 5
}
