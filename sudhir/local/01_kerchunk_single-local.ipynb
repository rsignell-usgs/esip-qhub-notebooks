{
 "cells": [
  {
   "cell_type": "markdown",
   "id": "3cc11e51-f04b-40cb-afd1-3f187597316f",
   "metadata": {},
   "source": [
    "# Kerchunk the AORC-OWP NetCDF files"
   ]
  },
  {
   "cell_type": "code",
   "execution_count": null,
   "id": "541b4e76-17bb-47f5-b498-f920c6a2c155",
   "metadata": {},
   "outputs": [],
   "source": [
    "import fsspec\n",
    "import xarray as xr\n",
    "import ujson   # fast json\n",
    "from kerchunk.hdf import SingleHdf5ToZarr \n",
    "from kerchunk.combine import MultiZarrToZarr\n",
    "from pathlib import Path"
   ]
  },
  {
   "cell_type": "code",
   "execution_count": null,
   "id": "139cc6a9-03c2-4bbe-b5ec-c6064058ef31",
   "metadata": {},
   "outputs": [],
   "source": [
    "fs_read = fsspec.filesystem('file')"
   ]
  },
  {
   "cell_type": "code",
   "execution_count": null,
   "id": "a1522df3-d601-476e-8658-e52e1f44fceb",
   "metadata": {},
   "outputs": [],
   "source": [
    "fs_write = fsspec.filesystem('file')"
   ]
  },
  {
   "cell_type": "code",
   "execution_count": null,
   "id": "98f78a96-db02-45e4-a564-417c4c215968",
   "metadata": {},
   "outputs": [],
   "source": [
    "nc_files = fs_read.glob('/caldera/hytest_scratch/scratch/rsignell/nc_files/200002/*.nc4') \n",
    "\n",
    "len(nc_files)"
   ]
  },
  {
   "cell_type": "code",
   "execution_count": null,
   "id": "22a076c3-d2a8-4000-9002-b69ef575ba2e",
   "metadata": {},
   "outputs": [],
   "source": [
    "from dask.distributed import LocalCluster, Client\n",
    "\n",
    "cluster = LocalCluster(threads_per_worker=1)\n",
    "\n",
    "client = Client(cluster)\n",
    "\n",
    "client"
   ]
  },
  {
   "cell_type": "code",
   "execution_count": null,
   "id": "83f47208-a095-470a-81af-07023dd41f38",
   "metadata": {},
   "outputs": [],
   "source": [
    "json_dir = '/caldera/hytest_scratch/scratch/rsignell/json_files'"
   ]
  },
  {
   "cell_type": "code",
   "execution_count": null,
   "id": "f9a708c5-175c-4b21-bddb-b18fd5af7f47",
   "metadata": {},
   "outputs": [],
   "source": [
    "nc_files[0]"
   ]
  },
  {
   "cell_type": "code",
   "execution_count": null,
   "id": "87badaf6-830b-4484-ad78-60443f0f86bf",
   "metadata": {},
   "outputs": [],
   "source": [
    "#cluster.close()"
   ]
  },
  {
   "cell_type": "code",
   "execution_count": null,
   "id": "7cd5f2bd-336c-4475-abcb-94234ac8af7b",
   "metadata": {},
   "outputs": [],
   "source": [
    "def gen_json(u):\n",
    "    with fs_read.open(u, **so) as infile:\n",
    "        h5chunks = SingleHdf5ToZarr(infile, u, inline_threshold=300)\n",
    "        fstem = Path(u).stem \n",
    "        outf = f'{json_dir}/{fstem}.json'\n",
    "        print(outf)\n",
    "        with fs_write.open(outf, 'wb') as f:\n",
    "            f.write(ujson.dumps(h5chunks.translate()).encode());"
   ]
  },
  {
   "cell_type": "code",
   "execution_count": null,
   "id": "c59e47be-9bcf-4ac3-83e2-ab329d9e6b62",
   "metadata": {},
   "outputs": [],
   "source": [
    "so = dict(mode='rb', default_fill_cache=False, default_cache_type='first')"
   ]
  },
  {
   "cell_type": "markdown",
   "id": "116bb8c0-02c2-45af-9b98-9043d96daba1",
   "metadata": {},
   "source": [
    "#### Test one file"
   ]
  },
  {
   "cell_type": "code",
   "execution_count": null,
   "id": "bfb995aa-f5ab-4efe-81d8-6675eb217afb",
   "metadata": {},
   "outputs": [],
   "source": [
    "%%time \n",
    "gen_json(nc_files[0])"
   ]
  },
  {
   "cell_type": "code",
   "execution_count": null,
   "id": "4bd27f78-3db3-4bd7-b0d1-2be79a3f6989",
   "metadata": {},
   "outputs": [],
   "source": [
    "single_json = '/caldera/hytest_scratch/scratch/rsignell/json_files/AORC-OWP_2000020100z.json'"
   ]
  },
  {
   "cell_type": "code",
   "execution_count": null,
   "id": "93927d15-6bc0-475b-a0cb-c08bce669a7e",
   "metadata": {},
   "outputs": [],
   "source": [
    "%%time\n",
    "fs = fsspec.filesystem(\"reference\", fo=single_json, ref_storage_args={'skip_instance_cache':True},\n",
    "                       )"
   ]
  },
  {
   "cell_type": "code",
   "execution_count": null,
   "id": "8dca018c-65ef-4db6-8e63-9ca017573f35",
   "metadata": {},
   "outputs": [],
   "source": [
    "fs.ls('PRES_surface')"
   ]
  },
  {
   "cell_type": "code",
   "execution_count": null,
   "id": "434d65f4-e408-4385-8f52-e65cf7487ffc",
   "metadata": {},
   "outputs": [],
   "source": [
    "m = fs.get_mapper(\"\")\n",
    "ds = xr.open_dataset(m, engine=\"zarr\", backend_kwargs={'consolidated':False}, chunks={})"
   ]
  },
  {
   "cell_type": "code",
   "execution_count": null,
   "id": "570b27f6-8e9e-426c-8ec5-f72c8cdb13db",
   "metadata": {
    "tags": []
   },
   "outputs": [],
   "source": [
    "ds"
   ]
  },
  {
   "cell_type": "markdown",
   "id": "ee186601-2119-4b04-970b-df4af036ed88",
   "metadata": {},
   "source": [
    "#### Use Dask bag to compute the JSONs in parallel"
   ]
  },
  {
   "cell_type": "code",
   "execution_count": null,
   "id": "b322ab1f-6067-4b2f-adf1-77ca247a0d0b",
   "metadata": {},
   "outputs": [],
   "source": [
    "import dask.bag as db"
   ]
  },
  {
   "cell_type": "code",
   "execution_count": null,
   "id": "6fadfef7-12ab-4363-8819-1ab97e630578",
   "metadata": {},
   "outputs": [],
   "source": [
    "cluster.workers"
   ]
  },
  {
   "cell_type": "code",
   "execution_count": null,
   "id": "2294156e-6b47-4ee9-8e64-9dfc56892854",
   "metadata": {},
   "outputs": [],
   "source": [
    "b = db.from_sequence(nc_files, npartitions=80)"
   ]
  },
  {
   "cell_type": "code",
   "execution_count": null,
   "id": "b0c7ca00-3a99-4873-9745-b7f226f3c12b",
   "metadata": {},
   "outputs": [],
   "source": [
    "b1 = b.map(gen_json)"
   ]
  },
  {
   "cell_type": "code",
   "execution_count": null,
   "id": "c9c5616b-a54f-4d29-90c7-c4e8cd6eb757",
   "metadata": {},
   "outputs": [],
   "source": [
    "%%time\n",
    "_ = b1.compute(retries=10)"
   ]
  },
  {
   "cell_type": "code",
   "execution_count": null,
   "id": "18d12a50-e08e-48f7-bffb-9c85bb42bfd3",
   "metadata": {},
   "outputs": [],
   "source": [
    "json_list = fs_write.glob(f'{json_dir}/*.json')  "
   ]
  },
  {
   "cell_type": "code",
   "execution_count": null,
   "id": "b458fbfa-5151-49e0-9257-1d0d7746d547",
   "metadata": {},
   "outputs": [],
   "source": [
    "print(len(json_list))"
   ]
  },
  {
   "cell_type": "code",
   "execution_count": null,
   "id": "22e320e4-4a6d-4d65-9051-f9a8b56b5c5c",
   "metadata": {},
   "outputs": [],
   "source": []
  }
 ],
 "metadata": {
  "kernelspec": {
   "display_name": "conda:pangeo",
   "language": "python",
   "name": "conda-pangeo"
  },
  "language_info": {
   "codemirror_mode": {
    "name": "ipython",
    "version": 3
   },
   "file_extension": ".py",
   "mimetype": "text/x-python",
   "name": "python",
   "nbconvert_exporter": "python",
   "pygments_lexer": "ipython3",
   "version": "3.9.15"
  }
 },
 "nbformat": 4,
 "nbformat_minor": 5
}
