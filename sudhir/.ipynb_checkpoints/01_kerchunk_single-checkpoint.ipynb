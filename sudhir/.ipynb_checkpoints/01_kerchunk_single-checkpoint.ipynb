{
 "cells": [
  {
   "cell_type": "markdown",
   "id": "3cc11e51-f04b-40cb-afd1-3f187597316f",
   "metadata": {},
   "source": [
    "# Kerchunk the AORC-OWP NetCDF files"
   ]
  },
  {
   "cell_type": "code",
   "execution_count": 1,
   "id": "541b4e76-17bb-47f5-b498-f920c6a2c155",
   "metadata": {},
   "outputs": [],
   "source": [
    "import fsspec\n",
    "import xarray as xr\n",
    "import ujson   # fast json\n",
    "from kerchunk.hdf import SingleHdf5ToZarr \n",
    "from kerchunk.combine import MultiZarrToZarr\n",
    "from pathlib import Path"
   ]
  },
  {
   "cell_type": "code",
   "execution_count": 2,
   "id": "139cc6a9-03c2-4bbe-b5ec-c6064058ef31",
   "metadata": {},
   "outputs": [],
   "source": [
    "fs_read = fsspec.filesystem('s3', requester_pays=True)"
   ]
  },
  {
   "cell_type": "code",
   "execution_count": 35,
   "id": "a1522df3-d601-476e-8658-e52e1f44fceb",
   "metadata": {},
   "outputs": [],
   "source": [
    "fs_write = fsspec.filesystem('s3', anon=False)"
   ]
  },
  {
   "cell_type": "code",
   "execution_count": 25,
   "id": "98f78a96-db02-45e4-a564-417c4c215968",
   "metadata": {},
   "outputs": [
    {
     "data": {
      "text/plain": [
       "387"
      ]
     },
     "execution_count": 25,
     "metadata": {},
     "output_type": "execute_result"
    }
   ],
   "source": [
    "nc_files = fs_read.glob('s3://esip-qhub/noaa/my_ncfiles/200002/*.nc4') \n",
    "\n",
    "len(nc_files)"
   ]
  },
  {
   "cell_type": "code",
   "execution_count": 34,
   "id": "a9ddb4c3-c16a-421d-9898-b52a2b43bf67",
   "metadata": {},
   "outputs": [
    {
     "name": "stdout",
     "output_type": "stream",
     "text": [
      "Region: us-west-2\n",
      "No Cluster running.\n",
      "Starting new cluster.\n",
      "{}\n",
      "Setting Cluster Environment Variable AWS_DEFAULT_REGION us-west-2\n",
      "Setting Fixed Scaling workers=10\n",
      "Reconnect client to clear cache\n",
      "client.dashboard_link (for new browser tab/window or dashboard searchbar in Jupyterhub):\n",
      "https://nebari.esipfed.org/gateway/clusters/dev.4eb3f3df285e4b4e90d772b2c6dc9f3b/status\n",
      "Propagating environment variables to workers\n",
      "Using environment: users/users-pangeo\n"
     ]
    }
   ],
   "source": [
    "import os\n",
    "import sys\n",
    "sys.path.append(os.path.join(os.environ['HOME'],'shared','users','lib'))\n",
    "import ebdpy as ebd\n",
    "\n",
    "profile = 'esip-qhub'\n",
    "region = 'us-west-2'\n",
    "endpoint = f's3.{region}.amazonaws.com'\n",
    "ebd.set_credentials(profile=profile, region=region, endpoint=endpoint)\n",
    "worker_max = 10\n",
    "client,cluster = ebd.start_dask_cluster(profile=profile, worker_max=worker_max, \n",
    "                                      region=region, use_existing_cluster=True,\n",
    "                                      adaptive_scaling=False, wait_for_cluster=False, \n",
    "                                      worker_profile='Small Worker', \n",
    "                                      propagate_env=True)"
   ]
  },
  {
   "cell_type": "code",
   "execution_count": 6,
   "id": "83f47208-a095-470a-81af-07023dd41f38",
   "metadata": {},
   "outputs": [],
   "source": [
    "json_dir = 's3://esip-qhub/noaa/AORC/jsons'"
   ]
  },
  {
   "cell_type": "code",
   "execution_count": 10,
   "id": "f9a708c5-175c-4b21-bddb-b18fd5af7f47",
   "metadata": {},
   "outputs": [
    {
     "data": {
      "text/plain": [
       "'esip-qhub/noaa/my_ncfiles/200002/AORC-OWP_2000020100z.nc4'"
      ]
     },
     "execution_count": 10,
     "metadata": {},
     "output_type": "execute_result"
    }
   ],
   "source": [
    "nc_files[0]"
   ]
  },
  {
   "cell_type": "code",
   "execution_count": 7,
   "id": "87badaf6-830b-4484-ad78-60443f0f86bf",
   "metadata": {},
   "outputs": [],
   "source": [
    "#cluster.close()"
   ]
  },
  {
   "cell_type": "code",
   "execution_count": 13,
   "id": "c59e47be-9bcf-4ac3-83e2-ab329d9e6b62",
   "metadata": {},
   "outputs": [],
   "source": [
    "so = dict(mode='rb', requester_pays=True, default_fill_cache=False, default_cache_type='first')"
   ]
  },
  {
   "cell_type": "code",
   "execution_count": 36,
   "id": "7cd5f2bd-336c-4475-abcb-94234ac8af7b",
   "metadata": {},
   "outputs": [],
   "source": [
    "def gen_json(u):\n",
    "    with fs_read.open(u, **so) as infile:\n",
    "        h5chunks = SingleHdf5ToZarr(infile, u, inline_threshold=300)\n",
    "        fstem = Path(u).stem \n",
    "        outf = f'{json_dir}/{fstem}.json'\n",
    "        print(outf)\n",
    "        with fs_write.open(outf, 'wb') as f:\n",
    "            f.write(ujson.dumps(h5chunks.translate()).encode());"
   ]
  },
  {
   "cell_type": "markdown",
   "id": "116bb8c0-02c2-45af-9b98-9043d96daba1",
   "metadata": {},
   "source": [
    "#### Test one file"
   ]
  },
  {
   "cell_type": "code",
   "execution_count": 15,
   "id": "bfb995aa-f5ab-4efe-81d8-6675eb217afb",
   "metadata": {},
   "outputs": [
    {
     "name": "stdout",
     "output_type": "stream",
     "text": [
      "s3://esip-qhub/noaa/AORC/jsons/AORC-OWP_2000020100z.json\n"
     ]
    }
   ],
   "source": [
    "gen_json(nc_files[0])"
   ]
  },
  {
   "cell_type": "code",
   "execution_count": 16,
   "id": "4bd27f78-3db3-4bd7-b0d1-2be79a3f6989",
   "metadata": {},
   "outputs": [],
   "source": [
    "single_json = 's3://esip-qhub/noaa/AORC/jsons/AORC-OWP_2000020100z.json'"
   ]
  },
  {
   "cell_type": "code",
   "execution_count": 37,
   "id": "4bf49fcb-6719-42a0-937e-2dbd8725d329",
   "metadata": {},
   "outputs": [
    {
     "name": "stdout",
     "output_type": "stream",
     "text": [
      "<xarray.Dataset>\n",
      "Dimensions:              (time: 1, latitude: 4201, longitude: 8401)\n",
      "Coordinates:\n",
      "  * latitude             (latitude) float64 20.0 20.01 20.02 ... 54.99 55.0\n",
      "  * longitude            (longitude) float64 -130.0 -130.0 ... -60.01 -60.0\n",
      "  * time                 (time) datetime64[ns] 2000-02-01\n",
      "Data variables:\n",
      "    APCP_surface         (time, latitude, longitude) float32 dask.array<chunksize=(1, 1024, 2048), meta=np.ndarray>\n",
      "    DLWRF_surface        (time, latitude, longitude) float32 dask.array<chunksize=(1, 1024, 2048), meta=np.ndarray>\n",
      "    DSWRF_surface        (time, latitude, longitude) float32 dask.array<chunksize=(1, 1024, 2048), meta=np.ndarray>\n",
      "    PRES_surface         (time, latitude, longitude) float32 dask.array<chunksize=(1, 1024, 2048), meta=np.ndarray>\n",
      "    SPFH_2maboveground   (time, latitude, longitude) float32 dask.array<chunksize=(1, 1024, 2048), meta=np.ndarray>\n",
      "    TMP_2maboveground    (time, latitude, longitude) float32 dask.array<chunksize=(1, 1024, 2048), meta=np.ndarray>\n",
      "    UGRD_10maboveground  (time, latitude, longitude) float32 dask.array<chunksize=(1, 1024, 2048), meta=np.ndarray>\n",
      "    VGRD_10maboveground  (time, latitude, longitude) float32 dask.array<chunksize=(1, 1024, 2048), meta=np.ndarray>\n",
      "CPU times: user 43.8 ms, sys: 0 ns, total: 43.8 ms\n",
      "Wall time: 131 ms\n"
     ]
    }
   ],
   "source": [
    "%%time\n",
    "fs = fsspec.filesystem(\"reference\", fo=single_json, ref_storage_args={'skip_instance_cache':True},\n",
    "                       remote_protocol='s3', remote_options={'requester_pays':True})\n",
    "m = fs.get_mapper(\"\")\n",
    "\n",
    "ds = xr.open_dataset(m, engine=\"zarr\", backend_kwargs={'consolidated':False}, chunks={})\n",
    "print(ds)"
   ]
  },
  {
   "cell_type": "code",
   "execution_count": 38,
   "id": "b322ab1f-6067-4b2f-adf1-77ca247a0d0b",
   "metadata": {},
   "outputs": [],
   "source": [
    "import dask.bag as db"
   ]
  },
  {
   "cell_type": "code",
   "execution_count": 39,
   "id": "2294156e-6b47-4ee9-8e64-9dfc56892854",
   "metadata": {},
   "outputs": [],
   "source": [
    "b = db.from_sequence(nc_files, npartitions=worker_max)"
   ]
  },
  {
   "cell_type": "code",
   "execution_count": 40,
   "id": "b0c7ca00-3a99-4873-9745-b7f226f3c12b",
   "metadata": {},
   "outputs": [],
   "source": [
    "b1 = b.map(gen_json)"
   ]
  },
  {
   "cell_type": "code",
   "execution_count": null,
   "id": "c9c5616b-a54f-4d29-90c7-c4e8cd6eb757",
   "metadata": {},
   "outputs": [],
   "source": [
    "%%time\n",
    "_ = b1.compute(retries=10)"
   ]
  },
  {
   "cell_type": "code",
   "execution_count": 44,
   "id": "18d12a50-e08e-48f7-bffb-9c85bb42bfd3",
   "metadata": {},
   "outputs": [],
   "source": [
    "json_list = fs_write.glob(f'{json_dir}/*.json')  "
   ]
  },
  {
   "cell_type": "code",
   "execution_count": 45,
   "id": "b458fbfa-5151-49e0-9257-1d0d7746d547",
   "metadata": {},
   "outputs": [
    {
     "name": "stdout",
     "output_type": "stream",
     "text": [
      "387\n"
     ]
    }
   ],
   "source": [
    "print(len(json_list))"
   ]
  },
  {
   "cell_type": "code",
   "execution_count": null,
   "id": "22e320e4-4a6d-4d65-9051-f9a8b56b5c5c",
   "metadata": {},
   "outputs": [],
   "source": []
  }
 ],
 "metadata": {
  "kernelspec": {
   "display_name": "users-users-pangeo",
   "language": "python",
   "name": "conda-env-users-users-pangeo-py"
  },
  "language_info": {
   "codemirror_mode": {
    "name": "ipython",
    "version": 3
   },
   "file_extension": ".py",
   "mimetype": "text/x-python",
   "name": "python",
   "nbconvert_exporter": "python",
   "pygments_lexer": "ipython3",
   "version": "3.10.10"
  },
  "widgets": {
   "application/vnd.jupyter.widget-state+json": {
    "state": {},
    "version_major": 2,
    "version_minor": 0
   }
  }
 },
 "nbformat": 4,
 "nbformat_minor": 5
}
