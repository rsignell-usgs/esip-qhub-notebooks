{
 "cells": [
  {
   "cell_type": "markdown",
   "id": "6cdaeaee-dc4c-44d9-8762-d86e70606260",
   "metadata": {},
   "source": [
    "# Make NOAN NetCDF file CF-Compliant"
   ]
  },
  {
   "cell_type": "code",
   "execution_count": null,
   "id": "b2d5adf1-842c-4738-9261-dead634e9d62",
   "metadata": {},
   "outputs": [],
   "source": [
    "import xarray as xr\n",
    "import hvplot.xarray\n",
    "import pandas as pd"
   ]
  },
  {
   "cell_type": "code",
   "execution_count": null,
   "id": "f61bb1eb-f655-4e99-92e7-6513de3fb04f",
   "metadata": {},
   "outputs": [],
   "source": [
    "file = '/home/jovyan/shared/noan_sm_d_1981.nc'"
   ]
  },
  {
   "cell_type": "code",
   "execution_count": null,
   "id": "89b9ebb8-9bc1-4c5c-95e0-4b82c9dea8fc",
   "metadata": {},
   "outputs": [],
   "source": [
    "ds = xr.open_dataset(file)"
   ]
  },
  {
   "cell_type": "code",
   "execution_count": null,
   "id": "8de38698-dca2-4586-8f59-1849c5b90687",
   "metadata": {
    "tags": []
   },
   "outputs": [],
   "source": [
    "ds"
   ]
  },
  {
   "cell_type": "markdown",
   "id": "8ef9dfe2-f57f-480b-b4cf-93c598219a44",
   "metadata": {},
   "source": [
    "#### Problems to fix\n",
    "* the longitude and latitude values are in global attributes instead of variables\n",
    "* there is no time coordinate\n",
    "* no attribute information for variables"
   ]
  },
  {
   "cell_type": "code",
   "execution_count": null,
   "id": "2904f3ee-496c-4bca-a80c-36a03797747f",
   "metadata": {},
   "outputs": [],
   "source": [
    "ds['lon'] = ds.Lon   \n",
    "ds['lat'] = ds.Lat\n",
    "\n",
    "attrs = ds.attrs\n",
    "del attrs['Lon']\n",
    "del attrs['Lat']\n",
    "\n",
    "ds = ds.assign_attrs(attrs)"
   ]
  },
  {
   "cell_type": "code",
   "execution_count": null,
   "id": "21f18e18-11f1-41fa-92cb-c6b259ac09e5",
   "metadata": {},
   "outputs": [],
   "source": [
    "dates = pd.date_range(start='1981-01-01 12:00',end='1981-12-31 12:00', freq='1d')\n",
    "ds['time'] = dates\n",
    "ds = ds.swap_dims({'time':'JD'})\n",
    "ds = ds.rename({'JD':'time'})"
   ]
  },
  {
   "cell_type": "code",
   "execution_count": null,
   "id": "695078a6-da58-44f6-8305-7cf01d630bc6",
   "metadata": {},
   "outputs": [],
   "source": [
    "ds['lon'] = ds['lon'].assign_attrs({'standard_name':'longitude', 'units':'degrees_east'})\n",
    "ds['lat'] = ds['lat'].assign_attrs({'standard_name':'latitude', 'units':'degrees_north'})\n",
    "\n",
    "# Mike: see if there is are appropriate standard_names for the data variables at\n",
    "# https://cfconventions.org/Data/cf-standard-names/77/build/cf-standard-name-table.html\n",
    "\n",
    "#ds['SoilM_0_10cm'].assign_attrs({'standard_name':'change_me', 'units':'change_me'})"
   ]
  },
  {
   "cell_type": "code",
   "execution_count": null,
   "id": "ef07a3ef-a5ab-4cc1-ba0d-09b179b123e7",
   "metadata": {},
   "outputs": [],
   "source": [
    "ds"
   ]
  },
  {
   "cell_type": "code",
   "execution_count": null,
   "id": "32e40281-29a7-4390-94b0-c0554a31c16d",
   "metadata": {},
   "outputs": [],
   "source": [
    "%%time\n",
    "fixed_nc = 'new.nc'\n",
    "ds.to_netcdf(fixed_nc, mode='w')"
   ]
  },
  {
   "cell_type": "markdown",
   "id": "4821aa11-cd29-4fbc-b04d-011e40af5673",
   "metadata": {},
   "source": [
    "#### Try using new fixed file"
   ]
  },
  {
   "cell_type": "code",
   "execution_count": null,
   "id": "4a35a223-59f7-4606-b750-42629b4465ef",
   "metadata": {},
   "outputs": [],
   "source": [
    "ds1 = xr.open_dataset(fixed_nc)"
   ]
  },
  {
   "cell_type": "code",
   "execution_count": null,
   "id": "713ed41d-7210-4384-93f4-96b7868b17e5",
   "metadata": {},
   "outputs": [],
   "source": [
    "ds1"
   ]
  },
  {
   "cell_type": "code",
   "execution_count": null,
   "id": "9d128a7a-e62f-402c-9881-32b2cfddfe59",
   "metadata": {},
   "outputs": [],
   "source": [
    "var = 'SoilM_0_10cm'"
   ]
  },
  {
   "cell_type": "code",
   "execution_count": null,
   "id": "521f680d-5c2a-4024-b433-a02545ef98e4",
   "metadata": {},
   "outputs": [],
   "source": [
    "ds1[var].sel(time='1981-01-11 12:00').hvplot(x='lon', y='lat', geo=True, \n",
    "                                             rasterize=True, cmap='turbo_r', \n",
    "                                             tiles='OSM', alpha=0.7)"
   ]
  }
 ],
 "metadata": {
  "kernelspec": {
   "display_name": "Python [conda env:pangeo]",
   "language": "python",
   "name": "conda-env-pangeo-py"
  },
  "language_info": {
   "codemirror_mode": {
    "name": "ipython",
    "version": 3
   },
   "file_extension": ".py",
   "mimetype": "text/x-python",
   "name": "python",
   "nbconvert_exporter": "python",
   "pygments_lexer": "ipython3",
   "version": "3.9.7"
  }
 },
 "nbformat": 4,
 "nbformat_minor": 5
}
