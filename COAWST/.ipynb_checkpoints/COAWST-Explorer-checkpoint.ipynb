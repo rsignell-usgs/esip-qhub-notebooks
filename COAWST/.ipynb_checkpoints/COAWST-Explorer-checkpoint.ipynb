{
 "cells": [
  {
   "cell_type": "markdown",
   "metadata": {},
   "source": [
    "# COAWST Explorer\n",
    "The Coupled Ocean Atmosphere Wave and Sediment Transport (COAWST) model is a two-way coupled framework. Here we investigate the COAWST forecast for the East and Gulf Coasts, visualizing the data using the [holoviz](holoviz.org) tools. "
   ]
  },
  {
   "cell_type": "code",
   "execution_count": null,
   "metadata": {},
   "outputs": [],
   "source": [
    "import xarray as xr"
   ]
  },
  {
   "cell_type": "code",
   "execution_count": null,
   "metadata": {},
   "outputs": [],
   "source": [
    "url = 'http://geoport.usgs.esipfed.org/thredds/dodsC/coawst_4/use/fmrc/coawst_4_use_best.ncd'\n",
    "ds = xr.open_dataset(url)"
   ]
  },
  {
   "cell_type": "markdown",
   "metadata": {},
   "source": [
    "Find all the data variables that depend on time (and are not time `bounds`)"
   ]
  },
  {
   "cell_type": "code",
   "execution_count": null,
   "metadata": {},
   "outputs": [],
   "source": [
    "time_vars = []\n",
    "for var in ds.data_vars:\n",
    "    if len(ds[var].dims) > 0:\n",
    "        if 'time' in ds[var].dims[0] and not 'bounds' in var:\n",
    "            time_vars.append(var)"
   ]
  },
  {
   "cell_type": "markdown",
   "metadata": {},
   "source": [
    "Read the coordinate reference system (crs) using metpy"
   ]
  },
  {
   "cell_type": "code",
   "execution_count": null,
   "metadata": {},
   "outputs": [],
   "source": [
    "init_var = 'temp'"
   ]
  },
  {
   "cell_type": "code",
   "execution_count": null,
   "metadata": {},
   "outputs": [],
   "source": [
    "ds"
   ]
  },
  {
   "cell_type": "markdown",
   "metadata": {},
   "source": [
    "Import the [holoviz](https://holoviz.org) tools we need"
   ]
  },
  {
   "cell_type": "code",
   "execution_count": null,
   "metadata": {},
   "outputs": [],
   "source": [
    "from cartopy import crs as ccrs\n",
    "import hvplot.xarray\n",
    "import holoviews as hv\n",
    "from geoviews import tile_sources as gvts\n",
    "import panel as pn"
   ]
  },
  {
   "cell_type": "markdown",
   "metadata": {},
   "source": [
    "Create widget for variable selection"
   ]
  },
  {
   "cell_type": "code",
   "execution_count": null,
   "metadata": {},
   "outputs": [],
   "source": [
    "var_select = pn.widgets.Select(name='COAWST Variables:', options=time_vars, \n",
    "                               value=init_var)"
   ]
  },
  {
   "cell_type": "markdown",
   "metadata": {},
   "source": [
    "Create widget for basemap selection"
   ]
  },
  {
   "cell_type": "code",
   "execution_count": null,
   "metadata": {},
   "outputs": [],
   "source": [
    "base_map_select = pn.widgets.Select(name='Basemap:', options=gvts.tile_sources, value=gvts.OSM)"
   ]
  },
  {
   "cell_type": "markdown",
   "metadata": {},
   "source": [
    "Create a color mesh plot in Lambert Conformal coordinates with `hvplot` and `cartopy`"
   ]
  },
  {
   "cell_type": "markdown",
   "metadata": {
    "slideshow": {
     "slide_type": "slide"
    }
   },
   "source": [
    "The `plot` function below creates the `hvplot` panel layout object.  We specify a basemap, pick the `quadmesh` plot type for the selected variable, and indicate we want to `rasterize` the plot so that we can render massive meshes in the browser. We also specify the `groupby` parameter as the list of dimensions that remains after we remove Y and X: `ds[var].dims[:-2]`, which automatically handles variables with either dimensions [T, Y, X] or [T, Z, Y, X].  We also specify which `bokeh` controls we want to be active by default:  the `wheel_zoom` and `pan` controls.\n",
    "\n",
    "We also change the default slider to a selection widget for the `time` dimension so that specific times are easy to select.  See https://stackoverflow.com/a/54912917/2005869"
   ]
  },
  {
   "cell_type": "code",
   "execution_count": null,
   "metadata": {},
   "outputs": [],
   "source": [
    "@pn.depends(var_select, base_map_select)\n",
    "def plot(var, base_map):\n",
    "    extra_dims = list(ds[var].dims[:-2])\n",
    "    mesh = ds[var].isel(time=slice(-40,-1)).hvplot.quadmesh(x='lon_rho', y='lat_rho', rasterize=True, geo=True, title=var,\n",
    "                                   attr_labels=False, \n",
    "                                   fields={'s_rho': {'default': float(ds.s_rho[-1].values)}},\n",
    "                                   groupby=extra_dims, cmap='turbo',\n",
    "                                   width=600, height=400).opts(alpha=0.7,\n",
    "                                   data_aspect=None, active_tools=['wheel_zoom', 'pan'])\n",
    "    return pn.panel(mesh * base_map, widgets={k: pn.widgets.Select for k in extra_dims})"
   ]
  },
  {
   "cell_type": "code",
   "execution_count": null,
   "metadata": {},
   "outputs": [],
   "source": [
    "col = pn.Column(var_select, base_map_select, plot)"
   ]
  },
  {
   "cell_type": "markdown",
   "metadata": {},
   "source": [
    "We use `.servable()` below not only to display the panel object, but to makes the panel servable outside the notebook via:  `panel serve COAWST-Explorer.ipynb`"
   ]
  },
  {
   "cell_type": "code",
   "execution_count": null,
   "metadata": {},
   "outputs": [],
   "source": [
    "col.servable('COAWST Dashboard')"
   ]
  }
 ],
 "metadata": {
  "kernelspec": {
   "display_name": "Python [conda env:pangeo]",
   "language": "python",
   "name": "conda-env-pangeo-py"
  },
  "language_info": {
   "codemirror_mode": {
    "name": "ipython",
    "version": 3
   },
   "file_extension": ".py",
   "mimetype": "text/x-python",
   "name": "python",
   "nbconvert_exporter": "python",
   "pygments_lexer": "ipython3",
   "version": "3.8.10"
  }
 },
 "nbformat": 4,
 "nbformat_minor": 4
}
