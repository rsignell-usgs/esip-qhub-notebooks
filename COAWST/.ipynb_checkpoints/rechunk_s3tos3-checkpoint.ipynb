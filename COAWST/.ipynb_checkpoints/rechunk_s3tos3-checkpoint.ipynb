{
 "cells": [
  {
   "cell_type": "markdown",
   "id": "8e453809-e3e2-4940-9195-a8d7fe624b8b",
   "metadata": {},
   "source": [
    "# Try rechunking from Zarr-on-S3 to Zarr-on-S3"
   ]
  },
  {
   "cell_type": "code",
   "execution_count": null,
   "id": "7763271d-c7bd-4b06-a879-6ff3c8002b35",
   "metadata": {},
   "outputs": [],
   "source": [
    "import fsspec\n",
    "import xarray as xr\n",
    "import hvplot.xarray\n",
    "import numpy as np\n",
    "import dask\n",
    "import zarr"
   ]
  },
  {
   "cell_type": "code",
   "execution_count": null,
   "id": "1b4ef1c4-314c-4462-8ada-d6fbaa6dc960",
   "metadata": {},
   "outputs": [],
   "source": [
    "import rechunker\n",
    "rechunker.__version__"
   ]
  },
  {
   "cell_type": "code",
   "execution_count": null,
   "id": "d5f162ec-9d6f-436f-a4a7-222d3605a07b",
   "metadata": {},
   "outputs": [],
   "source": [
    "fs = fsspec.filesystem('s3', anon=False)"
   ]
  },
  {
   "cell_type": "code",
   "execution_count": null,
   "id": "4501882e-a8cb-4aaa-b200-00fa0c95a0b9",
   "metadata": {},
   "outputs": [],
   "source": [
    "import s3fs\n",
    "s3fs.core.setup_logging('CRITICAL')"
   ]
  },
  {
   "cell_type": "code",
   "execution_count": null,
   "id": "5a00b20b-e684-42a9-806f-b059bb408e47",
   "metadata": {},
   "outputs": [],
   "source": [
    "from dask_gateway import Gateway"
   ]
  },
  {
   "cell_type": "code",
   "execution_count": null,
   "id": "826b3a1a-31a6-459d-b3e5-b8e5b88aad64",
   "metadata": {},
   "outputs": [],
   "source": [
    "gateway = Gateway()"
   ]
  },
  {
   "cell_type": "code",
   "execution_count": null,
   "id": "50f01980-b6bc-4c87-942a-dbe3f4265985",
   "metadata": {},
   "outputs": [],
   "source": [
    "gateway.cluster_options()"
   ]
  },
  {
   "cell_type": "code",
   "execution_count": null,
   "id": "eb28a21c-91d4-4da8-b46d-03c0e40c42c5",
   "metadata": {},
   "outputs": [],
   "source": [
    "import sys, os\n",
    "sys.path.append(os.path.join(os.environ['HOME'],'shared','users','lib'))\n",
    "import ebdpy as ebd\n",
    "ebd.set_credentials(profile='esip-qhub')\n",
    "\n",
    "aws_profile = 'esip-qhub'\n",
    "aws_region = 'us-west-2'\n",
    "endpoint = f's3.{aws_region}.amazonaws.com'\n",
    "ebd.set_credentials(profile=aws_profile, region=aws_region, endpoint=endpoint)\n",
    "worker_max = 60\n",
    "client,cluster = ebd.start_dask_cluster(profile=aws_profile, worker_max=worker_max, \n",
    "                                      region=aws_region, use_existing_cluster=False,\n",
    "                                      adaptive_scaling=False, wait_for_cluster=False, \n",
    "                                      environment='pangeodev', worker_profile='Large Worker', \n",
    "                                      propagate_env=True)     #client.close(); cluster.close();"
   ]
  },
  {
   "cell_type": "raw",
   "id": "09a235e9-e62d-45f3-9ff4-a92ff8c9bd70",
   "metadata": {},
   "source": [
    "import gc\n",
    "from distributed import WorkerPlugin\n",
    "\n",
    "class WorkerExplicitGC(WorkerPlugin):\n",
    "    def setup(self, worker):\n",
    "        self.worker = worker\n",
    "        gc.disable()             \n",
    "\n",
    "    def transition(self, key, start, finish, *args, **kwargs):\n",
    "       if finish == 'executing':\n",
    "          self.worker._throttled_gc.collect()\n",
    "          if gc.isenabled():\n",
    "             gc.disable()\n",
    "\n",
    "plugin = WorkerExplicitGC()\n",
    "client.register_worker_plugin(plugin)"
   ]
  },
  {
   "cell_type": "code",
   "execution_count": null,
   "id": "63e9a017-248d-42f3-8f80-22c4ae5c1c32",
   "metadata": {},
   "outputs": [],
   "source": [
    "source_store = fs.get_mapper('s3://esip-qhub/usgs/COAWST/surface_vars/')"
   ]
  },
  {
   "cell_type": "code",
   "execution_count": null,
   "id": "d4b392d8-9189-43b7-ab96-16cfbb67ffb5",
   "metadata": {},
   "outputs": [],
   "source": [
    "%%time\n",
    "ds = xr.open_zarr(source_store, consolidated=True)"
   ]
  },
  {
   "cell_type": "code",
   "execution_count": null,
   "id": "2cee482e-cd1d-4050-a5dc-bc20879d20c7",
   "metadata": {},
   "outputs": [],
   "source": [
    "ds['Hwave']"
   ]
  },
  {
   "cell_type": "code",
   "execution_count": null,
   "id": "cb83210a-c42b-4153-8e39-5deb0468f3e3",
   "metadata": {},
   "outputs": [],
   "source": [
    "def delete_s3(url):\n",
    "    fs1 = fsspec.open(url, anon=False).fs\n",
    "    if fs1.exists(url):\n",
    "        fs1.rm(url, recursive=True)"
   ]
  },
  {
   "cell_type": "code",
   "execution_count": null,
   "id": "3ef717f0-9be0-43d6-8233-f75f6f9c1af3",
   "metadata": {},
   "outputs": [],
   "source": [
    "s3_target_store = 's3://esip-qhub/usgs/zarr/new/step2.zarr'\n",
    "s3_temp_store = 's3://esip-qhub/usgs/zarr/tmp/temp2.zarr'"
   ]
  },
  {
   "cell_type": "code",
   "execution_count": null,
   "id": "e8a2029b-272c-4b0c-869f-a8d99848c268",
   "metadata": {},
   "outputs": [],
   "source": [
    "%%time\n",
    "delete_s3(s3_target_store)\n",
    "delete_s3(s3_temp_store)"
   ]
  },
  {
   "cell_type": "code",
   "execution_count": null,
   "id": "b7b3934b-cd5c-49c2-b272-38fe86f2735c",
   "metadata": {},
   "outputs": [],
   "source": [
    "fs.ls(s3_target_store)"
   ]
  },
  {
   "cell_type": "code",
   "execution_count": null,
   "id": "862bed47-6a25-4d06-a14d-97905716e97a",
   "metadata": {},
   "outputs": [],
   "source": [
    "fs.ls(s3_temp_store)"
   ]
  },
  {
   "cell_type": "code",
   "execution_count": null,
   "id": "5404bde8-50a8-434b-8b1d-5e04cb726faa",
   "metadata": {},
   "outputs": [],
   "source": [
    "target_store = fsspec.get_mapper(s3_target_store, anon=False)\n",
    "temp_store = fsspec.get_mapper(s3_temp_store, anon=False)"
   ]
  },
  {
   "cell_type": "markdown",
   "id": "f5c9b6aa-886e-497a-9f25-0f9d647b1d14",
   "metadata": {},
   "source": [
    "### Try writing to Zarr on S3 without rechunker"
   ]
  },
  {
   "cell_type": "code",
   "execution_count": null,
   "id": "8ab73ab4-168e-4800-9dce-e2afcf3c1de7",
   "metadata": {},
   "outputs": [],
   "source": [
    "%%time\n",
    "ds[['Hwave','zeta']].isel(ocean_time=slice(0,10)).to_zarr(target_store, consolidated=True)"
   ]
  },
  {
   "cell_type": "markdown",
   "id": "d4fa024e-2560-4991-b471-ef883be93833",
   "metadata": {},
   "source": [
    "#### Check a value in the input dataset:"
   ]
  },
  {
   "cell_type": "code",
   "execution_count": null,
   "id": "1021583c-4703-421f-b1b4-17379c221ad3",
   "metadata": {},
   "outputs": [],
   "source": [
    "ds.Hwave[5,100,100].values"
   ]
  },
  {
   "cell_type": "markdown",
   "id": "81cdaa0b-3b0d-4204-8d46-bfa5a623c9fe",
   "metadata": {},
   "source": [
    "#### Check same value in the output dataset:"
   ]
  },
  {
   "cell_type": "code",
   "execution_count": null,
   "id": "6045fcb5-8c81-4734-9126-1798b67a922f",
   "metadata": {},
   "outputs": [],
   "source": [
    "xr.open_dataset(target_store, engine='zarr')['Hwave'][5,100,100].values"
   ]
  },
  {
   "cell_type": "markdown",
   "id": "8900f961-aa1c-4a5b-baa9-3a6a3704e0e0",
   "metadata": {},
   "source": [
    "#### Good!  They agree.  So delete this test so we can create an output dataset using rechunker"
   ]
  },
  {
   "cell_type": "code",
   "execution_count": null,
   "id": "d02f39e9-68c9-4a07-9ba8-ae19bbd71a60",
   "metadata": {},
   "outputs": [],
   "source": [
    "%%time\n",
    "delete_s3(s3_target_store)\n",
    "delete_s3(s3_temp_store)"
   ]
  },
  {
   "cell_type": "code",
   "execution_count": null,
   "id": "04a9b4f9-f15f-46f9-9eb0-f8c132fbe90b",
   "metadata": {},
   "outputs": [],
   "source": [
    "fs.ls(s3_target_store)"
   ]
  },
  {
   "cell_type": "markdown",
   "id": "422491e8-eed9-4dcc-b1d6-09a2ea271423",
   "metadata": {},
   "source": [
    "### Rechunk the whole dataset using rechunker"
   ]
  },
  {
   "cell_type": "code",
   "execution_count": null,
   "id": "2285af08-1897-42ac-b221-5bef88cba192",
   "metadata": {},
   "outputs": [],
   "source": [
    "max_mem = '3.0GB'    # workers are 4GB, max_mem should be set to 75% or less"
   ]
  },
  {
   "cell_type": "code",
   "execution_count": null,
   "id": "f89693eb-dddf-49b2-a181-3305388a349d",
   "metadata": {},
   "outputs": [],
   "source": [
    "client"
   ]
  },
  {
   "cell_type": "code",
   "execution_count": null,
   "id": "3c6897d4-ae28-4472-8c64-3439d5733bc1",
   "metadata": {},
   "outputs": [],
   "source": [
    "def rechunker_wrapper(source_store, target_store, temp_store, chunks=None,\n",
    "                      mem=None, consolidated=False, verbose=True):\n",
    "\n",
    "    if isinstance(source_store, xr.Dataset):\n",
    "        g = source_store  # trying to work directly with a dataset\n",
    "        ds_chunk = g\n",
    "    else:\n",
    "        g = zarr.group(str(source_store))\n",
    "        # get the correct shape from loading the store as xr.dataset and parse the chunks\n",
    "        ds_chunk = xr.open_zarr(str(source_store))\n",
    "        \n",
    "\n",
    "    group_chunks = {}\n",
    "    # newer tuple version that also takes into account when specified chunks are larger than the array\n",
    "    for var in ds_chunk.variables:\n",
    "        # pick appropriate chunks from above, and default to full length chunks for dimensions that are not in `chunks` above.\n",
    "        group_chunks[var] = []\n",
    "        for di in ds_chunk[var].dims:\n",
    "            if di in chunks.keys():\n",
    "                if chunks[di] > len(ds_chunk[di]):\n",
    "                    group_chunks[var].append(len(ds_chunk[di]))\n",
    "                else:\n",
    "                    group_chunks[var].append(chunks[di])\n",
    "\n",
    "            else:\n",
    "                group_chunks[var].append(len(ds_chunk[di]))\n",
    "\n",
    "        group_chunks[var] = tuple(group_chunks[var])\n",
    "    if verbose:\n",
    "        print(f\"Rechunking to: {group_chunks}\")\n",
    "        print(f\"mem:{mem}\")\n",
    "    rechunked = rechunker.rechunk(g, target_chunks=group_chunks, max_mem=mem,\n",
    "                                  target_store=target_store, temp_store=temp_store)\n",
    "    rechunked.execute(retries=10)\n",
    "    if consolidated:\n",
    "        if verbose:\n",
    "            print('consolidating metadata')\n",
    "        zarr.convenience.consolidate_metadata(target_store)\n",
    "    if verbose:\n",
    "        print('done')"
   ]
  },
  {
   "cell_type": "code",
   "execution_count": null,
   "id": "5bddd1c6-df27-431d-8dcc-3284e051a36f",
   "metadata": {},
   "outputs": [],
   "source": [
    "#client.close(); cluster.shutdown()"
   ]
  },
  {
   "cell_type": "code",
   "execution_count": null,
   "id": "4de80076-cafa-441e-acfa-2ea67a534153",
   "metadata": {},
   "outputs": [],
   "source": [
    "#np.diff(ds.ocean_time).min()/(3600*1000*1000*1000)"
   ]
  },
  {
   "cell_type": "code",
   "execution_count": null,
   "id": "3fa12455-6ab8-4137-838b-aac3146053b3",
   "metadata": {},
   "outputs": [],
   "source": [
    "%%time\n",
    "ds_sub = ds[['Hwave','zeta']].isel(ocean_time=slice(0,654*103))\n",
    "\n",
    "rechunker_wrapper(ds_sub, target_store=target_store, temp_store=temp_store, \n",
    "                  mem=max_mem, consolidated=True, verbose=True,\n",
    "              chunks={'ocean_time':654*103, 'eta_rho':25, 'xi_rho':25})"
   ]
  },
  {
   "cell_type": "code",
   "execution_count": null,
   "id": "57e1f525-6b26-4652-914b-e8dcdac397c1",
   "metadata": {},
   "outputs": [],
   "source": [
    "#%%time \n",
    "#ds_sub = ds[['Hwave','zeta']]\n",
    "#rechunker_wrapper(ds_sub, target_store=target_store, temp_store=temp_store, \n",
    "#                  mem=max_mem, consolidated=True, verbose=False,\n",
    "#              chunks={'ocean_time':67375, 'eta_rho':25, 'xi_rho':25})"
   ]
  },
  {
   "cell_type": "code",
   "execution_count": null,
   "id": "519c7b0d-f0bb-4976-8a85-16dc899859d9",
   "metadata": {},
   "outputs": [],
   "source": [
    "654"
   ]
  },
  {
   "cell_type": "code",
   "execution_count": null,
   "id": "4c71eacc-d811-4366-b061-4f76cac0ad55",
   "metadata": {},
   "outputs": [],
   "source": [
    "ds_new = xr.open_zarr(target_store, consolidated=True)"
   ]
  },
  {
   "cell_type": "code",
   "execution_count": null,
   "id": "9ca49494-f927-44c2-9955-38ea21765afc",
   "metadata": {},
   "outputs": [],
   "source": [
    "ds_new.Hwave"
   ]
  },
  {
   "cell_type": "code",
   "execution_count": null,
   "id": "079e47b6-3b27-4215-ba65-09d2caa87844",
   "metadata": {},
   "outputs": [],
   "source": [
    "ds_new.Hwave[5,100,100].values"
   ]
  },
  {
   "cell_type": "code",
   "execution_count": null,
   "id": "3216926c-4d06-4b2b-ac7c-a4ccf416b040",
   "metadata": {},
   "outputs": [],
   "source": [
    "a = ds_new['Hwave'].quantile(q=np.linspace(0, 1, num=21), dim='ocean_time')                      "
   ]
  },
  {
   "cell_type": "code",
   "execution_count": null,
   "id": "ca69a00a-bb27-40f5-b743-0257400f6be3",
   "metadata": {},
   "outputs": [],
   "source": [
    "%%time\n",
    "b = dask.compute(a, retries=10)[0]"
   ]
  },
  {
   "cell_type": "code",
   "execution_count": null,
   "id": "a94b17e0-58c3-4e82-9574-729008419487",
   "metadata": {},
   "outputs": [],
   "source": [
    "b"
   ]
  },
  {
   "cell_type": "code",
   "execution_count": null,
   "id": "f905491a-1a04-4bfd-9db3-77202390ad17",
   "metadata": {},
   "outputs": [],
   "source": [
    "b.to_dataset(name='Hwave').to_netcdf('Hwave_quantile3.nc', 'w')"
   ]
  },
  {
   "cell_type": "code",
   "execution_count": null,
   "id": "40be9c48-a8b9-42cf-96ea-f429f0778f98",
   "metadata": {},
   "outputs": [],
   "source": [
    "c = b.sel(quantile=0.45, method='nearest')\n",
    "c.where(c>0).hvplot.quadmesh(x='lon_rho', y='lat_rho', geo=True, frame_height=400,\n",
    "                  rasterize=True, cmap='turbo', tiles='OSM')"
   ]
  },
  {
   "cell_type": "code",
   "execution_count": null,
   "id": "cdc714ce-f124-4f14-bdcd-cf5f9dc205c3",
   "metadata": {},
   "outputs": [],
   "source": [
    "ds_nc = xr.open_dataset('Hwave_quantile3.nc')\n",
    "c = ds_nc.Hwave.sel(quantile=0.45, method='nearest')\n",
    "c.where(c>0).plot()"
   ]
  },
  {
   "cell_type": "code",
   "execution_count": null,
   "id": "3238cc6c-4905-4d2d-8ce3-3307a1f42ce1",
   "metadata": {},
   "outputs": [],
   "source": [
    "#client.close(); cluster.shutdown()"
   ]
  },
  {
   "cell_type": "code",
   "execution_count": null,
   "id": "0083f918-79d1-4fe4-9c27-85305a6791a0",
   "metadata": {},
   "outputs": [],
   "source": []
  }
 ],
 "metadata": {
  "kernelspec": {
   "display_name": "Python [conda env:pangeodev]",
   "language": "python",
   "name": "conda-env-pangeodev-py"
  },
  "language_info": {
   "codemirror_mode": {
    "name": "ipython",
    "version": 3
   },
   "file_extension": ".py",
   "mimetype": "text/x-python",
   "name": "python",
   "nbconvert_exporter": "python",
   "pygments_lexer": "ipython3",
   "version": "3.9.7"
  }
 },
 "nbformat": 4,
 "nbformat_minor": 5
}
