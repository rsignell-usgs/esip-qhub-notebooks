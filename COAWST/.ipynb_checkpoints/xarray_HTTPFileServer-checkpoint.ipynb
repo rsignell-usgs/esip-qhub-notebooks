{
 "cells": [
  {
   "cell_type": "markdown",
   "id": "509e06ba-af61-4ccb-bd67-d6475c3e559c",
   "metadata": {},
   "source": [
    "# Extract NetCDF4 data from a regular HTTP web server into Xarray\n",
    "Use xarray to extract data from NetCDF4 files on a regular web server using the [fsspec HTTPFileSystem class](https://filesystem-spec.readthedocs.io/en/latest/api.html?highlight=HTTPfilesystem#fsspec.implementations.http.HTTPFileSystem)\n",
    "\n",
    "**Note: The web server must be configured to support byte-range requests**"
   ]
  },
  {
   "cell_type": "code",
   "execution_count": null,
   "id": "c877195e-6f57-4302-b99f-1846d8433463",
   "metadata": {},
   "outputs": [],
   "source": [
    "import fsspec\n",
    "import xarray as xr\n",
    "import hvplot.xarray"
   ]
  },
  {
   "cell_type": "code",
   "execution_count": null,
   "id": "077da923-7c3d-41cd-a23c-fedb0a1208a7",
   "metadata": {},
   "outputs": [],
   "source": [
    "fs = fsspec.filesystem('https')"
   ]
  },
  {
   "cell_type": "code",
   "execution_count": null,
   "id": "7625799a-a2c5-45e9-a044-6c1bd58a9641",
   "metadata": {},
   "outputs": [],
   "source": [
    "url = 'https://geoport.usgs.esipfed.org/thredds/fileServer/vortexfs1/usgs/Projects/COAWST/2021/coawst_us_20210712_13.nc'"
   ]
  },
  {
   "cell_type": "code",
   "execution_count": null,
   "id": "62094a7d-3e91-4376-a132-dc32f39f7bce",
   "metadata": {},
   "outputs": [],
   "source": [
    "ds = xr.open_dataset(fs.open(url), engine='h5netcdf')"
   ]
  },
  {
   "cell_type": "code",
   "execution_count": null,
   "id": "e9c7cb11-d531-48f2-8323-0097db1eb205",
   "metadata": {},
   "outputs": [],
   "source": [
    "ds.temp"
   ]
  },
  {
   "cell_type": "code",
   "execution_count": null,
   "id": "b66928e9-18c9-4f4a-9d19-c4e0a561e301",
   "metadata": {},
   "outputs": [],
   "source": [
    "ds.temp.hvplot.quadmesh(x='lon_rho', y='lat_rho', geo=True, rasterize=True, tiles='OSM', cmap='turbo')"
   ]
  },
  {
   "cell_type": "code",
   "execution_count": null,
   "id": "c01de87d-838c-4790-b5ab-0f0df572b2ef",
   "metadata": {},
   "outputs": [],
   "source": []
  }
 ],
 "metadata": {
  "kernelspec": {
   "display_name": "Python [conda env:pangeo]",
   "language": "python",
   "name": "conda-env-pangeo-py"
  },
  "language_info": {
   "codemirror_mode": {
    "name": "ipython",
    "version": 3
   },
   "file_extension": ".py",
   "mimetype": "text/x-python",
   "name": "python",
   "nbconvert_exporter": "python",
   "pygments_lexer": "ipython3",
   "version": "3.8.10"
  }
 },
 "nbformat": 4,
 "nbformat_minor": 5
}
