{
 "cells": [
  {
   "cell_type": "code",
   "execution_count": null,
   "id": "f3b1e9a2-0ddd-42bf-be74-19c6e1fb4ba3",
   "metadata": {},
   "outputs": [],
   "source": [
    "import fsspec"
   ]
  },
  {
   "cell_type": "code",
   "execution_count": null,
   "id": "399787d1-245e-4590-8bf2-0951c2bb0d6b",
   "metadata": {},
   "outputs": [],
   "source": [
    "url = 'http://tds.renci.org:8080/thredds/fileServer/Reanalysis/ADCIRC/ERA5/fr3/2018/fort.63.nc4'"
   ]
  },
  {
   "cell_type": "code",
   "execution_count": null,
   "id": "de469fb0-41df-44d4-b1ae-e5c3ac05b07b",
   "metadata": {},
   "outputs": [],
   "source": [
    "fs1 = fsspec.filesystem('https')"
   ]
  },
  {
   "cell_type": "code",
   "execution_count": null,
   "id": "a8788fba-5816-411a-bdf9-303514878df0",
   "metadata": {},
   "outputs": [],
   "source": [
    "fs2 = fsspec.filesystem('s3', anon=False, profile='esip-qhub')"
   ]
  },
  {
   "cell_type": "code",
   "execution_count": null,
   "id": "51ef0dd7-499c-4f5f-b5ff-db4624980dfa",
   "metadata": {},
   "outputs": [],
   "source": [
    "fs1.ls('http://tds.renci.org:8080/thredds/fileServer/Reanalysis/ADCIRC/ERA5/fr3/2018')"
   ]
  },
  {
   "cell_type": "code",
   "execution_count": null,
   "id": "2feb3076-c4ad-49f2-9422-f41ec2583868",
   "metadata": {},
   "outputs": [],
   "source": []
  }
 ],
 "metadata": {
  "kernelspec": {
   "display_name": "Python [conda env:pangeo]",
   "language": "python",
   "name": "conda-env-pangeo-py"
  },
  "language_info": {
   "codemirror_mode": {
    "name": "ipython",
    "version": 3
   },
   "file_extension": ".py",
   "mimetype": "text/x-python",
   "name": "python",
   "nbconvert_exporter": "python",
   "pygments_lexer": "ipython3",
   "version": "3.9.7"
  }
 },
 "nbformat": 4,
 "nbformat_minor": 5
}
