{
 "cells": [
  {
   "cell_type": "code",
   "execution_count": null,
   "metadata": {},
   "outputs": [],
   "source": [
    "import pandas as pd\n",
    "import os\n",
    "import json\n",
    "import requests\n",
    "import datetime\n",
    "import itertools"
   ]
  },
  {
   "cell_type": "code",
   "execution_count": null,
   "metadata": {},
   "outputs": [],
   "source": [
    "sat_api_url = \"https://landsatlook.usgs.gov/sat-api/stac/search\""
   ]
  },
  {
   "cell_type": "code",
   "execution_count": null,
   "metadata": {},
   "outputs": [],
   "source": [
    "#checking to see if sat api is there\n",
    "response = requests.get(sat_api_url)\n",
    "response"
   ]
  },
  {
   "cell_type": "code",
   "execution_count": null,
   "metadata": {},
   "outputs": [],
   "source": [
    "#checking for response\n",
    "response.json()"
   ]
  },
  {
   "cell_type": "code",
   "execution_count": null,
   "metadata": {},
   "outputs": [],
   "source": [
    "#this will fetch query/do pangination\n",
    "def fetch_sat_api(query):\n",
    "    headers = {\n",
    "        \"Content-Type\": \"application/json\",\n",
    "        \"Accept-Encoding\": \"gzip\",\n",
    "        \"Accept\": \"application/geo+json\",\n",
    "    }\n",
    "\n",
    "    url = \"https://landsatlook.usgs.gov/sat-api/stac/search/\"\n",
    "    data = requests.post(url, headers=headers, json=query).json()\n",
    "    error = data.get(\"message\", \"\")\n",
    "    if error:\n",
    "        raise Exception(f\"SAT-API failed and returned: {error}\")\n",
    "\n",
    "    meta = data.get(\"meta\", {})\n",
    "    if not meta.get(\"found\"):\n",
    "        return []\n",
    "    print(meta)\n",
    "\n",
    "    features = data[\"features\"]\n",
    "    if data[\"links\"]:\n",
    "        curr_page = int(meta[\"page\"])\n",
    "        query[\"page\"] = curr_page + 1\n",
    "        query[\"limit\"] = meta[\"limit\"]\n",
    "\n",
    "        features = list(itertools.chain(features, fetch_sat_api(query)))\n",
    "\n",
    "    return features"
   ]
  },
  {
   "cell_type": "code",
   "execution_count": null,
   "metadata": {},
   "outputs": [],
   "source": [
    "#query\n",
    "#getting JSON Decode error? This process worked in ST not sure of the difference here\n",
    "date_min=\"2020-01-01\"\n",
    "date_max=\"2020-10-24\"\n",
    "\n",
    "start = datetime.datetime.strptime(date_min, \"%Y-%m-%d\").strftime(\"%Y-%m-%dT00:00:00Z\")\n",
    "end = datetime.datetime.strptime(date_max, \"%Y-%m-%d\").strftime(\"%Y-%m-%dT23:59:59Z\")\n",
    "\n",
    "query = {\n",
    "    \"time\": f\"{start}/{end}\",\n",
    "    \n",
    "    \"limit\": 500 # We limit to 500 items per Page (requests) to make sure sat-api doesn't fail to return big features collection\n",
    "}\n",
    "\n",
    "features = fetch_sat_api(query)"
   ]
  },
  {
   "cell_type": "markdown",
   "metadata": {},
   "source": [
    "This is old stuff from when I had this working. I think the Stac records have changed formats since then so, this should be updated."
   ]
  },
  {
   "cell_type": "code",
   "execution_count": null,
   "metadata": {},
   "outputs": [],
   "source": [
    "df = pd.DataFrame(features)\n",
    "\n",
    "ids = []\n",
    "for item in df['id']:\n",
    "    ids.append(item)\n",
    "\n",
    "dates = []\n",
    "for item in df['properties']:\n",
    "    dates.append(item['datetime'])"
   ]
  },
  {
   "cell_type": "code",
   "execution_count": null,
   "metadata": {},
   "outputs": [],
   "source": [
    "ids = pd.DataFrame(ids, columns = ['Product ID'])\n",
    "dates = pd.DataFrame(dates, columns = ['Date'])"
   ]
  },
  {
   "cell_type": "code",
   "execution_count": null,
   "metadata": {},
   "outputs": [],
   "source": [
    "df= pd.concat([ids, dates], axis = 1)"
   ]
  },
  {
   "cell_type": "code",
   "execution_count": null,
   "metadata": {},
   "outputs": [],
   "source": [
    "df"
   ]
  },
  {
   "cell_type": "code",
   "execution_count": null,
   "metadata": {},
   "outputs": [],
   "source": [
    "df.to_csv('IT_List.csv')"
   ]
  },
  {
   "cell_type": "code",
   "execution_count": null,
   "metadata": {},
   "outputs": [],
   "source": []
  }
 ],
 "metadata": {
  "kernelspec": {
   "display_name": "Python [conda env:pangeo]",
   "language": "python",
   "name": "conda-env-pangeo-py"
  },
  "language_info": {
   "codemirror_mode": {
    "name": "ipython",
    "version": 3
   },
   "file_extension": ".py",
   "mimetype": "text/x-python",
   "name": "python",
   "nbconvert_exporter": "python",
   "pygments_lexer": "ipython3",
   "version": "3.8.10"
  }
 },
 "nbformat": 4,
 "nbformat_minor": 4
}
