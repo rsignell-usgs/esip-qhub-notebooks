{
 "cells": [
  {
   "cell_type": "markdown",
   "metadata": {},
   "source": [
    "# Peru Goldmining - Madre De Dios Region\n",
    "\n",
    "Example on how to use the Sentinel-1 to look at changes over time in a cloudy region.   Here we use datacubes of Sentinel-1 data, processed by Earth Big Data onto the same tiling system used by Sentinel 2, and stored in Zarr format with 20 time steps in each chunk.\n",
    "\n",
    "Authors: Josef Kellndorfer (Earth Big Data) and Rich Signell (USGS)"
   ]
  },
  {
   "cell_type": "markdown",
   "metadata": {},
   "source": [
    "#### Import modules"
   ]
  },
  {
   "cell_type": "code",
   "execution_count": null,
   "metadata": {},
   "outputs": [],
   "source": [
    "import os\n",
    "import xarray as xr\n",
    "import numpy as np\n",
    "import pandas as pd\n",
    "import fsspec\n",
    "import hvplot.xarray\n",
    "import panel as pn\n",
    "import holoviews as hv\n",
    "import satsearch"
   ]
  },
  {
   "cell_type": "code",
   "execution_count": null,
   "metadata": {},
   "outputs": [],
   "source": [
    "# import logging\n",
    "# logging.getLogger(\"param.main\").setLevel(logging.CRITICAL)\n",
    "import warnings\n",
    "warnings.filterwarnings(\"ignore\")"
   ]
  },
  {
   "cell_type": "code",
   "execution_count": null,
   "metadata": {},
   "outputs": [],
   "source": [
    "# User defined functions\n",
    "def time_label_from_idx(ds,idx):\n",
    "    label=''\n",
    "    for i in idx:\n",
    "        t = ds.isel({'time':i})\n",
    "        l =f'{t.time.values}'.split('T')[0]\n",
    "        label += f'{l} '\n",
    "    return label"
   ]
  },
  {
   "cell_type": "markdown",
   "metadata": {},
   "source": [
    "#### Create or connect to a Dask Gateway Cluster"
   ]
  },
  {
   "cell_type": "code",
   "execution_count": null,
   "metadata": {},
   "outputs": [],
   "source": [
    "from dask_gateway import Gateway\n",
    "from dask.distributed import Client\n",
    "\n",
    "gateway = Gateway()\n",
    "gateway.list_clusters()\n",
    "if gateway.list_clusters():\n",
    "    print('Existing Dask clusters:')\n",
    "    for c in gateway.list_clusters():\n",
    "        print('Cluster Name:',c.name,c.status)\n",
    "else:\n",
    "    print('No Cluster running.')"
   ]
  },
  {
   "cell_type": "code",
   "execution_count": null,
   "metadata": {},
   "outputs": [],
   "source": [
    "# New or connect:\n",
    "# If no cluster is running, create a new one, else connect to the first one found (idx=0, change if other cluster should be running)\n",
    "idx=0\n",
    "if not gateway.list_clusters():\n",
    "    cluster = gateway.new_cluster(environment='pangeo', profile='Small Worker')\n",
    "else:\n",
    "    cluster=gateway.connect(gateway.list_clusters()[idx].name)  "
   ]
  },
  {
   "cell_type": "code",
   "execution_count": null,
   "metadata": {},
   "outputs": [],
   "source": [
    "cluster.scale(10)"
   ]
  },
  {
   "cell_type": "code",
   "execution_count": null,
   "metadata": {},
   "outputs": [],
   "source": [
    "client = Client(cluster)     # Creating the cluster is not enough.  Dask always needs a client to attach to the cluster!"
   ]
  },
  {
   "cell_type": "code",
   "execution_count": null,
   "metadata": {},
   "outputs": [],
   "source": [
    "cluster"
   ]
  },
  {
   "cell_type": "markdown",
   "metadata": {},
   "source": [
    "#### Search STAC using satsearch"
   ]
  },
  {
   "cell_type": "code",
   "execution_count": null,
   "metadata": {},
   "outputs": [],
   "source": [
    "es_url = 'https://earth-search.aws.element84.com/v0'"
   ]
  },
  {
   "cell_type": "markdown",
   "metadata": {},
   "source": [
    "Search for all data "
   ]
  },
  {
   "cell_type": "code",
   "execution_count": null,
   "metadata": {},
   "outputs": [],
   "source": [
    "dates = '2017-01-01/2020-12-02'\n",
    "results = satsearch.Search.search(url = es_url, collections=['sentinel-s2-l2a-cogs'],       \n",
    "                datetime=dates,  \n",
    "                query = {'sentinel:utm_zone': {'eq':19}, 'sentinel:latitude_band': {'eq':'L'}, \n",
    "                'sentinel:grid_square': {'eq':'CF'}})\n",
    "print('%s items' % results.found())"
   ]
  },
  {
   "cell_type": "markdown",
   "metadata": {},
   "source": [
    "Search for all data with less than 5% clouds (only clear images)"
   ]
  },
  {
   "cell_type": "code",
   "execution_count": null,
   "metadata": {},
   "outputs": [],
   "source": [
    "dates = '2017-01-01/2020-12-02'\n",
    "results = satsearch.Search.search(url = es_url, collections=['sentinel-s2-l2a-cogs'],       \n",
    "                datetime=dates, query={'eo:cloud_cover': {'lt':5}, \n",
    "                'sentinel:utm_zone': {'eq':19}, 'sentinel:latitude_band': {'eq':'L'}, \n",
    "                'sentinel:grid_square': {'eq':'CF'}})\n",
    "print('%s items' % results.found())"
   ]
  },
  {
   "cell_type": "markdown",
   "metadata": {},
   "source": [
    "Since it's mostly cloudy in this region, let's use SAR data for time series"
   ]
  },
  {
   "cell_type": "markdown",
   "metadata": {},
   "source": [
    "#### Data Cube from Sentinel 1\n",
    "Cloud-friendly Zarr format on AWS S3, loaded into xarray"
   ]
  },
  {
   "cell_type": "code",
   "execution_count": null,
   "metadata": {},
   "outputs": [],
   "source": [
    "fs = fsspec.filesystem('s3', requester_pays=True)\n",
    "\n",
    "zarrPrefix='s3://esip-qhub/ebd/sentinel-1-l22/zarr/mgrs/'\n",
    "tile='19LCF'\n",
    "nameres='20m'"
   ]
  },
  {
   "cell_type": "code",
   "execution_count": null,
   "metadata": {},
   "outputs": [],
   "source": [
    "zfiles=fs.ls(zarrPrefix+tile+'/'+nameres)\n",
    "print('Zarr File')\n",
    "for zfile in zfiles:\n",
    "    print(f's3://{zfile}')"
   ]
  },
  {
   "cell_type": "markdown",
   "metadata": {},
   "source": [
    "#### Open the files and Scale the SAR data to calibrated $\\gamma^{0}$ backscatter\n",
    "\n",
    "To convert between dB, amplitude, and power units in SAR data:\n",
    "\n",
    "$\\gamma^0[dB] = 10*log_{10}(\\gamma^0[power])$\n",
    "\n",
    "$\\gamma^0[dB] = 10*log_{10}(\\gamma^0[amplitude]^2)$\n",
    "\n",
    "\n",
    "We store the data as linearly scaled amplitude (DN) in 16bit with a calibration factor of -83 dB according to\n",
    "\n",
    "$\\gamma^0[dB]=10*log_{10}(DN^2)-83$\n",
    "\n",
    "Thus, in order to convert the data to power units (required for analysis when averaging or other mathmatical operations are involved) we need to apply the following formula:\n",
    "\n",
    "$\\gamma^0[power] = DN^2*CAL$ with $CAL=10^{-8.3}$\n"
   ]
  },
  {
   "cell_type": "code",
   "execution_count": null,
   "metadata": {},
   "outputs": [],
   "source": [
    "CAL=np.power(10,-8.3)\n",
    "dslist=[]\n",
    "for z in zfiles:\n",
    "    fsz=fs.get_mapper(z)\n",
    "    ds=xr.open_zarr(fsz,consolidated=True)\n",
    "    # Convert scaled Amplitudes to linear power backscatter (and retaining the attributes)\n",
    "    attrs=ds.attrs.copy()\n",
    "    ds=(np.power(ds.astype(np.float32,keep_attrs=True),2)*CAL)\n",
    "    ds = ds.where(ds>0) # Set data <= 0 to NaN\n",
    "    ds.attrs=attrs\n",
    "    dslist.append(ds)"
   ]
  },
  {
   "cell_type": "code",
   "execution_count": null,
   "metadata": {},
   "outputs": [],
   "source": [
    "idx = 3\n",
    "ds=dslist[idx]"
   ]
  },
  {
   "cell_type": "code",
   "execution_count": null,
   "metadata": {},
   "outputs": [],
   "source": [
    "print(ds)"
   ]
  },
  {
   "cell_type": "markdown",
   "metadata": {},
   "source": [
    "How many Gigabytes in size is this dataset?"
   ]
  },
  {
   "cell_type": "code",
   "execution_count": null,
   "metadata": {},
   "outputs": [],
   "source": [
    "ds.nbytes/1e9"
   ]
  },
  {
   "cell_type": "markdown",
   "metadata": {},
   "source": [
    "#### Display with time displayed in a Selection Widget"
   ]
  },
  {
   "cell_type": "code",
   "execution_count": null,
   "metadata": {},
   "outputs": [],
   "source": [
    "clim=(2000,8000)\n",
    "clim=(0.001,0.3)"
   ]
  },
  {
   "cell_type": "code",
   "execution_count": null,
   "metadata": {},
   "outputs": [],
   "source": [
    "crs = ds.crs.split('=')[-1]\n",
    "print(crs)"
   ]
  },
  {
   "cell_type": "code",
   "execution_count": null,
   "metadata": {},
   "outputs": [],
   "source": [
    "ds.hvplot.image(x='x', y='y', cmap='gray', rasterize=True, clim=clim,\n",
    "                xlabel='Easting [m]',ylabel='Northing [m]',\n",
    "                fields={'time': {'default': ds.time.values[-1]}},\n",
    "                frame_width=400, groupby='time', widgets={'time':pn.widgets.Select}, \n",
    "                crs=crs, tiles='ESRI',\n",
    "                xformatter='%.0f', yformatter='%.0f', data_aspect=1, legend=True, padding=0.1)"
   ]
  },
  {
   "cell_type": "markdown",
   "metadata": {},
   "source": [
    "#### Display a subset with time in an Animation (Scrubber) Widget"
   ]
  },
  {
   "cell_type": "code",
   "execution_count": null,
   "metadata": {},
   "outputs": [],
   "source": [
    "ds_mines = ds.isel(x=slice(1000,5490), y=slice(0,2400))"
   ]
  },
  {
   "cell_type": "code",
   "execution_count": null,
   "metadata": {},
   "outputs": [],
   "source": [
    "ds_mines.hvplot.image(x='x',y='y',cmap='gray',\n",
    "            rasterize=True,clim=clim,xlabel='Easting [m]',\n",
    "            ylabel='Northing [m]', frame_width=600,groupby='time',\n",
    "            widget_type='scrubber',widget_location='bottom',\n",
    "            xformatter='%.0f',yformatter='%.0f',data_aspect=1, padding=0.1)"
   ]
  },
  {
   "cell_type": "markdown",
   "metadata": {},
   "source": [
    "#### Pick 1st image, midpoint image, and last image"
   ]
  },
  {
   "cell_type": "code",
   "execution_count": null,
   "metadata": {},
   "outputs": [],
   "source": [
    "mid=int(ds.dims['time']/2)\n",
    "idx=[0,mid,-1]\n",
    "time1 = ds.isel({'time':idx[0]})\n",
    "time2 = ds.isel({'time':idx[1]})\n",
    "time3 = ds.isel({'time':idx[2]})"
   ]
  },
  {
   "cell_type": "code",
   "execution_count": null,
   "metadata": {},
   "outputs": [],
   "source": [
    "label_first = f'{time1.time.values}'.split('T')[0]\n",
    "label_last = f'{time3.time.values}'.split('T')[0]"
   ]
  },
  {
   "cell_type": "code",
   "execution_count": null,
   "metadata": {},
   "outputs": [],
   "source": [
    "first = time1.load().hvplot.image(x='x',y='y',cmap='gray',rasterize=True,clim=clim,xlabel='Easting [m]',ylabel='Northing [m]',\n",
    "                                  label=label_first,frame_width=300,data_aspect=1)\n",
    "last = time3.load().hvplot.image(x='x',y='y',cmap='gray',rasterize=True,clim=clim,xlabel='Easting [m]',ylabel='Northing [m]',\n",
    "                                 label=label_last,frame_width=300,data_aspect=1)"
   ]
  },
  {
   "cell_type": "markdown",
   "metadata": {},
   "source": [
    "#### plot first and last side by side"
   ]
  },
  {
   "cell_type": "code",
   "execution_count": null,
   "metadata": {},
   "outputs": [],
   "source": [
    "(first + last)"
   ]
  },
  {
   "cell_type": "markdown",
   "metadata": {},
   "source": [
    "#### plot change as RGB, where yellow is change during 1st period, red is change during 2nd period"
   ]
  },
  {
   "cell_type": "code",
   "execution_count": null,
   "metadata": {},
   "outputs": [],
   "source": [
    "RGB=ds.isel({'time':idx})"
   ]
  },
  {
   "cell_type": "code",
   "execution_count": null,
   "metadata": {},
   "outputs": [],
   "source": [
    "print(RGB)"
   ]
  },
  {
   "cell_type": "code",
   "execution_count": null,
   "metadata": {},
   "outputs": [],
   "source": [
    "rgb=RGB\n",
    "rgb=rgb.where(rgb>0,0)\n",
    "rgb=rgb.where(rgb<1,1)"
   ]
  },
  {
   "cell_type": "code",
   "execution_count": null,
   "metadata": {},
   "outputs": [],
   "source": [
    "rgb.load().hvplot.rgb(rasterize=True,x='x',y='y',xlabel='Easting [m]',ylabel='Northing [m]',\n",
    "            label='RGB: '+time_label_from_idx(ds,idx),frame_width=500,\n",
    "            xformatter='%.0f',yformatter='%.0f',data_aspect=1)"
   ]
  },
  {
   "cell_type": "markdown",
   "metadata": {},
   "source": [
    "## Extract interactive time series by clicking on map:\n",
    "https://discourse.holoviz.org/t/simple-panel-example-of-map-time-series-interaction-for-data-cube/1485/2\n"
   ]
  },
  {
   "cell_type": "code",
   "execution_count": null,
   "metadata": {},
   "outputs": [],
   "source": [
    "clim = (0.01, 0.3)"
   ]
  },
  {
   "cell_type": "code",
   "execution_count": null,
   "metadata": {},
   "outputs": [],
   "source": [
    "image=ds_mines.hvplot.image(x='x', y='y', cmap='gray', rasterize=True, clim=clim,\n",
    "                    xlabel='Easting [m]', ylabel='Northing [m]', frame_width=600, \n",
    "                    groupby='time', fields={'time': {'default': ds.time.values[-1]}},\n",
    "                    xformatter='%.0f', yformatter='%.0f', data_aspect=1, legend=True)"
   ]
  },
  {
   "cell_type": "code",
   "execution_count": null,
   "metadata": {},
   "outputs": [],
   "source": [
    "def timeseries(x,y):\n",
    "    hvlist=[]\n",
    "    for ds in dslist:\n",
    "        dB=10*np.log10(ds.sel(x=x, y=y, method='nearest'))\n",
    "        name=' '.join(list(ds.data_vars.variables.keys())[0].split('_')[2:5])\n",
    "        hvlist.append(dB.hvplot('time', ylim=[-25,0], label=name, legend='left', \n",
    "                                ylabel='gamma_naught [dB]', xlabel='Date', grid=True))\n",
    "    return hv.Overlay(hvlist).opts(show_legend=True, legend_position='right')"
   ]
  },
  {
   "cell_type": "code",
   "execution_count": null,
   "metadata": {},
   "outputs": [],
   "source": [
    "stream = hv.streams.Tap(source=image, x=0, y=0)"
   ]
  },
  {
   "cell_type": "markdown",
   "metadata": {},
   "source": [
    "Note: Once we create the stream, it seems like any changes require restarting the kernel.  We had hoped that clearing the stream would help, but it does not seem to. "
   ]
  },
  {
   "cell_type": "code",
   "execution_count": null,
   "metadata": {},
   "outputs": [],
   "source": [
    "viz = pn.Column(image,pn.bind(timeseries, x=stream.param.x, y=stream.param.y))"
   ]
  },
  {
   "cell_type": "code",
   "execution_count": null,
   "metadata": {},
   "outputs": [],
   "source": [
    "viz.servable('Peru Gold Mining Dashboard')"
   ]
  },
  {
   "cell_type": "markdown",
   "metadata": {},
   "source": [
    "Shut things down to be friendly:"
   ]
  },
  {
   "cell_type": "code",
   "execution_count": null,
   "metadata": {},
   "outputs": [],
   "source": [
    "client.close()"
   ]
  },
  {
   "cell_type": "code",
   "execution_count": null,
   "metadata": {},
   "outputs": [],
   "source": [
    "cluster.shutdown() "
   ]
  },
  {
   "cell_type": "code",
   "execution_count": null,
   "metadata": {},
   "outputs": [],
   "source": [
    "cluster.status"
   ]
  },
  {
   "cell_type": "code",
   "execution_count": null,
   "metadata": {},
   "outputs": [],
   "source": []
  }
 ],
 "metadata": {
  "kernelspec": {
   "display_name": "Python [conda env:pangeo]",
   "language": "python",
   "name": "conda-env-pangeo-py"
  },
  "language_info": {
   "codemirror_mode": {
    "name": "ipython",
    "version": 3
   },
   "file_extension": ".py",
   "mimetype": "text/x-python",
   "name": "python",
   "nbconvert_exporter": "python",
   "pygments_lexer": "ipython3",
   "version": "3.8.10"
  }
 },
 "nbformat": 4,
 "nbformat_minor": 4
}
